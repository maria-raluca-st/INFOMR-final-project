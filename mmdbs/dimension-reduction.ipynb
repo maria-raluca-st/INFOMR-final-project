{
 "cells": [
  {
   "cell_type": "code",
   "execution_count": 24,
   "metadata": {},
   "outputs": [],
   "source": [
    "import pandas as pd\n",
    "from matplotlib import figure\n",
    "import matplotlib.pyplot as plt\n",
    "import numpy as np\n",
    "import seaborn as sns\n",
    "import sklearn\n",
    "import plotly.express as px\n",
    "from sklearn.manifold import TSNE\n",
    "from sklearn.preprocessing import StandardScaler\n"
   ]
  },
  {
   "cell_type": "code",
   "execution_count": 2,
   "metadata": {},
   "outputs": [
    {
     "data": {
      "text/html": [
       "<div>\n",
       "<style scoped>\n",
       "    .dataframe tbody tr th:only-of-type {\n",
       "        vertical-align: middle;\n",
       "    }\n",
       "\n",
       "    .dataframe tbody tr th {\n",
       "        vertical-align: top;\n",
       "    }\n",
       "\n",
       "    .dataframe thead th {\n",
       "        text-align: right;\n",
       "    }\n",
       "</style>\n",
       "<table border=\"1\" class=\"dataframe\">\n",
       "  <thead>\n",
       "    <tr style=\"text-align: right;\">\n",
       "      <th></th>\n",
       "      <th>mesh_name</th>\n",
       "      <th>class</th>\n",
       "      <th>area</th>\n",
       "      <th>volume</th>\n",
       "      <th>rectangularity</th>\n",
       "      <th>compactness</th>\n",
       "      <th>convexity</th>\n",
       "      <th>eccentricity</th>\n",
       "      <th>diameter</th>\n",
       "      <th>A3_bin_0</th>\n",
       "      <th>...</th>\n",
       "      <th>D4_bin_center_20</th>\n",
       "      <th>D4_bin_center_21</th>\n",
       "      <th>D4_bin_center_22</th>\n",
       "      <th>D4_bin_center_23</th>\n",
       "      <th>D4_bin_center_24</th>\n",
       "      <th>D4_bin_center_25</th>\n",
       "      <th>D4_bin_center_26</th>\n",
       "      <th>D4_bin_center_27</th>\n",
       "      <th>D4_bin_center_28</th>\n",
       "      <th>D4_bin_center_29</th>\n",
       "    </tr>\n",
       "  </thead>\n",
       "  <tbody>\n",
       "    <tr>\n",
       "      <th>0</th>\n",
       "      <td>m1337.obj</td>\n",
       "      <td>AircraftBuoyant</td>\n",
       "      <td>2.567595</td>\n",
       "      <td>0.338307</td>\n",
       "      <td>0.401367</td>\n",
       "      <td>1.307688</td>\n",
       "      <td>0.859908</td>\n",
       "      <td>1.143945</td>\n",
       "      <td>1.033568</td>\n",
       "      <td>0.000000</td>\n",
       "      <td>...</td>\n",
       "      <td>0.666667</td>\n",
       "      <td>0.7</td>\n",
       "      <td>0.733333</td>\n",
       "      <td>0.766667</td>\n",
       "      <td>0.8</td>\n",
       "      <td>0.833333</td>\n",
       "      <td>0.866667</td>\n",
       "      <td>0.9</td>\n",
       "      <td>0.933333</td>\n",
       "      <td>0.966667</td>\n",
       "    </tr>\n",
       "    <tr>\n",
       "      <th>1</th>\n",
       "      <td>m1338.obj</td>\n",
       "      <td>AircraftBuoyant</td>\n",
       "      <td>3.314142</td>\n",
       "      <td>0.359405</td>\n",
       "      <td>0.391703</td>\n",
       "      <td>2.491678</td>\n",
       "      <td>0.836037</td>\n",
       "      <td>1.798762</td>\n",
       "      <td>1.047357</td>\n",
       "      <td>0.002276</td>\n",
       "      <td>...</td>\n",
       "      <td>0.666667</td>\n",
       "      <td>0.7</td>\n",
       "      <td>0.733333</td>\n",
       "      <td>0.766667</td>\n",
       "      <td>0.8</td>\n",
       "      <td>0.833333</td>\n",
       "      <td>0.866667</td>\n",
       "      <td>0.9</td>\n",
       "      <td>0.933333</td>\n",
       "      <td>0.966667</td>\n",
       "    </tr>\n",
       "    <tr>\n",
       "      <th>2</th>\n",
       "      <td>m1339.obj</td>\n",
       "      <td>AircraftBuoyant</td>\n",
       "      <td>3.172938</td>\n",
       "      <td>0.263182</td>\n",
       "      <td>0.677445</td>\n",
       "      <td>4.077757</td>\n",
       "      <td>1.562505</td>\n",
       "      <td>4.874752</td>\n",
       "      <td>1.000015</td>\n",
       "      <td>0.009857</td>\n",
       "      <td>...</td>\n",
       "      <td>0.666667</td>\n",
       "      <td>0.7</td>\n",
       "      <td>0.733333</td>\n",
       "      <td>0.766667</td>\n",
       "      <td>0.8</td>\n",
       "      <td>0.833333</td>\n",
       "      <td>0.866667</td>\n",
       "      <td>0.9</td>\n",
       "      <td>0.933333</td>\n",
       "      <td>0.966667</td>\n",
       "    </tr>\n",
       "    <tr>\n",
       "      <th>3</th>\n",
       "      <td>m1340.obj</td>\n",
       "      <td>AircraftBuoyant</td>\n",
       "      <td>0.561321</td>\n",
       "      <td>0.027836</td>\n",
       "      <td>0.217335</td>\n",
       "      <td>2.018231</td>\n",
       "      <td>0.610430</td>\n",
       "      <td>12.169459</td>\n",
       "      <td>0.999651</td>\n",
       "      <td>0.017274</td>\n",
       "      <td>...</td>\n",
       "      <td>0.666667</td>\n",
       "      <td>0.7</td>\n",
       "      <td>0.733333</td>\n",
       "      <td>0.766667</td>\n",
       "      <td>0.8</td>\n",
       "      <td>0.833333</td>\n",
       "      <td>0.866667</td>\n",
       "      <td>0.9</td>\n",
       "      <td>0.933333</td>\n",
       "      <td>0.966667</td>\n",
       "    </tr>\n",
       "    <tr>\n",
       "      <th>4</th>\n",
       "      <td>m1341.obj</td>\n",
       "      <td>AircraftBuoyant</td>\n",
       "      <td>0.671115</td>\n",
       "      <td>0.035075</td>\n",
       "      <td>0.251780</td>\n",
       "      <td>2.172427</td>\n",
       "      <td>0.686432</td>\n",
       "      <td>8.510702</td>\n",
       "      <td>0.998808</td>\n",
       "      <td>0.017117</td>\n",
       "      <td>...</td>\n",
       "      <td>0.666667</td>\n",
       "      <td>0.7</td>\n",
       "      <td>0.733333</td>\n",
       "      <td>0.766667</td>\n",
       "      <td>0.8</td>\n",
       "      <td>0.833333</td>\n",
       "      <td>0.866667</td>\n",
       "      <td>0.9</td>\n",
       "      <td>0.933333</td>\n",
       "      <td>0.966667</td>\n",
       "    </tr>\n",
       "  </tbody>\n",
       "</table>\n",
       "<p>5 rows × 309 columns</p>\n",
       "</div>"
      ],
      "text/plain": [
       "   mesh_name            class      area    volume  rectangularity  \\\n",
       "0  m1337.obj  AircraftBuoyant  2.567595  0.338307        0.401367   \n",
       "1  m1338.obj  AircraftBuoyant  3.314142  0.359405        0.391703   \n",
       "2  m1339.obj  AircraftBuoyant  3.172938  0.263182        0.677445   \n",
       "3  m1340.obj  AircraftBuoyant  0.561321  0.027836        0.217335   \n",
       "4  m1341.obj  AircraftBuoyant  0.671115  0.035075        0.251780   \n",
       "\n",
       "   compactness  convexity  eccentricity  diameter  A3_bin_0  ...  \\\n",
       "0     1.307688   0.859908      1.143945  1.033568  0.000000  ...   \n",
       "1     2.491678   0.836037      1.798762  1.047357  0.002276  ...   \n",
       "2     4.077757   1.562505      4.874752  1.000015  0.009857  ...   \n",
       "3     2.018231   0.610430     12.169459  0.999651  0.017274  ...   \n",
       "4     2.172427   0.686432      8.510702  0.998808  0.017117  ...   \n",
       "\n",
       "   D4_bin_center_20  D4_bin_center_21  D4_bin_center_22  D4_bin_center_23  \\\n",
       "0          0.666667               0.7          0.733333          0.766667   \n",
       "1          0.666667               0.7          0.733333          0.766667   \n",
       "2          0.666667               0.7          0.733333          0.766667   \n",
       "3          0.666667               0.7          0.733333          0.766667   \n",
       "4          0.666667               0.7          0.733333          0.766667   \n",
       "\n",
       "   D4_bin_center_24  D4_bin_center_25  D4_bin_center_26  D4_bin_center_27  \\\n",
       "0               0.8          0.833333          0.866667               0.9   \n",
       "1               0.8          0.833333          0.866667               0.9   \n",
       "2               0.8          0.833333          0.866667               0.9   \n",
       "3               0.8          0.833333          0.866667               0.9   \n",
       "4               0.8          0.833333          0.866667               0.9   \n",
       "\n",
       "   D4_bin_center_28  D4_bin_center_29  \n",
       "0          0.933333          0.966667  \n",
       "1          0.933333          0.966667  \n",
       "2          0.933333          0.966667  \n",
       "3          0.933333          0.966667  \n",
       "4          0.933333          0.966667  \n",
       "\n",
       "[5 rows x 309 columns]"
      ]
     },
     "execution_count": 2,
     "metadata": {},
     "output_type": "execute_result"
    }
   ],
   "source": [
    "df = pd.read_csv(\"mesh_features.csv\")\n",
    "df.head()"
   ]
  },
  {
   "cell_type": "code",
   "execution_count": 56,
   "metadata": {},
   "outputs": [],
   "source": [
    "def chunk_classes(classlist,size=10):\n",
    "    k = 0 #chunk index\n",
    "    j = 0 #chunk internal index\n",
    "    curchunk = []\n",
    "    chunks = []\n",
    "    for i in range(0,len(classlist)):\n",
    "        j = i%size\n",
    "        if(j==0 and i!=0):\n",
    "            k+=1\n",
    "            chunks.append(curchunk)\n",
    "            curchunk=[]\n",
    "        curchunk.append(classlist[i])\n",
    "\n",
    "    return chunks\n",
    "\n",
    "chunks = chunk_classes(df[\"class\"].unique())\n",
    "\n"
   ]
  },
  {
   "cell_type": "code",
   "execution_count": 37,
   "metadata": {},
   "outputs": [],
   "source": [
    "non_hist_features = [\n",
    "    \"area\",\n",
    "    \"volume\",\n",
    "    \"rectangularity\",\n",
    "    \"compactness\",\n",
    "    \"convexity\",\n",
    "    \"eccentricity\",\n",
    "    \"diameter\",\n",
    "]"
   ]
  },
  {
   "cell_type": "code",
   "execution_count": 38,
   "metadata": {},
   "outputs": [],
   "source": [
    "scaler = StandardScaler()\n",
    "Y = df[[\"mesh_name\",\"class\"]]\n",
    "drops=[\"mesh_name\",\"class\"]\n",
    "X = df.drop(drops,axis=1)\n",
    "X = X.reset_index(drop=True)\n",
    "X[non_hist_features] = (\n",
    "            X[non_hist_features] - X[non_hist_features].mean()\n",
    "        ) / X[non_hist_features].std()\n",
    "#X = scaler.fit_transform(X)\n",
    "#print(X)"
   ]
  },
  {
   "cell_type": "code",
   "execution_count": 39,
   "metadata": {},
   "outputs": [
    {
     "name": "stdout",
     "output_type": "stream",
     "text": [
      "Index(['area', 'volume', 'rectangularity', 'compactness', 'convexity',\n",
      "       'eccentricity', 'diameter', 'A3_bin_0', 'A3_bin_1', 'A3_bin_2',\n",
      "       ...\n",
      "       'D4_bin_center_20', 'D4_bin_center_21', 'D4_bin_center_22',\n",
      "       'D4_bin_center_23', 'D4_bin_center_24', 'D4_bin_center_25',\n",
      "       'D4_bin_center_26', 'D4_bin_center_27', 'D4_bin_center_28',\n",
      "       'D4_bin_center_29'],\n",
      "      dtype='object', length=307)\n"
     ]
    }
   ],
   "source": [
    "print(X.columns)"
   ]
  },
  {
   "cell_type": "code",
   "execution_count": 41,
   "metadata": {},
   "outputs": [],
   "source": [
    "def plot_data(df,xCol,yCol,subset=None, title=\"PCA of High-Dimensional Data\",axis1='Principal Component 1',axis2='Principal Component 2',export_html=True,html_filename=\"plot.html\"):\n",
    "    # Step 3: Scatter Plot\n",
    "    if(subset!=None):\n",
    "        dfsubs = df[df[\"Class\"].isin(subset)]\n",
    "    plt.figure(figsize=(10, 6))\n",
    "    sns.scatterplot(data=dfsubs, x=df[xCol], y=df[yCol], hue='Class', palette=sns.color_palette(), s=70, alpha=0.8)\n",
    "    plt.title(title)\n",
    "    plt.xlabel(axis1)\n",
    "    plt.ylabel(axis2)\n",
    "    plt.legend(title='Class')\n",
    "    plt.grid()\n",
    "    plt.show()\n",
    "\n",
    "\n",
    "\n",
    "def plot_data2(df, xCol, yCol, subset=None, title=\"PCA of High-Dimensional Data\", axis1='Principal Component 1', axis2='Principal Component 2',export_html=True,html_filename=\"plot.html\"):\n",
    "    # Filter the subset if specified\n",
    "    if subset is not None:\n",
    "        df = df[df[\"Class\"].isin(subset)]\n",
    "    \n",
    "    # Create the scatter plot\n",
    "    fig = px.scatter(\n",
    "        df,\n",
    "        x=xCol,\n",
    "        y=yCol,\n",
    "        color=\"Class\",\n",
    "        title=title,\n",
    "        labels={xCol: axis1, yCol: axis2},\n",
    "        hover_data=df.columns  # This will show all columns in the hover text\n",
    "    )\n",
    "    \n",
    "    # Update layout for better visualization\n",
    "    fig.update_layout(\n",
    "        xaxis_title=axis1,\n",
    "        yaxis_title=axis2,\n",
    "        legend_title_text=\"Class\"\n",
    "    )\n",
    "    if export_html:\n",
    "        fig.write_html(\"./plots/\"+html_filename)\n",
    "        print(f\"Plot saved as {html_filename}\")\n",
    "    fig.show()\n",
    "\n",
    "    "
   ]
  },
  {
   "cell_type": "code",
   "execution_count": 61,
   "metadata": {},
   "outputs": [
    {
     "data": {
      "image/png": "[encoded data removed]",
      "text/plain": [
       "<Figure size 1000x600 with 1 Axes>"
      ]
     },
     "metadata": {},
     "output_type": "display_data"
    }
   ],
   "source": [
    "from sklearn.decomposition import PCA\n",
    "\n",
    "pca=PCA(n_components=2)\n",
    "x_trans=pca.fit_transform(X)\n",
    "# Step 2: Create a DataFrame for the PCA results\n",
    "pca_df = pd.DataFrame(data=x_trans, columns=['PCA1', 'PCA2'])\n",
    "pca_df['Class'] = Y['class']  # Add the class labels\n",
    "pca_df['Name']=Y[\"mesh_name\"]\n",
    "plot_data(pca_df,\"PCA1\",\"PCA2\",chunks[0])\n"
   ]
  },
  {
   "cell_type": "code",
   "execution_count": 43,
   "metadata": {},
   "outputs": [
    {
     "name": "stdout",
     "output_type": "stream",
     "text": [
      "Plot saved as plot_tsne_perplexity_10.html\n"
     ]
    },
    {
     "data": {
      "application/vnd.plotly.v1+json": {
       "config": {
        "plotlyServerURL": "https://plot.ly"
       },
       "data": [
        {
         "customdata": [
          [
           "AircraftBuoyant",
           "m1337.obj"
          ],
          [
           "AircraftBuoyant",
           "m1338.obj"
          ],
          [
           "AircraftBuoyant",
           "m1339.obj"
          ],
          [
           "AircraftBuoyant",
           "m1340.obj"
          ],
          [
           "AircraftBuoyant",
           "m1341.obj"
          ],
          [
           "AircraftBuoyant",
           "m1342.obj"
          ],
          [
           "AircraftBuoyant",
           "m1343.obj"
          ],
          [
           "AircraftBuoyant",
           "m1344.obj"
          ],
          [
           "AircraftBuoyant",
           "m1345.obj"
          ],
          [
           "AircraftBuoyant",
           "m1346.obj"
          ],
          [
           "AircraftBuoyant",
           "m1348.obj"
          ],
          [
           "AircraftBuoyant",
           "m1349.obj"
          ],
          [
           "AircraftBuoyant",
           "m1350.obj"
          ],
          [
           "AircraftBuoyant",
           "m1351.obj"
          ],
          [
           "AircraftBuoyant",
           "m1352.obj"
          ]
         ],
         "hovertemplate": "Class=%{customdata[0]}<br>Principal Component 1=%{x}<br>Principal Component 2=%{y}<br>Name=%{customdata[1]}<extra></extra>",
         "legendgroup": "AircraftBuoyant",
         "marker": {
          "color": "#636efa",
          "symbol": "circle"
         },
         "mode": "markers",
         "name": "AircraftBuoyant",
         "orientation": "v",
         "showlegend": true,
         "type": "scatter",
         "x": [
          -12.32275104522705,
          -12.377020835876465,
          -10.357248306274414,
          25.893266677856445,
          31.2557373046875,
          2.9961657524108887,
          -6.894574165344238,
          1.342868447303772,
          -32.17802810668945,
          32.27690887451172,
          32.12990951538086,
          31.952022552490234,
          31.803119659423828,
          40.70416259765625,
          30.860248565673828
         ],
         "xaxis": "x",
         "y": [
          73.06849670410156,
          73.1353988647461,
          77.04095458984375,
          27.06828498840332,
          32.56895065307617,
          65.62942504882812,
          72.17900848388672,
          67.16722869873047,
          -15.379375457763672,
          34.119136810302734,
          34.15978240966797,
          32.89362335205078,
          38.957069396972656,
          42.85365676879883,
          39.4129753112793
         ],
         "yaxis": "y"
        },
        {
         "customdata": [
          [
           "Apartment",
           "D00045.obj"
          ],
          [
           "Apartment",
           "D00086.obj"
          ],
          [
           "Apartment",
           "D00138.obj"
          ],
          [
           "Apartment",
           "D00156.obj"
          ],
          [
           "Apartment",
           "D00310.obj"
          ],
          [
           "Apartment",
           "D00348.obj"
          ],
          [
           "Apartment",
           "D00366.obj"
          ],
          [
           "Apartment",
           "D00478.obj"
          ],
          [
           "Apartment",
           "D00496.obj"
          ],
          [
           "Apartment",
           "D00626.obj"
          ],
          [
           "Apartment",
           "D00639.obj"
          ],
          [
           "Apartment",
           "D00651.obj"
          ],
          [
           "Apartment",
           "D00681.obj"
          ],
          [
           "Apartment",
           "D00780.obj"
          ],
          [
           "Apartment",
           "D00792.obj"
          ],
          [
           "Apartment",
           "D00859.obj"
          ],
          [
           "Apartment",
           "D00860.obj"
          ],
          [
           "Apartment",
           "D00869.obj"
          ],
          [
           "Apartment",
           "D00921.obj"
          ],
          [
           "Apartment",
           "D00953.obj"
          ],
          [
           "Apartment",
           "m463.obj"
          ],
          [
           "Apartment",
           "m464.obj"
          ],
          [
           "Apartment",
           "m465.obj"
          ]
         ],
         "hovertemplate": "Class=%{customdata[0]}<br>Principal Component 1=%{x}<br>Principal Component 2=%{y}<br>Name=%{customdata[1]}<extra></extra>",
         "legendgroup": "Apartment",
         "marker": {
          "color": "#EF553B",
          "symbol": "circle"
         },
         "mode": "markers",
         "name": "Apartment",
         "orientation": "v",
         "showlegend": true,
         "type": "scatter",
         "x": [
          -81.82445526123047,
          -10.863900184631348,
          -53.364688873291016,
          -33.63981246948242,
          -36.98497772216797,
          -15.960129737854004,
          -16.463260650634766,
          -41.081905364990234,
          -55.38275909423828,
          -12.276430130004883,
          -21.54154396057129,
          -33.655517578125,
          -30.998456954956055,
          -6.207372188568115,
          -12.538580894470215,
          22.635114669799805,
          -41.05867004394531,
          -52.17546844482422,
          -5.070270538330078,
          -37.01036834716797,
          -28.335046768188477,
          -21.72182846069336,
          22.662614822387695
         ],
         "xaxis": "x",
         "y": [
          23.622634887695312,
          -11.201513290405273,
          41.306182861328125,
          55.35255813598633,
          40.59974670410156,
          65.21989440917969,
          64.80213165283203,
          12.37303352355957,
          28.23357582092285,
          39.96525573730469,
          56.606449127197266,
          55.340675354003906,
          53.65936279296875,
          46.441402435302734,
          67.99810791015625,
          55.611732482910156,
          12.401079177856445,
          29.408538818359375,
          51.359336853027344,
          33.07695007324219,
          44.18293380737305,
          41.25674819946289,
          69.27912902832031
         ],
         "yaxis": "y"
        },
        {
         "customdata": [
          [
           "AquaticAnimal",
           "m53.obj"
          ],
          [
           "AquaticAnimal",
           "m54.obj"
          ],
          [
           "AquaticAnimal",
           "m55.obj"
          ],
          [
           "AquaticAnimal",
           "m56.obj"
          ],
          [
           "AquaticAnimal",
           "m57.obj"
          ],
          [
           "AquaticAnimal",
           "m58.obj"
          ],
          [
           "AquaticAnimal",
           "m59.obj"
          ],
          [
           "AquaticAnimal",
           "m60.obj"
          ],
          [
           "AquaticAnimal",
           "m61.obj"
          ],
          [
           "AquaticAnimal",
           "m62.obj"
          ],
          [
           "AquaticAnimal",
           "m63.obj"
          ],
          [
           "AquaticAnimal",
           "m64.obj"
          ],
          [
           "AquaticAnimal",
           "m65.obj"
          ],
          [
           "AquaticAnimal",
           "m66.obj"
          ],
          [
           "AquaticAnimal",
           "m67.obj"
          ],
          [
           "AquaticAnimal",
           "m68.obj"
          ],
          [
           "AquaticAnimal",
           "m69.obj"
          ],
          [
           "AquaticAnimal",
           "m70.obj"
          ],
          [
           "AquaticAnimal",
           "m71.obj"
          ],
          [
           "AquaticAnimal",
           "m72.obj"
          ],
          [
           "AquaticAnimal",
           "m73.obj"
          ],
          [
           "AquaticAnimal",
           "m74.obj"
          ],
          [
           "AquaticAnimal",
           "m75.obj"
          ],
          [
           "AquaticAnimal",
           "m76.obj"
          ],
          [
           "AquaticAnimal",
           "m77.obj"
          ],
          [
           "AquaticAnimal",
           "m78.obj"
          ],
          [
           "AquaticAnimal",
           "m79.obj"
          ],
          [
           "AquaticAnimal",
           "m80.obj"
          ],
          [
           "AquaticAnimal",
           "m81.obj"
          ]
         ],
         "hovertemplate": "Class=%{customdata[0]}<br>Principal Component 1=%{x}<br>Principal Component 2=%{y}<br>Name=%{customdata[1]}<extra></extra>",
         "legendgroup": "AquaticAnimal",
         "marker": {
          "color": "#00cc96",
          "symbol": "circle"
         },
         "mode": "markers",
         "name": "AquaticAnimal",
         "orientation": "v",
         "showlegend": true,
         "type": "scatter",
         "x": [
          42.7121467590332,
          48.66069030761719,
          42.81049346923828,
          49.530338287353516,
          48.791587829589844,
          17.481189727783203,
          22.531335830688477,
          26.993932723999023,
          43.85645294189453,
          46.77676773071289,
          -3.250819683074951,
          46.81956481933594,
          14.490278244018555,
          17.96997833251953,
          48.194793701171875,
          45.955753326416016,
          47.459625244140625,
          30.26555061340332,
          32.492984771728516,
          42.368675231933594,
          12.845767974853516,
          31.98923683166504,
          31.770030975341797,
          27.730600357055664,
          18.993560791015625,
          15.344181060791016,
          46.05138397216797,
          31.63441276550293,
          32.549835205078125
         ],
         "xaxis": "x",
         "y": [
          -0.42993107438087463,
          4.318042755126953,
          -0.19214147329330444,
          4.883387088775635,
          4.497849941253662,
          30.438405990600586,
          79.5907211303711,
          -16.98341941833496,
          0.785678505897522,
          2.6223204135894775,
          22.021713256835938,
          2.3695409297943115,
          -31.752147674560547,
          6.570217132568359,
          3.467021942138672,
          -11.821869850158691,
          1.968896746635437,
          -20.78608512878418,
          -8.111783981323242,
          -8.530047416687012,
          -2.7140746116638184,
          -23.36760711669922,
          -22.638683319091797,
          -18.466304779052734,
          -26.654664993286133,
          -26.894180297851562,
          -14.926692008972168,
          -23.48484992980957,
          -23.413291931152344
         ],
         "yaxis": "y"
        },
        {
         "customdata": [
          [
           "Bed",
           "D00031.obj"
          ],
          [
           "Bed",
           "D00110.obj"
          ],
          [
           "Bed",
           "D00121.obj"
          ],
          [
           "Bed",
           "D00184.obj"
          ],
          [
           "Bed",
           "D00210.obj"
          ],
          [
           "Bed",
           "D00213.obj"
          ],
          [
           "Bed",
           "D00217.obj"
          ],
          [
           "Bed",
           "D00307.obj"
          ],
          [
           "Bed",
           "D00322.obj"
          ],
          [
           "Bed",
           "D00417.obj"
          ],
          [
           "Bed",
           "D00538.obj"
          ],
          [
           "Bed",
           "D00545.obj"
          ],
          [
           "Bed",
           "D00552.obj"
          ],
          [
           "Bed",
           "D00565.obj"
          ],
          [
           "Bed",
           "D00650.obj"
          ],
          [
           "Bed",
           "D00735.obj"
          ],
          [
           "Bed",
           "D00836.obj"
          ],
          [
           "Bed",
           "D00839.obj"
          ],
          [
           "Bed",
           "D00969.obj"
          ],
          [
           "Bed",
           "D00988.obj"
          ],
          [
           "Bed",
           "m945.obj"
          ],
          [
           "Bed",
           "m946.obj"
          ],
          [
           "Bed",
           "m947.obj"
          ],
          [
           "Bed",
           "m948.obj"
          ],
          [
           "Bed",
           "m949.obj"
          ],
          [
           "Bed",
           "m950.obj"
          ],
          [
           "Bed",
           "m951.obj"
          ]
         ],
         "hovertemplate": "Class=%{customdata[0]}<br>Principal Component 1=%{x}<br>Principal Component 2=%{y}<br>Name=%{customdata[1]}<extra></extra>",
         "legendgroup": "Bed",
         "marker": {
          "color": "#ab63fa",
          "symbol": "circle"
         },
         "mode": "markers",
         "name": "Bed",
         "orientation": "v",
         "showlegend": true,
         "type": "scatter",
         "x": [
          -53.9824104309082,
          -71.89606475830078,
          -80.03296661376953,
          -24.578880310058594,
          -52.37276840209961,
          -48.964508056640625,
          -57.049617767333984,
          -36.37982177734375,
          -57.82581329345703,
          -56.67851257324219,
          -71.43766784667969,
          -69.50761413574219,
          -68.55961608886719,
          -57.57162857055664,
          -57.09672546386719,
          -56.98250961303711,
          -3.498124599456787,
          -36.250030517578125,
          -65.3871841430664,
          -69.34964752197266,
          -59.31881332397461,
          -57.216331481933594,
          -73.74652862548828,
          -66.86101531982422,
          -66.97786712646484,
          -78.446533203125,
          -78.50250244140625
         ],
         "xaxis": "x",
         "y": [
          28.370040893554688,
          14.35626220703125,
          21.199016571044922,
          66.16130065917969,
          48.33711242675781,
          22.133695602416992,
          1.804589033126831,
          66.45662689208984,
          2.1083173751831055,
          28.49944305419922,
          14.893735885620117,
          17.429407119750977,
          13.116351127624512,
          28.12841033935547,
          2.076934576034546,
          28.472007751464844,
          51.21330642700195,
          66.52194213867188,
          27.10097885131836,
          17.783170700073242,
          25.903736114501953,
          -0.12902550399303436,
          12.341277122497559,
          22.165985107421875,
          24.087440490722656,
          14.397773742675781,
          17.088960647583008
         ],
         "yaxis": "y"
        },
        {
         "customdata": [
          [
           "Bicycle",
           "D00016.obj"
          ],
          [
           "Bicycle",
           "D00033.obj"
          ],
          [
           "Bicycle",
           "D00040.obj"
          ],
          [
           "Bicycle",
           "D00077.obj"
          ],
          [
           "Bicycle",
           "D00078.obj"
          ],
          [
           "Bicycle",
           "D00462.obj"
          ],
          [
           "Bicycle",
           "D00514.obj"
          ],
          [
           "Bicycle",
           "D00536.obj"
          ],
          [
           "Bicycle",
           "D00555.obj"
          ],
          [
           "Bicycle",
           "D00558.obj"
          ],
          [
           "Bicycle",
           "D00567.obj"
          ],
          [
           "Bicycle",
           "D00621.obj"
          ],
          [
           "Bicycle",
           "D00708.obj"
          ],
          [
           "Bicycle",
           "D00750.obj"
          ],
          [
           "Bicycle",
           "D00838.obj"
          ],
          [
           "Bicycle",
           "D00847.obj"
          ],
          [
           "Bicycle",
           "D00904.obj"
          ],
          [
           "Bicycle",
           "D00930.obj"
          ],
          [
           "Bicycle",
           "D00931.obj"
          ],
          [
           "Bicycle",
           "D00974.obj"
          ],
          [
           "Bicycle",
           "m1472.obj"
          ],
          [
           "Bicycle",
           "m1473.obj"
          ],
          [
           "Bicycle",
           "m1475.obj"
          ],
          [
           "Bicycle",
           "m1476.obj"
          ],
          [
           "Bicycle",
           "m1477.obj"
          ],
          [
           "Bicycle",
           "m1478.obj"
          ]
         ],
         "hovertemplate": "Class=%{customdata[0]}<br>Principal Component 1=%{x}<br>Principal Component 2=%{y}<br>Name=%{customdata[1]}<extra></extra>",
         "legendgroup": "Bicycle",
         "marker": {
          "color": "#FFA15A",
          "symbol": "circle"
         },
         "mode": "markers",
         "name": "Bicycle",
         "orientation": "v",
         "showlegend": true,
         "type": "scatter",
         "x": [
          -6.7137131690979,
          -5.902704238891602,
          -16.11771583557129,
          -5.308365345001221,
          -28.814483642578125,
          -5.5760817527771,
          -7.600700855255127,
          -29.498016357421875,
          -2.174149990081787,
          -2.091679811477661,
          -4.8235955238342285,
          -6.697330474853516,
          -8.73579216003418,
          -26.861719131469727,
          -8.755858421325684,
          -28.77055549621582,
          -28.632129669189453,
          -27.565095901489258,
          -12.808650970458984,
          -43.47480392456055,
          -0.9578823447227478,
          -5.161005973815918,
          -43.47782516479492,
          -4.713344573974609,
          -28.86677360534668,
          -5.4421610832214355
         ],
         "xaxis": "x",
         "y": [
          -66.99208068847656,
          -67.95899963378906,
          -68.28636169433594,
          -64.88006591796875,
          -52.22157669067383,
          -64.7627182006836,
          -66.09114837646484,
          -52.04584884643555,
          -57.5582389831543,
          -57.818695068359375,
          -67.50564575195312,
          -67.052001953125,
          -65.24784851074219,
          -50.932891845703125,
          -65.2240219116211,
          -52.2527961730957,
          -55.58395767211914,
          -51.308048248291016,
          -64.24593353271484,
          -47.275291442871094,
          -69.0992660522461,
          -68.11669158935547,
          -47.26960372924805,
          -67.46080780029297,
          -52.18915557861328,
          -67.38468933105469
         ],
         "yaxis": "y"
        },
        {
         "customdata": [
          [
           "Biplane",
           "D00069.obj"
          ],
          [
           "Biplane",
           "D00132.obj"
          ],
          [
           "Biplane",
           "D00178.obj"
          ],
          [
           "Biplane",
           "D00199.obj"
          ],
          [
           "Biplane",
           "D00246.obj"
          ],
          [
           "Biplane",
           "D00276.obj"
          ],
          [
           "Biplane",
           "D00277.obj"
          ],
          [
           "Biplane",
           "D00320.obj"
          ],
          [
           "Biplane",
           "D00373.obj"
          ],
          [
           "Biplane",
           "D00410.obj"
          ],
          [
           "Biplane",
           "D00490.obj"
          ],
          [
           "Biplane",
           "D00515.obj"
          ],
          [
           "Biplane",
           "D00601.obj"
          ],
          [
           "Biplane",
           "D00616.obj"
          ],
          [
           "Biplane",
           "D00632.obj"
          ],
          [
           "Biplane",
           "D00634.obj"
          ],
          [
           "Biplane",
           "D00666.obj"
          ],
          [
           "Biplane",
           "D00854.obj"
          ],
          [
           "Biplane",
           "D00890.obj"
          ],
          [
           "Biplane",
           "D00900.obj"
          ],
          [
           "Biplane",
           "m1118.obj"
          ],
          [
           "Biplane",
           "m1119.obj"
          ],
          [
           "Biplane",
           "m1120.obj"
          ],
          [
           "Biplane",
           "m1121.obj"
          ],
          [
           "Biplane",
           "m1122.obj"
          ],
          [
           "Biplane",
           "m1123.obj"
          ],
          [
           "Biplane",
           "m1124.obj"
          ],
          [
           "Biplane",
           "m1126.obj"
          ],
          [
           "Biplane",
           "m1127.obj"
          ],
          [
           "Biplane",
           "m1128.obj"
          ],
          [
           "Biplane",
           "m1129.obj"
          ],
          [
           "Biplane",
           "m1131.obj"
          ],
          [
           "Biplane",
           "m1132.obj"
          ],
          [
           "Biplane",
           "m1133.obj"
          ],
          [
           "Biplane",
           "m1134.obj"
          ],
          [
           "Biplane",
           "m1135.obj"
          ],
          [
           "Biplane",
           "m1136.obj"
          ],
          [
           "Biplane",
           "m1137.obj"
          ],
          [
           "Biplane",
           "m1138.obj"
          ],
          [
           "Biplane",
           "m1139.obj"
          ],
          [
           "Biplane",
           "m1141.obj"
          ],
          [
           "Biplane",
           "m1143.obj"
          ],
          [
           "Biplane",
           "m1144.obj"
          ],
          [
           "Biplane",
           "m1146.obj"
          ]
         ],
         "hovertemplate": "Class=%{customdata[0]}<br>Principal Component 1=%{x}<br>Principal Component 2=%{y}<br>Name=%{customdata[1]}<extra></extra>",
         "legendgroup": "Biplane",
         "marker": {
          "color": "#19d3f3",
          "symbol": "circle"
         },
         "mode": "markers",
         "name": "Biplane",
         "orientation": "v",
         "showlegend": true,
         "type": "scatter",
         "x": [
          -11.256258010864258,
          -0.0841543972492218,
          17.694990158081055,
          -17.663049697875977,
          20.228561401367188,
          -8.918474197387695,
          20.493549346923828,
          17.356609344482422,
          -4.666855335235596,
          17.721588134765625,
          1.3496637344360352,
          -4.8217878341674805,
          -49.94969177246094,
          7.808709621429443,
          -1.0343925952911377,
          -7.8908467292785645,
          -9.566929817199707,
          18.41848373413086,
          -29.942367553710938,
          17.59634780883789,
          -16.63985824584961,
          -11.018966674804688,
          -29.772382736206055,
          -13.53112506866455,
          -1.149239420890808,
          -10.271677017211914,
          -2.7045681476593018,
          -32.1621208190918,
          0.1444919854402542,
          -9.511001586914062,
          -3.06327486038208,
          -8.933269500732422,
          -3.831901788711548,
          -1.0522844791412354,
          10.30245304107666,
          1.568263292312622,
          3.813239336013794,
          10.31124496459961,
          -6.745758056640625,
          -16.774559020996094,
          19.087265014648438,
          -12.548911094665527,
          -3.1187262535095215,
          8.416165351867676
         ],
         "xaxis": "x",
         "y": [
          -50.9498291015625,
          -37.658477783203125,
          -69.2517318725586,
          -55.010475158691406,
          -65.67720031738281,
          -24.21718978881836,
          -66.84595489501953,
          -69.64852905273438,
          -44.046852111816406,
          -34.5538330078125,
          -62.926761627197266,
          -44.48115539550781,
          -10.916035652160645,
          -53.7597770690918,
          -45.68435287475586,
          -45.39119338989258,
          -30.03374481201172,
          -70.25170135498047,
          -18.031723022460938,
          -69.40373992919922,
          -56.00117492675781,
          -30.113021850585938,
          -18.778783798217773,
          -53.19301223754883,
          -47.05523681640625,
          -29.917884826660156,
          -55.9958381652832,
          -37.6594352722168,
          -37.488609313964844,
          -30.386186599731445,
          -49.04155349731445,
          -30.753625869750977,
          -55.77201461791992,
          -45.790977478027344,
          -61.12535095214844,
          -41.50796127319336,
          -70.37030792236328,
          -61.29912567138672,
          -46.60855484008789,
          -54.345951080322266,
          -71.48454284667969,
          -45.90205001831055,
          -48.72719192504883,
          -51.95652389526367
         ],
         "yaxis": "y"
        },
        {
         "customdata": [
          [
           "Bird",
           "D00089.obj"
          ],
          [
           "Bird",
           "D00113.obj"
          ],
          [
           "Bird",
           "D00164.obj"
          ],
          [
           "Bird",
           "D00234.obj"
          ],
          [
           "Bird",
           "D00271.obj"
          ],
          [
           "Bird",
           "D00284.obj"
          ],
          [
           "Bird",
           "D00323.obj"
          ],
          [
           "Bird",
           "D00386.obj"
          ],
          [
           "Bird",
           "D00438.obj"
          ],
          [
           "Bird",
           "D00442.obj"
          ],
          [
           "Bird",
           "D00546.obj"
          ],
          [
           "Bird",
           "D00599.obj"
          ],
          [
           "Bird",
           "D00625.obj"
          ],
          [
           "Bird",
           "D00689.obj"
          ],
          [
           "Bird",
           "D00736.obj"
          ],
          [
           "Bird",
           "D00762.obj"
          ],
          [
           "Bird",
           "D00862.obj"
          ],
          [
           "Bird",
           "D00922.obj"
          ],
          [
           "Bird",
           "D00961.obj"
          ],
          [
           "Bird",
           "D00999.obj"
          ],
          [
           "Bird",
           "m28.obj"
          ],
          [
           "Bird",
           "m29.obj"
          ],
          [
           "Bird",
           "m30.obj"
          ],
          [
           "Bird",
           "m31.obj"
          ],
          [
           "Bird",
           "m32.obj"
          ],
          [
           "Bird",
           "m33.obj"
          ],
          [
           "Bird",
           "m34.obj"
          ],
          [
           "Bird",
           "m35.obj"
          ],
          [
           "Bird",
           "m36.obj"
          ],
          [
           "Bird",
           "m37.obj"
          ],
          [
           "Bird",
           "m38.obj"
          ],
          [
           "Bird",
           "m39.obj"
          ],
          [
           "Bird",
           "m40.obj"
          ],
          [
           "Bird",
           "m41.obj"
          ],
          [
           "Bird",
           "m42.obj"
          ],
          [
           "Bird",
           "m43.obj"
          ],
          [
           "Bird",
           "m44.obj"
          ],
          [
           "Bird",
           "m45.obj"
          ],
          [
           "Bird",
           "m47.obj"
          ],
          [
           "Bird",
           "m48.obj"
          ],
          [
           "Bird",
           "m50.obj"
          ],
          [
           "Bird",
           "m51.obj"
          ],
          [
           "Bird",
           "m52.obj"
          ]
         ],
         "hovertemplate": "Class=%{customdata[0]}<br>Principal Component 1=%{x}<br>Principal Component 2=%{y}<br>Name=%{customdata[1]}<extra></extra>",
         "legendgroup": "Bird",
         "marker": {
          "color": "#FF6692",
          "symbol": "circle"
         },
         "mode": "markers",
         "name": "Bird",
         "orientation": "v",
         "showlegend": true,
         "type": "scatter",
         "x": [
          6.652719974517822,
          -13.358284950256348,
          16.678308486938477,
          9.96274185180664,
          1.5083060264587402,
          15.230380058288574,
          59.43587875366211,
          43.989017486572266,
          35.389225006103516,
          -4.238895893096924,
          34.21781539916992,
          37.59621047973633,
          0.8087870478630066,
          8.87972640991211,
          34.4962043762207,
          8.518424987792969,
          33.6462287902832,
          2.2404274940490723,
          35.93458557128906,
          37.423377990722656,
          13.109517097473145,
          32.27085876464844,
          26.826602935791016,
          6.703221797943115,
          26.109800338745117,
          -13.261176109313965,
          6.598577499389648,
          -45.26065444946289,
          -44.60593032836914,
          2.364098310470581,
          37.354820251464844,
          17.406475067138672,
          8.91185188293457,
          35.35560607910156,
          41.017059326171875,
          -0.6159025430679321,
          9.640780448913574,
          15.223363876342773,
          34.993690490722656,
          17.55854606628418,
          19.1055965423584,
          18.545082092285156,
          -4.882787227630615
         ],
         "xaxis": "x",
         "y": [
          -69.13441467285156,
          -0.48581960797309875,
          -67.89883422851562,
          -46.93272399902344,
          -55.202022552490234,
          -70.73889923095703,
          -42.87718200683594,
          -16.909870147705078,
          -46.21731185913086,
          -48.66292953491211,
          -42.29245376586914,
          -45.25008010864258,
          -57.18396759033203,
          -66.39142608642578,
          -45.95396423339844,
          -47.18862533569336,
          -47.41659164428711,
          -49.47347640991211,
          -46.339454650878906,
          -43.6808967590332,
          -1.458627462387085,
          -8.389912605285645,
          -16.970932006835938,
          26.08218765258789,
          6.321213245391846,
          17.683311462402344,
          -69.14199829101562,
          20.31227684020996,
          -22.81386947631836,
          -49.48049545288086,
          -43.67542266845703,
          -39.04562759399414,
          -66.35509490966797,
          -46.34556579589844,
          -56.37419509887695,
          -70.33997344970703,
          -64.36576080322266,
          -70.74422454833984,
          -45.40069580078125,
          30.4403133392334,
          29.255529403686523,
          40.19025421142578,
          21.37281036376953
         ],
         "yaxis": "y"
        },
        {
         "customdata": [
          [
           "Bookset",
           "D01009.obj"
          ],
          [
           "Bookset",
           "D01013.obj"
          ],
          [
           "Bookset",
           "D01030.obj"
          ],
          [
           "Bookset",
           "D01038.obj"
          ],
          [
           "Bookset",
           "D01042.obj"
          ],
          [
           "Bookset",
           "D01050.obj"
          ],
          [
           "Bookset",
           "D01065.obj"
          ],
          [
           "Bookset",
           "D01096.obj"
          ],
          [
           "Bookset",
           "D01108.obj"
          ],
          [
           "Bookset",
           "D01110.obj"
          ],
          [
           "Bookset",
           "D01122.obj"
          ],
          [
           "Bookset",
           "D01135.obj"
          ],
          [
           "Bookset",
           "D01146.obj"
          ],
          [
           "Bookset",
           "D01182.obj"
          ],
          [
           "Bookset",
           "D01183.obj"
          ],
          [
           "Bookset",
           "D01184.obj"
          ],
          [
           "Bookset",
           "D01190.obj"
          ],
          [
           "Bookset",
           "D01199.obj"
          ]
         ],
         "hovertemplate": "Class=%{customdata[0]}<br>Principal Component 1=%{x}<br>Principal Component 2=%{y}<br>Name=%{customdata[1]}<extra></extra>",
         "legendgroup": "Bookset",
         "marker": {
          "color": "#B6E880",
          "symbol": "circle"
         },
         "mode": "markers",
         "name": "Bookset",
         "orientation": "v",
         "showlegend": true,
         "type": "scatter",
         "x": [
          -24.246999740600586,
          -33.05573654174805,
          -19.276599884033203,
          -23.38186264038086,
          -31.54560089111328,
          -22.455142974853516,
          -31.96575355529785,
          -28.595739364624023,
          -23.113252639770508,
          -13.007279396057129,
          -12.541247367858887,
          17.864229202270508,
          -22.379819869995117,
          -28.729455947875977,
          -23.606603622436523,
          -26.4753475189209,
          -36.44828414916992,
          -28.4545955657959
         ],
         "xaxis": "x",
         "y": [
          66.37252807617188,
          56.156612396240234,
          83.88318634033203,
          -20.307987213134766,
          36.28223419189453,
          67.81600189208984,
          54.087974548339844,
          61.381690979003906,
          54.61763000488281,
          62.84622573852539,
          76.05203247070312,
          80.56802368164062,
          68.20333862304688,
          60.91511535644531,
          66.93453979492188,
          64.00738525390625,
          33.1599006652832,
          61.559234619140625
         ],
         "yaxis": "y"
        },
        {
         "customdata": [
          [
           "Bottle",
           "D00020.obj"
          ],
          [
           "Bottle",
           "D00123.obj"
          ],
          [
           "Bottle",
           "D00139.obj"
          ],
          [
           "Bottle",
           "D00166.obj"
          ],
          [
           "Bottle",
           "D00176.obj"
          ],
          [
           "Bottle",
           "D00208.obj"
          ],
          [
           "Bottle",
           "D00281.obj"
          ],
          [
           "Bottle",
           "D00311.obj"
          ],
          [
           "Bottle",
           "D00350.obj"
          ],
          [
           "Bottle",
           "D00390.obj"
          ],
          [
           "Bottle",
           "D00451.obj"
          ],
          [
           "Bottle",
           "D00679.obj"
          ],
          [
           "Bottle",
           "D00696.obj"
          ],
          [
           "Bottle",
           "D00711.obj"
          ],
          [
           "Bottle",
           "D00716.obj"
          ],
          [
           "Bottle",
           "D00726.obj"
          ],
          [
           "Bottle",
           "D00892.obj"
          ],
          [
           "Bottle",
           "D00940.obj"
          ],
          [
           "Bottle",
           "D00959.obj"
          ],
          [
           "Bottle",
           "m482.obj"
          ],
          [
           "Bottle",
           "m483.obj"
          ],
          [
           "Bottle",
           "m484.obj"
          ],
          [
           "Bottle",
           "m485.obj"
          ],
          [
           "Bottle",
           "m486.obj"
          ],
          [
           "Bottle",
           "m487.obj"
          ],
          [
           "Bottle",
           "m488.obj"
          ],
          [
           "Bottle",
           "m489.obj"
          ],
          [
           "Bottle",
           "m490.obj"
          ],
          [
           "Bottle",
           "m491.obj"
          ]
         ],
         "hovertemplate": "Class=%{customdata[0]}<br>Principal Component 1=%{x}<br>Principal Component 2=%{y}<br>Name=%{customdata[1]}<extra></extra>",
         "legendgroup": "Bottle",
         "marker": {
          "color": "#FF97FF",
          "symbol": "circle"
         },
         "mode": "markers",
         "name": "Bottle",
         "orientation": "v",
         "showlegend": true,
         "type": "scatter",
         "x": [
          31.69559669494629,
          30.979145050048828,
          34.046058654785156,
          27.514888763427734,
          -28.217599868774414,
          14.908467292785645,
          15.369979858398438,
          24.547183990478516,
          31.730974197387695,
          -6.012787818908691,
          26.216054916381836,
          -6.479330539703369,
          23.511648178100586,
          23.97088050842285,
          13.524127006530762,
          44.526161193847656,
          23.539222717285156,
          23.977720260620117,
          32.49839782714844,
          31.617929458618164,
          31.987869262695312,
          31.314044952392578,
          31.745431900024414,
          25.970579147338867,
          31.850149154663086,
          24.978736877441406,
          27.516489028930664,
          26.46007537841797,
          12.325972557067871
         ],
         "xaxis": "x",
         "y": [
          47.23750686645508,
          47.664833068847656,
          20.88633918762207,
          67.88665008544922,
          -19.538524627685547,
          7.0688066482543945,
          7.340414524078369,
          56.532508850097656,
          47.863853454589844,
          6.553928375244141,
          65.30982208251953,
          -49.35065460205078,
          72.64527893066406,
          57.154361724853516,
          7.63994836807251,
          43.31876754760742,
          72.44329833984375,
          57.834537506103516,
          44.188140869140625,
          39.53578186035156,
          46.2488899230957,
          48.55075454711914,
          48.16633224487305,
          61.71528625488281,
          40.4361686706543,
          56.54274368286133,
          56.39811706542969,
          64.41582489013672,
          52.145999908447266
         ],
         "yaxis": "y"
        },
        {
         "customdata": [
          [
           "BuildingNonResidential",
           "m382.obj"
          ],
          [
           "BuildingNonResidential",
           "m383.obj"
          ],
          [
           "BuildingNonResidential",
           "m384.obj"
          ],
          [
           "BuildingNonResidential",
           "m385.obj"
          ],
          [
           "BuildingNonResidential",
           "m386.obj"
          ],
          [
           "BuildingNonResidential",
           "m387.obj"
          ],
          [
           "BuildingNonResidential",
           "m390.obj"
          ],
          [
           "BuildingNonResidential",
           "m391.obj"
          ],
          [
           "BuildingNonResidential",
           "m392.obj"
          ],
          [
           "BuildingNonResidential",
           "m393.obj"
          ],
          [
           "BuildingNonResidential",
           "m394.obj"
          ],
          [
           "BuildingNonResidential",
           "m395.obj"
          ],
          [
           "BuildingNonResidential",
           "m396.obj"
          ],
          [
           "BuildingNonResidential",
           "m397.obj"
          ],
          [
           "BuildingNonResidential",
           "m398.obj"
          ],
          [
           "BuildingNonResidential",
           "m399.obj"
          ],
          [
           "BuildingNonResidential",
           "m400.obj"
          ],
          [
           "BuildingNonResidential",
           "m401.obj"
          ],
          [
           "BuildingNonResidential",
           "m402.obj"
          ],
          [
           "BuildingNonResidential",
           "m404.obj"
          ],
          [
           "BuildingNonResidential",
           "m405.obj"
          ],
          [
           "BuildingNonResidential",
           "m406.obj"
          ],
          [
           "BuildingNonResidential",
           "m407.obj"
          ],
          [
           "BuildingNonResidential",
           "m408.obj"
          ],
          [
           "BuildingNonResidential",
           "m409.obj"
          ],
          [
           "BuildingNonResidential",
           "m410.obj"
          ],
          [
           "BuildingNonResidential",
           "m412.obj"
          ],
          [
           "BuildingNonResidential",
           "m413.obj"
          ],
          [
           "BuildingNonResidential",
           "m414.obj"
          ],
          [
           "BuildingNonResidential",
           "m415.obj"
          ],
          [
           "BuildingNonResidential",
           "m416.obj"
          ],
          [
           "BuildingNonResidential",
           "m418.obj"
          ],
          [
           "BuildingNonResidential",
           "m420.obj"
          ],
          [
           "BuildingNonResidential",
           "m421.obj"
          ],
          [
           "BuildingNonResidential",
           "m470.obj"
          ],
          [
           "BuildingNonResidential",
           "m471.obj"
          ],
          [
           "BuildingNonResidential",
           "m472.obj"
          ],
          [
           "BuildingNonResidential",
           "m474.obj"
          ],
          [
           "BuildingNonResidential",
           "m475.obj"
          ],
          [
           "BuildingNonResidential",
           "m477.obj"
          ],
          [
           "BuildingNonResidential",
           "m478.obj"
          ],
          [
           "BuildingNonResidential",
           "m479.obj"
          ],
          [
           "BuildingNonResidential",
           "m481.obj"
          ]
         ],
         "hovertemplate": "Class=%{customdata[0]}<br>Principal Component 1=%{x}<br>Principal Component 2=%{y}<br>Name=%{customdata[1]}<extra></extra>",
         "legendgroup": "BuildingNonResidential",
         "marker": {
          "color": "#FECB52",
          "symbol": "circle"
         },
         "mode": "markers",
         "name": "BuildingNonResidential",
         "orientation": "v",
         "showlegend": true,
         "type": "scatter",
         "x": [
          -46.33311462402344,
          -21.05513572692871,
          -68.94789123535156,
          -20.054481506347656,
          -83.20691680908203,
          -42.50342559814453,
          -15.620969772338867,
          -1.8992139101028442,
          13.245316505432129,
          -28.66266632080078,
          -55.16828536987305,
          -38.979488372802734,
          -45.57256317138672,
          -39.40045166015625,
          -55.81059265136719,
          -82.99652862548828,
          -51.88341522216797,
          -27.107566833496094,
          -33.4528923034668,
          -10.002188682556152,
          -34.7400016784668,
          -31.757598876953125,
          1.9102624654769897,
          -50.965553283691406,
          4.273611545562744,
          -54.98530197143555,
          -4.102385997772217,
          -43.77272415161133,
          -45.793731689453125,
          -28.034021377563477,
          -31.598590850830078,
          -53.17440414428711,
          -50.20210266113281,
          -56.01372528076172,
          -72.22466278076172,
          39.547279357910156,
          13.251200675964355,
          -83.08515167236328,
          30.710552215576172,
          2.964359760284424,
          -41.59511947631836,
          4.646238803863525,
          -79.84101867675781
         ],
         "xaxis": "x",
         "y": [
          12.65793228149414,
          20.295557022094727,
          -5.967426300048828,
          19.973806381225586,
          23.830076217651367,
          -11.103343963623047,
          66.1068115234375,
          27.372840881347656,
          31.84767723083496,
          -4.311053276062012,
          9.61797046661377,
          14.503861427307129,
          -0.347265362739563,
          14.208069801330566,
          13.219362258911133,
          24.832143783569336,
          44.871055603027344,
          -12.05808162689209,
          40.34849548339844,
          11.898272514343262,
          55.331722259521484,
          39.77762985229492,
          60.304290771484375,
          31.08394432067871,
          -39.07512283325195,
          46.88119888305664,
          -56.01827621459961,
          45.11006164550781,
          11.648496627807617,
          30.156015396118164,
          53.79042053222656,
          46.647010803222656,
          43.4514045715332,
          9.422403335571289,
          -13.928804397583008,
          31.92914581298828,
          15.382667541503906,
          21.957233428955078,
          -4.631954193115234,
          -10.031173706054688,
          -39.148624420166016,
          -25.28046417236328,
          23.455881118774414
         ],
         "yaxis": "y"
        },
        {
         "customdata": [
          [
           "Bus",
           "D00084.obj"
          ],
          [
           "Bus",
           "D00114.obj"
          ],
          [
           "Bus",
           "D00151.obj"
          ],
          [
           "Bus",
           "D00179.obj"
          ],
          [
           "Bus",
           "D00182.obj"
          ],
          [
           "Bus",
           "D00264.obj"
          ],
          [
           "Bus",
           "D00436.obj"
          ],
          [
           "Bus",
           "D00448.obj"
          ],
          [
           "Bus",
           "D00483.obj"
          ],
          [
           "Bus",
           "D00677.obj"
          ],
          [
           "Bus",
           "D00754.obj"
          ],
          [
           "Bus",
           "D00769.obj"
          ],
          [
           "Bus",
           "D00775.obj"
          ],
          [
           "Bus",
           "D00815.obj"
          ],
          [
           "Bus",
           "D00823.obj"
          ],
          [
           "Bus",
           "D00832.obj"
          ],
          [
           "Bus",
           "D00857.obj"
          ]
         ],
         "hovertemplate": "Class=%{customdata[0]}<br>Principal Component 1=%{x}<br>Principal Component 2=%{y}<br>Name=%{customdata[1]}<extra></extra>",
         "legendgroup": "Bus",
         "marker": {
          "color": "#636efa",
          "symbol": "circle"
         },
         "mode": "markers",
         "name": "Bus",
         "orientation": "v",
         "showlegend": true,
         "type": "scatter",
         "x": [
          74.92807006835938,
          -32.46091079711914,
          5.672098636627197,
          18.75407600402832,
          4.870693683624268,
          28.08689308166504,
          26.7336483001709,
          -23.875322341918945,
          17.59272575378418,
          -23.570110321044922,
          -22.00524139404297,
          -25.97550392150879,
          -27.51163101196289,
          19.56245994567871,
          -35.35609436035156,
          23.155519485473633,
          19.195728302001953
         ],
         "xaxis": "x",
         "y": [
          -31.993850708007812,
          57.433109283447266,
          42.723331451416016,
          79.49274444580078,
          42.08173751831055,
          63.9364128112793,
          58.511756896972656,
          53.0937614440918,
          79.81181335449219,
          -12.072269439697266,
          43.410369873046875,
          46.96733093261719,
          46.662044525146484,
          78.71208953857422,
          41.06324005126953,
          56.006961822509766,
          78.69662475585938
         ],
         "yaxis": "y"
        },
        {
         "customdata": [
          [
           "Car",
           "D00168.obj"
          ],
          [
           "Car",
           "D00236.obj"
          ],
          [
           "Car",
           "D00260.obj"
          ],
          [
           "Car",
           "D00265.obj"
          ],
          [
           "Car",
           "D00299.obj"
          ],
          [
           "Car",
           "D00377.obj"
          ],
          [
           "Car",
           "D00405.obj"
          ],
          [
           "Car",
           "D00452.obj"
          ],
          [
           "Car",
           "D00504.obj"
          ],
          [
           "Car",
           "D00541.obj"
          ],
          [
           "Car",
           "D00618.obj"
          ],
          [
           "Car",
           "D00670.obj"
          ],
          [
           "Car",
           "D00671.obj"
          ],
          [
           "Car",
           "D00724.obj"
          ],
          [
           "Car",
           "D00767.obj"
          ],
          [
           "Car",
           "D00785.obj"
          ],
          [
           "Car",
           "D00793.obj"
          ],
          [
           "Car",
           "D00803.obj"
          ],
          [
           "Car",
           "D00865.obj"
          ],
          [
           "Car",
           "D00976.obj"
          ],
          [
           "Car",
           "m1485.obj"
          ],
          [
           "Car",
           "m1486.obj"
          ],
          [
           "Car",
           "m1487.obj"
          ],
          [
           "Car",
           "m1488.obj"
          ],
          [
           "Car",
           "m1489.obj"
          ],
          [
           "Car",
           "m1490.obj"
          ],
          [
           "Car",
           "m1492.obj"
          ],
          [
           "Car",
           "m1495.obj"
          ],
          [
           "Car",
           "m1496.obj"
          ],
          [
           "Car",
           "m1497.obj"
          ],
          [
           "Car",
           "m1498.obj"
          ],
          [
           "Car",
           "m1499.obj"
          ],
          [
           "Car",
           "m1500.obj"
          ],
          [
           "Car",
           "m1502.obj"
          ],
          [
           "Car",
           "m1503.obj"
          ],
          [
           "Car",
           "m1504.obj"
          ],
          [
           "Car",
           "m1505.obj"
          ],
          [
           "Car",
           "m1506.obj"
          ],
          [
           "Car",
           "m1507.obj"
          ],
          [
           "Car",
           "m1508.obj"
          ],
          [
           "Car",
           "m1509.obj"
          ],
          [
           "Car",
           "m1510.obj"
          ],
          [
           "Car",
           "m1511.obj"
          ],
          [
           "Car",
           "m1512.obj"
          ],
          [
           "Car",
           "m1513.obj"
          ],
          [
           "Car",
           "m1514.obj"
          ],
          [
           "Car",
           "m1515.obj"
          ],
          [
           "Car",
           "m1516.obj"
          ],
          [
           "Car",
           "m1517.obj"
          ],
          [
           "Car",
           "m1518.obj"
          ],
          [
           "Car",
           "m1519.obj"
          ],
          [
           "Car",
           "m1521.obj"
          ],
          [
           "Car",
           "m1522.obj"
          ],
          [
           "Car",
           "m1523.obj"
          ],
          [
           "Car",
           "m1524.obj"
          ],
          [
           "Car",
           "m1525.obj"
          ],
          [
           "Car",
           "m1526.obj"
          ],
          [
           "Car",
           "m1527.obj"
          ],
          [
           "Car",
           "m1528.obj"
          ],
          [
           "Car",
           "m1529.obj"
          ],
          [
           "Car",
           "m1530.obj"
          ],
          [
           "Car",
           "m1531.obj"
          ],
          [
           "Car",
           "m1532.obj"
          ],
          [
           "Car",
           "m1533.obj"
          ],
          [
           "Car",
           "m1535.obj"
          ],
          [
           "Car",
           "m1536.obj"
          ],
          [
           "Car",
           "m1538.obj"
          ],
          [
           "Car",
           "m1539.obj"
          ],
          [
           "Car",
           "m1540.obj"
          ],
          [
           "Car",
           "m1542.obj"
          ],
          [
           "Car",
           "m1543.obj"
          ],
          [
           "Car",
           "m1544.obj"
          ],
          [
           "Car",
           "m1545.obj"
          ],
          [
           "Car",
           "m1546.obj"
          ],
          [
           "Car",
           "m1547.obj"
          ],
          [
           "Car",
           "m1548.obj"
          ],
          [
           "Car",
           "m1550.obj"
          ],
          [
           "Car",
           "m1551.obj"
          ],
          [
           "Car",
           "m1552.obj"
          ],
          [
           "Car",
           "m1553.obj"
          ],
          [
           "Car",
           "m1555.obj"
          ],
          [
           "Car",
           "m1556.obj"
          ],
          [
           "Car",
           "m1557.obj"
          ],
          [
           "Car",
           "m1558.obj"
          ],
          [
           "Car",
           "m1559.obj"
          ],
          [
           "Car",
           "m1560.obj"
          ],
          [
           "Car",
           "m1561.obj"
          ],
          [
           "Car",
           "m1562.obj"
          ],
          [
           "Car",
           "m1563.obj"
          ]
         ],
         "hovertemplate": "Class=%{customdata[0]}<br>Principal Component 1=%{x}<br>Principal Component 2=%{y}<br>Name=%{customdata[1]}<extra></extra>",
         "legendgroup": "Car",
         "marker": {
          "color": "#EF553B",
          "symbol": "circle"
         },
         "mode": "markers",
         "name": "Car",
         "orientation": "v",
         "showlegend": true,
         "type": "scatter",
         "x": [
          13.17793083190918,
          -27.610567092895508,
          -15.740180015563965,
          16.787221908569336,
          -21.831966400146484,
          13.118782997131348,
          -28.887012481689453,
          -11.151450157165527,
          -8.758848190307617,
          0.37042301893234253,
          18.092010498046875,
          15.086234092712402,
          4.94620418548584,
          -5.710907459259033,
          12.924920082092285,
          11.839181900024414,
          15.159626960754395,
          -1.4221293926239014,
          13.274060249328613,
          -10.965225219726562,
          12.376705169677734,
          11.822282791137695,
          -43.02447509765625,
          -41.69063186645508,
          -1.5528254508972168,
          -15.617632865905762,
          -22.15552520751953,
          -1.4535046815872192,
          9.669880867004395,
          6.2869181632995605,
          -25.04867935180664,
          -31.43842315673828,
          6.190306663513184,
          20.745975494384766,
          35.5827751159668,
          3.818824052810669,
          8.194770812988281,
          -45.910091400146484,
          -16.573686599731445,
          7.194527626037598,
          -43.973567962646484,
          -9.361817359924316,
          -16.708145141601562,
          -10.7736234664917,
          -5.5227837562561035,
          8.099749565124512,
          11.898551940917969,
          14.866127014160156,
          17.509841918945312,
          14.871499061584473,
          18.083009719848633,
          29.28178596496582,
          9.807641983032227,
          17.701955795288086,
          15.834729194641113,
          -0.8001894354820251,
          8.657394409179688,
          -8.756345748901367,
          10.922224044799805,
          14.112676620483398,
          26.83340072631836,
          18.688194274902344,
          11.677520751953125,
          17.32137107849121,
          6.152606010437012,
          26.387592315673828,
          17.7012882232666,
          5.6449432373046875,
          9.953597068786621,
          13.655027389526367,
          15.581283569335938,
          -11.757503509521484,
          8.328104019165039,
          -54.900901794433594,
          7.164518356323242,
          8.332022666931152,
          11.06982135772705,
          6.488438606262207,
          17.013917922973633,
          16.20072364807129,
          -10.094731330871582,
          63.89204788208008,
          11.630595207214355,
          -19.127904891967773,
          -43.429264068603516,
          -37.17483139038086,
          -51.33395004272461,
          -51.486270904541016,
          -51.36284637451172
         ],
         "xaxis": "x",
         "y": [
          7.920673847198486,
          30.209192276000977,
          40.39561462402344,
          45.946311950683594,
          56.171539306640625,
          46.401432037353516,
          -4.415958404541016,
          41.08552932739258,
          27.8275146484375,
          18.034299850463867,
          43.82212448120117,
          -6.54727029800415,
          46.08774948120117,
          14.510313987731934,
          45.171146392822266,
          50.24284362792969,
          46.32157897949219,
          8.527722358703613,
          44.91309356689453,
          41.33957290649414,
          45.46836471557617,
          50.21611785888672,
          -0.7540436387062073,
          11.547155380249023,
          32.85791778564453,
          -15.536444664001465,
          -6.872193336486816,
          8.232311248779297,
          21.323091506958008,
          21.667905807495117,
          -17.402889251708984,
          29.37508201599121,
          24.26243782043457,
          -9.343600273132324,
          -40.095951080322266,
          -18.618709564208984,
          -5.061168193817139,
          -10.951611518859863,
          7.921753406524658,
          -3.736919403076172,
          -10.386614799499512,
          8.215217590332031,
          8.000279426574707,
          9.113201141357422,
          -5.955941200256348,
          -4.958847522735596,
          -5.996429443359375,
          38.225135803222656,
          43.193058013916016,
          38.21017837524414,
          45.51615524291992,
          60.97040939331055,
          21.37541389465332,
          44.94048309326172,
          46.47267150878906,
          17.867382049560547,
          49.804786682128906,
          26.70166015625,
          44.23478317260742,
          46.42753601074219,
          56.28693771362305,
          44.607967376708984,
          51.10421371459961,
          46.31309509277344,
          22.941150665283203,
          56.159507751464844,
          45.015525817871094,
          23.32206153869629,
          48.156288146972656,
          46.57024383544922,
          27.265920639038086,
          10.55416202545166,
          43.504573822021484,
          30.02684211730957,
          17.009151458740234,
          43.50428009033203,
          21.30990982055664,
          47.4488410949707,
          43.842498779296875,
          16.982210159301758,
          -17.1604061126709,
          -35.94520568847656,
          49.06085968017578,
          -17.487733840942383,
          -0.19906200468540192,
          40.4822998046875,
          22.090185165405273,
          30.47771644592285,
          27.305538177490234
         ],
         "yaxis": "y"
        }
       ],
       "layout": {
        "legend": {
         "title": {
          "text": "Class"
         },
         "tracegroupgap": 0
        },
        "template": {
         "data": {
          "bar": [
           {
            "error_x": {
             "color": "#2a3f5f"
            },
            "error_y": {
             "color": "#2a3f5f"
            },
            "marker": {
             "line": {
              "color": "#E5ECF6",
              "width": 0.5
             },
             "pattern": {
              "fillmode": "overlay",
              "size": 10,
              "solidity": 0.2
             }
            },
            "type": "bar"
           }
          ],
          "barpolar": [
           {
            "marker": {
             "line": {
              "color": "#E5ECF6",
              "width": 0.5
             },
             "pattern": {
              "fillmode": "overlay",
              "size": 10,
              "solidity": 0.2
             }
            },
            "type": "barpolar"
           }
          ],
          "carpet": [
           {
            "aaxis": {
             "endlinecolor": "#2a3f5f",
             "gridcolor": "white",
             "linecolor": "white",
             "minorgridcolor": "white",
             "startlinecolor": "#2a3f5f"
            },
            "baxis": {
             "endlinecolor": "#2a3f5f",
             "gridcolor": "white",
             "linecolor": "white",
             "minorgridcolor": "white",
             "startlinecolor": "#2a3f5f"
            },
            "type": "carpet"
           }
          ],
          "choropleth": [
           {
            "colorbar": {
             "outlinewidth": 0,
             "ticks": ""
            },
            "type": "choropleth"
           }
          ],
          "contour": [
           {
            "colorbar": {
             "outlinewidth": 0,
             "ticks": ""
            },
            "colorscale": [
             [
              0,
              "#0d0887"
             ],
             [
              0.1111111111111111,
              "#46039f"
             ],
             [
              0.2222222222222222,
              "#7201a8"
             ],
             [
              0.3333333333333333,
              "#9c179e"
             ],
             [
              0.4444444444444444,
              "#bd3786"
             ],
             [
              0.5555555555555556,
              "#d8576b"
             ],
             [
              0.6666666666666666,
              "#ed7953"
             ],
             [
              0.7777777777777778,
              "#fb9f3a"
             ],
             [
              0.8888888888888888,
              "#fdca26"
             ],
             [
              1,
              "#f0f921"
             ]
            ],
            "type": "contour"
           }
          ],
          "contourcarpet": [
           {
            "colorbar": {
             "outlinewidth": 0,
             "ticks": ""
            },
            "type": "contourcarpet"
           }
          ],
          "heatmap": [
           {
            "colorbar": {
             "outlinewidth": 0,
             "ticks": ""
            },
            "colorscale": [
             [
              0,
              "#0d0887"
             ],
             [
              0.1111111111111111,
              "#46039f"
             ],
             [
              0.2222222222222222,
              "#7201a8"
             ],
             [
              0.3333333333333333,
              "#9c179e"
             ],
             [
              0.4444444444444444,
              "#bd3786"
             ],
             [
              0.5555555555555556,
              "#d8576b"
             ],
             [
              0.6666666666666666,
              "#ed7953"
             ],
             [
              0.7777777777777778,
              "#fb9f3a"
             ],
             [
              0.8888888888888888,
              "#fdca26"
             ],
             [
              1,
              "#f0f921"
             ]
            ],
            "type": "heatmap"
           }
          ],
          "heatmapgl": [
           {
            "colorbar": {
             "outlinewidth": 0,
             "ticks": ""
            },
            "colorscale": [
             [
              0,
              "#0d0887"
             ],
             [
              0.1111111111111111,
              "#46039f"
             ],
             [
              0.2222222222222222,
              "#7201a8"
             ],
             [
              0.3333333333333333,
              "#9c179e"
             ],
             [
              0.4444444444444444,
              "#bd3786"
             ],
             [
              0.5555555555555556,
              "#d8576b"
             ],
             [
              0.6666666666666666,
              "#ed7953"
             ],
             [
              0.7777777777777778,
              "#fb9f3a"
             ],
             [
              0.8888888888888888,
              "#fdca26"
             ],
             [
              1,
              "#f0f921"
             ]
            ],
            "type": "heatmapgl"
           }
          ],
          "histogram": [
           {
            "marker": {
             "pattern": {
              "fillmode": "overlay",
              "size": 10,
              "solidity": 0.2
             }
            },
            "type": "histogram"
           }
          ],
          "histogram2d": [
           {
            "colorbar": {
             "outlinewidth": 0,
             "ticks": ""
            },
            "colorscale": [
             [
              0,
              "#0d0887"
             ],
             [
              0.1111111111111111,
              "#46039f"
             ],
             [
              0.2222222222222222,
              "#7201a8"
             ],
             [
              0.3333333333333333,
              "#9c179e"
             ],
             [
              0.4444444444444444,
              "#bd3786"
             ],
             [
              0.5555555555555556,
              "#d8576b"
             ],
             [
              0.6666666666666666,
              "#ed7953"
             ],
             [
              0.7777777777777778,
              "#fb9f3a"
             ],
             [
              0.8888888888888888,
              "#fdca26"
             ],
             [
              1,
              "#f0f921"
             ]
            ],
            "type": "histogram2d"
           }
          ],
          "histogram2dcontour": [
           {
            "colorbar": {
             "outlinewidth": 0,
             "ticks": ""
            },
            "colorscale": [
             [
              0,
              "#0d0887"
             ],
             [
              0.1111111111111111,
              "#46039f"
             ],
             [
              0.2222222222222222,
              "#7201a8"
             ],
             [
              0.3333333333333333,
              "#9c179e"
             ],
             [
              0.4444444444444444,
              "#bd3786"
             ],
             [
              0.5555555555555556,
              "#d8576b"
             ],
             [
              0.6666666666666666,
              "#ed7953"
             ],
             [
              0.7777777777777778,
              "#fb9f3a"
             ],
             [
              0.8888888888888888,
              "#fdca26"
             ],
             [
              1,
              "#f0f921"
             ]
            ],
            "type": "histogram2dcontour"
           }
          ],
          "mesh3d": [
           {
            "colorbar": {
             "outlinewidth": 0,
             "ticks": ""
            },
            "type": "mesh3d"
           }
          ],
          "parcoords": [
           {
            "line": {
             "colorbar": {
              "outlinewidth": 0,
              "ticks": ""
             }
            },
            "type": "parcoords"
           }
          ],
          "pie": [
           {
            "automargin": true,
            "type": "pie"
           }
          ],
          "scatter": [
           {
            "fillpattern": {
             "fillmode": "overlay",
             "size": 10,
             "solidity": 0.2
            },
            "type": "scatter"
           }
          ],
          "scatter3d": [
           {
            "line": {
             "colorbar": {
              "outlinewidth": 0,
              "ticks": ""
             }
            },
            "marker": {
             "colorbar": {
              "outlinewidth": 0,
              "ticks": ""
             }
            },
            "type": "scatter3d"
           }
          ],
          "scattercarpet": [
           {
            "marker": {
             "colorbar": {
              "outlinewidth": 0,
              "ticks": ""
             }
            },
            "type": "scattercarpet"
           }
          ],
          "scattergeo": [
           {
            "marker": {
             "colorbar": {
              "outlinewidth": 0,
              "ticks": ""
             }
            },
            "type": "scattergeo"
           }
          ],
          "scattergl": [
           {
            "marker": {
             "colorbar": {
              "outlinewidth": 0,
              "ticks": ""
             }
            },
            "type": "scattergl"
           }
          ],
          "scattermapbox": [
           {
            "marker": {
             "colorbar": {
              "outlinewidth": 0,
              "ticks": ""
             }
            },
            "type": "scattermapbox"
           }
          ],
          "scatterpolar": [
           {
            "marker": {
             "colorbar": {
              "outlinewidth": 0,
              "ticks": ""
             }
            },
            "type": "scatterpolar"
           }
          ],
          "scatterpolargl": [
           {
            "marker": {
             "colorbar": {
              "outlinewidth": 0,
              "ticks": ""
             }
            },
            "type": "scatterpolargl"
           }
          ],
          "scatterternary": [
           {
            "marker": {
             "colorbar": {
              "outlinewidth": 0,
              "ticks": ""
             }
            },
            "type": "scatterternary"
           }
          ],
          "surface": [
           {
            "colorbar": {
             "outlinewidth": 0,
             "ticks": ""
            },
            "colorscale": [
             [
              0,
              "#0d0887"
             ],
             [
              0.1111111111111111,
              "#46039f"
             ],
             [
              0.2222222222222222,
              "#7201a8"
             ],
             [
              0.3333333333333333,
              "#9c179e"
             ],
             [
              0.4444444444444444,
              "#bd3786"
             ],
             [
              0.5555555555555556,
              "#d8576b"
             ],
             [
              0.6666666666666666,
              "#ed7953"
             ],
             [
              0.7777777777777778,
              "#fb9f3a"
             ],
             [
              0.8888888888888888,
              "#fdca26"
             ],
             [
              1,
              "#f0f921"
             ]
            ],
            "type": "surface"
           }
          ],
          "table": [
           {
            "cells": {
             "fill": {
              "color": "#EBF0F8"
             },
             "line": {
              "color": "white"
             }
            },
            "header": {
             "fill": {
              "color": "#C8D4E3"
             },
             "line": {
              "color": "white"
             }
            },
            "type": "table"
           }
          ]
         },
         "layout": {
          "annotationdefaults": {
           "arrowcolor": "#2a3f5f",
           "arrowhead": 0,
           "arrowwidth": 1
          },
          "autotypenumbers": "strict",
          "coloraxis": {
           "colorbar": {
            "outlinewidth": 0,
            "ticks": ""
           }
          },
          "colorscale": {
           "diverging": [
            [
             0,
             "#8e0152"
            ],
            [
             0.1,
             "#c51b7d"
            ],
            [
             0.2,
             "#de77ae"
            ],
            [
             0.3,
             "#f1b6da"
            ],
            [
             0.4,
             "#fde0ef"
            ],
            [
             0.5,
             "#f7f7f7"
            ],
            [
             0.6,
             "#e6f5d0"
            ],
            [
             0.7,
             "#b8e186"
            ],
            [
             0.8,
             "#7fbc41"
            ],
            [
             0.9,
             "#4d9221"
            ],
            [
             1,
             "#276419"
            ]
           ],
           "sequential": [
            [
             0,
             "#0d0887"
            ],
            [
             0.1111111111111111,
             "#46039f"
            ],
            [
             0.2222222222222222,
             "#7201a8"
            ],
            [
             0.3333333333333333,
             "#9c179e"
            ],
            [
             0.4444444444444444,
             "#bd3786"
            ],
            [
             0.5555555555555556,
             "#d8576b"
            ],
            [
             0.6666666666666666,
             "#ed7953"
            ],
            [
             0.7777777777777778,
             "#fb9f3a"
            ],
            [
             0.8888888888888888,
             "#fdca26"
            ],
            [
             1,
             "#f0f921"
            ]
           ],
           "sequentialminus": [
            [
             0,
             "#0d0887"
            ],
            [
             0.1111111111111111,
             "#46039f"
            ],
            [
             0.2222222222222222,
             "#7201a8"
            ],
            [
             0.3333333333333333,
             "#9c179e"
            ],
            [
             0.4444444444444444,
             "#bd3786"
            ],
            [
             0.5555555555555556,
             "#d8576b"
            ],
            [
             0.6666666666666666,
             "#ed7953"
            ],
            [
             0.7777777777777778,
             "#fb9f3a"
            ],
            [
             0.8888888888888888,
             "#fdca26"
            ],
            [
             1,
             "#f0f921"
            ]
           ]
          },
          "colorway": [
           "#636efa",
           "#EF553B",
           "#00cc96",
           "#ab63fa",
           "#FFA15A",
           "#19d3f3",
           "#FF6692",
           "#B6E880",
           "#FF97FF",
           "#FECB52"
          ],
          "font": {
           "color": "#2a3f5f"
          },
          "geo": {
           "bgcolor": "white",
           "lakecolor": "white",
           "landcolor": "#E5ECF6",
           "showlakes": true,
           "showland": true,
           "subunitcolor": "white"
          },
          "hoverlabel": {
           "align": "left"
          },
          "hovermode": "closest",
          "mapbox": {
           "style": "light"
          },
          "paper_bgcolor": "white",
          "plot_bgcolor": "#E5ECF6",
          "polar": {
           "angularaxis": {
            "gridcolor": "white",
            "linecolor": "white",
            "ticks": ""
           },
           "bgcolor": "#E5ECF6",
           "radialaxis": {
            "gridcolor": "white",
            "linecolor": "white",
            "ticks": ""
           }
          },
          "scene": {
           "xaxis": {
            "backgroundcolor": "#E5ECF6",
            "gridcolor": "white",
            "gridwidth": 2,
            "linecolor": "white",
            "showbackground": true,
            "ticks": "",
            "zerolinecolor": "white"
           },
           "yaxis": {
            "backgroundcolor": "#E5ECF6",
            "gridcolor": "white",
            "gridwidth": 2,
            "linecolor": "white",
            "showbackground": true,
            "ticks": "",
            "zerolinecolor": "white"
           },
           "zaxis": {
            "backgroundcolor": "#E5ECF6",
            "gridcolor": "white",
            "gridwidth": 2,
            "linecolor": "white",
            "showbackground": true,
            "ticks": "",
            "zerolinecolor": "white"
           }
          },
          "shapedefaults": {
           "line": {
            "color": "#2a3f5f"
           }
          },
          "ternary": {
           "aaxis": {
            "gridcolor": "white",
            "linecolor": "white",
            "ticks": ""
           },
           "baxis": {
            "gridcolor": "white",
            "linecolor": "white",
            "ticks": ""
           },
           "bgcolor": "#E5ECF6",
           "caxis": {
            "gridcolor": "white",
            "linecolor": "white",
            "ticks": ""
           }
          },
          "title": {
           "x": 0.05
          },
          "xaxis": {
           "automargin": true,
           "gridcolor": "white",
           "linecolor": "white",
           "ticks": "",
           "title": {
            "standoff": 15
           },
           "zerolinecolor": "white",
           "zerolinewidth": 2
          },
          "yaxis": {
           "automargin": true,
           "gridcolor": "white",
           "linecolor": "white",
           "ticks": "",
           "title": {
            "standoff": 15
           },
           "zerolinecolor": "white",
           "zerolinewidth": 2
          }
         }
        },
        "title": {
         "text": "TSNE with perplexity of 10"
        },
        "xaxis": {
         "anchor": "y",
         "domain": [
          0,
          1
         ],
         "title": {
          "text": "Principal Component 1"
         }
        },
        "yaxis": {
         "anchor": "x",
         "domain": [
          0,
          1
         ],
         "title": {
          "text": "Principal Component 2"
         }
        }
       }
      }
     },
     "metadata": {},
     "output_type": "display_data"
    }
   ],
   "source": [
    "X_embedded = TSNE(n_components=2, learning_rate='auto',init='random', perplexity=10).fit_transform(X)\n",
    "tsne_df = pd.DataFrame(data=X_embedded, columns=['PCA1', 'PCA2'])\n",
    "tsne_df['Class'] = Y['class']  # Add the class labels\n",
    "tsne_df['Name']=Y[\"mesh_name\"]\n",
    "\n",
    "plot_data2(tsne_df,\"PCA1\",\"PCA2\", title=\"TSNE with perplexity of 10\", subset=chunks[0],html_filename=\"plot_tsne_perplexity_10.html\")"
   ]
  },
  {
   "cell_type": "code",
   "execution_count": 60,
   "metadata": {},
   "outputs": [
    {
     "name": "stdout",
     "output_type": "stream",
     "text": [
      "Plot saved as plot_tsne_perplexity_60.html\n"
     ]
    },
    {
     "data": {
      "application/vnd.plotly.v1+json": {
       "config": {
        "plotlyServerURL": "https://plot.ly"
       },
       "data": [
        {
         "customdata": [
          [
           "AircraftBuoyant",
           "m1337.obj"
          ],
          [
           "AircraftBuoyant",
           "m1338.obj"
          ],
          [
           "AircraftBuoyant",
           "m1339.obj"
          ],
          [
           "AircraftBuoyant",
           "m1340.obj"
          ],
          [
           "AircraftBuoyant",
           "m1341.obj"
          ],
          [
           "AircraftBuoyant",
           "m1342.obj"
          ],
          [
           "AircraftBuoyant",
           "m1343.obj"
          ],
          [
           "AircraftBuoyant",
           "m1344.obj"
          ],
          [
           "AircraftBuoyant",
           "m1345.obj"
          ],
          [
           "AircraftBuoyant",
           "m1346.obj"
          ],
          [
           "AircraftBuoyant",
           "m1348.obj"
          ],
          [
           "AircraftBuoyant",
           "m1349.obj"
          ],
          [
           "AircraftBuoyant",
           "m1350.obj"
          ],
          [
           "AircraftBuoyant",
           "m1351.obj"
          ],
          [
           "AircraftBuoyant",
           "m1352.obj"
          ]
         ],
         "hovertemplate": "Class=%{customdata[0]}<br>Principal Component 1=%{x}<br>Principal Component 2=%{y}<br>Name=%{customdata[1]}<extra></extra>",
         "legendgroup": "AircraftBuoyant",
         "marker": {
          "color": "#636efa",
          "symbol": "circle"
         },
         "mode": "markers",
         "name": "AircraftBuoyant",
         "orientation": "v",
         "showlegend": true,
         "type": "scatter",
         "x": [
          -25.674631118774414,
          -25.43208122253418,
          -27.382312774658203,
          -17.40403175354004,
          -22.847272872924805,
          -24.93490982055664,
          -25.923791885375977,
          -25.07453155517578,
          7.612383842468262,
          -24.119956970214844,
          -24.11123275756836,
          -23.312223434448242,
          -25.89073944091797,
          -30.155719757080078,
          -26.080610275268555
         ],
         "xaxis": "x",
         "y": [
          -22.051822662353516,
          -22.625938415527344,
          -22.490467071533203,
          3.6890923976898193,
          4.897004127502441,
          -14.79760456085205,
          -19.376651763916016,
          -15.863787651062012,
          -7.6315789222717285,
          4.949421405792236,
          4.900240421295166,
          5.702272415161133,
          3.4901962280273438,
          4.727166175842285,
          2.3714232444763184
         ],
         "yaxis": "y"
        },
        {
         "customdata": [
          [
           "Apartment",
           "D00045.obj"
          ],
          [
           "Apartment",
           "D00086.obj"
          ],
          [
           "Apartment",
           "D00138.obj"
          ],
          [
           "Apartment",
           "D00156.obj"
          ],
          [
           "Apartment",
           "D00310.obj"
          ],
          [
           "Apartment",
           "D00348.obj"
          ],
          [
           "Apartment",
           "D00366.obj"
          ],
          [
           "Apartment",
           "D00478.obj"
          ],
          [
           "Apartment",
           "D00496.obj"
          ],
          [
           "Apartment",
           "D00626.obj"
          ],
          [
           "Apartment",
           "D00639.obj"
          ],
          [
           "Apartment",
           "D00651.obj"
          ],
          [
           "Apartment",
           "D00681.obj"
          ],
          [
           "Apartment",
           "D00780.obj"
          ],
          [
           "Apartment",
           "D00792.obj"
          ],
          [
           "Apartment",
           "D00859.obj"
          ],
          [
           "Apartment",
           "D00860.obj"
          ],
          [
           "Apartment",
           "D00869.obj"
          ],
          [
           "Apartment",
           "D00921.obj"
          ],
          [
           "Apartment",
           "D00953.obj"
          ],
          [
           "Apartment",
           "m463.obj"
          ],
          [
           "Apartment",
           "m464.obj"
          ],
          [
           "Apartment",
           "m465.obj"
          ]
         ],
         "hovertemplate": "Class=%{customdata[0]}<br>Principal Component 1=%{x}<br>Principal Component 2=%{y}<br>Name=%{customdata[1]}<extra></extra>",
         "legendgroup": "Apartment",
         "marker": {
          "color": "#EF553B",
          "symbol": "circle"
         },
         "mode": "markers",
         "name": "Apartment",
         "orientation": "v",
         "showlegend": true,
         "type": "scatter",
         "x": [
          6.11234712600708,
          6.076474666595459,
          3.9096384048461914,
          -9.13908576965332,
          -5.439398765563965,
          -20.938186645507812,
          -20.76083755493164,
          2.1833314895629883,
          1.0765255689620972,
          -11.173341751098633,
          -15.785700798034668,
          -9.127010345458984,
          -9.6232328414917,
          -17.201637268066406,
          -22.939233779907227,
          -29.7830753326416,
          2.15149188041687,
          1.2076538801193237,
          -19.576936721801758,
          -1.0417611598968506,
          -9.502079963684082,
          -8.568055152893066,
          -36.059349060058594
         ],
         "xaxis": "x",
         "y": [
          -41.72887420654297,
          -2.674558401107788,
          -38.856285095214844,
          -28.403575897216797,
          -24.256633758544922,
          -22.878034591674805,
          -23.448131561279297,
          -24.576799392700195,
          -32.58061599731445,
          -15.707026481628418,
          -24.813953399658203,
          -28.41332244873047,
          -26.81009864807129,
          -16.910179138183594,
          -21.441883087158203,
          -5.367889881134033,
          -24.65386962890625,
          -31.052980422973633,
          -17.941631317138672,
          -20.832632064819336,
          -24.06822967529297,
          -18.410823822021484,
          -5.516307353973389
         ],
         "yaxis": "y"
        },
        {
         "customdata": [
          [
           "AquaticAnimal",
           "m53.obj"
          ],
          [
           "AquaticAnimal",
           "m54.obj"
          ],
          [
           "AquaticAnimal",
           "m55.obj"
          ],
          [
           "AquaticAnimal",
           "m56.obj"
          ],
          [
           "AquaticAnimal",
           "m57.obj"
          ],
          [
           "AquaticAnimal",
           "m58.obj"
          ],
          [
           "AquaticAnimal",
           "m59.obj"
          ],
          [
           "AquaticAnimal",
           "m60.obj"
          ],
          [
           "AquaticAnimal",
           "m61.obj"
          ],
          [
           "AquaticAnimal",
           "m62.obj"
          ],
          [
           "AquaticAnimal",
           "m63.obj"
          ],
          [
           "AquaticAnimal",
           "m64.obj"
          ],
          [
           "AquaticAnimal",
           "m65.obj"
          ],
          [
           "AquaticAnimal",
           "m66.obj"
          ],
          [
           "AquaticAnimal",
           "m67.obj"
          ],
          [
           "AquaticAnimal",
           "m68.obj"
          ],
          [
           "AquaticAnimal",
           "m69.obj"
          ],
          [
           "AquaticAnimal",
           "m70.obj"
          ],
          [
           "AquaticAnimal",
           "m71.obj"
          ],
          [
           "AquaticAnimal",
           "m72.obj"
          ],
          [
           "AquaticAnimal",
           "m73.obj"
          ],
          [
           "AquaticAnimal",
           "m74.obj"
          ],
          [
           "AquaticAnimal",
           "m75.obj"
          ],
          [
           "AquaticAnimal",
           "m76.obj"
          ],
          [
           "AquaticAnimal",
           "m77.obj"
          ],
          [
           "AquaticAnimal",
           "m78.obj"
          ],
          [
           "AquaticAnimal",
           "m79.obj"
          ],
          [
           "AquaticAnimal",
           "m80.obj"
          ],
          [
           "AquaticAnimal",
           "m81.obj"
          ]
         ],
         "hovertemplate": "Class=%{customdata[0]}<br>Principal Component 1=%{x}<br>Principal Component 2=%{y}<br>Name=%{customdata[1]}<extra></extra>",
         "legendgroup": "AquaticAnimal",
         "marker": {
          "color": "#00cc96",
          "symbol": "circle"
         },
         "mode": "markers",
         "name": "AquaticAnimal",
         "orientation": "v",
         "showlegend": true,
         "type": "scatter",
         "x": [
          -9.453588485717773,
          -13.346035957336426,
          -9.717140197753906,
          -13.440933227539062,
          -13.153108596801758,
          -18.5924072265625,
          -41.20326232910156,
          0.6561955213546753,
          -10.696253776550293,
          -11.906112670898438,
          -16.32674789428711,
          -12.016814231872559,
          13.211943626403809,
          -7.433979034423828,
          -12.914900779724121,
          -5.131286144256592,
          -11.726205825805664,
          1.3203192949295044,
          -5.287991046905518,
          -4.696533203125,
          -1.3592314720153809,
          2.4908764362335205,
          3.1385858058929443,
          -0.006604124326258898,
          6.7327189445495605,
          6.758533000946045,
          -3.0258164405822754,
          2.876518964767456,
          2.3078458309173584
         ],
         "xaxis": "x",
         "y": [
          20.050975799560547,
          20.53202247619629,
          20.017229080200195,
          21.777790069580078,
          21.03933334350586,
          1.1246514320373535,
          -7.318737506866455,
          16.64065170288086,
          19.258329391479492,
          19.294801712036133,
          -3.5956194400787354,
          20.111955642700195,
          16.42002296447754,
          9.227267265319824,
          20.52288818359375,
          23.623891830444336,
          20.917221069335938,
          19.617963790893555,
          15.907916069030762,
          19.887250900268555,
          8.632384300231934,
          20.62278175354004,
          20.162960052490234,
          18.473487854003906,
          17.79377555847168,
          14.934207916259766,
          24.80028533935547,
          20.92563819885254,
          21.088953018188477
         ],
         "yaxis": "y"
        },
        {
         "customdata": [
          [
           "Bed",
           "D00031.obj"
          ],
          [
           "Bed",
           "D00110.obj"
          ],
          [
           "Bed",
           "D00121.obj"
          ],
          [
           "Bed",
           "D00184.obj"
          ],
          [
           "Bed",
           "D00210.obj"
          ],
          [
           "Bed",
           "D00213.obj"
          ],
          [
           "Bed",
           "D00217.obj"
          ],
          [
           "Bed",
           "D00307.obj"
          ],
          [
           "Bed",
           "D00322.obj"
          ],
          [
           "Bed",
           "D00417.obj"
          ],
          [
           "Bed",
           "D00538.obj"
          ],
          [
           "Bed",
           "D00545.obj"
          ],
          [
           "Bed",
           "D00552.obj"
          ],
          [
           "Bed",
           "D00565.obj"
          ],
          [
           "Bed",
           "D00650.obj"
          ],
          [
           "Bed",
           "D00735.obj"
          ],
          [
           "Bed",
           "D00836.obj"
          ],
          [
           "Bed",
           "D00839.obj"
          ],
          [
           "Bed",
           "D00969.obj"
          ],
          [
           "Bed",
           "D00988.obj"
          ],
          [
           "Bed",
           "m945.obj"
          ],
          [
           "Bed",
           "m946.obj"
          ],
          [
           "Bed",
           "m947.obj"
          ],
          [
           "Bed",
           "m948.obj"
          ],
          [
           "Bed",
           "m949.obj"
          ],
          [
           "Bed",
           "m950.obj"
          ],
          [
           "Bed",
           "m951.obj"
          ]
         ],
         "hovertemplate": "Class=%{customdata[0]}<br>Principal Component 1=%{x}<br>Principal Component 2=%{y}<br>Name=%{customdata[1]}<extra></extra>",
         "legendgroup": "Bed",
         "marker": {
          "color": "#ab63fa",
          "symbol": "circle"
         },
         "mode": "markers",
         "name": "Bed",
         "orientation": "v",
         "showlegend": true,
         "type": "scatter",
         "x": [
          0.852608323097229,
          10.346918106079102,
          7.241552829742432,
          -21.37305450439453,
          4.396388530731201,
          1.161693811416626,
          10.786617279052734,
          -0.2514589726924896,
          11.169254302978516,
          1.022710919380188,
          9.861226081848145,
          8.220078468322754,
          10.57400894165039,
          1.3966472148895264,
          10.54772663116455,
          0.9621410965919495,
          -28.7431640625,
          -0.3451671898365021,
          2.130917549133301,
          7.421400547027588,
          2.889512538909912,
          12.15144157409668,
          11.447484970092773,
          5.5321269035339355,
          5.710630893707275,
          10.59338092803955,
          9.270391464233398
         ],
         "xaxis": "x",
         "y": [
          -31.878427505493164,
          -35.87090301513672,
          -40.51148986816406,
          -27.198970794677734,
          -41.71282196044922,
          -27.244617462158203,
          -26.09850311279297,
          -34.92718505859375,
          -27.158178329467773,
          -33.493934631347656,
          -35.471405029296875,
          -35.9152717590332,
          -35.040916442871094,
          -33.73845672607422,
          -26.68069839477539,
          -33.825904846191406,
          -9.308333396911621,
          -34.7611198425293,
          -35.74087905883789,
          -35.678829193115234,
          -33.02530288696289,
          -26.727025985717773,
          -36.658016204833984,
          -35.62512969970703,
          -37.24263381958008,
          -38.59647750854492,
          -39.52894973754883
         ],
         "yaxis": "y"
        },
        {
         "customdata": [
          [
           "Bicycle",
           "D00016.obj"
          ],
          [
           "Bicycle",
           "D00033.obj"
          ],
          [
           "Bicycle",
           "D00040.obj"
          ],
          [
           "Bicycle",
           "D00077.obj"
          ],
          [
           "Bicycle",
           "D00078.obj"
          ],
          [
           "Bicycle",
           "D00462.obj"
          ],
          [
           "Bicycle",
           "D00514.obj"
          ],
          [
           "Bicycle",
           "D00536.obj"
          ],
          [
           "Bicycle",
           "D00555.obj"
          ],
          [
           "Bicycle",
           "D00558.obj"
          ],
          [
           "Bicycle",
           "D00567.obj"
          ],
          [
           "Bicycle",
           "D00621.obj"
          ],
          [
           "Bicycle",
           "D00708.obj"
          ],
          [
           "Bicycle",
           "D00750.obj"
          ],
          [
           "Bicycle",
           "D00838.obj"
          ],
          [
           "Bicycle",
           "D00847.obj"
          ],
          [
           "Bicycle",
           "D00904.obj"
          ],
          [
           "Bicycle",
           "D00930.obj"
          ],
          [
           "Bicycle",
           "D00931.obj"
          ],
          [
           "Bicycle",
           "D00974.obj"
          ],
          [
           "Bicycle",
           "m1472.obj"
          ],
          [
           "Bicycle",
           "m1473.obj"
          ],
          [
           "Bicycle",
           "m1475.obj"
          ],
          [
           "Bicycle",
           "m1476.obj"
          ],
          [
           "Bicycle",
           "m1477.obj"
          ],
          [
           "Bicycle",
           "m1478.obj"
          ]
         ],
         "hovertemplate": "Class=%{customdata[0]}<br>Principal Component 1=%{x}<br>Principal Component 2=%{y}<br>Name=%{customdata[1]}<extra></extra>",
         "legendgroup": "Bicycle",
         "marker": {
          "color": "#FFA15A",
          "symbol": "circle"
         },
         "mode": "markers",
         "name": "Bicycle",
         "orientation": "v",
         "showlegend": true,
         "type": "scatter",
         "x": [
          25.431964874267578,
          24.799877166748047,
          16.551109313964844,
          23.743253707885742,
          23.636274337768555,
          24.2138729095459,
          25.31359100341797,
          23.53562355041504,
          22.480558395385742,
          22.50168228149414,
          24.515647888183594,
          25.5333251953125,
          25.25164794921875,
          22.51874542236328,
          25.244380950927734,
          23.674659729003906,
          26.68736457824707,
          22.800100326538086,
          25.57185173034668,
          27.94092559814453,
          24.695005416870117,
          24.444198608398438,
          27.929039001464844,
          24.521324157714844,
          23.649147033691406,
          24.936328887939453
         ],
         "xaxis": "x",
         "y": [
          18.297119140625,
          18.349184036254883,
          28.235183715820312,
          17.960580825805664,
          -0.8825797438621521,
          17.22309684753418,
          17.567607879638672,
          -1.1537928581237793,
          15.618932723999023,
          16.211544036865234,
          19.040546417236328,
          18.35601806640625,
          16.75444793701172,
          0.004006472881883383,
          16.718637466430664,
          -0.8667978644371033,
          1.8242454528808594,
          -0.5412266850471497,
          2.768350124359131,
          -8.472171783447266,
          20.098796844482422,
          18.85279083251953,
          -8.477384567260742,
          19.08899688720703,
          -0.9490491151809692,
          18.752538681030273
         ],
         "yaxis": "y"
        },
        {
         "customdata": [
          [
           "Biplane",
           "D00069.obj"
          ],
          [
           "Biplane",
           "D00132.obj"
          ],
          [
           "Biplane",
           "D00178.obj"
          ],
          [
           "Biplane",
           "D00199.obj"
          ],
          [
           "Biplane",
           "D00246.obj"
          ],
          [
           "Biplane",
           "D00276.obj"
          ],
          [
           "Biplane",
           "D00277.obj"
          ],
          [
           "Biplane",
           "D00320.obj"
          ],
          [
           "Biplane",
           "D00373.obj"
          ],
          [
           "Biplane",
           "D00410.obj"
          ],
          [
           "Biplane",
           "D00490.obj"
          ],
          [
           "Biplane",
           "D00515.obj"
          ],
          [
           "Biplane",
           "D00601.obj"
          ],
          [
           "Biplane",
           "D00616.obj"
          ],
          [
           "Biplane",
           "D00632.obj"
          ],
          [
           "Biplane",
           "D00634.obj"
          ],
          [
           "Biplane",
           "D00666.obj"
          ],
          [
           "Biplane",
           "D00854.obj"
          ],
          [
           "Biplane",
           "D00890.obj"
          ],
          [
           "Biplane",
           "D00900.obj"
          ],
          [
           "Biplane",
           "m1118.obj"
          ],
          [
           "Biplane",
           "m1119.obj"
          ],
          [
           "Biplane",
           "m1120.obj"
          ],
          [
           "Biplane",
           "m1121.obj"
          ],
          [
           "Biplane",
           "m1122.obj"
          ],
          [
           "Biplane",
           "m1123.obj"
          ],
          [
           "Biplane",
           "m1124.obj"
          ],
          [
           "Biplane",
           "m1126.obj"
          ],
          [
           "Biplane",
           "m1127.obj"
          ],
          [
           "Biplane",
           "m1128.obj"
          ],
          [
           "Biplane",
           "m1129.obj"
          ],
          [
           "Biplane",
           "m1131.obj"
          ],
          [
           "Biplane",
           "m1132.obj"
          ],
          [
           "Biplane",
           "m1133.obj"
          ],
          [
           "Biplane",
           "m1134.obj"
          ],
          [
           "Biplane",
           "m1135.obj"
          ],
          [
           "Biplane",
           "m1136.obj"
          ],
          [
           "Biplane",
           "m1137.obj"
          ],
          [
           "Biplane",
           "m1138.obj"
          ],
          [
           "Biplane",
           "m1139.obj"
          ],
          [
           "Biplane",
           "m1141.obj"
          ],
          [
           "Biplane",
           "m1143.obj"
          ],
          [
           "Biplane",
           "m1144.obj"
          ],
          [
           "Biplane",
           "m1146.obj"
          ]
         ],
         "hovertemplate": "Class=%{customdata[0]}<br>Principal Component 1=%{x}<br>Principal Component 2=%{y}<br>Name=%{customdata[1]}<extra></extra>",
         "legendgroup": "Biplane",
         "marker": {
          "color": "#19d3f3",
          "symbol": "circle"
         },
         "mode": "markers",
         "name": "Biplane",
         "orientation": "v",
         "showlegend": true,
         "type": "scatter",
         "x": [
          22.519407272338867,
          15.05465030670166,
          21.580806732177734,
          22.532367706298828,
          18.25043487548828,
          11.23941421508789,
          20.682048797607422,
          21.777393341064453,
          16.858287811279297,
          9.597433090209961,
          21.79753303527832,
          16.805559158325195,
          16.418285369873047,
          17.950077056884766,
          18.011018753051758,
          18.427597045898438,
          15.70048713684082,
          22.58336067199707,
          9.040628433227539,
          21.696043014526367,
          23.357593536376953,
          15.961248397827148,
          9.758878707885742,
          22.469511032104492,
          26.24515724182129,
          15.460678100585938,
          21.839244842529297,
          20.58612060546875,
          15.056838989257812,
          16.540979385375977,
          19.877532958984375,
          16.692569732666016,
          21.53109359741211,
          18.247764587402344,
          18.161359786987305,
          18.909624099731445,
          22.502912521362305,
          19.457374572753906,
          17.22974395751953,
          22.27948760986328,
          18.367002487182617,
          19.64483070373535,
          20.69225311279297,
          16.280994415283203
         ],
         "xaxis": "x",
         "y": [
          10.768455505371094,
          12.596500396728516,
          26.11881446838379,
          7.447272300720215,
          30.204757690429688,
          0.8624353408813477,
          27.73019027709961,
          25.914461135864258,
          11.932134628295898,
          17.369216918945312,
          19.639392852783203,
          11.502490997314453,
          -18.878677368164062,
          19.26732063293457,
          14.761204719543457,
          8.83226490020752,
          2.8328070640563965,
          25.51239585876465,
          -7.146415710449219,
          26.062850952148438,
          8.114158630371094,
          2.2168073654174805,
          -6.442662239074707,
          9.865682601928711,
          13.721888542175293,
          1.8518887758255005,
          14.772459030151367,
          -3.6076433658599854,
          12.736600875854492,
          2.725806474685669,
          12.943351745605469,
          3.2863991260528564,
          15.294750213623047,
          14.824610710144043,
          23.337797164916992,
          15.576543807983398,
          23.04800033569336,
          24.837705612182617,
          7.748489856719971,
          8.17524528503418,
          21.019983291625977,
          10.266705513000488,
          13.147541999816895,
          19.062891006469727
         ],
         "yaxis": "y"
        },
        {
         "customdata": [
          [
           "Bird",
           "D00089.obj"
          ],
          [
           "Bird",
           "D00113.obj"
          ],
          [
           "Bird",
           "D00164.obj"
          ],
          [
           "Bird",
           "D00234.obj"
          ],
          [
           "Bird",
           "D00271.obj"
          ],
          [
           "Bird",
           "D00284.obj"
          ],
          [
           "Bird",
           "D00323.obj"
          ],
          [
           "Bird",
           "D00386.obj"
          ],
          [
           "Bird",
           "D00438.obj"
          ],
          [
           "Bird",
           "D00442.obj"
          ],
          [
           "Bird",
           "D00546.obj"
          ],
          [
           "Bird",
           "D00599.obj"
          ],
          [
           "Bird",
           "D00625.obj"
          ],
          [
           "Bird",
           "D00689.obj"
          ],
          [
           "Bird",
           "D00736.obj"
          ],
          [
           "Bird",
           "D00762.obj"
          ],
          [
           "Bird",
           "D00862.obj"
          ],
          [
           "Bird",
           "D00922.obj"
          ],
          [
           "Bird",
           "D00961.obj"
          ],
          [
           "Bird",
           "D00999.obj"
          ],
          [
           "Bird",
           "m28.obj"
          ],
          [
           "Bird",
           "m29.obj"
          ],
          [
           "Bird",
           "m30.obj"
          ],
          [
           "Bird",
           "m31.obj"
          ],
          [
           "Bird",
           "m32.obj"
          ],
          [
           "Bird",
           "m33.obj"
          ],
          [
           "Bird",
           "m34.obj"
          ],
          [
           "Bird",
           "m35.obj"
          ],
          [
           "Bird",
           "m36.obj"
          ],
          [
           "Bird",
           "m37.obj"
          ],
          [
           "Bird",
           "m38.obj"
          ],
          [
           "Bird",
           "m39.obj"
          ],
          [
           "Bird",
           "m40.obj"
          ],
          [
           "Bird",
           "m41.obj"
          ],
          [
           "Bird",
           "m42.obj"
          ],
          [
           "Bird",
           "m43.obj"
          ],
          [
           "Bird",
           "m44.obj"
          ],
          [
           "Bird",
           "m45.obj"
          ],
          [
           "Bird",
           "m47.obj"
          ],
          [
           "Bird",
           "m48.obj"
          ],
          [
           "Bird",
           "m50.obj"
          ],
          [
           "Bird",
           "m51.obj"
          ],
          [
           "Bird",
           "m52.obj"
          ]
         ],
         "hovertemplate": "Class=%{customdata[0]}<br>Principal Component 1=%{x}<br>Principal Component 2=%{y}<br>Name=%{customdata[1]}<extra></extra>",
         "legendgroup": "Bird",
         "marker": {
          "color": "#FF6692",
          "symbol": "circle"
         },
         "mode": "markers",
         "name": "Bird",
         "orientation": "v",
         "showlegend": true,
         "type": "scatter",
         "x": [
          20.97472381591797,
          1.644751787185669,
          20.970247268676758,
          15.004547119140625,
          21.188220977783203,
          22.52863883972168,
          4.056206703186035,
          -1.6740143299102783,
          12.682040214538574,
          20.16208839416504,
          10.911197662353516,
          11.13501262664795,
          22.254718780517578,
          21.58601951599121,
          12.812759399414062,
          15.558036804199219,
          13.651780128479004,
          17.995555877685547,
          13.076001167297363,
          10.214978218078613,
          -3.317230701446533,
          -4.5589823722839355,
          1.5209355354309082,
          -20.498504638671875,
          -7.145591735839844,
          -4.7433366775512695,
          21.044677734375,
          3.0128142833709717,
          17.48781394958496,
          17.804597854614258,
          10.274352073669434,
          13.851217269897461,
          21.560976028442383,
          12.729286193847656,
          16.279869079589844,
          25.296695709228516,
          19.64219093322754,
          22.53466796875,
          12.669960021972656,
          -18.09335708618164,
          -18.447729110717773,
          -23.72509765625,
          -7.52976131439209
         ],
         "xaxis": "x",
         "y": [
          22.747220993041992,
          -7.675051212310791,
          20.30805206298828,
          17.421504974365234,
          17.33073616027832,
          26.8150577545166,
          35.709842681884766,
          24.624309539794922,
          29.089344024658203,
          12.378950119018555,
          27.625244140625,
          30.53561019897461,
          17.85504722595215,
          24.116769790649414,
          28.063810348510742,
          16.74483871459961,
          26.404769897460938,
          13.390644073486328,
          29.80901527404785,
          29.802120208740234,
          8.8665132522583,
          16.148351669311523,
          16.647789001464844,
          -5.544866561889648,
          11.78220272064209,
          -5.784459590911865,
          22.676362991333008,
          -27.50423812866211,
          -12.65101146697998,
          13.550238609313965,
          29.646432876586914,
          19.410734176635742,
          24.098119735717773,
          29.178985595703125,
          32.05583572387695,
          21.63806915283203,
          23.67917823791504,
          26.81857681274414,
          28.292367935180664,
          1.9448680877685547,
          0.306297242641449,
          0.1013864278793335,
          -6.776673793792725
         ],
         "yaxis": "y"
        },
        {
         "customdata": [
          [
           "Bookset",
           "D01009.obj"
          ],
          [
           "Bookset",
           "D01013.obj"
          ],
          [
           "Bookset",
           "D01030.obj"
          ],
          [
           "Bookset",
           "D01038.obj"
          ],
          [
           "Bookset",
           "D01042.obj"
          ],
          [
           "Bookset",
           "D01050.obj"
          ],
          [
           "Bookset",
           "D01065.obj"
          ],
          [
           "Bookset",
           "D01096.obj"
          ],
          [
           "Bookset",
           "D01108.obj"
          ],
          [
           "Bookset",
           "D01110.obj"
          ],
          [
           "Bookset",
           "D01122.obj"
          ],
          [
           "Bookset",
           "D01135.obj"
          ],
          [
           "Bookset",
           "D01146.obj"
          ],
          [
           "Bookset",
           "D01182.obj"
          ],
          [
           "Bookset",
           "D01183.obj"
          ],
          [
           "Bookset",
           "D01184.obj"
          ],
          [
           "Bookset",
           "D01190.obj"
          ],
          [
           "Bookset",
           "D01199.obj"
          ]
         ],
         "hovertemplate": "Class=%{customdata[0]}<br>Principal Component 1=%{x}<br>Principal Component 2=%{y}<br>Name=%{customdata[1]}<extra></extra>",
         "legendgroup": "Bookset",
         "marker": {
          "color": "#B6E880",
          "symbol": "circle"
         },
         "mode": "markers",
         "name": "Bookset",
         "orientation": "v",
         "showlegend": true,
         "type": "scatter",
         "x": [
          -22.34200668334961,
          -9.829811096191406,
          -27.00396156311035,
          12.487564086914062,
          -5.117465019226074,
          -23.324682235717773,
          -9.047998428344727,
          -12.862529754638672,
          -12.18385124206543,
          -19.176462173461914,
          -25.525197982788086,
          -39.65986251831055,
          -23.771881103515625,
          -12.689522743225098,
          -23.22342872619629,
          -23.548294067382812,
          -1.8902016878128052,
          -13.279794692993164
         ],
         "xaxis": "x",
         "y": [
          -27.04820442199707,
          -28.415054321289062,
          -28.626441955566406,
          -9.611591339111328,
          -20.81641387939453,
          -25.791542053222656,
          -27.262983322143555,
          -28.566892623901367,
          -25.265979766845703,
          -23.085857391357422,
          -23.91950798034668,
          -9.645258903503418,
          -25.33371925354004,
          -28.195886611938477,
          -26.709747314453125,
          -27.977108001708984,
          -20.31770133972168,
          -28.431692123413086
         ],
         "yaxis": "y"
        },
        {
         "customdata": [
          [
           "Bottle",
           "D00020.obj"
          ],
          [
           "Bottle",
           "D00123.obj"
          ],
          [
           "Bottle",
           "D00139.obj"
          ],
          [
           "Bottle",
           "D00166.obj"
          ],
          [
           "Bottle",
           "D00176.obj"
          ],
          [
           "Bottle",
           "D00208.obj"
          ],
          [
           "Bottle",
           "D00281.obj"
          ],
          [
           "Bottle",
           "D00311.obj"
          ],
          [
           "Bottle",
           "D00350.obj"
          ],
          [
           "Bottle",
           "D00390.obj"
          ],
          [
           "Bottle",
           "D00451.obj"
          ],
          [
           "Bottle",
           "D00679.obj"
          ],
          [
           "Bottle",
           "D00696.obj"
          ],
          [
           "Bottle",
           "D00711.obj"
          ],
          [
           "Bottle",
           "D00716.obj"
          ],
          [
           "Bottle",
           "D00726.obj"
          ],
          [
           "Bottle",
           "D00892.obj"
          ],
          [
           "Bottle",
           "D00940.obj"
          ],
          [
           "Bottle",
           "D00959.obj"
          ],
          [
           "Bottle",
           "m482.obj"
          ],
          [
           "Bottle",
           "m483.obj"
          ],
          [
           "Bottle",
           "m484.obj"
          ],
          [
           "Bottle",
           "m485.obj"
          ],
          [
           "Bottle",
           "m486.obj"
          ],
          [
           "Bottle",
           "m487.obj"
          ],
          [
           "Bottle",
           "m488.obj"
          ],
          [
           "Bottle",
           "m489.obj"
          ],
          [
           "Bottle",
           "m490.obj"
          ],
          [
           "Bottle",
           "m491.obj"
          ]
         ],
         "hovertemplate": "Class=%{customdata[0]}<br>Principal Component 1=%{x}<br>Principal Component 2=%{y}<br>Name=%{customdata[1]}<extra></extra>",
         "legendgroup": "Bottle",
         "marker": {
          "color": "#FF97FF",
          "symbol": "circle"
         },
         "mode": "markers",
         "name": "Bottle",
         "orientation": "v",
         "showlegend": true,
         "type": "scatter",
         "x": [
          -30.04694938659668,
          -30.5382022857666,
          -15.827686309814453,
          -36.90284729003906,
          19.154253005981445,
          -5.571794033050537,
          -6.304727554321289,
          -31.236875534057617,
          -30.069223403930664,
          -2.961465358734131,
          -35.18204879760742,
          25.2091064453125,
          -37.861854553222656,
          -31.401002883911133,
          -2.1560842990875244,
          -29.555967330932617,
          -37.51646423339844,
          -32.06572341918945,
          -28.21792221069336,
          -26.53192901611328,
          -28.88946533203125,
          -30.484895706176758,
          -29.870973587036133,
          -33.561588287353516,
          -27.105545043945312,
          -31.492952346801758,
          -31.976137161254883,
          -34.36052322387695,
          -25.23848533630371
         ],
         "xaxis": "x",
         "y": [
          1.4647091627120972,
          1.133784294128418,
          12.719449043273926,
          -6.455788612365723,
          7.743429183959961,
          6.531984329223633,
          6.475467205047607,
          -3.8207616806030273,
          0.881583034992218,
          -9.790185928344727,
          -5.3195977210998535,
          12.66751766204834,
          -5.27833890914917,
          -4.436899185180664,
          -3.526158094406128,
          8.504380226135254,
          -4.875607013702393,
          -4.5760674476623535,
          4.228041648864746,
          2.700523853302002,
          1.3103704452514648,
          0.07081054151058197,
          0.4644738435745239,
          -2.202171564102173,
          1.3126529455184937,
          -3.5152244567871094,
          -2.550633668899536,
          -4.502285003662109,
          -7.113871097564697
         ],
         "yaxis": "y"
        },
        {
         "customdata": [
          [
           "BuildingNonResidential",
           "m382.obj"
          ],
          [
           "BuildingNonResidential",
           "m383.obj"
          ],
          [
           "BuildingNonResidential",
           "m384.obj"
          ],
          [
           "BuildingNonResidential",
           "m385.obj"
          ],
          [
           "BuildingNonResidential",
           "m386.obj"
          ],
          [
           "BuildingNonResidential",
           "m387.obj"
          ],
          [
           "BuildingNonResidential",
           "m390.obj"
          ],
          [
           "BuildingNonResidential",
           "m391.obj"
          ],
          [
           "BuildingNonResidential",
           "m392.obj"
          ],
          [
           "BuildingNonResidential",
           "m393.obj"
          ],
          [
           "BuildingNonResidential",
           "m394.obj"
          ],
          [
           "BuildingNonResidential",
           "m395.obj"
          ],
          [
           "BuildingNonResidential",
           "m396.obj"
          ],
          [
           "BuildingNonResidential",
           "m397.obj"
          ],
          [
           "BuildingNonResidential",
           "m398.obj"
          ],
          [
           "BuildingNonResidential",
           "m399.obj"
          ],
          [
           "BuildingNonResidential",
           "m400.obj"
          ],
          [
           "BuildingNonResidential",
           "m401.obj"
          ],
          [
           "BuildingNonResidential",
           "m402.obj"
          ],
          [
           "BuildingNonResidential",
           "m404.obj"
          ],
          [
           "BuildingNonResidential",
           "m405.obj"
          ],
          [
           "BuildingNonResidential",
           "m406.obj"
          ],
          [
           "BuildingNonResidential",
           "m407.obj"
          ],
          [
           "BuildingNonResidential",
           "m408.obj"
          ],
          [
           "BuildingNonResidential",
           "m409.obj"
          ],
          [
           "BuildingNonResidential",
           "m410.obj"
          ],
          [
           "BuildingNonResidential",
           "m412.obj"
          ],
          [
           "BuildingNonResidential",
           "m413.obj"
          ],
          [
           "BuildingNonResidential",
           "m414.obj"
          ],
          [
           "BuildingNonResidential",
           "m415.obj"
          ],
          [
           "BuildingNonResidential",
           "m416.obj"
          ],
          [
           "BuildingNonResidential",
           "m418.obj"
          ],
          [
           "BuildingNonResidential",
           "m420.obj"
          ],
          [
           "BuildingNonResidential",
           "m421.obj"
          ],
          [
           "BuildingNonResidential",
           "m470.obj"
          ],
          [
           "BuildingNonResidential",
           "m471.obj"
          ],
          [
           "BuildingNonResidential",
           "m472.obj"
          ],
          [
           "BuildingNonResidential",
           "m474.obj"
          ],
          [
           "BuildingNonResidential",
           "m475.obj"
          ],
          [
           "BuildingNonResidential",
           "m477.obj"
          ],
          [
           "BuildingNonResidential",
           "m478.obj"
          ],
          [
           "BuildingNonResidential",
           "m479.obj"
          ],
          [
           "BuildingNonResidential",
           "m481.obj"
          ]
         ],
         "hovertemplate": "Class=%{customdata[0]}<br>Principal Component 1=%{x}<br>Principal Component 2=%{y}<br>Name=%{customdata[1]}<extra></extra>",
         "legendgroup": "BuildingNonResidential",
         "marker": {
          "color": "#FECB52",
          "symbol": "circle"
         },
         "mode": "markers",
         "name": "BuildingNonResidential",
         "orientation": "v",
         "showlegend": true,
         "type": "scatter",
         "x": [
          5.026413917541504,
          3.6138579845428467,
          17.1920166015625,
          3.4963479042053223,
          6.510210037231445,
          12.691656112670898,
          -21.32050895690918,
          -16.319108963012695,
          -18.318044662475586,
          4.356363773345947,
          8.62718677520752,
          0.08588829636573792,
          8.388740539550781,
          0.6724035739898682,
          7.215854167938232,
          5.316286087036133,
          1.9884394407272339,
          7.400232791900635,
          -6.464147567749023,
          -0.9437248706817627,
          -8.670413970947266,
          -7.362052917480469,
          -22.630735397338867,
          -0.9815223217010498,
          15.645573616027832,
          2.3200695514678955,
          22.0528507232666,
          -6.270091533660889,
          5.854599475860596,
          -3.841449022293091,
          -8.996233940124512,
          2.2598321437835693,
          0.9991837739944458,
          8.799428939819336,
          19.957332611083984,
          -24.933002471923828,
          -14.11579704284668,
          7.84773588180542,
          -6.655226707458496,
          1.647853970527649,
          23.538606643676758,
          19.425960540771484,
          6.394390106201172
         ],
         "xaxis": "x",
         "y": [
          -26.611356735229492,
          -22.94992446899414,
          -31.773900985717773,
          -21.5633544921875,
          -42.59394836425781,
          -14.134788513183594,
          -22.499431610107422,
          -7.996423244476318,
          -2.538353443145752,
          -13.97876262664795,
          -28.3018856048584,
          -24.98363494873047,
          -19.016799926757812,
          -25.185922622680664,
          -30.23597526550293,
          -42.295623779296875,
          -39.92620086669922,
          -8.957650184631348,
          -23.132444381713867,
          -11.796379089355469,
          -29.08124542236328,
          -23.013898849487305,
          -15.353741645812988,
          -31.340654373168945,
          13.812313079833984,
          -41.75200271606445,
          18.571125030517578,
          -26.406810760498047,
          -26.679122924804688,
          -17.035667419433594,
          -26.906417846679688,
          -40.980342864990234,
          -40.24439239501953,
          -29.30333137512207,
          -24.227519989013672,
          7.252699375152588,
          2.4456675052642822,
          -42.16948318481445,
          9.970909118652344,
          3.986701726913452,
          -8.093880653381348,
          3.077927350997925,
          -40.357139587402344
         ],
         "yaxis": "y"
        }
       ],
       "layout": {
        "legend": {
         "title": {
          "text": "Class"
         },
         "tracegroupgap": 0
        },
        "template": {
         "data": {
          "bar": [
           {
            "error_x": {
             "color": "#2a3f5f"
            },
            "error_y": {
             "color": "#2a3f5f"
            },
            "marker": {
             "line": {
              "color": "#E5ECF6",
              "width": 0.5
             },
             "pattern": {
              "fillmode": "overlay",
              "size": 10,
              "solidity": 0.2
             }
            },
            "type": "bar"
           }
          ],
          "barpolar": [
           {
            "marker": {
             "line": {
              "color": "#E5ECF6",
              "width": 0.5
             },
             "pattern": {
              "fillmode": "overlay",
              "size": 10,
              "solidity": 0.2
             }
            },
            "type": "barpolar"
           }
          ],
          "carpet": [
           {
            "aaxis": {
             "endlinecolor": "#2a3f5f",
             "gridcolor": "white",
             "linecolor": "white",
             "minorgridcolor": "white",
             "startlinecolor": "#2a3f5f"
            },
            "baxis": {
             "endlinecolor": "#2a3f5f",
             "gridcolor": "white",
             "linecolor": "white",
             "minorgridcolor": "white",
             "startlinecolor": "#2a3f5f"
            },
            "type": "carpet"
           }
          ],
          "choropleth": [
           {
            "colorbar": {
             "outlinewidth": 0,
             "ticks": ""
            },
            "type": "choropleth"
           }
          ],
          "contour": [
           {
            "colorbar": {
             "outlinewidth": 0,
             "ticks": ""
            },
            "colorscale": [
             [
              0,
              "#0d0887"
             ],
             [
              0.1111111111111111,
              "#46039f"
             ],
             [
              0.2222222222222222,
              "#7201a8"
             ],
             [
              0.3333333333333333,
              "#9c179e"
             ],
             [
              0.4444444444444444,
              "#bd3786"
             ],
             [
              0.5555555555555556,
              "#d8576b"
             ],
             [
              0.6666666666666666,
              "#ed7953"
             ],
             [
              0.7777777777777778,
              "#fb9f3a"
             ],
             [
              0.8888888888888888,
              "#fdca26"
             ],
             [
              1,
              "#f0f921"
             ]
            ],
            "type": "contour"
           }
          ],
          "contourcarpet": [
           {
            "colorbar": {
             "outlinewidth": 0,
             "ticks": ""
            },
            "type": "contourcarpet"
           }
          ],
          "heatmap": [
           {
            "colorbar": {
             "outlinewidth": 0,
             "ticks": ""
            },
            "colorscale": [
             [
              0,
              "#0d0887"
             ],
             [
              0.1111111111111111,
              "#46039f"
             ],
             [
              0.2222222222222222,
              "#7201a8"
             ],
             [
              0.3333333333333333,
              "#9c179e"
             ],
             [
              0.4444444444444444,
              "#bd3786"
             ],
             [
              0.5555555555555556,
              "#d8576b"
             ],
             [
              0.6666666666666666,
              "#ed7953"
             ],
             [
              0.7777777777777778,
              "#fb9f3a"
             ],
             [
              0.8888888888888888,
              "#fdca26"
             ],
             [
              1,
              "#f0f921"
             ]
            ],
            "type": "heatmap"
           }
          ],
          "heatmapgl": [
           {
            "colorbar": {
             "outlinewidth": 0,
             "ticks": ""
            },
            "colorscale": [
             [
              0,
              "#0d0887"
             ],
             [
              0.1111111111111111,
              "#46039f"
             ],
             [
              0.2222222222222222,
              "#7201a8"
             ],
             [
              0.3333333333333333,
              "#9c179e"
             ],
             [
              0.4444444444444444,
              "#bd3786"
             ],
             [
              0.5555555555555556,
              "#d8576b"
             ],
             [
              0.6666666666666666,
              "#ed7953"
             ],
             [
              0.7777777777777778,
              "#fb9f3a"
             ],
             [
              0.8888888888888888,
              "#fdca26"
             ],
             [
              1,
              "#f0f921"
             ]
            ],
            "type": "heatmapgl"
           }
          ],
          "histogram": [
           {
            "marker": {
             "pattern": {
              "fillmode": "overlay",
              "size": 10,
              "solidity": 0.2
             }
            },
            "type": "histogram"
           }
          ],
          "histogram2d": [
           {
            "colorbar": {
             "outlinewidth": 0,
             "ticks": ""
            },
            "colorscale": [
             [
              0,
              "#0d0887"
             ],
             [
              0.1111111111111111,
              "#46039f"
             ],
             [
              0.2222222222222222,
              "#7201a8"
             ],
             [
              0.3333333333333333,
              "#9c179e"
             ],
             [
              0.4444444444444444,
              "#bd3786"
             ],
             [
              0.5555555555555556,
              "#d8576b"
             ],
             [
              0.6666666666666666,
              "#ed7953"
             ],
             [
              0.7777777777777778,
              "#fb9f3a"
             ],
             [
              0.8888888888888888,
              "#fdca26"
             ],
             [
              1,
              "#f0f921"
             ]
            ],
            "type": "histogram2d"
           }
          ],
          "histogram2dcontour": [
           {
            "colorbar": {
             "outlinewidth": 0,
             "ticks": ""
            },
            "colorscale": [
             [
              0,
              "#0d0887"
             ],
             [
              0.1111111111111111,
              "#46039f"
             ],
             [
              0.2222222222222222,
              "#7201a8"
             ],
             [
              0.3333333333333333,
              "#9c179e"
             ],
             [
              0.4444444444444444,
              "#bd3786"
             ],
             [
              0.5555555555555556,
              "#d8576b"
             ],
             [
              0.6666666666666666,
              "#ed7953"
             ],
             [
              0.7777777777777778,
              "#fb9f3a"
             ],
             [
              0.8888888888888888,
              "#fdca26"
             ],
             [
              1,
              "#f0f921"
             ]
            ],
            "type": "histogram2dcontour"
           }
          ],
          "mesh3d": [
           {
            "colorbar": {
             "outlinewidth": 0,
             "ticks": ""
            },
            "type": "mesh3d"
           }
          ],
          "parcoords": [
           {
            "line": {
             "colorbar": {
              "outlinewidth": 0,
              "ticks": ""
             }
            },
            "type": "parcoords"
           }
          ],
          "pie": [
           {
            "automargin": true,
            "type": "pie"
           }
          ],
          "scatter": [
           {
            "fillpattern": {
             "fillmode": "overlay",
             "size": 10,
             "solidity": 0.2
            },
            "type": "scatter"
           }
          ],
          "scatter3d": [
           {
            "line": {
             "colorbar": {
              "outlinewidth": 0,
              "ticks": ""
             }
            },
            "marker": {
             "colorbar": {
              "outlinewidth": 0,
              "ticks": ""
             }
            },
            "type": "scatter3d"
           }
          ],
          "scattercarpet": [
           {
            "marker": {
             "colorbar": {
              "outlinewidth": 0,
              "ticks": ""
             }
            },
            "type": "scattercarpet"
           }
          ],
          "scattergeo": [
           {
            "marker": {
             "colorbar": {
              "outlinewidth": 0,
              "ticks": ""
             }
            },
            "type": "scattergeo"
           }
          ],
          "scattergl": [
           {
            "marker": {
             "colorbar": {
              "outlinewidth": 0,
              "ticks": ""
             }
            },
            "type": "scattergl"
           }
          ],
          "scattermapbox": [
           {
            "marker": {
             "colorbar": {
              "outlinewidth": 0,
              "ticks": ""
             }
            },
            "type": "scattermapbox"
           }
          ],
          "scatterpolar": [
           {
            "marker": {
             "colorbar": {
              "outlinewidth": 0,
              "ticks": ""
             }
            },
            "type": "scatterpolar"
           }
          ],
          "scatterpolargl": [
           {
            "marker": {
             "colorbar": {
              "outlinewidth": 0,
              "ticks": ""
             }
            },
            "type": "scatterpolargl"
           }
          ],
          "scatterternary": [
           {
            "marker": {
             "colorbar": {
              "outlinewidth": 0,
              "ticks": ""
             }
            },
            "type": "scatterternary"
           }
          ],
          "surface": [
           {
            "colorbar": {
             "outlinewidth": 0,
             "ticks": ""
            },
            "colorscale": [
             [
              0,
              "#0d0887"
             ],
             [
              0.1111111111111111,
              "#46039f"
             ],
             [
              0.2222222222222222,
              "#7201a8"
             ],
             [
              0.3333333333333333,
              "#9c179e"
             ],
             [
              0.4444444444444444,
              "#bd3786"
             ],
             [
              0.5555555555555556,
              "#d8576b"
             ],
             [
              0.6666666666666666,
              "#ed7953"
             ],
             [
              0.7777777777777778,
              "#fb9f3a"
             ],
             [
              0.8888888888888888,
              "#fdca26"
             ],
             [
              1,
              "#f0f921"
             ]
            ],
            "type": "surface"
           }
          ],
          "table": [
           {
            "cells": {
             "fill": {
              "color": "#EBF0F8"
             },
             "line": {
              "color": "white"
             }
            },
            "header": {
             "fill": {
              "color": "#C8D4E3"
             },
             "line": {
              "color": "white"
             }
            },
            "type": "table"
           }
          ]
         },
         "layout": {
          "annotationdefaults": {
           "arrowcolor": "#2a3f5f",
           "arrowhead": 0,
           "arrowwidth": 1
          },
          "autotypenumbers": "strict",
          "coloraxis": {
           "colorbar": {
            "outlinewidth": 0,
            "ticks": ""
           }
          },
          "colorscale": {
           "diverging": [
            [
             0,
             "#8e0152"
            ],
            [
             0.1,
             "#c51b7d"
            ],
            [
             0.2,
             "#de77ae"
            ],
            [
             0.3,
             "#f1b6da"
            ],
            [
             0.4,
             "#fde0ef"
            ],
            [
             0.5,
             "#f7f7f7"
            ],
            [
             0.6,
             "#e6f5d0"
            ],
            [
             0.7,
             "#b8e186"
            ],
            [
             0.8,
             "#7fbc41"
            ],
            [
             0.9,
             "#4d9221"
            ],
            [
             1,
             "#276419"
            ]
           ],
           "sequential": [
            [
             0,
             "#0d0887"
            ],
            [
             0.1111111111111111,
             "#46039f"
            ],
            [
             0.2222222222222222,
             "#7201a8"
            ],
            [
             0.3333333333333333,
             "#9c179e"
            ],
            [
             0.4444444444444444,
             "#bd3786"
            ],
            [
             0.5555555555555556,
             "#d8576b"
            ],
            [
             0.6666666666666666,
             "#ed7953"
            ],
            [
             0.7777777777777778,
             "#fb9f3a"
            ],
            [
             0.8888888888888888,
             "#fdca26"
            ],
            [
             1,
             "#f0f921"
            ]
           ],
           "sequentialminus": [
            [
             0,
             "#0d0887"
            ],
            [
             0.1111111111111111,
             "#46039f"
            ],
            [
             0.2222222222222222,
             "#7201a8"
            ],
            [
             0.3333333333333333,
             "#9c179e"
            ],
            [
             0.4444444444444444,
             "#bd3786"
            ],
            [
             0.5555555555555556,
             "#d8576b"
            ],
            [
             0.6666666666666666,
             "#ed7953"
            ],
            [
             0.7777777777777778,
             "#fb9f3a"
            ],
            [
             0.8888888888888888,
             "#fdca26"
            ],
            [
             1,
             "#f0f921"
            ]
           ]
          },
          "colorway": [
           "#636efa",
           "#EF553B",
           "#00cc96",
           "#ab63fa",
           "#FFA15A",
           "#19d3f3",
           "#FF6692",
           "#B6E880",
           "#FF97FF",
           "#FECB52"
          ],
          "font": {
           "color": "#2a3f5f"
          },
          "geo": {
           "bgcolor": "white",
           "lakecolor": "white",
           "landcolor": "#E5ECF6",
           "showlakes": true,
           "showland": true,
           "subunitcolor": "white"
          },
          "hoverlabel": {
           "align": "left"
          },
          "hovermode": "closest",
          "mapbox": {
           "style": "light"
          },
          "paper_bgcolor": "white",
          "plot_bgcolor": "#E5ECF6",
          "polar": {
           "angularaxis": {
            "gridcolor": "white",
            "linecolor": "white",
            "ticks": ""
           },
           "bgcolor": "#E5ECF6",
           "radialaxis": {
            "gridcolor": "white",
            "linecolor": "white",
            "ticks": ""
           }
          },
          "scene": {
           "xaxis": {
            "backgroundcolor": "#E5ECF6",
            "gridcolor": "white",
            "gridwidth": 2,
            "linecolor": "white",
            "showbackground": true,
            "ticks": "",
            "zerolinecolor": "white"
           },
           "yaxis": {
            "backgroundcolor": "#E5ECF6",
            "gridcolor": "white",
            "gridwidth": 2,
            "linecolor": "white",
            "showbackground": true,
            "ticks": "",
            "zerolinecolor": "white"
           },
           "zaxis": {
            "backgroundcolor": "#E5ECF6",
            "gridcolor": "white",
            "gridwidth": 2,
            "linecolor": "white",
            "showbackground": true,
            "ticks": "",
            "zerolinecolor": "white"
           }
          },
          "shapedefaults": {
           "line": {
            "color": "#2a3f5f"
           }
          },
          "ternary": {
           "aaxis": {
            "gridcolor": "white",
            "linecolor": "white",
            "ticks": ""
           },
           "baxis": {
            "gridcolor": "white",
            "linecolor": "white",
            "ticks": ""
           },
           "bgcolor": "#E5ECF6",
           "caxis": {
            "gridcolor": "white",
            "linecolor": "white",
            "ticks": ""
           }
          },
          "title": {
           "x": 0.05
          },
          "xaxis": {
           "automargin": true,
           "gridcolor": "white",
           "linecolor": "white",
           "ticks": "",
           "title": {
            "standoff": 15
           },
           "zerolinecolor": "white",
           "zerolinewidth": 2
          },
          "yaxis": {
           "automargin": true,
           "gridcolor": "white",
           "linecolor": "white",
           "ticks": "",
           "title": {
            "standoff": 15
           },
           "zerolinecolor": "white",
           "zerolinewidth": 2
          }
         }
        },
        "title": {
         "text": "TSNE-P perplexity - 60"
        },
        "xaxis": {
         "anchor": "y",
         "domain": [
          0,
          1
         ],
         "title": {
          "text": "Principal Component 1"
         }
        },
        "yaxis": {
         "anchor": "x",
         "domain": [
          0,
          1
         ],
         "title": {
          "text": "Principal Component 2"
         }
        }
       }
      }
     },
     "metadata": {},
     "output_type": "display_data"
    }
   ],
   "source": [
    "X_embedded = TSNE(n_components=2, learning_rate='auto',init='random', perplexity=60).fit_transform(X)\n",
    "tsne_df = pd.DataFrame(data=X_embedded, columns=['PCA1', 'PCA2'])\n",
    "tsne_df['Class'] = Y['class']  # Add the class labels\n",
    "tsne_df['Name']=Y[\"mesh_name\"]\n",
    "\n",
    "plot_data2(tsne_df,\"PCA1\",\"PCA2\",subset=chunks[0],title=\"TSNE-P perplexity - 60\",html_filename=\"plot_tsne_perplexity_60.html\")"
   ]
  },
  {
   "cell_type": "code",
   "execution_count": null,
   "metadata": {},
   "outputs": [
    {
     "name": "stdout",
     "output_type": "stream",
     "text": [
      "Plot saved as plot_tsne_perplexity_40_complete.html\n"
     ]
    },
    {
     "data": {
      "application/vnd.plotly.v1+json": {
       "config": {
        "plotlyServerURL": "https://plot.ly"
       },
       "data": [
        {
         "customdata": [
          [
           "AircraftBuoyant",
           "m1337.obj"
          ],
          [
           "AircraftBuoyant",
           "m1338.obj"
          ],
          [
           "AircraftBuoyant",
           "m1339.obj"
          ],
          [
           "AircraftBuoyant",
           "m1340.obj"
          ],
          [
           "AircraftBuoyant",
           "m1341.obj"
          ],
          [
           "AircraftBuoyant",
           "m1342.obj"
          ],
          [
           "AircraftBuoyant",
           "m1343.obj"
          ],
          [
           "AircraftBuoyant",
           "m1344.obj"
          ],
          [
           "AircraftBuoyant",
           "m1345.obj"
          ],
          [
           "AircraftBuoyant",
           "m1346.obj"
          ],
          [
           "AircraftBuoyant",
           "m1348.obj"
          ],
          [
           "AircraftBuoyant",
           "m1349.obj"
          ],
          [
           "AircraftBuoyant",
           "m1350.obj"
          ],
          [
           "AircraftBuoyant",
           "m1351.obj"
          ],
          [
           "AircraftBuoyant",
           "m1352.obj"
          ]
         ],
         "hovertemplate": "Class=%{customdata[0]}<br>Principal Component 1=%{x}<br>Principal Component 2=%{y}<br>Name=%{customdata[1]}<extra></extra>",
         "legendgroup": "AircraftBuoyant",
         "marker": {
          "color": "#636efa",
          "symbol": "circle"
         },
         "mode": "markers",
         "name": "AircraftBuoyant",
         "showlegend": true,
         "type": "scattergl",
         "x": [
          -28.837902069091797,
          -29.30204200744629,
          -29.080810546875,
          2.342024803161621,
          4.504852771759033,
          -19.716812133789062,
          -25.425743103027344,
          -21.06877899169922,
          -5.80973482131958,
          4.496869087219238,
          4.427593231201172,
          5.322482109069824,
          2.2111127376556396,
          3.7040483951568604,
          1.0758236646652222
         ],
         "xaxis": "x",
         "y": [
          29.370607376098633,
          29.284841537475586,
          31.603694915771484,
          19.757797241210938,
          27.253480911254883,
          27.87420654296875,
          29.483945846557617,
          28.194339752197266,
          -11.636663436889648,
          28.546798706054688,
          28.528799057006836,
          27.67937660217285,
          30.561016082763672,
          35.98491668701172,
          30.683359146118164
         ],
         "yaxis": "y"
        },
        {
         "customdata": [
          [
           "Apartment",
           "D00045.obj"
          ],
          [
           "Apartment",
           "D00086.obj"
          ],
          [
           "Apartment",
           "D00138.obj"
          ],
          [
           "Apartment",
           "D00156.obj"
          ],
          [
           "Apartment",
           "D00310.obj"
          ],
          [
           "Apartment",
           "D00348.obj"
          ],
          [
           "Apartment",
           "D00366.obj"
          ],
          [
           "Apartment",
           "D00478.obj"
          ],
          [
           "Apartment",
           "D00496.obj"
          ],
          [
           "Apartment",
           "D00626.obj"
          ],
          [
           "Apartment",
           "D00639.obj"
          ],
          [
           "Apartment",
           "D00651.obj"
          ],
          [
           "Apartment",
           "D00681.obj"
          ],
          [
           "Apartment",
           "D00780.obj"
          ],
          [
           "Apartment",
           "D00792.obj"
          ],
          [
           "Apartment",
           "D00859.obj"
          ],
          [
           "Apartment",
           "D00860.obj"
          ],
          [
           "Apartment",
           "D00869.obj"
          ],
          [
           "Apartment",
           "D00921.obj"
          ],
          [
           "Apartment",
           "D00953.obj"
          ],
          [
           "Apartment",
           "m463.obj"
          ],
          [
           "Apartment",
           "m464.obj"
          ],
          [
           "Apartment",
           "m465.obj"
          ]
         ],
         "hovertemplate": "Class=%{customdata[0]}<br>Principal Component 1=%{x}<br>Principal Component 2=%{y}<br>Name=%{customdata[1]}<extra></extra>",
         "legendgroup": "Apartment",
         "marker": {
          "color": "#EF553B",
          "symbol": "circle"
         },
         "mode": "markers",
         "name": "Apartment",
         "showlegend": true,
         "type": "scattergl",
         "x": [
          -49.474639892578125,
          -0.8019738793373108,
          -46.5349235534668,
          -37.55925750732422,
          -32.716064453125,
          -29.85628318786621,
          -30.49574851989746,
          -28.539846420288086,
          -39.3400764465332,
          -22.143848419189453,
          -31.826866149902344,
          -37.571346282958984,
          -35.67973709106445,
          -22.44708251953125,
          -27.742292404174805,
          -8.496027946472168,
          -28.59779930114746,
          -37.6226692199707,
          -23.242847442626953,
          -29.01664924621582,
          -32.26751708984375,
          -26.287487030029297,
          -9.273730278015137
         ],
         "xaxis": "x",
         "y": [
          -12.290861129760742,
          -8.615631103515625,
          -8.81489372253418,
          10.08073616027832,
          5.882725238800049,
          23.873172760009766,
          23.667020797729492,
          -5.141208648681641,
          -4.498498916625977,
          13.246055603027344,
          17.695491790771484,
          10.065771102905273,
          10.738565444946289,
          18.403099060058594,
          26.031982421875,
          34.84125900268555,
          -5.123647689819336,
          -4.30789041519165,
          20.691476821899414,
          1.779609203338623,
          10.859521865844727,
          10.076147079467773,
          42.63707733154297
         ],
         "yaxis": "y"
        },
        {
         "customdata": [
          [
           "AquaticAnimal",
           "m53.obj"
          ],
          [
           "AquaticAnimal",
           "m54.obj"
          ],
          [
           "AquaticAnimal",
           "m55.obj"
          ],
          [
           "AquaticAnimal",
           "m56.obj"
          ],
          [
           "AquaticAnimal",
           "m57.obj"
          ],
          [
           "AquaticAnimal",
           "m58.obj"
          ],
          [
           "AquaticAnimal",
           "m59.obj"
          ],
          [
           "AquaticAnimal",
           "m60.obj"
          ],
          [
           "AquaticAnimal",
           "m61.obj"
          ],
          [
           "AquaticAnimal",
           "m62.obj"
          ],
          [
           "AquaticAnimal",
           "m63.obj"
          ],
          [
           "AquaticAnimal",
           "m64.obj"
          ],
          [
           "AquaticAnimal",
           "m65.obj"
          ],
          [
           "AquaticAnimal",
           "m66.obj"
          ],
          [
           "AquaticAnimal",
           "m67.obj"
          ],
          [
           "AquaticAnimal",
           "m68.obj"
          ],
          [
           "AquaticAnimal",
           "m69.obj"
          ],
          [
           "AquaticAnimal",
           "m70.obj"
          ],
          [
           "AquaticAnimal",
           "m71.obj"
          ],
          [
           "AquaticAnimal",
           "m72.obj"
          ],
          [
           "AquaticAnimal",
           "m73.obj"
          ],
          [
           "AquaticAnimal",
           "m74.obj"
          ],
          [
           "AquaticAnimal",
           "m75.obj"
          ],
          [
           "AquaticAnimal",
           "m76.obj"
          ],
          [
           "AquaticAnimal",
           "m77.obj"
          ],
          [
           "AquaticAnimal",
           "m78.obj"
          ],
          [
           "AquaticAnimal",
           "m79.obj"
          ],
          [
           "AquaticAnimal",
           "m80.obj"
          ],
          [
           "AquaticAnimal",
           "m81.obj"
          ]
         ],
         "hovertemplate": "Class=%{customdata[0]}<br>Principal Component 1=%{x}<br>Principal Component 2=%{y}<br>Name=%{customdata[1]}<extra></extra>",
         "legendgroup": "AquaticAnimal",
         "marker": {
          "color": "#00cc96",
          "symbol": "circle"
         },
         "mode": "markers",
         "name": "AquaticAnimal",
         "showlegend": true,
         "type": "scattergl",
         "x": [
          22.36016082763672,
          22.994525909423828,
          22.55455207824707,
          24.08637809753418,
          23.403221130371094,
          -0.9165531396865845,
          -11.648825645446777,
          20.84878921508789,
          22.277528762817383,
          22.30997657775879,
          -6.125992298126221,
          22.8729248046875,
          22.104534149169922,
          9.635190963745117,
          22.792512893676758,
          28.943815231323242,
          23.558664321899414,
          24.37676239013672,
          18.655847549438477,
          23.564136505126953,
          10.164140701293945,
          25.957469940185547,
          25.542240142822266,
          22.021482467651367,
          22.06926727294922,
          19.24831199645996,
          30.2810115814209,
          26.27696990966797,
          26.381439208984375
         ],
         "xaxis": "x",
         "y": [
          13.540637969970703,
          18.580408096313477,
          13.83283805847168,
          18.97420310974121,
          18.527767181396484,
          21.153276443481445,
          48.6165885925293,
          1.3323705196380615,
          14.905973434448242,
          16.782878875732422,
          18.35743522644043,
          16.741361618041992,
          -13.80932331085205,
          9.951910972595215,
          18.03913688659668,
          8.996112823486328,
          16.919769287109375,
          1.0382236242294312,
          7.288183212280273,
          8.269002914428711,
          2.2396841049194336,
          -0.25709980726242065,
          -0.8844475746154785,
          2.4014358520507812,
          -6.594357967376709,
          -6.804106712341309,
          7.141242504119873,
          -0.563289999961853,
          -0.05910097435116768
         ],
         "yaxis": "y"
        },
        {
         "customdata": [
          [
           "Bed",
           "D00031.obj"
          ],
          [
           "Bed",
           "D00110.obj"
          ],
          [
           "Bed",
           "D00121.obj"
          ],
          [
           "Bed",
           "D00184.obj"
          ],
          [
           "Bed",
           "D00210.obj"
          ],
          [
           "Bed",
           "D00213.obj"
          ],
          [
           "Bed",
           "D00217.obj"
          ],
          [
           "Bed",
           "D00307.obj"
          ],
          [
           "Bed",
           "D00322.obj"
          ],
          [
           "Bed",
           "D00417.obj"
          ],
          [
           "Bed",
           "D00538.obj"
          ],
          [
           "Bed",
           "D00545.obj"
          ],
          [
           "Bed",
           "D00552.obj"
          ],
          [
           "Bed",
           "D00565.obj"
          ],
          [
           "Bed",
           "D00650.obj"
          ],
          [
           "Bed",
           "D00735.obj"
          ],
          [
           "Bed",
           "D00836.obj"
          ],
          [
           "Bed",
           "D00839.obj"
          ],
          [
           "Bed",
           "D00969.obj"
          ],
          [
           "Bed",
           "D00988.obj"
          ],
          [
           "Bed",
           "m945.obj"
          ],
          [
           "Bed",
           "m946.obj"
          ],
          [
           "Bed",
           "m947.obj"
          ],
          [
           "Bed",
           "m948.obj"
          ],
          [
           "Bed",
           "m949.obj"
          ],
          [
           "Bed",
           "m950.obj"
          ],
          [
           "Bed",
           "m951.obj"
          ]
         ],
         "hovertemplate": "Class=%{customdata[0]}<br>Principal Component 1=%{x}<br>Principal Component 2=%{y}<br>Name=%{customdata[1]}<extra></extra>",
         "legendgroup": "Bed",
         "marker": {
          "color": "#ab63fa",
          "symbol": "circle"
         },
         "mode": "markers",
         "name": "Bed",
         "showlegend": true,
         "type": "scattergl",
         "x": [
          -38.5927848815918,
          -41.47079086303711,
          -47.897010803222656,
          -34.70344924926758,
          -49.74075698852539,
          -33.15688705444336,
          -30.469825744628906,
          -42.58772659301758,
          -31.243698120117188,
          -40.312705993652344,
          -41.27189254760742,
          -41.75798034667969,
          -40.315528869628906,
          -40.55931091308594,
          -30.88449478149414,
          -40.69131088256836,
          -10.869492530822754,
          -42.44780349731445,
          -42.783302307128906,
          -41.74656677246094,
          -39.33863830566406,
          -30.412187576293945,
          -42.3011360168457,
          -41.966793060302734,
          -43.6091194152832,
          -44.933284759521484,
          -46.299224853515625
         ],
         "xaxis": "x",
         "y": [
          -4.052895545959473,
          -15.64784049987793,
          -13.430220603942871,
          25.128772735595703,
          -9.987015724182129,
          -2.79184627532959,
          -16.16998291015625,
          -3.9440622329711914,
          -16.703685760498047,
          -4.762601852416992,
          -15.131988525390625,
          -13.683752059936523,
          -16.364334106445312,
          -5.353037357330322,
          -16.054519653320312,
          -4.8565874099731445,
          35.16445541381836,
          -3.937126636505127,
          -6.716279029846191,
          -12.922416687011719,
          -6.787126541137695,
          -17.687788009643555,
          -17.479475021362305,
          -10.537574768066406,
          -10.608477592468262,
          -17.091196060180664,
          -15.668950080871582
         ],
         "yaxis": "y"
        },
        {
         "customdata": [
          [
           "Bicycle",
           "D00016.obj"
          ],
          [
           "Bicycle",
           "D00033.obj"
          ],
          [
           "Bicycle",
           "D00040.obj"
          ],
          [
           "Bicycle",
           "D00077.obj"
          ],
          [
           "Bicycle",
           "D00078.obj"
          ],
          [
           "Bicycle",
           "D00462.obj"
          ],
          [
           "Bicycle",
           "D00514.obj"
          ],
          [
           "Bicycle",
           "D00536.obj"
          ],
          [
           "Bicycle",
           "D00555.obj"
          ],
          [
           "Bicycle",
           "D00558.obj"
          ],
          [
           "Bicycle",
           "D00567.obj"
          ],
          [
           "Bicycle",
           "D00621.obj"
          ],
          [
           "Bicycle",
           "D00708.obj"
          ],
          [
           "Bicycle",
           "D00750.obj"
          ],
          [
           "Bicycle",
           "D00838.obj"
          ],
          [
           "Bicycle",
           "D00847.obj"
          ],
          [
           "Bicycle",
           "D00904.obj"
          ],
          [
           "Bicycle",
           "D00930.obj"
          ],
          [
           "Bicycle",
           "D00931.obj"
          ],
          [
           "Bicycle",
           "D00974.obj"
          ],
          [
           "Bicycle",
           "m1472.obj"
          ],
          [
           "Bicycle",
           "m1473.obj"
          ],
          [
           "Bicycle",
           "m1475.obj"
          ],
          [
           "Bicycle",
           "m1476.obj"
          ],
          [
           "Bicycle",
           "m1477.obj"
          ],
          [
           "Bicycle",
           "m1478.obj"
          ]
         ],
         "hovertemplate": "Class=%{customdata[0]}<br>Principal Component 1=%{x}<br>Principal Component 2=%{y}<br>Name=%{customdata[1]}<extra></extra>",
         "legendgroup": "Bicycle",
         "marker": {
          "color": "#FFA15A",
          "symbol": "circle"
         },
         "mode": "markers",
         "name": "Bicycle",
         "showlegend": true,
         "type": "scattergl",
         "x": [
          24.449861526489258,
          24.92098045349121,
          36.17401123046875,
          24.272424697875977,
          3.234595537185669,
          23.493993759155273,
          23.675247192382812,
          2.775273323059082,
          22.24704933166504,
          22.67982292175293,
          25.68490219116211,
          24.472755432128906,
          22.713821411132812,
          4.11383056640625,
          22.679691314697266,
          3.272186279296875,
          5.447521209716797,
          3.6062586307525635,
          6.486377716064453,
          -7.539823055267334,
          27.24344253540039,
          25.65148162841797,
          -7.544622898101807,
          25.731412887573242,
          3.1736323833465576,
          25.252029418945312
         ],
         "xaxis": "x",
         "y": [
          -30.076387405395508,
          -29.66655731201172,
          -16.688159942626953,
          -28.533039093017578,
          -31.011293411254883,
          -28.919588088989258,
          -30.199617385864258,
          -31.005971908569336,
          -26.784196853637695,
          -26.719818115234375,
          -29.660945892333984,
          -30.085649490356445,
          -30.310930252075195,
          -29.5535888671875,
          -30.309829711914062,
          -31.02692985534668,
          -33.77284240722656,
          -30.075925827026367,
          -32.38106918334961,
          -36.32429504394531,
          -29.54204750061035,
          -29.94416046142578,
          -36.31536865234375,
          -29.6215763092041,
          -31.030864715576172,
          -30.099506378173828
         ],
         "yaxis": "y"
        },
        {
         "customdata": [
          [
           "Biplane",
           "D00069.obj"
          ],
          [
           "Biplane",
           "D00132.obj"
          ],
          [
           "Biplane",
           "D00178.obj"
          ],
          [
           "Biplane",
           "D00199.obj"
          ],
          [
           "Biplane",
           "D00246.obj"
          ],
          [
           "Biplane",
           "D00276.obj"
          ],
          [
           "Biplane",
           "D00277.obj"
          ],
          [
           "Biplane",
           "D00320.obj"
          ],
          [
           "Biplane",
           "D00373.obj"
          ],
          [
           "Biplane",
           "D00410.obj"
          ],
          [
           "Biplane",
           "D00490.obj"
          ],
          [
           "Biplane",
           "D00515.obj"
          ],
          [
           "Biplane",
           "D00601.obj"
          ],
          [
           "Biplane",
           "D00616.obj"
          ],
          [
           "Biplane",
           "D00632.obj"
          ],
          [
           "Biplane",
           "D00634.obj"
          ],
          [
           "Biplane",
           "D00666.obj"
          ],
          [
           "Biplane",
           "D00854.obj"
          ],
          [
           "Biplane",
           "D00890.obj"
          ],
          [
           "Biplane",
           "D00900.obj"
          ],
          [
           "Biplane",
           "m1118.obj"
          ],
          [
           "Biplane",
           "m1119.obj"
          ],
          [
           "Biplane",
           "m1120.obj"
          ],
          [
           "Biplane",
           "m1121.obj"
          ],
          [
           "Biplane",
           "m1122.obj"
          ],
          [
           "Biplane",
           "m1123.obj"
          ],
          [
           "Biplane",
           "m1124.obj"
          ],
          [
           "Biplane",
           "m1126.obj"
          ],
          [
           "Biplane",
           "m1127.obj"
          ],
          [
           "Biplane",
           "m1128.obj"
          ],
          [
           "Biplane",
           "m1129.obj"
          ],
          [
           "Biplane",
           "m1131.obj"
          ],
          [
           "Biplane",
           "m1132.obj"
          ],
          [
           "Biplane",
           "m1133.obj"
          ],
          [
           "Biplane",
           "m1134.obj"
          ],
          [
           "Biplane",
           "m1135.obj"
          ],
          [
           "Biplane",
           "m1136.obj"
          ],
          [
           "Biplane",
           "m1137.obj"
          ],
          [
           "Biplane",
           "m1138.obj"
          ],
          [
           "Biplane",
           "m1139.obj"
          ],
          [
           "Biplane",
           "m1141.obj"
          ],
          [
           "Biplane",
           "m1143.obj"
          ],
          [
           "Biplane",
           "m1144.obj"
          ],
          [
           "Biplane",
           "m1146.obj"
          ]
         ],
         "hovertemplate": "Class=%{customdata[0]}<br>Principal Component 1=%{x}<br>Principal Component 2=%{y}<br>Name=%{customdata[1]}<extra></extra>",
         "legendgroup": "Biplane",
         "marker": {
          "color": "#19d3f3",
          "symbol": "circle"
         },
         "mode": "markers",
         "name": "Biplane",
         "showlegend": true,
         "type": "scattergl",
         "x": [
          15.400847434997559,
          18.026159286499023,
          30.418004989624023,
          12.170926094055176,
          39.74168014526367,
          3.6840877532958984,
          38.773101806640625,
          30.19864273071289,
          17.533042907714844,
          23.540008544921875,
          27.893199920654297,
          16.958284378051758,
          -24.15589141845703,
          26.4432315826416,
          20.393596649169922,
          12.709486961364746,
          6.101256847381592,
          29.382282257080078,
          -5.213169097900391,
          30.21488380432129,
          13.111115455627441,
          5.713616371154785,
          -4.448547840118408,
          15.217823028564453,
          17.490013122558594,
          5.345185279846191,
          21.458602905273438,
          -1.878935694694519,
          18.217731475830078,
          6.286754608154297,
          19.917930603027344,
          6.868024826049805,
          21.09449005126953,
          20.441984176635742,
          30.532636642456055,
          22.210697174072266,
          30.484230041503906,
          33.229393005371094,
          11.681441307067871,
          12.865290641784668,
          29.10832977294922,
          14.181574821472168,
          19.781063079833984,
          26.15338897705078
         ],
         "xaxis": "x",
         "y": [
          -26.369821548461914,
          -16.339683532714844,
          -23.71721839904785,
          -28.517963409423828,
          -20.256019592285156,
          -14.505051612854004,
          -20.871076583862305,
          -23.67254066467285,
          -18.3754940032959,
          -9.68062973022461,
          -24.52393913269043,
          -18.432180404663086,
          -21.08910369873047,
          -20.145998001098633,
          -21.259878158569336,
          -22.360841751098633,
          -19.232343673706055,
          -23.690773010253906,
          -13.265632629394531,
          -23.716445922851562,
          -29.368947982788086,
          -20.571775436401367,
          -13.796847343444824,
          -28.200307846069336,
          -22.190460205078125,
          -19.398345947265625,
          -26.19095802307129,
          -26.967723846435547,
          -16.24846839904785,
          -19.758543014526367,
          -22.9241886138916,
          -19.74541664123535,
          -25.480966567993164,
          -21.42890739440918,
          -20.780460357666016,
          -21.811922073364258,
          -27.125051498413086,
          -22.49810218811035,
          -21.040813446044922,
          -28.098230361938477,
          -22.4371337890625,
          -24.094764709472656,
          -23.2933349609375,
          -18.04275894165039
         ],
         "yaxis": "y"
        },
        {
         "customdata": [
          [
           "Bird",
           "D00089.obj"
          ],
          [
           "Bird",
           "D00113.obj"
          ],
          [
           "Bird",
           "D00164.obj"
          ],
          [
           "Bird",
           "D00234.obj"
          ],
          [
           "Bird",
           "D00271.obj"
          ],
          [
           "Bird",
           "D00284.obj"
          ],
          [
           "Bird",
           "D00323.obj"
          ],
          [
           "Bird",
           "D00386.obj"
          ],
          [
           "Bird",
           "D00438.obj"
          ],
          [
           "Bird",
           "D00442.obj"
          ],
          [
           "Bird",
           "D00546.obj"
          ],
          [
           "Bird",
           "D00599.obj"
          ],
          [
           "Bird",
           "D00625.obj"
          ],
          [
           "Bird",
           "D00689.obj"
          ],
          [
           "Bird",
           "D00736.obj"
          ],
          [
           "Bird",
           "D00762.obj"
          ],
          [
           "Bird",
           "D00862.obj"
          ],
          [
           "Bird",
           "D00922.obj"
          ],
          [
           "Bird",
           "D00961.obj"
          ],
          [
           "Bird",
           "D00999.obj"
          ],
          [
           "Bird",
           "m28.obj"
          ],
          [
           "Bird",
           "m29.obj"
          ],
          [
           "Bird",
           "m30.obj"
          ],
          [
           "Bird",
           "m31.obj"
          ],
          [
           "Bird",
           "m32.obj"
          ],
          [
           "Bird",
           "m33.obj"
          ],
          [
           "Bird",
           "m34.obj"
          ],
          [
           "Bird",
           "m35.obj"
          ],
          [
           "Bird",
           "m36.obj"
          ],
          [
           "Bird",
           "m37.obj"
          ],
          [
           "Bird",
           "m38.obj"
          ],
          [
           "Bird",
           "m39.obj"
          ],
          [
           "Bird",
           "m40.obj"
          ],
          [
           "Bird",
           "m41.obj"
          ],
          [
           "Bird",
           "m42.obj"
          ],
          [
           "Bird",
           "m43.obj"
          ],
          [
           "Bird",
           "m44.obj"
          ],
          [
           "Bird",
           "m45.obj"
          ],
          [
           "Bird",
           "m47.obj"
          ],
          [
           "Bird",
           "m48.obj"
          ],
          [
           "Bird",
           "m50.obj"
          ],
          [
           "Bird",
           "m51.obj"
          ],
          [
           "Bird",
           "m52.obj"
          ]
         ],
         "hovertemplate": "Class=%{customdata[0]}<br>Principal Component 1=%{x}<br>Principal Component 2=%{y}<br>Name=%{customdata[1]}<extra></extra>",
         "legendgroup": "Bird",
         "marker": {
          "color": "#FF6692",
          "symbol": "circle"
         },
         "mode": "markers",
         "name": "Bird",
         "showlegend": true,
         "type": "scattergl",
         "x": [
          31.170881271362305,
          -7.957664966583252,
          28.42503547668457,
          24.007892608642578,
          23.837055206298828,
          33.953948974609375,
          45.653785705566406,
          30.20119285583496,
          38.32171630859375,
          19.154226303100586,
          36.02953338623047,
          39.263153076171875,
          24.6551570892334,
          32.646175384521484,
          37.44972229003906,
          23.08769416809082,
          36.81672668457031,
          20.904342651367188,
          39.09107208251953,
          38.1928825378418,
          10.252114295959473,
          18.831663131713867,
          20.944677352905273,
          -11.772160530090332,
          12.93626880645752,
          -13.814863204956055,
          31.132383346557617,
          -32.690921783447266,
          -14.450712203979492,
          21.080299377441406,
          38.079288482666016,
          26.197792053222656,
          32.63577651977539,
          38.406429290771484,
          42.320247650146484,
          28.67644691467285,
          32.11824035644531,
          33.96051025390625,
          37.86874771118164,
          -0.0982358455657959,
          -1.6948658227920532,
          -2.0954794883728027,
          -12.850250244140625
         ],
         "xaxis": "x",
         "y": [
          -25.891538619995117,
          -4.031961441040039,
          -23.813940048217773,
          -16.46033477783203,
          -25.045969009399414,
          -25.8370304107666,
          1.0310407876968384,
          5.508180141448975,
          -12.046419143676758,
          -22.965511322021484,
          -10.447157859802246,
          -9.824869155883789,
          -26.20123291015625,
          -25.037363052368164,
          -12.418242454528809,
          -17.250885009765625,
          -13.251609802246094,
          -19.239551544189453,
          -12.209928512573242,
          -9.213410377502441,
          4.270858287811279,
          6.52749490737915,
          0.5380529761314392,
          20.902565002441406,
          10.281231880187988,
          1.0527513027191162,
          -25.966552734375,
          -5.414858341217041,
          -24.015592575073242,
          -19.108579635620117,
          -9.296659469604492,
          -14.761098861694336,
          -25.014698028564453,
          -12.085017204284668,
          -15.113016128540039,
          -30.221282958984375,
          -22.747461318969727,
          -25.840787887573242,
          -12.700368881225586,
          20.81453514099121,
          20.781679153442383,
          27.608657836914062,
          4.494481086730957
         ],
         "yaxis": "y"
        },
        {
         "customdata": [
          [
           "Bookset",
           "D01009.obj"
          ],
          [
           "Bookset",
           "D01013.obj"
          ],
          [
           "Bookset",
           "D01030.obj"
          ],
          [
           "Bookset",
           "D01038.obj"
          ],
          [
           "Bookset",
           "D01042.obj"
          ],
          [
           "Bookset",
           "D01050.obj"
          ],
          [
           "Bookset",
           "D01065.obj"
          ],
          [
           "Bookset",
           "D01096.obj"
          ],
          [
           "Bookset",
           "D01108.obj"
          ],
          [
           "Bookset",
           "D01110.obj"
          ],
          [
           "Bookset",
           "D01122.obj"
          ],
          [
           "Bookset",
           "D01135.obj"
          ],
          [
           "Bookset",
           "D01146.obj"
          ],
          [
           "Bookset",
           "D01182.obj"
          ],
          [
           "Bookset",
           "D01183.obj"
          ],
          [
           "Bookset",
           "D01184.obj"
          ],
          [
           "Bookset",
           "D01190.obj"
          ],
          [
           "Bookset",
           "D01199.obj"
          ]
         ],
         "hovertemplate": "Class=%{customdata[0]}<br>Principal Component 1=%{x}<br>Principal Component 2=%{y}<br>Name=%{customdata[1]}<extra></extra>",
         "legendgroup": "Bookset",
         "marker": {
          "color": "#B6E880",
          "symbol": "circle"
         },
         "mode": "markers",
         "name": "Bookset",
         "showlegend": true,
         "type": "scattergl",
         "x": [
          -34.51190185546875,
          -37.606475830078125,
          -36.15966033935547,
          -7.307626247406006,
          -28.591028213500977,
          -33.11669158935547,
          -36.30290603637695,
          -37.580596923828125,
          -33.74394226074219,
          -28.99886703491211,
          -30.762937545776367,
          -14.309199333190918,
          -32.699771881103516,
          -37.175235748291016,
          -34.13221740722656,
          -35.5570182800293,
          -28.34711265563965,
          -37.40888977050781
         ],
         "xaxis": "x",
         "y": [
          26.075639724731445,
          10.849493026733398,
          31.676942825317383,
          -18.269329071044922,
          5.971146583557129,
          27.013383865356445,
          10.11624526977539,
          14.407750129699707,
          13.69881534576416,
          22.31083869934082,
          29.65039825439453,
          46.939979553222656,
          27.43186378479004,
          14.192461967468262,
          26.968120574951172,
          27.602943420410156,
          2.483579635620117,
          14.816019058227539
         ],
         "yaxis": "y"
        },
        {
         "customdata": [
          [
           "Bottle",
           "D00020.obj"
          ],
          [
           "Bottle",
           "D00123.obj"
          ],
          [
           "Bottle",
           "D00139.obj"
          ],
          [
           "Bottle",
           "D00166.obj"
          ],
          [
           "Bottle",
           "D00176.obj"
          ],
          [
           "Bottle",
           "D00208.obj"
          ],
          [
           "Bottle",
           "D00281.obj"
          ],
          [
           "Bottle",
           "D00311.obj"
          ],
          [
           "Bottle",
           "D00350.obj"
          ],
          [
           "Bottle",
           "D00390.obj"
          ],
          [
           "Bottle",
           "D00451.obj"
          ],
          [
           "Bottle",
           "D00679.obj"
          ],
          [
           "Bottle",
           "D00696.obj"
          ],
          [
           "Bottle",
           "D00711.obj"
          ],
          [
           "Bottle",
           "D00716.obj"
          ],
          [
           "Bottle",
           "D00726.obj"
          ],
          [
           "Bottle",
           "D00892.obj"
          ],
          [
           "Bottle",
           "D00940.obj"
          ],
          [
           "Bottle",
           "D00959.obj"
          ],
          [
           "Bottle",
           "m482.obj"
          ],
          [
           "Bottle",
           "m483.obj"
          ],
          [
           "Bottle",
           "m484.obj"
          ],
          [
           "Bottle",
           "m485.obj"
          ],
          [
           "Bottle",
           "m486.obj"
          ],
          [
           "Bottle",
           "m487.obj"
          ],
          [
           "Bottle",
           "m488.obj"
          ],
          [
           "Bottle",
           "m489.obj"
          ],
          [
           "Bottle",
           "m490.obj"
          ],
          [
           "Bottle",
           "m491.obj"
          ]
         ],
         "hovertemplate": "Class=%{customdata[0]}<br>Principal Component 1=%{x}<br>Principal Component 2=%{y}<br>Name=%{customdata[1]}<extra></extra>",
         "legendgroup": "Bottle",
         "marker": {
          "color": "#FF97FF",
          "symbol": "circle"
         },
         "mode": "markers",
         "name": "Bottle",
         "showlegend": true,
         "type": "scattergl",
         "x": [
          -0.5309438705444336,
          -1.0330268144607544,
          12.341150283813477,
          -10.64261245727539,
          11.859125137329102,
          5.703609466552734,
          5.864702224731445,
          -6.900002956390381,
          -1.033146858215332,
          -11.523682594299316,
          -9.186650276184082,
          17.247291564941406,
          -9.340821266174316,
          -7.580812454223633,
          4.20823335647583,
          7.538484573364258,
          -8.955389976501465,
          -7.8328776359558105,
          3.061023473739624,
          1.3515944480895996,
          -0.5045057535171509,
          -1.8447394371032715,
          -1.4207236766815186,
          -5.221144676208496,
          -0.16478267312049866,
          -6.611527442932129,
          -5.420003890991211,
          -8.353232383728027,
          -9.725857734680176
         ],
         "xaxis": "x",
         "y": [
          35.5600471496582,
          36.09632873535156,
          19.879993438720703,
          43.595211029052734,
          -23.923171997070312,
          8.486597061157227,
          9.0242338180542,
          36.70229721069336,
          35.62733840942383,
          1.5690058469772339,
          41.09528350830078,
          -23.898202896118164,
          44.807090759277344,
          36.826690673828125,
          8.526397705078125,
          35.92885208129883,
          44.452693939208984,
          37.50273895263672,
          33.33137130737305,
          31.20846939086914,
          34.29064178466797,
          35.94536209106445,
          35.380332946777344,
          39.42981719970703,
          31.830678939819336,
          37.01213836669922,
          37.78180694580078,
          40.43315124511719,
          28.3017635345459
         ],
         "yaxis": "y"
        },
        {
         "customdata": [
          [
           "BuildingNonResidential",
           "m382.obj"
          ],
          [
           "BuildingNonResidential",
           "m383.obj"
          ],
          [
           "BuildingNonResidential",
           "m384.obj"
          ],
          [
           "BuildingNonResidential",
           "m385.obj"
          ],
          [
           "BuildingNonResidential",
           "m386.obj"
          ],
          [
           "BuildingNonResidential",
           "m387.obj"
          ],
          [
           "BuildingNonResidential",
           "m390.obj"
          ],
          [
           "BuildingNonResidential",
           "m391.obj"
          ],
          [
           "BuildingNonResidential",
           "m392.obj"
          ],
          [
           "BuildingNonResidential",
           "m393.obj"
          ],
          [
           "BuildingNonResidential",
           "m394.obj"
          ],
          [
           "BuildingNonResidential",
           "m395.obj"
          ],
          [
           "BuildingNonResidential",
           "m396.obj"
          ],
          [
           "BuildingNonResidential",
           "m397.obj"
          ],
          [
           "BuildingNonResidential",
           "m398.obj"
          ],
          [
           "BuildingNonResidential",
           "m399.obj"
          ],
          [
           "BuildingNonResidential",
           "m400.obj"
          ],
          [
           "BuildingNonResidential",
           "m401.obj"
          ],
          [
           "BuildingNonResidential",
           "m402.obj"
          ],
          [
           "BuildingNonResidential",
           "m404.obj"
          ],
          [
           "BuildingNonResidential",
           "m405.obj"
          ],
          [
           "BuildingNonResidential",
           "m406.obj"
          ],
          [
           "BuildingNonResidential",
           "m407.obj"
          ],
          [
           "BuildingNonResidential",
           "m408.obj"
          ],
          [
           "BuildingNonResidential",
           "m409.obj"
          ],
          [
           "BuildingNonResidential",
           "m410.obj"
          ],
          [
           "BuildingNonResidential",
           "m412.obj"
          ],
          [
           "BuildingNonResidential",
           "m413.obj"
          ],
          [
           "BuildingNonResidential",
           "m414.obj"
          ],
          [
           "BuildingNonResidential",
           "m415.obj"
          ],
          [
           "BuildingNonResidential",
           "m416.obj"
          ],
          [
           "BuildingNonResidential",
           "m418.obj"
          ],
          [
           "BuildingNonResidential",
           "m420.obj"
          ],
          [
           "BuildingNonResidential",
           "m421.obj"
          ],
          [
           "BuildingNonResidential",
           "m470.obj"
          ],
          [
           "BuildingNonResidential",
           "m471.obj"
          ],
          [
           "BuildingNonResidential",
           "m472.obj"
          ],
          [
           "BuildingNonResidential",
           "m474.obj"
          ],
          [
           "BuildingNonResidential",
           "m475.obj"
          ],
          [
           "BuildingNonResidential",
           "m477.obj"
          ],
          [
           "BuildingNonResidential",
           "m478.obj"
          ],
          [
           "BuildingNonResidential",
           "m479.obj"
          ],
          [
           "BuildingNonResidential",
           "m481.obj"
          ]
         ],
         "hovertemplate": "Class=%{customdata[0]}<br>Principal Component 1=%{x}<br>Principal Component 2=%{y}<br>Name=%{customdata[1]}<extra></extra>",
         "legendgroup": "BuildingNonResidential",
         "marker": {
          "color": "#FECB52",
          "symbol": "circle"
         },
         "mode": "markers",
         "name": "BuildingNonResidential",
         "showlegend": true,
         "type": "scattergl",
         "x": [
          -31.013267517089844,
          -26.66078758239746,
          -34.48707580566406,
          -25.295804977416992,
          -50.355186462402344,
          -17.97783660888672,
          -29.39092445373535,
          -11.832178115844727,
          -5.228038311004639,
          -11.651453018188477,
          -32.25714874267578,
          -28.952003479003906,
          -24.781938552856445,
          -29.167482376098633,
          -34.81372833251953,
          -50.13776779174805,
          -48.273345947265625,
          -7.683843612670898,
          -31.366201400756836,
          -17.451814651489258,
          -38.2680549621582,
          -31.08479881286621,
          -19.76374626159668,
          -38.3820686340332,
          19.845678329467773,
          -50.27532196044922,
          25.977466583251953,
          -35.26555633544922,
          -30.65216636657715,
          -24.312768936157227,
          -35.8673210144043,
          -49.4256591796875,
          -48.803218841552734,
          -33.260475158691406,
          -25.771699905395508,
          8.253104209899902,
          0.6707438230514526,
          -49.72214889526367,
          10.778692245483398,
          5.441847801208496,
          -7.198724269866943,
          13.986346244812012,
          -47.772804260253906
         ],
         "xaxis": "x",
         "y": [
          -8.372097969055176,
          -5.864933490753174,
          -24.18592071533203,
          -5.181234359741211,
          -12.796600341796875,
          -18.269533157348633,
          24.349485397338867,
          17.27614402770996,
          21.014856338500977,
          -10.821473121643066,
          -13.14566707611084,
          -2.883805751800537,
          -14.598986625671387,
          -3.4417221546173096,
          -11.632006645202637,
          -11.337318420410156,
          -6.654973030090332,
          -11.682515144348145,
          7.3260111808776855,
          1.572952389717102,
          9.500258445739746,
          8.4266996383667,
          24.8471622467041,
          -1.7783058881759644,
          -16.6439151763916,
          -7.548888206481934,
          -25.175188064575195,
          6.750030994415283,
          -9.153791427612305,
          4.36885404586792,
          10.08976936340332,
          -7.248931884765625,
          -5.602895736694336,
          -13.299698829650879,
          -27.83072853088379,
          29.268442153930664,
          13.825347900390625,
          -14.191017150878906,
          8.964176177978516,
          -2.0396764278411865,
          -30.18321418762207,
          -12.557531356811523,
          -12.28174114227295
         ],
         "yaxis": "y"
        },
        {
         "customdata": [
          [
           "Bus",
           "D00084.obj"
          ],
          [
           "Bus",
           "D00114.obj"
          ],
          [
           "Bus",
           "D00151.obj"
          ],
          [
           "Bus",
           "D00179.obj"
          ],
          [
           "Bus",
           "D00182.obj"
          ],
          [
           "Bus",
           "D00264.obj"
          ],
          [
           "Bus",
           "D00436.obj"
          ],
          [
           "Bus",
           "D00448.obj"
          ],
          [
           "Bus",
           "D00483.obj"
          ],
          [
           "Bus",
           "D00677.obj"
          ],
          [
           "Bus",
           "D00754.obj"
          ],
          [
           "Bus",
           "D00769.obj"
          ],
          [
           "Bus",
           "D00775.obj"
          ],
          [
           "Bus",
           "D00815.obj"
          ],
          [
           "Bus",
           "D00823.obj"
          ],
          [
           "Bus",
           "D00832.obj"
          ],
          [
           "Bus",
           "D00857.obj"
          ]
         ],
         "hovertemplate": "Class=%{customdata[0]}<br>Principal Component 1=%{x}<br>Principal Component 2=%{y}<br>Name=%{customdata[1]}<extra></extra>",
         "legendgroup": "Bus",
         "marker": {
          "color": "#636efa",
          "symbol": "circle"
         },
         "mode": "markers",
         "name": "Bus",
         "showlegend": true,
         "type": "scattergl",
         "x": [
          50.447967529296875,
          -38.26274871826172,
          -12.519331932067871,
          -13.196148872375488,
          -19.438114166259766,
          -7.432331085205078,
          -6.12674617767334,
          -33.12091064453125,
          -14.22930908203125,
          -10.724536895751953,
          -27.747116088867188,
          -31.555198669433594,
          -32.71061706542969,
          -12.446669578552246,
          -31.668851852416992,
          -7.794501781463623,
          -12.61385440826416
         ],
         "xaxis": "x",
         "y": [
          4.764123916625977,
          11.79828929901123,
          30.49153709411621,
          46.65550994873047,
          14.661642074584961,
          41.312862396240234,
          37.97207260131836,
          15.279988288879395,
          46.329689025878906,
          -12.841702461242676,
          10.761794090270996,
          11.186275482177734,
          9.67033863067627,
          46.50111770629883,
          5.723766803741455,
          35.74413299560547,
          46.23341751098633
         ],
         "yaxis": "y"
        },
        {
         "customdata": [
          [
           "Car",
           "D00168.obj"
          ],
          [
           "Car",
           "D00236.obj"
          ],
          [
           "Car",
           "D00260.obj"
          ],
          [
           "Car",
           "D00265.obj"
          ],
          [
           "Car",
           "D00299.obj"
          ],
          [
           "Car",
           "D00377.obj"
          ],
          [
           "Car",
           "D00405.obj"
          ],
          [
           "Car",
           "D00452.obj"
          ],
          [
           "Car",
           "D00504.obj"
          ],
          [
           "Car",
           "D00541.obj"
          ],
          [
           "Car",
           "D00618.obj"
          ],
          [
           "Car",
           "D00670.obj"
          ],
          [
           "Car",
           "D00671.obj"
          ],
          [
           "Car",
           "D00724.obj"
          ],
          [
           "Car",
           "D00767.obj"
          ],
          [
           "Car",
           "D00785.obj"
          ],
          [
           "Car",
           "D00793.obj"
          ],
          [
           "Car",
           "D00803.obj"
          ],
          [
           "Car",
           "D00865.obj"
          ],
          [
           "Car",
           "D00976.obj"
          ],
          [
           "Car",
           "m1485.obj"
          ],
          [
           "Car",
           "m1486.obj"
          ],
          [
           "Car",
           "m1487.obj"
          ],
          [
           "Car",
           "m1488.obj"
          ],
          [
           "Car",
           "m1489.obj"
          ],
          [
           "Car",
           "m1490.obj"
          ],
          [
           "Car",
           "m1492.obj"
          ],
          [
           "Car",
           "m1495.obj"
          ],
          [
           "Car",
           "m1496.obj"
          ],
          [
           "Car",
           "m1497.obj"
          ],
          [
           "Car",
           "m1498.obj"
          ],
          [
           "Car",
           "m1499.obj"
          ],
          [
           "Car",
           "m1500.obj"
          ],
          [
           "Car",
           "m1502.obj"
          ],
          [
           "Car",
           "m1503.obj"
          ],
          [
           "Car",
           "m1504.obj"
          ],
          [
           "Car",
           "m1505.obj"
          ],
          [
           "Car",
           "m1506.obj"
          ],
          [
           "Car",
           "m1507.obj"
          ],
          [
           "Car",
           "m1508.obj"
          ],
          [
           "Car",
           "m1509.obj"
          ],
          [
           "Car",
           "m1510.obj"
          ],
          [
           "Car",
           "m1511.obj"
          ],
          [
           "Car",
           "m1512.obj"
          ],
          [
           "Car",
           "m1513.obj"
          ],
          [
           "Car",
           "m1514.obj"
          ],
          [
           "Car",
           "m1515.obj"
          ],
          [
           "Car",
           "m1516.obj"
          ],
          [
           "Car",
           "m1517.obj"
          ],
          [
           "Car",
           "m1518.obj"
          ],
          [
           "Car",
           "m1519.obj"
          ],
          [
           "Car",
           "m1521.obj"
          ],
          [
           "Car",
           "m1522.obj"
          ],
          [
           "Car",
           "m1523.obj"
          ],
          [
           "Car",
           "m1524.obj"
          ],
          [
           "Car",
           "m1525.obj"
          ],
          [
           "Car",
           "m1526.obj"
          ],
          [
           "Car",
           "m1527.obj"
          ],
          [
           "Car",
           "m1528.obj"
          ],
          [
           "Car",
           "m1529.obj"
          ],
          [
           "Car",
           "m1530.obj"
          ],
          [
           "Car",
           "m1531.obj"
          ],
          [
           "Car",
           "m1532.obj"
          ],
          [
           "Car",
           "m1533.obj"
          ],
          [
           "Car",
           "m1535.obj"
          ],
          [
           "Car",
           "m1536.obj"
          ],
          [
           "Car",
           "m1538.obj"
          ],
          [
           "Car",
           "m1539.obj"
          ],
          [
           "Car",
           "m1540.obj"
          ],
          [
           "Car",
           "m1542.obj"
          ],
          [
           "Car",
           "m1543.obj"
          ],
          [
           "Car",
           "m1544.obj"
          ],
          [
           "Car",
           "m1545.obj"
          ],
          [
           "Car",
           "m1546.obj"
          ],
          [
           "Car",
           "m1547.obj"
          ],
          [
           "Car",
           "m1548.obj"
          ],
          [
           "Car",
           "m1550.obj"
          ],
          [
           "Car",
           "m1551.obj"
          ],
          [
           "Car",
           "m1552.obj"
          ],
          [
           "Car",
           "m1553.obj"
          ],
          [
           "Car",
           "m1555.obj"
          ],
          [
           "Car",
           "m1556.obj"
          ],
          [
           "Car",
           "m1557.obj"
          ],
          [
           "Car",
           "m1558.obj"
          ],
          [
           "Car",
           "m1559.obj"
          ],
          [
           "Car",
           "m1560.obj"
          ],
          [
           "Car",
           "m1561.obj"
          ],
          [
           "Car",
           "m1562.obj"
          ],
          [
           "Car",
           "m1563.obj"
          ]
         ],
         "hovertemplate": "Class=%{customdata[0]}<br>Principal Component 1=%{x}<br>Principal Component 2=%{y}<br>Name=%{customdata[1]}<extra></extra>",
         "legendgroup": "Car",
         "marker": {
          "color": "#EF553B",
          "symbol": "circle"
         },
         "mode": "markers",
         "name": "Car",
         "showlegend": true,
         "type": "scattergl",
         "x": [
          3.580367088317871,
          -24.80181312561035,
          -24.646896362304688,
          -4.489475250244141,
          -32.032535552978516,
          -6.2880659103393555,
          -11.606852531433105,
          -22.67601203918457,
          -14.867621421813965,
          -10.797282218933105,
          -3.3791003227233887,
          9.624631881713867,
          -11.597890853881836,
          -16.842857360839844,
          -5.939122200012207,
          -8.609199523925781,
          -5.515046119689941,
          -7.341842174530029,
          -5.435568809509277,
          -22.93092155456543,
          -6.886562347412109,
          -8.549654960632324,
          -24.460384368896484,
          -27.890300750732422,
          -12.650726318359375,
          -0.6243412494659424,
          -9.844505310058594,
          -7.549396514892578,
          -4.163705348968506,
          -5.7810258865356445,
          -5.510129928588867,
          -24.595041275024414,
          -6.633938312530518,
          10.048624038696289,
          35.65819549560547,
          5.554570198059082,
          7.632633209228516,
          -19.355457305908203,
          -5.108097076416016,
          5.683815002441406,
          -19.66289710998535,
          -5.462101936340332,
          -14.761908531188965,
          -10.256608963012695,
          0.2846906781196594,
          7.506791591644287,
          10.440914154052734,
          -4.649896621704102,
          -4.507104396820068,
          -4.634923934936523,
          -3.2648606300354004,
          -7.628355979919434,
          -4.086136341094971,
          -3.558370590209961,
          -5.480782508850098,
          -12.544415473937988,
          -8.794290542602539,
          -13.804535865783691,
          -6.8324055671691895,
          -6.171634674072266,
          -5.442232131958008,
          -3.026254892349243,
          -9.372854232788086,
          -4.555644512176514,
          -6.227674961090088,
          -5.525762557983398,
          -3.557072639465332,
          -5.678869724273682,
          -7.776543617248535,
          -6.656239032745361,
          -2.9420461654663086,
          -11.453149795532227,
          -6.5564093589782715,
          -39.757469177246094,
          -3.3215065002441406,
          -6.5569634437561035,
          -3.319023370742798,
          -9.929222106933594,
          -4.120926380157471,
          -0.03364188224077225,
          3.360060453414917,
          51.50950622558594,
          -7.776346683502197,
          -3.030226945877075,
          -23.65793228149414,
          -32.756309509277344,
          -35.35641860961914,
          -38.30886459350586,
          -36.39179992675781
         ],
         "xaxis": "x",
         "y": [
          8.95009708404541,
          5.295810699462891,
          11.627748489379883,
          31.18495750427246,
          17.237306594848633,
          30.0781192779541,
          -10.912271499633789,
          13.884459495544434,
          11.584453582763672,
          12.319072723388672,
          30.01025390625,
          0.7668169140815735,
          32.34419250488281,
          5.131924152374268,
          29.6563663482666,
          29.53474235534668,
          31.52759552001953,
          8.68977165222168,
          29.924633026123047,
          14.296897888183594,
          29.32734489440918,
          29.49948501586914,
          -14.00854778289795,
          -6.382137298583984,
          20.54410171508789,
          -14.219223976135254,
          -7.717984199523926,
          8.25989055633545,
          14.634011268615723,
          13.407671928405762,
          -15.571830749511719,
          2.277146577835083,
          15.396818161010742,
          -0.6528341770172119,
          -8.52428150177002,
          -4.9127092361450195,
          1.2264840602874756,
          -21.7947940826416,
          -0.7752419710159302,
          2.009974718093872,
          -19.293832778930664,
          1.3277159929275513,
          -5.9297332763671875,
          -1.2686296701431274,
          -4.618947982788086,
          1.2380919456481934,
          -0.053206417709589005,
          26.33564567565918,
          29.54960823059082,
          26.273218154907227,
          31.508668899536133,
          38.93089294433594,
          14.846860885620117,
          30.863216400146484,
          31.100584030151367,
          11.539244651794434,
          30.73478126525879,
          10.839821815490723,
          32.77227020263672,
          30.80807113647461,
          37.140384674072266,
          30.493701934814453,
          29.51097869873047,
          30.86835479736328,
          14.192696571350098,
          36.62328338623047,
          30.982894897460938,
          26.41006088256836,
          30.83933448791504,
          30.22241973876953,
          19.758472442626953,
          -0.9508403539657593,
          28.224897384643555,
          -2.8104681968688965,
          11.029455184936523,
          28.222583770751953,
          15.467423439025879,
          32.410118103027344,
          29.995075225830078,
          14.621761322021484,
          -12.139840126037598,
          -4.4867072105407715,
          29.042280197143555,
          -15.880401611328125,
          -13.588019371032715,
          5.44542932510376,
          -5.186086654663086,
          -2.375324249267578,
          -3.4251060485839844
         ],
         "yaxis": "y"
        },
        {
         "customdata": [
          [
           "Cellphone",
           "D00018.obj"
          ],
          [
           "Cellphone",
           "D00032.obj"
          ],
          [
           "Cellphone",
           "D00079.obj"
          ],
          [
           "Cellphone",
           "D00152.obj"
          ],
          [
           "Cellphone",
           "D00192.obj"
          ],
          [
           "Cellphone",
           "D00248.obj"
          ],
          [
           "Cellphone",
           "D00312.obj"
          ],
          [
           "Cellphone",
           "D00327.obj"
          ],
          [
           "Cellphone",
           "D00362.obj"
          ],
          [
           "Cellphone",
           "D00369.obj"
          ],
          [
           "Cellphone",
           "D00440.obj"
          ],
          [
           "Cellphone",
           "D00527.obj"
          ],
          [
           "Cellphone",
           "D00542.obj"
          ],
          [
           "Cellphone",
           "D00554.obj"
          ],
          [
           "Cellphone",
           "D00559.obj"
          ],
          [
           "Cellphone",
           "D00817.obj"
          ],
          [
           "Cellphone",
           "D00848.obj"
          ],
          [
           "Cellphone",
           "D00902.obj"
          ],
          [
           "Cellphone",
           "D00979.obj"
          ],
          [
           "Cellphone",
           "D00997.obj"
          ]
         ],
         "hovertemplate": "Class=%{customdata[0]}<br>Principal Component 1=%{x}<br>Principal Component 2=%{y}<br>Name=%{customdata[1]}<extra></extra>",
         "legendgroup": "Cellphone",
         "marker": {
          "color": "#00cc96",
          "symbol": "circle"
         },
         "mode": "markers",
         "name": "Cellphone",
         "showlegend": true,
         "type": "scattergl",
         "x": [
          1.8553681373596191,
          -6.817940711975098,
          -7.902405261993408,
          -6.069921016693115,
          -6.9535980224609375,
          3.870201349258423,
          39.97818374633789,
          -5.8022661209106445,
          -6.563018321990967,
          -0.5848110914230347,
          2.834378957748413,
          -7.602380752563477,
          5.551083564758301,
          -6.968511581420898,
          -0.665375828742981,
          -6.5114617347717285,
          0.9666557312011719,
          -6.82644510269165,
          0.26135706901550293,
          -4.116598129272461
         ],
         "xaxis": "x",
         "y": [
          34.6215934753418,
          40.31249237060547,
          41.0147590637207,
          39.5247917175293,
          40.932315826416016,
          33.37128829956055,
          3.706651210784912,
          39.188106536865234,
          41.11602020263672,
          35.284385681152344,
          35.28940200805664,
          40.96047592163086,
          36.68024444580078,
          39.125213623046875,
          36.48503112792969,
          40.93728256225586,
          36.5216178894043,
          38.303829193115234,
          33.280975341796875,
          37.3932991027832
         ],
         "yaxis": "y"
        },
        {
         "customdata": [
          [
           "Chess",
           "D01017.obj"
          ],
          [
           "Chess",
           "D01019.obj"
          ],
          [
           "Chess",
           "D01021.obj"
          ],
          [
           "Chess",
           "D01043.obj"
          ],
          [
           "Chess",
           "D01045.obj"
          ],
          [
           "Chess",
           "D01049.obj"
          ],
          [
           "Chess",
           "D01053.obj"
          ],
          [
           "Chess",
           "D01080.obj"
          ],
          [
           "Chess",
           "D01081.obj"
          ],
          [
           "Chess",
           "D01099.obj"
          ],
          [
           "Chess",
           "D01105.obj"
          ],
          [
           "Chess",
           "D01112.obj"
          ],
          [
           "Chess",
           "D01123.obj"
          ],
          [
           "Chess",
           "D01126.obj"
          ],
          [
           "Chess",
           "D01130.obj"
          ],
          [
           "Chess",
           "D01138.obj"
          ],
          [
           "Chess",
           "D01145.obj"
          ],
          [
           "Chess",
           "D01171.obj"
          ],
          [
           "Chess",
           "D01186.obj"
          ],
          [
           "Chess",
           "D01188.obj"
          ],
          [
           "Chess",
           "m1589.obj"
          ],
          [
           "Chess",
           "m1591.obj"
          ],
          [
           "Chess",
           "m1593.obj"
          ],
          [
           "Chess",
           "m1595.obj"
          ],
          [
           "Chess",
           "m1596.obj"
          ],
          [
           "Chess",
           "m1598.obj"
          ],
          [
           "Chess",
           "m1599.obj"
          ],
          [
           "Chess",
           "m1600.obj"
          ],
          [
           "Chess",
           "m1601.obj"
          ],
          [
           "Chess",
           "m1602.obj"
          ],
          [
           "Chess",
           "m1603.obj"
          ],
          [
           "Chess",
           "m1604.obj"
          ],
          [
           "Chess",
           "m1605.obj"
          ],
          [
           "Chess",
           "m1606.obj"
          ],
          [
           "Chess",
           "m1607.obj"
          ],
          [
           "Chess",
           "m1608.obj"
          ],
          [
           "Chess",
           "m1609.obj"
          ],
          [
           "Chess",
           "m1610.obj"
          ],
          [
           "Chess",
           "m1611.obj"
          ],
          [
           "Chess",
           "m1612.obj"
          ],
          [
           "Chess",
           "m1613.obj"
          ],
          [
           "Chess",
           "m1614.obj"
          ]
         ],
         "hovertemplate": "Class=%{customdata[0]}<br>Principal Component 1=%{x}<br>Principal Component 2=%{y}<br>Name=%{customdata[1]}<extra></extra>",
         "legendgroup": "Chess",
         "marker": {
          "color": "#ab63fa",
          "symbol": "circle"
         },
         "mode": "markers",
         "name": "Chess",
         "showlegend": true,
         "type": "scattergl",
         "x": [
          -26.4271183013916,
          -1.5157549381256104,
          -8.887534141540527,
          0.7248969674110413,
          0.6393842101097107,
          -0.5324233770370483,
          -12.498958587646484,
          1.8102800846099854,
          -8.971030235290527,
          -11.796552658081055,
          -0.563823938369751,
          1.4812062978744507,
          -2.0999884605407715,
          -9.297186851501465,
          -0.3423544466495514,
          -1.4328747987747192,
          -2.0904836654663086,
          -11.142926216125488,
          -8.9385404586792,
          -33.42191696166992,
          -38.99839401245117,
          -21.576000213623047,
          -49.5242919921875,
          -1.8508648872375488,
          -22.92559814453125,
          1.4813425540924072,
          1.820754051208496,
          -1.3866780996322632,
          -8.976823806762695,
          0.6718764305114746,
          0.7232358455657959,
          -0.5328707695007324,
          -12.503202438354492,
          -11.973851203918457,
          -9.277572631835938,
          -33.53234100341797,
          -8.704146385192871,
          -12.940547943115234,
          -8.87374210357666,
          -0.41046908497810364,
          -0.567851185798645,
          -2.1734492778778076
         ],
         "xaxis": "x",
         "y": [
          19.59836196899414,
          19.195608139038086,
          19.320730209350586,
          18.86367416381836,
          18.0439453125,
          23.665273666381836,
          18.67527198791504,
          13.846074104309082,
          16.23081398010254,
          17.988624572753906,
          19.39433479309082,
          13.599424362182617,
          13.169197082519531,
          20.257965087890625,
          18.91168212890625,
          19.154651641845703,
          13.139761924743652,
          17.573041915893555,
          20.456411361694336,
          -5.369331359863281,
          -21.468795776367188,
          -19.390634536743164,
          -12.63070297241211,
          -7.427656173706055,
          -9.221221923828125,
          13.600868225097656,
          13.861760139465332,
          19.002824783325195,
          16.234725952148438,
          18.03093719482422,
          18.871572494506836,
          23.668394088745117,
          18.67485237121582,
          18.042278289794922,
          20.2513484954834,
          -5.366277694702148,
          20.486480712890625,
          18.019906997680664,
          19.325563430786133,
          18.744478225708008,
          19.404006958007812,
          13.126028060913086
         ],
         "yaxis": "y"
        },
        {
         "customdata": [
          [
           "City",
           "D01001.obj"
          ],
          [
           "City",
           "D01010.obj"
          ],
          [
           "City",
           "D01018.obj"
          ],
          [
           "City",
           "D01039.obj"
          ],
          [
           "City",
           "D01068.obj"
          ],
          [
           "City",
           "D01079.obj"
          ],
          [
           "City",
           "D01090.obj"
          ],
          [
           "City",
           "D01091.obj"
          ],
          [
           "City",
           "D01092.obj"
          ],
          [
           "City",
           "D01101.obj"
          ],
          [
           "City",
           "D01103.obj"
          ],
          [
           "City",
           "D01124.obj"
          ],
          [
           "City",
           "D01133.obj"
          ],
          [
           "City",
           "D01173.obj"
          ],
          [
           "City",
           "D01181.obj"
          ],
          [
           "City",
           "D01195.obj"
          ],
          [
           "City",
           "m1652.obj"
          ],
          [
           "City",
           "m1654.obj"
          ],
          [
           "City",
           "m1659.obj"
          ],
          [
           "City",
           "m1660.obj"
          ],
          [
           "City",
           "m1661.obj"
          ],
          [
           "City",
           "m1662.obj"
          ],
          [
           "City",
           "m1664.obj"
          ]
         ],
         "hovertemplate": "Class=%{customdata[0]}<br>Principal Component 1=%{x}<br>Principal Component 2=%{y}<br>Name=%{customdata[1]}<extra></extra>",
         "legendgroup": "City",
         "marker": {
          "color": "#FFA15A",
          "symbol": "circle"
         },
         "mode": "markers",
         "name": "City",
         "showlegend": true,
         "type": "scattergl",
         "x": [
          -46.03218078613281,
          -3.909379720687866,
          -38.5712776184082,
          -44.19477081298828,
          14.739795684814453,
          16.159442901611328,
          -3.0587732791900635,
          -11.881916999816895,
          -3.239734649658203,
          -11.589545249938965,
          25.84429359436035,
          -8.379192352294922,
          -6.7715744972229,
          48.69430923461914,
          -36.49606704711914,
          -32.634857177734375,
          25.843338012695312,
          14.742191314697266,
          -6.790585994720459,
          48.70060348510742,
          -44.191741943359375,
          16.153676986694336,
          -2.0215818881988525
         ],
         "xaxis": "x",
         "y": [
          -13.43346881866455,
          -18.535734176635742,
          -16.736867904663086,
          -21.403926849365234,
          -17.799795150756836,
          -20.61965560913086,
          -5.422736167907715,
          -32.94477844238281,
          -19.569963455200195,
          -33.88964080810547,
          -23.37798500061035,
          -17.017683029174805,
          -17.778627395629883,
          -0.5723027586936951,
          -8.60886287689209,
          -27.353750228881836,
          -23.43383026123047,
          -17.79939842224121,
          -17.793764114379883,
          -0.5554372072219849,
          -21.403240203857422,
          -20.60740852355957,
          -15.458724975585938
         ],
         "yaxis": "y"
        },
        {
         "customdata": [
          [
           "ClassicPiano",
           "D00005.obj"
          ],
          [
           "ClassicPiano",
           "D00009.obj"
          ],
          [
           "ClassicPiano",
           "D00034.obj"
          ],
          [
           "ClassicPiano",
           "D00092.obj"
          ],
          [
           "ClassicPiano",
           "D00120.obj"
          ],
          [
           "ClassicPiano",
           "D00233.obj"
          ],
          [
           "ClassicPiano",
           "D00254.obj"
          ],
          [
           "ClassicPiano",
           "D00279.obj"
          ],
          [
           "ClassicPiano",
           "D00314.obj"
          ],
          [
           "ClassicPiano",
           "D00561.obj"
          ],
          [
           "ClassicPiano",
           "D00579.obj"
          ],
          [
           "ClassicPiano",
           "D00605.obj"
          ],
          [
           "ClassicPiano",
           "D00784.obj"
          ],
          [
           "ClassicPiano",
           "D00811.obj"
          ],
          [
           "ClassicPiano",
           "D00845.obj"
          ],
          [
           "ClassicPiano",
           "D00983.obj"
          ]
         ],
         "hovertemplate": "Class=%{customdata[0]}<br>Principal Component 1=%{x}<br>Principal Component 2=%{y}<br>Name=%{customdata[1]}<extra></extra>",
         "legendgroup": "ClassicPiano",
         "marker": {
          "color": "#19d3f3",
          "symbol": "circle"
         },
         "mode": "markers",
         "name": "ClassicPiano",
         "showlegend": true,
         "type": "scattergl",
         "x": [
          -25.703887939453125,
          -18.384187698364258,
          -11.308348655700684,
          -37.129940032958984,
          -26.043916702270508,
          -29.274093627929688,
          -6.247003555297852,
          -35.38943099975586,
          -37.92863464355469,
          -25.55658721923828,
          -10.347195625305176,
          -37.47216796875,
          -31.20478630065918,
          -27.087385177612305,
          -26.28361701965332,
          -9.09375
         ],
         "xaxis": "x",
         "y": [
          7.921925067901611,
          2.909446954727173,
          23.401227951049805,
          9.547829627990723,
          -5.342870235443115,
          5.762065887451172,
          -13.463525772094727,
          7.246250629425049,
          11.421777725219727,
          1.9501434564590454,
          -9.271846771240234,
          9.122061729431152,
          10.540667533874512,
          6.6283464431762695,
          7.448642730712891,
          -9.022796630859375
         ],
         "yaxis": "y"
        },
        {
         "customdata": [
          [
           "Computer",
           "D01002.obj"
          ],
          [
           "Computer",
           "D01023.obj"
          ],
          [
           "Computer",
           "D01026.obj"
          ],
          [
           "Computer",
           "D01028.obj"
          ],
          [
           "Computer",
           "D01033.obj"
          ],
          [
           "Computer",
           "D01037.obj"
          ],
          [
           "Computer",
           "D01067.obj"
          ],
          [
           "Computer",
           "D01070.obj"
          ],
          [
           "Computer",
           "D01071.obj"
          ],
          [
           "Computer",
           "D01072.obj"
          ],
          [
           "Computer",
           "D01073.obj"
          ],
          [
           "Computer",
           "D01082.obj"
          ],
          [
           "Computer",
           "D01085.obj"
          ],
          [
           "Computer",
           "D01098.obj"
          ],
          [
           "Computer",
           "D01100.obj"
          ],
          [
           "Computer",
           "D01102.obj"
          ],
          [
           "Computer",
           "D01128.obj"
          ],
          [
           "Computer",
           "D01164.obj"
          ],
          [
           "Computer",
           "D01185.obj"
          ],
          [
           "Computer",
           "m1764.obj"
          ],
          [
           "Computer",
           "m1765.obj"
          ],
          [
           "Computer",
           "m1766.obj"
          ],
          [
           "Computer",
           "m1767.obj"
          ],
          [
           "Computer",
           "m1769.obj"
          ],
          [
           "Computer",
           "m1770.obj"
          ],
          [
           "Computer",
           "m1772.obj"
          ],
          [
           "Computer",
           "m1773.obj"
          ],
          [
           "Computer",
           "m1774.obj"
          ],
          [
           "Computer",
           "m1775.obj"
          ],
          [
           "Computer",
           "m1776.obj"
          ],
          [
           "Computer",
           "m1777.obj"
          ],
          [
           "Computer",
           "m1778.obj"
          ]
         ],
         "hovertemplate": "Class=%{customdata[0]}<br>Principal Component 1=%{x}<br>Principal Component 2=%{y}<br>Name=%{customdata[1]}<extra></extra>",
         "legendgroup": "Computer",
         "marker": {
          "color": "#FF6692",
          "symbol": "circle"
         },
         "mode": "markers",
         "name": "Computer",
         "showlegend": true,
         "type": "scattergl",
         "x": [
          -25.173702239990234,
          -14.530364036560059,
          -40.74188995361328,
          -31.01731300354004,
          -19.834529876708984,
          -33.450096130371094,
          -14.428998947143555,
          -33.02824783325195,
          -34.1478385925293,
          -41.654380798339844,
          -18.80514144897461,
          -32.963417053222656,
          -31.95877456665039,
          -43.4932861328125,
          -19.567935943603516,
          -18.70894432067871,
          -38.56334686279297,
          -15.107442855834961,
          -43.02739334106445,
          -32.07933044433594,
          -18.217002868652344,
          -33.87740707397461,
          -18.619266510009766,
          -31.231891632080078,
          -19.78779411315918,
          -38.56462478637695,
          -31.020021438598633,
          -20.145164489746094,
          -39.91223907470703,
          -39.68893051147461,
          -41.81669235229492,
          -14.425357818603516
         ],
         "xaxis": "x",
         "y": [
          -19.641826629638672,
          5.274686813354492,
          -7.759164810180664,
          -6.229075908660889,
          6.645264625549316,
          24.21889305114746,
          4.329059600830078,
          21.73551368713379,
          -20.63943862915039,
          -7.465097904205322,
          25.32103157043457,
          -13.006044387817383,
          25.031280517578125,
          -8.083012580871582,
          6.40675687789917,
          -8.442865371704102,
          -0.9707627296447754,
          3.4972195625305176,
          -10.479086875915527,
          -6.934739589691162,
          -8.082255363464355,
          -20.69984245300293,
          -20.630756378173828,
          24.854698181152344,
          6.5791144371032715,
          -0.9695714116096497,
          -6.272813320159912,
          6.0077667236328125,
          -7.606982231140137,
          -11.133870124816895,
          -7.448442459106445,
          4.3258562088012695
         ],
         "yaxis": "y"
        },
        {
         "customdata": [
          [
           "ComputerKeyboard",
           "D00116.obj"
          ],
          [
           "ComputerKeyboard",
           "D00127.obj"
          ],
          [
           "ComputerKeyboard",
           "D00197.obj"
          ],
          [
           "ComputerKeyboard",
           "D00278.obj"
          ],
          [
           "ComputerKeyboard",
           "D00360.obj"
          ],
          [
           "ComputerKeyboard",
           "D00382.obj"
          ],
          [
           "ComputerKeyboard",
           "D00420.obj"
          ],
          [
           "ComputerKeyboard",
           "D00493.obj"
          ],
          [
           "ComputerKeyboard",
           "D00525.obj"
          ],
          [
           "ComputerKeyboard",
           "D00569.obj"
          ],
          [
           "ComputerKeyboard",
           "D00597.obj"
          ],
          [
           "ComputerKeyboard",
           "D00627.obj"
          ],
          [
           "ComputerKeyboard",
           "D00654.obj"
          ],
          [
           "ComputerKeyboard",
           "D00673.obj"
          ],
          [
           "ComputerKeyboard",
           "D00676.obj"
          ],
          [
           "ComputerKeyboard",
           "D00692.obj"
          ],
          [
           "ComputerKeyboard",
           "D00805.obj"
          ],
          [
           "ComputerKeyboard",
           "D00905.obj"
          ]
         ],
         "hovertemplate": "Class=%{customdata[0]}<br>Principal Component 1=%{x}<br>Principal Component 2=%{y}<br>Name=%{customdata[1]}<extra></extra>",
         "legendgroup": "ComputerKeyboard",
         "marker": {
          "color": "#B6E880",
          "symbol": "circle"
         },
         "mode": "markers",
         "name": "ComputerKeyboard",
         "showlegend": true,
         "type": "scattergl",
         "x": [
          -1.0770716667175293,
          1.4463757276535034,
          -11.599122047424316,
          -8.291626930236816,
          -10.005043029785156,
          -10.486822128295898,
          -10.430259704589844,
          -6.8719401359558105,
          -10.26341724395752,
          50.644737243652344,
          -11.532939910888672,
          -13.416069030761719,
          -10.745529174804688,
          -8.78132152557373,
          -29.077295303344727,
          1.2440603971481323,
          -10.945806503295898,
          -6.707081317901611
         ],
         "xaxis": "x",
         "y": [
          38.6816291809082,
          35.67775344848633,
          47.84590148925781,
          42.50236892700195,
          46.32236099243164,
          46.28322982788086,
          41.8356819152832,
          42.72242736816406,
          48.11869812011719,
          7.736985683441162,
          42.057613372802734,
          34.142417907714844,
          45.410011291503906,
          43.47017288208008,
          3.442375421524048,
          36.287513732910156,
          41.46611022949219,
          44.44337463378906
         ],
         "yaxis": "y"
        },
        {
         "customdata": [
          [
           "Cup",
           "D00035.obj"
          ],
          [
           "Cup",
           "D00067.obj"
          ],
          [
           "Cup",
           "D00174.obj"
          ],
          [
           "Cup",
           "D00206.obj"
          ],
          [
           "Cup",
           "D00214.obj"
          ],
          [
           "Cup",
           "D00355.obj"
          ],
          [
           "Cup",
           "D00363.obj"
          ],
          [
           "Cup",
           "D00457.obj"
          ],
          [
           "Cup",
           "D00463.obj"
          ],
          [
           "Cup",
           "D00519.obj"
          ],
          [
           "Cup",
           "D00550.obj"
          ],
          [
           "Cup",
           "D00587.obj"
          ],
          [
           "Cup",
           "D00638.obj"
          ],
          [
           "Cup",
           "D00642.obj"
          ],
          [
           "Cup",
           "D00738.obj"
          ],
          [
           "Cup",
           "D00843.obj"
          ],
          [
           "Cup",
           "D00874.obj"
          ],
          [
           "Cup",
           "D00882.obj"
          ],
          [
           "Cup",
           "m494.obj"
          ],
          [
           "Cup",
           "m495.obj"
          ],
          [
           "Cup",
           "m496.obj"
          ],
          [
           "Cup",
           "m497.obj"
          ],
          [
           "Cup",
           "m498.obj"
          ],
          [
           "Cup",
           "m499.obj"
          ],
          [
           "Cup",
           "m500.obj"
          ],
          [
           "Cup",
           "m501.obj"
          ],
          [
           "Cup",
           "m502.obj"
          ],
          [
           "Cup",
           "m526.obj"
          ]
         ],
         "hovertemplate": "Class=%{customdata[0]}<br>Principal Component 1=%{x}<br>Principal Component 2=%{y}<br>Name=%{customdata[1]}<extra></extra>",
         "legendgroup": "Cup",
         "marker": {
          "color": "#FF97FF",
          "symbol": "circle"
         },
         "mode": "markers",
         "name": "Cup",
         "showlegend": true,
         "type": "scattergl",
         "x": [
          -42.75704574584961,
          -8.48205852508545,
          -30.102083206176758,
          -44.64867401123047,
          -36.4348258972168,
          -1.530788540840149,
          -38.728477478027344,
          -1.5419607162475586,
          -30.354738235473633,
          -13.304900169372559,
          -17.350502014160156,
          -24.42132568359375,
          -24.86912727355957,
          14.971014022827148,
          -33.42601013183594,
          -18.48093605041504,
          -44.368568420410156,
          -29.989717483520508,
          -3.645142078399658,
          -24.632810592651367,
          -29.685880661010742,
          -3.3212406635284424,
          -43.177886962890625,
          -30.93364143371582,
          -28.41729736328125,
          -35.41343688964844,
          -15.51860237121582,
          -17.304061889648438
         ],
         "xaxis": "x",
         "y": [
          -9.76606273651123,
          -26.368106842041016,
          -22.187824249267578,
          -16.021780014038086,
          -14.93886661529541,
          -33.35223388671875,
          -16.633056640625,
          -33.097225189208984,
          -12.929988861083984,
          -23.06269645690918,
          -22.061994552612305,
          -21.297283172607422,
          -20.94328498840332,
          -1.8595014810562134,
          -22.96331214904785,
          -7.306305885314941,
          -16.161256790161133,
          -17.905981063842773,
          -29.910717010498047,
          -21.73396873474121,
          -8.018836975097656,
          10.7083740234375,
          -17.699966430664062,
          -23.048452377319336,
          24.564266204833984,
          -18.142351150512695,
          -1.434966802597046,
          25.819276809692383
         ],
         "yaxis": "y"
        },
        {
         "customdata": [
          [
           "DeskLamp",
           "D00048.obj"
          ],
          [
           "DeskLamp",
           "D00090.obj"
          ],
          [
           "DeskLamp",
           "D00147.obj"
          ],
          [
           "DeskLamp",
           "D00257.obj"
          ],
          [
           "DeskLamp",
           "D00268.obj"
          ],
          [
           "DeskLamp",
           "D00330.obj"
          ],
          [
           "DeskLamp",
           "D00378.obj"
          ],
          [
           "DeskLamp",
           "D00435.obj"
          ],
          [
           "DeskLamp",
           "D00455.obj"
          ],
          [
           "DeskLamp",
           "D00531.obj"
          ],
          [
           "DeskLamp",
           "D00547.obj"
          ],
          [
           "DeskLamp",
           "D00686.obj"
          ],
          [
           "DeskLamp",
           "D00693.obj"
          ],
          [
           "DeskLamp",
           "D00698.obj"
          ],
          [
           "DeskLamp",
           "D00715.obj"
          ],
          [
           "DeskLamp",
           "D00744.obj"
          ],
          [
           "DeskLamp",
           "D00759.obj"
          ],
          [
           "DeskLamp",
           "D00776.obj"
          ],
          [
           "DeskLamp",
           "D00797.obj"
          ],
          [
           "DeskLamp",
           "D00912.obj"
          ],
          [
           "DeskLamp",
           "m603.obj"
          ],
          [
           "DeskLamp",
           "m604.obj"
          ],
          [
           "DeskLamp",
           "m605.obj"
          ],
          [
           "DeskLamp",
           "m606.obj"
          ],
          [
           "DeskLamp",
           "m608.obj"
          ],
          [
           "DeskLamp",
           "m609.obj"
          ],
          [
           "DeskLamp",
           "m611.obj"
          ],
          [
           "DeskLamp",
           "m613.obj"
          ],
          [
           "DeskLamp",
           "m614.obj"
          ],
          [
           "DeskLamp",
           "m615.obj"
          ],
          [
           "DeskLamp",
           "m616.obj"
          ]
         ],
         "hovertemplate": "Class=%{customdata[0]}<br>Principal Component 1=%{x}<br>Principal Component 2=%{y}<br>Name=%{customdata[1]}<extra></extra>",
         "legendgroup": "DeskLamp",
         "marker": {
          "color": "#FECB52",
          "symbol": "circle"
         },
         "mode": "markers",
         "name": "DeskLamp",
         "showlegend": true,
         "type": "scattergl",
         "x": [
          -10.997685432434082,
          5.702789306640625,
          45.1567268371582,
          7.073058128356934,
          46.72819900512695,
          41.71037673950195,
          11.836426734924316,
          -2.478485584259033,
          -7.2595648765563965,
          37.994598388671875,
          -4.001767158508301,
          9.098511695861816,
          25.460317611694336,
          -3.1315524578094482,
          -12.003732681274414,
          26.28438949584961,
          -35.36444091796875,
          25.07216453552246,
          5.4095940589904785,
          14.564126014709473,
          0.41236308217048645,
          9.8604097366333,
          -3.732927083969116,
          8.601394653320312,
          -13.117405891418457,
          44.811424255371094,
          9.635194778442383,
          43.21914291381836,
          -4.8648362159729,
          7.438595294952393,
          5.56089973449707
         ],
         "xaxis": "x",
         "y": [
          16.230148315429688,
          -28.275352478027344,
          -12.71466064453125,
          -23.827648162841797,
          -5.245990753173828,
          -3.6408934593200684,
          -8.994579315185547,
          -28.28722381591797,
          -35.01887130737305,
          -5.1734771728515625,
          -30.27543830871582,
          -18.295188903808594,
          -22.666746139526367,
          11.83967399597168,
          -28.288719177246094,
          -27.6521053314209,
          -7.532747745513916,
          -27.443330764770508,
          -28.202104568481445,
          -4.195480823516846,
          -15.625724792480469,
          -31.59559440612793,
          12.146051406860352,
          -18.802459716796875,
          -25.667278289794922,
          2.062988042831421,
          -3.5225157737731934,
          -12.088716506958008,
          -27.64797019958496,
          -36.49550247192383,
          -28.224105834960938
         ],
         "yaxis": "y"
        },
        {
         "customdata": [
          [
           "DeskPhone",
           "D00118.obj"
          ],
          [
           "DeskPhone",
           "D00135.obj"
          ],
          [
           "DeskPhone",
           "D00154.obj"
          ],
          [
           "DeskPhone",
           "D00316.obj"
          ],
          [
           "DeskPhone",
           "D00318.obj"
          ],
          [
           "DeskPhone",
           "D00403.obj"
          ],
          [
           "DeskPhone",
           "D00486.obj"
          ],
          [
           "DeskPhone",
           "D00511.obj"
          ],
          [
           "DeskPhone",
           "D00556.obj"
          ],
          [
           "DeskPhone",
           "D00576.obj"
          ],
          [
           "DeskPhone",
           "D00680.obj"
          ],
          [
           "DeskPhone",
           "D00706.obj"
          ],
          [
           "DeskPhone",
           "D00773.obj"
          ],
          [
           "DeskPhone",
           "D00829.obj"
          ],
          [
           "DeskPhone",
           "D00894.obj"
          ],
          [
           "DeskPhone",
           "D00897.obj"
          ],
          [
           "DeskPhone",
           "D00899.obj"
          ],
          [
           "DeskPhone",
           "D00957.obj"
          ],
          [
           "DeskPhone",
           "D00958.obj"
          ]
         ],
         "hovertemplate": "Class=%{customdata[0]}<br>Principal Component 1=%{x}<br>Principal Component 2=%{y}<br>Name=%{customdata[1]}<extra></extra>",
         "legendgroup": "DeskPhone",
         "marker": {
          "color": "#636efa",
          "symbol": "circle"
         },
         "mode": "markers",
         "name": "DeskPhone",
         "showlegend": true,
         "type": "scattergl",
         "x": [
          -11.866536140441895,
          1.730515480041504,
          -36.80305099487305,
          -6.506098747253418,
          -13.648072242736816,
          -17.96883201599121,
          -22.92393684387207,
          19.504440307617188,
          -32.433616638183594,
          9.933355331420898,
          -33.31414794921875,
          -33.291683197021484,
          11.815844535827637,
          -39.45162582397461,
          -40.61780548095703,
          11.488950729370117,
          -35.14936447143555,
          -10.792830467224121,
          -30.824872970581055
         ],
         "xaxis": "x",
         "y": [
          28.339500427246094,
          4.794258117675781,
          -8.580825805664062,
          22.07939910888672,
          1.3056139945983887,
          -4.411380290985107,
          18.34912872314453,
          -27.17529296875,
          22.183837890625,
          15.258241653442383,
          22.719194412231445,
          21.78488540649414,
          5.705663681030273,
          -5.929410934448242,
          -7.557192802429199,
          18.6943302154541,
          -6.719151496887207,
          9.335641860961914,
          22.305810928344727
         ],
         "yaxis": "y"
        },
        {
         "customdata": [
          [
           "Door",
           "D01005.obj"
          ],
          [
           "Door",
           "D01029.obj"
          ],
          [
           "Door",
           "D01052.obj"
          ],
          [
           "Door",
           "D01058.obj"
          ],
          [
           "Door",
           "D01062.obj"
          ],
          [
           "Door",
           "D01076.obj"
          ],
          [
           "Door",
           "D01104.obj"
          ],
          [
           "Door",
           "D01114.obj"
          ],
          [
           "Door",
           "D01121.obj"
          ],
          [
           "Door",
           "D01129.obj"
          ],
          [
           "Door",
           "D01136.obj"
          ],
          [
           "Door",
           "D01139.obj"
          ],
          [
           "Door",
           "D01141.obj"
          ],
          [
           "Door",
           "D01143.obj"
          ],
          [
           "Door",
           "D01144.obj"
          ],
          [
           "Door",
           "D01155.obj"
          ],
          [
           "Door",
           "D01158.obj"
          ],
          [
           "Door",
           "D01167.obj"
          ],
          [
           "Door",
           "D01177.obj"
          ],
          [
           "Door",
           "D01194.obj"
          ],
          [
           "Door",
           "m1707.obj"
          ],
          [
           "Door",
           "m1708.obj"
          ],
          [
           "Door",
           "m1710.obj"
          ],
          [
           "Door",
           "m1711.obj"
          ],
          [
           "Door",
           "m1712.obj"
          ],
          [
           "Door",
           "m1713.obj"
          ],
          [
           "Door",
           "m1714.obj"
          ],
          [
           "Door",
           "m1715.obj"
          ],
          [
           "Door",
           "m1716.obj"
          ],
          [
           "Door",
           "m1717.obj"
          ],
          [
           "Door",
           "m1718.obj"
          ],
          [
           "Door",
           "m1720.obj"
          ],
          [
           "Door",
           "m1721.obj"
          ],
          [
           "Door",
           "m1722.obj"
          ],
          [
           "Door",
           "m1723.obj"
          ],
          [
           "Door",
           "m1724.obj"
          ],
          [
           "Door",
           "m1725.obj"
          ],
          [
           "Door",
           "m1726.obj"
          ],
          [
           "Door",
           "m1727.obj"
          ],
          [
           "Door",
           "m1728.obj"
          ],
          [
           "Door",
           "m1729.obj"
          ],
          [
           "Door",
           "m1730.obj"
          ],
          [
           "Door",
           "m1731.obj"
          ],
          [
           "Door",
           "m1732.obj"
          ]
         ],
         "hovertemplate": "Class=%{customdata[0]}<br>Principal Component 1=%{x}<br>Principal Component 2=%{y}<br>Name=%{customdata[1]}<extra></extra>",
         "legendgroup": "Door",
         "marker": {
          "color": "#EF553B",
          "symbol": "circle"
         },
         "mode": "markers",
         "name": "Door",
         "showlegend": true,
         "type": "scattergl",
         "x": [
          -2.2779500484466553,
          -30.696542739868164,
          -10.767195701599121,
          -20.19129180908203,
          -1.6156014204025269,
          -0.6967868804931641,
          -4.096594333648682,
          -19.002994537353516,
          -0.13939985632896423,
          -12.561784744262695,
          -3.7879700660705566,
          50.945125579833984,
          10.068900108337402,
          -19.34905433654785,
          6.6482062339782715,
          -41.04947280883789,
          -18.64441680908203,
          2.364330768585205,
          -3.431452751159668,
          50.00465774536133,
          -30.549806594848633,
          -4.615848064422607,
          -26.438125610351562,
          7.134769439697266,
          8.395018577575684,
          -2.262312650680542,
          -4.151187896728516,
          -10.755890846252441,
          9.301185607910156,
          -20.229570388793945,
          -12.545865058898926,
          -3.8482673168182373,
          -18.64551544189453,
          -0.8243055939674377,
          -37.07472229003906,
          -1.605448603630066,
          25.534271240234375,
          -41.062374114990234,
          -22.162527084350586,
          -4.5448479652404785,
          -21.04446792602539,
          -21.049592971801758,
          -45.61478042602539,
          11.030989646911621
         ],
         "xaxis": "x",
         "y": [
          5.235641956329346,
          -27.42905616760254,
          44.012725830078125,
          -11.4592924118042,
          5.363829135894775,
          39.54384231567383,
          6.091830253601074,
          -10.385845184326172,
          39.25362777709961,
          -33.880165100097656,
          6.244335651397705,
          10.766741752624512,
          16.914630889892578,
          -12.13559627532959,
          33.51691818237305,
          -21.41956329345703,
          -11.860984802246094,
          38.937103271484375,
          3.6989970207214355,
          11.565231323242188,
          -27.578536987304688,
          41.6618537902832,
          -24.25373649597168,
          33.41356658935547,
          31.191619873046875,
          5.23854923248291,
          6.107167720794678,
          43.99325180053711,
          17.019105911254883,
          -11.473630905151367,
          -33.890167236328125,
          6.30870246887207,
          -11.864884376525879,
          4.566684722900391,
          -8.768875122070312,
          5.574005603790283,
          2.203383445739746,
          -21.411901473999023,
          -9.46059513092041,
          5.254392623901367,
          -19.83916473388672,
          -19.838695526123047,
          -14.617598533630371,
          6.25760555267334
         ],
         "yaxis": "y"
        },
        {
         "customdata": [
          [
           "Drum",
           "D00026.obj"
          ],
          [
           "Drum",
           "D00063.obj"
          ],
          [
           "Drum",
           "D00115.obj"
          ],
          [
           "Drum",
           "D00163.obj"
          ],
          [
           "Drum",
           "D00189.obj"
          ],
          [
           "Drum",
           "D00193.obj"
          ],
          [
           "Drum",
           "D00297.obj"
          ],
          [
           "Drum",
           "D00298.obj"
          ],
          [
           "Drum",
           "D00383.obj"
          ],
          [
           "Drum",
           "D00404.obj"
          ],
          [
           "Drum",
           "D00551.obj"
          ],
          [
           "Drum",
           "D00557.obj"
          ],
          [
           "Drum",
           "D00596.obj"
          ],
          [
           "Drum",
           "D00709.obj"
          ],
          [
           "Drum",
           "D00939.obj"
          ],
          [
           "Drum",
           "D00951.obj"
          ],
          [
           "Drum",
           "D00980.obj"
          ],
          [
           "Drum",
           "D00982.obj"
          ]
         ],
         "hovertemplate": "Class=%{customdata[0]}<br>Principal Component 1=%{x}<br>Principal Component 2=%{y}<br>Name=%{customdata[1]}<extra></extra>",
         "legendgroup": "Drum",
         "marker": {
          "color": "#00cc96",
          "symbol": "circle"
         },
         "mode": "markers",
         "name": "Drum",
         "showlegend": true,
         "type": "scattergl",
         "x": [
          -31.30771827697754,
          -22.41051483154297,
          -35.911720275878906,
          -35.329627990722656,
          -26.89937973022461,
          -38.250675201416016,
          -36.70417022705078,
          -28.392343521118164,
          -26.526840209960938,
          -32.12099075317383,
          -34.869441986083984,
          -36.39175033569336,
          -28.722291946411133,
          -43.544612884521484,
          -37.66769790649414,
          -34.40800094604492,
          -37.36434555053711,
          -33.47725296020508
         ],
         "xaxis": "x",
         "y": [
          5.771244049072266,
          1.7587655782699585,
          33.42184066772461,
          11.742754936218262,
          17.039127349853516,
          -2.1494195461273193,
          7.062750339508057,
          27.64952278137207,
          28.79535675048828,
          25.778419494628906,
          31.790937423706055,
          27.603321075439453,
          -4.004265785217285,
          -7.433091163635254,
          13.87166690826416,
          6.824310302734375,
          9.543092727661133,
          15.217780113220215
         ],
         "yaxis": "y"
        },
        {
         "customdata": [
          [
           "Fish",
           "D00012.obj"
          ],
          [
           "Fish",
           "D00022.obj"
          ],
          [
           "Fish",
           "D00024.obj"
          ],
          [
           "Fish",
           "D00030.obj"
          ],
          [
           "Fish",
           "D00142.obj"
          ],
          [
           "Fish",
           "D00165.obj"
          ],
          [
           "Fish",
           "D00251.obj"
          ],
          [
           "Fish",
           "D00293.obj"
          ],
          [
           "Fish",
           "D00351.obj"
          ],
          [
           "Fish",
           "D00398.obj"
          ],
          [
           "Fish",
           "D00450.obj"
          ],
          [
           "Fish",
           "D00535.obj"
          ],
          [
           "Fish",
           "D00633.obj"
          ],
          [
           "Fish",
           "D00636.obj"
          ],
          [
           "Fish",
           "D00643.obj"
          ],
          [
           "Fish",
           "D00682.obj"
          ],
          [
           "Fish",
           "D00748.obj"
          ],
          [
           "Fish",
           "D00763.obj"
          ],
          [
           "Fish",
           "D00850.obj"
          ],
          [
           "Fish",
           "D00950.obj"
          ]
         ],
         "hovertemplate": "Class=%{customdata[0]}<br>Principal Component 1=%{x}<br>Principal Component 2=%{y}<br>Name=%{customdata[1]}<extra></extra>",
         "legendgroup": "Fish",
         "marker": {
          "color": "#ab63fa",
          "symbol": "circle"
         },
         "mode": "markers",
         "name": "Fish",
         "showlegend": true,
         "type": "scattergl",
         "x": [
          19.622560501098633,
          19.0196475982666,
          20.353620529174805,
          19.24651527404785,
          16.682390213012695,
          18.83045196533203,
          10.140247344970703,
          16.236135482788086,
          16.36487579345703,
          18.12456512451172,
          17.80390167236328,
          20.27545928955078,
          20.058128356933594,
          16.882734298706055,
          17.0155086517334,
          22.828357696533203,
          20.144506454467773,
          13.26089859008789,
          16.354209899902344,
          18.59940528869629
         ],
         "xaxis": "x",
         "y": [
          6.220931529998779,
          4.81353235244751,
          6.979682922363281,
          4.934042453765869,
          -0.8509446978569031,
          3.878520965576172,
          8.346864700317383,
          1.6018564701080322,
          0.5784438252449036,
          6.610106468200684,
          0.2055405229330063,
          -9.135364532470703,
          6.602451801300049,
          1.490020513534546,
          -1.451969027519226,
          1.7300182580947876,
          6.806761264801025,
          -1.014968752861023,
          0.3562149703502655,
          -6.783348083496094
         ],
         "yaxis": "y"
        },
        {
         "customdata": [
          [
           "FloorLamp",
           "D00028.obj"
          ],
          [
           "FloorLamp",
           "D00093.obj"
          ],
          [
           "FloorLamp",
           "D00186.obj"
          ],
          [
           "FloorLamp",
           "D00211.obj"
          ],
          [
           "FloorLamp",
           "D00228.obj"
          ],
          [
           "FloorLamp",
           "D00388.obj"
          ],
          [
           "FloorLamp",
           "D00400.obj"
          ],
          [
           "FloorLamp",
           "D00495.obj"
          ],
          [
           "FloorLamp",
           "D00563.obj"
          ],
          [
           "FloorLamp",
           "D00580.obj"
          ],
          [
           "FloorLamp",
           "D00740.obj"
          ],
          [
           "FloorLamp",
           "D00856.obj"
          ],
          [
           "FloorLamp",
           "D00875.obj"
          ],
          [
           "FloorLamp",
           "D00876.obj"
          ],
          [
           "FloorLamp",
           "D00888.obj"
          ],
          [
           "FloorLamp",
           "D00924.obj"
          ],
          [
           "FloorLamp",
           "D00955.obj"
          ],
          [
           "FloorLamp",
           "D00981.obj"
          ],
          [
           "FloorLamp",
           "m617.obj"
          ],
          [
           "FloorLamp",
           "m618.obj"
          ],
          [
           "FloorLamp",
           "m619.obj"
          ],
          [
           "FloorLamp",
           "m620.obj"
          ],
          [
           "FloorLamp",
           "m621.obj"
          ],
          [
           "FloorLamp",
           "m622.obj"
          ],
          [
           "FloorLamp",
           "m623.obj"
          ],
          [
           "FloorLamp",
           "m624.obj"
          ]
         ],
         "hovertemplate": "Class=%{customdata[0]}<br>Principal Component 1=%{x}<br>Principal Component 2=%{y}<br>Name=%{customdata[1]}<extra></extra>",
         "legendgroup": "FloorLamp",
         "marker": {
          "color": "#FFA15A",
          "symbol": "circle"
         },
         "mode": "markers",
         "name": "FloorLamp",
         "showlegend": true,
         "type": "scattergl",
         "x": [
          -6.165535926818848,
          -2.2427775859832764,
          -7.786914825439453,
          30.98592185974121,
          10.248661041259766,
          -8.01015853881836,
          12.764805793762207,
          5.496648788452148,
          -7.798261642456055,
          15.674568176269531,
          -1.8518166542053223,
          -1.682814121246338,
          7.254480838775635,
          -19.567562103271484,
          -14.1287260055542,
          -1.1206685304641724,
          33.01806640625,
          4.962985515594482,
          27.973440170288086,
          41.48253631591797,
          33.952880859375,
          42.71471405029297,
          41.30116271972656,
          45.12204360961914,
          30.173824310302734,
          38.73468780517578
         ],
         "xaxis": "x",
         "y": [
          -26.284027099609375,
          -22.939804077148438,
          -16.85262107849121,
          -7.5096659660339355,
          -22.67105484008789,
          -8.468777656555176,
          -20.415842056274414,
          -15.655385971069336,
          -21.16482162475586,
          -24.953998565673828,
          -22.708717346191406,
          -18.914241790771484,
          11.76364517211914,
          9.02522087097168,
          -0.893233597278595,
          -5.023003578186035,
          -5.248434066772461,
          -13.526002883911133,
          -12.413284301757812,
          10.897899627685547,
          18.86955451965332,
          -6.971003532409668,
          8.764124870300293,
          5.679503440856934,
          8.649545669555664,
          -6.181860446929932
         ],
         "yaxis": "y"
        },
        {
         "customdata": [
          [
           "Glasses",
           "D00050.obj"
          ],
          [
           "Glasses",
           "D00201.obj"
          ],
          [
           "Glasses",
           "D00225.obj"
          ],
          [
           "Glasses",
           "D00432.obj"
          ],
          [
           "Glasses",
           "D00475.obj"
          ],
          [
           "Glasses",
           "D00507.obj"
          ],
          [
           "Glasses",
           "D00560.obj"
          ],
          [
           "Glasses",
           "D00575.obj"
          ],
          [
           "Glasses",
           "D00630.obj"
          ],
          [
           "Glasses",
           "D00640.obj"
          ],
          [
           "Glasses",
           "D00656.obj"
          ],
          [
           "Glasses",
           "D00660.obj"
          ],
          [
           "Glasses",
           "D00717.obj"
          ],
          [
           "Glasses",
           "D00730.obj"
          ],
          [
           "Glasses",
           "D00813.obj"
          ],
          [
           "Glasses",
           "D00816.obj"
          ],
          [
           "Glasses",
           "D00877.obj"
          ],
          [
           "Glasses",
           "D00883.obj"
          ],
          [
           "Glasses",
           "D00937.obj"
          ],
          [
           "Glasses",
           "D00994.obj"
          ]
         ],
         "hovertemplate": "Class=%{customdata[0]}<br>Principal Component 1=%{x}<br>Principal Component 2=%{y}<br>Name=%{customdata[1]}<extra></extra>",
         "legendgroup": "Glasses",
         "marker": {
          "color": "#19d3f3",
          "symbol": "circle"
         },
         "mode": "markers",
         "name": "Glasses",
         "showlegend": true,
         "type": "scattergl",
         "x": [
          -30.059093475341797,
          -42.37041473388672,
          -33.810611724853516,
          -28.14789581298828,
          -41.81987762451172,
          -30.042192459106445,
          -28.617095947265625,
          -32.5362548828125,
          -46.49156188964844,
          -29.734371185302734,
          -42.815921783447266,
          -46.27497863769531,
          -41.75330352783203,
          -41.627220153808594,
          -46.08528518676758,
          -41.528167724609375,
          -42.75090026855469,
          -40.58407974243164,
          -28.614093780517578,
          -9.79838752746582
         ],
         "xaxis": "x",
         "y": [
          -28.210887908935547,
          -22.304363250732422,
          -25.54544448852539,
          -28.674930572509766,
          -22.845611572265625,
          -28.207340240478516,
          -27.787561416625977,
          -26.22358512878418,
          -19.152280807495117,
          -28.941152572631836,
          -20.691240310668945,
          -19.63834571838379,
          -21.412105560302734,
          -22.99361228942871,
          -19.775081634521484,
          -23.196069717407227,
          -21.98844337463379,
          -23.806903839111328,
          -28.488056182861328,
          -31.426158905029297
         ],
         "yaxis": "y"
        },
        {
         "customdata": [
          [
           "Guitar",
           "D00023.obj"
          ],
          [
           "Guitar",
           "D00041.obj"
          ],
          [
           "Guitar",
           "D00076.obj"
          ],
          [
           "Guitar",
           "D00097.obj"
          ],
          [
           "Guitar",
           "D00124.obj"
          ],
          [
           "Guitar",
           "D00222.obj"
          ],
          [
           "Guitar",
           "D00232.obj"
          ],
          [
           "Guitar",
           "D00335.obj"
          ],
          [
           "Guitar",
           "D00374.obj"
          ],
          [
           "Guitar",
           "D00414.obj"
          ],
          [
           "Guitar",
           "D00416.obj"
          ],
          [
           "Guitar",
           "D00461.obj"
          ],
          [
           "Guitar",
           "D00464.obj"
          ],
          [
           "Guitar",
           "D00494.obj"
          ],
          [
           "Guitar",
           "D00534.obj"
          ],
          [
           "Guitar",
           "D00549.obj"
          ],
          [
           "Guitar",
           "D00645.obj"
          ],
          [
           "Guitar",
           "D00655.obj"
          ],
          [
           "Guitar",
           "D00844.obj"
          ],
          [
           "Guitar",
           "D00849.obj"
          ]
         ],
         "hovertemplate": "Class=%{customdata[0]}<br>Principal Component 1=%{x}<br>Principal Component 2=%{y}<br>Name=%{customdata[1]}<extra></extra>",
         "legendgroup": "Guitar",
         "marker": {
          "color": "#FF6692",
          "symbol": "circle"
         },
         "mode": "markers",
         "name": "Guitar",
         "showlegend": true,
         "type": "scattergl",
         "x": [
          27.6131591796875,
          42.10765075683594,
          37.08712387084961,
          30.588483810424805,
          30.295215606689453,
          29.203140258789062,
          32.21875762939453,
          21.921892166137695,
          40.832427978515625,
          36.99917221069336,
          27.36844253540039,
          44.41057205200195,
          18.977527618408203,
          39.54181671142578,
          28.263954162597656,
          36.85954284667969,
          33.04866027832031,
          49.88900375366211,
          16.123865127563477,
          29.647905349731445
         ],
         "xaxis": "x",
         "y": [
          19.624610900878906,
          14.355501174926758,
          10.057401657104492,
          23.755252838134766,
          22.56716537475586,
          23.26505470275879,
          16.4876708984375,
          -28.37403106689453,
          9.0871000289917,
          11.573101043701172,
          19.9637393951416,
          13.449697494506836,
          16.479034423828125,
          13.908793449401855,
          -10.61137580871582,
          16.527311325073242,
          19.725566864013672,
          11.080485343933105,
          13.99027156829834,
          14.089557647705078
         ],
         "yaxis": "y"
        },
        {
         "customdata": [
          [
           "Gun",
           "D00103.obj"
          ],
          [
           "Gun",
           "D00137.obj"
          ],
          [
           "Gun",
           "D00140.obj"
          ],
          [
           "Gun",
           "D00153.obj"
          ],
          [
           "Gun",
           "D00161.obj"
          ],
          [
           "Gun",
           "D00204.obj"
          ],
          [
           "Gun",
           "D00207.obj"
          ],
          [
           "Gun",
           "D00209.obj"
          ],
          [
           "Gun",
           "D00239.obj"
          ],
          [
           "Gun",
           "D00244.obj"
          ],
          [
           "Gun",
           "D00282.obj"
          ],
          [
           "Gun",
           "D00368.obj"
          ],
          [
           "Gun",
           "D00425.obj"
          ],
          [
           "Gun",
           "D00477.obj"
          ],
          [
           "Gun",
           "D00606.obj"
          ],
          [
           "Gun",
           "D00802.obj"
          ],
          [
           "Gun",
           "D00819.obj"
          ],
          [
           "Gun",
           "D00826.obj"
          ],
          [
           "Gun",
           "D00929.obj"
          ],
          [
           "Gun",
           "D00972.obj"
          ],
          [
           "Gun",
           "m648.obj"
          ],
          [
           "Gun",
           "m649.obj"
          ],
          [
           "Gun",
           "m650.obj"
          ],
          [
           "Gun",
           "m651.obj"
          ],
          [
           "Gun",
           "m652.obj"
          ],
          [
           "Gun",
           "m653.obj"
          ],
          [
           "Gun",
           "m654.obj"
          ],
          [
           "Gun",
           "m655.obj"
          ],
          [
           "Gun",
           "m656.obj"
          ],
          [
           "Gun",
           "m657.obj"
          ],
          [
           "Gun",
           "m658.obj"
          ],
          [
           "Gun",
           "m659.obj"
          ],
          [
           "Gun",
           "m660.obj"
          ],
          [
           "Gun",
           "m661.obj"
          ],
          [
           "Gun",
           "m662.obj"
          ],
          [
           "Gun",
           "m663.obj"
          ],
          [
           "Gun",
           "m664.obj"
          ],
          [
           "Gun",
           "m665.obj"
          ],
          [
           "Gun",
           "m666.obj"
          ],
          [
           "Gun",
           "m667.obj"
          ],
          [
           "Gun",
           "m668.obj"
          ],
          [
           "Gun",
           "m669.obj"
          ],
          [
           "Gun",
           "m670.obj"
          ],
          [
           "Gun",
           "m671.obj"
          ],
          [
           "Gun",
           "m672.obj"
          ],
          [
           "Gun",
           "m674.obj"
          ],
          [
           "Gun",
           "m675.obj"
          ],
          [
           "Gun",
           "m676.obj"
          ],
          [
           "Gun",
           "m677.obj"
          ],
          [
           "Gun",
           "m678.obj"
          ],
          [
           "Gun",
           "m679.obj"
          ],
          [
           "Gun",
           "m680.obj"
          ],
          [
           "Gun",
           "m681.obj"
          ],
          [
           "Gun",
           "m682.obj"
          ],
          [
           "Gun",
           "m683.obj"
          ],
          [
           "Gun",
           "m684.obj"
          ],
          [
           "Gun",
           "m685.obj"
          ],
          [
           "Gun",
           "m686.obj"
          ]
         ],
         "hovertemplate": "Class=%{customdata[0]}<br>Principal Component 1=%{x}<br>Principal Component 2=%{y}<br>Name=%{customdata[1]}<extra></extra>",
         "legendgroup": "Gun",
         "marker": {
          "color": "#B6E880",
          "symbol": "circle"
         },
         "mode": "markers",
         "name": "Gun",
         "showlegend": true,
         "type": "scattergl",
         "x": [
          7.7260212898254395,
          14.521233558654785,
          20.504608154296875,
          24.956995010375977,
          21.033599853515625,
          6.721928119659424,
          0.8556486964225769,
          -10.098689079284668,
          44.25120162963867,
          7.286537170410156,
          19.103172302246094,
          10.997355461120605,
          11.640446662902832,
          39.93814468383789,
          11.359879493713379,
          29.96885108947754,
          12.827579498291016,
          24.46942138671875,
          6.048581123352051,
          21.673828125,
          37.894168853759766,
          18.375364303588867,
          18.252073287963867,
          -18.21737289428711,
          7.170263767242432,
          33.10479736328125,
          1.2333991527557373,
          24.488786697387695,
          0.8464958667755127,
          -4.579437255859375,
          7.351683139801025,
          31.8884220123291,
          37.16436004638672,
          1.893052101135254,
          4.514245986938477,
          1.4734289646148682,
          11.642900466918945,
          24.839216232299805,
          1.5329954624176025,
          37.312774658203125,
          33.50973129272461,
          44.21893310546875,
          44.159847259521484,
          39.25117111206055,
          30.04728126525879,
          28.926074981689453,
          32.47016906738281,
          32.714473724365234,
          34.206050872802734,
          41.23826599121094,
          40.42422103881836,
          43.91226577758789,
          37.42146301269531,
          34.773921966552734,
          40.81120300292969,
          44.0012321472168,
          8.934816360473633,
          38.81450271606445
         ],
         "xaxis": "x",
         "y": [
          27.19620704650879,
          24.159650802612305,
          19.52065086364746,
          14.7522611618042,
          18.83954429626465,
          24.98894500732422,
          -3.962954044342041,
          -0.5372397303581238,
          4.940136909484863,
          26.240503311157227,
          13.989474296569824,
          25.625247955322266,
          16.5970401763916,
          12.662751197814941,
          17.34781837463379,
          15.748408317565918,
          19.510765075683594,
          11.199430465698242,
          31.658409118652344,
          -0.8959934115409851,
          11.58496379852295,
          -24.905820846557617,
          -24.05628204345703,
          -11.490164756774902,
          25.04837989807129,
          11.714778900146484,
          37.43227005004883,
          13.681063652038574,
          -4.0044426918029785,
          12.742685317993164,
          25.43622398376465,
          8.633233070373535,
          -17.601909637451172,
          33.629146575927734,
          32.48000717163086,
          34.751625061035156,
          25.248577117919922,
          14.76951789855957,
          -3.7887375354766846,
          5.732193946838379,
          6.730230808258057,
          7.324939250946045,
          9.715424537658691,
          11.441192626953125,
          21.789710998535156,
          21.55840301513672,
          14.157838821411133,
          9.695840835571289,
          21.933643341064453,
          13.02904224395752,
          12.689271926879883,
          11.173055648803711,
          11.228524208068848,
          11.386702537536621,
          11.412641525268555,
          -4.201590061187744,
          28.73554801940918,
          6.819560527801514
         ],
         "yaxis": "y"
        },
        {
         "customdata": [
          [
           "Hand",
           "D01006.obj"
          ],
          [
           "Hand",
           "D01020.obj"
          ],
          [
           "Hand",
           "D01022.obj"
          ],
          [
           "Hand",
           "D01024.obj"
          ],
          [
           "Hand",
           "D01041.obj"
          ],
          [
           "Hand",
           "D01060.obj"
          ],
          [
           "Hand",
           "D01074.obj"
          ],
          [
           "Hand",
           "D01093.obj"
          ],
          [
           "Hand",
           "D01097.obj"
          ],
          [
           "Hand",
           "D01106.obj"
          ],
          [
           "Hand",
           "D01117.obj"
          ],
          [
           "Hand",
           "D01118.obj"
          ],
          [
           "Hand",
           "D01153.obj"
          ],
          [
           "Hand",
           "D01162.obj"
          ],
          [
           "Hand",
           "D01170.obj"
          ],
          [
           "Hand",
           "D01172.obj"
          ],
          [
           "Hand",
           "D01193.obj"
          ],
          [
           "Hand",
           "D01197.obj"
          ],
          [
           "Hand",
           "D01198.obj"
          ],
          [
           "Hand",
           "D01200.obj"
          ],
          [
           "Hand",
           "m323.obj"
          ],
          [
           "Hand",
           "m324.obj"
          ],
          [
           "Hand",
           "m325.obj"
          ],
          [
           "Hand",
           "m326.obj"
          ],
          [
           "Hand",
           "m327.obj"
          ],
          [
           "Hand",
           "m328.obj"
          ],
          [
           "Hand",
           "m329.obj"
          ],
          [
           "Hand",
           "m330.obj"
          ],
          [
           "Hand",
           "m331.obj"
          ],
          [
           "Hand",
           "m332.obj"
          ],
          [
           "Hand",
           "m333.obj"
          ],
          [
           "Hand",
           "m334.obj"
          ],
          [
           "Hand",
           "m335.obj"
          ],
          [
           "Hand",
           "m336.obj"
          ],
          [
           "Hand",
           "m337.obj"
          ],
          [
           "Hand",
           "m338.obj"
          ],
          [
           "Hand",
           "m339.obj"
          ]
         ],
         "hovertemplate": "Class=%{customdata[0]}<br>Principal Component 1=%{x}<br>Principal Component 2=%{y}<br>Name=%{customdata[1]}<extra></extra>",
         "legendgroup": "Hand",
         "marker": {
          "color": "#FF97FF",
          "symbol": "circle"
         },
         "mode": "markers",
         "name": "Hand",
         "showlegend": true,
         "type": "scattergl",
         "x": [
          -5.147157669067383,
          12.33435344696045,
          -3.61386775970459,
          -13.151196479797363,
          -0.31153345108032227,
          -0.5279802680015564,
          -2.594592809677124,
          11.676565170288086,
          -3.738311290740967,
          26.78278923034668,
          -2.2158217430114746,
          11.889959335327148,
          16.53864288330078,
          -24.131641387939453,
          13.458094596862793,
          4.960741996765137,
          -9.630082130432129,
          13.015983581542969,
          22.181400299072266,
          12.059764862060547,
          4.89497184753418,
          16.59575653076172,
          -0.3506773114204407,
          -0.44015786051750183,
          -9.623215675354004,
          -2.284597396850586,
          -3.713743209838867,
          -3.741122007369995,
          -2.5954740047454834,
          -23.703344345092773,
          -15.751752853393555,
          -13.109899520874023,
          -5.141526222229004,
          11.938458442687988,
          22.549806594848633,
          13.386991500854492,
          26.935443878173828
         ],
         "xaxis": "x",
         "y": [
          20.611473083496094,
          11.20372486114502,
          28.782609939575195,
          20.61259651184082,
          16.226186752319336,
          16.700315475463867,
          18.002151489257812,
          0.9165072441101074,
          17.33083152770996,
          22.158599853515625,
          17.713438034057617,
          11.506035804748535,
          19.354248046875,
          27.549732208251953,
          12.664703369140625,
          28.361373901367188,
          21.784992218017578,
          -1.2479066848754883,
          21.49776840209961,
          -0.01956763304769993,
          28.33146095275879,
          19.362199783325195,
          16.210355758666992,
          16.715593338012695,
          21.77589225769043,
          17.665191650390625,
          17.31989097595215,
          28.981882095336914,
          17.946645736694336,
          27.660219192504883,
          24.358497619628906,
          20.662385940551758,
          20.616548538208008,
          11.52293872833252,
          21.53132438659668,
          12.582215309143066,
          22.104087829589844
         ],
         "yaxis": "y"
        },
        {
         "customdata": [
          [
           "Hat",
           "m1627.obj"
          ],
          [
           "Hat",
           "m1628.obj"
          ],
          [
           "Hat",
           "m1629.obj"
          ],
          [
           "Hat",
           "m1630.obj"
          ],
          [
           "Hat",
           "m1632.obj"
          ],
          [
           "Hat",
           "m1633.obj"
          ],
          [
           "Hat",
           "m1634.obj"
          ],
          [
           "Hat",
           "m1635.obj"
          ],
          [
           "Hat",
           "m1636.obj"
          ],
          [
           "Hat",
           "m1637.obj"
          ],
          [
           "Hat",
           "m1638.obj"
          ],
          [
           "Hat",
           "m1639.obj"
          ],
          [
           "Hat",
           "m1640.obj"
          ],
          [
           "Hat",
           "m1641.obj"
          ]
         ],
         "hovertemplate": "Class=%{customdata[0]}<br>Principal Component 1=%{x}<br>Principal Component 2=%{y}<br>Name=%{customdata[1]}<extra></extra>",
         "legendgroup": "Hat",
         "marker": {
          "color": "#FECB52",
          "symbol": "circle"
         },
         "mode": "markers",
         "name": "Hat",
         "showlegend": true,
         "type": "scattergl",
         "x": [
          -36.09906005859375,
          -8.899341583251953,
          -5.38196325302124,
          -10.601115226745605,
          -19.747465133666992,
          -37.62281799316406,
          -28.080699920654297,
          -9.153155326843262,
          -6.233244895935059,
          -8.277745246887207,
          -6.777339935302734,
          -7.4935407638549805,
          -8.845221519470215,
          -7.437286376953125
         ],
         "xaxis": "x",
         "y": [
          -5.944139003753662,
          -9.822260856628418,
          -11.836222648620605,
          5.274790287017822,
          1.9249539375305176,
          -6.594634056091309,
          29.23613929748535,
          -4.339982986450195,
          -8.863385200500488,
          -10.083736419677734,
          -4.907468795776367,
          -8.825004577636719,
          -10.277599334716797,
          -9.912935256958008
         ],
         "yaxis": "y"
        },
        {
         "customdata": [
          [
           "Helicopter",
           "D00038.obj"
          ],
          [
           "Helicopter",
           "D00191.obj"
          ],
          [
           "Helicopter",
           "D00361.obj"
          ],
          [
           "Helicopter",
           "D00397.obj"
          ],
          [
           "Helicopter",
           "D00423.obj"
          ],
          [
           "Helicopter",
           "D00470.obj"
          ],
          [
           "Helicopter",
           "D00471.obj"
          ],
          [
           "Helicopter",
           "D00473.obj"
          ],
          [
           "Helicopter",
           "D00498.obj"
          ],
          [
           "Helicopter",
           "D00500.obj"
          ],
          [
           "Helicopter",
           "D00502.obj"
          ],
          [
           "Helicopter",
           "D00644.obj"
          ],
          [
           "Helicopter",
           "D00658.obj"
          ],
          [
           "Helicopter",
           "D00751.obj"
          ],
          [
           "Helicopter",
           "D00796.obj"
          ],
          [
           "Helicopter",
           "D00820.obj"
          ],
          [
           "Helicopter",
           "D00868.obj"
          ],
          [
           "Helicopter",
           "D00977.obj"
          ],
          [
           "Helicopter",
           "D00986.obj"
          ],
          [
           "Helicopter",
           "D00991.obj"
          ],
          [
           "Helicopter",
           "m1302.obj"
          ],
          [
           "Helicopter",
           "m1304.obj"
          ],
          [
           "Helicopter",
           "m1305.obj"
          ],
          [
           "Helicopter",
           "m1306.obj"
          ],
          [
           "Helicopter",
           "m1307.obj"
          ],
          [
           "Helicopter",
           "m1308.obj"
          ],
          [
           "Helicopter",
           "m1309.obj"
          ],
          [
           "Helicopter",
           "m1310.obj"
          ],
          [
           "Helicopter",
           "m1311.obj"
          ],
          [
           "Helicopter",
           "m1312.obj"
          ],
          [
           "Helicopter",
           "m1313.obj"
          ],
          [
           "Helicopter",
           "m1314.obj"
          ],
          [
           "Helicopter",
           "m1315.obj"
          ],
          [
           "Helicopter",
           "m1316.obj"
          ],
          [
           "Helicopter",
           "m1317.obj"
          ],
          [
           "Helicopter",
           "m1318.obj"
          ],
          [
           "Helicopter",
           "m1319.obj"
          ],
          [
           "Helicopter",
           "m1320.obj"
          ],
          [
           "Helicopter",
           "m1321.obj"
          ],
          [
           "Helicopter",
           "m1322.obj"
          ],
          [
           "Helicopter",
           "m1323.obj"
          ],
          [
           "Helicopter",
           "m1325.obj"
          ],
          [
           "Helicopter",
           "m1326.obj"
          ],
          [
           "Helicopter",
           "m1327.obj"
          ],
          [
           "Helicopter",
           "m1328.obj"
          ],
          [
           "Helicopter",
           "m1329.obj"
          ],
          [
           "Helicopter",
           "m1330.obj"
          ],
          [
           "Helicopter",
           "m1332.obj"
          ],
          [
           "Helicopter",
           "m1333.obj"
          ],
          [
           "Helicopter",
           "m1334.obj"
          ],
          [
           "Helicopter",
           "m1336.obj"
          ]
         ],
         "hovertemplate": "Class=%{customdata[0]}<br>Principal Component 1=%{x}<br>Principal Component 2=%{y}<br>Name=%{customdata[1]}<extra></extra>",
         "legendgroup": "Helicopter",
         "marker": {
          "color": "#636efa",
          "symbol": "circle"
         },
         "mode": "markers",
         "name": "Helicopter",
         "showlegend": true,
         "type": "scattergl",
         "x": [
          39.03668975830078,
          8.71800708770752,
          37.74094772338867,
          37.86629867553711,
          9.31381893157959,
          31.67829704284668,
          37.622989654541016,
          37.29266357421875,
          27.06521224975586,
          36.272926330566406,
          40.73298263549805,
          36.548797607421875,
          29.962646484375,
          -2.2722301483154297,
          -31.690156936645508,
          8.649770736694336,
          7.302504539489746,
          37.70425796508789,
          22.361623764038086,
          28.507001876831055,
          31.95254898071289,
          4.947509765625,
          29.71976661682129,
          38.21688461303711,
          31.242446899414062,
          36.516910552978516,
          28.64634895324707,
          9.316184043884277,
          29.426898956298828,
          -11.354218482971191,
          32.62045669555664,
          -6.893185138702393,
          40.641357421875,
          28.151832580566406,
          22.396879196166992,
          7.44166374206543,
          45.62842559814453,
          33.118892669677734,
          42.461673736572266,
          29.930362701416016,
          39.15163803100586,
          23.356687545776367,
          23.005908966064453,
          33.11395263671875,
          30.67854118347168,
          -17.157766342163086,
          37.05447006225586,
          32.46586227416992,
          14.059248924255371,
          14.386959075927734,
          22.606273651123047
         ],
         "xaxis": "x",
         "y": [
          -19.815372467041016,
          -33.15850067138672,
          -20.21912956237793,
          -20.760663986206055,
          -33.572242736816406,
          -22.52048683166504,
          -20.509870529174805,
          -18.95160675048828,
          -26.15082550048828,
          -20.86494255065918,
          -14.138144493103027,
          -21.04566764831543,
          -26.27594757080078,
          -33.305442810058594,
          -26.0379581451416,
          -31.510183334350586,
          -34.153892517089844,
          -21.560779571533203,
          -20.142791748046875,
          -29.027626037597656,
          3.6915197372436523,
          -0.24507614970207214,
          7.898946285247803,
          -23.82717514038086,
          -23.77332305908203,
          -21.046791076660156,
          -28.815073013305664,
          -33.613502502441406,
          -27.05181884765625,
          -30.149555206298828,
          -8.936577796936035,
          -32.19783020019531,
          -14.12275218963623,
          -18.634756088256836,
          -20.30259895324707,
          -33.987403869628906,
          -7.954319953918457,
          -17.128578186035156,
          -9.112229347229004,
          -27.379621505737305,
          -23.909847259521484,
          -16.16547966003418,
          -16.240644454956055,
          -17.11227798461914,
          -27.343076705932617,
          -2.6260335445404053,
          -11.446037292480469,
          -23.65774154663086,
          -24.204673767089844,
          -23.321195602416992,
          -17.791250228881836
         ],
         "yaxis": "y"
        },
        {
         "customdata": [
          [
           "House",
           "D00001.obj"
          ],
          [
           "House",
           "D00044.obj"
          ],
          [
           "House",
           "D00091.obj"
          ],
          [
           "House",
           "D00095.obj"
          ],
          [
           "House",
           "D00286.obj"
          ],
          [
           "House",
           "D00325.obj"
          ],
          [
           "House",
           "D00359.obj"
          ],
          [
           "House",
           "D00389.obj"
          ],
          [
           "House",
           "D00415.obj"
          ],
          [
           "House",
           "D00454.obj"
          ],
          [
           "House",
           "D00568.obj"
          ],
          [
           "House",
           "D00574.obj"
          ],
          [
           "House",
           "D00665.obj"
          ],
          [
           "House",
           "D00873.obj"
          ],
          [
           "House",
           "D00889.obj"
          ],
          [
           "House",
           "D00901.obj"
          ],
          [
           "House",
           "D00903.obj"
          ],
          [
           "House",
           "D00941.obj"
          ],
          [
           "House",
           "D00946.obj"
          ],
          [
           "House",
           "m423.obj"
          ],
          [
           "House",
           "m429.obj"
          ],
          [
           "House",
           "m430.obj"
          ],
          [
           "House",
           "m431.obj"
          ],
          [
           "House",
           "m432.obj"
          ],
          [
           "House",
           "m433.obj"
          ],
          [
           "House",
           "m434.obj"
          ],
          [
           "House",
           "m435.obj"
          ],
          [
           "House",
           "m436.obj"
          ],
          [
           "House",
           "m439.obj"
          ],
          [
           "House",
           "m440.obj"
          ],
          [
           "House",
           "m441.obj"
          ],
          [
           "House",
           "m443.obj"
          ],
          [
           "House",
           "m446.obj"
          ],
          [
           "House",
           "m447.obj"
          ],
          [
           "House",
           "m448.obj"
          ],
          [
           "House",
           "m449.obj"
          ],
          [
           "House",
           "m451.obj"
          ],
          [
           "House",
           "m453.obj"
          ],
          [
           "House",
           "m454.obj"
          ],
          [
           "House",
           "m456.obj"
          ],
          [
           "House",
           "m457.obj"
          ],
          [
           "House",
           "m460.obj"
          ],
          [
           "House",
           "m461.obj"
          ],
          [
           "House",
           "m462.obj"
          ]
         ],
         "hovertemplate": "Class=%{customdata[0]}<br>Principal Component 1=%{x}<br>Principal Component 2=%{y}<br>Name=%{customdata[1]}<extra></extra>",
         "legendgroup": "House",
         "marker": {
          "color": "#EF553B",
          "symbol": "circle"
         },
         "mode": "markers",
         "name": "House",
         "showlegend": true,
         "type": "scattergl",
         "x": [
          -46.358306884765625,
          -32.17924880981445,
          -32.78963851928711,
          -32.90249252319336,
          -49.889705657958984,
          -24.73467445373535,
          -38.741119384765625,
          -46.42304229736328,
          -32.38823699951172,
          -11.367660522460938,
          -33.604312896728516,
          -36.45878982543945,
          -21.55243682861328,
          -1.0616090297698975,
          -23.97234535217285,
          -49.41475296020508,
          -34.50859069824219,
          -11.410740852355957,
          -32.363712310791016,
          -8.506621360778809,
          -47.22585678100586,
          -48.673065185546875,
          -18.82149314880371,
          -5.477081775665283,
          -26.959569931030273,
          -27.51030158996582,
          -19.63409996032715,
          -6.199725151062012,
          -30.904991149902344,
          -11.508186340332031,
          -33.4335823059082,
          -13.221898078918457,
          25.608198165893555,
          -9.624733924865723,
          -29.480775833129883,
          -16.516210556030273,
          -7.628939151763916,
          -29.914369583129883,
          -3.130998373031616,
          8.49102783203125,
          -13.22201156616211,
          -48.145511627197266,
          -21.355628967285156,
          -31.628990173339844
         ],
         "xaxis": "x",
         "y": [
          -4.67346715927124,
          17.764909744262695,
          25.388330459594727,
          22.798532485961914,
          -8.233843803405762,
          7.297918796539307,
          -5.118833065032959,
          -3.937133550643921,
          18.216188430786133,
          28.630889892578125,
          -10.773881912231445,
          13.219293594360352,
          9.012724876403809,
          -7.392917633056641,
          21.404455184936523,
          -8.070884704589844,
          -13.576841354370117,
          28.608489990234375,
          5.787970542907715,
          25.96480369567871,
          -3.1715469360351562,
          -4.486259937286377,
          -10.618964195251465,
          -33.38630294799805,
          -12.921736717224121,
          25.501379013061523,
          -7.202150821685791,
          15.98966121673584,
          -25.034889221191406,
          -2.469961404800415,
          -10.528463363647461,
          19.234275817871094,
          -8.964694023132324,
          -7.936896800994873,
          6.605560302734375,
          23.8576602935791,
          -15.692679405212402,
          7.573338985443115,
          17.93573570251465,
          -13.865976333618164,
          19.223669052124023,
          -5.613736152648926,
          3.2710120677948,
          23.99599838256836
         ],
         "yaxis": "y"
        },
        {
         "customdata": [
          [
           "HumanHead",
           "D00013.obj"
          ],
          [
           "HumanHead",
           "D00061.obj"
          ],
          [
           "HumanHead",
           "D00072.obj"
          ],
          [
           "HumanHead",
           "D00106.obj"
          ],
          [
           "HumanHead",
           "D00131.obj"
          ],
          [
           "HumanHead",
           "D00205.obj"
          ],
          [
           "HumanHead",
           "D00313.obj"
          ],
          [
           "HumanHead",
           "D00434.obj"
          ],
          [
           "HumanHead",
           "D00487.obj"
          ],
          [
           "HumanHead",
           "D00488.obj"
          ],
          [
           "HumanHead",
           "D00566.obj"
          ],
          [
           "HumanHead",
           "D00578.obj"
          ],
          [
           "HumanHead",
           "D00591.obj"
          ],
          [
           "HumanHead",
           "D00610.obj"
          ],
          [
           "HumanHead",
           "D00629.obj"
          ],
          [
           "HumanHead",
           "D00653.obj"
          ],
          [
           "HumanHead",
           "D00690.obj"
          ],
          [
           "HumanHead",
           "D00758.obj"
          ],
          [
           "HumanHead",
           "D00910.obj"
          ],
          [
           "HumanHead",
           "D00984.obj"
          ],
          [
           "HumanHead",
           "m340.obj"
          ],
          [
           "HumanHead",
           "m341.obj"
          ],
          [
           "HumanHead",
           "m342.obj"
          ],
          [
           "HumanHead",
           "m343.obj"
          ],
          [
           "HumanHead",
           "m344.obj"
          ],
          [
           "HumanHead",
           "m345.obj"
          ],
          [
           "HumanHead",
           "m346.obj"
          ],
          [
           "HumanHead",
           "m347.obj"
          ],
          [
           "HumanHead",
           "m348.obj"
          ],
          [
           "HumanHead",
           "m349.obj"
          ],
          [
           "HumanHead",
           "m350.obj"
          ],
          [
           "HumanHead",
           "m351.obj"
          ],
          [
           "HumanHead",
           "m352.obj"
          ],
          [
           "HumanHead",
           "m353.obj"
          ],
          [
           "HumanHead",
           "m354.obj"
          ],
          [
           "HumanHead",
           "m355.obj"
          ],
          [
           "HumanHead",
           "m356.obj"
          ],
          [
           "HumanHead",
           "m357.obj"
          ],
          [
           "HumanHead",
           "m358.obj"
          ],
          [
           "HumanHead",
           "m359.obj"
          ],
          [
           "HumanHead",
           "m360.obj"
          ],
          [
           "HumanHead",
           "m361.obj"
          ],
          [
           "HumanHead",
           "m362.obj"
          ],
          [
           "HumanHead",
           "m363.obj"
          ],
          [
           "HumanHead",
           "m364.obj"
          ],
          [
           "HumanHead",
           "m365.obj"
          ],
          [
           "HumanHead",
           "m367.obj"
          ],
          [
           "HumanHead",
           "m368.obj"
          ],
          [
           "HumanHead",
           "m369.obj"
          ],
          [
           "HumanHead",
           "m370.obj"
          ]
         ],
         "hovertemplate": "Class=%{customdata[0]}<br>Principal Component 1=%{x}<br>Principal Component 2=%{y}<br>Name=%{customdata[1]}<extra></extra>",
         "legendgroup": "HumanHead",
         "marker": {
          "color": "#00cc96",
          "symbol": "circle"
         },
         "mode": "markers",
         "name": "HumanHead",
         "showlegend": true,
         "type": "scattergl",
         "x": [
          -35.75191879272461,
          23.680551528930664,
          -34.1573600769043,
          -31.422489166259766,
          -34.798648834228516,
          -32.955360412597656,
          -35.0126953125,
          -27.567798614501953,
          -31.29784393310547,
          -34.23229217529297,
          -23.68971824645996,
          -34.30123519897461,
          -34.729454040527344,
          -28.956518173217773,
          -30.503477096557617,
          -29.791851043701172,
          -20.794097900390625,
          -29.575973510742188,
          -34.24253463745117,
          -30.18681526184082,
          -23.52063751220703,
          -22.817684173583984,
          -12.195595741271973,
          -22.36566162109375,
          -17.53916358947754,
          -39.713340759277344,
          -26.674062728881836,
          -29.48752784729004,
          -21.470626831054688,
          -31.777801513671875,
          -25.69104766845703,
          -23.515398025512695,
          -31.266231536865234,
          -26.450231552124023,
          -18.564090728759766,
          -22.175079345703125,
          -27.154682159423828,
          -25.884397506713867,
          -26.587589263916016,
          -24.2955322265625,
          -24.01589584350586,
          -22.82262420654297,
          -28.072734832763672,
          -22.689849853515625,
          -19.056411743164062,
          -24.873592376708984,
          -10.512277603149414,
          -24.678308486938477,
          -21.57962417602539,
          -18.53769874572754
         ],
         "xaxis": "x",
         "y": [
          32.68496322631836,
          24.918405532836914,
          31.985469818115234,
          30.790210723876953,
          32.450382232666016,
          31.89063262939453,
          33.15682601928711,
          30.481719970703125,
          31.416284561157227,
          32.39712142944336,
          27.956695556640625,
          31.7880916595459,
          31.98114013671875,
          30.43348503112793,
          30.634319305419922,
          31.845674514770508,
          27.243562698364258,
          29.962589263916016,
          31.361650466918945,
          31.055160522460938,
          27.03720474243164,
          28.643089294433594,
          -9.946357727050781,
          28.099824905395508,
          24.867477416992188,
          -10.496085166931152,
          25.71871566772461,
          30.651033401489258,
          28.068281173706055,
          31.559402465820312,
          28.033946990966797,
          28.315017700195312,
          27.92125129699707,
          29.878808975219727,
          27.306350708007812,
          28.60457992553711,
          29.25436019897461,
          27.549036026000977,
          26.114059448242188,
          27.847965240478516,
          28.91234588623047,
          27.550569534301758,
          30.06024742126465,
          28.270551681518555,
          27.61836814880371,
          29.288320541381836,
          20.14523696899414,
          28.414392471313477,
          27.42666244506836,
          26.852169036865234
         ],
         "yaxis": "y"
        },
        {
         "customdata": [
          [
           "Humanoid",
           "m118.obj"
          ],
          [
           "Humanoid",
           "m119.obj"
          ],
          [
           "Humanoid",
           "m120.obj"
          ],
          [
           "Humanoid",
           "m121.obj"
          ],
          [
           "Humanoid",
           "m122.obj"
          ],
          [
           "Humanoid",
           "m123.obj"
          ],
          [
           "Humanoid",
           "m124.obj"
          ],
          [
           "Humanoid",
           "m125.obj"
          ],
          [
           "Humanoid",
           "m126.obj"
          ],
          [
           "Humanoid",
           "m128.obj"
          ],
          [
           "Humanoid",
           "m129.obj"
          ],
          [
           "Humanoid",
           "m130.obj"
          ],
          [
           "Humanoid",
           "m131.obj"
          ],
          [
           "Humanoid",
           "m132.obj"
          ],
          [
           "Humanoid",
           "m133.obj"
          ],
          [
           "Humanoid",
           "m134.obj"
          ],
          [
           "Humanoid",
           "m135.obj"
          ],
          [
           "Humanoid",
           "m136.obj"
          ],
          [
           "Humanoid",
           "m137.obj"
          ],
          [
           "Humanoid",
           "m138.obj"
          ],
          [
           "Humanoid",
           "m139.obj"
          ],
          [
           "Humanoid",
           "m140.obj"
          ],
          [
           "Humanoid",
           "m141.obj"
          ],
          [
           "Humanoid",
           "m143.obj"
          ],
          [
           "Humanoid",
           "m144.obj"
          ],
          [
           "Humanoid",
           "m145.obj"
          ],
          [
           "Humanoid",
           "m146.obj"
          ],
          [
           "Humanoid",
           "m147.obj"
          ],
          [
           "Humanoid",
           "m148.obj"
          ],
          [
           "Humanoid",
           "m149.obj"
          ],
          [
           "Humanoid",
           "m150.obj"
          ],
          [
           "Humanoid",
           "m151.obj"
          ],
          [
           "Humanoid",
           "m152.obj"
          ],
          [
           "Humanoid",
           "m153.obj"
          ],
          [
           "Humanoid",
           "m154.obj"
          ],
          [
           "Humanoid",
           "m155.obj"
          ],
          [
           "Humanoid",
           "m156.obj"
          ],
          [
           "Humanoid",
           "m157.obj"
          ],
          [
           "Humanoid",
           "m158.obj"
          ],
          [
           "Humanoid",
           "m159.obj"
          ],
          [
           "Humanoid",
           "m160.obj"
          ],
          [
           "Humanoid",
           "m161.obj"
          ],
          [
           "Humanoid",
           "m162.obj"
          ],
          [
           "Humanoid",
           "m163.obj"
          ],
          [
           "Humanoid",
           "m164.obj"
          ],
          [
           "Humanoid",
           "m165.obj"
          ],
          [
           "Humanoid",
           "m166.obj"
          ],
          [
           "Humanoid",
           "m167.obj"
          ],
          [
           "Humanoid",
           "m168.obj"
          ],
          [
           "Humanoid",
           "m169.obj"
          ],
          [
           "Humanoid",
           "m170.obj"
          ],
          [
           "Humanoid",
           "m171.obj"
          ],
          [
           "Humanoid",
           "m172.obj"
          ],
          [
           "Humanoid",
           "m173.obj"
          ],
          [
           "Humanoid",
           "m174.obj"
          ],
          [
           "Humanoid",
           "m175.obj"
          ],
          [
           "Humanoid",
           "m176.obj"
          ],
          [
           "Humanoid",
           "m177.obj"
          ],
          [
           "Humanoid",
           "m178.obj"
          ],
          [
           "Humanoid",
           "m179.obj"
          ],
          [
           "Humanoid",
           "m180.obj"
          ],
          [
           "Humanoid",
           "m181.obj"
          ],
          [
           "Humanoid",
           "m182.obj"
          ],
          [
           "Humanoid",
           "m183.obj"
          ],
          [
           "Humanoid",
           "m184.obj"
          ],
          [
           "Humanoid",
           "m185.obj"
          ],
          [
           "Humanoid",
           "m186.obj"
          ],
          [
           "Humanoid",
           "m187.obj"
          ],
          [
           "Humanoid",
           "m189.obj"
          ],
          [
           "Humanoid",
           "m190.obj"
          ],
          [
           "Humanoid",
           "m191.obj"
          ],
          [
           "Humanoid",
           "m192.obj"
          ],
          [
           "Humanoid",
           "m193.obj"
          ],
          [
           "Humanoid",
           "m194.obj"
          ],
          [
           "Humanoid",
           "m195.obj"
          ],
          [
           "Humanoid",
           "m196.obj"
          ],
          [
           "Humanoid",
           "m197.obj"
          ],
          [
           "Humanoid",
           "m198.obj"
          ],
          [
           "Humanoid",
           "m199.obj"
          ],
          [
           "Humanoid",
           "m202.obj"
          ],
          [
           "Humanoid",
           "m203.obj"
          ],
          [
           "Humanoid",
           "m204.obj"
          ],
          [
           "Humanoid",
           "m205.obj"
          ],
          [
           "Humanoid",
           "m206.obj"
          ],
          [
           "Humanoid",
           "m207.obj"
          ],
          [
           "Humanoid",
           "m208.obj"
          ],
          [
           "Humanoid",
           "m210.obj"
          ],
          [
           "Humanoid",
           "m211.obj"
          ],
          [
           "Humanoid",
           "m212.obj"
          ],
          [
           "Humanoid",
           "m213.obj"
          ],
          [
           "Humanoid",
           "m214.obj"
          ],
          [
           "Humanoid",
           "m215.obj"
          ],
          [
           "Humanoid",
           "m216.obj"
          ],
          [
           "Humanoid",
           "m217.obj"
          ],
          [
           "Humanoid",
           "m218.obj"
          ],
          [
           "Humanoid",
           "m219.obj"
          ],
          [
           "Humanoid",
           "m220.obj"
          ],
          [
           "Humanoid",
           "m221.obj"
          ],
          [
           "Humanoid",
           "m222.obj"
          ],
          [
           "Humanoid",
           "m223.obj"
          ],
          [
           "Humanoid",
           "m224.obj"
          ],
          [
           "Humanoid",
           "m226.obj"
          ],
          [
           "Humanoid",
           "m227.obj"
          ],
          [
           "Humanoid",
           "m228.obj"
          ],
          [
           "Humanoid",
           "m229.obj"
          ],
          [
           "Humanoid",
           "m230.obj"
          ],
          [
           "Humanoid",
           "m231.obj"
          ],
          [
           "Humanoid",
           "m232.obj"
          ],
          [
           "Humanoid",
           "m233.obj"
          ],
          [
           "Humanoid",
           "m234.obj"
          ],
          [
           "Humanoid",
           "m235.obj"
          ],
          [
           "Humanoid",
           "m236.obj"
          ],
          [
           "Humanoid",
           "m237.obj"
          ],
          [
           "Humanoid",
           "m238.obj"
          ],
          [
           "Humanoid",
           "m239.obj"
          ],
          [
           "Humanoid",
           "m240.obj"
          ],
          [
           "Humanoid",
           "m241.obj"
          ],
          [
           "Humanoid",
           "m242.obj"
          ],
          [
           "Humanoid",
           "m243.obj"
          ],
          [
           "Humanoid",
           "m244.obj"
          ],
          [
           "Humanoid",
           "m245.obj"
          ],
          [
           "Humanoid",
           "m246.obj"
          ],
          [
           "Humanoid",
           "m248.obj"
          ],
          [
           "Humanoid",
           "m249.obj"
          ],
          [
           "Humanoid",
           "m250.obj"
          ],
          [
           "Humanoid",
           "m251.obj"
          ],
          [
           "Humanoid",
           "m252.obj"
          ],
          [
           "Humanoid",
           "m253.obj"
          ],
          [
           "Humanoid",
           "m254.obj"
          ],
          [
           "Humanoid",
           "m255.obj"
          ],
          [
           "Humanoid",
           "m256.obj"
          ],
          [
           "Humanoid",
           "m257.obj"
          ],
          [
           "Humanoid",
           "m258.obj"
          ],
          [
           "Humanoid",
           "m259.obj"
          ],
          [
           "Humanoid",
           "m260.obj"
          ],
          [
           "Humanoid",
           "m261.obj"
          ],
          [
           "Humanoid",
           "m262.obj"
          ],
          [
           "Humanoid",
           "m263.obj"
          ],
          [
           "Humanoid",
           "m264.obj"
          ],
          [
           "Humanoid",
           "m265.obj"
          ],
          [
           "Humanoid",
           "m266.obj"
          ]
         ],
         "hovertemplate": "Class=%{customdata[0]}<br>Principal Component 1=%{x}<br>Principal Component 2=%{y}<br>Name=%{customdata[1]}<extra></extra>",
         "legendgroup": "Humanoid",
         "marker": {
          "color": "#ab63fa",
          "symbol": "circle"
         },
         "mode": "markers",
         "name": "Humanoid",
         "showlegend": true,
         "type": "scattergl",
         "x": [
          19.921937942504883,
          18.575115203857422,
          22.048856735229492,
          20.544601440429688,
          21.859275817871094,
          22.88587760925293,
          17.95987892150879,
          20.132349014282227,
          20.846860885620117,
          18.01873779296875,
          12.461040496826172,
          28.000545501708984,
          18.829917907714844,
          17.50824737548828,
          1.1391830444335938,
          23.98445701599121,
          20.231483459472656,
          18.5384521484375,
          20.184017181396484,
          18.911102294921875,
          6.705746650695801,
          15.209004402160645,
          20.684608459472656,
          18.067516326904297,
          18.568395614624023,
          15.35745620727539,
          18.12491226196289,
          15.091292381286621,
          21.052854537963867,
          16.736318588256836,
          15.072482109069824,
          17.28795623779297,
          12.024343490600586,
          9.557262420654297,
          16.070646286010742,
          13.911612510681152,
          15.398067474365234,
          14.122570991516113,
          1.3416738510131836,
          18.068716049194336,
          19.01151466369629,
          8.006404876708984,
          22.67024803161621,
          9.219772338867188,
          8.985051155090332,
          16.865558624267578,
          7.524987697601318,
          -1.4335414171218872,
          17.333534240722656,
          18.28119468688965,
          19.337753295898438,
          19.87618637084961,
          20.84235954284668,
          18.27837562561035,
          11.425512313842773,
          18.799034118652344,
          18.095178604125977,
          6.977536678314209,
          16.845245361328125,
          16.090232849121094,
          -8.644070625305176,
          16.637073516845703,
          17.1088924407959,
          -10.24464225769043,
          18.514362335205078,
          20.939041137695312,
          18.269886016845703,
          4.403042316436768,
          20.986427307128906,
          -6.141600608825684,
          -4.399784564971924,
          18.849849700927734,
          5.90800142288208,
          15.065736770629883,
          20.24555206298828,
          16.066423416137695,
          21.609527587890625,
          13.856528282165527,
          24.592098236083984,
          19.753433227539062,
          24.972055435180664,
          14.026809692382812,
          8.866660118103027,
          23.65383529663086,
          14.336234092712402,
          21.438657760620117,
          5.86714506149292,
          18.19268226623535,
          14.237334251403809,
          23.560396194458008,
          29.32973861694336,
          22.623512268066406,
          31.69548225402832,
          21.805347442626953,
          9.824530601501465,
          -27.166181564331055,
          13.203857421875,
          15.476566314697266,
          -3.3569042682647705,
          18.90489387512207,
          19.447216033935547,
          12.587864875793457,
          -9.231968879699707,
          -29.50581169128418,
          16.262969970703125,
          19.068193435668945,
          -7.478727340698242,
          11.283610343933105,
          -12.491294860839844,
          18.800827026367188,
          13.697386741638184,
          19.928447723388672,
          26.18520736694336,
          16.277482986450195,
          25.27775001525879,
          23.34290313720703,
          10.872210502624512,
          11.682077407836914,
          14.58109188079834,
          14.758344650268555,
          15.51234245300293,
          25.49036979675293,
          14.176191329956055,
          18.32016372680664,
          24.63999366760254,
          18.145206451416016,
          13.35083293914795,
          17.30511474609375,
          19.12421226501465,
          13.672782897949219,
          7.818163871765137,
          13.738382339477539,
          18.021772384643555,
          16.48613739013672,
          14.075592994689941,
          21.03786277770996,
          22.68880271911621,
          18.8530216217041,
          18.35501480102539,
          18.32033920288086,
          -12.248332023620605
         ],
         "xaxis": "x",
         "y": [
          17.36339569091797,
          19.39821434020996,
          10.843017578125,
          17.947708129882812,
          1.0795475244522095,
          10.421675682067871,
          19.94327735900879,
          2.9882121086120605,
          16.566255569458008,
          19.351612091064453,
          22.05318832397461,
          -9.51069450378418,
          17.536462783813477,
          17.12444496154785,
          37.53061294555664,
          22.382997512817383,
          8.973254203796387,
          19.81934928894043,
          1.5439012050628662,
          0.6798547506332397,
          26.0658016204834,
          12.691839218139648,
          2.6500649452209473,
          12.566038131713867,
          11.129687309265137,
          -7.272289276123047,
          2.715153932571411,
          14.480195999145508,
          -17.35167694091797,
          16.624258041381836,
          15.731038093566895,
          20.884700775146484,
          18.204856872558594,
          26.333717346191406,
          17.69721031188965,
          14.51517105102539,
          11.956147193908691,
          17.804460525512695,
          32.79214859008789,
          20.5902042388916,
          1.5448323488235474,
          27.99968910217285,
          -8.764261245727539,
          28.577634811401367,
          27.75575065612793,
          4.139341831207275,
          28.816007614135742,
          16.533361434936523,
          18.57039451599121,
          18.01447868347168,
          11.717643737792969,
          0.7529668211936951,
          12.15931510925293,
          22.133159637451172,
          19.374969482421875,
          1.8691978454589844,
          -3.021497964859009,
          27.534927368164062,
          15.681912422180176,
          14.664989471435547,
          43.28505325317383,
          12.803742408752441,
          13.526127815246582,
          14.566222190856934,
          21.609333038330078,
          4.350188255310059,
          17.16425895690918,
          -6.030755519866943,
          12.23720645904541,
          12.892728805541992,
          -20.682052612304688,
          17.587650299072266,
          -4.032817363739014,
          15.039883613586426,
          4.350821495056152,
          22.15110969543457,
          13.181865692138672,
          17.015592575073242,
          -5.504530429840088,
          18.51862335205078,
          -0.5843711495399475,
          3.780311346054077,
          25.871498107910156,
          9.857346534729004,
          7.210957050323486,
          11.0704345703125,
          -9.030238151550293,
          20.892730712890625,
          12.292494773864746,
          11.184800148010254,
          4.475459098815918,
          11.524349212646484,
          -5.987377166748047,
          -1.3105089664459229,
          -30.084917068481445,
          -23.433822631835938,
          1.9639053344726562,
          -4.706279277801514,
          -28.57300567626953,
          -11.247262001037598,
          -11.945708274841309,
          1.0488653182983398,
          1.4145370721817017,
          -21.084243774414062,
          -4.1628570556640625,
          -11.437556266784668,
          -22.600326538085938,
          -5.215369701385498,
          -23.70279884338379,
          -0.8966128826141357,
          -10.871068000793457,
          -13.466391563415527,
          -12.667672157287598,
          -7.947592735290527,
          -11.501484870910645,
          -9.67088794708252,
          -2.277634859085083,
          -1.8785383701324463,
          -10.230855941772461,
          -6.79897928237915,
          -8.072243690490723,
          -11.776252746582031,
          -11.603196144104004,
          -19.68964195251465,
          -3.397152900695801,
          -11.722997665405273,
          1.6276540756225586,
          -4.701950550079346,
          -1.271304726600647,
          3.408888101577759,
          -35.4644660949707,
          -27.882244110107422,
          -11.946934700012207,
          -13.733427047729492,
          6.754094123840332,
          2.408388376235962,
          4.008225440979004,
          -7.598320007324219,
          -1.8939818143844604,
          -7.478542804718018,
          -29.529420852661133
         ],
         "yaxis": "y"
        },
        {
         "customdata": [
          [
           "Insect",
           "D00081.obj"
          ],
          [
           "Insect",
           "D00082.obj"
          ],
          [
           "Insect",
           "D00102.obj"
          ],
          [
           "Insect",
           "D00109.obj"
          ],
          [
           "Insect",
           "D00117.obj"
          ],
          [
           "Insect",
           "D00136.obj"
          ],
          [
           "Insect",
           "D00160.obj"
          ],
          [
           "Insect",
           "D00180.obj"
          ],
          [
           "Insect",
           "D00231.obj"
          ],
          [
           "Insect",
           "D00291.obj"
          ],
          [
           "Insect",
           "D00294.obj"
          ],
          [
           "Insect",
           "D00309.obj"
          ],
          [
           "Insect",
           "D00315.obj"
          ],
          [
           "Insect",
           "D00333.obj"
          ],
          [
           "Insect",
           "D00399.obj"
          ],
          [
           "Insect",
           "D00430.obj"
          ],
          [
           "Insect",
           "D00510.obj"
          ],
          [
           "Insect",
           "D00590.obj"
          ],
          [
           "Insect",
           "D00615.obj"
          ],
          [
           "Insect",
           "D00662.obj"
          ],
          [
           "Insect",
           "D00668.obj"
          ],
          [
           "Insect",
           "D00672.obj"
          ],
          [
           "Insect",
           "D00695.obj"
          ],
          [
           "Insect",
           "D00713.obj"
          ],
          [
           "Insect",
           "D00732.obj"
          ],
          [
           "Insect",
           "D00734.obj"
          ],
          [
           "Insect",
           "D00746.obj"
          ],
          [
           "Insect",
           "D00752.obj"
          ],
          [
           "Insect",
           "D00753.obj"
          ],
          [
           "Insect",
           "D00774.obj"
          ],
          [
           "Insect",
           "D00786.obj"
          ],
          [
           "Insect",
           "D00787.obj"
          ],
          [
           "Insect",
           "D00788.obj"
          ],
          [
           "Insect",
           "D00806.obj"
          ],
          [
           "Insect",
           "D00814.obj"
          ],
          [
           "Insect",
           "D00855.obj"
          ],
          [
           "Insect",
           "D00884.obj"
          ],
          [
           "Insect",
           "D00895.obj"
          ],
          [
           "Insect",
           "D00973.obj"
          ],
          [
           "Insect",
           "D00989.obj"
          ],
          [
           "Insect",
           "m0.obj"
          ],
          [
           "Insect",
           "m1.obj"
          ],
          [
           "Insect",
           "m10.obj"
          ],
          [
           "Insect",
           "m11.obj"
          ],
          [
           "Insect",
           "m12.obj"
          ],
          [
           "Insect",
           "m13.obj"
          ],
          [
           "Insect",
           "m14.obj"
          ],
          [
           "Insect",
           "m15.obj"
          ],
          [
           "Insect",
           "m16.obj"
          ],
          [
           "Insect",
           "m17.obj"
          ],
          [
           "Insect",
           "m18.obj"
          ],
          [
           "Insect",
           "m19.obj"
          ],
          [
           "Insect",
           "m2.obj"
          ],
          [
           "Insect",
           "m20.obj"
          ],
          [
           "Insect",
           "m21.obj"
          ],
          [
           "Insect",
           "m22.obj"
          ],
          [
           "Insect",
           "m23.obj"
          ],
          [
           "Insect",
           "m24.obj"
          ],
          [
           "Insect",
           "m25.obj"
          ],
          [
           "Insect",
           "m26.obj"
          ],
          [
           "Insect",
           "m3.obj"
          ],
          [
           "Insect",
           "m4.obj"
          ],
          [
           "Insect",
           "m6.obj"
          ],
          [
           "Insect",
           "m7.obj"
          ],
          [
           "Insect",
           "m8.obj"
          ],
          [
           "Insect",
           "m9.obj"
          ]
         ],
         "hovertemplate": "Class=%{customdata[0]}<br>Principal Component 1=%{x}<br>Principal Component 2=%{y}<br>Name=%{customdata[1]}<extra></extra>",
         "legendgroup": "Insect",
         "marker": {
          "color": "#FFA15A",
          "symbol": "circle"
         },
         "mode": "markers",
         "name": "Insect",
         "showlegend": true,
         "type": "scattergl",
         "x": [
          24.042604446411133,
          -17.881690979003906,
          -20.328184127807617,
          12.209980010986328,
          2.956465721130371,
          -17.11389923095703,
          -3.501250982284546,
          -20.329402923583984,
          22.83353042602539,
          22.619638442993164,
          -4.673992156982422,
          -14.267168045043945,
          12.209383010864258,
          14.691468238830566,
          -9.108965873718262,
          -40.25248336791992,
          2.994852304458618,
          -31.244670867919922,
          -20.509553909301758,
          -35.1864013671875,
          -36.087608337402344,
          11.329668045043945,
          -9.360176086425781,
          -10.069900512695312,
          -9.295453071594238,
          -5.386176586151123,
          8.440067291259766,
          -10.355849266052246,
          -9.700453758239746,
          10.220741271972656,
          -7.9096784591674805,
          49.31577682495117,
          -10.959053993225098,
          -35.41839599609375,
          -32.21723556518555,
          17.68781852722168,
          -35.23070526123047,
          24.91836166381836,
          13.291422843933105,
          14.505464553833008,
          -8.575624465942383,
          17.139244079589844,
          -32.267112731933594,
          47.558860778808594,
          20.799062728881836,
          32.86039733886719,
          -9.299391746520996,
          47.56509780883789,
          -10.011324882507324,
          10.663167953491211,
          8.43082046508789,
          12.856728553771973,
          -7.918096542358398,
          -10.659457206726074,
          -41.79113006591797,
          6.281215667724609,
          -3.4169259071350098,
          5.90293025970459,
          -40.373634338378906,
          6.371640205383301,
          9.623190879821777,
          8.8955078125,
          -44.46803665161133,
          9.882359504699707,
          -35.63249206542969,
          24.178895950317383
         ],
         "xaxis": "x",
         "y": [
          -26.17198944091797,
          -4.183126449584961,
          29.792287826538086,
          -25.036592483520508,
          -19.0612850189209,
          -8.564032554626465,
          18.363323211669922,
          29.791553497314453,
          -26.696290969848633,
          0.5607918500900269,
          -13.84753704071045,
          -23.678424835205078,
          10.438104629516602,
          -12.085619926452637,
          -32.06187057495117,
          -15.949760437011719,
          -32.65951156616211,
          -27.29278564453125,
          29.00666618347168,
          -23.511201858520508,
          -24.04201889038086,
          -28.578542709350586,
          -33.40752410888672,
          15.859162330627441,
          -34.107887268066406,
          -31.13707733154297,
          -29.327922821044922,
          -29.16068458557129,
          -27.469690322875977,
          -30.848798751831055,
          -31.109634399414062,
          14.632936477661133,
          -32.10214614868164,
          -22.571083068847656,
          -25.15032958984375,
          -6.891188621520996,
          -23.485933303833008,
          -20.715015411376953,
          -0.2539704740047455,
          -0.44985052943229675,
          -31.361896514892578,
          -6.996940612792969,
          -25.204435348510742,
          -1.1430151462554932,
          -19.625843048095703,
          -24.093687057495117,
          -32.44778823852539,
          -1.1497923135757446,
          -32.84120559692383,
          -31.297842025756836,
          -29.31623649597168,
          -29.042095184326172,
          -31.099071502685547,
          -30.500314712524414,
          -21.032682418823242,
          -8.87275505065918,
          -32.28831100463867,
          -9.469491004943848,
          -23.38579559326172,
          -25.874637603759766,
          -29.157743453979492,
          -33.82253646850586,
          -15.359701156616211,
          3.4046733379364014,
          -21.663957595825195,
          -25.729476928710938
         ],
         "yaxis": "y"
        },
        {
         "customdata": [
          [
           "Jet",
           "m1147.obj"
          ],
          [
           "Jet",
           "m1149.obj"
          ],
          [
           "Jet",
           "m1150.obj"
          ],
          [
           "Jet",
           "m1151.obj"
          ],
          [
           "Jet",
           "m1152.obj"
          ],
          [
           "Jet",
           "m1153.obj"
          ],
          [
           "Jet",
           "m1154.obj"
          ],
          [
           "Jet",
           "m1155.obj"
          ],
          [
           "Jet",
           "m1156.obj"
          ],
          [
           "Jet",
           "m1157.obj"
          ],
          [
           "Jet",
           "m1158.obj"
          ],
          [
           "Jet",
           "m1159.obj"
          ],
          [
           "Jet",
           "m1161.obj"
          ],
          [
           "Jet",
           "m1162.obj"
          ],
          [
           "Jet",
           "m1163.obj"
          ],
          [
           "Jet",
           "m1165.obj"
          ],
          [
           "Jet",
           "m1166.obj"
          ],
          [
           "Jet",
           "m1167.obj"
          ],
          [
           "Jet",
           "m1168.obj"
          ],
          [
           "Jet",
           "m1169.obj"
          ],
          [
           "Jet",
           "m1171.obj"
          ],
          [
           "Jet",
           "m1172.obj"
          ],
          [
           "Jet",
           "m1173.obj"
          ],
          [
           "Jet",
           "m1174.obj"
          ],
          [
           "Jet",
           "m1175.obj"
          ],
          [
           "Jet",
           "m1176.obj"
          ],
          [
           "Jet",
           "m1177.obj"
          ],
          [
           "Jet",
           "m1178.obj"
          ],
          [
           "Jet",
           "m1179.obj"
          ],
          [
           "Jet",
           "m1180.obj"
          ],
          [
           "Jet",
           "m1181.obj"
          ],
          [
           "Jet",
           "m1182.obj"
          ],
          [
           "Jet",
           "m1183.obj"
          ],
          [
           "Jet",
           "m1184.obj"
          ],
          [
           "Jet",
           "m1185.obj"
          ],
          [
           "Jet",
           "m1187.obj"
          ],
          [
           "Jet",
           "m1188.obj"
          ],
          [
           "Jet",
           "m1190.obj"
          ],
          [
           "Jet",
           "m1191.obj"
          ],
          [
           "Jet",
           "m1193.obj"
          ],
          [
           "Jet",
           "m1194.obj"
          ],
          [
           "Jet",
           "m1195.obj"
          ],
          [
           "Jet",
           "m1196.obj"
          ],
          [
           "Jet",
           "m1197.obj"
          ],
          [
           "Jet",
           "m1198.obj"
          ],
          [
           "Jet",
           "m1199.obj"
          ],
          [
           "Jet",
           "m1200.obj"
          ],
          [
           "Jet",
           "m1201.obj"
          ],
          [
           "Jet",
           "m1202.obj"
          ],
          [
           "Jet",
           "m1204.obj"
          ],
          [
           "Jet",
           "m1205.obj"
          ],
          [
           "Jet",
           "m1207.obj"
          ],
          [
           "Jet",
           "m1208.obj"
          ],
          [
           "Jet",
           "m1209.obj"
          ],
          [
           "Jet",
           "m1210.obj"
          ],
          [
           "Jet",
           "m1211.obj"
          ],
          [
           "Jet",
           "m1212.obj"
          ],
          [
           "Jet",
           "m1213.obj"
          ],
          [
           "Jet",
           "m1214.obj"
          ],
          [
           "Jet",
           "m1215.obj"
          ],
          [
           "Jet",
           "m1216.obj"
          ],
          [
           "Jet",
           "m1217.obj"
          ],
          [
           "Jet",
           "m1218.obj"
          ],
          [
           "Jet",
           "m1219.obj"
          ],
          [
           "Jet",
           "m1220.obj"
          ],
          [
           "Jet",
           "m1221.obj"
          ],
          [
           "Jet",
           "m1222.obj"
          ],
          [
           "Jet",
           "m1223.obj"
          ],
          [
           "Jet",
           "m1224.obj"
          ],
          [
           "Jet",
           "m1225.obj"
          ],
          [
           "Jet",
           "m1226.obj"
          ],
          [
           "Jet",
           "m1227.obj"
          ],
          [
           "Jet",
           "m1228.obj"
          ],
          [
           "Jet",
           "m1229.obj"
          ],
          [
           "Jet",
           "m1230.obj"
          ],
          [
           "Jet",
           "m1231.obj"
          ],
          [
           "Jet",
           "m1232.obj"
          ],
          [
           "Jet",
           "m1233.obj"
          ],
          [
           "Jet",
           "m1234.obj"
          ],
          [
           "Jet",
           "m1235.obj"
          ],
          [
           "Jet",
           "m1236.obj"
          ],
          [
           "Jet",
           "m1237.obj"
          ],
          [
           "Jet",
           "m1238.obj"
          ],
          [
           "Jet",
           "m1239.obj"
          ],
          [
           "Jet",
           "m1240.obj"
          ],
          [
           "Jet",
           "m1241.obj"
          ],
          [
           "Jet",
           "m1242.obj"
          ],
          [
           "Jet",
           "m1243.obj"
          ],
          [
           "Jet",
           "m1245.obj"
          ],
          [
           "Jet",
           "m1246.obj"
          ],
          [
           "Jet",
           "m1247.obj"
          ],
          [
           "Jet",
           "m1248.obj"
          ],
          [
           "Jet",
           "m1249.obj"
          ],
          [
           "Jet",
           "m1250.obj"
          ],
          [
           "Jet",
           "m1251.obj"
          ],
          [
           "Jet",
           "m1252.obj"
          ],
          [
           "Jet",
           "m1253.obj"
          ],
          [
           "Jet",
           "m1255.obj"
          ],
          [
           "Jet",
           "m1256.obj"
          ],
          [
           "Jet",
           "m1257.obj"
          ],
          [
           "Jet",
           "m1258.obj"
          ],
          [
           "Jet",
           "m1259.obj"
          ],
          [
           "Jet",
           "m1260.obj"
          ],
          [
           "Jet",
           "m1261.obj"
          ],
          [
           "Jet",
           "m1262.obj"
          ],
          [
           "Jet",
           "m1263.obj"
          ],
          [
           "Jet",
           "m1264.obj"
          ],
          [
           "Jet",
           "m1265.obj"
          ],
          [
           "Jet",
           "m1266.obj"
          ],
          [
           "Jet",
           "m1267.obj"
          ],
          [
           "Jet",
           "m1268.obj"
          ],
          [
           "Jet",
           "m1269.obj"
          ],
          [
           "Jet",
           "m1270.obj"
          ],
          [
           "Jet",
           "m1271.obj"
          ],
          [
           "Jet",
           "m1273.obj"
          ],
          [
           "Jet",
           "m1274.obj"
          ],
          [
           "Jet",
           "m1275.obj"
          ],
          [
           "Jet",
           "m1276.obj"
          ],
          [
           "Jet",
           "m1277.obj"
          ],
          [
           "Jet",
           "m1278.obj"
          ],
          [
           "Jet",
           "m1279.obj"
          ],
          [
           "Jet",
           "m1280.obj"
          ],
          [
           "Jet",
           "m1281.obj"
          ],
          [
           "Jet",
           "m1282.obj"
          ],
          [
           "Jet",
           "m1283.obj"
          ],
          [
           "Jet",
           "m1284.obj"
          ],
          [
           "Jet",
           "m1285.obj"
          ],
          [
           "Jet",
           "m1286.obj"
          ],
          [
           "Jet",
           "m1287.obj"
          ],
          [
           "Jet",
           "m1288.obj"
          ],
          [
           "Jet",
           "m1289.obj"
          ],
          [
           "Jet",
           "m1290.obj"
          ],
          [
           "Jet",
           "m1291.obj"
          ],
          [
           "Jet",
           "m1292.obj"
          ],
          [
           "Jet",
           "m1293.obj"
          ],
          [
           "Jet",
           "m1294.obj"
          ],
          [
           "Jet",
           "m1295.obj"
          ],
          [
           "Jet",
           "m1296.obj"
          ],
          [
           "Jet",
           "m1297.obj"
          ],
          [
           "Jet",
           "m1298.obj"
          ],
          [
           "Jet",
           "m1299.obj"
          ],
          [
           "Jet",
           "m1300.obj"
          ],
          [
           "Jet",
           "m1301.obj"
          ]
         ],
         "hovertemplate": "Class=%{customdata[0]}<br>Principal Component 1=%{x}<br>Principal Component 2=%{y}<br>Name=%{customdata[1]}<extra></extra>",
         "legendgroup": "Jet",
         "marker": {
          "color": "#19d3f3",
          "symbol": "circle"
         },
         "mode": "markers",
         "name": "Jet",
         "showlegend": true,
         "type": "scattergl",
         "x": [
          24.171560287475586,
          25.981725692749023,
          27.71793556213379,
          24.080522537231445,
          8.1312255859375,
          18.61574935913086,
          24.22585105895996,
          26.68605613708496,
          25.12087059020996,
          32.680259704589844,
          21.573936462402344,
          8.11715030670166,
          22.21198081970215,
          24.820556640625,
          27.0798397064209,
          21.33561897277832,
          28.159427642822266,
          20.284910202026367,
          31.220151901245117,
          18.337831497192383,
          19.850479125976562,
          30.12115478515625,
          35.37093734741211,
          27.46986198425293,
          20.952316284179688,
          23.19520378112793,
          23.220359802246094,
          33.825138092041016,
          41.52546691894531,
          32.45846176147461,
          31.616050720214844,
          31.398103713989258,
          -1.9719158411026,
          26.39912986755371,
          32.951454162597656,
          23.50991439819336,
          23.96649169921875,
          27.346588134765625,
          25.717222213745117,
          36.36947250366211,
          34.346778869628906,
          29.65032196044922,
          30.224271774291992,
          33.35826873779297,
          32.77980422973633,
          28.568010330200195,
          23.654645919799805,
          16.932430267333984,
          26.992799758911133,
          27.70166015625,
          -6.6448655128479,
          33.95267105102539,
          -31.510648727416992,
          11.778749465942383,
          23.58162498474121,
          6.092200756072998,
          36.785743713378906,
          37.06988525390625,
          27.961889266967773,
          23.97966766357422,
          31.37192153930664,
          31.71141815185547,
          23.535871505737305,
          20.850561141967773,
          32.05971908569336,
          20.71763801574707,
          -5.7513651847839355,
          27.117671966552734,
          39.418060302734375,
          15.317227363586426,
          34.14601516723633,
          35.34931564331055,
          35.3077392578125,
          26.765228271484375,
          23.99810791015625,
          30.87949562072754,
          25.50577735900879,
          25.924331665039062,
          26.59833335876465,
          27.14878273010254,
          30.229209899902344,
          23.53807258605957,
          33.849952697753906,
          21.062143325805664,
          24.669212341308594,
          20.388404846191406,
          31.056806564331055,
          32.4981689453125,
          26.34153938293457,
          23.004961013793945,
          20.207155227661133,
          22.504047393798828,
          5.354842662811279,
          32.08392333984375,
          18.330900192260742,
          33.64283752441406,
          29.88854217529297,
          21.878368377685547,
          40.9277229309082,
          40.7294807434082,
          20.466718673706055,
          16.906646728515625,
          22.607160568237305,
          23.108064651489258,
          33.263797760009766,
          18.608598709106445,
          22.815818786621094,
          33.899532318115234,
          30.871952056884766,
          -40.04229736328125,
          47.323944091796875,
          47.31175994873047,
          45.78889846801758,
          42.03713607788086,
          44.63822937011719,
          31.631669998168945,
          31.509458541870117,
          44.782989501953125,
          44.627708435058594,
          43.99089050292969,
          43.608951568603516,
          46.12698745727539,
          42.86799621582031,
          43.27170944213867,
          43.97461700439453,
          42.78826904296875,
          45.719791412353516,
          -8.644449234008789,
          38.97505187988281,
          22.23069953918457,
          21.841190338134766,
          42.45213317871094,
          25.981021881103516,
          34.32743835449219,
          40.25308609008789,
          33.5584602355957,
          35.21274185180664,
          24.72953224182129,
          47.994564056396484,
          12.956036567687988,
          23.22924041748047,
          19.444061279296875,
          23.143869400024414
         ],
         "xaxis": "x",
         "y": [
          -19.57609748840332,
          -16.72522735595703,
          -13.64588451385498,
          -18.827180862426758,
          -20.99410629272461,
          -15.19308090209961,
          -19.93988609313965,
          -15.418231964111328,
          -15.92483901977539,
          -12.593448638916016,
          -24.056676864624023,
          -20.99569320678711,
          -15.141141891479492,
          -18.593868255615234,
          -21.165409088134766,
          -16.51046371459961,
          -21.589420318603516,
          -15.864510536193848,
          -15.788751602172852,
          -25.386083602905273,
          -26.324134826660156,
          -8.494220733642578,
          -16.922990798950195,
          -13.655828475952148,
          -15.45826530456543,
          6.700901508331299,
          -20.92768096923828,
          -10.917012214660645,
          -11.397897720336914,
          -15.482579231262207,
          -15.962690353393555,
          -13.2321195602417,
          -32.575862884521484,
          -1.1799126863479614,
          -12.3908052444458,
          -12.843978881835938,
          -13.494271278381348,
          -21.356918334960938,
          -14.1322603225708,
          -12.078089714050293,
          -22.917722702026367,
          -10.769280433654785,
          -10.632648468017578,
          -21.08977699279785,
          -21.858386993408203,
          -13.296897888183594,
          -7.883496284484863,
          -26.161087036132812,
          -1.906012773513794,
          -15.248600959777832,
          -32.71161651611328,
          5.190417766571045,
          -26.790985107421875,
          -1.1976630687713623,
          2.4723434448242188,
          -31.764347076416016,
          -24.259977340698242,
          -9.816449165344238,
          -14.47431468963623,
          -12.659914016723633,
          -14.095331192016602,
          -14.163412094116211,
          -14.042619705200195,
          -6.928383827209473,
          -13.415567398071289,
          -4.568751335144043,
          -33.07394027709961,
          -16.287588119506836,
          -8.56316089630127,
          6.0240325927734375,
          -11.603837013244629,
          -15.85316276550293,
          -15.922879219055176,
          -1.929032802581787,
          -14.532926559448242,
          -19.652259826660156,
          -19.44625473022461,
          -0.5596416592597961,
          -19.254114151000977,
          -16.53385353088379,
          -16.10924530029297,
          -23.37510108947754,
          -11.799361228942871,
          -4.866839408874512,
          -13.646486282348633,
          -4.720600128173828,
          -10.86424732208252,
          -15.67616081237793,
          -16.72064971923828,
          -12.071653366088867,
          -8.338001251220703,
          -12.251507759094238,
          -2.2447030544281006,
          -8.65402603149414,
          -25.395071029663086,
          -20.819377899169922,
          -10.497431755065918,
          -5.032717227935791,
          -10.044160842895508,
          -9.96592903137207,
          -14.995227813720703,
          -26.1524658203125,
          -11.3709135055542,
          -8.013565063476562,
          -15.671897888183594,
          -23.441736221313477,
          -24.668642044067383,
          5.246277809143066,
          -9.78218936920166,
          -23.2164363861084,
          -4.268365859985352,
          -5.0073676109313965,
          -5.999251842498779,
          -9.917885780334473,
          -7.913331031799316,
          -20.89739227294922,
          -20.998064041137695,
          -7.375545024871826,
          -3.266676425933838,
          -8.973589897155762,
          -8.761717796325684,
          -5.12803840637207,
          -10.52357006072998,
          -10.616019248962402,
          -11.312798500061035,
          -3.333231210708618,
          -4.825074195861816,
          -33.949283599853516,
          -10.890629768371582,
          -18.74602699279785,
          -23.477550506591797,
          -11.036577224731445,
          -13.744067192077637,
          -22.500770568847656,
          -9.471378326416016,
          15.102831840515137,
          15.562110900878906,
          20.397727966308594,
          7.367611408233643,
          -10.989825248718262,
          2.261265754699707,
          -4.2157697677612305,
          2.772987127304077
         ],
         "yaxis": "y"
        },
        {
         "customdata": [
          [
           "Knife",
           "D01015.obj"
          ],
          [
           "Knife",
           "D01025.obj"
          ],
          [
           "Knife",
           "D01032.obj"
          ],
          [
           "Knife",
           "D01054.obj"
          ],
          [
           "Knife",
           "D01057.obj"
          ],
          [
           "Knife",
           "D01063.obj"
          ],
          [
           "Knife",
           "D01075.obj"
          ],
          [
           "Knife",
           "D01077.obj"
          ],
          [
           "Knife",
           "D01107.obj"
          ],
          [
           "Knife",
           "D01119.obj"
          ],
          [
           "Knife",
           "D01120.obj"
          ],
          [
           "Knife",
           "D01132.obj"
          ],
          [
           "Knife",
           "D01160.obj"
          ],
          [
           "Knife",
           "D01168.obj"
          ],
          [
           "Knife",
           "D01174.obj"
          ],
          [
           "Knife",
           "D01175.obj"
          ],
          [
           "Knife",
           "D01189.obj"
          ],
          [
           "Knife",
           "m722.obj"
          ],
          [
           "Knife",
           "m723.obj"
          ],
          [
           "Knife",
           "m724.obj"
          ],
          [
           "Knife",
           "m725.obj"
          ],
          [
           "Knife",
           "m726.obj"
          ],
          [
           "Knife",
           "m727.obj"
          ],
          [
           "Knife",
           "m728.obj"
          ]
         ],
         "hovertemplate": "Class=%{customdata[0]}<br>Principal Component 1=%{x}<br>Principal Component 2=%{y}<br>Name=%{customdata[1]}<extra></extra>",
         "legendgroup": "Knife",
         "marker": {
          "color": "#FF6692",
          "symbol": "circle"
         },
         "mode": "markers",
         "name": "Knife",
         "showlegend": true,
         "type": "scattergl",
         "x": [
          48.719112396240234,
          4.584479331970215,
          46.03641891479492,
          -9.432644844055176,
          41.15236282348633,
          43.01043701171875,
          42.01962661743164,
          4.531609058380127,
          3.4400362968444824,
          -9.139233589172363,
          -9.1689453125,
          5.035027503967285,
          -8.849586486816406,
          -9.072676658630371,
          6.0039286613464355,
          3.7399628162384033,
          3.6151411533355713,
          46.51029968261719,
          39.560508728027344,
          30.01907730102539,
          33.456573486328125,
          27.81265640258789,
          34.25884246826172,
          31.140535354614258
         ],
         "xaxis": "x",
         "y": [
          7.4217848777771,
          38.031158447265625,
          -0.6685922741889954,
          47.11366271972656,
          12.201592445373535,
          14.362865447998047,
          -7.228620529174805,
          38.947654724121094,
          39.97129440307617,
          46.10159683227539,
          46.002655029296875,
          40.4173469543457,
          45.50895690917969,
          46.28277587890625,
          40.89891815185547,
          41.064483642578125,
          40.26062774658203,
          5.485288619995117,
          5.057656288146973,
          23.100696563720703,
          15.437743186950684,
          23.658714294433594,
          15.605213165283203,
          11.488055229187012
         ],
         "yaxis": "y"
        },
        {
         "customdata": [
          [
           "MilitaryVehicle",
           "D00017.obj"
          ],
          [
           "MilitaryVehicle",
           "D00051.obj"
          ],
          [
           "MilitaryVehicle",
           "D00100.obj"
          ],
          [
           "MilitaryVehicle",
           "D00173.obj"
          ],
          [
           "MilitaryVehicle",
           "D00272.obj"
          ],
          [
           "MilitaryVehicle",
           "D00334.obj"
          ],
          [
           "MilitaryVehicle",
           "D00458.obj"
          ],
          [
           "MilitaryVehicle",
           "D00529.obj"
          ],
          [
           "MilitaryVehicle",
           "D00577.obj"
          ],
          [
           "MilitaryVehicle",
           "D00611.obj"
          ],
          [
           "MilitaryVehicle",
           "D00723.obj"
          ],
          [
           "MilitaryVehicle",
           "D00761.obj"
          ],
          [
           "MilitaryVehicle",
           "D00778.obj"
          ],
          [
           "MilitaryVehicle",
           "D00799.obj"
          ],
          [
           "MilitaryVehicle",
           "D00801.obj"
          ],
          [
           "MilitaryVehicle",
           "D00918.obj"
          ],
          [
           "MilitaryVehicle",
           "D00932.obj"
          ],
          [
           "MilitaryVehicle",
           "D00933.obj"
          ],
          [
           "MilitaryVehicle",
           "D00952.obj"
          ],
          [
           "MilitaryVehicle",
           "D00971.obj"
          ]
         ],
         "hovertemplate": "Class=%{customdata[0]}<br>Principal Component 1=%{x}<br>Principal Component 2=%{y}<br>Name=%{customdata[1]}<extra></extra>",
         "legendgroup": "MilitaryVehicle",
         "marker": {
          "color": "#B6E880",
          "symbol": "circle"
         },
         "mode": "markers",
         "name": "MilitaryVehicle",
         "showlegend": true,
         "type": "scattergl",
         "x": [
          -46.36106872558594,
          -24.12942123413086,
          -21.800434112548828,
          -21.87179183959961,
          -22.68470573425293,
          -8.716245651245117,
          -14.767462730407715,
          -9.503461837768555,
          -23.772001266479492,
          -10.020025253295898,
          -23.649307250976562,
          -10.098624229431152,
          -11.990914344787598,
          -38.58851623535156,
          6.274809837341309,
          -25.6064453125,
          -21.786510467529297,
          -9.851162910461426,
          -46.853370666503906,
          -20.046167373657227
         ],
         "xaxis": "x",
         "y": [
          -3.6029913425445557,
          18.308063507080078,
          9.303560256958008,
          12.724821090698242,
          12.326865196228027,
          0.7028617262840271,
          9.450728416442871,
          1.1890379190444946,
          16.104511260986328,
          11.961392402648926,
          16.066354751586914,
          12.941803932189941,
          30.96692657470703,
          -7.540322780609131,
          10.574301719665527,
          12.408954620361328,
          12.547525405883789,
          9.965925216674805,
          -4.153329849243164,
          12.721697807312012
         ],
         "yaxis": "y"
        },
        {
         "customdata": [
          [
           "Monitor",
           "D00007.obj"
          ],
          [
           "Monitor",
           "D00141.obj"
          ],
          [
           "Monitor",
           "D00229.obj"
          ],
          [
           "Monitor",
           "D00336.obj"
          ],
          [
           "Monitor",
           "D00339.obj"
          ],
          [
           "Monitor",
           "D00364.obj"
          ],
          [
           "Monitor",
           "D00387.obj"
          ],
          [
           "Monitor",
           "D00391.obj"
          ],
          [
           "Monitor",
           "D00412.obj"
          ],
          [
           "Monitor",
           "D00444.obj"
          ],
          [
           "Monitor",
           "D00469.obj"
          ],
          [
           "Monitor",
           "D00548.obj"
          ],
          [
           "Monitor",
           "D00659.obj"
          ],
          [
           "Monitor",
           "D00852.obj"
          ],
          [
           "Monitor",
           "D00863.obj"
          ],
          [
           "Monitor",
           "D00915.obj"
          ],
          [
           "Monitor",
           "D00919.obj"
          ],
          [
           "Monitor",
           "D00920.obj"
          ],
          [
           "Monitor",
           "D00978.obj"
          ],
          [
           "Monitor",
           "D01000.obj"
          ]
         ],
         "hovertemplate": "Class=%{customdata[0]}<br>Principal Component 1=%{x}<br>Principal Component 2=%{y}<br>Name=%{customdata[1]}<extra></extra>",
         "legendgroup": "Monitor",
         "marker": {
          "color": "#FF97FF",
          "symbol": "circle"
         },
         "mode": "markers",
         "name": "Monitor",
         "showlegend": true,
         "type": "scattergl",
         "x": [
          -24.96929168701172,
          -30.717544555664062,
          -35.98552703857422,
          -32.339576721191406,
          -36.80215072631836,
          -31.400352478027344,
          -38.71072769165039,
          -22.61195182800293,
          -40.03797912597656,
          -38.850337982177734,
          -30.98253059387207,
          -15.69057559967041,
          -30.60650634765625,
          -32.69405746459961,
          -40.789791107177734,
          -10.620484352111816,
          -29.600099563598633,
          -26.902437210083008,
          -24.7218017578125,
          -44.122737884521484
         ],
         "xaxis": "x",
         "y": [
          12.967798233032227,
          -7.126830101013184,
          -19.635494232177734,
          27.754499435424805,
          -6.609414100646973,
          29.406843185424805,
          -8.328824043273926,
          -17.860502243041992,
          -12.202093124389648,
          -7.260745048522949,
          26.304292678833008,
          0.3745119571685791,
          24.744373321533203,
          26.322561264038086,
          -8.21157169342041,
          -6.843437194824219,
          21.8476619720459,
          -22.533721923828125,
          26.52857780456543,
          -14.093099594116211
         ],
         "yaxis": "y"
        },
        {
         "customdata": [
          [
           "Monoplane",
           "D00011.obj"
          ],
          [
           "Monoplane",
           "D00019.obj"
          ],
          [
           "Monoplane",
           "D00043.obj"
          ],
          [
           "Monoplane",
           "D00098.obj"
          ],
          [
           "Monoplane",
           "D00167.obj"
          ],
          [
           "Monoplane",
           "D00169.obj"
          ],
          [
           "Monoplane",
           "D00262.obj"
          ],
          [
           "Monoplane",
           "D00301.obj"
          ],
          [
           "Monoplane",
           "D00304.obj"
          ],
          [
           "Monoplane",
           "D00319.obj"
          ],
          [
           "Monoplane",
           "D00402.obj"
          ],
          [
           "Monoplane",
           "D00482.obj"
          ],
          [
           "Monoplane",
           "D00617.obj"
          ],
          [
           "Monoplane",
           "D00688.obj"
          ],
          [
           "Monoplane",
           "D00798.obj"
          ],
          [
           "Monoplane",
           "D00840.obj"
          ],
          [
           "Monoplane",
           "D00864.obj"
          ],
          [
           "Monoplane",
           "D00925.obj"
          ],
          [
           "Monoplane",
           "D00963.obj"
          ],
          [
           "Monoplane",
           "D00995.obj"
          ]
         ],
         "hovertemplate": "Class=%{customdata[0]}<br>Principal Component 1=%{x}<br>Principal Component 2=%{y}<br>Name=%{customdata[1]}<extra></extra>",
         "legendgroup": "Monoplane",
         "marker": {
          "color": "#FECB52",
          "symbol": "circle"
         },
         "mode": "markers",
         "name": "Monoplane",
         "showlegend": true,
         "type": "scattergl",
         "x": [
          23.88051414489746,
          29.344722747802734,
          23.09222412109375,
          20.905595779418945,
          46.68327331542969,
          23.787546157836914,
          31.714475631713867,
          32.583274841308594,
          27.268869400024414,
          25.814455032348633,
          21.174781799316406,
          22.862043380737305,
          24.743547439575195,
          32.27880096435547,
          29.477161407470703,
          24.358783721923828,
          28.90852165222168,
          26.85746955871582,
          38.718055725097656,
          38.572208404541016
         ],
         "xaxis": "x",
         "y": [
          -24.043516159057617,
          -11.532453536987305,
          -18.734344482421875,
          -13.241328239440918,
          -3.839919090270996,
          -19.286447525024414,
          -12.708453178405762,
          -12.446770668029785,
          -1.3727596998214722,
          -19.335025787353516,
          -6.916337966918945,
          -6.509720802307129,
          -17.46954917907715,
          -19.236356735229492,
          -15.845335006713867,
          -10.497309684753418,
          -14.128152847290039,
          -14.314896583557129,
          -11.259209632873535,
          -10.62197494506836
         ],
         "yaxis": "y"
        },
        {
         "customdata": [
          [
           "Motorcycle",
           "D00021.obj"
          ],
          [
           "Motorcycle",
           "D00039.obj"
          ],
          [
           "Motorcycle",
           "D00054.obj"
          ],
          [
           "Motorcycle",
           "D00224.obj"
          ],
          [
           "Motorcycle",
           "D00269.obj"
          ],
          [
           "Motorcycle",
           "D00288.obj"
          ],
          [
           "Motorcycle",
           "D00342.obj"
          ],
          [
           "Motorcycle",
           "D00345.obj"
          ],
          [
           "Motorcycle",
           "D00395.obj"
          ],
          [
           "Motorcycle",
           "D00396.obj"
          ],
          [
           "Motorcycle",
           "D00476.obj"
          ],
          [
           "Motorcycle",
           "D00521.obj"
          ],
          [
           "Motorcycle",
           "D00544.obj"
          ],
          [
           "Motorcycle",
           "D00594.obj"
          ],
          [
           "Motorcycle",
           "D00703.obj"
          ],
          [
           "Motorcycle",
           "D00768.obj"
          ],
          [
           "Motorcycle",
           "D00858.obj"
          ],
          [
           "Motorcycle",
           "D00880.obj"
          ],
          [
           "Motorcycle",
           "D00886.obj"
          ],
          [
           "Motorcycle",
           "D00945.obj"
          ],
          [
           "Motorcycle",
           "m1479.obj"
          ],
          [
           "Motorcycle",
           "m1480.obj"
          ],
          [
           "Motorcycle",
           "m1481.obj"
          ],
          [
           "Motorcycle",
           "m1482.obj"
          ],
          [
           "Motorcycle",
           "m1483.obj"
          ],
          [
           "Motorcycle",
           "m1484.obj"
          ]
         ],
         "hovertemplate": "Class=%{customdata[0]}<br>Principal Component 1=%{x}<br>Principal Component 2=%{y}<br>Name=%{customdata[1]}<extra></extra>",
         "legendgroup": "Motorcycle",
         "marker": {
          "color": "#636efa",
          "symbol": "circle"
         },
         "mode": "markers",
         "name": "Motorcycle",
         "showlegend": true,
         "type": "scattergl",
         "x": [
          -15.738195419311523,
          -15.286282539367676,
          12.17184829711914,
          4.4849653244018555,
          4.755277633666992,
          -12.430727005004883,
          -5.028933525085449,
          -8.999117851257324,
          5.1639885902404785,
          4.017075538635254,
          -2.149134397506714,
          21.971752166748047,
          -5.62403678894043,
          -5.8098907470703125,
          -10.497365951538086,
          -4.901121139526367,
          -3.2261791229248047,
          4.368528366088867,
          -1.2909966707229614,
          -9.434611320495605,
          -5.65438175201416,
          -15.735135078430176,
          11.496538162231445,
          -1.275022268295288,
          -10.494763374328613,
          12.002581596374512
         ],
         "xaxis": "x",
         "y": [
          8.879982948303223,
          0.9574078917503357,
          -21.179752349853516,
          -12.017546653747559,
          -12.142451286315918,
          9.36733341217041,
          -16.768558502197266,
          12.005142211914062,
          -20.230648040771484,
          -18.631093978881836,
          -7.03774881362915,
          -2.507193088531494,
          -16.862245559692383,
          -16.94240379333496,
          -1.9502990245819092,
          -3.1336848735809326,
          -7.751968860626221,
          -12.473630905151367,
          -5.962643623352051,
          11.647218704223633,
          -16.89626693725586,
          8.8683443069458,
          -27.791606903076172,
          -5.936598300933838,
          -1.9546031951904297,
          -0.10144531726837158
         ],
         "yaxis": "y"
        },
        {
         "customdata": [
          [
           "Mug",
           "D00172.obj"
          ],
          [
           "Mug",
           "D00202.obj"
          ],
          [
           "Mug",
           "D00227.obj"
          ],
          [
           "Mug",
           "D00321.obj"
          ],
          [
           "Mug",
           "D00341.obj"
          ],
          [
           "Mug",
           "D00372.obj"
          ],
          [
           "Mug",
           "D00427.obj"
          ],
          [
           "Mug",
           "D00684.obj"
          ],
          [
           "Mug",
           "D00685.obj"
          ],
          [
           "Mug",
           "D00705.obj"
          ],
          [
           "Mug",
           "D00728.obj"
          ],
          [
           "Mug",
           "D00745.obj"
          ],
          [
           "Mug",
           "D00747.obj"
          ],
          [
           "Mug",
           "D00760.obj"
          ],
          [
           "Mug",
           "D00770.obj"
          ],
          [
           "Mug",
           "D00825.obj"
          ],
          [
           "Mug",
           "D00833.obj"
          ],
          [
           "Mug",
           "D00908.obj"
          ],
          [
           "Mug",
           "D00913.obj"
          ],
          [
           "Mug",
           "D00923.obj"
          ],
          [
           "Mug",
           "m503.obj"
          ],
          [
           "Mug",
           "m504.obj"
          ],
          [
           "Mug",
           "m506.obj"
          ],
          [
           "Mug",
           "m507.obj"
          ],
          [
           "Mug",
           "m508.obj"
          ],
          [
           "Mug",
           "m509.obj"
          ]
         ],
         "hovertemplate": "Class=%{customdata[0]}<br>Principal Component 1=%{x}<br>Principal Component 2=%{y}<br>Name=%{customdata[1]}<extra></extra>",
         "legendgroup": "Mug",
         "marker": {
          "color": "#EF553B",
          "symbol": "circle"
         },
         "mode": "markers",
         "name": "Mug",
         "showlegend": true,
         "type": "scattergl",
         "x": [
          -20.03950309753418,
          -20.781064987182617,
          -24.72917366027832,
          -36.71773910522461,
          -31.195804595947266,
          -19.86259651184082,
          -10.956798553466797,
          -21.198028564453125,
          -19.267925262451172,
          -6.833255767822266,
          -9.70366096496582,
          -22.2100887298584,
          -7.077122688293457,
          -24.24996566772461,
          -20.955928802490234,
          -23.148012161254883,
          -27.517898559570312,
          -19.39651870727539,
          -29.780149459838867,
          -25.5473690032959,
          -22.234342575073242,
          -21.173418045043945,
          -6.059396266937256,
          -44.55906295776367,
          -8.101503372192383,
          -38.85239028930664
         ],
         "xaxis": "x",
         "y": [
          1.8758070468902588,
          1.141701579093933,
          -12.062064170837402,
          -14.183492660522461,
          -9.221321105957031,
          4.650364398956299,
          -4.451423645019531,
          8.4804105758667,
          25.74300765991211,
          -7.418614864349365,
          -7.274818420410156,
          0.9934471249580383,
          -8.145624160766602,
          8.180036544799805,
          2.2987520694732666,
          0.4018010199069977,
          25.2574405670166,
          2.5143537521362305,
          -9.630294799804688,
          7.197250843048096,
          0.6502231359481812,
          8.432575225830078,
          -16.161413192749023,
          -9.676468849182129,
          -8.01271915435791,
          -10.314067840576172
         ],
         "yaxis": "y"
        },
        {
         "customdata": [
          [
           "MultiSeat",
           "D00036.obj"
          ],
          [
           "MultiSeat",
           "D00046.obj"
          ],
          [
           "MultiSeat",
           "D00053.obj"
          ],
          [
           "MultiSeat",
           "D00145.obj"
          ],
          [
           "MultiSeat",
           "D00146.obj"
          ],
          [
           "MultiSeat",
           "D00237.obj"
          ],
          [
           "MultiSeat",
           "D00245.obj"
          ],
          [
           "MultiSeat",
           "D00263.obj"
          ],
          [
           "MultiSeat",
           "D00273.obj"
          ],
          [
           "MultiSeat",
           "D00285.obj"
          ],
          [
           "MultiSeat",
           "D00289.obj"
          ],
          [
           "MultiSeat",
           "D00329.obj"
          ],
          [
           "MultiSeat",
           "D00586.obj"
          ],
          [
           "MultiSeat",
           "D00588.obj"
          ],
          [
           "MultiSeat",
           "D00607.obj"
          ],
          [
           "MultiSeat",
           "D00637.obj"
          ],
          [
           "MultiSeat",
           "D00648.obj"
          ],
          [
           "MultiSeat",
           "D00652.obj"
          ],
          [
           "MultiSeat",
           "D00749.obj"
          ],
          [
           "MultiSeat",
           "D00985.obj"
          ],
          [
           "MultiSeat",
           "m774.obj"
          ],
          [
           "MultiSeat",
           "m775.obj"
          ],
          [
           "MultiSeat",
           "m776.obj"
          ],
          [
           "MultiSeat",
           "m777.obj"
          ],
          [
           "MultiSeat",
           "m778.obj"
          ],
          [
           "MultiSeat",
           "m779.obj"
          ],
          [
           "MultiSeat",
           "m780.obj"
          ],
          [
           "MultiSeat",
           "m781.obj"
          ],
          [
           "MultiSeat",
           "m782.obj"
          ],
          [
           "MultiSeat",
           "m783.obj"
          ],
          [
           "MultiSeat",
           "m784.obj"
          ],
          [
           "MultiSeat",
           "m829.obj"
          ],
          [
           "MultiSeat",
           "m830.obj"
          ],
          [
           "MultiSeat",
           "m831.obj"
          ],
          [
           "MultiSeat",
           "m832.obj"
          ],
          [
           "MultiSeat",
           "m833.obj"
          ],
          [
           "MultiSeat",
           "m834.obj"
          ],
          [
           "MultiSeat",
           "m835.obj"
          ],
          [
           "MultiSeat",
           "m836.obj"
          ],
          [
           "MultiSeat",
           "m837.obj"
          ],
          [
           "MultiSeat",
           "m838.obj"
          ],
          [
           "MultiSeat",
           "m839.obj"
          ],
          [
           "MultiSeat",
           "m840.obj"
          ],
          [
           "MultiSeat",
           "m841.obj"
          ],
          [
           "MultiSeat",
           "m843.obj"
          ]
         ],
         "hovertemplate": "Class=%{customdata[0]}<br>Principal Component 1=%{x}<br>Principal Component 2=%{y}<br>Name=%{customdata[1]}<extra></extra>",
         "legendgroup": "MultiSeat",
         "marker": {
          "color": "#00cc96",
          "symbol": "circle"
         },
         "mode": "markers",
         "name": "MultiSeat",
         "showlegend": true,
         "type": "scattergl",
         "x": [
          -37.47196960449219,
          -21.464412689208984,
          -10.898436546325684,
          -14.957466125488281,
          -25.19822120666504,
          -13.780621528625488,
          -24.531673431396484,
          -37.76725769042969,
          -11.903680801391602,
          -25.91581153869629,
          -9.305587768554688,
          -30.77822494506836,
          -11.10898494720459,
          -15.355598449707031,
          -25.071928024291992,
          -23.919038772583008,
          -26.792978286743164,
          -36.35464859008789,
          -14.474894523620605,
          -41.496742248535156,
          -40.73137283325195,
          -34.744319915771484,
          6.237927436828613,
          13.549903869628906,
          -49.13363265991211,
          5.167989253997803,
          -45.73564910888672,
          -33.037925720214844,
          -11.14551067352295,
          -29.745609283447266,
          -3.270331621170044,
          8.604745864868164,
          -9.98971939086914,
          -17.954864501953125,
          -17.338016510009766,
          -15.344771385192871,
          -14.332514762878418,
          -20.06161117553711,
          -35.77952575683594,
          -8.412958145141602,
          -13.255193710327148,
          -30.533323287963867,
          -29.2073974609375,
          -19.79976463317871,
          -11.080677032470703
         ],
         "xaxis": "x",
         "y": [
          -3.3401877880096436,
          9.601621627807617,
          33.56687545776367,
          11.070526123046875,
          18.017412185668945,
          20.170833587646484,
          17.93549346923828,
          -3.2486376762390137,
          31.844200134277344,
          17.433839797973633,
          31.0579891204834,
          -7.547267436981201,
          32.18755340576172,
          11.085799217224121,
          17.56187629699707,
          20.302749633789062,
          -8.832453727722168,
          -5.614539623260498,
          7.267906665802002,
          -6.194680213928223,
          -22.25802230834961,
          -23.224672317504883,
          -34.8310661315918,
          -30.430105209350586,
          -13.313438415527344,
          -33.265018463134766,
          -16.653352737426758,
          -22.996274948120117,
          -28.230941772460938,
          -26.024234771728516,
          8.97978401184082,
          15.879054069519043,
          32.263912200927734,
          -6.696852207183838,
          -6.343229293823242,
          10.898473739624023,
          0.5852320194244385,
          -6.335367202758789,
          -6.4211506843566895,
          18.571191787719727,
          22.443283081054688,
          -7.311994552612305,
          23.857219696044922,
          -20.454452514648438,
          34.599002838134766
         ],
         "yaxis": "y"
        },
        {
         "customdata": [
          [
           "Musical_Instrument",
           "m625.obj"
          ],
          [
           "Musical_Instrument",
           "m626.obj"
          ],
          [
           "Musical_Instrument",
           "m627.obj"
          ],
          [
           "Musical_Instrument",
           "m628.obj"
          ],
          [
           "Musical_Instrument",
           "m629.obj"
          ],
          [
           "Musical_Instrument",
           "m630.obj"
          ],
          [
           "Musical_Instrument",
           "m631.obj"
          ],
          [
           "Musical_Instrument",
           "m632.obj"
          ],
          [
           "Musical_Instrument",
           "m633.obj"
          ],
          [
           "Musical_Instrument",
           "m634.obj"
          ],
          [
           "Musical_Instrument",
           "m635.obj"
          ],
          [
           "Musical_Instrument",
           "m637.obj"
          ],
          [
           "Musical_Instrument",
           "m638.obj"
          ],
          [
           "Musical_Instrument",
           "m639.obj"
          ],
          [
           "Musical_Instrument",
           "m640.obj"
          ],
          [
           "Musical_Instrument",
           "m641.obj"
          ],
          [
           "Musical_Instrument",
           "m643.obj"
          ],
          [
           "Musical_Instrument",
           "m644.obj"
          ],
          [
           "Musical_Instrument",
           "m645.obj"
          ],
          [
           "Musical_Instrument",
           "m646.obj"
          ],
          [
           "Musical_Instrument",
           "m647.obj"
          ]
         ],
         "hovertemplate": "Class=%{customdata[0]}<br>Principal Component 1=%{x}<br>Principal Component 2=%{y}<br>Name=%{customdata[1]}<extra></extra>",
         "legendgroup": "Musical_Instrument",
         "marker": {
          "color": "#ab63fa",
          "symbol": "circle"
         },
         "mode": "markers",
         "name": "Musical_Instrument",
         "showlegend": true,
         "type": "scattergl",
         "x": [
          32.12421798706055,
          41.8513298034668,
          20.132558822631836,
          36.87209701538086,
          43.047977447509766,
          31.317655563354492,
          29.620290756225586,
          33.0659065246582,
          37.61107635498047,
          40.852752685546875,
          32.09714889526367,
          44.40878677368164,
          41.844207763671875,
          42.99555206298828,
          6.27235221862793,
          43.86951446533203,
          -7.800402641296387,
          -39.506656646728516,
          10.680988311767578,
          -24.513046264648438,
          -3.7822532653808594
         ],
         "xaxis": "x",
         "y": [
          16.814729690551758,
          13.27552318572998,
          15.278294563293457,
          16.524539947509766,
          14.47010326385498,
          16.991535186767578,
          13.993353843688965,
          20.0472412109375,
          13.24731159210205,
          13.116484642028809,
          11.075170516967773,
          13.444931983947754,
          -7.556077003479004,
          -1.2112435102462769,
          28.635095596313477,
          -0.7221749424934387,
          -4.37859582901001,
          -13.663805961608887,
          -26.329124450683594,
          -13.247233390808105,
          -17.15334129333496
         ],
         "yaxis": "y"
        },
        {
         "customdata": [
          [
           "NonWheelChair",
           "D00037.obj"
          ],
          [
           "NonWheelChair",
           "D00101.obj"
          ],
          [
           "NonWheelChair",
           "D00170.obj"
          ],
          [
           "NonWheelChair",
           "D00185.obj"
          ],
          [
           "NonWheelChair",
           "D00240.obj"
          ],
          [
           "NonWheelChair",
           "D00306.obj"
          ],
          [
           "NonWheelChair",
           "D00357.obj"
          ],
          [
           "NonWheelChair",
           "D00419.obj"
          ],
          [
           "NonWheelChair",
           "D00443.obj"
          ],
          [
           "NonWheelChair",
           "D00445.obj"
          ],
          [
           "NonWheelChair",
           "D00480.obj"
          ],
          [
           "NonWheelChair",
           "D00481.obj"
          ],
          [
           "NonWheelChair",
           "D00512.obj"
          ],
          [
           "NonWheelChair",
           "D00694.obj"
          ],
          [
           "NonWheelChair",
           "D00707.obj"
          ],
          [
           "NonWheelChair",
           "D00741.obj"
          ],
          [
           "NonWheelChair",
           "D00853.obj"
          ],
          [
           "NonWheelChair",
           "D00914.obj"
          ],
          [
           "NonWheelChair",
           "D00928.obj"
          ],
          [
           "NonWheelChair",
           "D00936.obj"
          ],
          [
           "NonWheelChair",
           "m785.obj"
          ],
          [
           "NonWheelChair",
           "m786.obj"
          ],
          [
           "NonWheelChair",
           "m787.obj"
          ],
          [
           "NonWheelChair",
           "m788.obj"
          ],
          [
           "NonWheelChair",
           "m789.obj"
          ],
          [
           "NonWheelChair",
           "m790.obj"
          ],
          [
           "NonWheelChair",
           "m791.obj"
          ],
          [
           "NonWheelChair",
           "m793.obj"
          ],
          [
           "NonWheelChair",
           "m794.obj"
          ],
          [
           "NonWheelChair",
           "m795.obj"
          ],
          [
           "NonWheelChair",
           "m796.obj"
          ],
          [
           "NonWheelChair",
           "m797.obj"
          ],
          [
           "NonWheelChair",
           "m798.obj"
          ],
          [
           "NonWheelChair",
           "m799.obj"
          ],
          [
           "NonWheelChair",
           "m800.obj"
          ],
          [
           "NonWheelChair",
           "m801.obj"
          ],
          [
           "NonWheelChair",
           "m804.obj"
          ],
          [
           "NonWheelChair",
           "m805.obj"
          ],
          [
           "NonWheelChair",
           "m806.obj"
          ],
          [
           "NonWheelChair",
           "m807.obj"
          ],
          [
           "NonWheelChair",
           "m808.obj"
          ],
          [
           "NonWheelChair",
           "m809.obj"
          ],
          [
           "NonWheelChair",
           "m810.obj"
          ],
          [
           "NonWheelChair",
           "m811.obj"
          ],
          [
           "NonWheelChair",
           "m812.obj"
          ],
          [
           "NonWheelChair",
           "m813.obj"
          ],
          [
           "NonWheelChair",
           "m814.obj"
          ],
          [
           "NonWheelChair",
           "m815.obj"
          ],
          [
           "NonWheelChair",
           "m816.obj"
          ],
          [
           "NonWheelChair",
           "m817.obj"
          ],
          [
           "NonWheelChair",
           "m818.obj"
          ],
          [
           "NonWheelChair",
           "m819.obj"
          ],
          [
           "NonWheelChair",
           "m820.obj"
          ],
          [
           "NonWheelChair",
           "m821.obj"
          ],
          [
           "NonWheelChair",
           "m822.obj"
          ],
          [
           "NonWheelChair",
           "m823.obj"
          ],
          [
           "NonWheelChair",
           "m824.obj"
          ],
          [
           "NonWheelChair",
           "m826.obj"
          ],
          [
           "NonWheelChair",
           "m827.obj"
          ],
          [
           "NonWheelChair",
           "m828.obj"
          ]
         ],
         "hovertemplate": "Class=%{customdata[0]}<br>Principal Component 1=%{x}<br>Principal Component 2=%{y}<br>Name=%{customdata[1]}<extra></extra>",
         "legendgroup": "NonWheelChair",
         "marker": {
          "color": "#FFA15A",
          "symbol": "circle"
         },
         "mode": "markers",
         "name": "NonWheelChair",
         "showlegend": true,
         "type": "scattergl",
         "x": [
          -23.766986846923828,
          7.462006092071533,
          -3.3339345455169678,
          -24.952919006347656,
          -7.901309013366699,
          -29.437467575073242,
          -41.30314636230469,
          -3.245142698287964,
          -8.531615257263184,
          -8.562281608581543,
          9.022486686706543,
          -9.667281150817871,
          -15.41296672821045,
          -29.62972640991211,
          -15.415396690368652,
          -11.023435592651367,
          -0.30433130264282227,
          -28.864761352539062,
          8.644092559814453,
          -10.654770851135254,
          -30.0501651763916,
          -34.502262115478516,
          -16.528894424438477,
          14.74697494506836,
          -14.474165916442871,
          -8.825831413269043,
          -35.51869201660156,
          2.488773822784424,
          -1.0558937788009644,
          -5.11904239654541,
          -0.44454094767570496,
          -0.6917074918746948,
          3.0765833854675293,
          -4.178645133972168,
          4.617156028747559,
          0.5960819721221924,
          4.077242851257324,
          -2.606585741043091,
          26.437671661376953,
          4.087728023529053,
          -6.8281660079956055,
          9.899377822875977,
          -4.330927848815918,
          -14.374349594116211,
          2.902158498764038,
          3.318302631378174,
          -14.851491928100586,
          -12.413737297058105,
          -5.700740814208984,
          -14.428235054016113,
          -14.235194206237793,
          -3.9120731353759766,
          18.99835968017578,
          -7.966437339782715,
          8.671380043029785,
          -4.943315029144287,
          -3.661449909210205,
          -1.8514838218688965,
          6.918028354644775,
          4.075665473937988
         ],
         "xaxis": "x",
         "y": [
          -20.419355392456055,
          -14.416665077209473,
          -27.101638793945312,
          -24.30465316772461,
          -28.8597469329834,
          -18.270904541015625,
          -16.9999942779541,
          -25.038484573364258,
          -26.515701293945312,
          -27.37521743774414,
          -26.389163970947266,
          -28.20901870727539,
          -27.12279510498047,
          -24.666667938232422,
          -22.706117630004883,
          -28.823129653930664,
          -25.18807601928711,
          -26.875492095947266,
          -30.35035514831543,
          -27.671567916870117,
          -24.443632125854492,
          -20.51645851135254,
          -9.734687805175781,
          -9.587639808654785,
          -23.068805694580078,
          -30.202699661254883,
          -18.6606388092041,
          -15.130899429321289,
          -25.32851219177246,
          -2.8866474628448486,
          -11.987943649291992,
          -16.318220138549805,
          -17.992101669311523,
          -24.897232055664062,
          -14.559331893920898,
          -12.316865921020508,
          -15.821455001831055,
          -26.979328155517578,
          -11.66750717163086,
          -24.67439842224121,
          -28.40797233581543,
          -34.703514099121094,
          -27.65949058532715,
          -27.35526466369629,
          -25.548755645751953,
          -25.62018585205078,
          -27.123153686523438,
          -26.588979721069336,
          -27.57025909423828,
          -26.376609802246094,
          -27.835145950317383,
          -26.979984283447266,
          -18.74221420288086,
          -27.42836570739746,
          -25.116811752319336,
          -26.650535583496094,
          -27.079200744628906,
          -27.150537490844727,
          -34.449615478515625,
          -24.755022048950195
         ],
         "yaxis": "y"
        },
        {
         "customdata": [
          [
           "PianoBoard",
           "D00065.obj"
          ],
          [
           "PianoBoard",
           "D00075.obj"
          ],
          [
           "PianoBoard",
           "D00104.obj"
          ],
          [
           "PianoBoard",
           "D00181.obj"
          ],
          [
           "PianoBoard",
           "D00253.obj"
          ],
          [
           "PianoBoard",
           "D00332.obj"
          ],
          [
           "PianoBoard",
           "D00381.obj"
          ],
          [
           "PianoBoard",
           "D00441.obj"
          ],
          [
           "PianoBoard",
           "D00623.obj"
          ],
          [
           "PianoBoard",
           "D00718.obj"
          ],
          [
           "PianoBoard",
           "D00721.obj"
          ],
          [
           "PianoBoard",
           "D00755.obj"
          ],
          [
           "PianoBoard",
           "D00885.obj"
          ],
          [
           "PianoBoard",
           "D00962.obj"
          ],
          [
           "PianoBoard",
           "D00966.obj"
          ]
         ],
         "hovertemplate": "Class=%{customdata[0]}<br>Principal Component 1=%{x}<br>Principal Component 2=%{y}<br>Name=%{customdata[1]}<extra></extra>",
         "legendgroup": "PianoBoard",
         "marker": {
          "color": "#19d3f3",
          "symbol": "circle"
         },
         "mode": "markers",
         "name": "PianoBoard",
         "showlegend": true,
         "type": "scattergl",
         "x": [
          -13.166376113891602,
          -30.972333908081055,
          -32.89211654663086,
          -35.17686462402344,
          -24.48812484741211,
          -36.252376556396484,
          -29.283658981323242,
          -35.622318267822266,
          -35.527748107910156,
          -34.24365997314453,
          -30.325756072998047,
          -35.77586364746094,
          -36.13283920288086,
          -41.76229476928711,
          40.238304138183594
         ],
         "xaxis": "x",
         "y": [
          9.098258972167969,
          22.90912628173828,
          20.998891830444336,
          28.137115478515625,
          19.64310073852539,
          -7.211993217468262,
          20.95777702331543,
          30.64469337463379,
          7.725064277648926,
          -3.897136688232422,
          23.442947387695312,
          30.661739349365234,
          29.953794479370117,
          -6.845643997192383,
          -2.956834077835083
         ],
         "yaxis": "y"
        },
        {
         "customdata": [
          [
           "PlantIndoors",
           "D00049.obj"
          ],
          [
           "PlantIndoors",
           "D00073.obj"
          ],
          [
           "PlantIndoors",
           "D00080.obj"
          ],
          [
           "PlantIndoors",
           "D00087.obj"
          ],
          [
           "PlantIndoors",
           "D00128.obj"
          ],
          [
           "PlantIndoors",
           "D00159.obj"
          ],
          [
           "PlantIndoors",
           "D00238.obj"
          ],
          [
           "PlantIndoors",
           "D00280.obj"
          ],
          [
           "PlantIndoors",
           "D00370.obj"
          ],
          [
           "PlantIndoors",
           "D00379.obj"
          ],
          [
           "PlantIndoors",
           "D00466.obj"
          ],
          [
           "PlantIndoors",
           "D00491.obj"
          ],
          [
           "PlantIndoors",
           "D00595.obj"
          ],
          [
           "PlantIndoors",
           "D00609.obj"
          ],
          [
           "PlantIndoors",
           "D00622.obj"
          ],
          [
           "PlantIndoors",
           "D00624.obj"
          ],
          [
           "PlantIndoors",
           "D00657.obj"
          ],
          [
           "PlantIndoors",
           "D00667.obj"
          ],
          [
           "PlantIndoors",
           "D00800.obj"
          ],
          [
           "PlantIndoors",
           "D00968.obj"
          ],
          [
           "PlantIndoors",
           "m1000.obj"
          ],
          [
           "PlantIndoors",
           "m1001.obj"
          ],
          [
           "PlantIndoors",
           "m1002.obj"
          ],
          [
           "PlantIndoors",
           "m1003.obj"
          ],
          [
           "PlantIndoors",
           "m1004.obj"
          ],
          [
           "PlantIndoors",
           "m1005.obj"
          ],
          [
           "PlantIndoors",
           "m1006.obj"
          ],
          [
           "PlantIndoors",
           "m1007.obj"
          ],
          [
           "PlantIndoors",
           "m1008.obj"
          ],
          [
           "PlantIndoors",
           "m1009.obj"
          ],
          [
           "PlantIndoors",
           "m1010.obj"
          ],
          [
           "PlantIndoors",
           "m1011.obj"
          ],
          [
           "PlantIndoors",
           "m1012.obj"
          ],
          [
           "PlantIndoors",
           "m1013.obj"
          ],
          [
           "PlantIndoors",
           "m1014.obj"
          ],
          [
           "PlantIndoors",
           "m1015.obj"
          ],
          [
           "PlantIndoors",
           "m1016.obj"
          ],
          [
           "PlantIndoors",
           "m1017.obj"
          ],
          [
           "PlantIndoors",
           "m1018.obj"
          ],
          [
           "PlantIndoors",
           "m1020.obj"
          ],
          [
           "PlantIndoors",
           "m1021.obj"
          ],
          [
           "PlantIndoors",
           "m1022.obj"
          ],
          [
           "PlantIndoors",
           "m1023.obj"
          ],
          [
           "PlantIndoors",
           "m1025.obj"
          ],
          [
           "PlantIndoors",
           "m1026.obj"
          ],
          [
           "PlantIndoors",
           "m1027.obj"
          ],
          [
           "PlantIndoors",
           "m1029.obj"
          ],
          [
           "PlantIndoors",
           "m1030.obj"
          ],
          [
           "PlantIndoors",
           "m1031.obj"
          ],
          [
           "PlantIndoors",
           "m1032.obj"
          ],
          [
           "PlantIndoors",
           "m1033.obj"
          ],
          [
           "PlantIndoors",
           "m1034.obj"
          ],
          [
           "PlantIndoors",
           "m1035.obj"
          ],
          [
           "PlantIndoors",
           "m1036.obj"
          ],
          [
           "PlantIndoors",
           "m989.obj"
          ],
          [
           "PlantIndoors",
           "m990.obj"
          ],
          [
           "PlantIndoors",
           "m991.obj"
          ],
          [
           "PlantIndoors",
           "m992.obj"
          ],
          [
           "PlantIndoors",
           "m993.obj"
          ],
          [
           "PlantIndoors",
           "m994.obj"
          ],
          [
           "PlantIndoors",
           "m995.obj"
          ],
          [
           "PlantIndoors",
           "m996.obj"
          ],
          [
           "PlantIndoors",
           "m997.obj"
          ],
          [
           "PlantIndoors",
           "m998.obj"
          ],
          [
           "PlantIndoors",
           "m999.obj"
          ]
         ],
         "hovertemplate": "Class=%{customdata[0]}<br>Principal Component 1=%{x}<br>Principal Component 2=%{y}<br>Name=%{customdata[1]}<extra></extra>",
         "legendgroup": "PlantIndoors",
         "marker": {
          "color": "#FF6692",
          "symbol": "circle"
         },
         "mode": "markers",
         "name": "PlantIndoors",
         "showlegend": true,
         "type": "scattergl",
         "x": [
          -2.989644765853882,
          -4.2516703605651855,
          14.198174476623535,
          -24.50757598876953,
          -4.047265529632568,
          -7.056229591369629,
          -9.15851879119873,
          -12.869854927062988,
          -12.749272346496582,
          -7.67612886428833,
          -11.675431251525879,
          -25.367813110351562,
          -4.178228855133057,
          -3.4053988456726074,
          -46.80123519897461,
          -32.79078674316406,
          34.50992965698242,
          -31.803102493286133,
          -6.0449018478393555,
          -12.066251754760742,
          0.8436960577964783,
          29.188337326049805,
          -27.743934631347656,
          -25.70363998413086,
          2.11025333404541,
          -4.165322303771973,
          37.00209426879883,
          -26.756025314331055,
          -10.047900199890137,
          -10.244596481323242,
          16.330829620361328,
          -9.477791786193848,
          -7.604255676269531,
          -27.813243865966797,
          -29.85833740234375,
          14.66176700592041,
          31.78801918029785,
          -4.220968723297119,
          -29.318281173706055,
          -8.715657234191895,
          34.83489227294922,
          -28.31995964050293,
          -2.65116548538208,
          -7.549831390380859,
          -31.77677345275879,
          -22.211881637573242,
          12.912348747253418,
          -18.315750122070312,
          0.956807553768158,
          -0.20555846393108368,
          -4.395299911499023,
          30.70332145690918,
          -17.85243797302246,
          13.044757843017578,
          -6.451551914215088,
          2.020824432373047,
          -11.551434516906738,
          -10.751226425170898,
          24.231578826904297,
          7.985700607299805,
          -16.573198318481445,
          13.481683731079102,
          -1.2897745370864868,
          -3.8092780113220215,
          8.189805030822754
         ],
         "xaxis": "x",
         "y": [
          -20.837665557861328,
          -19.305299758911133,
          -26.914396286010742,
          -17.613201141357422,
          -19.828651428222656,
          -12.740462303161621,
          -12.57487964630127,
          -16.05489158630371,
          -16.04305648803711,
          -13.078493118286133,
          -16.58470344543457,
          -12.835430145263672,
          -19.33634376525879,
          -20.75225067138672,
          -8.319655418395996,
          3.7959015369415283,
          -8.39368724822998,
          -22.941730499267578,
          -20.502840042114258,
          -16.42408561706543,
          -16.414005279541016,
          -7.668338775634766,
          3.3279526233673096,
          -12.569219589233398,
          -19.741010665893555,
          -31.81375503540039,
          -18.79511260986328,
          4.286293029785156,
          -22.365510940551758,
          -22.39803123474121,
          -22.11933135986328,
          -34.74903869628906,
          -23.32154083251953,
          -11.762407302856445,
          3.852032423019409,
          -28.015304565429688,
          -6.977327346801758,
          -16.258752822875977,
          -3.2884521484375,
          -14.493867874145508,
          -17.62994956970215,
          -20.68160629272461,
          -16.942211151123047,
          -23.201751708984375,
          -22.948081970214844,
          -20.788896560668945,
          -26.680192947387695,
          5.2299580574035645,
          -17.859642028808594,
          -23.533788681030273,
          19.111156463623047,
          -28.46307373046875,
          -18.31629180908203,
          -30.448545455932617,
          -14.447839736938477,
          -18.91116714477539,
          -27.206106185913086,
          -29.653432846069336,
          17.624399185180664,
          -13.097593307495117,
          -1.7864640951156616,
          -26.988210678100586,
          -16.778881072998047,
          -34.32096862792969,
          -13.058794975280762
         ],
         "yaxis": "y"
        },
        {
         "customdata": [
          [
           "PlantWildNonTree",
           "m1052.obj"
          ],
          [
           "PlantWildNonTree",
           "m961.obj"
          ],
          [
           "PlantWildNonTree",
           "m962.obj"
          ],
          [
           "PlantWildNonTree",
           "m963.obj"
          ],
          [
           "PlantWildNonTree",
           "m964.obj"
          ],
          [
           "PlantWildNonTree",
           "m965.obj"
          ],
          [
           "PlantWildNonTree",
           "m966.obj"
          ],
          [
           "PlantWildNonTree",
           "m967.obj"
          ],
          [
           "PlantWildNonTree",
           "m968.obj"
          ],
          [
           "PlantWildNonTree",
           "m971.obj"
          ],
          [
           "PlantWildNonTree",
           "m972.obj"
          ],
          [
           "PlantWildNonTree",
           "m973.obj"
          ],
          [
           "PlantWildNonTree",
           "m974.obj"
          ],
          [
           "PlantWildNonTree",
           "m975.obj"
          ],
          [
           "PlantWildNonTree",
           "m976.obj"
          ],
          [
           "PlantWildNonTree",
           "m977.obj"
          ],
          [
           "PlantWildNonTree",
           "m978.obj"
          ],
          [
           "PlantWildNonTree",
           "m979.obj"
          ],
          [
           "PlantWildNonTree",
           "m980.obj"
          ],
          [
           "PlantWildNonTree",
           "m981.obj"
          ],
          [
           "PlantWildNonTree",
           "m982.obj"
          ],
          [
           "PlantWildNonTree",
           "m983.obj"
          ],
          [
           "PlantWildNonTree",
           "m984.obj"
          ],
          [
           "PlantWildNonTree",
           "m985.obj"
          ],
          [
           "PlantWildNonTree",
           "m986.obj"
          ],
          [
           "PlantWildNonTree",
           "m987.obj"
          ],
          [
           "PlantWildNonTree",
           "m988.obj"
          ]
         ],
         "hovertemplate": "Class=%{customdata[0]}<br>Principal Component 1=%{x}<br>Principal Component 2=%{y}<br>Name=%{customdata[1]}<extra></extra>",
         "legendgroup": "PlantWildNonTree",
         "marker": {
          "color": "#B6E880",
          "symbol": "circle"
         },
         "mode": "markers",
         "name": "PlantWildNonTree",
         "showlegend": true,
         "type": "scattergl",
         "x": [
          -2.0441105365753174,
          -32.77788162231445,
          0.22201386094093323,
          13.391663551330566,
          11.676117897033691,
          11.137405395507812,
          -26.269704818725586,
          33.68693923950195,
          13.489502906799316,
          -4.504946708679199,
          -28.190811157226562,
          -28.623321533203125,
          45.37964630126953,
          35.00115966796875,
          11.307255744934082,
          45.42776870727539,
          16.63316535949707,
          18.740812301635742,
          42.946414947509766,
          28.850154876708984,
          43.917198181152344,
          -6.5846452713012695,
          27.984004974365234,
          15.091584205627441,
          39.54225540161133,
          27.961532592773438,
          44.33803939819336
         ],
         "xaxis": "x",
         "y": [
          -21.975229263305664,
          9.24923324584961,
          -25.256641387939453,
          -25.805898666381836,
          -32.538204193115234,
          -31.747631072998047,
          2.5279369354248047,
          -23.59853172302246,
          -28.973520278930664,
          -19.874723434448242,
          -20.81368064880371,
          -25.884292602539062,
          -7.236430644989014,
          -22.860061645507812,
          -27.291149139404297,
          -5.41892671585083,
          -21.197343826293945,
          -27.34234619140625,
          -13.635019302368164,
          -20.050357818603516,
          -9.789215087890625,
          -27.040231704711914,
          -25.077381134033203,
          -20.769411087036133,
          -18.329130172729492,
          -25.30854034423828,
          -5.841423511505127
         ],
         "yaxis": "y"
        },
        {
         "customdata": [
          [
           "Quadruped",
           "D00111.obj"
          ],
          [
           "Quadruped",
           "D00150.obj"
          ],
          [
           "Quadruped",
           "D00218.obj"
          ],
          [
           "Quadruped",
           "D00226.obj"
          ],
          [
           "Quadruped",
           "D00261.obj"
          ],
          [
           "Quadruped",
           "D00326.obj"
          ],
          [
           "Quadruped",
           "D00380.obj"
          ],
          [
           "Quadruped",
           "D00409.obj"
          ],
          [
           "Quadruped",
           "D00508.obj"
          ],
          [
           "Quadruped",
           "D00509.obj"
          ],
          [
           "Quadruped",
           "D00583.obj"
          ],
          [
           "Quadruped",
           "D00663.obj"
          ],
          [
           "Quadruped",
           "D00700.obj"
          ],
          [
           "Quadruped",
           "D00757.obj"
          ],
          [
           "Quadruped",
           "D00794.obj"
          ],
          [
           "Quadruped",
           "D00795.obj"
          ],
          [
           "Quadruped",
           "D00831.obj"
          ],
          [
           "Quadruped",
           "D00841.obj"
          ],
          [
           "Quadruped",
           "D00867.obj"
          ],
          [
           "Quadruped",
           "D00934.obj"
          ],
          [
           "Quadruped",
           "m100.obj"
          ],
          [
           "Quadruped",
           "m101.obj"
          ],
          [
           "Quadruped",
           "m102.obj"
          ],
          [
           "Quadruped",
           "m103.obj"
          ],
          [
           "Quadruped",
           "m104.obj"
          ],
          [
           "Quadruped",
           "m105.obj"
          ],
          [
           "Quadruped",
           "m106.obj"
          ],
          [
           "Quadruped",
           "m107.obj"
          ],
          [
           "Quadruped",
           "m108.obj"
          ],
          [
           "Quadruped",
           "m109.obj"
          ],
          [
           "Quadruped",
           "m110.obj"
          ],
          [
           "Quadruped",
           "m111.obj"
          ],
          [
           "Quadruped",
           "m112.obj"
          ],
          [
           "Quadruped",
           "m273.obj"
          ],
          [
           "Quadruped",
           "m274.obj"
          ],
          [
           "Quadruped",
           "m275.obj"
          ],
          [
           "Quadruped",
           "m276.obj"
          ],
          [
           "Quadruped",
           "m277.obj"
          ],
          [
           "Quadruped",
           "m278.obj"
          ],
          [
           "Quadruped",
           "m279.obj"
          ],
          [
           "Quadruped",
           "m280.obj"
          ],
          [
           "Quadruped",
           "m281.obj"
          ],
          [
           "Quadruped",
           "m282.obj"
          ],
          [
           "Quadruped",
           "m86.obj"
          ],
          [
           "Quadruped",
           "m87.obj"
          ],
          [
           "Quadruped",
           "m88.obj"
          ],
          [
           "Quadruped",
           "m89.obj"
          ],
          [
           "Quadruped",
           "m90.obj"
          ],
          [
           "Quadruped",
           "m91.obj"
          ],
          [
           "Quadruped",
           "m92.obj"
          ],
          [
           "Quadruped",
           "m93.obj"
          ],
          [
           "Quadruped",
           "m95.obj"
          ],
          [
           "Quadruped",
           "m96.obj"
          ],
          [
           "Quadruped",
           "m97.obj"
          ],
          [
           "Quadruped",
           "m98.obj"
          ],
          [
           "Quadruped",
           "m99.obj"
          ]
         ],
         "hovertemplate": "Class=%{customdata[0]}<br>Principal Component 1=%{x}<br>Principal Component 2=%{y}<br>Name=%{customdata[1]}<extra></extra>",
         "legendgroup": "Quadruped",
         "marker": {
          "color": "#FF97FF",
          "symbol": "circle"
         },
         "mode": "markers",
         "name": "Quadruped",
         "showlegend": true,
         "type": "scattergl",
         "x": [
          -3.1094768047332764,
          -7.786006450653076,
          -0.8590980172157288,
          0.6970313191413879,
          0.6797481775283813,
          1.3716182708740234,
          10.649775505065918,
          8.897276878356934,
          12.3485689163208,
          15.616948127746582,
          5.118050575256348,
          0.774524986743927,
          6.0427422523498535,
          -9.971223831176758,
          15.486783027648926,
          6.77938175201416,
          7.140396595001221,
          10.759519577026367,
          15.059798240661621,
          11.326006889343262,
          -4.012243747711182,
          -8.59721851348877,
          -2.7709858417510986,
          15.897909164428711,
          2.5109927654266357,
          2.7959139347076416,
          -26.18147850036621,
          1.3738937377929688,
          11.057026863098145,
          -25.82444190979004,
          -15.998336791992188,
          -2.5493452548980713,
          -10.757941246032715,
          29.06037712097168,
          17.49969482421875,
          22.177486419677734,
          32.82653045654297,
          -1.5548319816589355,
          -0.19048777222633362,
          27.832334518432617,
          1.7545844316482544,
          -0.7027173042297363,
          -17.50659942626953,
          -6.8685760498046875,
          -34.476654052734375,
          8.26175594329834,
          11.353123664855957,
          -10.140353202819824,
          7.128424167633057,
          11.215848922729492,
          -8.727577209472656,
          13.848713874816895,
          12.75403118133545,
          11.344440460205078,
          11.017535209655762,
          -3.739814519882202
         ],
         "xaxis": "x",
         "y": [
          19.963573455810547,
          -2.9723260402679443,
          14.678515434265137,
          15.665407180786133,
          15.658977508544922,
          2.4740447998046875,
          3.107182502746582,
          2.9485371112823486,
          1.8142472505569458,
          9.647767066955566,
          -1.7686028480529785,
          2.3172762393951416,
          3.11568021774292,
          17.32790756225586,
          9.448046684265137,
          12.563218116760254,
          -7.948061466217041,
          0.585839569568634,
          -4.463401794433594,
          -4.188858509063721,
          20.519832611083984,
          -6.745276927947998,
          28.098236083984375,
          -2.546889543533325,
          4.8736443519592285,
          4.556238174438477,
          -25.786651611328125,
          2.4698808193206787,
          2.111518383026123,
          19.68453598022461,
          24.021312713623047,
          17.028379440307617,
          20.102222442626953,
          7.996301651000977,
          1.1066808700561523,
          3.6691360473632812,
          4.9869232177734375,
          20.29167366027832,
          7.419166088104248,
          -17.09279441833496,
          5.7707109451293945,
          18.137313842773438,
          -8.737956047058105,
          -31.773670196533203,
          -21.666959762573242,
          3.7494571208953857,
          -5.966488838195801,
          17.238346099853516,
          -7.953117370605469,
          -4.271149635314941,
          12.181414604187012,
          11.906195640563965,
          2.7457854747772217,
          1.3232090473175049,
          2.6569957733154297,
          13.566521644592285
         ],
         "yaxis": "y"
        },
        {
         "customdata": [
          [
           "RectangleTable",
           "D00134.obj"
          ],
          [
           "RectangleTable",
           "D00187.obj"
          ],
          [
           "RectangleTable",
           "D00188.obj"
          ],
          [
           "RectangleTable",
           "D00230.obj"
          ],
          [
           "RectangleTable",
           "D00243.obj"
          ],
          [
           "RectangleTable",
           "D00295.obj"
          ],
          [
           "RectangleTable",
           "D00302.obj"
          ],
          [
           "RectangleTable",
           "D00317.obj"
          ],
          [
           "RectangleTable",
           "D00418.obj"
          ],
          [
           "RectangleTable",
           "D00421.obj"
          ],
          [
           "RectangleTable",
           "D00505.obj"
          ],
          [
           "RectangleTable",
           "D00523.obj"
          ],
          [
           "RectangleTable",
           "D00530.obj"
          ],
          [
           "RectangleTable",
           "D00571.obj"
          ],
          [
           "RectangleTable",
           "D00603.obj"
          ],
          [
           "RectangleTable",
           "D00678.obj"
          ],
          [
           "RectangleTable",
           "D00714.obj"
          ],
          [
           "RectangleTable",
           "D00766.obj"
          ],
          [
           "RectangleTable",
           "D00944.obj"
          ],
          [
           "RectangleTable",
           "D00954.obj"
          ],
          [
           "RectangleTable",
           "m763.obj"
          ],
          [
           "RectangleTable",
           "m764.obj"
          ],
          [
           "RectangleTable",
           "m765.obj"
          ],
          [
           "RectangleTable",
           "m870.obj"
          ],
          [
           "RectangleTable",
           "m871.obj"
          ],
          [
           "RectangleTable",
           "m873.obj"
          ],
          [
           "RectangleTable",
           "m874.obj"
          ],
          [
           "RectangleTable",
           "m875.obj"
          ],
          [
           "RectangleTable",
           "m876.obj"
          ],
          [
           "RectangleTable",
           "m877.obj"
          ],
          [
           "RectangleTable",
           "m878.obj"
          ],
          [
           "RectangleTable",
           "m879.obj"
          ],
          [
           "RectangleTable",
           "m881.obj"
          ],
          [
           "RectangleTable",
           "m882.obj"
          ],
          [
           "RectangleTable",
           "m883.obj"
          ],
          [
           "RectangleTable",
           "m886.obj"
          ],
          [
           "RectangleTable",
           "m887.obj"
          ],
          [
           "RectangleTable",
           "m888.obj"
          ],
          [
           "RectangleTable",
           "m890.obj"
          ],
          [
           "RectangleTable",
           "m891.obj"
          ],
          [
           "RectangleTable",
           "m892.obj"
          ],
          [
           "RectangleTable",
           "m893.obj"
          ],
          [
           "RectangleTable",
           "m894.obj"
          ],
          [
           "RectangleTable",
           "m895.obj"
          ],
          [
           "RectangleTable",
           "m896.obj"
          ],
          [
           "RectangleTable",
           "m897.obj"
          ],
          [
           "RectangleTable",
           "m898.obj"
          ],
          [
           "RectangleTable",
           "m901.obj"
          ],
          [
           "RectangleTable",
           "m902.obj"
          ],
          [
           "RectangleTable",
           "m904.obj"
          ],
          [
           "RectangleTable",
           "m905.obj"
          ],
          [
           "RectangleTable",
           "m906.obj"
          ],
          [
           "RectangleTable",
           "m907.obj"
          ],
          [
           "RectangleTable",
           "m908.obj"
          ],
          [
           "RectangleTable",
           "m910.obj"
          ],
          [
           "RectangleTable",
           "m912.obj"
          ],
          [
           "RectangleTable",
           "m913.obj"
          ],
          [
           "RectangleTable",
           "m914.obj"
          ],
          [
           "RectangleTable",
           "m915.obj"
          ],
          [
           "RectangleTable",
           "m917.obj"
          ],
          [
           "RectangleTable",
           "m919.obj"
          ],
          [
           "RectangleTable",
           "m920.obj"
          ]
         ],
         "hovertemplate": "Class=%{customdata[0]}<br>Principal Component 1=%{x}<br>Principal Component 2=%{y}<br>Name=%{customdata[1]}<extra></extra>",
         "legendgroup": "RectangleTable",
         "marker": {
          "color": "#FECB52",
          "symbol": "circle"
         },
         "mode": "markers",
         "name": "RectangleTable",
         "showlegend": true,
         "type": "scattergl",
         "x": [
          -39.4152946472168,
          -45.65506362915039,
          -22.10098648071289,
          -48.447120666503906,
          -24.935693740844727,
          -42.10693359375,
          -40.56226348876953,
          -25.760284423828125,
          -22.74422264099121,
          0.38363656401634216,
          -23.464134216308594,
          -49.71171569824219,
          -35.33485412597656,
          -49.893959045410156,
          -33.752830505371094,
          -36.08745574951172,
          -13.103715896606445,
          -8.10045051574707,
          -36.83604049682617,
          -40.6603889465332,
          -43.10739517211914,
          -31.265838623046875,
          -46.01652526855469,
          -32.9318733215332,
          -45.850067138671875,
          -31.25489044189453,
          -20.31242561340332,
          -15.864422798156738,
          -48.668514251708984,
          29.53034019470215,
          -50.68109130859375,
          -0.8147587776184082,
          -30.65032958984375,
          -42.761146545410156,
          -40.67765808105469,
          -5.867596626281738,
          -0.3986561596393585,
          -41.87754440307617,
          -31.097352981567383,
          -30.343481063842773,
          -17.9056339263916,
          -46.889732360839844,
          0.23333881795406342,
          -33.66160583496094,
          -42.92711639404297,
          -33.46377944946289,
          -28.944316864013672,
          -48.328678131103516,
          -35.00643539428711,
          -23.909503936767578,
          -12.794195175170898,
          -29.729101181030273,
          -8.68838119506836,
          -28.947208404541016,
          -36.69720458984375,
          -40.990665435791016,
          -41.738372802734375,
          -10.028892517089844,
          -41.50157928466797,
          -40.31520080566406,
          -36.69300079345703,
          -47.13115310668945
         ],
         "xaxis": "x",
         "y": [
          -20.048574447631836,
          -15.007853507995605,
          -21.82271957397461,
          -15.037454605102539,
          -19.177854537963867,
          -11.491175651550293,
          -20.098756790161133,
          -12.305575370788574,
          3.5623507499694824,
          2.001810073852539,
          -21.97601318359375,
          -9.129558563232422,
          -19.382305145263672,
          -13.412471771240234,
          -1.8921149969100952,
          -16.224246978759766,
          -28.51997947692871,
          -7.140469074249268,
          -20.186290740966797,
          -18.002643585205078,
          -15.11197280883789,
          -22.274105072021484,
          -15.491805076599121,
          -20.089502334594727,
          -5.706038475036621,
          -24.068214416503906,
          -7.515890598297119,
          -6.324708938598633,
          -12.977755546569824,
          -17.809490203857422,
          -13.988059997558594,
          -14.473217010498047,
          -18.699228286743164,
          -18.98802947998047,
          -11.899261474609375,
          -19.427675247192383,
          -15.778285026550293,
          -15.822164535522461,
          -8.158235549926758,
          -16.860219955444336,
          -10.214204788208008,
          -18.32027244567871,
          -15.024090766906738,
          -20.0189266204834,
          -16.091333389282227,
          -21.98792266845703,
          -24.70306396484375,
          -12.96059799194336,
          -18.770055770874023,
          -21.760807037353516,
          -27.918581008911133,
          -24.051401138305664,
          -29.83311653137207,
          -24.70275115966797,
          -14.919647216796875,
          -19.706422805786133,
          -18.50789451599121,
          -26.247346878051758,
          -19.987464904785156,
          -19.710391998291016,
          -19.905967712402344,
          -15.049062728881836
         ],
         "yaxis": "y"
        },
        {
         "customdata": [
          [
           "Rocket",
           "D00015.obj"
          ],
          [
           "Rocket",
           "D00343.obj"
          ],
          [
           "Rocket",
           "D00346.obj"
          ],
          [
           "Rocket",
           "D00354.obj"
          ],
          [
           "Rocket",
           "D00426.obj"
          ],
          [
           "Rocket",
           "D00428.obj"
          ],
          [
           "Rocket",
           "D00433.obj"
          ],
          [
           "Rocket",
           "D00437.obj"
          ],
          [
           "Rocket",
           "D00472.obj"
          ],
          [
           "Rocket",
           "D00485.obj"
          ],
          [
           "Rocket",
           "D00528.obj"
          ],
          [
           "Rocket",
           "D00564.obj"
          ],
          [
           "Rocket",
           "D00585.obj"
          ],
          [
           "Rocket",
           "D00614.obj"
          ],
          [
           "Rocket",
           "D00697.obj"
          ],
          [
           "Rocket",
           "D00719.obj"
          ],
          [
           "Rocket",
           "D00764.obj"
          ],
          [
           "Rocket",
           "D00851.obj"
          ],
          [
           "Rocket",
           "D00942.obj"
          ],
          [
           "Rocket",
           "D00975.obj"
          ]
         ],
         "hovertemplate": "Class=%{customdata[0]}<br>Principal Component 1=%{x}<br>Principal Component 2=%{y}<br>Name=%{customdata[1]}<extra></extra>",
         "legendgroup": "Rocket",
         "marker": {
          "color": "#636efa",
          "symbol": "circle"
         },
         "mode": "markers",
         "name": "Rocket",
         "showlegend": true,
         "type": "scattergl",
         "x": [
          24.582849502563477,
          30.91250991821289,
          30.177303314208984,
          0.8348203897476196,
          4.585445404052734,
          4.76843786239624,
          21.250661849975586,
          26.104938507080078,
          4.049710750579834,
          44.067264556884766,
          -0.285809189081192,
          17.050745010375977,
          22.797197341918945,
          33.98271942138672,
          29.505529403686523,
          20.434879302978516,
          33.62057113647461,
          4.760693550109863,
          41.54126739501953,
          17.7827091217041
         ],
         "xaxis": "x",
         "y": [
          8.498127937316895,
          9.893014907836914,
          9.715202331542969,
          30.788467407226562,
          35.38909149169922,
          34.811397552490234,
          9.72584342956543,
          24.134672164916992,
          34.861881256103516,
          -5.286104202270508,
          34.54705810546875,
          11.596940994262695,
          15.98417854309082,
          9.548274993896484,
          -19.889558792114258,
          10.596470832824707,
          17.94990348815918,
          34.785335540771484,
          -8.622041702270508,
          -28.127944946289062
         ],
         "yaxis": "y"
        },
        {
         "customdata": [
          [
           "RoundTable",
           "D00083.obj"
          ],
          [
           "RoundTable",
           "D00094.obj"
          ],
          [
           "RoundTable",
           "D00107.obj"
          ],
          [
           "RoundTable",
           "D00194.obj"
          ],
          [
           "RoundTable",
           "D00344.obj"
          ],
          [
           "RoundTable",
           "D00401.obj"
          ],
          [
           "RoundTable",
           "D00407.obj"
          ],
          [
           "RoundTable",
           "D00492.obj"
          ],
          [
           "RoundTable",
           "D00501.obj"
          ],
          [
           "RoundTable",
           "D00503.obj"
          ],
          [
           "RoundTable",
           "D00524.obj"
          ],
          [
           "RoundTable",
           "D00581.obj"
          ],
          [
           "RoundTable",
           "D00646.obj"
          ],
          [
           "RoundTable",
           "D00649.obj"
          ],
          [
           "RoundTable",
           "D00702.obj"
          ],
          [
           "RoundTable",
           "D00756.obj"
          ],
          [
           "RoundTable",
           "D00827.obj"
          ],
          [
           "RoundTable",
           "D00866.obj"
          ],
          [
           "RoundTable",
           "D00909.obj"
          ],
          [
           "RoundTable",
           "D00948.obj"
          ],
          [
           "RoundTable",
           "m921.obj"
          ],
          [
           "RoundTable",
           "m922.obj"
          ],
          [
           "RoundTable",
           "m923.obj"
          ],
          [
           "RoundTable",
           "m924.obj"
          ],
          [
           "RoundTable",
           "m925.obj"
          ],
          [
           "RoundTable",
           "m926.obj"
          ],
          [
           "RoundTable",
           "m927.obj"
          ],
          [
           "RoundTable",
           "m928.obj"
          ],
          [
           "RoundTable",
           "m929.obj"
          ],
          [
           "RoundTable",
           "m930.obj"
          ],
          [
           "RoundTable",
           "m931.obj"
          ],
          [
           "RoundTable",
           "m932.obj"
          ],
          [
           "RoundTable",
           "m933.obj"
          ],
          [
           "RoundTable",
           "m934.obj"
          ],
          [
           "RoundTable",
           "m935.obj"
          ],
          [
           "RoundTable",
           "m937.obj"
          ],
          [
           "RoundTable",
           "m938.obj"
          ]
         ],
         "hovertemplate": "Class=%{customdata[0]}<br>Principal Component 1=%{x}<br>Principal Component 2=%{y}<br>Name=%{customdata[1]}<extra></extra>",
         "legendgroup": "RoundTable",
         "marker": {
          "color": "#EF553B",
          "symbol": "circle"
         },
         "mode": "markers",
         "name": "RoundTable",
         "showlegend": true,
         "type": "scattergl",
         "x": [
          -36.67256164550781,
          -36.96548080444336,
          -45.290184020996094,
          -12.067980766296387,
          -5.397371292114258,
          -19.797128677368164,
          -19.913352966308594,
          -4.50884485244751,
          -17.408288955688477,
          -32.93586349487305,
          -38.00368881225586,
          -8.327349662780762,
          4.133365631103516,
          -3.602302074432373,
          -24.462371826171875,
          -30.192811965942383,
          -23.746355056762695,
          -43.5528450012207,
          -34.6988410949707,
          -41.301700592041016,
          4.112552642822266,
          -15.891335487365723,
          -5.393006324768066,
          -19.87190818786621,
          -12.887520790100098,
          -26.17299461364746,
          -6.207050800323486,
          -43.979759216308594,
          -12.826079368591309,
          -34.34029769897461,
          -43.19597244262695,
          -24.313899993896484,
          -5.2967658042907715,
          -40.215152740478516,
          -40.44501876831055,
          -20.571788787841797,
          -31.273239135742188
         ],
         "xaxis": "x",
         "y": [
          -16.694644927978516,
          -19.91744613647461,
          -16.745418548583984,
          5.441806793212891,
          -7.830722808837891,
          8.700206756591797,
          28.534360885620117,
          -8.571773529052734,
          -20.2760066986084,
          -23.951589584350586,
          -19.104698181152344,
          -5.476256370544434,
          -8.48505973815918,
          -13.56753158569336,
          -15.967294692993164,
          -27.478857040405273,
          -14.274312973022461,
          -17.380399703979492,
          -18.30329132080078,
          -20.513418197631836,
          -8.463058471679688,
          -1.379401445388794,
          -7.80952787399292,
          28.493064880371094,
          3.3824663162231445,
          -18.344789505004883,
          -6.496694087982178,
          -18.16556739807129,
          3.389697313308716,
          -19.750795364379883,
          -16.88448715209961,
          -15.87059211730957,
          -8.14277172088623,
          -14.337967872619629,
          -13.988775253295898,
          8.921759605407715,
          -21.389984130859375
         ],
         "yaxis": "y"
        },
        {
         "customdata": [
          [
           "Shelf",
           "D00057.obj"
          ],
          [
           "Shelf",
           "D00074.obj"
          ],
          [
           "Shelf",
           "D00129.obj"
          ],
          [
           "Shelf",
           "D00171.obj"
          ],
          [
           "Shelf",
           "D00198.obj"
          ],
          [
           "Shelf",
           "D00242.obj"
          ],
          [
           "Shelf",
           "D00337.obj"
          ],
          [
           "Shelf",
           "D00352.obj"
          ],
          [
           "Shelf",
           "D00468.obj"
          ],
          [
           "Shelf",
           "D00592.obj"
          ],
          [
           "Shelf",
           "D00631.obj"
          ],
          [
           "Shelf",
           "D00691.obj"
          ],
          [
           "Shelf",
           "D00725.obj"
          ],
          [
           "Shelf",
           "D00772.obj"
          ],
          [
           "Shelf",
           "D00781.obj"
          ],
          [
           "Shelf",
           "D00818.obj"
          ],
          [
           "Shelf",
           "D00881.obj"
          ],
          [
           "Shelf",
           "D00887.obj"
          ],
          [
           "Shelf",
           "D00917.obj"
          ],
          [
           "Shelf",
           "D00956.obj"
          ],
          [
           "Shelf",
           "m844.obj"
          ],
          [
           "Shelf",
           "m845.obj"
          ],
          [
           "Shelf",
           "m846.obj"
          ],
          [
           "Shelf",
           "m847.obj"
          ],
          [
           "Shelf",
           "m849.obj"
          ],
          [
           "Shelf",
           "m850.obj"
          ],
          [
           "Shelf",
           "m851.obj"
          ],
          [
           "Shelf",
           "m852.obj"
          ],
          [
           "Shelf",
           "m853.obj"
          ],
          [
           "Shelf",
           "m854.obj"
          ],
          [
           "Shelf",
           "m855.obj"
          ],
          [
           "Shelf",
           "m856.obj"
          ],
          [
           "Shelf",
           "m857.obj"
          ],
          [
           "Shelf",
           "m858.obj"
          ],
          [
           "Shelf",
           "m859.obj"
          ],
          [
           "Shelf",
           "m860.obj"
          ],
          [
           "Shelf",
           "m861.obj"
          ],
          [
           "Shelf",
           "m862.obj"
          ],
          [
           "Shelf",
           "m863.obj"
          ],
          [
           "Shelf",
           "m864.obj"
          ],
          [
           "Shelf",
           "m865.obj"
          ],
          [
           "Shelf",
           "m866.obj"
          ],
          [
           "Shelf",
           "m868.obj"
          ]
         ],
         "hovertemplate": "Class=%{customdata[0]}<br>Principal Component 1=%{x}<br>Principal Component 2=%{y}<br>Name=%{customdata[1]}<extra></extra>",
         "legendgroup": "Shelf",
         "marker": {
          "color": "#00cc96",
          "symbol": "circle"
         },
         "mode": "markers",
         "name": "Shelf",
         "showlegend": true,
         "type": "scattergl",
         "x": [
          -34.659339904785156,
          -47.88335037231445,
          -26.320802688598633,
          -26.207378387451172,
          -48.75719451904297,
          -24.559274673461914,
          -33.78195571899414,
          -35.931610107421875,
          -23.778636932373047,
          -48.45530319213867,
          -28.899015426635742,
          -33.67841339111328,
          -31.705913543701172,
          -48.262760162353516,
          -47.82368087768555,
          -46.98396301269531,
          -35.742271423339844,
          -25.78066062927246,
          -23.50145721435547,
          -35.72113037109375,
          -48.00525665283203,
          -39.058616638183594,
          -14.680109024047852,
          -39.98491668701172,
          -25.874961853027344,
          -48.196624755859375,
          -9.689090728759766,
          -26.16302490234375,
          -36.79294967651367,
          -35.29501724243164,
          -32.85651779174805,
          -46.53813934326172,
          -28.816038131713867,
          -6.0937628746032715,
          -36.09983444213867,
          -39.854042053222656,
          -48.194217681884766,
          -49.48179244995117,
          -31.595163345336914,
          -29.091894149780273,
          -42.237937927246094,
          -49.22770690917969,
          -6.91399621963501
         ],
         "xaxis": "x",
         "y": [
          -12.697159767150879,
          -4.867459297180176,
          3.169684886932373,
          -13.090363502502441,
          -7.116620063781738,
          12.670001983642578,
          -11.252636909484863,
          -12.270851135253906,
          1.9887473583221436,
          -8.153608322143555,
          3.0025672912597656,
          11.609074592590332,
          -12.36230182647705,
          -7.76555061340332,
          -5.053380966186523,
          -6.045936107635498,
          -14.688837051391602,
          -9.625605583190918,
          -13.314641952514648,
          -11.706666946411133,
          -7.368412494659424,
          -3.6889102458953857,
          9.835335731506348,
          -3.6628479957580566,
          -9.646027565002441,
          -7.866288185119629,
          1.2876455783843994,
          -13.642108917236328,
          -10.645644187927246,
          -12.412290573120117,
          25.32988739013672,
          -5.414780616760254,
          12.510478019714355,
          41.969173431396484,
          6.789045810699463,
          -15.320235252380371,
          -14.194090843200684,
          -13.848496437072754,
          -18.44987678527832,
          -17.142980575561523,
          -14.070223808288574,
          -12.883962631225586,
          -25.676673889160156
         ],
         "yaxis": "y"
        },
        {
         "customdata": [
          [
           "Ship",
           "D00027.obj"
          ],
          [
           "Ship",
           "D00042.obj"
          ],
          [
           "Ship",
           "D00099.obj"
          ],
          [
           "Ship",
           "D00175.obj"
          ],
          [
           "Ship",
           "D00247.obj"
          ],
          [
           "Ship",
           "D00258.obj"
          ],
          [
           "Ship",
           "D00292.obj"
          ],
          [
           "Ship",
           "D00429.obj"
          ],
          [
           "Ship",
           "D00467.obj"
          ],
          [
           "Ship",
           "D00539.obj"
          ],
          [
           "Ship",
           "D00543.obj"
          ],
          [
           "Ship",
           "D00647.obj"
          ],
          [
           "Ship",
           "D00771.obj"
          ],
          [
           "Ship",
           "D00791.obj"
          ],
          [
           "Ship",
           "D00809.obj"
          ],
          [
           "Ship",
           "D00837.obj"
          ],
          [
           "Ship",
           "D00896.obj"
          ],
          [
           "Ship",
           "D00907.obj"
          ],
          [
           "Ship",
           "D00935.obj"
          ],
          [
           "Ship",
           "D00949.obj"
          ],
          [
           "Ship",
           "m1427.obj"
          ],
          [
           "Ship",
           "m1428.obj"
          ],
          [
           "Ship",
           "m1429.obj"
          ],
          [
           "Ship",
           "m1430.obj"
          ],
          [
           "Ship",
           "m1431.obj"
          ],
          [
           "Ship",
           "m1432.obj"
          ],
          [
           "Ship",
           "m1433.obj"
          ],
          [
           "Ship",
           "m1434.obj"
          ],
          [
           "Ship",
           "m1435.obj"
          ],
          [
           "Ship",
           "m1436.obj"
          ],
          [
           "Ship",
           "m1437.obj"
          ],
          [
           "Ship",
           "m1438.obj"
          ],
          [
           "Ship",
           "m1439.obj"
          ],
          [
           "Ship",
           "m1440.obj"
          ],
          [
           "Ship",
           "m1441.obj"
          ],
          [
           "Ship",
           "m1442.obj"
          ],
          [
           "Ship",
           "m1444.obj"
          ],
          [
           "Ship",
           "m1446.obj"
          ],
          [
           "Ship",
           "m1447.obj"
          ],
          [
           "Ship",
           "m1448.obj"
          ],
          [
           "Ship",
           "m1449.obj"
          ],
          [
           "Ship",
           "m1450.obj"
          ],
          [
           "Ship",
           "m1451.obj"
          ],
          [
           "Ship",
           "m1452.obj"
          ],
          [
           "Ship",
           "m1453.obj"
          ],
          [
           "Ship",
           "m1454.obj"
          ],
          [
           "Ship",
           "m1455.obj"
          ],
          [
           "Ship",
           "m1456.obj"
          ],
          [
           "Ship",
           "m1459.obj"
          ],
          [
           "Ship",
           "m1460.obj"
          ],
          [
           "Ship",
           "m1461.obj"
          ],
          [
           "Ship",
           "m1462.obj"
          ],
          [
           "Ship",
           "m1463.obj"
          ],
          [
           "Ship",
           "m1464.obj"
          ],
          [
           "Ship",
           "m1465.obj"
          ],
          [
           "Ship",
           "m1466.obj"
          ],
          [
           "Ship",
           "m1467.obj"
          ],
          [
           "Ship",
           "m1468.obj"
          ],
          [
           "Ship",
           "m1469.obj"
          ],
          [
           "Ship",
           "m1470.obj"
          ],
          [
           "Ship",
           "m1471.obj"
          ]
         ],
         "hovertemplate": "Class=%{customdata[0]}<br>Principal Component 1=%{x}<br>Principal Component 2=%{y}<br>Name=%{customdata[1]}<extra></extra>",
         "legendgroup": "Ship",
         "marker": {
          "color": "#ab63fa",
          "symbol": "circle"
         },
         "mode": "markers",
         "name": "Ship",
         "showlegend": true,
         "type": "scattergl",
         "x": [
          13.119823455810547,
          12.260072708129883,
          9.46469783782959,
          8.334163665771484,
          29.13069725036621,
          33.631710052490234,
          13.076319694519043,
          9.99549674987793,
          32.200157165527344,
          25.050931930541992,
          14.970760345458984,
          27.057024002075195,
          22.27449607849121,
          13.10157299041748,
          20.38080406188965,
          29.112930297851562,
          1.7488600015640259,
          7.082932949066162,
          31.177656173706055,
          22.911375045776367,
          33.241920471191406,
          33.07098388671875,
          32.460289001464844,
          36.301513671875,
          30.972585678100586,
          32.84811782836914,
          29.256608963012695,
          13.718267440795898,
          21.72175407409668,
          26.737030029296875,
          32.94554901123047,
          5.014591217041016,
          28.056318283081055,
          22.756521224975586,
          14.449365615844727,
          10.871861457824707,
          14.861570358276367,
          29.136369705200195,
          26.991077423095703,
          35.98959732055664,
          -37.09186553955078,
          -9.999606132507324,
          44.72412109375,
          26.638050079345703,
          2.356147527694702,
          7.315901279449463,
          7.07843017578125,
          -14.836514472961426,
          -7.876930236816406,
          13.198137283325195,
          14.566512107849121,
          11.578536987304688,
          26.921892166137695,
          31.49724769592285,
          40.41958236694336,
          24.495615005493164,
          27.951862335205078,
          25.94082260131836,
          26.105438232421875,
          27.54800033569336,
          -1.0305836200714111
         ],
         "xaxis": "x",
         "y": [
          17.146453857421875,
          24.2502498626709,
          28.379003524780273,
          26.989362716674805,
          24.937732696533203,
          -7.6620025634765625,
          16.663999557495117,
          25.112144470214844,
          14.844839096069336,
          5.487391471862793,
          5.3550567626953125,
          21.30877113342285,
          12.011323928833008,
          17.10097312927246,
          13.267304420471191,
          24.98531150817871,
          17.947885513305664,
          9.42388916015625,
          15.483658790588379,
          -0.895379900932312,
          6.25673246383667,
          7.627106189727783,
          7.643736839294434,
          -9.063942909240723,
          4.3272705078125,
          8.869715690612793,
          5.267013072967529,
          6.67014741897583,
          -1.9186278581619263,
          21.543201446533203,
          5.8605475425720215,
          33.61472702026367,
          17.57877540588379,
          10.988442420959473,
          16.441633224487305,
          28.646846771240234,
          17.058359146118164,
          24.935260772705078,
          22.58819007873535,
          -13.390061378479004,
          -21.890914916992188,
          -29.569297790527344,
          -0.784561038017273,
          1.7695505619049072,
          -10.743476867675781,
          -12.913148880004883,
          -19.02041244506836,
          8.585969924926758,
          -14.96048355102539,
          -25.444198608398438,
          -25.741466522216797,
          -25.71851348876953,
          24.721328735351562,
          7.79176664352417,
          10.250714302062988,
          23.297746658325195,
          17.28278350830078,
          22.38821029663086,
          21.657527923583984,
          24.232852935791016,
          17.079036712646484
         ],
         "yaxis": "y"
        },
        {
         "customdata": [
          [
           "Sign",
           "m1670.obj"
          ],
          [
           "Sign",
           "m1671.obj"
          ],
          [
           "Sign",
           "m1672.obj"
          ],
          [
           "Sign",
           "m1673.obj"
          ],
          [
           "Sign",
           "m1674.obj"
          ],
          [
           "Sign",
           "m1675.obj"
          ],
          [
           "Sign",
           "m1676.obj"
          ],
          [
           "Sign",
           "m1679.obj"
          ],
          [
           "Sign",
           "m1680.obj"
          ],
          [
           "Sign",
           "m1681.obj"
          ],
          [
           "Sign",
           "m1682.obj"
          ],
          [
           "Sign",
           "m1683.obj"
          ],
          [
           "Sign",
           "m1684.obj"
          ],
          [
           "Sign",
           "m1685.obj"
          ]
         ],
         "hovertemplate": "Class=%{customdata[0]}<br>Principal Component 1=%{x}<br>Principal Component 2=%{y}<br>Name=%{customdata[1]}<extra></extra>",
         "legendgroup": "Sign",
         "marker": {
          "color": "#FFA15A",
          "symbol": "circle"
         },
         "mode": "markers",
         "name": "Sign",
         "showlegend": true,
         "type": "scattergl",
         "x": [
          37.39863967895508,
          37.70253372192383,
          38.00040817260742,
          38.03410339355469,
          23.89967155456543,
          47.77261734008789,
          47.866050720214844,
          33.07487106323242,
          35.56332015991211,
          49.77286911010742,
          -3.9049148559570312,
          -46.04087448120117,
          -37.62468338012695,
          -20.89374351501465
         ],
         "xaxis": "x",
         "y": [
          8.44542407989502,
          7.282057285308838,
          -4.955002307891846,
          5.670644283294678,
          13.080804824829102,
          7.027470111846924,
          4.109157085418701,
          21.29133415222168,
          9.03308391571045,
          10.946422576904297,
          -14.339522361755371,
          -16.224544525146484,
          -8.751106262207031,
          -21.209835052490234
         ],
         "yaxis": "y"
        },
        {
         "customdata": [
          [
           "Skyscraper",
           "D00006.obj"
          ],
          [
           "Skyscraper",
           "D00058.obj"
          ],
          [
           "Skyscraper",
           "D00059.obj"
          ],
          [
           "Skyscraper",
           "D00105.obj"
          ],
          [
           "Skyscraper",
           "D00125.obj"
          ],
          [
           "Skyscraper",
           "D00126.obj"
          ],
          [
           "Skyscraper",
           "D00130.obj"
          ],
          [
           "Skyscraper",
           "D00259.obj"
          ],
          [
           "Skyscraper",
           "D00300.obj"
          ],
          [
           "Skyscraper",
           "D00520.obj"
          ],
          [
           "Skyscraper",
           "D00532.obj"
          ],
          [
           "Skyscraper",
           "D00584.obj"
          ],
          [
           "Skyscraper",
           "D00589.obj"
          ],
          [
           "Skyscraper",
           "D00641.obj"
          ],
          [
           "Skyscraper",
           "D00664.obj"
          ],
          [
           "Skyscraper",
           "D00729.obj"
          ],
          [
           "Skyscraper",
           "D00822.obj"
          ],
          [
           "Skyscraper",
           "D00870.obj"
          ],
          [
           "Skyscraper",
           "D00872.obj"
          ],
          [
           "Skyscraper",
           "D00998.obj"
          ]
         ],
         "hovertemplate": "Class=%{customdata[0]}<br>Principal Component 1=%{x}<br>Principal Component 2=%{y}<br>Name=%{customdata[1]}<extra></extra>",
         "legendgroup": "Skyscraper",
         "marker": {
          "color": "#19d3f3",
          "symbol": "circle"
         },
         "mode": "markers",
         "name": "Skyscraper",
         "showlegend": true,
         "type": "scattergl",
         "x": [
          -32.98976516723633,
          -11.735687255859375,
          -12.952522277832031,
          35.60612487792969,
          15.171042442321777,
          -13.518499374389648,
          28.304494857788086,
          1.4123376607894897,
          16.325780868530273,
          -10.448336601257324,
          -12.14616870880127,
          -26.92498016357422,
          16.051902770996094,
          -9.646300315856934,
          -27.20033073425293,
          -36.50389099121094,
          -2.1351568698883057,
          -29.328500747680664,
          4.025635719299316,
          7.778297424316406
         ],
         "xaxis": "x",
         "y": [
          12.513404846191406,
          46.00435256958008,
          32.786006927490234,
          -14.066206932067871,
          3.4979195594787598,
          33.39541244506836,
          14.163336753845215,
          38.52561950683594,
          22.867008209228516,
          -10.264286041259766,
          -0.2948951721191406,
          10.566784858703613,
          23.90888786315918,
          43.168479919433594,
          9.215226173400879,
          11.34216594696045,
          37.2198371887207,
          9.812541961669922,
          31.952363967895508,
          30.631668090820312
         ],
         "yaxis": "y"
        },
        {
         "customdata": [
          [
           "Spoon",
           "D00014.obj"
          ],
          [
           "Spoon",
           "D00085.obj"
          ],
          [
           "Spoon",
           "D00144.obj"
          ],
          [
           "Spoon",
           "D00157.obj"
          ],
          [
           "Spoon",
           "D00196.obj"
          ],
          [
           "Spoon",
           "D00338.obj"
          ],
          [
           "Spoon",
           "D00422.obj"
          ],
          [
           "Spoon",
           "D00474.obj"
          ],
          [
           "Spoon",
           "D00497.obj"
          ],
          [
           "Spoon",
           "D00517.obj"
          ],
          [
           "Spoon",
           "D00562.obj"
          ],
          [
           "Spoon",
           "D00593.obj"
          ],
          [
           "Spoon",
           "D00661.obj"
          ],
          [
           "Spoon",
           "D00669.obj"
          ],
          [
           "Spoon",
           "D00674.obj"
          ],
          [
           "Spoon",
           "D00683.obj"
          ],
          [
           "Spoon",
           "D00790.obj"
          ],
          [
           "Spoon",
           "D00842.obj"
          ],
          [
           "Spoon",
           "D00927.obj"
          ],
          [
           "Spoon",
           "D00964.obj"
          ]
         ],
         "hovertemplate": "Class=%{customdata[0]}<br>Principal Component 1=%{x}<br>Principal Component 2=%{y}<br>Name=%{customdata[1]}<extra></extra>",
         "legendgroup": "Spoon",
         "marker": {
          "color": "#FF6692",
          "symbol": "circle"
         },
         "mode": "markers",
         "name": "Spoon",
         "showlegend": true,
         "type": "scattergl",
         "x": [
          32.21812438964844,
          29.986164093017578,
          44.10752868652344,
          3.78520131111145,
          -10.989256858825684,
          25.810535430908203,
          25.302997589111328,
          33.968074798583984,
          33.001041412353516,
          44.94715881347656,
          41.18233871459961,
          4.945897579193115,
          40.950565338134766,
          -8.720011711120605,
          44.219268798828125,
          38.90300750732422,
          25.140024185180664,
          4.918956756591797,
          33.81068801879883,
          47.29635238647461
         ],
         "xaxis": "x",
         "y": [
          22.893918991088867,
          13.380667686462402,
          -4.573533058166504,
          41.20297622680664,
          -36.47505569458008,
          10.26708984375,
          22.211023330688477,
          11.84715747833252,
          12.975980758666992,
          -1.7672115564346313,
          1.1842323541641235,
          40.95608139038086,
          -7.545511722564697,
          10.150909423828125,
          -0.07850905507802963,
          -23.74709701538086,
          21.357831954956055,
          40.395172119140625,
          12.947772026062012,
          -2.8137142658233643
         ],
         "yaxis": "y"
        },
        {
         "customdata": [
          [
           "Starship",
           "m1353.obj"
          ],
          [
           "Starship",
           "m1354.obj"
          ],
          [
           "Starship",
           "m1355.obj"
          ],
          [
           "Starship",
           "m1356.obj"
          ],
          [
           "Starship",
           "m1357.obj"
          ],
          [
           "Starship",
           "m1358.obj"
          ],
          [
           "Starship",
           "m1359.obj"
          ],
          [
           "Starship",
           "m1360.obj"
          ],
          [
           "Starship",
           "m1361.obj"
          ],
          [
           "Starship",
           "m1362.obj"
          ],
          [
           "Starship",
           "m1364.obj"
          ],
          [
           "Starship",
           "m1365.obj"
          ],
          [
           "Starship",
           "m1366.obj"
          ],
          [
           "Starship",
           "m1368.obj"
          ],
          [
           "Starship",
           "m1369.obj"
          ],
          [
           "Starship",
           "m1370.obj"
          ],
          [
           "Starship",
           "m1371.obj"
          ],
          [
           "Starship",
           "m1372.obj"
          ],
          [
           "Starship",
           "m1373.obj"
          ],
          [
           "Starship",
           "m1374.obj"
          ],
          [
           "Starship",
           "m1375.obj"
          ],
          [
           "Starship",
           "m1376.obj"
          ],
          [
           "Starship",
           "m1378.obj"
          ],
          [
           "Starship",
           "m1379.obj"
          ],
          [
           "Starship",
           "m1380.obj"
          ],
          [
           "Starship",
           "m1381.obj"
          ],
          [
           "Starship",
           "m1382.obj"
          ],
          [
           "Starship",
           "m1383.obj"
          ],
          [
           "Starship",
           "m1385.obj"
          ],
          [
           "Starship",
           "m1386.obj"
          ]
         ],
         "hovertemplate": "Class=%{customdata[0]}<br>Principal Component 1=%{x}<br>Principal Component 2=%{y}<br>Name=%{customdata[1]}<extra></extra>",
         "legendgroup": "Starship",
         "marker": {
          "color": "#B6E880",
          "symbol": "circle"
         },
         "mode": "markers",
         "name": "Starship",
         "showlegend": true,
         "type": "scattergl",
         "x": [
          17.493425369262695,
          12.599905014038086,
          17.00385093688965,
          5.470832347869873,
          13.022889137268066,
          22.67620277404785,
          5.759745121002197,
          23.385759353637695,
          1.2598438262939453,
          6.211873531341553,
          10.015642166137695,
          3.546814441680908,
          22.84330177307129,
          23.599136352539062,
          34.3508415222168,
          17.90894889831543,
          21.227703094482422,
          12.379768371582031,
          21.69332504272461,
          12.504756927490234,
          -10.295878410339355,
          24.7243595123291,
          -10.545228958129883,
          -9.845833778381348,
          -10.41774845123291,
          -23.068313598632812,
          -18.90692901611328,
          -18.479825973510742,
          -10.842185020446777,
          -11.283488273620605
         ],
         "xaxis": "x",
         "y": [
          -14.598591804504395,
          4.9769768714904785,
          -10.08190631866455,
          4.52200984954834,
          5.379233360290527,
          -21.694564819335938,
          -16.64449119567871,
          -8.480830192565918,
          3.160689353942871,
          -5.14484977722168,
          -24.48023223876953,
          -29.72431182861328,
          -21.616901397705078,
          0.23589397966861725,
          -12.477702140808105,
          -9.234103202819824,
          -22.34678077697754,
          6.594727993011475,
          -10.877103805541992,
          21.353342056274414,
          4.0892720222473145,
          20.976816177368164,
          -8.764114379882812,
          9.839890480041504,
          4.718216896057129,
          3.4853639602661133,
          28.596254348754883,
          15.308484077453613,
          24.323251724243164,
          23.621686935424805
         ],
         "yaxis": "y"
        },
        {
         "customdata": [
          [
           "SubmachineGun",
           "D00060.obj"
          ],
          [
           "SubmachineGun",
           "D00062.obj"
          ],
          [
           "SubmachineGun",
           "D00064.obj"
          ],
          [
           "SubmachineGun",
           "D00068.obj"
          ],
          [
           "SubmachineGun",
           "D00119.obj"
          ],
          [
           "SubmachineGun",
           "D00219.obj"
          ],
          [
           "SubmachineGun",
           "D00256.obj"
          ],
          [
           "SubmachineGun",
           "D00371.obj"
          ],
          [
           "SubmachineGun",
           "D00384.obj"
          ],
          [
           "SubmachineGun",
           "D00431.obj"
          ],
          [
           "SubmachineGun",
           "D00459.obj"
          ],
          [
           "SubmachineGun",
           "D00489.obj"
          ],
          [
           "SubmachineGun",
           "D00537.obj"
          ],
          [
           "SubmachineGun",
           "D00613.obj"
          ],
          [
           "SubmachineGun",
           "D00733.obj"
          ],
          [
           "SubmachineGun",
           "D00878.obj"
          ],
          [
           "SubmachineGun",
           "D00893.obj"
          ],
          [
           "SubmachineGun",
           "D00960.obj"
          ],
          [
           "SubmachineGun",
           "D00970.obj"
          ]
         ],
         "hovertemplate": "Class=%{customdata[0]}<br>Principal Component 1=%{x}<br>Principal Component 2=%{y}<br>Name=%{customdata[1]}<extra></extra>",
         "legendgroup": "SubmachineGun",
         "marker": {
          "color": "#FF97FF",
          "symbol": "circle"
         },
         "mode": "markers",
         "name": "SubmachineGun",
         "showlegend": true,
         "type": "scattergl",
         "x": [
          35.37522888183594,
          21.727874755859375,
          29.744070053100586,
          40.17871856689453,
          43.94822692871094,
          29.718597412109375,
          19.79601287841797,
          33.49472427368164,
          41.143638610839844,
          34.954551696777344,
          35.410621643066406,
          18.560388565063477,
          36.03609085083008,
          28.839754104614258,
          28.50448989868164,
          30.650249481201172,
          31.341630935668945,
          27.48974609375,
          35.92927932739258
         ],
         "xaxis": "x",
         "y": [
          11.633605003356934,
          12.696290969848633,
          -13.53581714630127,
          11.524571418762207,
          0.9518589377403259,
          16.499004364013672,
          18.671768188476562,
          10.072654724121094,
          13.366203308105469,
          7.522037982940674,
          7.2837419509887695,
          13.905406951904297,
          9.910157203674316,
          19.782808303833008,
          3.3390214443206787,
          16.168113708496094,
          15.326135635375977,
          17.966419219970703,
          10.702791213989258
         ],
         "yaxis": "y"
        },
        {
         "customdata": [
          [
           "Sword",
           "D00066.obj"
          ],
          [
           "Sword",
           "D00071.obj"
          ],
          [
           "Sword",
           "D00133.obj"
          ],
          [
           "Sword",
           "D00149.obj"
          ],
          [
           "Sword",
           "D00162.obj"
          ],
          [
           "Sword",
           "D00177.obj"
          ],
          [
           "Sword",
           "D00195.obj"
          ],
          [
           "Sword",
           "D00249.obj"
          ],
          [
           "Sword",
           "D00356.obj"
          ],
          [
           "Sword",
           "D00484.obj"
          ],
          [
           "Sword",
           "D00513.obj"
          ],
          [
           "Sword",
           "D00540.obj"
          ],
          [
           "Sword",
           "D00635.obj"
          ],
          [
           "Sword",
           "D00712.obj"
          ],
          [
           "Sword",
           "D00807.obj"
          ],
          [
           "Sword",
           "D00812.obj"
          ],
          [
           "Sword",
           "D00906.obj"
          ],
          [
           "Sword",
           "D00916.obj"
          ],
          [
           "Sword",
           "D00992.obj"
          ],
          [
           "Sword",
           "m687.obj"
          ],
          [
           "Sword",
           "m688.obj"
          ],
          [
           "Sword",
           "m689.obj"
          ],
          [
           "Sword",
           "m690.obj"
          ],
          [
           "Sword",
           "m691.obj"
          ],
          [
           "Sword",
           "m692.obj"
          ],
          [
           "Sword",
           "m693.obj"
          ],
          [
           "Sword",
           "m694.obj"
          ],
          [
           "Sword",
           "m695.obj"
          ],
          [
           "Sword",
           "m696.obj"
          ],
          [
           "Sword",
           "m697.obj"
          ],
          [
           "Sword",
           "m698.obj"
          ],
          [
           "Sword",
           "m699.obj"
          ],
          [
           "Sword",
           "m700.obj"
          ],
          [
           "Sword",
           "m701.obj"
          ],
          [
           "Sword",
           "m702.obj"
          ],
          [
           "Sword",
           "m703.obj"
          ],
          [
           "Sword",
           "m704.obj"
          ],
          [
           "Sword",
           "m705.obj"
          ],
          [
           "Sword",
           "m707.obj"
          ],
          [
           "Sword",
           "m709.obj"
          ],
          [
           "Sword",
           "m710.obj"
          ],
          [
           "Sword",
           "m711.obj"
          ],
          [
           "Sword",
           "m712.obj"
          ],
          [
           "Sword",
           "m713.obj"
          ],
          [
           "Sword",
           "m714.obj"
          ],
          [
           "Sword",
           "m715.obj"
          ],
          [
           "Sword",
           "m716.obj"
          ],
          [
           "Sword",
           "m717.obj"
          ],
          [
           "Sword",
           "m718.obj"
          ],
          [
           "Sword",
           "m719.obj"
          ],
          [
           "Sword",
           "m720.obj"
          ],
          [
           "Sword",
           "m721.obj"
          ]
         ],
         "hovertemplate": "Class=%{customdata[0]}<br>Principal Component 1=%{x}<br>Principal Component 2=%{y}<br>Name=%{customdata[1]}<extra></extra>",
         "legendgroup": "Sword",
         "marker": {
          "color": "#FECB52",
          "symbol": "circle"
         },
         "mode": "markers",
         "name": "Sword",
         "showlegend": true,
         "type": "scattergl",
         "x": [
          41.98777770996094,
          41.92816162109375,
          41.847503662109375,
          44.61267852783203,
          47.138973236083984,
          39.55257034301758,
          45.52124786376953,
          42.02596664428711,
          41.46299362182617,
          47.23703384399414,
          45.43543243408203,
          47.097328186035156,
          45.5208854675293,
          43.314674377441406,
          47.31930160522461,
          48.13991165161133,
          41.81888961791992,
          48.986324310302734,
          41.7151985168457,
          45.79930114746094,
          51.639923095703125,
          51.677520751953125,
          51.648292541503906,
          48.074764251708984,
          48.210960388183594,
          49.26925277709961,
          45.472900390625,
          42.31810760498047,
          41.25574493408203,
          50.45502471923828,
          46.19091796875,
          46.27070236206055,
          46.19504928588867,
          49.33012390136719,
          49.60971450805664,
          47.63896942138672,
          47.259971618652344,
          36.48842239379883,
          47.714107513427734,
          47.254337310791016,
          42.02639389038086,
          40.43421173095703,
          48.84355163574219,
          48.70439910888672,
          50.453529357910156,
          41.2579345703125,
          47.13532638549805,
          49.7947998046875,
          47.902225494384766,
          31.4466495513916,
          42.60593032836914,
          34.28636169433594
         ],
         "xaxis": "x",
         "y": [
          4.864752292633057,
          3.218306303024292,
          3.5995707511901855,
          6.1024603843688965,
          9.76329231262207,
          5.065356254577637,
          -3.651179552078247,
          5.293127536773682,
          2.282376766204834,
          4.301397800445557,
          -4.171576499938965,
          8.886839866638184,
          -0.05412633344531059,
          11.85292911529541,
          11.093952178955078,
          8.215622901916504,
          3.139612913131714,
          10.413471221923828,
          4.114960193634033,
          5.090520858764648,
          -1.742446780204773,
          -1.986403465270996,
          -1.8310853242874146,
          2.666048049926758,
          8.192156791687012,
          6.083301067352295,
          0.1858728677034378,
          2.9527106285095215,
          1.2420095205307007,
          10.957682609558105,
          -4.064523220062256,
          3.2445967197418213,
          5.671385765075684,
          10.41700267791748,
          5.278596878051758,
          10.546162605285645,
          9.647038459777832,
          -7.868694305419922,
          3.7694082260131836,
          4.287925720214844,
          4.589301109313965,
          12.146636962890625,
          8.043981552124023,
          5.913623332977295,
          10.957398414611816,
          1.248627781867981,
          7.086122512817383,
          5.337863445281982,
          5.2779927253723145,
          12.319199562072754,
          11.821430206298828,
          18.971826553344727
         ],
         "yaxis": "y"
        },
        {
         "customdata": [
          [
           "Tool",
           "D01003.obj"
          ],
          [
           "Tool",
           "D01012.obj"
          ],
          [
           "Tool",
           "D01040.obj"
          ],
          [
           "Tool",
           "D01044.obj"
          ],
          [
           "Tool",
           "D01069.obj"
          ],
          [
           "Tool",
           "D01084.obj"
          ],
          [
           "Tool",
           "D01086.obj"
          ],
          [
           "Tool",
           "D01111.obj"
          ],
          [
           "Tool",
           "D01113.obj"
          ],
          [
           "Tool",
           "D01127.obj"
          ],
          [
           "Tool",
           "D01131.obj"
          ],
          [
           "Tool",
           "D01140.obj"
          ],
          [
           "Tool",
           "D01142.obj"
          ],
          [
           "Tool",
           "D01148.obj"
          ],
          [
           "Tool",
           "D01152.obj"
          ],
          [
           "Tool",
           "D01154.obj"
          ],
          [
           "Tool",
           "D01156.obj"
          ],
          [
           "Tool",
           "D01159.obj"
          ],
          [
           "Tool",
           "D01165.obj"
          ],
          [
           "Tool",
           "D01176.obj"
          ],
          [
           "Tool",
           "m1099.obj"
          ],
          [
           "Tool",
           "m1100.obj"
          ],
          [
           "Tool",
           "m1101.obj"
          ],
          [
           "Tool",
           "m1102.obj"
          ],
          [
           "Tool",
           "m1103.obj"
          ],
          [
           "Tool",
           "m1104.obj"
          ],
          [
           "Tool",
           "m1105.obj"
          ],
          [
           "Tool",
           "m1106.obj"
          ],
          [
           "Tool",
           "m1107.obj"
          ],
          [
           "Tool",
           "m1108.obj"
          ],
          [
           "Tool",
           "m1109.obj"
          ],
          [
           "Tool",
           "m1110.obj"
          ],
          [
           "Tool",
           "m1111.obj"
          ],
          [
           "Tool",
           "m1112.obj"
          ],
          [
           "Tool",
           "m1113.obj"
          ],
          [
           "Tool",
           "m1114.obj"
          ],
          [
           "Tool",
           "m1115.obj"
          ],
          [
           "Tool",
           "m1116.obj"
          ],
          [
           "Tool",
           "m1117.obj"
          ],
          [
           "Tool",
           "m589.obj"
          ],
          [
           "Tool",
           "m590.obj"
          ],
          [
           "Tool",
           "m591.obj"
          ]
         ],
         "hovertemplate": "Class=%{customdata[0]}<br>Principal Component 1=%{x}<br>Principal Component 2=%{y}<br>Name=%{customdata[1]}<extra></extra>",
         "legendgroup": "Tool",
         "marker": {
          "color": "#636efa",
          "symbol": "circle"
         },
         "mode": "markers",
         "name": "Tool",
         "showlegend": true,
         "type": "scattergl",
         "x": [
          19.592769622802734,
          18.157060623168945,
          -17.602325439453125,
          -18.342824935913086,
          -36.91193771362305,
          2.5333750247955322,
          18.508808135986328,
          4.093194484710693,
          19.325092315673828,
          -35.60105895996094,
          3.6959781646728516,
          -17.586999893188477,
          -35.92148971557617,
          18.00973892211914,
          -36.13927459716797,
          -17.99526596069336,
          -17.816009521484375,
          2.5436580181121826,
          -35.574737548828125,
          19.51186180114746,
          38.568485260009766,
          40.36264419555664,
          41.68454360961914,
          47.72532272338867,
          36.8436393737793,
          38.16862106323242,
          32.29943084716797,
          46.01518630981445,
          29.506546020507812,
          34.17021179199219,
          18.54453468322754,
          24.556476593017578,
          29.278854370117188,
          35.72354507446289,
          29.073362350463867,
          33.90244674682617,
          32.0572509765625,
          34.16379928588867,
          33.47247314453125,
          -10.607192039489746,
          21.290491104125977,
          22.168920516967773
         ],
         "xaxis": "x",
         "y": [
          22.079118728637695,
          15.47199535369873,
          -13.01526165008545,
          -12.73526382446289,
          -25.80027961730957,
          1.1741740703582764,
          15.801764488220215,
          0.6393191814422607,
          10.184459686279297,
          -26.30588150024414,
          0.9275232553482056,
          -12.866697311401367,
          -26.117984771728516,
          15.06775951385498,
          -26.01858901977539,
          -13.035606384277344,
          -13.200194358825684,
          1.1490803956985474,
          -26.486886978149414,
          10.98381519317627,
          -6.656991004943848,
          -6.054942607879639,
          11.523416519165039,
          5.350210666656494,
          9.094236373901367,
          7.769369125366211,
          15.158801078796387,
          -0.6702143549919128,
          11.64206600189209,
          8.140229225158691,
          9.743342399597168,
          14.385887145996094,
          3.2004282474517822,
          -15.37462043762207,
          22.551034927368164,
          20.97209930419922,
          21.784936904907227,
          19.02751922607422,
          18.12813949584961,
          -0.3513791263103485,
          -3.403825521469116,
          -4.529536724090576
         ],
         "yaxis": "y"
        },
        {
         "customdata": [
          [
           "Train",
           "D01008.obj"
          ],
          [
           "Train",
           "D01014.obj"
          ],
          [
           "Train",
           "D01016.obj"
          ],
          [
           "Train",
           "D01031.obj"
          ],
          [
           "Train",
           "D01035.obj"
          ],
          [
           "Train",
           "D01047.obj"
          ],
          [
           "Train",
           "D01055.obj"
          ],
          [
           "Train",
           "D01059.obj"
          ],
          [
           "Train",
           "D01061.obj"
          ],
          [
           "Train",
           "D01064.obj"
          ],
          [
           "Train",
           "D01089.obj"
          ],
          [
           "Train",
           "D01094.obj"
          ],
          [
           "Train",
           "D01095.obj"
          ],
          [
           "Train",
           "D01134.obj"
          ],
          [
           "Train",
           "D01137.obj"
          ],
          [
           "Train",
           "D01149.obj"
          ],
          [
           "Train",
           "D01163.obj"
          ],
          [
           "Train",
           "D01180.obj"
          ],
          [
           "Train",
           "m1578.obj"
          ],
          [
           "Train",
           "m1580.obj"
          ],
          [
           "Train",
           "m1581.obj"
          ],
          [
           "Train",
           "m1582.obj"
          ],
          [
           "Train",
           "m1583.obj"
          ],
          [
           "Train",
           "m1584.obj"
          ],
          [
           "Train",
           "m1585.obj"
          ],
          [
           "Train",
           "m1586.obj"
          ],
          [
           "Train",
           "m1587.obj"
          ],
          [
           "Train",
           "m1588.obj"
          ]
         ],
         "hovertemplate": "Class=%{customdata[0]}<br>Principal Component 1=%{x}<br>Principal Component 2=%{y}<br>Name=%{customdata[1]}<extra></extra>",
         "legendgroup": "Train",
         "marker": {
          "color": "#EF553B",
          "symbol": "circle"
         },
         "mode": "markers",
         "name": "Train",
         "showlegend": true,
         "type": "scattergl",
         "x": [
          51.509700775146484,
          30.30005645751953,
          42.245750427246094,
          16.165977478027344,
          5.79259729385376,
          -28.275421142578125,
          -2.068445920944214,
          -9.861451148986816,
          -31.737689971923828,
          -31.60322380065918,
          6.099584102630615,
          -11.242799758911133,
          41.07267379760742,
          -8.433852195739746,
          38.344093322753906,
          30.323801040649414,
          -8.149946212768555,
          -8.03829574584961,
          -1.3722317218780518,
          -23.84982681274414,
          -2.812588930130005,
          -3.104487419128418,
          2.062115430831909,
          -10.963756561279297,
          -10.316817283630371,
          -8.469634056091309,
          -11.718868255615234,
          -2.842219352722168
         ],
         "xaxis": "x",
         "y": [
          -4.484836578369141,
          -5.796439170837402,
          -2.0301663875579834,
          4.651823997497559,
          29.16541862487793,
          4.323195457458496,
          -5.850036144256592,
          9.39687442779541,
          6.698680400848389,
          9.919416427612305,
          30.386152267456055,
          46.43088150024414,
          0.6113512516021729,
          42.85709762573242,
          9.91951847076416,
          -5.854889392852783,
          -1.813286304473877,
          1.7086005210876465,
          31.813783645629883,
          11.81984806060791,
          37.418479919433594,
          37.443641662597656,
          -11.507489204406738,
          22.751876831054688,
          -8.043352127075195,
          0.3572317957878113,
          -2.1477854251861572,
          15.221114158630371
         ],
         "yaxis": "y"
        },
        {
         "customdata": [
          [
           "Tree",
           "D00096.obj"
          ],
          [
           "Tree",
           "D00200.obj"
          ],
          [
           "Tree",
           "D00221.obj"
          ],
          [
           "Tree",
           "D00223.obj"
          ],
          [
           "Tree",
           "D00367.obj"
          ],
          [
           "Tree",
           "D00385.obj"
          ],
          [
           "Tree",
           "D00393.obj"
          ],
          [
           "Tree",
           "D00439.obj"
          ],
          [
           "Tree",
           "D00456.obj"
          ],
          [
           "Tree",
           "D00479.obj"
          ],
          [
           "Tree",
           "D00533.obj"
          ],
          [
           "Tree",
           "D00573.obj"
          ],
          [
           "Tree",
           "D00612.obj"
          ],
          [
           "Tree",
           "D00727.obj"
          ],
          [
           "Tree",
           "D00765.obj"
          ],
          [
           "Tree",
           "D00777.obj"
          ],
          [
           "Tree",
           "D00810.obj"
          ],
          [
           "Tree",
           "D00834.obj"
          ],
          [
           "Tree",
           "D00911.obj"
          ],
          [
           "Tree",
           "D00996.obj"
          ],
          [
           "Tree",
           "m1050.obj"
          ],
          [
           "Tree",
           "m1062.obj"
          ],
          [
           "Tree",
           "m1063.obj"
          ],
          [
           "Tree",
           "m1064.obj"
          ],
          [
           "Tree",
           "m1065.obj"
          ],
          [
           "Tree",
           "m1066.obj"
          ],
          [
           "Tree",
           "m1067.obj"
          ],
          [
           "Tree",
           "m1068.obj"
          ],
          [
           "Tree",
           "m1069.obj"
          ],
          [
           "Tree",
           "m1070.obj"
          ],
          [
           "Tree",
           "m1071.obj"
          ],
          [
           "Tree",
           "m1072.obj"
          ],
          [
           "Tree",
           "m1075.obj"
          ],
          [
           "Tree",
           "m1077.obj"
          ],
          [
           "Tree",
           "m1078.obj"
          ],
          [
           "Tree",
           "m1079.obj"
          ],
          [
           "Tree",
           "m1082.obj"
          ],
          [
           "Tree",
           "m1086.obj"
          ],
          [
           "Tree",
           "m1089.obj"
          ],
          [
           "Tree",
           "m1090.obj"
          ],
          [
           "Tree",
           "m1091.obj"
          ],
          [
           "Tree",
           "m1092.obj"
          ],
          [
           "Tree",
           "m1093.obj"
          ],
          [
           "Tree",
           "m1095.obj"
          ],
          [
           "Tree",
           "m1096.obj"
          ],
          [
           "Tree",
           "m1097.obj"
          ],
          [
           "Tree",
           "m1098.obj"
          ]
         ],
         "hovertemplate": "Class=%{customdata[0]}<br>Principal Component 1=%{x}<br>Principal Component 2=%{y}<br>Name=%{customdata[1]}<extra></extra>",
         "legendgroup": "Tree",
         "marker": {
          "color": "#00cc96",
          "symbol": "circle"
         },
         "mode": "markers",
         "name": "Tree",
         "showlegend": true,
         "type": "scattergl",
         "x": [
          15.931252479553223,
          32.023338317871094,
          -7.765048980712891,
          -22.27488899230957,
          2.1618027687072754,
          -14.682398796081543,
          -0.25470662117004395,
          -13.8705415725708,
          42.47109603881836,
          10.058192253112793,
          32.76549530029297,
          -7.186451435089111,
          19.574193954467773,
          -0.6082862019538879,
          2.70965576171875,
          15.573445320129395,
          -21.687740325927734,
          33.54463195800781,
          -5.896512508392334,
          -11.98988151550293,
          14.040472984313965,
          10.739001274108887,
          -28.55960464477539,
          31.186004638671875,
          31.523460388183594,
          44.322792053222656,
          11.567953109741211,
          -29.375764846801758,
          -6.620733261108398,
          42.59476089477539,
          10.7012939453125,
          29.650075912475586,
          7.069455146789551,
          1.3829362392425537,
          33.463260650634766,
          4.926469326019287,
          4.017700672149658,
          34.61600112915039,
          40.003623962402344,
          37.03755569458008,
          13.234522819519043,
          12.231035232543945,
          10.51248550415039,
          9.671534538269043,
          25.405807495117188,
          49.31342697143555,
          -25.193124771118164
         ],
         "xaxis": "x",
         "y": [
          -21.9101619720459,
          -29.125139236450195,
          -12.573533058166504,
          -19.575963973999023,
          -32.5257682800293,
          -25.368104934692383,
          -24.416034698486328,
          -29.11421012878418,
          -3.3409135341644287,
          -26.294504165649414,
          -28.661361694335938,
          -14.662179946899414,
          -28.030902862548828,
          -23.315053939819336,
          -26.63373565673828,
          -29.450674057006836,
          -20.627470016479492,
          -27.793773651123047,
          -11.918841361999512,
          -11.184113502502441,
          -26.392961502075195,
          -32.74601745605469,
          -27.23688507080078,
          -28.108688354492188,
          -27.561233520507812,
          -10.505491256713867,
          -32.4537467956543,
          -26.249608993530273,
          -29.338712692260742,
          -12.616325378417969,
          -31.164541244506836,
          -27.630990982055664,
          -33.36568832397461,
          -18.728612899780273,
          -9.999436378479004,
          37.952301025390625,
          30.794649124145508,
          -23.39724349975586,
          -5.7694196701049805,
          -22.59091567993164,
          -2.3467538356781006,
          -26.389041900634766,
          -32.81520462036133,
          -27.204345703125,
          -21.67372703552246,
          14.638643264770508,
          -20.55265998840332
         ],
         "yaxis": "y"
        },
        {
         "customdata": [
          [
           "Truck",
           "D00002.obj"
          ],
          [
           "Truck",
           "D00003.obj"
          ],
          [
           "Truck",
           "D00010.obj"
          ],
          [
           "Truck",
           "D00029.obj"
          ],
          [
           "Truck",
           "D00047.obj"
          ],
          [
           "Truck",
           "D00112.obj"
          ],
          [
           "Truck",
           "D00158.obj"
          ],
          [
           "Truck",
           "D00241.obj"
          ],
          [
           "Truck",
           "D00287.obj"
          ],
          [
           "Truck",
           "D00303.obj"
          ],
          [
           "Truck",
           "D00331.obj"
          ],
          [
           "Truck",
           "D00406.obj"
          ],
          [
           "Truck",
           "D00424.obj"
          ],
          [
           "Truck",
           "D00518.obj"
          ],
          [
           "Truck",
           "D00804.obj"
          ],
          [
           "Truck",
           "D00835.obj"
          ],
          [
           "Truck",
           "D00926.obj"
          ],
          [
           "Truck",
           "D00947.obj"
          ],
          [
           "Truck",
           "D00987.obj"
          ],
          [
           "Truck",
           "m1570.obj"
          ],
          [
           "Truck",
           "m1571.obj"
          ],
          [
           "Truck",
           "m1572.obj"
          ],
          [
           "Truck",
           "m1573.obj"
          ],
          [
           "Truck",
           "m1574.obj"
          ],
          [
           "Truck",
           "m1575.obj"
          ]
         ],
         "hovertemplate": "Class=%{customdata[0]}<br>Principal Component 1=%{x}<br>Principal Component 2=%{y}<br>Name=%{customdata[1]}<extra></extra>",
         "legendgroup": "Truck",
         "marker": {
          "color": "#ab63fa",
          "symbol": "circle"
         },
         "mode": "markers",
         "name": "Truck",
         "showlegend": true,
         "type": "scattergl",
         "x": [
          -10.90650463104248,
          -30.44763946533203,
          -13.54417896270752,
          -32.49897384643555,
          4.934378147125244,
          -32.67864227294922,
          -29.74445343017578,
          -11.815403938293457,
          -32.03666305541992,
          -28.106250762939453,
          48.95553970336914,
          -29.689048767089844,
          12.581300735473633,
          -12.922004699707031,
          -28.893579483032227,
          41.372520446777344,
          -31.598417282104492,
          -23.23491668701172,
          -20.435054779052734,
          -7.783153533935547,
          -6.733397960662842,
          0.9523922801017761,
          -5.828351020812988,
          -23.177034378051758,
          -28.95041275024414
         ],
         "xaxis": "x",
         "y": [
          37.1126823425293,
          9.538679122924805,
          46.46221160888672,
          14.36216926574707,
          2.7975730895996094,
          14.360479354858398,
          10.757574081420898,
          46.6016960144043,
          10.142585754394531,
          3.434429168701172,
          2.114250898361206,
          27.66058349609375,
          25.279491424560547,
          46.08750915527344,
          10.659960746765137,
          -3.8784923553466797,
          6.185018062591553,
          15.984837532043457,
          13.01404857635498,
          31.768482208251953,
          -16.265094757080078,
          34.2765998840332,
          14.610621452331543,
          16.60851287841797,
          -0.9967890381813049
         ],
         "yaxis": "y"
        },
        {
         "customdata": [
          [
           "TruckNonContainer",
           "D00055.obj"
          ],
          [
           "TruckNonContainer",
           "D00143.obj"
          ],
          [
           "TruckNonContainer",
           "D00252.obj"
          ],
          [
           "TruckNonContainer",
           "D00266.obj"
          ],
          [
           "TruckNonContainer",
           "D00267.obj"
          ],
          [
           "TruckNonContainer",
           "D00275.obj"
          ],
          [
           "TruckNonContainer",
           "D00283.obj"
          ],
          [
           "TruckNonContainer",
           "D00353.obj"
          ],
          [
           "TruckNonContainer",
           "D00553.obj"
          ],
          [
           "TruckNonContainer",
           "D00572.obj"
          ],
          [
           "TruckNonContainer",
           "D00608.obj"
          ],
          [
           "TruckNonContainer",
           "D00619.obj"
          ],
          [
           "TruckNonContainer",
           "D00699.obj"
          ],
          [
           "TruckNonContainer",
           "D00731.obj"
          ],
          [
           "TruckNonContainer",
           "D00783.obj"
          ],
          [
           "TruckNonContainer",
           "D00943.obj"
          ]
         ],
         "hovertemplate": "Class=%{customdata[0]}<br>Principal Component 1=%{x}<br>Principal Component 2=%{y}<br>Name=%{customdata[1]}<extra></extra>",
         "legendgroup": "TruckNonContainer",
         "marker": {
          "color": "#FFA15A",
          "symbol": "circle"
         },
         "mode": "markers",
         "name": "TruckNonContainer",
         "showlegend": true,
         "type": "scattergl",
         "x": [
          -35.049591064453125,
          -27.224462509155273,
          -14.81550121307373,
          -31.266822814941406,
          -31.413583755493164,
          -12.11517333984375,
          -34.989139556884766,
          -30.75983238220215,
          -23.989990234375,
          0.04106318578124046,
          -31.011571884155273,
          -30.835519790649414,
          -28.971450805664062,
          -6.416999340057373,
          -27.6398983001709,
          -27.917213439941406
         ],
         "xaxis": "x",
         "y": [
          12.247081756591797,
          3.9380476474761963,
          7.99065637588501,
          9.627152442932129,
          12.643362998962402,
          -7.131198883056641,
          13.977240562438965,
          5.656926155090332,
          12.355887413024902,
          -5.1012091636657715,
          13.21887493133545,
          13.625415802001953,
          5.105672836303711,
          -15.22900390625,
          10.048454284667969,
          10.0846586227417
         ],
         "yaxis": "y"
        },
        {
         "customdata": [
          [
           "Vase",
           "m527.obj"
          ],
          [
           "Vase",
           "m528.obj"
          ],
          [
           "Vase",
           "m531.obj"
          ],
          [
           "Vase",
           "m532.obj"
          ],
          [
           "Vase",
           "m533.obj"
          ],
          [
           "Vase",
           "m534.obj"
          ],
          [
           "Vase",
           "m535.obj"
          ],
          [
           "Vase",
           "m536.obj"
          ],
          [
           "Vase",
           "m537.obj"
          ],
          [
           "Vase",
           "m538.obj"
          ],
          [
           "Vase",
           "m539.obj"
          ],
          [
           "Vase",
           "m540.obj"
          ],
          [
           "Vase",
           "m541.obj"
          ],
          [
           "Vase",
           "m542.obj"
          ],
          [
           "Vase",
           "m543.obj"
          ],
          [
           "Vase",
           "m544.obj"
          ],
          [
           "Vase",
           "m545.obj"
          ],
          [
           "Vase",
           "m546.obj"
          ],
          [
           "Vase",
           "m547.obj"
          ]
         ],
         "hovertemplate": "Class=%{customdata[0]}<br>Principal Component 1=%{x}<br>Principal Component 2=%{y}<br>Name=%{customdata[1]}<extra></extra>",
         "legendgroup": "Vase",
         "marker": {
          "color": "#19d3f3",
          "symbol": "circle"
         },
         "mode": "markers",
         "name": "Vase",
         "showlegend": true,
         "type": "scattergl",
         "x": [
          -32.870147705078125,
          2.6253700256347656,
          0.5976859331130981,
          0.20969705283641815,
          -30.956504821777344,
          -26.339845657348633,
          -32.128150939941406,
          -9.705672264099121,
          -18.65565299987793,
          -24.934940338134766,
          -25.9248104095459,
          -41.64360427856445,
          -34.45421600341797,
          -39.61131286621094,
          -24.779186248779297,
          -26.248126983642578,
          -6.7820048332214355,
          -26.756546020507812,
          -21.004947662353516
         ],
         "xaxis": "x",
         "y": [
          28.421476364135742,
          -13.629281044006348,
          -20.701953887939453,
          25.655433654785156,
          -5.204051971435547,
          -11.17441463470459,
          -4.5615763664245605,
          28.553997039794922,
          27.815786361694336,
          0.28714853525161743,
          26.739749908447266,
          -8.845165252685547,
          32.79484558105469,
          -10.446794509887695,
          0.16166432201862335,
          -4.086419582366943,
          -5.449897289276123,
          -4.487185478210449,
          3.0166149139404297
         ],
         "yaxis": "y"
        },
        {
         "customdata": [
          [
           "Violin",
           "D00108.obj"
          ],
          [
           "Violin",
           "D00216.obj"
          ],
          [
           "Violin",
           "D00250.obj"
          ],
          [
           "Violin",
           "D00324.obj"
          ],
          [
           "Violin",
           "D00340.obj"
          ],
          [
           "Violin",
           "D00349.obj"
          ],
          [
           "Violin",
           "D00358.obj"
          ],
          [
           "Violin",
           "D00376.obj"
          ],
          [
           "Violin",
           "D00506.obj"
          ],
          [
           "Violin",
           "D00570.obj"
          ],
          [
           "Violin",
           "D00598.obj"
          ],
          [
           "Violin",
           "D00602.obj"
          ],
          [
           "Violin",
           "D00620.obj"
          ],
          [
           "Violin",
           "D00701.obj"
          ],
          [
           "Violin",
           "D00704.obj"
          ],
          [
           "Violin",
           "D00743.obj"
          ],
          [
           "Violin",
           "D00891.obj"
          ],
          [
           "Violin",
           "D00898.obj"
          ],
          [
           "Violin",
           "D00993.obj"
          ]
         ],
         "hovertemplate": "Class=%{customdata[0]}<br>Principal Component 1=%{x}<br>Principal Component 2=%{y}<br>Name=%{customdata[1]}<extra></extra>",
         "legendgroup": "Violin",
         "marker": {
          "color": "#FF6692",
          "symbol": "circle"
         },
         "mode": "markers",
         "name": "Violin",
         "showlegend": true,
         "type": "scattergl",
         "x": [
          32.60386276245117,
          18.022523880004883,
          5.292044639587402,
          32.78519821166992,
          6.558972358703613,
          4.03264045715332,
          -7.632702350616455,
          4.445969581604004,
          23.0964298248291,
          3.729843854904175,
          6.170576572418213,
          23.582014083862305,
          31.398576736450195,
          44.5000114440918,
          3.9571950435638428,
          4.079961776733398,
          29.537429809570312,
          7.681922912597656,
          11.432256698608398
         ],
         "xaxis": "x",
         "y": [
          19.940969467163086,
          18.3005428314209,
          32.996864318847656,
          -20.476316452026367,
          31.877031326293945,
          38.0455322265625,
          43.797203063964844,
          37.075721740722656,
          22.151775360107422,
          37.85446548461914,
          39.31438446044922,
          21.946670532226562,
          -8.917202949523926,
          0.0651714876294136,
          38.869625091552734,
          38.50917053222656,
          18.974443435668945,
          30.861696243286133,
          15.763574600219727
         ],
         "yaxis": "y"
        },
        {
         "customdata": [
          [
           "Wheel",
           "m733.obj"
          ],
          [
           "Wheel",
           "m734.obj"
          ],
          [
           "Wheel",
           "m735.obj"
          ],
          [
           "Wheel",
           "m736.obj"
          ],
          [
           "Wheel",
           "m738.obj"
          ],
          [
           "Wheel",
           "m739.obj"
          ],
          [
           "Wheel",
           "m740.obj"
          ],
          [
           "Wheel",
           "m741.obj"
          ],
          [
           "Wheel",
           "m742.obj"
          ],
          [
           "Wheel",
           "m743.obj"
          ],
          [
           "Wheel",
           "m744.obj"
          ],
          [
           "Wheel",
           "m745.obj"
          ],
          [
           "Wheel",
           "m746.obj"
          ],
          [
           "Wheel",
           "m747.obj"
          ],
          [
           "Wheel",
           "m748.obj"
          ],
          [
           "Wheel",
           "m749.obj"
          ]
         ],
         "hovertemplate": "Class=%{customdata[0]}<br>Principal Component 1=%{x}<br>Principal Component 2=%{y}<br>Name=%{customdata[1]}<extra></extra>",
         "legendgroup": "Wheel",
         "marker": {
          "color": "#B6E880",
          "symbol": "circle"
         },
         "mode": "markers",
         "name": "Wheel",
         "showlegend": true,
         "type": "scattergl",
         "x": [
          -17.929462432861328,
          -7.237975120544434,
          9.013379096984863,
          -10.121214866638184,
          -16.356367111206055,
          -27.333560943603516,
          -23.48015022277832,
          -33.51151657104492,
          -8.48786449432373,
          -6.386916637420654,
          -27.434547424316406,
          -27.184253692626953,
          -6.350924015045166,
          -6.228551387786865,
          -15.631584167480469,
          -5.337220191955566
         ],
         "xaxis": "x",
         "y": [
          4.747306823730469,
          -1.9739634990692139,
          -0.9283008575439453,
          -10.88591194152832,
          21.91501808166504,
          27.314666748046875,
          3.8218328952789307,
          28.87611961364746,
          37.66963577270508,
          38.89752960205078,
          27.234149932861328,
          28.024917602539062,
          -11.918302536010742,
          32.06815719604492,
          22.417089462280273,
          36.821922302246094
         ],
         "yaxis": "y"
        },
        {
         "customdata": [
          [
           "WheelChair",
           "D00004.obj"
          ],
          [
           "WheelChair",
           "D00070.obj"
          ],
          [
           "WheelChair",
           "D00088.obj"
          ],
          [
           "WheelChair",
           "D00183.obj"
          ],
          [
           "WheelChair",
           "D00203.obj"
          ],
          [
           "WheelChair",
           "D00274.obj"
          ],
          [
           "WheelChair",
           "D00290.obj"
          ],
          [
           "WheelChair",
           "D00365.obj"
          ],
          [
           "WheelChair",
           "D00394.obj"
          ],
          [
           "WheelChair",
           "D00449.obj"
          ],
          [
           "WheelChair",
           "D00453.obj"
          ],
          [
           "WheelChair",
           "D00499.obj"
          ],
          [
           "WheelChair",
           "D00526.obj"
          ],
          [
           "WheelChair",
           "D00604.obj"
          ],
          [
           "WheelChair",
           "D00628.obj"
          ],
          [
           "WheelChair",
           "D00687.obj"
          ],
          [
           "WheelChair",
           "D00720.obj"
          ],
          [
           "WheelChair",
           "D00782.obj"
          ],
          [
           "WheelChair",
           "D00821.obj"
          ],
          [
           "WheelChair",
           "D00846.obj"
          ]
         ],
         "hovertemplate": "Class=%{customdata[0]}<br>Principal Component 1=%{x}<br>Principal Component 2=%{y}<br>Name=%{customdata[1]}<extra></extra>",
         "legendgroup": "WheelChair",
         "marker": {
          "color": "#FF97FF",
          "symbol": "circle"
         },
         "mode": "markers",
         "name": "WheelChair",
         "showlegend": true,
         "type": "scattergl",
         "x": [
          -0.09955494105815887,
          -14.186203002929688,
          4.493923664093018,
          4.459502220153809,
          -0.6931905150413513,
          2.3128182888031006,
          5.033041477203369,
          1.6968075037002563,
          3.8241496086120605,
          -8.182015419006348,
          3.1556503772735596,
          7.10559606552124,
          -1.2301249504089355,
          7.495572090148926,
          -9.357964515686035,
          0.6179325580596924,
          2.4304261207580566,
          2.6189026832580566,
          0.6045076251029968,
          0.4126659631729126
         ],
         "xaxis": "x",
         "y": [
          -30.04932403564453,
          -0.9788945913314819,
          -15.633139610290527,
          -16.79216194152832,
          -16.299158096313477,
          -17.88620376586914,
          -14.907188415527344,
          -23.179216384887695,
          -14.801787376403809,
          -13.650242805480957,
          -17.441631317138672,
          -15.234016418457031,
          -25.240041732788086,
          -14.427397727966309,
          -28.575136184692383,
          -12.305130004882812,
          -10.818633079528809,
          -16.233983993530273,
          -12.294729232788086,
          -23.352962493896484
         ],
         "yaxis": "y"
        }
       ],
       "layout": {
        "legend": {
         "title": {
          "text": "Class"
         },
         "tracegroupgap": 0
        },
        "template": {
         "data": {
          "bar": [
           {
            "error_x": {
             "color": "#2a3f5f"
            },
            "error_y": {
             "color": "#2a3f5f"
            },
            "marker": {
             "line": {
              "color": "#E5ECF6",
              "width": 0.5
             },
             "pattern": {
              "fillmode": "overlay",
              "size": 10,
              "solidity": 0.2
             }
            },
            "type": "bar"
           }
          ],
          "barpolar": [
           {
            "marker": {
             "line": {
              "color": "#E5ECF6",
              "width": 0.5
             },
             "pattern": {
              "fillmode": "overlay",
              "size": 10,
              "solidity": 0.2
             }
            },
            "type": "barpolar"
           }
          ],
          "carpet": [
           {
            "aaxis": {
             "endlinecolor": "#2a3f5f",
             "gridcolor": "white",
             "linecolor": "white",
             "minorgridcolor": "white",
             "startlinecolor": "#2a3f5f"
            },
            "baxis": {
             "endlinecolor": "#2a3f5f",
             "gridcolor": "white",
             "linecolor": "white",
             "minorgridcolor": "white",
             "startlinecolor": "#2a3f5f"
            },
            "type": "carpet"
           }
          ],
          "choropleth": [
           {
            "colorbar": {
             "outlinewidth": 0,
             "ticks": ""
            },
            "type": "choropleth"
           }
          ],
          "contour": [
           {
            "colorbar": {
             "outlinewidth": 0,
             "ticks": ""
            },
            "colorscale": [
             [
              0,
              "#0d0887"
             ],
             [
              0.1111111111111111,
              "#46039f"
             ],
             [
              0.2222222222222222,
              "#7201a8"
             ],
             [
              0.3333333333333333,
              "#9c179e"
             ],
             [
              0.4444444444444444,
              "#bd3786"
             ],
             [
              0.5555555555555556,
              "#d8576b"
             ],
             [
              0.6666666666666666,
              "#ed7953"
             ],
             [
              0.7777777777777778,
              "#fb9f3a"
             ],
             [
              0.8888888888888888,
              "#fdca26"
             ],
             [
              1,
              "#f0f921"
             ]
            ],
            "type": "contour"
           }
          ],
          "contourcarpet": [
           {
            "colorbar": {
             "outlinewidth": 0,
             "ticks": ""
            },
            "type": "contourcarpet"
           }
          ],
          "heatmap": [
           {
            "colorbar": {
             "outlinewidth": 0,
             "ticks": ""
            },
            "colorscale": [
             [
              0,
              "#0d0887"
             ],
             [
              0.1111111111111111,
              "#46039f"
             ],
             [
              0.2222222222222222,
              "#7201a8"
             ],
             [
              0.3333333333333333,
              "#9c179e"
             ],
             [
              0.4444444444444444,
              "#bd3786"
             ],
             [
              0.5555555555555556,
              "#d8576b"
             ],
             [
              0.6666666666666666,
              "#ed7953"
             ],
             [
              0.7777777777777778,
              "#fb9f3a"
             ],
             [
              0.8888888888888888,
              "#fdca26"
             ],
             [
              1,
              "#f0f921"
             ]
            ],
            "type": "heatmap"
           }
          ],
          "heatmapgl": [
           {
            "colorbar": {
             "outlinewidth": 0,
             "ticks": ""
            },
            "colorscale": [
             [
              0,
              "#0d0887"
             ],
             [
              0.1111111111111111,
              "#46039f"
             ],
             [
              0.2222222222222222,
              "#7201a8"
             ],
             [
              0.3333333333333333,
              "#9c179e"
             ],
             [
              0.4444444444444444,
              "#bd3786"
             ],
             [
              0.5555555555555556,
              "#d8576b"
             ],
             [
              0.6666666666666666,
              "#ed7953"
             ],
             [
              0.7777777777777778,
              "#fb9f3a"
             ],
             [
              0.8888888888888888,
              "#fdca26"
             ],
             [
              1,
              "#f0f921"
             ]
            ],
            "type": "heatmapgl"
           }
          ],
          "histogram": [
           {
            "marker": {
             "pattern": {
              "fillmode": "overlay",
              "size": 10,
              "solidity": 0.2
             }
            },
            "type": "histogram"
           }
          ],
          "histogram2d": [
           {
            "colorbar": {
             "outlinewidth": 0,
             "ticks": ""
            },
            "colorscale": [
             [
              0,
              "#0d0887"
             ],
             [
              0.1111111111111111,
              "#46039f"
             ],
             [
              0.2222222222222222,
              "#7201a8"
             ],
             [
              0.3333333333333333,
              "#9c179e"
             ],
             [
              0.4444444444444444,
              "#bd3786"
             ],
             [
              0.5555555555555556,
              "#d8576b"
             ],
             [
              0.6666666666666666,
              "#ed7953"
             ],
             [
              0.7777777777777778,
              "#fb9f3a"
             ],
             [
              0.8888888888888888,
              "#fdca26"
             ],
             [
              1,
              "#f0f921"
             ]
            ],
            "type": "histogram2d"
           }
          ],
          "histogram2dcontour": [
           {
            "colorbar": {
             "outlinewidth": 0,
             "ticks": ""
            },
            "colorscale": [
             [
              0,
              "#0d0887"
             ],
             [
              0.1111111111111111,
              "#46039f"
             ],
             [
              0.2222222222222222,
              "#7201a8"
             ],
             [
              0.3333333333333333,
              "#9c179e"
             ],
             [
              0.4444444444444444,
              "#bd3786"
             ],
             [
              0.5555555555555556,
              "#d8576b"
             ],
             [
              0.6666666666666666,
              "#ed7953"
             ],
             [
              0.7777777777777778,
              "#fb9f3a"
             ],
             [
              0.8888888888888888,
              "#fdca26"
             ],
             [
              1,
              "#f0f921"
             ]
            ],
            "type": "histogram2dcontour"
           }
          ],
          "mesh3d": [
           {
            "colorbar": {
             "outlinewidth": 0,
             "ticks": ""
            },
            "type": "mesh3d"
           }
          ],
          "parcoords": [
           {
            "line": {
             "colorbar": {
              "outlinewidth": 0,
              "ticks": ""
             }
            },
            "type": "parcoords"
           }
          ],
          "pie": [
           {
            "automargin": true,
            "type": "pie"
           }
          ],
          "scatter": [
           {
            "fillpattern": {
             "fillmode": "overlay",
             "size": 10,
             "solidity": 0.2
            },
            "type": "scatter"
           }
          ],
          "scatter3d": [
           {
            "line": {
             "colorbar": {
              "outlinewidth": 0,
              "ticks": ""
             }
            },
            "marker": {
             "colorbar": {
              "outlinewidth": 0,
              "ticks": ""
             }
            },
            "type": "scatter3d"
           }
          ],
          "scattercarpet": [
           {
            "marker": {
             "colorbar": {
              "outlinewidth": 0,
              "ticks": ""
             }
            },
            "type": "scattercarpet"
           }
          ],
          "scattergeo": [
           {
            "marker": {
             "colorbar": {
              "outlinewidth": 0,
              "ticks": ""
             }
            },
            "type": "scattergeo"
           }
          ],
          "scattergl": [
           {
            "marker": {
             "colorbar": {
              "outlinewidth": 0,
              "ticks": ""
             }
            },
            "type": "scattergl"
           }
          ],
          "scattermapbox": [
           {
            "marker": {
             "colorbar": {
              "outlinewidth": 0,
              "ticks": ""
             }
            },
            "type": "scattermapbox"
           }
          ],
          "scatterpolar": [
           {
            "marker": {
             "colorbar": {
              "outlinewidth": 0,
              "ticks": ""
             }
            },
            "type": "scatterpolar"
           }
          ],
          "scatterpolargl": [
           {
            "marker": {
             "colorbar": {
              "outlinewidth": 0,
              "ticks": ""
             }
            },
            "type": "scatterpolargl"
           }
          ],
          "scatterternary": [
           {
            "marker": {
             "colorbar": {
              "outlinewidth": 0,
              "ticks": ""
             }
            },
            "type": "scatterternary"
           }
          ],
          "surface": [
           {
            "colorbar": {
             "outlinewidth": 0,
             "ticks": ""
            },
            "colorscale": [
             [
              0,
              "#0d0887"
             ],
             [
              0.1111111111111111,
              "#46039f"
             ],
             [
              0.2222222222222222,
              "#7201a8"
             ],
             [
              0.3333333333333333,
              "#9c179e"
             ],
             [
              0.4444444444444444,
              "#bd3786"
             ],
             [
              0.5555555555555556,
              "#d8576b"
             ],
             [
              0.6666666666666666,
              "#ed7953"
             ],
             [
              0.7777777777777778,
              "#fb9f3a"
             ],
             [
              0.8888888888888888,
              "#fdca26"
             ],
             [
              1,
              "#f0f921"
             ]
            ],
            "type": "surface"
           }
          ],
          "table": [
           {
            "cells": {
             "fill": {
              "color": "#EBF0F8"
             },
             "line": {
              "color": "white"
             }
            },
            "header": {
             "fill": {
              "color": "#C8D4E3"
             },
             "line": {
              "color": "white"
             }
            },
            "type": "table"
           }
          ]
         },
         "layout": {
          "annotationdefaults": {
           "arrowcolor": "#2a3f5f",
           "arrowhead": 0,
           "arrowwidth": 1
          },
          "autotypenumbers": "strict",
          "coloraxis": {
           "colorbar": {
            "outlinewidth": 0,
            "ticks": ""
           }
          },
          "colorscale": {
           "diverging": [
            [
             0,
             "#8e0152"
            ],
            [
             0.1,
             "#c51b7d"
            ],
            [
             0.2,
             "#de77ae"
            ],
            [
             0.3,
             "#f1b6da"
            ],
            [
             0.4,
             "#fde0ef"
            ],
            [
             0.5,
             "#f7f7f7"
            ],
            [
             0.6,
             "#e6f5d0"
            ],
            [
             0.7,
             "#b8e186"
            ],
            [
             0.8,
             "#7fbc41"
            ],
            [
             0.9,
             "#4d9221"
            ],
            [
             1,
             "#276419"
            ]
           ],
           "sequential": [
            [
             0,
             "#0d0887"
            ],
            [
             0.1111111111111111,
             "#46039f"
            ],
            [
             0.2222222222222222,
             "#7201a8"
            ],
            [
             0.3333333333333333,
             "#9c179e"
            ],
            [
             0.4444444444444444,
             "#bd3786"
            ],
            [
             0.5555555555555556,
             "#d8576b"
            ],
            [
             0.6666666666666666,
             "#ed7953"
            ],
            [
             0.7777777777777778,
             "#fb9f3a"
            ],
            [
             0.8888888888888888,
             "#fdca26"
            ],
            [
             1,
             "#f0f921"
            ]
           ],
           "sequentialminus": [
            [
             0,
             "#0d0887"
            ],
            [
             0.1111111111111111,
             "#46039f"
            ],
            [
             0.2222222222222222,
             "#7201a8"
            ],
            [
             0.3333333333333333,
             "#9c179e"
            ],
            [
             0.4444444444444444,
             "#bd3786"
            ],
            [
             0.5555555555555556,
             "#d8576b"
            ],
            [
             0.6666666666666666,
             "#ed7953"
            ],
            [
             0.7777777777777778,
             "#fb9f3a"
            ],
            [
             0.8888888888888888,
             "#fdca26"
            ],
            [
             1,
             "#f0f921"
            ]
           ]
          },
          "colorway": [
           "#636efa",
           "#EF553B",
           "#00cc96",
           "#ab63fa",
           "#FFA15A",
           "#19d3f3",
           "#FF6692",
           "#B6E880",
           "#FF97FF",
           "#FECB52"
          ],
          "font": {
           "color": "#2a3f5f"
          },
          "geo": {
           "bgcolor": "white",
           "lakecolor": "white",
           "landcolor": "#E5ECF6",
           "showlakes": true,
           "showland": true,
           "subunitcolor": "white"
          },
          "hoverlabel": {
           "align": "left"
          },
          "hovermode": "closest",
          "mapbox": {
           "style": "light"
          },
          "paper_bgcolor": "white",
          "plot_bgcolor": "#E5ECF6",
          "polar": {
           "angularaxis": {
            "gridcolor": "white",
            "linecolor": "white",
            "ticks": ""
           },
           "bgcolor": "#E5ECF6",
           "radialaxis": {
            "gridcolor": "white",
            "linecolor": "white",
            "ticks": ""
           }
          },
          "scene": {
           "xaxis": {
            "backgroundcolor": "#E5ECF6",
            "gridcolor": "white",
            "gridwidth": 2,
            "linecolor": "white",
            "showbackground": true,
            "ticks": "",
            "zerolinecolor": "white"
           },
           "yaxis": {
            "backgroundcolor": "#E5ECF6",
            "gridcolor": "white",
            "gridwidth": 2,
            "linecolor": "white",
            "showbackground": true,
            "ticks": "",
            "zerolinecolor": "white"
           },
           "zaxis": {
            "backgroundcolor": "#E5ECF6",
            "gridcolor": "white",
            "gridwidth": 2,
            "linecolor": "white",
            "showbackground": true,
            "ticks": "",
            "zerolinecolor": "white"
           }
          },
          "shapedefaults": {
           "line": {
            "color": "#2a3f5f"
           }
          },
          "ternary": {
           "aaxis": {
            "gridcolor": "white",
            "linecolor": "white",
            "ticks": ""
           },
           "baxis": {
            "gridcolor": "white",
            "linecolor": "white",
            "ticks": ""
           },
           "bgcolor": "#E5ECF6",
           "caxis": {
            "gridcolor": "white",
            "linecolor": "white",
            "ticks": ""
           }
          },
          "title": {
           "x": 0.05
          },
          "xaxis": {
           "automargin": true,
           "gridcolor": "white",
           "linecolor": "white",
           "ticks": "",
           "title": {
            "standoff": 15
           },
           "zerolinecolor": "white",
           "zerolinewidth": 2
          },
          "yaxis": {
           "automargin": true,
           "gridcolor": "white",
           "linecolor": "white",
           "ticks": "",
           "title": {
            "standoff": 15
           },
           "zerolinecolor": "white",
           "zerolinewidth": 2
          }
         }
        },
        "title": {
         "text": "TSNE-P perplexity - 40"
        },
        "xaxis": {
         "anchor": "y",
         "domain": [
          0,
          1
         ],
         "title": {
          "text": "Principal Component 1"
         }
        },
        "yaxis": {
         "anchor": "x",
         "domain": [
          0,
          1
         ],
         "title": {
          "text": "Principal Component 2"
         }
        }
       }
      }
     },
     "metadata": {},
     "output_type": "display_data"
    }
   ],
   "source": [
    "X_embedded = TSNE(n_components=2, learning_rate='auto',init='random', perplexity=40,early_exaggeration=20).fit_transform(X)\n",
    "tsne_df = pd.DataFrame(data=X_embedded, columns=['PCA1', 'PCA2'])\n",
    "tsne_df['Class'] = Y['class']  # Add the class labels\n",
    "tsne_df['Name']=Y[\"mesh_name\"]\n",
    "\n",
    "plot_data2(tsne_df,\"PCA1\",\"PCA2\",subset=None,title=\"TSNE-P perplexity - 40\",html_filename=\"plot_tsne_perplexity_40_complete.html\")"
   ]
  },
  {
   "cell_type": "code",
   "execution_count": 53,
   "metadata": {},
   "outputs": [
    {
     "data": {
      "image/png": "[encoded data removed]",
      "text/plain": [
       "<Figure size 1000x600 with 1 Axes>"
      ]
     },
     "metadata": {},
     "output_type": "display_data"
    }
   ],
   "source": [
    "perplexity = 40\n",
    "subs = [\"PlantIndoors\",\"HumanHead\",\"Chess\",\"Sword\",\"Biplane\",\"Hand\",\"Quadruped\",\"Tool\",\"Door\",\"Jet\"]\n",
    "plot_data(tsne_df,\"PCA1\",\"PCA2\",subset=subs, title=f\"TSNE - Perplexity={perplexity}\",html_filename=\"plot_tsne_selected_perplexity_40.html\")"
   ]
  },
  {
   "cell_type": "code",
   "execution_count": 58,
   "metadata": {},
   "outputs": [
    {
     "data": {
      "image/png": "[encoded data removed]",
      "text/plain": [
       "<Figure size 1000x600 with 1 Axes>"
      ]
     },
     "metadata": {},
     "output_type": "display_data"
    }
   ],
   "source": [
    "plot_data(tsne_df,\"PCA1\",\"PCA2\",subset=chunks[0],title=\"TSNE-P perplexity - 40\",html_filename=\"plot_tsne_perplexity_40.html\")"
   ]
  }
 ],
 "metadata": {
  "kernelspec": {
   "display_name": "infomr",
   "language": "python",
   "name": "python3"
  },
  "language_info": {
   "codemirror_mode": {
    "name": "ipython",
    "version": 3
   },
   "file_extension": ".py",
   "mimetype": "text/x-python",
   "name": "python",
   "nbconvert_exporter": "python",
   "pygments_lexer": "ipython3",
   "version": "3.8.19"
  }
 },
 "nbformat": 4,
 "nbformat_minor": 2
}
