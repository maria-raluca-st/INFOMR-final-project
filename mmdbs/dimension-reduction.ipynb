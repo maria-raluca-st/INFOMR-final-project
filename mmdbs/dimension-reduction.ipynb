{
 "cells": [
  {
   "cell_type": "code",
   "execution_count": 10,
   "metadata": {},
   "outputs": [],
   "source": [
    "import pandas as pd\n",
    "from matplotlib import figure\n",
    "import matplotlib.pyplot as plt\n",
    "import numpy as np\n",
    "import seaborn as sns\n",
    "import sklearn\n",
    "import plotly.express as px\n"
   ]
  },
  {
   "cell_type": "code",
   "execution_count": 3,
   "metadata": {},
   "outputs": [
    {
     "data": {
      "text/html": [
       "<div>\n",
       "<style scoped>\n",
       "    .dataframe tbody tr th:only-of-type {\n",
       "        vertical-align: middle;\n",
       "    }\n",
       "\n",
       "    .dataframe tbody tr th {\n",
       "        vertical-align: top;\n",
       "    }\n",
       "\n",
       "    .dataframe thead th {\n",
       "        text-align: right;\n",
       "    }\n",
       "</style>\n",
       "<table border=\"1\" class=\"dataframe\">\n",
       "  <thead>\n",
       "    <tr style=\"text-align: right;\">\n",
       "      <th></th>\n",
       "      <th>mesh_name</th>\n",
       "      <th>class</th>\n",
       "      <th>area</th>\n",
       "      <th>volume</th>\n",
       "      <th>rectangularity</th>\n",
       "      <th>compactness</th>\n",
       "      <th>convexity</th>\n",
       "      <th>eccentricity</th>\n",
       "      <th>diameter</th>\n",
       "      <th>A3_bin_0</th>\n",
       "      <th>...</th>\n",
       "      <th>D4_bin_center_20</th>\n",
       "      <th>D4_bin_center_21</th>\n",
       "      <th>D4_bin_center_22</th>\n",
       "      <th>D4_bin_center_23</th>\n",
       "      <th>D4_bin_center_24</th>\n",
       "      <th>D4_bin_center_25</th>\n",
       "      <th>D4_bin_center_26</th>\n",
       "      <th>D4_bin_center_27</th>\n",
       "      <th>D4_bin_center_28</th>\n",
       "      <th>D4_bin_center_29</th>\n",
       "    </tr>\n",
       "  </thead>\n",
       "  <tbody>\n",
       "    <tr>\n",
       "      <th>0</th>\n",
       "      <td>m1337.obj</td>\n",
       "      <td>AircraftBuoyant</td>\n",
       "      <td>2.567595</td>\n",
       "      <td>0.338307</td>\n",
       "      <td>0.401367</td>\n",
       "      <td>1.307688</td>\n",
       "      <td>0.859908</td>\n",
       "      <td>1.143945</td>\n",
       "      <td>1.033568</td>\n",
       "      <td>0.000000</td>\n",
       "      <td>...</td>\n",
       "      <td>0.666667</td>\n",
       "      <td>0.7</td>\n",
       "      <td>0.733333</td>\n",
       "      <td>0.766667</td>\n",
       "      <td>0.8</td>\n",
       "      <td>0.833333</td>\n",
       "      <td>0.866667</td>\n",
       "      <td>0.9</td>\n",
       "      <td>0.933333</td>\n",
       "      <td>0.966667</td>\n",
       "    </tr>\n",
       "    <tr>\n",
       "      <th>1</th>\n",
       "      <td>m1338.obj</td>\n",
       "      <td>AircraftBuoyant</td>\n",
       "      <td>3.314142</td>\n",
       "      <td>0.359405</td>\n",
       "      <td>0.391703</td>\n",
       "      <td>2.491678</td>\n",
       "      <td>0.836037</td>\n",
       "      <td>1.798762</td>\n",
       "      <td>1.047357</td>\n",
       "      <td>0.002276</td>\n",
       "      <td>...</td>\n",
       "      <td>0.666667</td>\n",
       "      <td>0.7</td>\n",
       "      <td>0.733333</td>\n",
       "      <td>0.766667</td>\n",
       "      <td>0.8</td>\n",
       "      <td>0.833333</td>\n",
       "      <td>0.866667</td>\n",
       "      <td>0.9</td>\n",
       "      <td>0.933333</td>\n",
       "      <td>0.966667</td>\n",
       "    </tr>\n",
       "    <tr>\n",
       "      <th>2</th>\n",
       "      <td>m1339.obj</td>\n",
       "      <td>AircraftBuoyant</td>\n",
       "      <td>3.172938</td>\n",
       "      <td>0.263182</td>\n",
       "      <td>0.677445</td>\n",
       "      <td>4.077757</td>\n",
       "      <td>1.562505</td>\n",
       "      <td>4.874752</td>\n",
       "      <td>1.000015</td>\n",
       "      <td>0.009857</td>\n",
       "      <td>...</td>\n",
       "      <td>0.666667</td>\n",
       "      <td>0.7</td>\n",
       "      <td>0.733333</td>\n",
       "      <td>0.766667</td>\n",
       "      <td>0.8</td>\n",
       "      <td>0.833333</td>\n",
       "      <td>0.866667</td>\n",
       "      <td>0.9</td>\n",
       "      <td>0.933333</td>\n",
       "      <td>0.966667</td>\n",
       "    </tr>\n",
       "    <tr>\n",
       "      <th>3</th>\n",
       "      <td>m1340.obj</td>\n",
       "      <td>AircraftBuoyant</td>\n",
       "      <td>0.561321</td>\n",
       "      <td>0.027836</td>\n",
       "      <td>0.217335</td>\n",
       "      <td>2.018231</td>\n",
       "      <td>0.610430</td>\n",
       "      <td>12.169459</td>\n",
       "      <td>0.999651</td>\n",
       "      <td>0.017274</td>\n",
       "      <td>...</td>\n",
       "      <td>0.666667</td>\n",
       "      <td>0.7</td>\n",
       "      <td>0.733333</td>\n",
       "      <td>0.766667</td>\n",
       "      <td>0.8</td>\n",
       "      <td>0.833333</td>\n",
       "      <td>0.866667</td>\n",
       "      <td>0.9</td>\n",
       "      <td>0.933333</td>\n",
       "      <td>0.966667</td>\n",
       "    </tr>\n",
       "    <tr>\n",
       "      <th>4</th>\n",
       "      <td>m1341.obj</td>\n",
       "      <td>AircraftBuoyant</td>\n",
       "      <td>0.671115</td>\n",
       "      <td>0.035075</td>\n",
       "      <td>0.251780</td>\n",
       "      <td>2.172427</td>\n",
       "      <td>0.686432</td>\n",
       "      <td>8.510702</td>\n",
       "      <td>0.998808</td>\n",
       "      <td>0.017117</td>\n",
       "      <td>...</td>\n",
       "      <td>0.666667</td>\n",
       "      <td>0.7</td>\n",
       "      <td>0.733333</td>\n",
       "      <td>0.766667</td>\n",
       "      <td>0.8</td>\n",
       "      <td>0.833333</td>\n",
       "      <td>0.866667</td>\n",
       "      <td>0.9</td>\n",
       "      <td>0.933333</td>\n",
       "      <td>0.966667</td>\n",
       "    </tr>\n",
       "  </tbody>\n",
       "</table>\n",
       "<p>5 rows × 309 columns</p>\n",
       "</div>"
      ],
      "text/plain": [
       "   mesh_name            class      area    volume  rectangularity  \\\n",
       "0  m1337.obj  AircraftBuoyant  2.567595  0.338307        0.401367   \n",
       "1  m1338.obj  AircraftBuoyant  3.314142  0.359405        0.391703   \n",
       "2  m1339.obj  AircraftBuoyant  3.172938  0.263182        0.677445   \n",
       "3  m1340.obj  AircraftBuoyant  0.561321  0.027836        0.217335   \n",
       "4  m1341.obj  AircraftBuoyant  0.671115  0.035075        0.251780   \n",
       "\n",
       "   compactness  convexity  eccentricity  diameter  A3_bin_0  ...  \\\n",
       "0     1.307688   0.859908      1.143945  1.033568  0.000000  ...   \n",
       "1     2.491678   0.836037      1.798762  1.047357  0.002276  ...   \n",
       "2     4.077757   1.562505      4.874752  1.000015  0.009857  ...   \n",
       "3     2.018231   0.610430     12.169459  0.999651  0.017274  ...   \n",
       "4     2.172427   0.686432      8.510702  0.998808  0.017117  ...   \n",
       "\n",
       "   D4_bin_center_20  D4_bin_center_21  D4_bin_center_22  D4_bin_center_23  \\\n",
       "0          0.666667               0.7          0.733333          0.766667   \n",
       "1          0.666667               0.7          0.733333          0.766667   \n",
       "2          0.666667               0.7          0.733333          0.766667   \n",
       "3          0.666667               0.7          0.733333          0.766667   \n",
       "4          0.666667               0.7          0.733333          0.766667   \n",
       "\n",
       "   D4_bin_center_24  D4_bin_center_25  D4_bin_center_26  D4_bin_center_27  \\\n",
       "0               0.8          0.833333          0.866667               0.9   \n",
       "1               0.8          0.833333          0.866667               0.9   \n",
       "2               0.8          0.833333          0.866667               0.9   \n",
       "3               0.8          0.833333          0.866667               0.9   \n",
       "4               0.8          0.833333          0.866667               0.9   \n",
       "\n",
       "   D4_bin_center_28  D4_bin_center_29  \n",
       "0          0.933333          0.966667  \n",
       "1          0.933333          0.966667  \n",
       "2          0.933333          0.966667  \n",
       "3          0.933333          0.966667  \n",
       "4          0.933333          0.966667  \n",
       "\n",
       "[5 rows x 309 columns]"
      ]
     },
     "execution_count": 3,
     "metadata": {},
     "output_type": "execute_result"
    }
   ],
   "source": [
    "df = pd.read_csv(\"mesh_features.csv\")\n",
    "df.head()"
   ]
  },
  {
   "cell_type": "code",
   "execution_count": 4,
   "metadata": {},
   "outputs": [],
   "source": [
    "def chunk_classes(classlist,size=12):\n",
    "    k = 0 #chunk index\n",
    "    j = 0 #chunk internal index\n",
    "    curchunk = []\n",
    "    chunks = []\n",
    "    for i in range(0,len(classlist)):\n",
    "        j = i%12\n",
    "        if(j==0 and i!=0):\n",
    "            k+=1\n",
    "            chunks.append(curchunk)\n",
    "            curchunk=[]\n",
    "        curchunk.append(classlist[i])\n",
    "\n",
    "    return chunks\n",
    "\n",
    "chunks = chunk_classes(df[\"class\"].unique())\n",
    "\n"
   ]
  },
  {
   "cell_type": "code",
   "execution_count": 5,
   "metadata": {},
   "outputs": [],
   "source": [
    "Y = df[[\"mesh_name\",\"class\"]]\n",
    "X = df.drop([\"mesh_name\",\"class\"],axis=1)"
   ]
  },
  {
   "cell_type": "code",
   "execution_count": 32,
   "metadata": {},
   "outputs": [],
   "source": [
    "def plot_data(df,xCol,yCol,subset=None, title=\"PCA of High-Dimensional Data\",axis1='Principal Component 1',axis2='Principal Component 2',export_html=True,html_filename=\"plot.html\"):\n",
    "    # Step 3: Scatter Plot\n",
    "    if(subset!=None):\n",
    "        dfsubs = df[df[\"Class\"].isin(subset)]\n",
    "    plt.figure(figsize=(10, 6))\n",
    "    sns.scatterplot(data=dfsubs, x=df[xCol], y=df[yCol], hue='Class', palette=sns.color_palette(), s=70, alpha=0.8)\n",
    "    plt.title(title)\n",
    "    plt.xlabel(axis1)\n",
    "    plt.ylabel(axis2)\n",
    "    plt.legend(title='Class')\n",
    "    plt.grid()\n",
    "    plt.show()\n",
    "\n",
    "\n",
    "\n",
    "def plot_data2(df, xCol, yCol, subset=None, title=\"PCA of High-Dimensional Data\", axis1='Principal Component 1', axis2='Principal Component 2',export_html=True,html_filename=\"plot.html\"):\n",
    "    # Filter the subset if specified\n",
    "    if subset is not None:\n",
    "        df = df[df[\"Class\"].isin(subset)]\n",
    "    \n",
    "    # Create the scatter plot\n",
    "    fig = px.scatter(\n",
    "        df,\n",
    "        x=xCol,\n",
    "        y=yCol,\n",
    "        color=\"Class\",\n",
    "        title=title,\n",
    "        labels={xCol: axis1, yCol: axis2},\n",
    "        hover_data=df.columns  # This will show all columns in the hover text\n",
    "    )\n",
    "    \n",
    "    # Update layout for better visualization\n",
    "    fig.update_layout(\n",
    "        xaxis_title=axis1,\n",
    "        yaxis_title=axis2,\n",
    "        legend_title_text=\"Class\"\n",
    "    )\n",
    "    if export_html:\n",
    "        fig.write_html(\"./plots/\"+html_filename)\n",
    "        print(f\"Plot saved as {html_filename}\")\n",
    "    fig.show()\n",
    "\n",
    "    "
   ]
  },
  {
   "cell_type": "code",
   "execution_count": 29,
   "metadata": {},
   "outputs": [
    {
     "name": "stdout",
     "output_type": "stream",
     "text": [
      "Plot saved as plot.html\n"
     ]
    },
    {
     "data": {
      "application/vnd.plotly.v1+json": {
       "config": {
        "plotlyServerURL": "https://plot.ly"
       },
       "data": [
        {
         "customdata": [
          [
           "AircraftBuoyant",
           "m1337.obj"
          ],
          [
           "AircraftBuoyant",
           "m1338.obj"
          ],
          [
           "AircraftBuoyant",
           "m1339.obj"
          ],
          [
           "AircraftBuoyant",
           "m1340.obj"
          ],
          [
           "AircraftBuoyant",
           "m1341.obj"
          ],
          [
           "AircraftBuoyant",
           "m1342.obj"
          ],
          [
           "AircraftBuoyant",
           "m1343.obj"
          ],
          [
           "AircraftBuoyant",
           "m1344.obj"
          ],
          [
           "AircraftBuoyant",
           "m1345.obj"
          ],
          [
           "AircraftBuoyant",
           "m1346.obj"
          ],
          [
           "AircraftBuoyant",
           "m1348.obj"
          ],
          [
           "AircraftBuoyant",
           "m1349.obj"
          ],
          [
           "AircraftBuoyant",
           "m1350.obj"
          ],
          [
           "AircraftBuoyant",
           "m1351.obj"
          ],
          [
           "AircraftBuoyant",
           "m1352.obj"
          ]
         ],
         "hovertemplate": "Class=%{customdata[0]}<br>Principal Component 1=%{x}<br>Principal Component 2=%{y}<br>Name=%{customdata[1]}<extra></extra>",
         "legendgroup": "AircraftBuoyant",
         "marker": {
          "color": "#636efa",
          "symbol": "circle"
         },
         "mode": "markers",
         "name": "AircraftBuoyant",
         "orientation": "v",
         "showlegend": true,
         "type": "scatter",
         "x": [
          -1.2245098870370019e+31,
          -1.2245098870371354e+31,
          -1.2245098870369791e+31,
          -1.2245098870369348e+31,
          -1.2245098870368983e+31,
          -1.2245098870369465e+31,
          -1.2245098870369688e+31,
          -1.2245098870369895e+31,
          -1.2245098870369003e+31,
          -1.2245098870369091e+31,
          -1.2245098870369084e+31,
          -1.2245098870369093e+31,
          -1.224509887036905e+31,
          -1.2245098870368771e+31,
          -1.2245098870368744e+31
         ],
         "xaxis": "x",
         "y": [
          -159.76996547956364,
          -159.11514900044932,
          -156.0391519102014,
          -148.74445290093945,
          -152.40320702199202,
          -157.89692854442643,
          -159.4379011821629,
          -157.97463867237352,
          -157.46070459097152,
          -145.475978035761,
          -145.70220965324995,
          -146.47972396430032,
          -146.1898156180775,
          -139.162438694105,
          -150.08537029280782
         ],
         "yaxis": "y"
        },
        {
         "customdata": [
          [
           "Apartment",
           "D00045.obj"
          ],
          [
           "Apartment",
           "D00086.obj"
          ],
          [
           "Apartment",
           "D00138.obj"
          ],
          [
           "Apartment",
           "D00156.obj"
          ],
          [
           "Apartment",
           "D00310.obj"
          ],
          [
           "Apartment",
           "D00348.obj"
          ],
          [
           "Apartment",
           "D00366.obj"
          ],
          [
           "Apartment",
           "D00478.obj"
          ],
          [
           "Apartment",
           "D00496.obj"
          ],
          [
           "Apartment",
           "D00626.obj"
          ],
          [
           "Apartment",
           "D00639.obj"
          ],
          [
           "Apartment",
           "D00651.obj"
          ],
          [
           "Apartment",
           "D00681.obj"
          ],
          [
           "Apartment",
           "D00780.obj"
          ],
          [
           "Apartment",
           "D00792.obj"
          ],
          [
           "Apartment",
           "D00859.obj"
          ],
          [
           "Apartment",
           "D00860.obj"
          ],
          [
           "Apartment",
           "D00869.obj"
          ],
          [
           "Apartment",
           "D00921.obj"
          ],
          [
           "Apartment",
           "D00953.obj"
          ],
          [
           "Apartment",
           "m463.obj"
          ],
          [
           "Apartment",
           "m464.obj"
          ],
          [
           "Apartment",
           "m465.obj"
          ]
         ],
         "hovertemplate": "Class=%{customdata[0]}<br>Principal Component 1=%{x}<br>Principal Component 2=%{y}<br>Name=%{customdata[1]}<extra></extra>",
         "legendgroup": "Apartment",
         "marker": {
          "color": "#EF553B",
          "symbol": "circle"
         },
         "mode": "markers",
         "name": "Apartment",
         "orientation": "v",
         "showlegend": true,
         "type": "scatter",
         "x": [
          -1.2245098870368744e+31,
          -1.2245098870368931e+31,
          -1.224509887036929e+31,
          -1.2245098870369136e+31,
          -1.2245098870368884e+31,
          -1.2245098870369814e+31,
          -1.2245098870370032e+31,
          -1.2245098870369395e+31,
          -1.2245098870369093e+31,
          -1.2245098870369442e+31,
          -1.224509887036936e+31,
          -1.2245098870369138e+31,
          -1.2245098870369156e+31,
          -1.2245098870369578e+31,
          -1.2245098870369967e+31,
          -1.2245098870369312e+31,
          -1.2245098870369364e+31,
          -1.2245098870369958e+31,
          -1.2245098870368852e+31,
          -1.2245098870368654e+31,
          -1.224509887036844e+31,
          -1.2245098870368897e+31,
          -1.2245098870369035e+31
         ],
         "xaxis": "x",
         "y": [
          -157.46779100133577,
          -148.30355774213015,
          -154.69858185173044,
          -153.62665484641684,
          -150.0338411753912,
          -158.31362712967436,
          -157.88378286977107,
          -155.71608285084403,
          -158.29071711846768,
          -151.93208669558956,
          -157.04945741582708,
          -153.63982008953485,
          -153.1562998791719,
          -137.63099682510253,
          -158.9293981786913,
          -149.1752240688902,
          -155.8206770388502,
          -156.8628342192297,
          -159.08423484158757,
          -158.79623555536435,
          -156.48206584950472,
          -142.55313845762603,
          -122.52776954836358
         ],
         "yaxis": "y"
        },
        {
         "customdata": [
          [
           "AquaticAnimal",
           "m53.obj"
          ],
          [
           "AquaticAnimal",
           "m54.obj"
          ],
          [
           "AquaticAnimal",
           "m55.obj"
          ],
          [
           "AquaticAnimal",
           "m56.obj"
          ],
          [
           "AquaticAnimal",
           "m57.obj"
          ],
          [
           "AquaticAnimal",
           "m58.obj"
          ],
          [
           "AquaticAnimal",
           "m59.obj"
          ],
          [
           "AquaticAnimal",
           "m60.obj"
          ],
          [
           "AquaticAnimal",
           "m61.obj"
          ],
          [
           "AquaticAnimal",
           "m62.obj"
          ],
          [
           "AquaticAnimal",
           "m63.obj"
          ],
          [
           "AquaticAnimal",
           "m64.obj"
          ],
          [
           "AquaticAnimal",
           "m65.obj"
          ],
          [
           "AquaticAnimal",
           "m66.obj"
          ],
          [
           "AquaticAnimal",
           "m67.obj"
          ],
          [
           "AquaticAnimal",
           "m68.obj"
          ],
          [
           "AquaticAnimal",
           "m69.obj"
          ],
          [
           "AquaticAnimal",
           "m70.obj"
          ],
          [
           "AquaticAnimal",
           "m71.obj"
          ],
          [
           "AquaticAnimal",
           "m72.obj"
          ],
          [
           "AquaticAnimal",
           "m73.obj"
          ],
          [
           "AquaticAnimal",
           "m74.obj"
          ],
          [
           "AquaticAnimal",
           "m75.obj"
          ],
          [
           "AquaticAnimal",
           "m76.obj"
          ],
          [
           "AquaticAnimal",
           "m77.obj"
          ],
          [
           "AquaticAnimal",
           "m78.obj"
          ],
          [
           "AquaticAnimal",
           "m79.obj"
          ],
          [
           "AquaticAnimal",
           "m80.obj"
          ],
          [
           "AquaticAnimal",
           "m81.obj"
          ]
         ],
         "hovertemplate": "Class=%{customdata[0]}<br>Principal Component 1=%{x}<br>Principal Component 2=%{y}<br>Name=%{customdata[1]}<extra></extra>",
         "legendgroup": "AquaticAnimal",
         "marker": {
          "color": "#00cc96",
          "symbol": "circle"
         },
         "mode": "markers",
         "name": "AquaticAnimal",
         "orientation": "v",
         "showlegend": true,
         "type": "scatter",
         "x": [
          -1.2245098870368918e+31,
          -1.2245098870368956e+31,
          -1.2245098870368954e+31,
          -1.2245098870369098e+31,
          -1.2245098870368931e+31,
          -1.2245098870368749e+31,
          -1.2245098870370462e+31,
          -1.2245098870369093e+31,
          -1.2245098870369204e+31,
          -1.2245098870369026e+31,
          -1.2245098870368913e+31,
          -1.2245098870369073e+31,
          -1.2245098870368922e+31,
          -1.2245098870368765e+31,
          -1.2245098870368837e+31,
          -1.2245098870369541e+31,
          -1.2245098870369553e+31,
          -1.2245098870369346e+31,
          -1.2245098870369044e+31,
          -1.224509887036936e+31,
          -1.2245098870368988e+31,
          -1.2245098870369177e+31,
          -1.2245098870369409e+31,
          -1.2245098870369163e+31,
          -1.2245098870368945e+31,
          -1.2245098870369156e+31,
          -1.22450988703695e+31,
          -1.2245098870369233e+31,
          -1.2245098870369445e+31
         ],
         "xaxis": "x",
         "y": [
          -87.32798300427588,
          -121.39204522864502,
          -104.10876807448153,
          -102.60594078707084,
          -75.8974031930803,
          -155.6755739698628,
          -123.01981575573394,
          -132.00465981254544,
          -136.39299083017949,
          -99.60331084942914,
          -158.53358539022574,
          -122.12360674459337,
          -135.1801312281101,
          -150.83641364702459,
          -91.36662691018807,
          -126.89791548926766,
          -134.78181344006876,
          -126.08961280413268,
          -144.0007130808274,
          -133.9638711924582,
          -145.24583339500734,
          -135.82536852041918,
          -144.54443722283892,
          -134.88983773973126,
          -136.1159886127225,
          -140.98616710730752,
          -120.95976840485226,
          -131.73203672898134,
          -137.23584384005625
         ],
         "yaxis": "y"
        },
        {
         "customdata": [
          [
           "Bed",
           "D00031.obj"
          ],
          [
           "Bed",
           "D00110.obj"
          ],
          [
           "Bed",
           "D00121.obj"
          ],
          [
           "Bed",
           "D00184.obj"
          ],
          [
           "Bed",
           "D00210.obj"
          ],
          [
           "Bed",
           "D00213.obj"
          ],
          [
           "Bed",
           "D00217.obj"
          ],
          [
           "Bed",
           "D00307.obj"
          ],
          [
           "Bed",
           "D00322.obj"
          ],
          [
           "Bed",
           "D00417.obj"
          ],
          [
           "Bed",
           "D00538.obj"
          ],
          [
           "Bed",
           "D00545.obj"
          ],
          [
           "Bed",
           "D00552.obj"
          ],
          [
           "Bed",
           "D00565.obj"
          ],
          [
           "Bed",
           "D00650.obj"
          ],
          [
           "Bed",
           "D00735.obj"
          ],
          [
           "Bed",
           "D00836.obj"
          ],
          [
           "Bed",
           "D00839.obj"
          ],
          [
           "Bed",
           "D00969.obj"
          ],
          [
           "Bed",
           "D00988.obj"
          ],
          [
           "Bed",
           "m945.obj"
          ],
          [
           "Bed",
           "m946.obj"
          ],
          [
           "Bed",
           "m947.obj"
          ],
          [
           "Bed",
           "m948.obj"
          ],
          [
           "Bed",
           "m949.obj"
          ],
          [
           "Bed",
           "m950.obj"
          ],
          [
           "Bed",
           "m951.obj"
          ]
         ],
         "hovertemplate": "Class=%{customdata[0]}<br>Principal Component 1=%{x}<br>Principal Component 2=%{y}<br>Name=%{customdata[1]}<extra></extra>",
         "legendgroup": "Bed",
         "marker": {
          "color": "#ab63fa",
          "symbol": "circle"
         },
         "mode": "markers",
         "name": "Bed",
         "orientation": "v",
         "showlegend": true,
         "type": "scatter",
         "x": [
          -1.2245098870369902e+31,
          -1.2245098870369875e+31,
          -1.224509887036981e+31,
          -1.2245098870369465e+31,
          -1.2245098870369569e+31,
          -1.2245098870369505e+31,
          -1.2245098870369697e+31,
          -1.2245098870369665e+31,
          -1.2245098870370032e+31,
          -1.2245098870369256e+31,
          -1.2245098870369807e+31,
          -1.2245098870369505e+31,
          -1.2245098870369274e+31,
          -1.2245098870369463e+31,
          -1.2245098870369863e+31,
          -1.2245098870369695e+31,
          -1.2245098870369546e+31,
          -1.2245098870369724e+31,
          -1.2245098870369701e+31,
          -1.2245098870369555e+31,
          -1.2245098870369084e+31,
          -1.2245098870369456e+31,
          -1.2245098870369927e+31,
          -1.224509887037004e+31,
          -1.224509887036902e+31,
          -1.2245098870370291e+31,
          -1.2245098870369177e+31
         ],
         "xaxis": "x",
         "y": [
          -133.14862107948517,
          -129.11237684654645,
          -147.08135405517743,
          -152.85714383029583,
          -145.72333083774768,
          -127.0475999622872,
          -133.26607803577636,
          -140.23277090266936,
          -127.2694173608562,
          -121.85369516653829,
          -146.87821311190908,
          -143.6217925256675,
          -155.53208002537082,
          -104.29059513498203,
          -139.92189475377458,
          -140.34457607437383,
          -148.97327089465014,
          -123.33970262118959,
          -151.00649342228203,
          -134.36759933543158,
          -154.76519170568568,
          -140.28249991101703,
          -142.5164032273958,
          -158.77930320780175,
          -153.56713648423082,
          -159.19190477819615,
          -131.44890559840417
         ],
         "yaxis": "y"
        },
        {
         "customdata": [
          [
           "Bicycle",
           "D00016.obj"
          ],
          [
           "Bicycle",
           "D00033.obj"
          ],
          [
           "Bicycle",
           "D00040.obj"
          ],
          [
           "Bicycle",
           "D00077.obj"
          ],
          [
           "Bicycle",
           "D00078.obj"
          ],
          [
           "Bicycle",
           "D00462.obj"
          ],
          [
           "Bicycle",
           "D00514.obj"
          ],
          [
           "Bicycle",
           "D00536.obj"
          ],
          [
           "Bicycle",
           "D00555.obj"
          ],
          [
           "Bicycle",
           "D00558.obj"
          ],
          [
           "Bicycle",
           "D00567.obj"
          ],
          [
           "Bicycle",
           "D00621.obj"
          ],
          [
           "Bicycle",
           "D00708.obj"
          ],
          [
           "Bicycle",
           "D00750.obj"
          ],
          [
           "Bicycle",
           "D00838.obj"
          ],
          [
           "Bicycle",
           "D00847.obj"
          ],
          [
           "Bicycle",
           "D00904.obj"
          ],
          [
           "Bicycle",
           "D00930.obj"
          ],
          [
           "Bicycle",
           "D00931.obj"
          ],
          [
           "Bicycle",
           "D00974.obj"
          ],
          [
           "Bicycle",
           "m1472.obj"
          ],
          [
           "Bicycle",
           "m1473.obj"
          ],
          [
           "Bicycle",
           "m1475.obj"
          ],
          [
           "Bicycle",
           "m1476.obj"
          ],
          [
           "Bicycle",
           "m1477.obj"
          ],
          [
           "Bicycle",
           "m1478.obj"
          ]
         ],
         "hovertemplate": "Class=%{customdata[0]}<br>Principal Component 1=%{x}<br>Principal Component 2=%{y}<br>Name=%{customdata[1]}<extra></extra>",
         "legendgroup": "Bicycle",
         "marker": {
          "color": "#FFA15A",
          "symbol": "circle"
         },
         "mode": "markers",
         "name": "Bicycle",
         "orientation": "v",
         "showlegend": true,
         "type": "scatter",
         "x": [
          -1.224509887036901e+31,
          -1.224509887036884e+31,
          -1.224509887036924e+31,
          -1.2245098870369096e+31,
          -1.224509887036902e+31,
          -1.2245098870368988e+31,
          -1.224509887036901e+31,
          -1.224509887036927e+31,
          -1.224509887036886e+31,
          -1.2245098870368994e+31,
          -1.2245098870368934e+31,
          -1.2245098870369044e+31,
          -1.224509887036914e+31,
          -1.224509887036897e+31,
          -1.2245098870369159e+31,
          -1.2245098870369035e+31,
          -1.2245098870368934e+31,
          -1.2245098870369145e+31,
          -1.2245098870368994e+31,
          -1.224509887036939e+31,
          -1.224509887036908e+31,
          -1.224509887036877e+31,
          -1.2245098870369438e+31,
          -1.2245098870369012e+31,
          -1.224509887036905e+31,
          -1.2245098870368783e+31
         ],
         "xaxis": "x",
         "y": [
          9.836941978097846,
          -65.79385935673548,
          -111.85380464094953,
          -97.16118451026627,
          -130.95627535441832,
          -95.04339624814298,
          -94.46540920039996,
          -147.22783069246563,
          -122.98109627489964,
          -99.21110858691279,
          -22.749216100031976,
          11.066422996750921,
          -94.95360704949618,
          -115.25595733854902,
          -93.48299537717813,
          -130.9336013074919,
          -48.01085082859646,
          -134.5921179125734,
          -104.82267002228751,
          -111.65914104422221,
          -123.03842731604578,
          -69.98168778477165,
          -111.67917373636202,
          -4.199920294158928,
          -131.14333690473052,
          -14.345397087423166
         ],
         "yaxis": "y"
        },
        {
         "customdata": [
          [
           "Biplane",
           "D00069.obj"
          ],
          [
           "Biplane",
           "D00132.obj"
          ],
          [
           "Biplane",
           "D00178.obj"
          ],
          [
           "Biplane",
           "D00199.obj"
          ],
          [
           "Biplane",
           "D00246.obj"
          ],
          [
           "Biplane",
           "D00276.obj"
          ],
          [
           "Biplane",
           "D00277.obj"
          ],
          [
           "Biplane",
           "D00320.obj"
          ],
          [
           "Biplane",
           "D00373.obj"
          ],
          [
           "Biplane",
           "D00410.obj"
          ],
          [
           "Biplane",
           "D00490.obj"
          ],
          [
           "Biplane",
           "D00515.obj"
          ],
          [
           "Biplane",
           "D00601.obj"
          ],
          [
           "Biplane",
           "D00616.obj"
          ],
          [
           "Biplane",
           "D00632.obj"
          ],
          [
           "Biplane",
           "D00634.obj"
          ],
          [
           "Biplane",
           "D00666.obj"
          ],
          [
           "Biplane",
           "D00854.obj"
          ],
          [
           "Biplane",
           "D00890.obj"
          ],
          [
           "Biplane",
           "D00900.obj"
          ],
          [
           "Biplane",
           "m1118.obj"
          ],
          [
           "Biplane",
           "m1119.obj"
          ],
          [
           "Biplane",
           "m1120.obj"
          ],
          [
           "Biplane",
           "m1121.obj"
          ],
          [
           "Biplane",
           "m1122.obj"
          ],
          [
           "Biplane",
           "m1123.obj"
          ],
          [
           "Biplane",
           "m1124.obj"
          ],
          [
           "Biplane",
           "m1126.obj"
          ],
          [
           "Biplane",
           "m1127.obj"
          ],
          [
           "Biplane",
           "m1128.obj"
          ],
          [
           "Biplane",
           "m1129.obj"
          ],
          [
           "Biplane",
           "m1131.obj"
          ],
          [
           "Biplane",
           "m1132.obj"
          ],
          [
           "Biplane",
           "m1133.obj"
          ],
          [
           "Biplane",
           "m1134.obj"
          ],
          [
           "Biplane",
           "m1135.obj"
          ],
          [
           "Biplane",
           "m1136.obj"
          ],
          [
           "Biplane",
           "m1137.obj"
          ],
          [
           "Biplane",
           "m1138.obj"
          ],
          [
           "Biplane",
           "m1139.obj"
          ],
          [
           "Biplane",
           "m1141.obj"
          ],
          [
           "Biplane",
           "m1143.obj"
          ],
          [
           "Biplane",
           "m1144.obj"
          ],
          [
           "Biplane",
           "m1146.obj"
          ]
         ],
         "hovertemplate": "Class=%{customdata[0]}<br>Principal Component 1=%{x}<br>Principal Component 2=%{y}<br>Name=%{customdata[1]}<extra></extra>",
         "legendgroup": "Biplane",
         "marker": {
          "color": "#19d3f3",
          "symbol": "circle"
         },
         "mode": "markers",
         "name": "Biplane",
         "orientation": "v",
         "showlegend": true,
         "type": "scatter",
         "x": [
          -1.2245098870368792e+31,
          -1.224509887036928e+31,
          -1.2245098870369503e+31,
          -1.2245098870369084e+31,
          -1.2245098870369845e+31,
          -1.2245098870369145e+31,
          -1.2245098870369827e+31,
          -1.2245098870369415e+31,
          -1.224509887036909e+31,
          -1.2245098870369249e+31,
          -1.2245098870369145e+31,
          -1.2245098870369375e+31,
          -1.2245098870369174e+31,
          -1.2245098870369233e+31,
          -1.2245098870369364e+31,
          -1.2245098870369406e+31,
          -1.2245098870369127e+31,
          -1.2245098870369638e+31,
          -1.2245098870369258e+31,
          -1.2245098870369537e+31,
          -1.2245098870369053e+31,
          -1.224509887036909e+31,
          -1.224509887036922e+31,
          -1.22450988703691e+31,
          -1.2245098870369287e+31,
          -1.224509887036896e+31,
          -1.2245098870368857e+31,
          -1.2245098870369114e+31,
          -1.2245098870369206e+31,
          -1.2245098870369186e+31,
          -1.2245098870369188e+31,
          -1.2245098870369217e+31,
          -1.2245098870369028e+31,
          -1.2245098870369386e+31,
          -1.2245098870369143e+31,
          -1.2245098870368913e+31,
          -1.2245098870369114e+31,
          -1.2245098870369262e+31,
          -1.224509887036916e+31,
          -1.2245098870369035e+31,
          -1.224509887036959e+31,
          -1.2245098870368438e+31,
          -1.2245098870369276e+31,
          -1.2245098870369132e+31
         ],
         "xaxis": "x",
         "y": [
          -152.61257436927866,
          -129.53483426937424,
          -148.03126624470556,
          -152.79997533851147,
          -144.10288168940156,
          -156.2154179696348,
          -155.3099253987241,
          -152.13538416551157,
          -147.91367518499592,
          -142.51047712675296,
          -149.43815941280198,
          -152.55237726200292,
          -157.48362901466984,
          -142.18212862313624,
          -152.21571195154448,
          -153.96919534939434,
          -147.16414378908257,
          -153.68857526979204,
          -145.30965406614646,
          -151.7463055560739,
          -147.81810965667424,
          -154.17288323633647,
          -144.3584690002431,
          -153.44781447803012,
          -151.92947310139402,
          -150.556542036015,
          -145.89420439502777,
          -150.7898787247301,
          -148.22923628981573,
          -147.32181528264812,
          -152.29548932424237,
          -147.96247830268265,
          -140.35043916362505,
          -152.2157032700188,
          -117.91140677533205,
          -135.9199795464279,
          -152.50283077213055,
          -117.97581846614443,
          -155.6932827862122,
          -154.51703587344878,
          -154.6032504389385,
          -145.07719013851016,
          -153.52358585913163,
          -129.41893731538818
         ],
         "yaxis": "y"
        },
        {
         "customdata": [
          [
           "Bird",
           "D00089.obj"
          ],
          [
           "Bird",
           "D00113.obj"
          ],
          [
           "Bird",
           "D00164.obj"
          ],
          [
           "Bird",
           "D00234.obj"
          ],
          [
           "Bird",
           "D00271.obj"
          ],
          [
           "Bird",
           "D00284.obj"
          ],
          [
           "Bird",
           "D00323.obj"
          ],
          [
           "Bird",
           "D00386.obj"
          ],
          [
           "Bird",
           "D00438.obj"
          ],
          [
           "Bird",
           "D00442.obj"
          ],
          [
           "Bird",
           "D00546.obj"
          ],
          [
           "Bird",
           "D00599.obj"
          ],
          [
           "Bird",
           "D00625.obj"
          ],
          [
           "Bird",
           "D00689.obj"
          ],
          [
           "Bird",
           "D00736.obj"
          ],
          [
           "Bird",
           "D00762.obj"
          ],
          [
           "Bird",
           "D00862.obj"
          ],
          [
           "Bird",
           "D00922.obj"
          ],
          [
           "Bird",
           "D00961.obj"
          ],
          [
           "Bird",
           "D00999.obj"
          ],
          [
           "Bird",
           "m28.obj"
          ],
          [
           "Bird",
           "m29.obj"
          ],
          [
           "Bird",
           "m30.obj"
          ],
          [
           "Bird",
           "m31.obj"
          ],
          [
           "Bird",
           "m32.obj"
          ],
          [
           "Bird",
           "m33.obj"
          ],
          [
           "Bird",
           "m34.obj"
          ],
          [
           "Bird",
           "m35.obj"
          ],
          [
           "Bird",
           "m36.obj"
          ],
          [
           "Bird",
           "m37.obj"
          ],
          [
           "Bird",
           "m38.obj"
          ],
          [
           "Bird",
           "m39.obj"
          ],
          [
           "Bird",
           "m40.obj"
          ],
          [
           "Bird",
           "m41.obj"
          ],
          [
           "Bird",
           "m42.obj"
          ],
          [
           "Bird",
           "m43.obj"
          ],
          [
           "Bird",
           "m44.obj"
          ],
          [
           "Bird",
           "m45.obj"
          ],
          [
           "Bird",
           "m47.obj"
          ],
          [
           "Bird",
           "m48.obj"
          ],
          [
           "Bird",
           "m50.obj"
          ],
          [
           "Bird",
           "m51.obj"
          ],
          [
           "Bird",
           "m52.obj"
          ]
         ],
         "hovertemplate": "Class=%{customdata[0]}<br>Principal Component 1=%{x}<br>Principal Component 2=%{y}<br>Name=%{customdata[1]}<extra></extra>",
         "legendgroup": "Bird",
         "marker": {
          "color": "#FF6692",
          "symbol": "circle"
         },
         "mode": "markers",
         "name": "Bird",
         "orientation": "v",
         "showlegend": true,
         "type": "scatter",
         "x": [
          -1.2245098870369096e+31,
          -1.2245098870369125e+31,
          -1.2245098870369174e+31,
          -1.2245098870369256e+31,
          -1.2245098870368825e+31,
          -1.2245098870369487e+31,
          -1.2245098870369368e+31,
          -1.2245098870369521e+31,
          -1.224509887036918e+31,
          -1.2245098870368798e+31,
          -1.224509887036954e+31,
          -1.224509887036929e+31,
          -1.2245098870369174e+31,
          -1.224509887036921e+31,
          -1.224509887036925e+31,
          -1.2245098870368994e+31,
          -1.2245098870369078e+31,
          -1.2245098870369138e+31,
          -1.2245098870369159e+31,
          -1.224509887036952e+31,
          -1.2245098870369226e+31,
          -1.2245098870369073e+31,
          -1.2245098870369064e+31,
          -1.2245098870369138e+31,
          -1.2245098870368803e+31,
          -1.2245098870369e+31,
          -1.224509887036908e+31,
          -1.22450988703699e+31,
          -1.2245098870368814e+31,
          -1.2245098870369154e+31,
          -1.2245098870369546e+31,
          -1.224509887036914e+31,
          -1.224509887036923e+31,
          -1.2245098870369143e+31,
          -1.2245098870369292e+31,
          -1.2245098870369427e+31,
          -1.2245098870369114e+31,
          -1.2245098870369487e+31,
          -1.2245098870369355e+31,
          -1.2245098870368819e+31,
          -1.2245098870368877e+31,
          -1.2245098870368819e+31,
          -1.2245098870368893e+31
         ],
         "xaxis": "x",
         "y": [
          -151.96710821539418,
          -157.74841409319606,
          -155.203513325599,
          -150.78705120610786,
          -147.98393005721803,
          -156.04907299140754,
          447.0322504085082,
          36.60882711314367,
          -96.12598144531088,
          -158.02231704412642,
          -125.87435226095099,
          -64.23937958261472,
          -154.0770982330834,
          -143.1540356344228,
          -116.61935148672151,
          -154.98998582042537,
          -117.8057823517009,
          -155.31626339690203,
          -95.21428261037461,
          -49.75618701308793,
          -153.67633743743295,
          -143.76957721747416,
          -146.21501737279436,
          -153.46072778050376,
          -151.7911859186655,
          -156.39182034497495,
          -152.1378333023808,
          -158.723569093111,
          -157.88000933088972,
          -152.86696778179353,
          -60.34977134676945,
          -140.24663256866637,
          -143.3569597014059,
          -96.0792110576836,
          -145.04600414619918,
          -154.01893781625742,
          -120.69530728677823,
          -156.00467502033962,
          -107.9458326285716,
          -154.40349552305966,
          -154.5861540145948,
          -156.07100968599664,
          -158.237783019025
         ],
         "yaxis": "y"
        },
        {
         "customdata": [
          [
           "Bookset",
           "D01009.obj"
          ],
          [
           "Bookset",
           "D01013.obj"
          ],
          [
           "Bookset",
           "D01030.obj"
          ],
          [
           "Bookset",
           "D01038.obj"
          ],
          [
           "Bookset",
           "D01042.obj"
          ],
          [
           "Bookset",
           "D01050.obj"
          ],
          [
           "Bookset",
           "D01065.obj"
          ],
          [
           "Bookset",
           "D01096.obj"
          ],
          [
           "Bookset",
           "D01108.obj"
          ],
          [
           "Bookset",
           "D01110.obj"
          ],
          [
           "Bookset",
           "D01122.obj"
          ],
          [
           "Bookset",
           "D01135.obj"
          ],
          [
           "Bookset",
           "D01146.obj"
          ],
          [
           "Bookset",
           "D01182.obj"
          ],
          [
           "Bookset",
           "D01183.obj"
          ],
          [
           "Bookset",
           "D01184.obj"
          ],
          [
           "Bookset",
           "D01190.obj"
          ],
          [
           "Bookset",
           "D01199.obj"
          ]
         ],
         "hovertemplate": "Class=%{customdata[0]}<br>Principal Component 1=%{x}<br>Principal Component 2=%{y}<br>Name=%{customdata[1]}<extra></extra>",
         "legendgroup": "Bookset",
         "marker": {
          "color": "#B6E880",
          "symbol": "circle"
         },
         "mode": "markers",
         "name": "Bookset",
         "orientation": "v",
         "showlegend": true,
         "type": "scatter",
         "x": [
          -1.2245098870368866e+31,
          -1.224509887036869e+31,
          -1.224509887036932e+31,
          -1.2245098870368985e+31,
          -1.224509887036909e+31,
          -1.22450988703698e+31,
          -1.224509887036873e+31,
          -1.2245098870368897e+31,
          -1.224509887036933e+31,
          -1.224509887036887e+31,
          -1.2245098870369285e+31,
          -1.2245098870368756e+31,
          -1.2245098870370336e+31,
          -1.224509887036854e+31,
          -1.2245098870369746e+31,
          -1.2245098870368992e+31,
          -1.2245098870368596e+31,
          -1.2245098870368913e+31
         ],
         "xaxis": "x",
         "y": [
          -154.05341989588013,
          -158.38209616320523,
          -159.0562669703097,
          -127.0001057945039,
          -156.05947504562403,
          -157.55555186967322,
          -158.16165622581315,
          -158.58290692853495,
          -155.66446848126583,
          -159.01719399907262,
          -159.2266231194119,
          -152.58159782465376,
          -158.69884554885365,
          -157.40580480090506,
          -158.51804273905927,
          -158.9645285335383,
          -153.26326814990352,
          -158.61959731560708
         ],
         "yaxis": "y"
        },
        {
         "customdata": [
          [
           "Bottle",
           "D00020.obj"
          ],
          [
           "Bottle",
           "D00123.obj"
          ],
          [
           "Bottle",
           "D00139.obj"
          ],
          [
           "Bottle",
           "D00166.obj"
          ],
          [
           "Bottle",
           "D00176.obj"
          ],
          [
           "Bottle",
           "D00208.obj"
          ],
          [
           "Bottle",
           "D00281.obj"
          ],
          [
           "Bottle",
           "D00311.obj"
          ],
          [
           "Bottle",
           "D00350.obj"
          ],
          [
           "Bottle",
           "D00390.obj"
          ],
          [
           "Bottle",
           "D00451.obj"
          ],
          [
           "Bottle",
           "D00679.obj"
          ],
          [
           "Bottle",
           "D00696.obj"
          ],
          [
           "Bottle",
           "D00711.obj"
          ],
          [
           "Bottle",
           "D00716.obj"
          ],
          [
           "Bottle",
           "D00726.obj"
          ],
          [
           "Bottle",
           "D00892.obj"
          ],
          [
           "Bottle",
           "D00940.obj"
          ],
          [
           "Bottle",
           "D00959.obj"
          ],
          [
           "Bottle",
           "m482.obj"
          ],
          [
           "Bottle",
           "m483.obj"
          ],
          [
           "Bottle",
           "m484.obj"
          ],
          [
           "Bottle",
           "m485.obj"
          ],
          [
           "Bottle",
           "m486.obj"
          ],
          [
           "Bottle",
           "m487.obj"
          ],
          [
           "Bottle",
           "m488.obj"
          ],
          [
           "Bottle",
           "m489.obj"
          ],
          [
           "Bottle",
           "m490.obj"
          ],
          [
           "Bottle",
           "m491.obj"
          ]
         ],
         "hovertemplate": "Class=%{customdata[0]}<br>Principal Component 1=%{x}<br>Principal Component 2=%{y}<br>Name=%{customdata[1]}<extra></extra>",
         "legendgroup": "Bottle",
         "marker": {
          "color": "#FF97FF",
          "symbol": "circle"
         },
         "mode": "markers",
         "name": "Bottle",
         "orientation": "v",
         "showlegend": true,
         "type": "scatter",
         "x": [
          -1.224509887036911e+31,
          -1.2245098870369064e+31,
          -1.2245098870369048e+31,
          -1.2245098870369433e+31,
          -1.2245098870369204e+31,
          -1.2245098870369069e+31,
          -1.2245098870368823e+31,
          -1.2245098870369352e+31,
          -1.2245098870369123e+31,
          -1.2245098870369215e+31,
          -1.224509887036983e+31,
          -1.2245098870368965e+31,
          -1.224509887036976e+31,
          -1.2245098870369496e+31,
          -1.2245098870368938e+31,
          -1.22450988703704e+31,
          -1.2245098870369233e+31,
          -1.2245098870369474e+31,
          -1.2245098870368963e+31,
          -1.224509887036884e+31,
          -1.224509887036918e+31,
          -1.2245098870368841e+31,
          -1.2245098870368902e+31,
          -1.224509887036936e+31,
          -1.2245098870369233e+31,
          -1.2245098870369082e+31,
          -1.2245098870368702e+31,
          -1.2245098870368681e+31,
          -1.2245098870369688e+31
         ],
         "xaxis": "x",
         "y": [
          -150.03061939608347,
          -135.8782214054796,
          -142.75443078210847,
          -146.74644919613283,
          -142.40756694601646,
          -146.25901090905148,
          -149.6273509863559,
          -154.50448440839403,
          -144.02363220372047,
          -156.8004245712893,
          -152.3272730386848,
          -126.41160486625962,
          -142.2804632537738,
          -155.9495502909769,
          -137.19850643653945,
          -151.3408178247527,
          -143.83352312008873,
          -155.49481680765388,
          -139.03712488256312,
          -150.57678692802222,
          -144.7659916833099,
          -151.71866596663722,
          -150.48818019087904,
          -139.49940474374344,
          -146.65625266634925,
          -154.9333728531483,
          -154.49790532768264,
          -157.0833112680482,
          -153.78515108881197
         ],
         "yaxis": "y"
        },
        {
         "customdata": [
          [
           "BuildingNonResidential",
           "m382.obj"
          ],
          [
           "BuildingNonResidential",
           "m383.obj"
          ],
          [
           "BuildingNonResidential",
           "m384.obj"
          ],
          [
           "BuildingNonResidential",
           "m385.obj"
          ],
          [
           "BuildingNonResidential",
           "m386.obj"
          ],
          [
           "BuildingNonResidential",
           "m387.obj"
          ],
          [
           "BuildingNonResidential",
           "m390.obj"
          ],
          [
           "BuildingNonResidential",
           "m391.obj"
          ],
          [
           "BuildingNonResidential",
           "m392.obj"
          ],
          [
           "BuildingNonResidential",
           "m393.obj"
          ],
          [
           "BuildingNonResidential",
           "m394.obj"
          ],
          [
           "BuildingNonResidential",
           "m395.obj"
          ],
          [
           "BuildingNonResidential",
           "m396.obj"
          ],
          [
           "BuildingNonResidential",
           "m397.obj"
          ],
          [
           "BuildingNonResidential",
           "m398.obj"
          ],
          [
           "BuildingNonResidential",
           "m399.obj"
          ],
          [
           "BuildingNonResidential",
           "m400.obj"
          ],
          [
           "BuildingNonResidential",
           "m401.obj"
          ],
          [
           "BuildingNonResidential",
           "m402.obj"
          ],
          [
           "BuildingNonResidential",
           "m404.obj"
          ],
          [
           "BuildingNonResidential",
           "m405.obj"
          ],
          [
           "BuildingNonResidential",
           "m406.obj"
          ],
          [
           "BuildingNonResidential",
           "m407.obj"
          ],
          [
           "BuildingNonResidential",
           "m408.obj"
          ],
          [
           "BuildingNonResidential",
           "m409.obj"
          ],
          [
           "BuildingNonResidential",
           "m410.obj"
          ],
          [
           "BuildingNonResidential",
           "m412.obj"
          ],
          [
           "BuildingNonResidential",
           "m413.obj"
          ],
          [
           "BuildingNonResidential",
           "m414.obj"
          ],
          [
           "BuildingNonResidential",
           "m415.obj"
          ],
          [
           "BuildingNonResidential",
           "m416.obj"
          ],
          [
           "BuildingNonResidential",
           "m418.obj"
          ],
          [
           "BuildingNonResidential",
           "m420.obj"
          ],
          [
           "BuildingNonResidential",
           "m421.obj"
          ],
          [
           "BuildingNonResidential",
           "m470.obj"
          ],
          [
           "BuildingNonResidential",
           "m471.obj"
          ],
          [
           "BuildingNonResidential",
           "m472.obj"
          ],
          [
           "BuildingNonResidential",
           "m474.obj"
          ],
          [
           "BuildingNonResidential",
           "m475.obj"
          ],
          [
           "BuildingNonResidential",
           "m477.obj"
          ],
          [
           "BuildingNonResidential",
           "m478.obj"
          ],
          [
           "BuildingNonResidential",
           "m479.obj"
          ],
          [
           "BuildingNonResidential",
           "m481.obj"
          ]
         ],
         "hovertemplate": "Class=%{customdata[0]}<br>Principal Component 1=%{x}<br>Principal Component 2=%{y}<br>Name=%{customdata[1]}<extra></extra>",
         "legendgroup": "BuildingNonResidential",
         "marker": {
          "color": "#FECB52",
          "symbol": "circle"
         },
         "mode": "markers",
         "name": "BuildingNonResidential",
         "orientation": "v",
         "showlegend": true,
         "type": "scatter",
         "x": [
          -1.2245098870370095e+31,
          -1.2245098870368717e+31,
          -1.2245098870368515e+31,
          -1.2245098870369355e+31,
          -1.2245098870369893e+31,
          -1.2245098870369755e+31,
          -1.2245098870370334e+31,
          -1.2245098870369454e+31,
          -1.2245098870368936e+31,
          -1.2245098870369875e+31,
          -1.224509887037059e+31,
          -1.2245098870370775e+31,
          -1.224509887037004e+31,
          -1.2245098870370303e+31,
          -1.224509887036886e+31,
          -1.22450988703683e+31,
          -1.2245098870369298e+31,
          -1.224509887036859e+31,
          -1.2245098870368776e+31,
          -1.2245098870368422e+31,
          -1.2245098870369339e+31,
          -1.2245098870368634e+31,
          -1.2245098870369918e+31,
          -1.2245098870368945e+31,
          -1.2245098870368648e+31,
          -1.2245098870368762e+31,
          -1.2245098870369066e+31,
          -1.224509887036867e+31,
          -1.2245098870369447e+31,
          -1.224509887036857e+31,
          -1.224509887036862e+31,
          -1.2245098870370075e+31,
          -1.224509887036923e+31,
          -1.2245098870369364e+31,
          -1.22450988703694e+31,
          -1.2245098870369174e+31,
          -1.2245098870369433e+31,
          -1.22450988703696e+31,
          -1.224509887036886e+31,
          -1.2245098870369e+31,
          -1.2245098870369062e+31,
          -1.2245098870368915e+31,
          -1.2245098870368902e+31
         ],
         "xaxis": "x",
         "y": [
          -156.47527271255763,
          -158.099220204924,
          -149.81180630122742,
          -158.43442658784545,
          -158.04473358780737,
          -151.69211193607566,
          -157.96771121217253,
          -157.140631540541,
          -155.28157179629468,
          -159.07265189031668,
          -159.20625212559594,
          -159.48408378749883,
          -159.8289432930514,
          -159.11824325489752,
          -156.6583411876747,
          -156.3166160717427,
          -157.90096061738907,
          -146.01495900525006,
          -158.89367781715458,
          -157.1402620513437,
          -158.10072068099208,
          -159.4204036325241,
          -159.03591924597242,
          -152.50921159701835,
          -116.49529987079866,
          -153.9907818952816,
          -110.78464883472586,
          -159.6006971229999,
          -157.42121010273772,
          -159.09277076233013,
          -150.0290900078024,
          -157.0456511344171,
          -152.14779179401535,
          -141.1355546746246,
          -120.08309887545926,
          -146.6023502689114,
          -149.4197341115042,
          -157.49170590638786,
          -156.77222382807224,
          -149.64375022585855,
          -127.04281253910565,
          -141.05700030906843,
          -145.84690321621
         ],
         "yaxis": "y"
        },
        {
         "customdata": [
          [
           "Bus",
           "D00084.obj"
          ],
          [
           "Bus",
           "D00114.obj"
          ],
          [
           "Bus",
           "D00151.obj"
          ],
          [
           "Bus",
           "D00179.obj"
          ],
          [
           "Bus",
           "D00182.obj"
          ],
          [
           "Bus",
           "D00264.obj"
          ],
          [
           "Bus",
           "D00436.obj"
          ],
          [
           "Bus",
           "D00448.obj"
          ],
          [
           "Bus",
           "D00483.obj"
          ],
          [
           "Bus",
           "D00677.obj"
          ],
          [
           "Bus",
           "D00754.obj"
          ],
          [
           "Bus",
           "D00769.obj"
          ],
          [
           "Bus",
           "D00775.obj"
          ],
          [
           "Bus",
           "D00815.obj"
          ],
          [
           "Bus",
           "D00823.obj"
          ],
          [
           "Bus",
           "D00832.obj"
          ],
          [
           "Bus",
           "D00857.obj"
          ]
         ],
         "hovertemplate": "Class=%{customdata[0]}<br>Principal Component 1=%{x}<br>Principal Component 2=%{y}<br>Name=%{customdata[1]}<extra></extra>",
         "legendgroup": "Bus",
         "marker": {
          "color": "#636efa",
          "symbol": "circle"
         },
         "mode": "markers",
         "name": "Bus",
         "orientation": "v",
         "showlegend": true,
         "type": "scatter",
         "x": [
          -1.224509887036975e+31,
          -1.224509887036855e+31,
          -1.2245098870369183e+31,
          -1.2245098870368906e+31,
          -1.224509887036906e+31,
          -1.224509887036937e+31,
          -1.2245098870369285e+31,
          -1.2245098870369008e+31,
          -1.2245098870368947e+31,
          -1.2245098870368485e+31,
          -1.2245098870369048e+31,
          -1.224509887036879e+31,
          -1.2245098870368555e+31,
          -1.2245098870368607e+31,
          -1.224509887036846e+31,
          -1.2245098870369283e+31,
          -1.224509887036924e+31
         ],
         "xaxis": "x",
         "y": [
          1631.9336157162036,
          -152.42065368293632,
          -140.10468620053172,
          -132.05720203018922,
          -134.04400041085486,
          -102.99479360833568,
          -150.00333612111174,
          -148.41017669941496,
          -152.00822084371976,
          -155.16660044082195,
          -132.73359915171264,
          -138.25821611985245,
          -148.63951085663015,
          -146.45869220754133,
          -134.11347204531853,
          -154.58639454935073,
          -140.0553702910562
         ],
         "yaxis": "y"
        },
        {
         "customdata": [
          [
           "Car",
           "D00168.obj"
          ],
          [
           "Car",
           "D00236.obj"
          ],
          [
           "Car",
           "D00260.obj"
          ],
          [
           "Car",
           "D00265.obj"
          ],
          [
           "Car",
           "D00299.obj"
          ],
          [
           "Car",
           "D00377.obj"
          ],
          [
           "Car",
           "D00405.obj"
          ],
          [
           "Car",
           "D00452.obj"
          ],
          [
           "Car",
           "D00504.obj"
          ],
          [
           "Car",
           "D00541.obj"
          ],
          [
           "Car",
           "D00618.obj"
          ],
          [
           "Car",
           "D00670.obj"
          ],
          [
           "Car",
           "D00671.obj"
          ],
          [
           "Car",
           "D00724.obj"
          ],
          [
           "Car",
           "D00767.obj"
          ],
          [
           "Car",
           "D00785.obj"
          ],
          [
           "Car",
           "D00793.obj"
          ],
          [
           "Car",
           "D00803.obj"
          ],
          [
           "Car",
           "D00865.obj"
          ],
          [
           "Car",
           "D00976.obj"
          ],
          [
           "Car",
           "m1485.obj"
          ],
          [
           "Car",
           "m1486.obj"
          ],
          [
           "Car",
           "m1487.obj"
          ],
          [
           "Car",
           "m1488.obj"
          ],
          [
           "Car",
           "m1489.obj"
          ],
          [
           "Car",
           "m1490.obj"
          ],
          [
           "Car",
           "m1492.obj"
          ],
          [
           "Car",
           "m1495.obj"
          ],
          [
           "Car",
           "m1496.obj"
          ],
          [
           "Car",
           "m1497.obj"
          ],
          [
           "Car",
           "m1498.obj"
          ],
          [
           "Car",
           "m1499.obj"
          ],
          [
           "Car",
           "m1500.obj"
          ],
          [
           "Car",
           "m1502.obj"
          ],
          [
           "Car",
           "m1503.obj"
          ],
          [
           "Car",
           "m1504.obj"
          ],
          [
           "Car",
           "m1505.obj"
          ],
          [
           "Car",
           "m1506.obj"
          ],
          [
           "Car",
           "m1507.obj"
          ],
          [
           "Car",
           "m1508.obj"
          ],
          [
           "Car",
           "m1509.obj"
          ],
          [
           "Car",
           "m1510.obj"
          ],
          [
           "Car",
           "m1511.obj"
          ],
          [
           "Car",
           "m1512.obj"
          ],
          [
           "Car",
           "m1513.obj"
          ],
          [
           "Car",
           "m1514.obj"
          ],
          [
           "Car",
           "m1515.obj"
          ],
          [
           "Car",
           "m1516.obj"
          ],
          [
           "Car",
           "m1517.obj"
          ],
          [
           "Car",
           "m1518.obj"
          ],
          [
           "Car",
           "m1519.obj"
          ],
          [
           "Car",
           "m1521.obj"
          ],
          [
           "Car",
           "m1522.obj"
          ],
          [
           "Car",
           "m1523.obj"
          ],
          [
           "Car",
           "m1524.obj"
          ],
          [
           "Car",
           "m1525.obj"
          ],
          [
           "Car",
           "m1526.obj"
          ],
          [
           "Car",
           "m1527.obj"
          ],
          [
           "Car",
           "m1528.obj"
          ],
          [
           "Car",
           "m1529.obj"
          ],
          [
           "Car",
           "m1530.obj"
          ],
          [
           "Car",
           "m1531.obj"
          ],
          [
           "Car",
           "m1532.obj"
          ],
          [
           "Car",
           "m1533.obj"
          ],
          [
           "Car",
           "m1535.obj"
          ],
          [
           "Car",
           "m1536.obj"
          ],
          [
           "Car",
           "m1538.obj"
          ],
          [
           "Car",
           "m1539.obj"
          ],
          [
           "Car",
           "m1540.obj"
          ],
          [
           "Car",
           "m1542.obj"
          ],
          [
           "Car",
           "m1543.obj"
          ],
          [
           "Car",
           "m1544.obj"
          ],
          [
           "Car",
           "m1545.obj"
          ],
          [
           "Car",
           "m1546.obj"
          ],
          [
           "Car",
           "m1547.obj"
          ],
          [
           "Car",
           "m1548.obj"
          ],
          [
           "Car",
           "m1550.obj"
          ],
          [
           "Car",
           "m1551.obj"
          ],
          [
           "Car",
           "m1552.obj"
          ],
          [
           "Car",
           "m1553.obj"
          ],
          [
           "Car",
           "m1555.obj"
          ],
          [
           "Car",
           "m1556.obj"
          ],
          [
           "Car",
           "m1557.obj"
          ],
          [
           "Car",
           "m1558.obj"
          ],
          [
           "Car",
           "m1559.obj"
          ],
          [
           "Car",
           "m1560.obj"
          ],
          [
           "Car",
           "m1561.obj"
          ],
          [
           "Car",
           "m1562.obj"
          ],
          [
           "Car",
           "m1563.obj"
          ]
         ],
         "hovertemplate": "Class=%{customdata[0]}<br>Principal Component 1=%{x}<br>Principal Component 2=%{y}<br>Name=%{customdata[1]}<extra></extra>",
         "legendgroup": "Car",
         "marker": {
          "color": "#EF553B",
          "symbol": "circle"
         },
         "mode": "markers",
         "name": "Car",
         "orientation": "v",
         "showlegend": true,
         "type": "scatter",
         "x": [
          -1.2245098870369386e+31,
          -1.2245098870369242e+31,
          -1.2245098870369285e+31,
          -1.2245098870369208e+31,
          -1.224509887036977e+31,
          -1.2245098870369343e+31,
          -1.2245098870369402e+31,
          -1.224509887036966e+31,
          -1.2245098870369677e+31,
          -1.2245098870369287e+31,
          -1.2245098870368997e+31,
          -1.224509887036897e+31,
          -1.2245098870369073e+31,
          -1.224509887036946e+31,
          -1.2245098870369607e+31,
          -1.22450988703696e+31,
          -1.2245098870369262e+31,
          -1.2245098870369017e+31,
          -1.2245098870369415e+31,
          -1.2245098870369728e+31,
          -1.2245098870369796e+31,
          -1.2245098870369573e+31,
          -1.2245098870370044e+31,
          -1.2245098870369415e+31,
          -1.224509887036923e+31,
          -1.2245098870369409e+31,
          -1.224509887036878e+31,
          -1.224509887036928e+31,
          -1.2245098870369422e+31,
          -1.2245098870369042e+31,
          -1.224509887036886e+31,
          -1.2245098870369127e+31,
          -1.2245098870369237e+31,
          -1.2245098870369226e+31,
          -1.2245098870369415e+31,
          -1.224509887036884e+31,
          -1.224509887036924e+31,
          -1.2245098870369458e+31,
          -1.2245098870369337e+31,
          -1.2245098870368963e+31,
          -1.2245098870369447e+31,
          -1.224509887036886e+31,
          -1.2245098870369163e+31,
          -1.2245098870369152e+31,
          -1.2245098870369168e+31,
          -1.224509887036914e+31,
          -1.224509887036914e+31,
          -1.224509887036905e+31,
          -1.2245098870369172e+31,
          -1.2245098870369046e+31,
          -1.224509887036898e+31,
          -1.2245098870368965e+31,
          -1.2245098870369053e+31,
          -1.2245098870368945e+31,
          -1.2245098870369069e+31,
          -1.224509887036945e+31,
          -1.2245098870368918e+31,
          -1.2245098870368997e+31,
          -1.2245098870368972e+31,
          -1.2245098870369163e+31,
          -1.2245098870368938e+31,
          -1.2245098870368947e+31,
          -1.2245098870369343e+31,
          -1.2245098870369323e+31,
          -1.224509887036914e+31,
          -1.2245098870369143e+31,
          -1.2245098870368938e+31,
          -1.2245098870369314e+31,
          -1.2245098870369465e+31,
          -1.2245098870369125e+31,
          -1.2245098870369042e+31,
          -1.2245098870368846e+31,
          -1.2245098870369114e+31,
          -1.2245098870369438e+31,
          -1.2245098870369431e+31,
          -1.2245098870369096e+31,
          -1.2245098870369276e+31,
          -1.2245098870369386e+31,
          -1.224509887036903e+31,
          -1.2245098870368922e+31,
          -1.224509887036884e+31,
          -1.2245098870370881e+31,
          -1.2245098870369744e+31,
          -1.224509887036946e+31,
          -1.224509887036957e+31,
          -1.2245098870369206e+31,
          -1.2245098870369303e+31,
          -1.2245098870369812e+31,
          -1.224509887036945e+31
         ],
         "xaxis": "x",
         "y": [
          -138.55516908423598,
          -154.21250744886248,
          -151.2794369787403,
          -140.74635755601705,
          -154.96537317075203,
          -134.88640676317394,
          -150.70771803460403,
          -151.0526704652249,
          -135.1541414009434,
          -152.8123919954873,
          -138.82298894117773,
          -136.54548402868514,
          -140.63141141725163,
          -152.3130214932576,
          -148.17552216575575,
          -150.4965877400145,
          -141.3312178749046,
          -127.17883026267396,
          -146.28387019029486,
          -143.95149549806573,
          -147.1664703587339,
          -150.91763962577937,
          -145.54692194680447,
          -152.17694635234093,
          -155.36368124748384,
          -152.49951697733462,
          -156.02927606396457,
          -137.5404458860931,
          -139.8349589052851,
          -131.1352532128036,
          -129.62348259462283,
          -152.27751625131282,
          -146.70441648645902,
          -111.5239829410779,
          -73.14190138326322,
          -117.03261181945514,
          -93.95252298576389,
          -125.951508007872,
          -76.4269552155535,
          -92.23691049382604,
          -138.60255872114297,
          -114.0706238647789,
          -106.29681597876936,
          -109.92582453142019,
          -130.8967614491829,
          -122.12447389719104,
          -121.76352678481341,
          -132.95884345290543,
          -147.93384082649408,
          -135.17755023936147,
          -140.45988758193272,
          -139.03557093075588,
          -143.9675789699637,
          -141.75847491916429,
          -149.00694571994808,
          -127.61667803245514,
          -142.15382654444937,
          -130.63869291951423,
          -141.11235835506773,
          -148.13905343124577,
          -145.59438436748414,
          -149.30061916876215,
          -152.6304880939326,
          -119.11412575228445,
          -132.932468418625,
          -149.36444822985973,
          -142.42246766171812,
          -134.91117383234504,
          -113.70077053447399,
          -148.72697202034044,
          -144.3435993291555,
          -125.72583722298056,
          -137.7047299539364,
          -129.63713743462458,
          -135.94401030530878,
          -137.70473005781196,
          -133.36595839230478,
          -129.63177713833866,
          -141.81629815646482,
          -143.97433538137966,
          -152.4646864311355,
          54.675228939745196,
          -142.16863334346195,
          -131.1181091127592,
          -152.6878035247803,
          -155.43329522365013,
          -155.6117296538771,
          -156.5614611433714,
          -153.00323157135915
         ],
         "yaxis": "y"
        }
       ],
       "layout": {
        "legend": {
         "title": {
          "text": "Class"
         },
         "tracegroupgap": 0
        },
        "template": {
         "data": {
          "bar": [
           {
            "error_x": {
             "color": "#2a3f5f"
            },
            "error_y": {
             "color": "#2a3f5f"
            },
            "marker": {
             "line": {
              "color": "#E5ECF6",
              "width": 0.5
             },
             "pattern": {
              "fillmode": "overlay",
              "size": 10,
              "solidity": 0.2
             }
            },
            "type": "bar"
           }
          ],
          "barpolar": [
           {
            "marker": {
             "line": {
              "color": "#E5ECF6",
              "width": 0.5
             },
             "pattern": {
              "fillmode": "overlay",
              "size": 10,
              "solidity": 0.2
             }
            },
            "type": "barpolar"
           }
          ],
          "carpet": [
           {
            "aaxis": {
             "endlinecolor": "#2a3f5f",
             "gridcolor": "white",
             "linecolor": "white",
             "minorgridcolor": "white",
             "startlinecolor": "#2a3f5f"
            },
            "baxis": {
             "endlinecolor": "#2a3f5f",
             "gridcolor": "white",
             "linecolor": "white",
             "minorgridcolor": "white",
             "startlinecolor": "#2a3f5f"
            },
            "type": "carpet"
           }
          ],
          "choropleth": [
           {
            "colorbar": {
             "outlinewidth": 0,
             "ticks": ""
            },
            "type": "choropleth"
           }
          ],
          "contour": [
           {
            "colorbar": {
             "outlinewidth": 0,
             "ticks": ""
            },
            "colorscale": [
             [
              0,
              "#0d0887"
             ],
             [
              0.1111111111111111,
              "#46039f"
             ],
             [
              0.2222222222222222,
              "#7201a8"
             ],
             [
              0.3333333333333333,
              "#9c179e"
             ],
             [
              0.4444444444444444,
              "#bd3786"
             ],
             [
              0.5555555555555556,
              "#d8576b"
             ],
             [
              0.6666666666666666,
              "#ed7953"
             ],
             [
              0.7777777777777778,
              "#fb9f3a"
             ],
             [
              0.8888888888888888,
              "#fdca26"
             ],
             [
              1,
              "#f0f921"
             ]
            ],
            "type": "contour"
           }
          ],
          "contourcarpet": [
           {
            "colorbar": {
             "outlinewidth": 0,
             "ticks": ""
            },
            "type": "contourcarpet"
           }
          ],
          "heatmap": [
           {
            "colorbar": {
             "outlinewidth": 0,
             "ticks": ""
            },
            "colorscale": [
             [
              0,
              "#0d0887"
             ],
             [
              0.1111111111111111,
              "#46039f"
             ],
             [
              0.2222222222222222,
              "#7201a8"
             ],
             [
              0.3333333333333333,
              "#9c179e"
             ],
             [
              0.4444444444444444,
              "#bd3786"
             ],
             [
              0.5555555555555556,
              "#d8576b"
             ],
             [
              0.6666666666666666,
              "#ed7953"
             ],
             [
              0.7777777777777778,
              "#fb9f3a"
             ],
             [
              0.8888888888888888,
              "#fdca26"
             ],
             [
              1,
              "#f0f921"
             ]
            ],
            "type": "heatmap"
           }
          ],
          "heatmapgl": [
           {
            "colorbar": {
             "outlinewidth": 0,
             "ticks": ""
            },
            "colorscale": [
             [
              0,
              "#0d0887"
             ],
             [
              0.1111111111111111,
              "#46039f"
             ],
             [
              0.2222222222222222,
              "#7201a8"
             ],
             [
              0.3333333333333333,
              "#9c179e"
             ],
             [
              0.4444444444444444,
              "#bd3786"
             ],
             [
              0.5555555555555556,
              "#d8576b"
             ],
             [
              0.6666666666666666,
              "#ed7953"
             ],
             [
              0.7777777777777778,
              "#fb9f3a"
             ],
             [
              0.8888888888888888,
              "#fdca26"
             ],
             [
              1,
              "#f0f921"
             ]
            ],
            "type": "heatmapgl"
           }
          ],
          "histogram": [
           {
            "marker": {
             "pattern": {
              "fillmode": "overlay",
              "size": 10,
              "solidity": 0.2
             }
            },
            "type": "histogram"
           }
          ],
          "histogram2d": [
           {
            "colorbar": {
             "outlinewidth": 0,
             "ticks": ""
            },
            "colorscale": [
             [
              0,
              "#0d0887"
             ],
             [
              0.1111111111111111,
              "#46039f"
             ],
             [
              0.2222222222222222,
              "#7201a8"
             ],
             [
              0.3333333333333333,
              "#9c179e"
             ],
             [
              0.4444444444444444,
              "#bd3786"
             ],
             [
              0.5555555555555556,
              "#d8576b"
             ],
             [
              0.6666666666666666,
              "#ed7953"
             ],
             [
              0.7777777777777778,
              "#fb9f3a"
             ],
             [
              0.8888888888888888,
              "#fdca26"
             ],
             [
              1,
              "#f0f921"
             ]
            ],
            "type": "histogram2d"
           }
          ],
          "histogram2dcontour": [
           {
            "colorbar": {
             "outlinewidth": 0,
             "ticks": ""
            },
            "colorscale": [
             [
              0,
              "#0d0887"
             ],
             [
              0.1111111111111111,
              "#46039f"
             ],
             [
              0.2222222222222222,
              "#7201a8"
             ],
             [
              0.3333333333333333,
              "#9c179e"
             ],
             [
              0.4444444444444444,
              "#bd3786"
             ],
             [
              0.5555555555555556,
              "#d8576b"
             ],
             [
              0.6666666666666666,
              "#ed7953"
             ],
             [
              0.7777777777777778,
              "#fb9f3a"
             ],
             [
              0.8888888888888888,
              "#fdca26"
             ],
             [
              1,
              "#f0f921"
             ]
            ],
            "type": "histogram2dcontour"
           }
          ],
          "mesh3d": [
           {
            "colorbar": {
             "outlinewidth": 0,
             "ticks": ""
            },
            "type": "mesh3d"
           }
          ],
          "parcoords": [
           {
            "line": {
             "colorbar": {
              "outlinewidth": 0,
              "ticks": ""
             }
            },
            "type": "parcoords"
           }
          ],
          "pie": [
           {
            "automargin": true,
            "type": "pie"
           }
          ],
          "scatter": [
           {
            "fillpattern": {
             "fillmode": "overlay",
             "size": 10,
             "solidity": 0.2
            },
            "type": "scatter"
           }
          ],
          "scatter3d": [
           {
            "line": {
             "colorbar": {
              "outlinewidth": 0,
              "ticks": ""
             }
            },
            "marker": {
             "colorbar": {
              "outlinewidth": 0,
              "ticks": ""
             }
            },
            "type": "scatter3d"
           }
          ],
          "scattercarpet": [
           {
            "marker": {
             "colorbar": {
              "outlinewidth": 0,
              "ticks": ""
             }
            },
            "type": "scattercarpet"
           }
          ],
          "scattergeo": [
           {
            "marker": {
             "colorbar": {
              "outlinewidth": 0,
              "ticks": ""
             }
            },
            "type": "scattergeo"
           }
          ],
          "scattergl": [
           {
            "marker": {
             "colorbar": {
              "outlinewidth": 0,
              "ticks": ""
             }
            },
            "type": "scattergl"
           }
          ],
          "scattermapbox": [
           {
            "marker": {
             "colorbar": {
              "outlinewidth": 0,
              "ticks": ""
             }
            },
            "type": "scattermapbox"
           }
          ],
          "scatterpolar": [
           {
            "marker": {
             "colorbar": {
              "outlinewidth": 0,
              "ticks": ""
             }
            },
            "type": "scatterpolar"
           }
          ],
          "scatterpolargl": [
           {
            "marker": {
             "colorbar": {
              "outlinewidth": 0,
              "ticks": ""
             }
            },
            "type": "scatterpolargl"
           }
          ],
          "scatterternary": [
           {
            "marker": {
             "colorbar": {
              "outlinewidth": 0,
              "ticks": ""
             }
            },
            "type": "scatterternary"
           }
          ],
          "surface": [
           {
            "colorbar": {
             "outlinewidth": 0,
             "ticks": ""
            },
            "colorscale": [
             [
              0,
              "#0d0887"
             ],
             [
              0.1111111111111111,
              "#46039f"
             ],
             [
              0.2222222222222222,
              "#7201a8"
             ],
             [
              0.3333333333333333,
              "#9c179e"
             ],
             [
              0.4444444444444444,
              "#bd3786"
             ],
             [
              0.5555555555555556,
              "#d8576b"
             ],
             [
              0.6666666666666666,
              "#ed7953"
             ],
             [
              0.7777777777777778,
              "#fb9f3a"
             ],
             [
              0.8888888888888888,
              "#fdca26"
             ],
             [
              1,
              "#f0f921"
             ]
            ],
            "type": "surface"
           }
          ],
          "table": [
           {
            "cells": {
             "fill": {
              "color": "#EBF0F8"
             },
             "line": {
              "color": "white"
             }
            },
            "header": {
             "fill": {
              "color": "#C8D4E3"
             },
             "line": {
              "color": "white"
             }
            },
            "type": "table"
           }
          ]
         },
         "layout": {
          "annotationdefaults": {
           "arrowcolor": "#2a3f5f",
           "arrowhead": 0,
           "arrowwidth": 1
          },
          "autotypenumbers": "strict",
          "coloraxis": {
           "colorbar": {
            "outlinewidth": 0,
            "ticks": ""
           }
          },
          "colorscale": {
           "diverging": [
            [
             0,
             "#8e0152"
            ],
            [
             0.1,
             "#c51b7d"
            ],
            [
             0.2,
             "#de77ae"
            ],
            [
             0.3,
             "#f1b6da"
            ],
            [
             0.4,
             "#fde0ef"
            ],
            [
             0.5,
             "#f7f7f7"
            ],
            [
             0.6,
             "#e6f5d0"
            ],
            [
             0.7,
             "#b8e186"
            ],
            [
             0.8,
             "#7fbc41"
            ],
            [
             0.9,
             "#4d9221"
            ],
            [
             1,
             "#276419"
            ]
           ],
           "sequential": [
            [
             0,
             "#0d0887"
            ],
            [
             0.1111111111111111,
             "#46039f"
            ],
            [
             0.2222222222222222,
             "#7201a8"
            ],
            [
             0.3333333333333333,
             "#9c179e"
            ],
            [
             0.4444444444444444,
             "#bd3786"
            ],
            [
             0.5555555555555556,
             "#d8576b"
            ],
            [
             0.6666666666666666,
             "#ed7953"
            ],
            [
             0.7777777777777778,
             "#fb9f3a"
            ],
            [
             0.8888888888888888,
             "#fdca26"
            ],
            [
             1,
             "#f0f921"
            ]
           ],
           "sequentialminus": [
            [
             0,
             "#0d0887"
            ],
            [
             0.1111111111111111,
             "#46039f"
            ],
            [
             0.2222222222222222,
             "#7201a8"
            ],
            [
             0.3333333333333333,
             "#9c179e"
            ],
            [
             0.4444444444444444,
             "#bd3786"
            ],
            [
             0.5555555555555556,
             "#d8576b"
            ],
            [
             0.6666666666666666,
             "#ed7953"
            ],
            [
             0.7777777777777778,
             "#fb9f3a"
            ],
            [
             0.8888888888888888,
             "#fdca26"
            ],
            [
             1,
             "#f0f921"
            ]
           ]
          },
          "colorway": [
           "#636efa",
           "#EF553B",
           "#00cc96",
           "#ab63fa",
           "#FFA15A",
           "#19d3f3",
           "#FF6692",
           "#B6E880",
           "#FF97FF",
           "#FECB52"
          ],
          "font": {
           "color": "#2a3f5f"
          },
          "geo": {
           "bgcolor": "white",
           "lakecolor": "white",
           "landcolor": "#E5ECF6",
           "showlakes": true,
           "showland": true,
           "subunitcolor": "white"
          },
          "hoverlabel": {
           "align": "left"
          },
          "hovermode": "closest",
          "mapbox": {
           "style": "light"
          },
          "paper_bgcolor": "white",
          "plot_bgcolor": "#E5ECF6",
          "polar": {
           "angularaxis": {
            "gridcolor": "white",
            "linecolor": "white",
            "ticks": ""
           },
           "bgcolor": "#E5ECF6",
           "radialaxis": {
            "gridcolor": "white",
            "linecolor": "white",
            "ticks": ""
           }
          },
          "scene": {
           "xaxis": {
            "backgroundcolor": "#E5ECF6",
            "gridcolor": "white",
            "gridwidth": 2,
            "linecolor": "white",
            "showbackground": true,
            "ticks": "",
            "zerolinecolor": "white"
           },
           "yaxis": {
            "backgroundcolor": "#E5ECF6",
            "gridcolor": "white",
            "gridwidth": 2,
            "linecolor": "white",
            "showbackground": true,
            "ticks": "",
            "zerolinecolor": "white"
           },
           "zaxis": {
            "backgroundcolor": "#E5ECF6",
            "gridcolor": "white",
            "gridwidth": 2,
            "linecolor": "white",
            "showbackground": true,
            "ticks": "",
            "zerolinecolor": "white"
           }
          },
          "shapedefaults": {
           "line": {
            "color": "#2a3f5f"
           }
          },
          "ternary": {
           "aaxis": {
            "gridcolor": "white",
            "linecolor": "white",
            "ticks": ""
           },
           "baxis": {
            "gridcolor": "white",
            "linecolor": "white",
            "ticks": ""
           },
           "bgcolor": "#E5ECF6",
           "caxis": {
            "gridcolor": "white",
            "linecolor": "white",
            "ticks": ""
           }
          },
          "title": {
           "x": 0.05
          },
          "xaxis": {
           "automargin": true,
           "gridcolor": "white",
           "linecolor": "white",
           "ticks": "",
           "title": {
            "standoff": 15
           },
           "zerolinecolor": "white",
           "zerolinewidth": 2
          },
          "yaxis": {
           "automargin": true,
           "gridcolor": "white",
           "linecolor": "white",
           "ticks": "",
           "title": {
            "standoff": 15
           },
           "zerolinecolor": "white",
           "zerolinewidth": 2
          }
         }
        },
        "title": {
         "text": "PCA of High-Dimensional Data"
        },
        "xaxis": {
         "anchor": "y",
         "domain": [
          0,
          1
         ],
         "title": {
          "text": "Principal Component 1"
         }
        },
        "yaxis": {
         "anchor": "x",
         "domain": [
          0,
          1
         ],
         "title": {
          "text": "Principal Component 2"
         }
        }
       }
      }
     },
     "metadata": {},
     "output_type": "display_data"
    }
   ],
   "source": [
    "from sklearn.decomposition import PCA\n",
    "\n",
    "pca=PCA(n_components=2)\n",
    "x_trans=pca.fit_transform(X)\n",
    "# Step 2: Create a DataFrame for the PCA results\n",
    "pca_df = pd.DataFrame(data=x_trans, columns=['PCA1', 'PCA2'])\n",
    "pca_df['Class'] = Y['class']  # Add the class labels\n",
    "pca_df['Name']=Y[\"mesh_name\"]\n",
    "plot_data2(pca_df,\"PCA1\",\"PCA2\",chunks[0])\n"
   ]
  },
  {
   "cell_type": "code",
   "execution_count": 25,
   "metadata": {},
   "outputs": [
    {
     "name": "stderr",
     "output_type": "stream",
     "text": [
      "d:\\Programms\\Anaconda\\envs\\infomr\\lib\\site-packages\\sklearn\\manifold\\_t_sne.py:106: RuntimeWarning:\n",
      "\n",
      "overflow encountered in cast\n",
      "\n"
     ]
    },
    {
     "name": "stdout",
     "output_type": "stream",
     "text": [
      "Plot saved as plot_tsne_perplexity_10.html\n"
     ]
    },
    {
     "data": {
      "application/vnd.plotly.v1+json": {
       "config": {
        "plotlyServerURL": "https://plot.ly"
       },
       "data": [
        {
         "customdata": [
          [
           "AircraftBuoyant",
           "m1337.obj"
          ],
          [
           "AircraftBuoyant",
           "m1338.obj"
          ],
          [
           "AircraftBuoyant",
           "m1339.obj"
          ],
          [
           "AircraftBuoyant",
           "m1340.obj"
          ],
          [
           "AircraftBuoyant",
           "m1341.obj"
          ],
          [
           "AircraftBuoyant",
           "m1342.obj"
          ],
          [
           "AircraftBuoyant",
           "m1343.obj"
          ],
          [
           "AircraftBuoyant",
           "m1344.obj"
          ],
          [
           "AircraftBuoyant",
           "m1345.obj"
          ],
          [
           "AircraftBuoyant",
           "m1346.obj"
          ],
          [
           "AircraftBuoyant",
           "m1348.obj"
          ],
          [
           "AircraftBuoyant",
           "m1349.obj"
          ],
          [
           "AircraftBuoyant",
           "m1350.obj"
          ],
          [
           "AircraftBuoyant",
           "m1351.obj"
          ],
          [
           "AircraftBuoyant",
           "m1352.obj"
          ]
         ],
         "hovertemplate": "Class=%{customdata[0]}<br>Principal Component 1=%{x}<br>Principal Component 2=%{y}<br>Name=%{customdata[1]}<extra></extra>",
         "legendgroup": "AircraftBuoyant",
         "marker": {
          "color": "#636efa",
          "symbol": "circle"
         },
         "mode": "markers",
         "name": "AircraftBuoyant",
         "orientation": "v",
         "showlegend": true,
         "type": "scatter",
         "x": [
          -54.56024932861328,
          -51.558189392089844,
          -55.60927200317383,
          -44.98486328125,
          -48.785160064697266,
          -59.518577575683594,
          -53.061241149902344,
          -60.872161865234375,
          -46.78413009643555,
          -20.26691246032715,
          -20.40520668029785,
          -20.902469635009766,
          -20.77695655822754,
          -11.513474464416504,
          -45.43296813964844
         ],
         "xaxis": "x",
         "y": [
          20.74893569946289,
          18.033597946166992,
          2.1878719329833984,
          -27.628801345825195,
          -25.278703689575195,
          15.351639747619629,
          16.581727981567383,
          16.12371253967285,
          59.59019088745117,
          -35.10647964477539,
          -35.12722396850586,
          -35.05354690551758,
          -34.994876861572266,
          -34.40555953979492,
          -26.38219451904297
         ],
         "yaxis": "y"
        },
        {
         "customdata": [
          [
           "Apartment",
           "D00045.obj"
          ],
          [
           "Apartment",
           "D00086.obj"
          ],
          [
           "Apartment",
           "D00138.obj"
          ],
          [
           "Apartment",
           "D00156.obj"
          ],
          [
           "Apartment",
           "D00310.obj"
          ],
          [
           "Apartment",
           "D00348.obj"
          ],
          [
           "Apartment",
           "D00366.obj"
          ],
          [
           "Apartment",
           "D00478.obj"
          ],
          [
           "Apartment",
           "D00496.obj"
          ],
          [
           "Apartment",
           "D00626.obj"
          ],
          [
           "Apartment",
           "D00639.obj"
          ],
          [
           "Apartment",
           "D00651.obj"
          ],
          [
           "Apartment",
           "D00681.obj"
          ],
          [
           "Apartment",
           "D00780.obj"
          ],
          [
           "Apartment",
           "D00792.obj"
          ],
          [
           "Apartment",
           "D00859.obj"
          ],
          [
           "Apartment",
           "D00860.obj"
          ],
          [
           "Apartment",
           "D00869.obj"
          ],
          [
           "Apartment",
           "D00921.obj"
          ],
          [
           "Apartment",
           "D00953.obj"
          ],
          [
           "Apartment",
           "m463.obj"
          ],
          [
           "Apartment",
           "m464.obj"
          ],
          [
           "Apartment",
           "m465.obj"
          ]
         ],
         "hovertemplate": "Class=%{customdata[0]}<br>Principal Component 1=%{x}<br>Principal Component 2=%{y}<br>Name=%{customdata[1]}<extra></extra>",
         "legendgroup": "Apartment",
         "marker": {
          "color": "#EF553B",
          "symbol": "circle"
         },
         "mode": "markers",
         "name": "Apartment",
         "orientation": "v",
         "showlegend": true,
         "type": "scatter",
         "x": [
          -26.724035263061523,
          38.85902404785156,
          50.01927185058594,
          -7.302534103393555,
          -22.033164978027344,
          -45.508296966552734,
          -42.033634185791016,
          53.22962188720703,
          10.306346893310547,
          52.963375091552734,
          30.727174758911133,
          -7.9730939865112305,
          53.82011795043945,
          0.4744819104671478,
          -48.75413513183594,
          -12.648818969726562,
          53.429962158203125,
          -9.289607048034668,
          -21.95935821533203,
          -23.354429244995117,
          13.737324714660645,
          -82.71881866455078,
          -23.79966926574707
         ],
         "xaxis": "x",
         "y": [
          -70.69699096679688,
          49.57024383544922,
          -45.707244873046875,
          75.70824432373047,
          68.03741455078125,
          4.669548034667969,
          2.656480312347412,
          20.224918365478516,
          60.07656478881836,
          25.063106536865234,
          57.35023880004883,
          75.03729248046875,
          -40.84785079956055,
          -20.55562400817871,
          11.227017402648926,
          -3.3094732761383057,
          20.628820419311523,
          41.18178176879883,
          11.657361030578613,
          67.84302520751953,
          -64.7130355834961,
          13.186038970947266,
          -60.47748565673828
         ],
         "yaxis": "y"
        },
        {
         "customdata": [
          [
           "AquaticAnimal",
           "m53.obj"
          ],
          [
           "AquaticAnimal",
           "m54.obj"
          ],
          [
           "AquaticAnimal",
           "m55.obj"
          ],
          [
           "AquaticAnimal",
           "m56.obj"
          ],
          [
           "AquaticAnimal",
           "m57.obj"
          ],
          [
           "AquaticAnimal",
           "m58.obj"
          ],
          [
           "AquaticAnimal",
           "m59.obj"
          ],
          [
           "AquaticAnimal",
           "m60.obj"
          ],
          [
           "AquaticAnimal",
           "m61.obj"
          ],
          [
           "AquaticAnimal",
           "m62.obj"
          ],
          [
           "AquaticAnimal",
           "m63.obj"
          ],
          [
           "AquaticAnimal",
           "m64.obj"
          ],
          [
           "AquaticAnimal",
           "m65.obj"
          ],
          [
           "AquaticAnimal",
           "m66.obj"
          ],
          [
           "AquaticAnimal",
           "m67.obj"
          ],
          [
           "AquaticAnimal",
           "m68.obj"
          ],
          [
           "AquaticAnimal",
           "m69.obj"
          ],
          [
           "AquaticAnimal",
           "m70.obj"
          ],
          [
           "AquaticAnimal",
           "m71.obj"
          ],
          [
           "AquaticAnimal",
           "m72.obj"
          ],
          [
           "AquaticAnimal",
           "m73.obj"
          ],
          [
           "AquaticAnimal",
           "m74.obj"
          ],
          [
           "AquaticAnimal",
           "m75.obj"
          ],
          [
           "AquaticAnimal",
           "m76.obj"
          ],
          [
           "AquaticAnimal",
           "m77.obj"
          ],
          [
           "AquaticAnimal",
           "m78.obj"
          ],
          [
           "AquaticAnimal",
           "m79.obj"
          ],
          [
           "AquaticAnimal",
           "m80.obj"
          ],
          [
           "AquaticAnimal",
           "m81.obj"
          ]
         ],
         "hovertemplate": "Class=%{customdata[0]}<br>Principal Component 1=%{x}<br>Principal Component 2=%{y}<br>Name=%{customdata[1]}<extra></extra>",
         "legendgroup": "AquaticAnimal",
         "marker": {
          "color": "#00cc96",
          "symbol": "circle"
         },
         "mode": "markers",
         "name": "AquaticAnimal",
         "orientation": "v",
         "showlegend": true,
         "type": "scatter",
         "x": [
          38.88725662231445,
          18.637821197509766,
          31.30795669555664,
          31.662782669067383,
          44.52790832519531,
          -65.06101989746094,
          39.5839729309082,
          7.796753883361816,
          0.9524341225624084,
          33.550052642822266,
          -55.38297653198242,
          18.143232345581055,
          6.414488792419434,
          -8.501808166503906,
          42.301475524902344,
          12.645857810974121,
          2.354118585586548,
          13.885842323303223,
          -18.297565460205078,
          3.476046085357666,
          -19.887922286987305,
          1.0979911088943481,
          -15.864150047302246,
          1.460516095161438,
          1.8211921453475952,
          -10.83520221710205,
          18.5572452545166,
          7.722408294677734,
          -0.13439054787158966
         ],
         "xaxis": "x",
         "y": [
          -9.793937683105469,
          -27.3981876373291,
          -15.797362327575684,
          -15.386734008789062,
          -7.846276760101318,
          0.5940393209457397,
          30.805267333984375,
          -26.878660202026367,
          -32.2238655090332,
          -15.619237899780273,
          8.191723823547363,
          -30.204925537109375,
          10.638420104980469,
          20.932573318481445,
          -16.307424545288086,
          -21.681596755981445,
          -29.75212860107422,
          -28.50366973876953,
          -33.35768508911133,
          -30.141263961791992,
          -33.15425491333008,
          -28.871870040893555,
          -23.39891242980957,
          -32.38817596435547,
          -18.81342887878418,
          -32.582035064697266,
          -29.786136627197266,
          -27.24729347229004,
          -30.05864715576172
         ],
         "yaxis": "y"
        },
        {
         "customdata": [
          [
           "Bed",
           "D00031.obj"
          ],
          [
           "Bed",
           "D00110.obj"
          ],
          [
           "Bed",
           "D00121.obj"
          ],
          [
           "Bed",
           "D00184.obj"
          ],
          [
           "Bed",
           "D00210.obj"
          ],
          [
           "Bed",
           "D00213.obj"
          ],
          [
           "Bed",
           "D00217.obj"
          ],
          [
           "Bed",
           "D00307.obj"
          ],
          [
           "Bed",
           "D00322.obj"
          ],
          [
           "Bed",
           "D00417.obj"
          ],
          [
           "Bed",
           "D00538.obj"
          ],
          [
           "Bed",
           "D00545.obj"
          ],
          [
           "Bed",
           "D00552.obj"
          ],
          [
           "Bed",
           "D00565.obj"
          ],
          [
           "Bed",
           "D00650.obj"
          ],
          [
           "Bed",
           "D00735.obj"
          ],
          [
           "Bed",
           "D00836.obj"
          ],
          [
           "Bed",
           "D00839.obj"
          ],
          [
           "Bed",
           "D00969.obj"
          ],
          [
           "Bed",
           "D00988.obj"
          ],
          [
           "Bed",
           "m945.obj"
          ],
          [
           "Bed",
           "m946.obj"
          ],
          [
           "Bed",
           "m947.obj"
          ],
          [
           "Bed",
           "m948.obj"
          ],
          [
           "Bed",
           "m949.obj"
          ],
          [
           "Bed",
           "m950.obj"
          ],
          [
           "Bed",
           "m951.obj"
          ]
         ],
         "hovertemplate": "Class=%{customdata[0]}<br>Principal Component 1=%{x}<br>Principal Component 2=%{y}<br>Name=%{customdata[1]}<extra></extra>",
         "legendgroup": "Bed",
         "marker": {
          "color": "#ab63fa",
          "symbol": "circle"
         },
         "mode": "markers",
         "name": "Bed",
         "orientation": "v",
         "showlegend": true,
         "type": "scatter",
         "x": [
          9.518672943115234,
          13.373458862304688,
          26.99811553955078,
          6.441144943237305,
          -35.00648498535156,
          19.33854103088379,
          16.793869018554688,
          31.158721923828125,
          18.502925872802734,
          20.90496826171875,
          -11.227076530456543,
          27.154876708984375,
          -31.09571075439453,
          30.469207763671875,
          16.513029098510742,
          9.168351173400879,
          -16.7713623046875,
          21.85134506225586,
          -14.687029838562012,
          -31.468841552734375,
          -13.637575149536133,
          9.630999565124512,
          9.65349006652832,
          -23.951923370361328,
          -11.943227767944336,
          -77.15621185302734,
          -23.4932804107666
         ],
         "xaxis": "x",
         "y": [
          27.506471633911133,
          -6.361282825469971,
          48.46284866333008,
          45.33967971801758,
          -46.65447998046875,
          9.217094421386719,
          31.285287857055664,
          43.773399353027344,
          8.32204532623291,
          29.60216522216797,
          -4.9616780281066895,
          47.93528366088867,
          -3.5406992435455322,
          3.3254473209381104,
          38.14706802368164,
          31.8155517578125,
          -11.426737785339355,
          13.786941528320312,
          0.39969921112060547,
          -50.261878967285156,
          22.395862579345703,
          33.46677780151367,
          33.9998779296875,
          3.114036798477173,
          23.31228256225586,
          21.2911376953125,
          -64.51265716552734
         ],
         "yaxis": "y"
        },
        {
         "customdata": [
          [
           "Bicycle",
           "D00016.obj"
          ],
          [
           "Bicycle",
           "D00033.obj"
          ],
          [
           "Bicycle",
           "D00040.obj"
          ],
          [
           "Bicycle",
           "D00077.obj"
          ],
          [
           "Bicycle",
           "D00078.obj"
          ],
          [
           "Bicycle",
           "D00462.obj"
          ],
          [
           "Bicycle",
           "D00514.obj"
          ],
          [
           "Bicycle",
           "D00536.obj"
          ],
          [
           "Bicycle",
           "D00555.obj"
          ],
          [
           "Bicycle",
           "D00558.obj"
          ],
          [
           "Bicycle",
           "D00567.obj"
          ],
          [
           "Bicycle",
           "D00621.obj"
          ],
          [
           "Bicycle",
           "D00708.obj"
          ],
          [
           "Bicycle",
           "D00750.obj"
          ],
          [
           "Bicycle",
           "D00838.obj"
          ],
          [
           "Bicycle",
           "D00847.obj"
          ],
          [
           "Bicycle",
           "D00904.obj"
          ],
          [
           "Bicycle",
           "D00930.obj"
          ],
          [
           "Bicycle",
           "D00931.obj"
          ],
          [
           "Bicycle",
           "D00974.obj"
          ],
          [
           "Bicycle",
           "m1472.obj"
          ],
          [
           "Bicycle",
           "m1473.obj"
          ],
          [
           "Bicycle",
           "m1475.obj"
          ],
          [
           "Bicycle",
           "m1476.obj"
          ],
          [
           "Bicycle",
           "m1477.obj"
          ],
          [
           "Bicycle",
           "m1478.obj"
          ]
         ],
         "hovertemplate": "Class=%{customdata[0]}<br>Principal Component 1=%{x}<br>Principal Component 2=%{y}<br>Name=%{customdata[1]}<extra></extra>",
         "legendgroup": "Bicycle",
         "marker": {
          "color": "#FFA15A",
          "symbol": "circle"
         },
         "mode": "markers",
         "name": "Bicycle",
         "orientation": "v",
         "showlegend": true,
         "type": "scatter",
         "x": [
          37.2818603515625,
          29.255090713500977,
          1.624341368675232,
          29.249021530151367,
          20.871479034423828,
          -75.05059051513672,
          41.12300109863281,
          8.167118072509766,
          41.406288146972656,
          13.958721160888672,
          -4.448609828948975,
          36.56438064575195,
          11.072105407714844,
          12.922228813171387,
          10.3151273727417,
          20.80085563659668,
          -4.0886149406433105,
          13.226678848266602,
          14.035865783691406,
          -20.491758346557617,
          -17.90743637084961,
          49.28672409057617,
          -20.53777313232422,
          -4.374195098876953,
          52.6295051574707,
          -69.74496459960938
         ],
         "xaxis": "x",
         "y": [
          -43.40190887451172,
          -54.955631256103516,
          -64.23497009277344,
          -55.20925521850586,
          -58.79964828491211,
          -22.883222579956055,
          -50.69579315185547,
          -68.27420043945312,
          -51.24772262573242,
          -58.49777603149414,
          -56.964385986328125,
          -44.04487991333008,
          -59.60268783569336,
          -60.604366302490234,
          -59.68854904174805,
          -58.85050582885742,
          -59.879119873046875,
          -62.299354553222656,
          -58.67969512939453,
          -63.2718391418457,
          -66.04995727539062,
          -42.187442779541016,
          -63.244224548339844,
          -56.806705474853516,
          -40.378173828125,
          -30.42378044128418
         ],
         "yaxis": "y"
        },
        {
         "customdata": [
          [
           "Biplane",
           "D00069.obj"
          ],
          [
           "Biplane",
           "D00132.obj"
          ],
          [
           "Biplane",
           "D00178.obj"
          ],
          [
           "Biplane",
           "D00199.obj"
          ],
          [
           "Biplane",
           "D00246.obj"
          ],
          [
           "Biplane",
           "D00276.obj"
          ],
          [
           "Biplane",
           "D00277.obj"
          ],
          [
           "Biplane",
           "D00320.obj"
          ],
          [
           "Biplane",
           "D00373.obj"
          ],
          [
           "Biplane",
           "D00410.obj"
          ],
          [
           "Biplane",
           "D00490.obj"
          ],
          [
           "Biplane",
           "D00515.obj"
          ],
          [
           "Biplane",
           "D00601.obj"
          ],
          [
           "Biplane",
           "D00616.obj"
          ],
          [
           "Biplane",
           "D00632.obj"
          ],
          [
           "Biplane",
           "D00634.obj"
          ],
          [
           "Biplane",
           "D00666.obj"
          ],
          [
           "Biplane",
           "D00854.obj"
          ],
          [
           "Biplane",
           "D00890.obj"
          ],
          [
           "Biplane",
           "D00900.obj"
          ],
          [
           "Biplane",
           "m1118.obj"
          ],
          [
           "Biplane",
           "m1119.obj"
          ],
          [
           "Biplane",
           "m1120.obj"
          ],
          [
           "Biplane",
           "m1121.obj"
          ],
          [
           "Biplane",
           "m1122.obj"
          ],
          [
           "Biplane",
           "m1123.obj"
          ],
          [
           "Biplane",
           "m1124.obj"
          ],
          [
           "Biplane",
           "m1126.obj"
          ],
          [
           "Biplane",
           "m1127.obj"
          ],
          [
           "Biplane",
           "m1128.obj"
          ],
          [
           "Biplane",
           "m1129.obj"
          ],
          [
           "Biplane",
           "m1131.obj"
          ],
          [
           "Biplane",
           "m1132.obj"
          ],
          [
           "Biplane",
           "m1133.obj"
          ],
          [
           "Biplane",
           "m1134.obj"
          ],
          [
           "Biplane",
           "m1135.obj"
          ],
          [
           "Biplane",
           "m1136.obj"
          ],
          [
           "Biplane",
           "m1137.obj"
          ],
          [
           "Biplane",
           "m1138.obj"
          ],
          [
           "Biplane",
           "m1139.obj"
          ],
          [
           "Biplane",
           "m1141.obj"
          ],
          [
           "Biplane",
           "m1143.obj"
          ],
          [
           "Biplane",
           "m1144.obj"
          ],
          [
           "Biplane",
           "m1146.obj"
          ]
         ],
         "hovertemplate": "Class=%{customdata[0]}<br>Principal Component 1=%{x}<br>Principal Component 2=%{y}<br>Name=%{customdata[1]}<extra></extra>",
         "legendgroup": "Biplane",
         "marker": {
          "color": "#19d3f3",
          "symbol": "circle"
         },
         "mode": "markers",
         "name": "Biplane",
         "orientation": "v",
         "showlegend": true,
         "type": "scatter",
         "x": [
          -30.145095825195312,
          -30.634658813476562,
          -27.266525268554688,
          -19.918212890625,
          -86.26100158691406,
          13.796342849731445,
          8.648080825805664,
          -23.10224151611328,
          29.306720733642578,
          45.23689651489258,
          34.7868537902832,
          51.11424255371094,
          34.89842224121094,
          -23.893169403076172,
          15.413944244384766,
          -7.771905899047852,
          12.533875465393066,
          57.44630813598633,
          -50.54533386230469,
          9.88902759552002,
          -86.85340881347656,
          53.54335403442383,
          -83.42202758789062,
          -87.75469970703125,
          -18.843891143798828,
          52.23517608642578,
          -73.90498352050781,
          42.01315689086914,
          13.028053283691406,
          51.11670684814453,
          -41.524349212646484,
          27.164600372314453,
          38.938968658447266,
          36.40837478637695,
          -30.566421508789062,
          -10.464879035949707,
          -35.89651870727539,
          -71.04563903808594,
          -32.04261016845703,
          46.70697784423828,
          -27.018600463867188,
          -74.3984146118164,
          10.99052619934082,
          9.48934268951416
         ],
         "xaxis": "x",
         "y": [
          65.8280258178711,
          -51.2093620300293,
          -65.56319427490234,
          -76.72187805175781,
          -6.716498851776123,
          58.94192886352539,
          -68.279296875,
          -75.145751953125,
          50.54492950439453,
          37.97911834716797,
          -57.14280319213867,
          41.76390838623047,
          57.778053283691406,
          -67.78433990478516,
          56.76359176635742,
          -81.61405181884766,
          43.668296813964844,
          -31.677959442138672,
          57.56280517578125,
          -67.46994018554688,
          5.147197246551514,
          24.869060516357422,
          -11.803690910339355,
          -1.8147560358047485,
          -77.32559967041016,
          24.90924835205078,
          26.127363204956055,
          49.38506317138672,
          43.76518630981445,
          23.70164680480957,
          -43.359622955322266,
          48.683982849121094,
          -54.46177673339844,
          51.852237701416016,
          -47.87335968017578,
          -78.21854400634766,
          -53.913482666015625,
          27.9068660736084,
          -59.93292999267578,
          -48.55671310424805,
          -70.07748413085938,
          -24.035451889038086,
          -66.83954620361328,
          8.632485389709473
         ],
         "yaxis": "y"
        },
        {
         "customdata": [
          [
           "Bird",
           "D00089.obj"
          ],
          [
           "Bird",
           "D00113.obj"
          ],
          [
           "Bird",
           "D00164.obj"
          ],
          [
           "Bird",
           "D00234.obj"
          ],
          [
           "Bird",
           "D00271.obj"
          ],
          [
           "Bird",
           "D00284.obj"
          ],
          [
           "Bird",
           "D00323.obj"
          ],
          [
           "Bird",
           "D00386.obj"
          ],
          [
           "Bird",
           "D00438.obj"
          ],
          [
           "Bird",
           "D00442.obj"
          ],
          [
           "Bird",
           "D00546.obj"
          ],
          [
           "Bird",
           "D00599.obj"
          ],
          [
           "Bird",
           "D00625.obj"
          ],
          [
           "Bird",
           "D00689.obj"
          ],
          [
           "Bird",
           "D00736.obj"
          ],
          [
           "Bird",
           "D00762.obj"
          ],
          [
           "Bird",
           "D00862.obj"
          ],
          [
           "Bird",
           "D00922.obj"
          ],
          [
           "Bird",
           "D00961.obj"
          ],
          [
           "Bird",
           "D00999.obj"
          ],
          [
           "Bird",
           "m28.obj"
          ],
          [
           "Bird",
           "m29.obj"
          ],
          [
           "Bird",
           "m30.obj"
          ],
          [
           "Bird",
           "m31.obj"
          ],
          [
           "Bird",
           "m32.obj"
          ],
          [
           "Bird",
           "m33.obj"
          ],
          [
           "Bird",
           "m34.obj"
          ],
          [
           "Bird",
           "m35.obj"
          ],
          [
           "Bird",
           "m36.obj"
          ],
          [
           "Bird",
           "m37.obj"
          ],
          [
           "Bird",
           "m38.obj"
          ],
          [
           "Bird",
           "m39.obj"
          ],
          [
           "Bird",
           "m40.obj"
          ],
          [
           "Bird",
           "m41.obj"
          ],
          [
           "Bird",
           "m42.obj"
          ],
          [
           "Bird",
           "m43.obj"
          ],
          [
           "Bird",
           "m44.obj"
          ],
          [
           "Bird",
           "m45.obj"
          ],
          [
           "Bird",
           "m47.obj"
          ],
          [
           "Bird",
           "m48.obj"
          ],
          [
           "Bird",
           "m50.obj"
          ],
          [
           "Bird",
           "m51.obj"
          ],
          [
           "Bird",
           "m52.obj"
          ]
         ],
         "hovertemplate": "Class=%{customdata[0]}<br>Principal Component 1=%{x}<br>Principal Component 2=%{y}<br>Name=%{customdata[1]}<extra></extra>",
         "legendgroup": "Bird",
         "marker": {
          "color": "#FF6692",
          "symbol": "circle"
         },
         "mode": "markers",
         "name": "Bird",
         "orientation": "v",
         "showlegend": true,
         "type": "scatter",
         "x": [
          -1.8968498706817627,
          -13.025787353515625,
          28.12299919128418,
          -16.13494110107422,
          -26.70685577392578,
          6.319664001464844,
          79.15990447998047,
          73.09394836425781,
          40.93551254272461,
          -40.13868713378906,
          21.22343635559082,
          -11.716761589050293,
          -42.50715637207031,
          3.414597749710083,
          23.9913272857666,
          -31.232892990112305,
          22.5313663482666,
          -9.813029289245605,
          40.921966552734375,
          56.727840423583984,
          -30.349044799804688,
          -18.487430572509766,
          -9.914880752563477,
          -61.899070739746094,
          -50.13010787963867,
          -30.38545036315918,
          -1.9449899196624756,
          -46.18274688720703,
          -32.597652435302734,
          -8.897302627563477,
          55.23395538330078,
          4.829259872436523,
          -4.919838905334473,
          40.926456451416016,
          51.379112243652344,
          -30.565563201904297,
          32.95436096191406,
          6.399868965148926,
          28.629262924194336,
          -64.91448974609375,
          -64.92031860351562,
          -65.73163604736328,
          -32.6253662109375
         ],
         "xaxis": "x",
         "y": [
          36.34391403198242,
          36.88752746582031,
          -59.36996078491211,
          -6.628578186035156,
          -67.31509399414062,
          49.08478927612305,
          27.746793746948242,
          2.299830436706543,
          26.658981323242188,
          -49.92531967163086,
          12.996060371398926,
          -49.09150314331055,
          -41.90053939819336,
          -71.63992309570312,
          29.849716186523438,
          -4.57418966293335,
          29.348840713500977,
          39.424407958984375,
          26.630481719970703,
          0.17154252529144287,
          -6.379878520965576,
          -29.44390106201172,
          -13.47447681427002,
          -4.732978820800781,
          -21.759897232055664,
          -1.3977605104446411,
          36.36285400390625,
          3.5733418464660645,
          -0.9392716288566589,
          37.391265869140625,
          0.3895328938961029,
          25.293134689331055,
          -80.53193664550781,
          26.660757064819336,
          -44.703765869140625,
          -5.4842000007629395,
          32.88508987426758,
          49.13743591308594,
          -6.250808238983154,
          -1.7739847898483276,
          -1.6668095588684082,
          0.7271100282669067,
          -0.7529861927032471
         ],
         "yaxis": "y"
        },
        {
         "customdata": [
          [
           "Bookset",
           "D01009.obj"
          ],
          [
           "Bookset",
           "D01013.obj"
          ],
          [
           "Bookset",
           "D01030.obj"
          ],
          [
           "Bookset",
           "D01038.obj"
          ],
          [
           "Bookset",
           "D01042.obj"
          ],
          [
           "Bookset",
           "D01050.obj"
          ],
          [
           "Bookset",
           "D01065.obj"
          ],
          [
           "Bookset",
           "D01096.obj"
          ],
          [
           "Bookset",
           "D01108.obj"
          ],
          [
           "Bookset",
           "D01110.obj"
          ],
          [
           "Bookset",
           "D01122.obj"
          ],
          [
           "Bookset",
           "D01135.obj"
          ],
          [
           "Bookset",
           "D01146.obj"
          ],
          [
           "Bookset",
           "D01182.obj"
          ],
          [
           "Bookset",
           "D01183.obj"
          ],
          [
           "Bookset",
           "D01184.obj"
          ],
          [
           "Bookset",
           "D01190.obj"
          ],
          [
           "Bookset",
           "D01199.obj"
          ]
         ],
         "hovertemplate": "Class=%{customdata[0]}<br>Principal Component 1=%{x}<br>Principal Component 2=%{y}<br>Name=%{customdata[1]}<extra></extra>",
         "legendgroup": "Bookset",
         "marker": {
          "color": "#B6E880",
          "symbol": "circle"
         },
         "mode": "markers",
         "name": "Bookset",
         "orientation": "v",
         "showlegend": true,
         "type": "scatter",
         "x": [
          4.970248699188232,
          -68.46024322509766,
          31.128612518310547,
          -6.87071418762207,
          28.199535369873047,
          -23.84603500366211,
          -71.84419250488281,
          45.758609771728516,
          -9.66681957244873,
          -23.577749252319336,
          -27.619224548339844,
          4.900052070617676,
          -25.721879959106445,
          28.557004928588867,
          -23.916696548461914,
          52.30978775024414,
          -35.382408142089844,
          20.856956481933594
         ],
         "xaxis": "x",
         "y": [
          43.12351989746094,
          -31.715866088867188,
          57.92271041870117,
          76.1143798828125,
          -59.61426544189453,
          9.115092277526855,
          -27.593015670776367,
          -49.569828033447266,
          -81.85385131835938,
          16.858102798461914,
          2.7129974365234375,
          43.00474548339844,
          3.953594923019409,
          -60.04304122924805,
          16.44867706298828,
          44.601951599121094,
          63.67856979370117,
          -61.745018005371094
         ],
         "yaxis": "y"
        },
        {
         "customdata": [
          [
           "Bottle",
           "D00020.obj"
          ],
          [
           "Bottle",
           "D00123.obj"
          ],
          [
           "Bottle",
           "D00139.obj"
          ],
          [
           "Bottle",
           "D00166.obj"
          ],
          [
           "Bottle",
           "D00176.obj"
          ],
          [
           "Bottle",
           "D00208.obj"
          ],
          [
           "Bottle",
           "D00281.obj"
          ],
          [
           "Bottle",
           "D00311.obj"
          ],
          [
           "Bottle",
           "D00350.obj"
          ],
          [
           "Bottle",
           "D00390.obj"
          ],
          [
           "Bottle",
           "D00451.obj"
          ],
          [
           "Bottle",
           "D00679.obj"
          ],
          [
           "Bottle",
           "D00696.obj"
          ],
          [
           "Bottle",
           "D00711.obj"
          ],
          [
           "Bottle",
           "D00716.obj"
          ],
          [
           "Bottle",
           "D00726.obj"
          ],
          [
           "Bottle",
           "D00892.obj"
          ],
          [
           "Bottle",
           "D00940.obj"
          ],
          [
           "Bottle",
           "D00959.obj"
          ],
          [
           "Bottle",
           "m482.obj"
          ],
          [
           "Bottle",
           "m483.obj"
          ],
          [
           "Bottle",
           "m484.obj"
          ],
          [
           "Bottle",
           "m485.obj"
          ],
          [
           "Bottle",
           "m486.obj"
          ],
          [
           "Bottle",
           "m487.obj"
          ],
          [
           "Bottle",
           "m488.obj"
          ],
          [
           "Bottle",
           "m489.obj"
          ],
          [
           "Bottle",
           "m490.obj"
          ],
          [
           "Bottle",
           "m491.obj"
          ]
         ],
         "hovertemplate": "Class=%{customdata[0]}<br>Principal Component 1=%{x}<br>Principal Component 2=%{y}<br>Name=%{customdata[1]}<extra></extra>",
         "legendgroup": "Bottle",
         "marker": {
          "color": "#FF97FF",
          "symbol": "circle"
         },
         "mode": "markers",
         "name": "Bottle",
         "orientation": "v",
         "showlegend": true,
         "type": "scatter",
         "x": [
          -45.60578536987305,
          1.745065450668335,
          14.472789764404297,
          -25.63839340209961,
          -35.90401077270508,
          51.25366973876953,
          -27.238176345825195,
          -65.33990478515625,
          -18.048839569091797,
          5.0622382164001465,
          -45.68747329711914,
          -77.41869354248047,
          -15.840084075927734,
          -66.20765686035156,
          -31.712684631347656,
          -37.351741790771484,
          -17.144351959228516,
          -65.85474395751953,
          -12.235342025756836,
          -40.67783737182617,
          -19.09675407409668,
          -48.39627456665039,
          -45.67581558227539,
          -12.260906219482422,
          -23.210580825805664,
          -65.43106079101562,
          -15.90577220916748,
          -59.82939147949219,
          -61.86213684082031
         ],
         "xaxis": "x",
         "y": [
          -26.826614379882812,
          -33.36290740966797,
          37.05832290649414,
          -27.396818161010742,
          63.461395263671875,
          26.216337203979492,
          -67.36630249023438,
          -1.420186996459961,
          -33.6602668762207,
          48.88521957397461,
          -16.681346893310547,
          -20.185375213623047,
          -33.28905487060547,
          0.2734107971191406,
          -50.96479797363281,
          -16.935752868652344,
          -33.23396301269531,
          -0.1785946488380432,
          -35.44729232788086,
          -19.409311294555664,
          -32.15605163574219,
          -25.414573669433594,
          -25.868053436279297,
          -35.31037902832031,
          -23.908729553222656,
          -1.05445396900177,
          11.038167953491211,
          9.343594551086426,
          -4.6100640296936035
         ],
         "yaxis": "y"
        },
        {
         "customdata": [
          [
           "BuildingNonResidential",
           "m382.obj"
          ],
          [
           "BuildingNonResidential",
           "m383.obj"
          ],
          [
           "BuildingNonResidential",
           "m384.obj"
          ],
          [
           "BuildingNonResidential",
           "m385.obj"
          ],
          [
           "BuildingNonResidential",
           "m386.obj"
          ],
          [
           "BuildingNonResidential",
           "m387.obj"
          ],
          [
           "BuildingNonResidential",
           "m390.obj"
          ],
          [
           "BuildingNonResidential",
           "m391.obj"
          ],
          [
           "BuildingNonResidential",
           "m392.obj"
          ],
          [
           "BuildingNonResidential",
           "m393.obj"
          ],
          [
           "BuildingNonResidential",
           "m394.obj"
          ],
          [
           "BuildingNonResidential",
           "m395.obj"
          ],
          [
           "BuildingNonResidential",
           "m396.obj"
          ],
          [
           "BuildingNonResidential",
           "m397.obj"
          ],
          [
           "BuildingNonResidential",
           "m398.obj"
          ],
          [
           "BuildingNonResidential",
           "m399.obj"
          ],
          [
           "BuildingNonResidential",
           "m400.obj"
          ],
          [
           "BuildingNonResidential",
           "m401.obj"
          ],
          [
           "BuildingNonResidential",
           "m402.obj"
          ],
          [
           "BuildingNonResidential",
           "m404.obj"
          ],
          [
           "BuildingNonResidential",
           "m405.obj"
          ],
          [
           "BuildingNonResidential",
           "m406.obj"
          ],
          [
           "BuildingNonResidential",
           "m407.obj"
          ],
          [
           "BuildingNonResidential",
           "m408.obj"
          ],
          [
           "BuildingNonResidential",
           "m409.obj"
          ],
          [
           "BuildingNonResidential",
           "m410.obj"
          ],
          [
           "BuildingNonResidential",
           "m412.obj"
          ],
          [
           "BuildingNonResidential",
           "m413.obj"
          ],
          [
           "BuildingNonResidential",
           "m414.obj"
          ],
          [
           "BuildingNonResidential",
           "m415.obj"
          ],
          [
           "BuildingNonResidential",
           "m416.obj"
          ],
          [
           "BuildingNonResidential",
           "m418.obj"
          ],
          [
           "BuildingNonResidential",
           "m420.obj"
          ],
          [
           "BuildingNonResidential",
           "m421.obj"
          ],
          [
           "BuildingNonResidential",
           "m470.obj"
          ],
          [
           "BuildingNonResidential",
           "m471.obj"
          ],
          [
           "BuildingNonResidential",
           "m472.obj"
          ],
          [
           "BuildingNonResidential",
           "m474.obj"
          ],
          [
           "BuildingNonResidential",
           "m475.obj"
          ],
          [
           "BuildingNonResidential",
           "m477.obj"
          ],
          [
           "BuildingNonResidential",
           "m478.obj"
          ],
          [
           "BuildingNonResidential",
           "m479.obj"
          ],
          [
           "BuildingNonResidential",
           "m481.obj"
          ]
         ],
         "hovertemplate": "Class=%{customdata[0]}<br>Principal Component 1=%{x}<br>Principal Component 2=%{y}<br>Name=%{customdata[1]}<extra></extra>",
         "legendgroup": "BuildingNonResidential",
         "marker": {
          "color": "#FECB52",
          "symbol": "circle"
         },
         "mode": "markers",
         "name": "BuildingNonResidential",
         "orientation": "v",
         "showlegend": true,
         "type": "scatter",
         "x": [
          -12.947491645812988,
          47.785728454589844,
          -29.018217086791992,
          -5.5913262367248535,
          13.525249481201172,
          -19.528005599975586,
          -56.89885330200195,
          -45.707828521728516,
          -41.363563537597656,
          -14.119900703430176,
          -32.25103759765625,
          2.552011489868164,
          -29.28093910217285,
          25.057151794433594,
          -38.22862243652344,
          -26.568954467773438,
          -73.93255615234375,
          -14.966157913208008,
          -87.67823028564453,
          -12.147283554077148,
          -0.8844926357269287,
          48.871700286865234,
          -44.18009948730469,
          31.570215225219727,
          -15.882078170776367,
          -12.37204360961914,
          -84.68011474609375,
          60.600120544433594,
          53.852195739746094,
          -21.29018783569336,
          -75.8772964477539,
          -72.65542602539062,
          -43.835350036621094,
          -15.682798385620117,
          17.195880889892578,
          -22.165157318115234,
          -40.453670501708984,
          27.693710327148438,
          -43.860260009765625,
          -14.976481437683105,
          45.318321228027344,
          -5.735475540161133,
          -8.508275032043457
         ],
         "xaxis": "x",
         "y": [
          36.05057144165039,
          50.0421257019043,
          66.27617645263672,
          44.33405685424805,
          61.28299331665039,
          -76.80160522460938,
          15.540393829345703,
          0.8850427865982056,
          -7.136101245880127,
          69.62337493896484,
          65.08738708496094,
          49.5870246887207,
          -68.3985366821289,
          58.111785888671875,
          -52.92853927612305,
          -70.74954986572266,
          26.25571060180664,
          69.24746704101562,
          -3.248781442642212,
          -81.35565948486328,
          81.2405776977539,
          -46.61384963989258,
          3.802866220474243,
          54.722286224365234,
          -48.91266632080078,
          70.51507568359375,
          -9.691383361816406,
          -28.276647567749023,
          20.623647689819336,
          -77.51017761230469,
          -22.245697021484375,
          28.40654182434082,
          59.61513900756836,
          69.00086975097656,
          -18.334463119506836,
          -31.728450775146484,
          -22.36039161682129,
          58.21635818481445,
          -0.6727580428123474,
          -5.795602321624756,
          27.164438247680664,
          -18.43016242980957,
          2.2092995643615723
         ],
         "yaxis": "y"
        },
        {
         "customdata": [
          [
           "Bus",
           "D00084.obj"
          ],
          [
           "Bus",
           "D00114.obj"
          ],
          [
           "Bus",
           "D00151.obj"
          ],
          [
           "Bus",
           "D00179.obj"
          ],
          [
           "Bus",
           "D00182.obj"
          ],
          [
           "Bus",
           "D00264.obj"
          ],
          [
           "Bus",
           "D00436.obj"
          ],
          [
           "Bus",
           "D00448.obj"
          ],
          [
           "Bus",
           "D00483.obj"
          ],
          [
           "Bus",
           "D00677.obj"
          ],
          [
           "Bus",
           "D00754.obj"
          ],
          [
           "Bus",
           "D00769.obj"
          ],
          [
           "Bus",
           "D00775.obj"
          ],
          [
           "Bus",
           "D00815.obj"
          ],
          [
           "Bus",
           "D00823.obj"
          ],
          [
           "Bus",
           "D00832.obj"
          ],
          [
           "Bus",
           "D00857.obj"
          ]
         ],
         "hovertemplate": "Class=%{customdata[0]}<br>Principal Component 1=%{x}<br>Principal Component 2=%{y}<br>Name=%{customdata[1]}<extra></extra>",
         "legendgroup": "Bus",
         "marker": {
          "color": "#636efa",
          "symbol": "circle"
         },
         "mode": "markers",
         "name": "Bus",
         "orientation": "v",
         "showlegend": true,
         "type": "scatter",
         "x": [
          -39.00286865234375,
          -42.822933197021484,
          28.2004337310791,
          -27.509912490844727,
          5.441173553466797,
          31.44756507873535,
          -21.08530616760254,
          -25.45110511779785,
          -38.42170333862305,
          -74.6592025756836,
          -80.07124328613281,
          -72.91641998291016,
          -4.728396415710449,
          10.179402351379395,
          -51.891544342041016,
          -58.36528015136719,
          32.18437576293945
         ],
         "xaxis": "x",
         "y": [
          31.045970916748047,
          59.9532470703125,
          46.91080856323242,
          -61.10564041137695,
          -67.1649398803711,
          -14.550654411315918,
          -15.82337760925293,
          -68.7406005859375,
          -54.01813888549805,
          -23.71640396118164,
          -16.75570297241211,
          -26.140512466430664,
          77.99516296386719,
          35.63774108886719,
          55.92106628417969,
          -4.898970603942871,
          42.84770202636719
         ],
         "yaxis": "y"
        },
        {
         "customdata": [
          [
           "Car",
           "D00168.obj"
          ],
          [
           "Car",
           "D00236.obj"
          ],
          [
           "Car",
           "D00260.obj"
          ],
          [
           "Car",
           "D00265.obj"
          ],
          [
           "Car",
           "D00299.obj"
          ],
          [
           "Car",
           "D00377.obj"
          ],
          [
           "Car",
           "D00405.obj"
          ],
          [
           "Car",
           "D00452.obj"
          ],
          [
           "Car",
           "D00504.obj"
          ],
          [
           "Car",
           "D00541.obj"
          ],
          [
           "Car",
           "D00618.obj"
          ],
          [
           "Car",
           "D00670.obj"
          ],
          [
           "Car",
           "D00671.obj"
          ],
          [
           "Car",
           "D00724.obj"
          ],
          [
           "Car",
           "D00767.obj"
          ],
          [
           "Car",
           "D00785.obj"
          ],
          [
           "Car",
           "D00793.obj"
          ],
          [
           "Car",
           "D00803.obj"
          ],
          [
           "Car",
           "D00865.obj"
          ],
          [
           "Car",
           "D00976.obj"
          ],
          [
           "Car",
           "m1485.obj"
          ],
          [
           "Car",
           "m1486.obj"
          ],
          [
           "Car",
           "m1487.obj"
          ],
          [
           "Car",
           "m1488.obj"
          ],
          [
           "Car",
           "m1489.obj"
          ],
          [
           "Car",
           "m1490.obj"
          ],
          [
           "Car",
           "m1492.obj"
          ],
          [
           "Car",
           "m1495.obj"
          ],
          [
           "Car",
           "m1496.obj"
          ],
          [
           "Car",
           "m1497.obj"
          ],
          [
           "Car",
           "m1498.obj"
          ],
          [
           "Car",
           "m1499.obj"
          ],
          [
           "Car",
           "m1500.obj"
          ],
          [
           "Car",
           "m1502.obj"
          ],
          [
           "Car",
           "m1503.obj"
          ],
          [
           "Car",
           "m1504.obj"
          ],
          [
           "Car",
           "m1505.obj"
          ],
          [
           "Car",
           "m1506.obj"
          ],
          [
           "Car",
           "m1507.obj"
          ],
          [
           "Car",
           "m1508.obj"
          ],
          [
           "Car",
           "m1509.obj"
          ],
          [
           "Car",
           "m1510.obj"
          ],
          [
           "Car",
           "m1511.obj"
          ],
          [
           "Car",
           "m1512.obj"
          ],
          [
           "Car",
           "m1513.obj"
          ],
          [
           "Car",
           "m1514.obj"
          ],
          [
           "Car",
           "m1515.obj"
          ],
          [
           "Car",
           "m1516.obj"
          ],
          [
           "Car",
           "m1517.obj"
          ],
          [
           "Car",
           "m1518.obj"
          ],
          [
           "Car",
           "m1519.obj"
          ],
          [
           "Car",
           "m1521.obj"
          ],
          [
           "Car",
           "m1522.obj"
          ],
          [
           "Car",
           "m1523.obj"
          ],
          [
           "Car",
           "m1524.obj"
          ],
          [
           "Car",
           "m1525.obj"
          ],
          [
           "Car",
           "m1526.obj"
          ],
          [
           "Car",
           "m1527.obj"
          ],
          [
           "Car",
           "m1528.obj"
          ],
          [
           "Car",
           "m1529.obj"
          ],
          [
           "Car",
           "m1530.obj"
          ],
          [
           "Car",
           "m1531.obj"
          ],
          [
           "Car",
           "m1532.obj"
          ],
          [
           "Car",
           "m1533.obj"
          ],
          [
           "Car",
           "m1535.obj"
          ],
          [
           "Car",
           "m1536.obj"
          ],
          [
           "Car",
           "m1538.obj"
          ],
          [
           "Car",
           "m1539.obj"
          ],
          [
           "Car",
           "m1540.obj"
          ],
          [
           "Car",
           "m1542.obj"
          ],
          [
           "Car",
           "m1543.obj"
          ],
          [
           "Car",
           "m1544.obj"
          ],
          [
           "Car",
           "m1545.obj"
          ],
          [
           "Car",
           "m1546.obj"
          ],
          [
           "Car",
           "m1547.obj"
          ],
          [
           "Car",
           "m1548.obj"
          ],
          [
           "Car",
           "m1550.obj"
          ],
          [
           "Car",
           "m1551.obj"
          ],
          [
           "Car",
           "m1552.obj"
          ],
          [
           "Car",
           "m1553.obj"
          ],
          [
           "Car",
           "m1555.obj"
          ],
          [
           "Car",
           "m1556.obj"
          ],
          [
           "Car",
           "m1557.obj"
          ],
          [
           "Car",
           "m1558.obj"
          ],
          [
           "Car",
           "m1559.obj"
          ],
          [
           "Car",
           "m1560.obj"
          ],
          [
           "Car",
           "m1561.obj"
          ],
          [
           "Car",
           "m1562.obj"
          ],
          [
           "Car",
           "m1563.obj"
          ]
         ],
         "hovertemplate": "Class=%{customdata[0]}<br>Principal Component 1=%{x}<br>Principal Component 2=%{y}<br>Name=%{customdata[1]}<extra></extra>",
         "legendgroup": "Car",
         "marker": {
          "color": "#EF553B",
          "symbol": "circle"
         },
         "mode": "markers",
         "name": "Car",
         "orientation": "v",
         "showlegend": true,
         "type": "scatter",
         "x": [
          7.495625972747803,
          20.390302658081055,
          -30.693721771240234,
          -11.09157657623291,
          56.93801498413086,
          3.1657235622406006,
          -44.144309997558594,
          40.608367919921875,
          9.430676460266113,
          -8.883429527282715,
          0.19700981676578522,
          16.031797409057617,
          31.081066131591797,
          52.053009033203125,
          -17.52264976501465,
          -37.50865936279297,
          -10.362081527709961,
          -10.441826820373535,
          -10.396395683288574,
          47.72971725463867,
          -22.813140869140625,
          -43.91103744506836,
          -75.42932891845703,
          -32.0511474609375,
          -42.108848571777344,
          37.5841178894043,
          34.75050735473633,
          18.149953842163086,
          -2.392967939376831,
          10.586597442626953,
          0.8866490721702576,
          59.92250061035156,
          -16.90407943725586,
          27.29872703552246,
          -9.492912292480469,
          -23.47666358947754,
          -13.792823791503906,
          19.275829315185547,
          0.5056784152984619,
          33.38029861450195,
          28.794939041137695,
          39.82478713989258,
          11.35910701751709,
          38.28695297241211,
          -31.124284744262695,
          37.79555892944336,
          16.26922035217285,
          9.442686080932617,
          -19.26007652282715,
          3.209744453430176,
          -10.86624813079834,
          -6.650475978851318,
          -2.1431725025177,
          -10.250958442687988,
          -41.36211013793945,
          24.689151763916016,
          -10.743523597717285,
          39.087913513183594,
          17.327960968017578,
          -19.08829116821289,
          -23.254364013671875,
          -44.081912994384766,
          -49.290775299072266,
          19.776418685913086,
          9.452824592590332,
          -44.66643524169922,
          -10.464259147644043,
          5.249840259552002,
          21.000988006591797,
          -17.24410057067871,
          -8.318501472473145,
          53.08341598510742,
          9.339723587036133,
          -19.61052894592285,
          0.9571887850761414,
          9.339675903320312,
          3.8324224948883057,
          11.682159423828125,
          -10.254935264587402,
          -18.411367416381836,
          -27.98857879638672,
          -21.188520431518555,
          -6.469763278961182,
          55.54561233520508,
          58.151519775390625,
          -12.97266674041748,
          -29.93547248840332,
          30.505834579467773,
          -15.78324031829834
         ],
         "xaxis": "x",
         "y": [
          13.432872772216797,
          -61.301177978515625,
          -61.473506927490234,
          -33.05183410644531,
          25.03997039794922,
          -10.249289512634277,
          59.47068405151367,
          49.832244873046875,
          28.35521697998047,
          37.45809555053711,
          -20.37898063659668,
          35.39009094238281,
          43.939430236816406,
          18.090452194213867,
          -12.887855529785156,
          -18.150720596313477,
          -31.248266220092773,
          -77.899658203125,
          -13.543825149536133,
          34.67737579345703,
          -21.509830474853516,
          -18.173654556274414,
          -22.763593673706055,
          -59.8468017578125,
          -7.440129280090332,
          51.9190788269043,
          -57.64501953125,
          38.07926559448242,
          -11.84837532043457,
          9.69791030883789,
          82.56608581542969,
          -29.054468154907227,
          -13.482644081115723,
          14.66396713256836,
          -57.82463073730469,
          -60.3188362121582,
          -54.469085693359375,
          -59.4823112487793,
          -62.024932861328125,
          15.553888320922852,
          -57.38325500488281,
          28.860563278198242,
          -59.79376983642578,
          -54.123165130615234,
          -50.2820930480957,
          31.680967330932617,
          -18.463163375854492,
          27.26889419555664,
          -15.244119644165039,
          -8.338555335998535,
          -32.906097412109375,
          -29.779834747314453,
          -7.30832576751709,
          -30.55854606628418,
          -26.127521514892578,
          33.981266021728516,
          -30.959213256835938,
          33.19600296020508,
          38.68793487548828,
          -14.64046573638916,
          -26.603723526000977,
          -26.68802261352539,
          -24.899429321289062,
          -28.504270553588867,
          27.42871856689453,
          -26.829849243164062,
          -30.365341186523438,
          9.609578132629395,
          -18.217397689819336,
          -11.902599334716797,
          -15.063804626464844,
          -39.02327346801758,
          29.834304809570312,
          -66.53372955322266,
          -29.976791381835938,
          29.834285736083984,
          -9.700639724731445,
          9.549090385437012,
          -30.546146392822266,
          -27.912065505981445,
          -67.51229858398438,
          68.15985107421875,
          -17.37758445739746,
          -33.80717849731445,
          -30.958972930908203,
          70.24031829833984,
          -3.2158613204956055,
          57.01250457763672,
          0.031905099749565125
         ],
         "yaxis": "y"
        }
       ],
       "layout": {
        "legend": {
         "title": {
          "text": "Class"
         },
         "tracegroupgap": 0
        },
        "template": {
         "data": {
          "bar": [
           {
            "error_x": {
             "color": "#2a3f5f"
            },
            "error_y": {
             "color": "#2a3f5f"
            },
            "marker": {
             "line": {
              "color": "#E5ECF6",
              "width": 0.5
             },
             "pattern": {
              "fillmode": "overlay",
              "size": 10,
              "solidity": 0.2
             }
            },
            "type": "bar"
           }
          ],
          "barpolar": [
           {
            "marker": {
             "line": {
              "color": "#E5ECF6",
              "width": 0.5
             },
             "pattern": {
              "fillmode": "overlay",
              "size": 10,
              "solidity": 0.2
             }
            },
            "type": "barpolar"
           }
          ],
          "carpet": [
           {
            "aaxis": {
             "endlinecolor": "#2a3f5f",
             "gridcolor": "white",
             "linecolor": "white",
             "minorgridcolor": "white",
             "startlinecolor": "#2a3f5f"
            },
            "baxis": {
             "endlinecolor": "#2a3f5f",
             "gridcolor": "white",
             "linecolor": "white",
             "minorgridcolor": "white",
             "startlinecolor": "#2a3f5f"
            },
            "type": "carpet"
           }
          ],
          "choropleth": [
           {
            "colorbar": {
             "outlinewidth": 0,
             "ticks": ""
            },
            "type": "choropleth"
           }
          ],
          "contour": [
           {
            "colorbar": {
             "outlinewidth": 0,
             "ticks": ""
            },
            "colorscale": [
             [
              0,
              "#0d0887"
             ],
             [
              0.1111111111111111,
              "#46039f"
             ],
             [
              0.2222222222222222,
              "#7201a8"
             ],
             [
              0.3333333333333333,
              "#9c179e"
             ],
             [
              0.4444444444444444,
              "#bd3786"
             ],
             [
              0.5555555555555556,
              "#d8576b"
             ],
             [
              0.6666666666666666,
              "#ed7953"
             ],
             [
              0.7777777777777778,
              "#fb9f3a"
             ],
             [
              0.8888888888888888,
              "#fdca26"
             ],
             [
              1,
              "#f0f921"
             ]
            ],
            "type": "contour"
           }
          ],
          "contourcarpet": [
           {
            "colorbar": {
             "outlinewidth": 0,
             "ticks": ""
            },
            "type": "contourcarpet"
           }
          ],
          "heatmap": [
           {
            "colorbar": {
             "outlinewidth": 0,
             "ticks": ""
            },
            "colorscale": [
             [
              0,
              "#0d0887"
             ],
             [
              0.1111111111111111,
              "#46039f"
             ],
             [
              0.2222222222222222,
              "#7201a8"
             ],
             [
              0.3333333333333333,
              "#9c179e"
             ],
             [
              0.4444444444444444,
              "#bd3786"
             ],
             [
              0.5555555555555556,
              "#d8576b"
             ],
             [
              0.6666666666666666,
              "#ed7953"
             ],
             [
              0.7777777777777778,
              "#fb9f3a"
             ],
             [
              0.8888888888888888,
              "#fdca26"
             ],
             [
              1,
              "#f0f921"
             ]
            ],
            "type": "heatmap"
           }
          ],
          "heatmapgl": [
           {
            "colorbar": {
             "outlinewidth": 0,
             "ticks": ""
            },
            "colorscale": [
             [
              0,
              "#0d0887"
             ],
             [
              0.1111111111111111,
              "#46039f"
             ],
             [
              0.2222222222222222,
              "#7201a8"
             ],
             [
              0.3333333333333333,
              "#9c179e"
             ],
             [
              0.4444444444444444,
              "#bd3786"
             ],
             [
              0.5555555555555556,
              "#d8576b"
             ],
             [
              0.6666666666666666,
              "#ed7953"
             ],
             [
              0.7777777777777778,
              "#fb9f3a"
             ],
             [
              0.8888888888888888,
              "#fdca26"
             ],
             [
              1,
              "#f0f921"
             ]
            ],
            "type": "heatmapgl"
           }
          ],
          "histogram": [
           {
            "marker": {
             "pattern": {
              "fillmode": "overlay",
              "size": 10,
              "solidity": 0.2
             }
            },
            "type": "histogram"
           }
          ],
          "histogram2d": [
           {
            "colorbar": {
             "outlinewidth": 0,
             "ticks": ""
            },
            "colorscale": [
             [
              0,
              "#0d0887"
             ],
             [
              0.1111111111111111,
              "#46039f"
             ],
             [
              0.2222222222222222,
              "#7201a8"
             ],
             [
              0.3333333333333333,
              "#9c179e"
             ],
             [
              0.4444444444444444,
              "#bd3786"
             ],
             [
              0.5555555555555556,
              "#d8576b"
             ],
             [
              0.6666666666666666,
              "#ed7953"
             ],
             [
              0.7777777777777778,
              "#fb9f3a"
             ],
             [
              0.8888888888888888,
              "#fdca26"
             ],
             [
              1,
              "#f0f921"
             ]
            ],
            "type": "histogram2d"
           }
          ],
          "histogram2dcontour": [
           {
            "colorbar": {
             "outlinewidth": 0,
             "ticks": ""
            },
            "colorscale": [
             [
              0,
              "#0d0887"
             ],
             [
              0.1111111111111111,
              "#46039f"
             ],
             [
              0.2222222222222222,
              "#7201a8"
             ],
             [
              0.3333333333333333,
              "#9c179e"
             ],
             [
              0.4444444444444444,
              "#bd3786"
             ],
             [
              0.5555555555555556,
              "#d8576b"
             ],
             [
              0.6666666666666666,
              "#ed7953"
             ],
             [
              0.7777777777777778,
              "#fb9f3a"
             ],
             [
              0.8888888888888888,
              "#fdca26"
             ],
             [
              1,
              "#f0f921"
             ]
            ],
            "type": "histogram2dcontour"
           }
          ],
          "mesh3d": [
           {
            "colorbar": {
             "outlinewidth": 0,
             "ticks": ""
            },
            "type": "mesh3d"
           }
          ],
          "parcoords": [
           {
            "line": {
             "colorbar": {
              "outlinewidth": 0,
              "ticks": ""
             }
            },
            "type": "parcoords"
           }
          ],
          "pie": [
           {
            "automargin": true,
            "type": "pie"
           }
          ],
          "scatter": [
           {
            "fillpattern": {
             "fillmode": "overlay",
             "size": 10,
             "solidity": 0.2
            },
            "type": "scatter"
           }
          ],
          "scatter3d": [
           {
            "line": {
             "colorbar": {
              "outlinewidth": 0,
              "ticks": ""
             }
            },
            "marker": {
             "colorbar": {
              "outlinewidth": 0,
              "ticks": ""
             }
            },
            "type": "scatter3d"
           }
          ],
          "scattercarpet": [
           {
            "marker": {
             "colorbar": {
              "outlinewidth": 0,
              "ticks": ""
             }
            },
            "type": "scattercarpet"
           }
          ],
          "scattergeo": [
           {
            "marker": {
             "colorbar": {
              "outlinewidth": 0,
              "ticks": ""
             }
            },
            "type": "scattergeo"
           }
          ],
          "scattergl": [
           {
            "marker": {
             "colorbar": {
              "outlinewidth": 0,
              "ticks": ""
             }
            },
            "type": "scattergl"
           }
          ],
          "scattermapbox": [
           {
            "marker": {
             "colorbar": {
              "outlinewidth": 0,
              "ticks": ""
             }
            },
            "type": "scattermapbox"
           }
          ],
          "scatterpolar": [
           {
            "marker": {
             "colorbar": {
              "outlinewidth": 0,
              "ticks": ""
             }
            },
            "type": "scatterpolar"
           }
          ],
          "scatterpolargl": [
           {
            "marker": {
             "colorbar": {
              "outlinewidth": 0,
              "ticks": ""
             }
            },
            "type": "scatterpolargl"
           }
          ],
          "scatterternary": [
           {
            "marker": {
             "colorbar": {
              "outlinewidth": 0,
              "ticks": ""
             }
            },
            "type": "scatterternary"
           }
          ],
          "surface": [
           {
            "colorbar": {
             "outlinewidth": 0,
             "ticks": ""
            },
            "colorscale": [
             [
              0,
              "#0d0887"
             ],
             [
              0.1111111111111111,
              "#46039f"
             ],
             [
              0.2222222222222222,
              "#7201a8"
             ],
             [
              0.3333333333333333,
              "#9c179e"
             ],
             [
              0.4444444444444444,
              "#bd3786"
             ],
             [
              0.5555555555555556,
              "#d8576b"
             ],
             [
              0.6666666666666666,
              "#ed7953"
             ],
             [
              0.7777777777777778,
              "#fb9f3a"
             ],
             [
              0.8888888888888888,
              "#fdca26"
             ],
             [
              1,
              "#f0f921"
             ]
            ],
            "type": "surface"
           }
          ],
          "table": [
           {
            "cells": {
             "fill": {
              "color": "#EBF0F8"
             },
             "line": {
              "color": "white"
             }
            },
            "header": {
             "fill": {
              "color": "#C8D4E3"
             },
             "line": {
              "color": "white"
             }
            },
            "type": "table"
           }
          ]
         },
         "layout": {
          "annotationdefaults": {
           "arrowcolor": "#2a3f5f",
           "arrowhead": 0,
           "arrowwidth": 1
          },
          "autotypenumbers": "strict",
          "coloraxis": {
           "colorbar": {
            "outlinewidth": 0,
            "ticks": ""
           }
          },
          "colorscale": {
           "diverging": [
            [
             0,
             "#8e0152"
            ],
            [
             0.1,
             "#c51b7d"
            ],
            [
             0.2,
             "#de77ae"
            ],
            [
             0.3,
             "#f1b6da"
            ],
            [
             0.4,
             "#fde0ef"
            ],
            [
             0.5,
             "#f7f7f7"
            ],
            [
             0.6,
             "#e6f5d0"
            ],
            [
             0.7,
             "#b8e186"
            ],
            [
             0.8,
             "#7fbc41"
            ],
            [
             0.9,
             "#4d9221"
            ],
            [
             1,
             "#276419"
            ]
           ],
           "sequential": [
            [
             0,
             "#0d0887"
            ],
            [
             0.1111111111111111,
             "#46039f"
            ],
            [
             0.2222222222222222,
             "#7201a8"
            ],
            [
             0.3333333333333333,
             "#9c179e"
            ],
            [
             0.4444444444444444,
             "#bd3786"
            ],
            [
             0.5555555555555556,
             "#d8576b"
            ],
            [
             0.6666666666666666,
             "#ed7953"
            ],
            [
             0.7777777777777778,
             "#fb9f3a"
            ],
            [
             0.8888888888888888,
             "#fdca26"
            ],
            [
             1,
             "#f0f921"
            ]
           ],
           "sequentialminus": [
            [
             0,
             "#0d0887"
            ],
            [
             0.1111111111111111,
             "#46039f"
            ],
            [
             0.2222222222222222,
             "#7201a8"
            ],
            [
             0.3333333333333333,
             "#9c179e"
            ],
            [
             0.4444444444444444,
             "#bd3786"
            ],
            [
             0.5555555555555556,
             "#d8576b"
            ],
            [
             0.6666666666666666,
             "#ed7953"
            ],
            [
             0.7777777777777778,
             "#fb9f3a"
            ],
            [
             0.8888888888888888,
             "#fdca26"
            ],
            [
             1,
             "#f0f921"
            ]
           ]
          },
          "colorway": [
           "#636efa",
           "#EF553B",
           "#00cc96",
           "#ab63fa",
           "#FFA15A",
           "#19d3f3",
           "#FF6692",
           "#B6E880",
           "#FF97FF",
           "#FECB52"
          ],
          "font": {
           "color": "#2a3f5f"
          },
          "geo": {
           "bgcolor": "white",
           "lakecolor": "white",
           "landcolor": "#E5ECF6",
           "showlakes": true,
           "showland": true,
           "subunitcolor": "white"
          },
          "hoverlabel": {
           "align": "left"
          },
          "hovermode": "closest",
          "mapbox": {
           "style": "light"
          },
          "paper_bgcolor": "white",
          "plot_bgcolor": "#E5ECF6",
          "polar": {
           "angularaxis": {
            "gridcolor": "white",
            "linecolor": "white",
            "ticks": ""
           },
           "bgcolor": "#E5ECF6",
           "radialaxis": {
            "gridcolor": "white",
            "linecolor": "white",
            "ticks": ""
           }
          },
          "scene": {
           "xaxis": {
            "backgroundcolor": "#E5ECF6",
            "gridcolor": "white",
            "gridwidth": 2,
            "linecolor": "white",
            "showbackground": true,
            "ticks": "",
            "zerolinecolor": "white"
           },
           "yaxis": {
            "backgroundcolor": "#E5ECF6",
            "gridcolor": "white",
            "gridwidth": 2,
            "linecolor": "white",
            "showbackground": true,
            "ticks": "",
            "zerolinecolor": "white"
           },
           "zaxis": {
            "backgroundcolor": "#E5ECF6",
            "gridcolor": "white",
            "gridwidth": 2,
            "linecolor": "white",
            "showbackground": true,
            "ticks": "",
            "zerolinecolor": "white"
           }
          },
          "shapedefaults": {
           "line": {
            "color": "#2a3f5f"
           }
          },
          "ternary": {
           "aaxis": {
            "gridcolor": "white",
            "linecolor": "white",
            "ticks": ""
           },
           "baxis": {
            "gridcolor": "white",
            "linecolor": "white",
            "ticks": ""
           },
           "bgcolor": "#E5ECF6",
           "caxis": {
            "gridcolor": "white",
            "linecolor": "white",
            "ticks": ""
           }
          },
          "title": {
           "x": 0.05
          },
          "xaxis": {
           "automargin": true,
           "gridcolor": "white",
           "linecolor": "white",
           "ticks": "",
           "title": {
            "standoff": 15
           },
           "zerolinecolor": "white",
           "zerolinewidth": 2
          },
          "yaxis": {
           "automargin": true,
           "gridcolor": "white",
           "linecolor": "white",
           "ticks": "",
           "title": {
            "standoff": 15
           },
           "zerolinecolor": "white",
           "zerolinewidth": 2
          }
         }
        },
        "title": {
         "text": "TSNE with perplexity of 10"
        },
        "xaxis": {
         "anchor": "y",
         "domain": [
          0,
          1
         ],
         "title": {
          "text": "Principal Component 1"
         }
        },
        "yaxis": {
         "anchor": "x",
         "domain": [
          0,
          1
         ],
         "title": {
          "text": "Principal Component 2"
         }
        }
       }
      }
     },
     "metadata": {},
     "output_type": "display_data"
    }
   ],
   "source": [
    "from sklearn.manifold import TSNE\n",
    "X_embedded = TSNE(n_components=2, learning_rate='auto',init='random', perplexity=10).fit_transform(X)\n",
    "tsne_df = pd.DataFrame(data=X_embedded, columns=['PCA1', 'PCA2'])\n",
    "tsne_df['Class'] = Y['class']  # Add the class labels\n",
    "tsne_df['Name']=Y[\"mesh_name\"]\n",
    "\n",
    "plot_data2(tsne_df,\"PCA1\",\"PCA2\", title=\"TSNE with perplexity of 10\", subset=chunks[0],html_filename=\"plot_tsne_perplexity_10.html\")"
   ]
  },
  {
   "cell_type": "code",
   "execution_count": 26,
   "metadata": {},
   "outputs": [
    {
     "name": "stderr",
     "output_type": "stream",
     "text": [
      "d:\\Programms\\Anaconda\\envs\\infomr\\lib\\site-packages\\sklearn\\manifold\\_t_sne.py:106: RuntimeWarning:\n",
      "\n",
      "overflow encountered in cast\n",
      "\n"
     ]
    },
    {
     "name": "stdout",
     "output_type": "stream",
     "text": [
      "Plot saved as plot_tsne_perplexity60.html\n"
     ]
    },
    {
     "data": {
      "application/vnd.plotly.v1+json": {
       "config": {
        "plotlyServerURL": "https://plot.ly"
       },
       "data": [
        {
         "customdata": [
          [
           "AircraftBuoyant",
           "m1337.obj"
          ],
          [
           "AircraftBuoyant",
           "m1338.obj"
          ],
          [
           "AircraftBuoyant",
           "m1339.obj"
          ],
          [
           "AircraftBuoyant",
           "m1340.obj"
          ],
          [
           "AircraftBuoyant",
           "m1341.obj"
          ],
          [
           "AircraftBuoyant",
           "m1342.obj"
          ],
          [
           "AircraftBuoyant",
           "m1343.obj"
          ],
          [
           "AircraftBuoyant",
           "m1344.obj"
          ],
          [
           "AircraftBuoyant",
           "m1345.obj"
          ],
          [
           "AircraftBuoyant",
           "m1346.obj"
          ],
          [
           "AircraftBuoyant",
           "m1348.obj"
          ],
          [
           "AircraftBuoyant",
           "m1349.obj"
          ],
          [
           "AircraftBuoyant",
           "m1350.obj"
          ],
          [
           "AircraftBuoyant",
           "m1351.obj"
          ],
          [
           "AircraftBuoyant",
           "m1352.obj"
          ]
         ],
         "hovertemplate": "Class=%{customdata[0]}<br>Principal Component 1=%{x}<br>Principal Component 2=%{y}<br>Name=%{customdata[1]}<extra></extra>",
         "legendgroup": "AircraftBuoyant",
         "marker": {
          "color": "#636efa",
          "symbol": "circle"
         },
         "mode": "markers",
         "name": "AircraftBuoyant",
         "orientation": "v",
         "showlegend": true,
         "type": "scatter",
         "x": [
          -27.039133071899414,
          -25.65232276916504,
          -24.62946128845215,
          -25.64027976989746,
          -26.159305572509766,
          -27.63727378845215,
          -25.651287078857422,
          -28.074554443359375,
          -23.06389617919922,
          -22.813085556030273,
          -22.894630432128906,
          -23.060115814208984,
          -22.92810821533203,
          -18.754405975341797,
          -25.396800994873047
         ],
         "xaxis": "x",
         "y": [
          35.54219436645508,
          34.96955490112305,
          30.100997924804688,
          20.570804595947266,
          23.94915199279785,
          33.157447814941406,
          34.5395622253418,
          33.56829833984375,
          -41.03355026245117,
          15.917777061462402,
          16.043317794799805,
          16.64618492126465,
          16.434206008911133,
          12.934956550598145,
          21.581703186035156
         ],
         "yaxis": "y"
        },
        {
         "customdata": [
          [
           "Apartment",
           "D00045.obj"
          ],
          [
           "Apartment",
           "D00086.obj"
          ],
          [
           "Apartment",
           "D00138.obj"
          ],
          [
           "Apartment",
           "D00156.obj"
          ],
          [
           "Apartment",
           "D00310.obj"
          ],
          [
           "Apartment",
           "D00348.obj"
          ],
          [
           "Apartment",
           "D00366.obj"
          ],
          [
           "Apartment",
           "D00478.obj"
          ],
          [
           "Apartment",
           "D00496.obj"
          ],
          [
           "Apartment",
           "D00626.obj"
          ],
          [
           "Apartment",
           "D00639.obj"
          ],
          [
           "Apartment",
           "D00651.obj"
          ],
          [
           "Apartment",
           "D00681.obj"
          ],
          [
           "Apartment",
           "D00780.obj"
          ],
          [
           "Apartment",
           "D00792.obj"
          ],
          [
           "Apartment",
           "D00859.obj"
          ],
          [
           "Apartment",
           "D00860.obj"
          ],
          [
           "Apartment",
           "D00869.obj"
          ],
          [
           "Apartment",
           "D00921.obj"
          ],
          [
           "Apartment",
           "D00953.obj"
          ],
          [
           "Apartment",
           "m463.obj"
          ],
          [
           "Apartment",
           "m464.obj"
          ],
          [
           "Apartment",
           "m465.obj"
          ]
         ],
         "hovertemplate": "Class=%{customdata[0]}<br>Principal Component 1=%{x}<br>Principal Component 2=%{y}<br>Name=%{customdata[1]}<extra></extra>",
         "legendgroup": "Apartment",
         "marker": {
          "color": "#EF553B",
          "symbol": "circle"
         },
         "mode": "markers",
         "name": "Apartment",
         "orientation": "v",
         "showlegend": true,
         "type": "scatter",
         "x": [
          28.022619247436523,
          22.344694137573242,
          9.733725547790527,
          -15.540875434875488,
          -19.99047088623047,
          -21.143442153930664,
          -18.889005661010742,
          26.781246185302734,
          15.62149429321289,
          25.967294692993164,
          21.058490753173828,
          -15.781099319458008,
          8.554458618164062,
          -13.809215545654297,
          -23.85312271118164,
          -10.452091217041016,
          26.71633529663086,
          7.151214599609375,
          -4.137773036956787,
          -20.260929107666016,
          19.967308044433594,
          -0.4331635534763336,
          25.67742919921875
         ],
         "xaxis": "x",
         "y": [
          -15.772640228271484,
          7.515450954437256,
          -33.91217803955078,
          -44.464141845703125,
          -45.86598587036133,
          31.789234161376953,
          30.700031280517578,
          -0.9737587571144104,
          16.16246795654297,
          0.4072633683681488,
          11.630073547363281,
          -44.75848388671875,
          -34.704769134521484,
          13.90351676940918,
          33.71114730834961,
          22.092266082763672,
          -0.6126863956451416,
          21.466785430908203,
          26.75928497314453,
          -45.343379974365234,
          -26.553701400756836,
          -38.98332214355469,
          -12.863675117492676
         ],
         "yaxis": "y"
        },
        {
         "customdata": [
          [
           "AquaticAnimal",
           "m53.obj"
          ],
          [
           "AquaticAnimal",
           "m54.obj"
          ],
          [
           "AquaticAnimal",
           "m55.obj"
          ],
          [
           "AquaticAnimal",
           "m56.obj"
          ],
          [
           "AquaticAnimal",
           "m57.obj"
          ],
          [
           "AquaticAnimal",
           "m58.obj"
          ],
          [
           "AquaticAnimal",
           "m59.obj"
          ],
          [
           "AquaticAnimal",
           "m60.obj"
          ],
          [
           "AquaticAnimal",
           "m61.obj"
          ],
          [
           "AquaticAnimal",
           "m62.obj"
          ],
          [
           "AquaticAnimal",
           "m63.obj"
          ],
          [
           "AquaticAnimal",
           "m64.obj"
          ],
          [
           "AquaticAnimal",
           "m65.obj"
          ],
          [
           "AquaticAnimal",
           "m66.obj"
          ],
          [
           "AquaticAnimal",
           "m67.obj"
          ],
          [
           "AquaticAnimal",
           "m68.obj"
          ],
          [
           "AquaticAnimal",
           "m69.obj"
          ],
          [
           "AquaticAnimal",
           "m70.obj"
          ],
          [
           "AquaticAnimal",
           "m71.obj"
          ],
          [
           "AquaticAnimal",
           "m72.obj"
          ],
          [
           "AquaticAnimal",
           "m73.obj"
          ],
          [
           "AquaticAnimal",
           "m74.obj"
          ],
          [
           "AquaticAnimal",
           "m75.obj"
          ],
          [
           "AquaticAnimal",
           "m76.obj"
          ],
          [
           "AquaticAnimal",
           "m77.obj"
          ],
          [
           "AquaticAnimal",
           "m78.obj"
          ],
          [
           "AquaticAnimal",
           "m79.obj"
          ],
          [
           "AquaticAnimal",
           "m80.obj"
          ],
          [
           "AquaticAnimal",
           "m81.obj"
          ]
         ],
         "hovertemplate": "Class=%{customdata[0]}<br>Principal Component 1=%{x}<br>Principal Component 2=%{y}<br>Name=%{customdata[1]}<extra></extra>",
         "legendgroup": "AquaticAnimal",
         "marker": {
          "color": "#00cc96",
          "symbol": "circle"
         },
         "mode": "markers",
         "name": "AquaticAnimal",
         "orientation": "v",
         "showlegend": true,
         "type": "scatter",
         "x": [
          -5.401262283325195,
          -11.564497947692871,
          -8.044027328491211,
          -7.694920539855957,
          -4.297114849090576,
          -27.02532386779785,
          19.703109741210938,
          -13.644303321838379,
          -17.294763565063477,
          -7.5641255378723145,
          -24.768842697143555,
          -12.576494216918945,
          0.9496374130249023,
          0.8262463212013245,
          -7.376177787780762,
          -11.386770248413086,
          -15.93911361694336,
          -12.864927291870117,
          -21.624755859375,
          -15.866031646728516,
          -22.04917335510254,
          -15.89614486694336,
          -16.86387062072754,
          -16.919246673583984,
          -12.801084518432617,
          -18.913850784301758,
          -12.2905912399292,
          -13.869365692138672,
          -16.80306053161621
         ],
         "xaxis": "x",
         "y": [
          -2.4081623554229736,
          5.918374538421631,
          0.8227633237838745,
          0.4781918525695801,
          -4.476175308227539,
          29.747873306274414,
          3.192098617553711,
          10.440320014953613,
          11.64388370513916,
          -0.33877822756767273,
          32.512142181396484,
          5.766511917114258,
          13.51850414276123,
          21.98175048828125,
          -2.622530698776245,
          8.044447898864746,
          11.322349548339844,
          7.146816730499268,
          15.467921257019043,
          11.00374984741211,
          16.166440963745117,
          11.844718933105469,
          17.28228759765625,
          11.053386688232422,
          13.551803588867188,
          14.08469295501709,
          5.490218162536621,
          10.243562698364258,
          12.27610969543457
         ],
         "yaxis": "y"
        },
        {
         "customdata": [
          [
           "Bed",
           "D00031.obj"
          ],
          [
           "Bed",
           "D00110.obj"
          ],
          [
           "Bed",
           "D00121.obj"
          ],
          [
           "Bed",
           "D00184.obj"
          ],
          [
           "Bed",
           "D00210.obj"
          ],
          [
           "Bed",
           "D00213.obj"
          ],
          [
           "Bed",
           "D00217.obj"
          ],
          [
           "Bed",
           "D00307.obj"
          ],
          [
           "Bed",
           "D00322.obj"
          ],
          [
           "Bed",
           "D00417.obj"
          ],
          [
           "Bed",
           "D00538.obj"
          ],
          [
           "Bed",
           "D00545.obj"
          ],
          [
           "Bed",
           "D00552.obj"
          ],
          [
           "Bed",
           "D00565.obj"
          ],
          [
           "Bed",
           "D00650.obj"
          ],
          [
           "Bed",
           "D00735.obj"
          ],
          [
           "Bed",
           "D00836.obj"
          ],
          [
           "Bed",
           "D00839.obj"
          ],
          [
           "Bed",
           "D00969.obj"
          ],
          [
           "Bed",
           "D00988.obj"
          ],
          [
           "Bed",
           "m945.obj"
          ],
          [
           "Bed",
           "m946.obj"
          ],
          [
           "Bed",
           "m947.obj"
          ],
          [
           "Bed",
           "m948.obj"
          ],
          [
           "Bed",
           "m949.obj"
          ],
          [
           "Bed",
           "m950.obj"
          ],
          [
           "Bed",
           "m951.obj"
          ]
         ],
         "hovertemplate": "Class=%{customdata[0]}<br>Principal Component 1=%{x}<br>Principal Component 2=%{y}<br>Name=%{customdata[1]}<extra></extra>",
         "legendgroup": "Bed",
         "marker": {
          "color": "#ab63fa",
          "symbol": "circle"
         },
         "mode": "markers",
         "name": "Bed",
         "orientation": "v",
         "showlegend": true,
         "type": "scatter",
         "x": [
          6.189400672912598,
          -1.6154881715774536,
          17.53615379333496,
          12.899922370910645,
          27.27524185180664,
          4.508017063140869,
          8.927824020385742,
          18.403602600097656,
          3.4400506019592285,
          10.238580703735352,
          -11.070212364196777,
          17.0018367767334,
          -14.93984603881836,
          4.724945068359375,
          12.769001960754395,
          8.304183959960938,
          -13.304682731628418,
          6.441027641296387,
          -8.311996459960938,
          26.732402801513672,
          0.7852054238319397,
          9.157279014587402,
          9.430852890014648,
          -8.975995063781738,
          1.3958858251571655,
          1.769736647605896,
          26.18899154663086
         ],
         "xaxis": "x",
         "y": [
          12.491621971130371,
          10.866283416748047,
          11.571213722229004,
          16.7529354095459,
          -7.262102127075195,
          10.034114837646484,
          11.550540924072266,
          8.258752822875977,
          10.257338523864746,
          7.930354118347168,
          21.057649612426758,
          10.826568603515625,
          27.285490036010742,
          5.703632831573486,
          12.022150993347168,
          14.013137817382812,
          21.490095138549805,
          8.918181419372559,
          23.15016746520996,
          -9.12936019897461,
          23.579099655151367,
          13.759679794311523,
          14.263545036315918,
          26.98588752746582,
          22.90534210205078,
          -38.05481719970703,
          -14.767228126525879
         ],
         "yaxis": "y"
        },
        {
         "customdata": [
          [
           "Bicycle",
           "D00016.obj"
          ],
          [
           "Bicycle",
           "D00033.obj"
          ],
          [
           "Bicycle",
           "D00040.obj"
          ],
          [
           "Bicycle",
           "D00077.obj"
          ],
          [
           "Bicycle",
           "D00078.obj"
          ],
          [
           "Bicycle",
           "D00462.obj"
          ],
          [
           "Bicycle",
           "D00514.obj"
          ],
          [
           "Bicycle",
           "D00536.obj"
          ],
          [
           "Bicycle",
           "D00555.obj"
          ],
          [
           "Bicycle",
           "D00558.obj"
          ],
          [
           "Bicycle",
           "D00567.obj"
          ],
          [
           "Bicycle",
           "D00621.obj"
          ],
          [
           "Bicycle",
           "D00708.obj"
          ],
          [
           "Bicycle",
           "D00750.obj"
          ],
          [
           "Bicycle",
           "D00838.obj"
          ],
          [
           "Bicycle",
           "D00847.obj"
          ],
          [
           "Bicycle",
           "D00904.obj"
          ],
          [
           "Bicycle",
           "D00930.obj"
          ],
          [
           "Bicycle",
           "D00931.obj"
          ],
          [
           "Bicycle",
           "D00974.obj"
          ],
          [
           "Bicycle",
           "m1472.obj"
          ],
          [
           "Bicycle",
           "m1473.obj"
          ],
          [
           "Bicycle",
           "m1475.obj"
          ],
          [
           "Bicycle",
           "m1476.obj"
          ],
          [
           "Bicycle",
           "m1477.obj"
          ],
          [
           "Bicycle",
           "m1478.obj"
          ]
         ],
         "hovertemplate": "Class=%{customdata[0]}<br>Principal Component 1=%{x}<br>Principal Component 2=%{y}<br>Name=%{customdata[1]}<extra></extra>",
         "legendgroup": "Bicycle",
         "marker": {
          "color": "#FFA15A",
          "symbol": "circle"
         },
         "mode": "markers",
         "name": "Bicycle",
         "orientation": "v",
         "showlegend": true,
         "type": "scatter",
         "x": [
          11.44385814666748,
          15.213345527648926,
          21.784717559814453,
          15.397777557373047,
          17.172449111938477,
          -10.11227035522461,
          12.439166069030762,
          21.746509552001953,
          13.00101089477539,
          17.785554885864258,
          21.35739517211914,
          11.910452842712402,
          19.02216339111328,
          18.665557861328125,
          19.57220458984375,
          17.254642486572266,
          21.701274871826172,
          19.300764083862305,
          17.99074935913086,
          24.754634857177734,
          24.908937454223633,
          8.740328788757324,
          24.764490127563477,
          21.059627532958984,
          8.276386260986328,
          -11.957504272460938
         ],
         "xaxis": "x",
         "y": [
          -30.02415657043457,
          -28.615234375,
          -21.818952560424805,
          -29.21917152404785,
          -28.354211807250977,
          -41.939640045166016,
          -31.432540893554688,
          -24.049863815307617,
          -31.523174285888672,
          -26.6619873046875,
          -14.129172325134277,
          -29.49370765686035,
          -24.734390258789062,
          -26.188644409179688,
          -23.834516525268555,
          -28.270418167114258,
          -16.002782821655273,
          -26.244064331054688,
          -26.657365798950195,
          -15.157782554626465,
          -16.899425506591797,
          -33.33753967285156,
          -15.087386131286621,
          -14.031061172485352,
          -33.99604415893555,
          -42.715023040771484
         ],
         "yaxis": "y"
        },
        {
         "customdata": [
          [
           "Biplane",
           "D00069.obj"
          ],
          [
           "Biplane",
           "D00132.obj"
          ],
          [
           "Biplane",
           "D00178.obj"
          ],
          [
           "Biplane",
           "D00199.obj"
          ],
          [
           "Biplane",
           "D00246.obj"
          ],
          [
           "Biplane",
           "D00276.obj"
          ],
          [
           "Biplane",
           "D00277.obj"
          ],
          [
           "Biplane",
           "D00320.obj"
          ],
          [
           "Biplane",
           "D00373.obj"
          ],
          [
           "Biplane",
           "D00410.obj"
          ],
          [
           "Biplane",
           "D00490.obj"
          ],
          [
           "Biplane",
           "D00515.obj"
          ],
          [
           "Biplane",
           "D00601.obj"
          ],
          [
           "Biplane",
           "D00616.obj"
          ],
          [
           "Biplane",
           "D00632.obj"
          ],
          [
           "Biplane",
           "D00634.obj"
          ],
          [
           "Biplane",
           "D00666.obj"
          ],
          [
           "Biplane",
           "D00854.obj"
          ],
          [
           "Biplane",
           "D00890.obj"
          ],
          [
           "Biplane",
           "D00900.obj"
          ],
          [
           "Biplane",
           "m1118.obj"
          ],
          [
           "Biplane",
           "m1119.obj"
          ],
          [
           "Biplane",
           "m1120.obj"
          ],
          [
           "Biplane",
           "m1121.obj"
          ],
          [
           "Biplane",
           "m1122.obj"
          ],
          [
           "Biplane",
           "m1123.obj"
          ],
          [
           "Biplane",
           "m1124.obj"
          ],
          [
           "Biplane",
           "m1126.obj"
          ],
          [
           "Biplane",
           "m1127.obj"
          ],
          [
           "Biplane",
           "m1128.obj"
          ],
          [
           "Biplane",
           "m1129.obj"
          ],
          [
           "Biplane",
           "m1131.obj"
          ],
          [
           "Biplane",
           "m1132.obj"
          ],
          [
           "Biplane",
           "m1133.obj"
          ],
          [
           "Biplane",
           "m1134.obj"
          ],
          [
           "Biplane",
           "m1135.obj"
          ],
          [
           "Biplane",
           "m1136.obj"
          ],
          [
           "Biplane",
           "m1137.obj"
          ],
          [
           "Biplane",
           "m1138.obj"
          ],
          [
           "Biplane",
           "m1139.obj"
          ],
          [
           "Biplane",
           "m1141.obj"
          ],
          [
           "Biplane",
           "m1143.obj"
          ],
          [
           "Biplane",
           "m1144.obj"
          ],
          [
           "Biplane",
           "m1146.obj"
          ]
         ],
         "hovertemplate": "Class=%{customdata[0]}<br>Principal Component 1=%{x}<br>Principal Component 2=%{y}<br>Name=%{customdata[1]}<extra></extra>",
         "legendgroup": "Biplane",
         "marker": {
          "color": "#19d3f3",
          "symbol": "circle"
         },
         "mode": "markers",
         "name": "Biplane",
         "orientation": "v",
         "showlegend": true,
         "type": "scatter",
         "x": [
          -21.815105438232422,
          26.489105224609375,
          27.85597038269043,
          26.63971710205078,
          -5.711325645446777,
          16.37472915649414,
          21.746044158935547,
          27.150634765625,
          19.11476707458496,
          22.63538932800293,
          15.488150596618652,
          24.767555236816406,
          21.683914184570312,
          26.84124755859375,
          16.336315155029297,
          24.53836441040039,
          13.697222709655762,
          6.24495792388916,
          -20.719446182250977,
          21.08013153076172,
          -2.0836753845214844,
          26.203365325927734,
          -7.0296549797058105,
          -4.36255407333374,
          26.257633209228516,
          25.887439727783203,
          3.07493257522583,
          23.45044708251953,
          14.428996086120605,
          25.695131301879883,
          27.12894630432129,
          17.855802536010742,
          14.135601997375488,
          22.04758644104004,
          25.0908203125,
          24.538227081298828,
          28.231842041015625,
          3.405346632003784,
          28.458654403686523,
          11.483025550842285,
          27.92879867553711,
          -10.413549423217773,
          20.800874710083008,
          0.6087949275970459
         ],
         "xaxis": "x",
         "y": [
          -45.52884292602539,
          -9.911565780639648,
          -13.622626304626465,
          -17.777063369750977,
          -40.91716384887695,
          15.04928207397461,
          -24.361146926879883,
          -16.76247787475586,
          10.53203296661377,
          4.501288890838623,
          -30.44086265563965,
          4.167191505432129,
          10.692874908447266,
          -15.718097686767578,
          14.219796180725098,
          -20.873580932617188,
          13.97534465789795,
          -35.55239486694336,
          -40.13928985595703,
          -24.914669036865234,
          -39.515769958496094,
          0.42024531960487366,
          -40.81942367553711,
          -40.28257369995117,
          -18.380285263061523,
          -0.0007080319919623435,
          -36.94539260864258,
          6.325906276702881,
          14.001829147338867,
          -0.4741925597190857,
          -4.4871931076049805,
          11.605220794677734,
          -31.33175277709961,
          8.881133079528809,
          -9.283080101013184,
          -19.768957138061523,
          -8.799742698669434,
          -36.587364196777344,
          -11.607634544372559,
          -32.890987396240234,
          -15.470831871032715,
          -42.095069885253906,
          -25.298437118530273,
          11.527201652526855
         ],
         "yaxis": "y"
        },
        {
         "customdata": [
          [
           "Bird",
           "D00089.obj"
          ],
          [
           "Bird",
           "D00113.obj"
          ],
          [
           "Bird",
           "D00164.obj"
          ],
          [
           "Bird",
           "D00234.obj"
          ],
          [
           "Bird",
           "D00271.obj"
          ],
          [
           "Bird",
           "D00284.obj"
          ],
          [
           "Bird",
           "D00323.obj"
          ],
          [
           "Bird",
           "D00386.obj"
          ],
          [
           "Bird",
           "D00438.obj"
          ],
          [
           "Bird",
           "D00442.obj"
          ],
          [
           "Bird",
           "D00546.obj"
          ],
          [
           "Bird",
           "D00599.obj"
          ],
          [
           "Bird",
           "D00625.obj"
          ],
          [
           "Bird",
           "D00689.obj"
          ],
          [
           "Bird",
           "D00736.obj"
          ],
          [
           "Bird",
           "D00762.obj"
          ],
          [
           "Bird",
           "D00862.obj"
          ],
          [
           "Bird",
           "D00922.obj"
          ],
          [
           "Bird",
           "D00961.obj"
          ],
          [
           "Bird",
           "D00999.obj"
          ],
          [
           "Bird",
           "m28.obj"
          ],
          [
           "Bird",
           "m29.obj"
          ],
          [
           "Bird",
           "m30.obj"
          ],
          [
           "Bird",
           "m31.obj"
          ],
          [
           "Bird",
           "m32.obj"
          ],
          [
           "Bird",
           "m33.obj"
          ],
          [
           "Bird",
           "m34.obj"
          ],
          [
           "Bird",
           "m35.obj"
          ],
          [
           "Bird",
           "m36.obj"
          ],
          [
           "Bird",
           "m37.obj"
          ],
          [
           "Bird",
           "m38.obj"
          ],
          [
           "Bird",
           "m39.obj"
          ],
          [
           "Bird",
           "m40.obj"
          ],
          [
           "Bird",
           "m41.obj"
          ],
          [
           "Bird",
           "m42.obj"
          ],
          [
           "Bird",
           "m43.obj"
          ],
          [
           "Bird",
           "m44.obj"
          ],
          [
           "Bird",
           "m45.obj"
          ],
          [
           "Bird",
           "m47.obj"
          ],
          [
           "Bird",
           "m48.obj"
          ],
          [
           "Bird",
           "m50.obj"
          ],
          [
           "Bird",
           "m51.obj"
          ],
          [
           "Bird",
           "m52.obj"
          ]
         ],
         "hovertemplate": "Class=%{customdata[0]}<br>Principal Component 1=%{x}<br>Principal Component 2=%{y}<br>Name=%{customdata[1]}<extra></extra>",
         "legendgroup": "Bird",
         "marker": {
          "color": "#FF6692",
          "symbol": "circle"
         },
         "mode": "markers",
         "name": "Bird",
         "orientation": "v",
         "showlegend": true,
         "type": "scatter",
         "x": [
          7.726011753082275,
          5.808025360107422,
          16.590593338012695,
          -12.956222534179688,
          27.584259033203125,
          14.3174467086792,
          -6.92145299911499,
          -2.6251235008239746,
          18.691171646118164,
          28.261051177978516,
          6.371169090270996,
          21.684324264526367,
          27.098384857177734,
          22.451215744018555,
          11.444809913635254,
          -15.06554889678955,
          10.841665267944336,
          6.7371978759765625,
          18.624406814575195,
          -0.8316437602043152,
          -15.136224746704102,
          -20.68501091003418,
          -12.97252368927002,
          -25.994882583618164,
          -25.195158004760742,
          -13.754018783569336,
          7.629122257232666,
          -21.279010772705078,
          -15.453755378723145,
          5.565922260284424,
          -0.6524937748908997,
          5.813836097717285,
          23.270299911499023,
          18.6573543548584,
          8.995829582214355,
          -14.39184284210205,
          16.60394859313965,
          14.491754531860352,
          -4.733101844787598,
          -26.901371002197266,
          -26.816869735717773,
          -27.2897891998291,
          -15.22449016571045
         ],
         "xaxis": "x",
         "y": [
          19.135299682617188,
          22.150001525878906,
          -30.089208602905273,
          22.622230529785156,
          -14.534405708312988,
          16.6860294342041,
          -20.6037654876709,
          -12.832169532775879,
          1.4059066772460938,
          -6.827358722686768,
          9.4807767868042,
          -9.262446403503418,
          -3.221966028213501,
          -22.720378875732422,
          7.097346782684326,
          26.88306427001953,
          7.364532947540283,
          21.006925582885742,
          1.4180744886398315,
          -7.703609943389893,
          26.338218688964844,
          15.600096702575684,
          19.9860897064209,
          26.93492889404297,
          23.093036651611328,
          27.348827362060547,
          19.292882919311523,
          31.41569709777832,
          28.491426467895508,
          20.70612144470215,
          -7.041504383087158,
          14.926568984985352,
          -21.78618049621582,
          1.435346007347107,
          -33.934688568115234,
          26.250268936157227,
          5.30873441696167,
          16.532604217529297,
          2.560544729232788,
          28.59685516357422,
          28.748178482055664,
          30.233932495117188,
          28.648910522460938
         ],
         "yaxis": "y"
        },
        {
         "customdata": [
          [
           "Bookset",
           "D01009.obj"
          ],
          [
           "Bookset",
           "D01013.obj"
          ],
          [
           "Bookset",
           "D01030.obj"
          ],
          [
           "Bookset",
           "D01038.obj"
          ],
          [
           "Bookset",
           "D01042.obj"
          ],
          [
           "Bookset",
           "D01050.obj"
          ],
          [
           "Bookset",
           "D01065.obj"
          ],
          [
           "Bookset",
           "D01096.obj"
          ],
          [
           "Bookset",
           "D01108.obj"
          ],
          [
           "Bookset",
           "D01110.obj"
          ],
          [
           "Bookset",
           "D01122.obj"
          ],
          [
           "Bookset",
           "D01135.obj"
          ],
          [
           "Bookset",
           "D01146.obj"
          ],
          [
           "Bookset",
           "D01182.obj"
          ],
          [
           "Bookset",
           "D01183.obj"
          ],
          [
           "Bookset",
           "D01184.obj"
          ],
          [
           "Bookset",
           "D01190.obj"
          ],
          [
           "Bookset",
           "D01199.obj"
          ]
         ],
         "hovertemplate": "Class=%{customdata[0]}<br>Principal Component 1=%{x}<br>Principal Component 2=%{y}<br>Name=%{customdata[1]}<extra></extra>",
         "legendgroup": "Bookset",
         "marker": {
          "color": "#B6E880",
          "symbol": "circle"
         },
         "mode": "markers",
         "name": "Bookset",
         "orientation": "v",
         "showlegend": true,
         "type": "scatter",
         "x": [
          11.102510452270508,
          -12.546708106994629,
          21.92750358581543,
          -15.434755325317383,
          16.60822105407715,
          -5.9602556228637695,
          -10.921393394470215,
          12.075539588928223,
          25.11778450012207,
          -2.7346951961517334,
          -11.232946395874023,
          10.478960990905762,
          -7.882262229919434,
          16.576290130615234,
          -3.4419307708740234,
          25.842727661132812,
          -22.747034072875977,
          18.365257263183594
         ],
         "xaxis": "x",
         "y": [
          17.848468780517578,
          -43.2750244140625,
          12.14736270904541,
          -44.30959701538086,
          -30.14476776123047,
          27.294376373291016,
          -42.804622650146484,
          -32.667789459228516,
          -20.418590545654297,
          26.92463493347168,
          27.956220626831055,
          17.825199127197266,
          27.55271339416504,
          -30.336137771606445,
          27.349252700805664,
          5.2943878173828125,
          -44.458187103271484,
          -28.362445831298828
         ],
         "yaxis": "y"
        },
        {
         "customdata": [
          [
           "Bottle",
           "D00020.obj"
          ],
          [
           "Bottle",
           "D00123.obj"
          ],
          [
           "Bottle",
           "D00139.obj"
          ],
          [
           "Bottle",
           "D00166.obj"
          ],
          [
           "Bottle",
           "D00176.obj"
          ],
          [
           "Bottle",
           "D00208.obj"
          ],
          [
           "Bottle",
           "D00281.obj"
          ],
          [
           "Bottle",
           "D00311.obj"
          ],
          [
           "Bottle",
           "D00350.obj"
          ],
          [
           "Bottle",
           "D00390.obj"
          ],
          [
           "Bottle",
           "D00451.obj"
          ],
          [
           "Bottle",
           "D00679.obj"
          ],
          [
           "Bottle",
           "D00696.obj"
          ],
          [
           "Bottle",
           "D00711.obj"
          ],
          [
           "Bottle",
           "D00716.obj"
          ],
          [
           "Bottle",
           "D00726.obj"
          ],
          [
           "Bottle",
           "D00892.obj"
          ],
          [
           "Bottle",
           "D00940.obj"
          ],
          [
           "Bottle",
           "D00959.obj"
          ],
          [
           "Bottle",
           "m482.obj"
          ],
          [
           "Bottle",
           "m483.obj"
          ],
          [
           "Bottle",
           "m484.obj"
          ],
          [
           "Bottle",
           "m485.obj"
          ],
          [
           "Bottle",
           "m486.obj"
          ],
          [
           "Bottle",
           "m487.obj"
          ],
          [
           "Bottle",
           "m488.obj"
          ],
          [
           "Bottle",
           "m489.obj"
          ],
          [
           "Bottle",
           "m490.obj"
          ],
          [
           "Bottle",
           "m491.obj"
          ]
         ],
         "hovertemplate": "Class=%{customdata[0]}<br>Principal Component 1=%{x}<br>Principal Component 2=%{y}<br>Name=%{customdata[1]}<extra></extra>",
         "legendgroup": "Bottle",
         "marker": {
          "color": "#FF97FF",
          "symbol": "circle"
         },
         "mode": "markers",
         "name": "Bottle",
         "orientation": "v",
         "showlegend": true,
         "type": "scatter",
         "x": [
          -25.696537017822266,
          -17.965381622314453,
          12.198578834533691,
          -22.078506469726562,
          -22.869083404541016,
          25.25760841369629,
          27.7413330078125,
          -27.148496627807617,
          -21.927522659301758,
          13.791528701782227,
          -23.467971801757812,
          -9.105688095092773,
          -20.16322898864746,
          -27.567066192626953,
          27.041358947753906,
          -20.60299301147461,
          -21.36595344543457,
          -27.34347915649414,
          -19.34735107421875,
          -22.450878143310547,
          -21.56666374206543,
          -26.088289260864258,
          -25.149805068969727,
          -19.48639488220215,
          -20.39948081970215,
          -27.217227935791016,
          -5.094446659088135,
          -26.11055564880371,
          -26.257022857666016
         ],
         "xaxis": "x",
         "y": [
          21.52621841430664,
          11.406214714050293,
          13.261432647705078,
          18.083890914916992,
          -44.2444953918457,
          0.5984237790107727,
          -14.409794807434082,
          28.811813354492188,
          15.361954689025879,
          17.196245193481445,
          24.00440788269043,
          -42.03738784790039,
          14.548357009887695,
          30.19559669494629,
          -9.368995666503906,
          23.354509353637695,
          15.27255916595459,
          29.63050651550293,
          12.674836158752441,
          22.154903411865234,
          16.05691909790039,
          23.13273048400879,
          21.941875457763672,
          12.950483322143555,
          18.547121047973633,
          29.150253295898438,
          25.02890968322754,
          31.382308959960938,
          27.677570343017578
         ],
         "yaxis": "y"
        },
        {
         "customdata": [
          [
           "BuildingNonResidential",
           "m382.obj"
          ],
          [
           "BuildingNonResidential",
           "m383.obj"
          ],
          [
           "BuildingNonResidential",
           "m384.obj"
          ],
          [
           "BuildingNonResidential",
           "m385.obj"
          ],
          [
           "BuildingNonResidential",
           "m386.obj"
          ],
          [
           "BuildingNonResidential",
           "m387.obj"
          ],
          [
           "BuildingNonResidential",
           "m390.obj"
          ],
          [
           "BuildingNonResidential",
           "m391.obj"
          ],
          [
           "BuildingNonResidential",
           "m392.obj"
          ],
          [
           "BuildingNonResidential",
           "m393.obj"
          ],
          [
           "BuildingNonResidential",
           "m394.obj"
          ],
          [
           "BuildingNonResidential",
           "m395.obj"
          ],
          [
           "BuildingNonResidential",
           "m396.obj"
          ],
          [
           "BuildingNonResidential",
           "m397.obj"
          ],
          [
           "BuildingNonResidential",
           "m398.obj"
          ],
          [
           "BuildingNonResidential",
           "m399.obj"
          ],
          [
           "BuildingNonResidential",
           "m400.obj"
          ],
          [
           "BuildingNonResidential",
           "m401.obj"
          ],
          [
           "BuildingNonResidential",
           "m402.obj"
          ],
          [
           "BuildingNonResidential",
           "m404.obj"
          ],
          [
           "BuildingNonResidential",
           "m405.obj"
          ],
          [
           "BuildingNonResidential",
           "m406.obj"
          ],
          [
           "BuildingNonResidential",
           "m407.obj"
          ],
          [
           "BuildingNonResidential",
           "m408.obj"
          ],
          [
           "BuildingNonResidential",
           "m409.obj"
          ],
          [
           "BuildingNonResidential",
           "m410.obj"
          ],
          [
           "BuildingNonResidential",
           "m412.obj"
          ],
          [
           "BuildingNonResidential",
           "m413.obj"
          ],
          [
           "BuildingNonResidential",
           "m414.obj"
          ],
          [
           "BuildingNonResidential",
           "m415.obj"
          ],
          [
           "BuildingNonResidential",
           "m416.obj"
          ],
          [
           "BuildingNonResidential",
           "m418.obj"
          ],
          [
           "BuildingNonResidential",
           "m420.obj"
          ],
          [
           "BuildingNonResidential",
           "m421.obj"
          ],
          [
           "BuildingNonResidential",
           "m470.obj"
          ],
          [
           "BuildingNonResidential",
           "m471.obj"
          ],
          [
           "BuildingNonResidential",
           "m472.obj"
          ],
          [
           "BuildingNonResidential",
           "m474.obj"
          ],
          [
           "BuildingNonResidential",
           "m475.obj"
          ],
          [
           "BuildingNonResidential",
           "m477.obj"
          ],
          [
           "BuildingNonResidential",
           "m478.obj"
          ],
          [
           "BuildingNonResidential",
           "m479.obj"
          ],
          [
           "BuildingNonResidential",
           "m481.obj"
          ]
         ],
         "hovertemplate": "Class=%{customdata[0]}<br>Principal Component 1=%{x}<br>Principal Component 2=%{y}<br>Name=%{customdata[1]}<extra></extra>",
         "legendgroup": "BuildingNonResidential",
         "marker": {
          "color": "#FECB52",
          "symbol": "circle"
         },
         "mode": "markers",
         "name": "BuildingNonResidential",
         "orientation": "v",
         "showlegend": true,
         "type": "scatter",
         "x": [
          5.37877893447876,
          24.458879470825195,
          -21.382408142089844,
          9.228902816772461,
          16.967731475830078,
          26.46881675720215,
          -26.771465301513672,
          -20.625656127929688,
          -19.182334899902344,
          -17.936655044555664,
          -21.909408569335938,
          12.826875686645508,
          28.532560348510742,
          20.2030086517334,
          28.4268741607666,
          27.890592575073242,
          3.3474605083465576,
          -18.247684478759766,
          -4.754274845123291,
          26.054485321044922,
          -14.16053581237793,
          10.3699312210083,
          -20.20081901550293,
          21.339326858520508,
          24.141075134277344,
          -17.38949966430664,
          -6.587840557098389,
          4.663303852081299,
          26.866052627563477,
          26.979188919067383,
          -9.654850006103516,
          3.8450734615325928,
          -23.45958137512207,
          -18.576292037963867,
          -9.578356742858887,
          -22.108266830444336,
          -23.344409942626953,
          20.510164260864258,
          -19.186304092407227,
          -11.969945907592773,
          23.411197662353516,
          -14.384337425231934,
          -7.818619728088379
         ],
         "xaxis": "x",
         "y": [
          22.03840446472168,
          7.11859130859375,
          -45.062522888183594,
          20.4869327545166,
          15.437854766845703,
          -17.908855438232422,
          33.34976577758789,
          30.044269561767578,
          27.98809051513672,
          -45.34099578857422,
          -44.82162857055664,
          18.44052505493164,
          -14.534284591674805,
          12.83607006072998,
          -8.131865501403809,
          -15.898361206054688,
          -37.470699310302734,
          -45.40583801269531,
          -40.693565368652344,
          -19.218469619750977,
          -43.84177780151367,
          -33.58209991455078,
          31.373008728027344,
          10.046427726745605,
          -8.36986255645752,
          -45.096073150634766,
          -40.67335891723633,
          -36.72454071044922,
          -0.4493403434753418,
          -18.339248657226562,
          -42.28025436401367,
          -37.293819427490234,
          -41.91078567504883,
          -45.47875213623047,
          6.188776969909668,
          17.48994255065918,
          20.934040069580078,
          11.959534645080566,
          29.044095993041992,
          22.127161026000977,
          -0.5588917136192322,
          15.883980751037598,
          20.41498565673828
         ],
         "yaxis": "y"
        },
        {
         "customdata": [
          [
           "Bus",
           "D00084.obj"
          ],
          [
           "Bus",
           "D00114.obj"
          ],
          [
           "Bus",
           "D00151.obj"
          ],
          [
           "Bus",
           "D00179.obj"
          ],
          [
           "Bus",
           "D00182.obj"
          ],
          [
           "Bus",
           "D00264.obj"
          ],
          [
           "Bus",
           "D00436.obj"
          ],
          [
           "Bus",
           "D00448.obj"
          ],
          [
           "Bus",
           "D00483.obj"
          ],
          [
           "Bus",
           "D00677.obj"
          ],
          [
           "Bus",
           "D00754.obj"
          ],
          [
           "Bus",
           "D00769.obj"
          ],
          [
           "Bus",
           "D00775.obj"
          ],
          [
           "Bus",
           "D00815.obj"
          ],
          [
           "Bus",
           "D00823.obj"
          ],
          [
           "Bus",
           "D00832.obj"
          ],
          [
           "Bus",
           "D00857.obj"
          ]
         ],
         "hovertemplate": "Class=%{customdata[0]}<br>Principal Component 1=%{x}<br>Principal Component 2=%{y}<br>Name=%{customdata[1]}<extra></extra>",
         "legendgroup": "Bus",
         "marker": {
          "color": "#636efa",
          "symbol": "circle"
         },
         "mode": "markers",
         "name": "Bus",
         "orientation": "v",
         "showlegend": true,
         "type": "scatter",
         "x": [
          -5.308123588562012,
          -23.50288963317871,
          17.030841827392578,
          26.68524169921875,
          21.583038330078125,
          -7.341137409210205,
          -16.330848693847656,
          27.477060317993164,
          28.091379165649414,
          -10.118590354919434,
          -8.059561729431152,
          -10.886127471923828,
          -14.82154369354248,
          11.716907501220703,
          -19.327590942382812,
          -24.540987014770508,
          19.253437042236328
         ],
         "xaxis": "x",
         "y": [
          -37.27521514892578,
          -42.24867248535156,
          9.486841201782227,
          -12.469672203063965,
          -23.5886173248291,
          0.731039822101593,
          21.785953521728516,
          -15.35393238067627,
          -8.308069229125977,
          -42.552940368652344,
          -41.68587112426758,
          -42.266639709472656,
          -44.06027603149414,
          14.869672775268555,
          -40.10861587524414,
          28.192529678344727,
          7.31859827041626
         ],
         "yaxis": "y"
        },
        {
         "customdata": [
          [
           "Car",
           "D00168.obj"
          ],
          [
           "Car",
           "D00236.obj"
          ],
          [
           "Car",
           "D00260.obj"
          ],
          [
           "Car",
           "D00265.obj"
          ],
          [
           "Car",
           "D00299.obj"
          ],
          [
           "Car",
           "D00377.obj"
          ],
          [
           "Car",
           "D00405.obj"
          ],
          [
           "Car",
           "D00452.obj"
          ],
          [
           "Car",
           "D00504.obj"
          ],
          [
           "Car",
           "D00541.obj"
          ],
          [
           "Car",
           "D00618.obj"
          ],
          [
           "Car",
           "D00670.obj"
          ],
          [
           "Car",
           "D00671.obj"
          ],
          [
           "Car",
           "D00724.obj"
          ],
          [
           "Car",
           "D00767.obj"
          ],
          [
           "Car",
           "D00785.obj"
          ],
          [
           "Car",
           "D00793.obj"
          ],
          [
           "Car",
           "D00803.obj"
          ],
          [
           "Car",
           "D00865.obj"
          ],
          [
           "Car",
           "D00976.obj"
          ],
          [
           "Car",
           "m1485.obj"
          ],
          [
           "Car",
           "m1486.obj"
          ],
          [
           "Car",
           "m1487.obj"
          ],
          [
           "Car",
           "m1488.obj"
          ],
          [
           "Car",
           "m1489.obj"
          ],
          [
           "Car",
           "m1490.obj"
          ],
          [
           "Car",
           "m1492.obj"
          ],
          [
           "Car",
           "m1495.obj"
          ],
          [
           "Car",
           "m1496.obj"
          ],
          [
           "Car",
           "m1497.obj"
          ],
          [
           "Car",
           "m1498.obj"
          ],
          [
           "Car",
           "m1499.obj"
          ],
          [
           "Car",
           "m1500.obj"
          ],
          [
           "Car",
           "m1502.obj"
          ],
          [
           "Car",
           "m1503.obj"
          ],
          [
           "Car",
           "m1504.obj"
          ],
          [
           "Car",
           "m1505.obj"
          ],
          [
           "Car",
           "m1506.obj"
          ],
          [
           "Car",
           "m1507.obj"
          ],
          [
           "Car",
           "m1508.obj"
          ],
          [
           "Car",
           "m1509.obj"
          ],
          [
           "Car",
           "m1510.obj"
          ],
          [
           "Car",
           "m1511.obj"
          ],
          [
           "Car",
           "m1512.obj"
          ],
          [
           "Car",
           "m1513.obj"
          ],
          [
           "Car",
           "m1514.obj"
          ],
          [
           "Car",
           "m1515.obj"
          ],
          [
           "Car",
           "m1516.obj"
          ],
          [
           "Car",
           "m1517.obj"
          ],
          [
           "Car",
           "m1518.obj"
          ],
          [
           "Car",
           "m1519.obj"
          ],
          [
           "Car",
           "m1521.obj"
          ],
          [
           "Car",
           "m1522.obj"
          ],
          [
           "Car",
           "m1523.obj"
          ],
          [
           "Car",
           "m1524.obj"
          ],
          [
           "Car",
           "m1525.obj"
          ],
          [
           "Car",
           "m1526.obj"
          ],
          [
           "Car",
           "m1527.obj"
          ],
          [
           "Car",
           "m1528.obj"
          ],
          [
           "Car",
           "m1529.obj"
          ],
          [
           "Car",
           "m1530.obj"
          ],
          [
           "Car",
           "m1531.obj"
          ],
          [
           "Car",
           "m1532.obj"
          ],
          [
           "Car",
           "m1533.obj"
          ],
          [
           "Car",
           "m1535.obj"
          ],
          [
           "Car",
           "m1536.obj"
          ],
          [
           "Car",
           "m1538.obj"
          ],
          [
           "Car",
           "m1539.obj"
          ],
          [
           "Car",
           "m1540.obj"
          ],
          [
           "Car",
           "m1542.obj"
          ],
          [
           "Car",
           "m1543.obj"
          ],
          [
           "Car",
           "m1544.obj"
          ],
          [
           "Car",
           "m1545.obj"
          ],
          [
           "Car",
           "m1546.obj"
          ],
          [
           "Car",
           "m1547.obj"
          ],
          [
           "Car",
           "m1548.obj"
          ],
          [
           "Car",
           "m1550.obj"
          ],
          [
           "Car",
           "m1551.obj"
          ],
          [
           "Car",
           "m1552.obj"
          ],
          [
           "Car",
           "m1553.obj"
          ],
          [
           "Car",
           "m1555.obj"
          ],
          [
           "Car",
           "m1556.obj"
          ],
          [
           "Car",
           "m1557.obj"
          ],
          [
           "Car",
           "m1558.obj"
          ],
          [
           "Car",
           "m1559.obj"
          ],
          [
           "Car",
           "m1560.obj"
          ],
          [
           "Car",
           "m1561.obj"
          ],
          [
           "Car",
           "m1562.obj"
          ],
          [
           "Car",
           "m1563.obj"
          ]
         ],
         "hovertemplate": "Class=%{customdata[0]}<br>Principal Component 1=%{x}<br>Principal Component 2=%{y}<br>Name=%{customdata[1]}<extra></extra>",
         "legendgroup": "Car",
         "marker": {
          "color": "#EF553B",
          "symbol": "circle"
         },
         "mode": "markers",
         "name": "Car",
         "orientation": "v",
         "showlegend": true,
         "type": "scatter",
         "x": [
          1.900936484336853,
          18.329357147216797,
          28.2037410736084,
          -19.20673179626465,
          26.031518936157227,
          -8.999780654907227,
          -23.43281364440918,
          23.134550094604492,
          6.64667272567749,
          6.047170162200928,
          -13.639730453491211,
          11.452879905700684,
          18.227279663085938,
          26.562671661376953,
          -14.637650489807129,
          -21.20315933227539,
          -18.711328506469727,
          24.3590030670166,
          -13.3289213180542,
          24.334854125976562,
          -19.61202049255371,
          -23.558549880981445,
          -9.815985679626465,
          28.217683792114258,
          -19.79066276550293,
          22.61547088623047,
          15.82060432434082,
          13.20941162109375,
          -10.583745002746582,
          1.3654152154922485,
          -13.302627563476562,
          5.04902982711792,
          -14.491084098815918,
          6.1692914962768555,
          22.724536895751953,
          25.150691986083984,
          23.515588760375977,
          17.90657615661621,
          20.40412139892578,
          6.826629161834717,
          16.177404403686523,
          19.04018783569336,
          19.089990615844727,
          13.859508514404297,
          26.447689056396484,
          18.582744598388672,
          -9.506522178649902,
          5.608795166015625,
          -15.905669212341309,
          -7.75996208190918,
          -18.733362197875977,
          -17.66403579711914,
          -8.78136920928955,
          -18.507186889648438,
          -24.16428565979004,
          13.34432601928711,
          -19.292978286743164,
          19.44837188720703,
          13.371402740478516,
          -15.298348426818848,
          -20.45049285888672,
          -24.990833282470703,
          -25.85101318359375,
          -11.710161209106445,
          5.951705455780029,
          -25.31365203857422,
          -18.844276428222656,
          -0.007912563160061836,
          -8.431203842163086,
          -14.281706809997559,
          -14.070985794067383,
          7.800297260284424,
          7.189220905303955,
          25.628873825073242,
          -16.343734741210938,
          7.188400745391846,
          -8.329127311706543,
          2.058326005935669,
          -18.52886962890625,
          -19.90496253967285,
          28.019216537475586,
          -19.764333724975586,
          -14.544132232666016,
          7.11431360244751,
          5.7952880859375,
          -17.545459747314453,
          -14.408102989196777,
          20.819175720214844,
          -8.91872787475586
         ],
         "xaxis": "x",
         "y": [
          14.567557334899902,
          -28.098913192749023,
          -12.869582176208496,
          13.893600463867188,
          1.3241618871688843,
          14.86595344543457,
          -41.805206298828125,
          7.266941070556641,
          13.008115768432617,
          20.518980026245117,
          14.674988746643066,
          11.965988159179688,
          8.568174362182617,
          -1.6295830011367798,
          21.096982955932617,
          22.190820693969727,
          14.405204772949219,
          -19.279685974121094,
          20.09860610961914,
          2.1511616706848145,
          19.247936248779297,
          22.431119918823242,
          -42.43016052246094,
          -11.304315567016602,
          28.274024963378906,
          8.311700820922852,
          -30.690153121948242,
          10.907636642456055,
          16.05199432373047,
          12.099955558776855,
          -43.776344299316406,
          -36.400474548339844,
          20.235483169555664,
          6.903018474578857,
          -13.748109817504883,
          -12.4583158493042,
          -11.127058982849121,
          -27.420671463012695,
          -21.324007034301758,
          3.6955246925354004,
          -29.560441970825195,
          2.578244209289551,
          -25.22316551208496,
          -30.904544830322266,
          -9.275407791137695,
          4.010501861572266,
          6.735903739929199,
          12.415254592895508,
          20.91559600830078,
          15.190033912658691,
          13.827380180358887,
          13.23753547668457,
          18.377912521362305,
          14.73006820678711,
          20.583059310913086,
          8.104667663574219,
          14.813465118408203,
          4.469254970550537,
          11.8177490234375,
          21.035221099853516,
          17.51430892944336,
          20.883296966552734,
          24.33614730834961,
          4.985206604003906,
          12.388978958129883,
          20.965421676635742,
          15.137874603271484,
          13.564386367797852,
          4.346478462219238,
          21.34347152709961,
          18.12910270690918,
          -34.2489013671875,
          13.592223167419434,
          -16.14430046081543,
          11.726308822631836,
          13.592242240905762,
          14.595803260803223,
          11.422574996948242,
          14.76919174194336,
          16.07960319519043,
          -14.226517677307129,
          -45.35624313354492,
          16.511777877807617,
          -34.98463821411133,
          -35.86852264404297,
          -45.33106994628906,
          27.34025764465332,
          11.49448299407959,
          24.428977966308594
         ],
         "yaxis": "y"
        }
       ],
       "layout": {
        "legend": {
         "title": {
          "text": "Class"
         },
         "tracegroupgap": 0
        },
        "template": {
         "data": {
          "bar": [
           {
            "error_x": {
             "color": "#2a3f5f"
            },
            "error_y": {
             "color": "#2a3f5f"
            },
            "marker": {
             "line": {
              "color": "#E5ECF6",
              "width": 0.5
             },
             "pattern": {
              "fillmode": "overlay",
              "size": 10,
              "solidity": 0.2
             }
            },
            "type": "bar"
           }
          ],
          "barpolar": [
           {
            "marker": {
             "line": {
              "color": "#E5ECF6",
              "width": 0.5
             },
             "pattern": {
              "fillmode": "overlay",
              "size": 10,
              "solidity": 0.2
             }
            },
            "type": "barpolar"
           }
          ],
          "carpet": [
           {
            "aaxis": {
             "endlinecolor": "#2a3f5f",
             "gridcolor": "white",
             "linecolor": "white",
             "minorgridcolor": "white",
             "startlinecolor": "#2a3f5f"
            },
            "baxis": {
             "endlinecolor": "#2a3f5f",
             "gridcolor": "white",
             "linecolor": "white",
             "minorgridcolor": "white",
             "startlinecolor": "#2a3f5f"
            },
            "type": "carpet"
           }
          ],
          "choropleth": [
           {
            "colorbar": {
             "outlinewidth": 0,
             "ticks": ""
            },
            "type": "choropleth"
           }
          ],
          "contour": [
           {
            "colorbar": {
             "outlinewidth": 0,
             "ticks": ""
            },
            "colorscale": [
             [
              0,
              "#0d0887"
             ],
             [
              0.1111111111111111,
              "#46039f"
             ],
             [
              0.2222222222222222,
              "#7201a8"
             ],
             [
              0.3333333333333333,
              "#9c179e"
             ],
             [
              0.4444444444444444,
              "#bd3786"
             ],
             [
              0.5555555555555556,
              "#d8576b"
             ],
             [
              0.6666666666666666,
              "#ed7953"
             ],
             [
              0.7777777777777778,
              "#fb9f3a"
             ],
             [
              0.8888888888888888,
              "#fdca26"
             ],
             [
              1,
              "#f0f921"
             ]
            ],
            "type": "contour"
           }
          ],
          "contourcarpet": [
           {
            "colorbar": {
             "outlinewidth": 0,
             "ticks": ""
            },
            "type": "contourcarpet"
           }
          ],
          "heatmap": [
           {
            "colorbar": {
             "outlinewidth": 0,
             "ticks": ""
            },
            "colorscale": [
             [
              0,
              "#0d0887"
             ],
             [
              0.1111111111111111,
              "#46039f"
             ],
             [
              0.2222222222222222,
              "#7201a8"
             ],
             [
              0.3333333333333333,
              "#9c179e"
             ],
             [
              0.4444444444444444,
              "#bd3786"
             ],
             [
              0.5555555555555556,
              "#d8576b"
             ],
             [
              0.6666666666666666,
              "#ed7953"
             ],
             [
              0.7777777777777778,
              "#fb9f3a"
             ],
             [
              0.8888888888888888,
              "#fdca26"
             ],
             [
              1,
              "#f0f921"
             ]
            ],
            "type": "heatmap"
           }
          ],
          "heatmapgl": [
           {
            "colorbar": {
             "outlinewidth": 0,
             "ticks": ""
            },
            "colorscale": [
             [
              0,
              "#0d0887"
             ],
             [
              0.1111111111111111,
              "#46039f"
             ],
             [
              0.2222222222222222,
              "#7201a8"
             ],
             [
              0.3333333333333333,
              "#9c179e"
             ],
             [
              0.4444444444444444,
              "#bd3786"
             ],
             [
              0.5555555555555556,
              "#d8576b"
             ],
             [
              0.6666666666666666,
              "#ed7953"
             ],
             [
              0.7777777777777778,
              "#fb9f3a"
             ],
             [
              0.8888888888888888,
              "#fdca26"
             ],
             [
              1,
              "#f0f921"
             ]
            ],
            "type": "heatmapgl"
           }
          ],
          "histogram": [
           {
            "marker": {
             "pattern": {
              "fillmode": "overlay",
              "size": 10,
              "solidity": 0.2
             }
            },
            "type": "histogram"
           }
          ],
          "histogram2d": [
           {
            "colorbar": {
             "outlinewidth": 0,
             "ticks": ""
            },
            "colorscale": [
             [
              0,
              "#0d0887"
             ],
             [
              0.1111111111111111,
              "#46039f"
             ],
             [
              0.2222222222222222,
              "#7201a8"
             ],
             [
              0.3333333333333333,
              "#9c179e"
             ],
             [
              0.4444444444444444,
              "#bd3786"
             ],
             [
              0.5555555555555556,
              "#d8576b"
             ],
             [
              0.6666666666666666,
              "#ed7953"
             ],
             [
              0.7777777777777778,
              "#fb9f3a"
             ],
             [
              0.8888888888888888,
              "#fdca26"
             ],
             [
              1,
              "#f0f921"
             ]
            ],
            "type": "histogram2d"
           }
          ],
          "histogram2dcontour": [
           {
            "colorbar": {
             "outlinewidth": 0,
             "ticks": ""
            },
            "colorscale": [
             [
              0,
              "#0d0887"
             ],
             [
              0.1111111111111111,
              "#46039f"
             ],
             [
              0.2222222222222222,
              "#7201a8"
             ],
             [
              0.3333333333333333,
              "#9c179e"
             ],
             [
              0.4444444444444444,
              "#bd3786"
             ],
             [
              0.5555555555555556,
              "#d8576b"
             ],
             [
              0.6666666666666666,
              "#ed7953"
             ],
             [
              0.7777777777777778,
              "#fb9f3a"
             ],
             [
              0.8888888888888888,
              "#fdca26"
             ],
             [
              1,
              "#f0f921"
             ]
            ],
            "type": "histogram2dcontour"
           }
          ],
          "mesh3d": [
           {
            "colorbar": {
             "outlinewidth": 0,
             "ticks": ""
            },
            "type": "mesh3d"
           }
          ],
          "parcoords": [
           {
            "line": {
             "colorbar": {
              "outlinewidth": 0,
              "ticks": ""
             }
            },
            "type": "parcoords"
           }
          ],
          "pie": [
           {
            "automargin": true,
            "type": "pie"
           }
          ],
          "scatter": [
           {
            "fillpattern": {
             "fillmode": "overlay",
             "size": 10,
             "solidity": 0.2
            },
            "type": "scatter"
           }
          ],
          "scatter3d": [
           {
            "line": {
             "colorbar": {
              "outlinewidth": 0,
              "ticks": ""
             }
            },
            "marker": {
             "colorbar": {
              "outlinewidth": 0,
              "ticks": ""
             }
            },
            "type": "scatter3d"
           }
          ],
          "scattercarpet": [
           {
            "marker": {
             "colorbar": {
              "outlinewidth": 0,
              "ticks": ""
             }
            },
            "type": "scattercarpet"
           }
          ],
          "scattergeo": [
           {
            "marker": {
             "colorbar": {
              "outlinewidth": 0,
              "ticks": ""
             }
            },
            "type": "scattergeo"
           }
          ],
          "scattergl": [
           {
            "marker": {
             "colorbar": {
              "outlinewidth": 0,
              "ticks": ""
             }
            },
            "type": "scattergl"
           }
          ],
          "scattermapbox": [
           {
            "marker": {
             "colorbar": {
              "outlinewidth": 0,
              "ticks": ""
             }
            },
            "type": "scattermapbox"
           }
          ],
          "scatterpolar": [
           {
            "marker": {
             "colorbar": {
              "outlinewidth": 0,
              "ticks": ""
             }
            },
            "type": "scatterpolar"
           }
          ],
          "scatterpolargl": [
           {
            "marker": {
             "colorbar": {
              "outlinewidth": 0,
              "ticks": ""
             }
            },
            "type": "scatterpolargl"
           }
          ],
          "scatterternary": [
           {
            "marker": {
             "colorbar": {
              "outlinewidth": 0,
              "ticks": ""
             }
            },
            "type": "scatterternary"
           }
          ],
          "surface": [
           {
            "colorbar": {
             "outlinewidth": 0,
             "ticks": ""
            },
            "colorscale": [
             [
              0,
              "#0d0887"
             ],
             [
              0.1111111111111111,
              "#46039f"
             ],
             [
              0.2222222222222222,
              "#7201a8"
             ],
             [
              0.3333333333333333,
              "#9c179e"
             ],
             [
              0.4444444444444444,
              "#bd3786"
             ],
             [
              0.5555555555555556,
              "#d8576b"
             ],
             [
              0.6666666666666666,
              "#ed7953"
             ],
             [
              0.7777777777777778,
              "#fb9f3a"
             ],
             [
              0.8888888888888888,
              "#fdca26"
             ],
             [
              1,
              "#f0f921"
             ]
            ],
            "type": "surface"
           }
          ],
          "table": [
           {
            "cells": {
             "fill": {
              "color": "#EBF0F8"
             },
             "line": {
              "color": "white"
             }
            },
            "header": {
             "fill": {
              "color": "#C8D4E3"
             },
             "line": {
              "color": "white"
             }
            },
            "type": "table"
           }
          ]
         },
         "layout": {
          "annotationdefaults": {
           "arrowcolor": "#2a3f5f",
           "arrowhead": 0,
           "arrowwidth": 1
          },
          "autotypenumbers": "strict",
          "coloraxis": {
           "colorbar": {
            "outlinewidth": 0,
            "ticks": ""
           }
          },
          "colorscale": {
           "diverging": [
            [
             0,
             "#8e0152"
            ],
            [
             0.1,
             "#c51b7d"
            ],
            [
             0.2,
             "#de77ae"
            ],
            [
             0.3,
             "#f1b6da"
            ],
            [
             0.4,
             "#fde0ef"
            ],
            [
             0.5,
             "#f7f7f7"
            ],
            [
             0.6,
             "#e6f5d0"
            ],
            [
             0.7,
             "#b8e186"
            ],
            [
             0.8,
             "#7fbc41"
            ],
            [
             0.9,
             "#4d9221"
            ],
            [
             1,
             "#276419"
            ]
           ],
           "sequential": [
            [
             0,
             "#0d0887"
            ],
            [
             0.1111111111111111,
             "#46039f"
            ],
            [
             0.2222222222222222,
             "#7201a8"
            ],
            [
             0.3333333333333333,
             "#9c179e"
            ],
            [
             0.4444444444444444,
             "#bd3786"
            ],
            [
             0.5555555555555556,
             "#d8576b"
            ],
            [
             0.6666666666666666,
             "#ed7953"
            ],
            [
             0.7777777777777778,
             "#fb9f3a"
            ],
            [
             0.8888888888888888,
             "#fdca26"
            ],
            [
             1,
             "#f0f921"
            ]
           ],
           "sequentialminus": [
            [
             0,
             "#0d0887"
            ],
            [
             0.1111111111111111,
             "#46039f"
            ],
            [
             0.2222222222222222,
             "#7201a8"
            ],
            [
             0.3333333333333333,
             "#9c179e"
            ],
            [
             0.4444444444444444,
             "#bd3786"
            ],
            [
             0.5555555555555556,
             "#d8576b"
            ],
            [
             0.6666666666666666,
             "#ed7953"
            ],
            [
             0.7777777777777778,
             "#fb9f3a"
            ],
            [
             0.8888888888888888,
             "#fdca26"
            ],
            [
             1,
             "#f0f921"
            ]
           ]
          },
          "colorway": [
           "#636efa",
           "#EF553B",
           "#00cc96",
           "#ab63fa",
           "#FFA15A",
           "#19d3f3",
           "#FF6692",
           "#B6E880",
           "#FF97FF",
           "#FECB52"
          ],
          "font": {
           "color": "#2a3f5f"
          },
          "geo": {
           "bgcolor": "white",
           "lakecolor": "white",
           "landcolor": "#E5ECF6",
           "showlakes": true,
           "showland": true,
           "subunitcolor": "white"
          },
          "hoverlabel": {
           "align": "left"
          },
          "hovermode": "closest",
          "mapbox": {
           "style": "light"
          },
          "paper_bgcolor": "white",
          "plot_bgcolor": "#E5ECF6",
          "polar": {
           "angularaxis": {
            "gridcolor": "white",
            "linecolor": "white",
            "ticks": ""
           },
           "bgcolor": "#E5ECF6",
           "radialaxis": {
            "gridcolor": "white",
            "linecolor": "white",
            "ticks": ""
           }
          },
          "scene": {
           "xaxis": {
            "backgroundcolor": "#E5ECF6",
            "gridcolor": "white",
            "gridwidth": 2,
            "linecolor": "white",
            "showbackground": true,
            "ticks": "",
            "zerolinecolor": "white"
           },
           "yaxis": {
            "backgroundcolor": "#E5ECF6",
            "gridcolor": "white",
            "gridwidth": 2,
            "linecolor": "white",
            "showbackground": true,
            "ticks": "",
            "zerolinecolor": "white"
           },
           "zaxis": {
            "backgroundcolor": "#E5ECF6",
            "gridcolor": "white",
            "gridwidth": 2,
            "linecolor": "white",
            "showbackground": true,
            "ticks": "",
            "zerolinecolor": "white"
           }
          },
          "shapedefaults": {
           "line": {
            "color": "#2a3f5f"
           }
          },
          "ternary": {
           "aaxis": {
            "gridcolor": "white",
            "linecolor": "white",
            "ticks": ""
           },
           "baxis": {
            "gridcolor": "white",
            "linecolor": "white",
            "ticks": ""
           },
           "bgcolor": "#E5ECF6",
           "caxis": {
            "gridcolor": "white",
            "linecolor": "white",
            "ticks": ""
           }
          },
          "title": {
           "x": 0.05
          },
          "xaxis": {
           "automargin": true,
           "gridcolor": "white",
           "linecolor": "white",
           "ticks": "",
           "title": {
            "standoff": 15
           },
           "zerolinecolor": "white",
           "zerolinewidth": 2
          },
          "yaxis": {
           "automargin": true,
           "gridcolor": "white",
           "linecolor": "white",
           "ticks": "",
           "title": {
            "standoff": 15
           },
           "zerolinecolor": "white",
           "zerolinewidth": 2
          }
         }
        },
        "title": {
         "text": "TSNE-P perplexity - 60"
        },
        "xaxis": {
         "anchor": "y",
         "domain": [
          0,
          1
         ],
         "title": {
          "text": "Principal Component 1"
         }
        },
        "yaxis": {
         "anchor": "x",
         "domain": [
          0,
          1
         ],
         "title": {
          "text": "Principal Component 2"
         }
        }
       }
      }
     },
     "metadata": {},
     "output_type": "display_data"
    }
   ],
   "source": [
    "X_embedded = TSNE(n_components=2, learning_rate='auto',init='random', perplexity=60).fit_transform(X)\n",
    "tsne_df = pd.DataFrame(data=X_embedded, columns=['PCA1', 'PCA2'])\n",
    "tsne_df['Class'] = Y['class']  # Add the class labels\n",
    "tsne_df['Name']=Y[\"mesh_name\"]\n",
    "\n",
    "plot_data2(tsne_df,\"PCA1\",\"PCA2\",subset=chunks[0],title=\"TSNE-P perplexity - 60\",html_filename=\"plot_tsne_perplexity_60.html\")"
   ]
  },
  {
   "cell_type": "code",
   "execution_count": null,
   "metadata": {},
   "outputs": [
    {
     "name": "stderr",
     "output_type": "stream",
     "text": [
      "d:\\Programms\\Anaconda\\envs\\infomr\\lib\\site-packages\\sklearn\\manifold\\_t_sne.py:106: RuntimeWarning:\n",
      "\n",
      "overflow encountered in cast\n",
      "\n"
     ]
    },
    {
     "name": "stdout",
     "output_type": "stream",
     "text": [
      "Plot saved as plot_tsne_perplexity_60_complete.html\n"
     ]
    },
    {
     "data": {
      "application/vnd.plotly.v1+json": {
       "config": {
        "plotlyServerURL": "https://plot.ly"
       },
       "data": [
        {
         "customdata": [
          [
           "AircraftBuoyant",
           "m1337.obj"
          ],
          [
           "AircraftBuoyant",
           "m1338.obj"
          ],
          [
           "AircraftBuoyant",
           "m1339.obj"
          ],
          [
           "AircraftBuoyant",
           "m1340.obj"
          ],
          [
           "AircraftBuoyant",
           "m1341.obj"
          ],
          [
           "AircraftBuoyant",
           "m1342.obj"
          ],
          [
           "AircraftBuoyant",
           "m1343.obj"
          ],
          [
           "AircraftBuoyant",
           "m1344.obj"
          ],
          [
           "AircraftBuoyant",
           "m1345.obj"
          ],
          [
           "AircraftBuoyant",
           "m1346.obj"
          ],
          [
           "AircraftBuoyant",
           "m1348.obj"
          ],
          [
           "AircraftBuoyant",
           "m1349.obj"
          ],
          [
           "AircraftBuoyant",
           "m1350.obj"
          ],
          [
           "AircraftBuoyant",
           "m1351.obj"
          ],
          [
           "AircraftBuoyant",
           "m1352.obj"
          ]
         ],
         "hovertemplate": "Class=%{customdata[0]}<br>Principal Component 1=%{x}<br>Principal Component 2=%{y}<br>Name=%{customdata[1]}<extra></extra>",
         "legendgroup": "AircraftBuoyant",
         "marker": {
          "color": "#636efa",
          "symbol": "circle"
         },
         "mode": "markers",
         "name": "AircraftBuoyant",
         "showlegend": true,
         "type": "scattergl",
         "x": [
          -32.87968063354492,
          -32.51824951171875,
          -27.86543846130371,
          -18.485780715942383,
          -21.788511276245117,
          -30.42534065246582,
          -32.08548355102539,
          -30.77606964111328,
          37.07948684692383,
          -14.279475212097168,
          -14.398611068725586,
          -14.950353622436523,
          -14.769145965576172,
          -11.772665023803711,
          -19.509647369384766
         ],
         "xaxis": "x",
         "y": [
          -28.913532257080078,
          -27.441970825195312,
          -25.7374267578125,
          -25.59337043762207,
          -26.51731300354004,
          -29.155838012695312,
          -27.395475387573242,
          -29.644451141357422,
          -25.28398323059082,
          -22.30084991455078,
          -22.391494750976562,
          -22.61654281616211,
          -22.45979118347168,
          -17.956100463867188,
          -25.466873168945312
         ],
         "yaxis": "y"
        },
        {
         "customdata": [
          [
           "Apartment",
           "D00045.obj"
          ],
          [
           "Apartment",
           "D00086.obj"
          ],
          [
           "Apartment",
           "D00138.obj"
          ],
          [
           "Apartment",
           "D00156.obj"
          ],
          [
           "Apartment",
           "D00310.obj"
          ],
          [
           "Apartment",
           "D00348.obj"
          ],
          [
           "Apartment",
           "D00366.obj"
          ],
          [
           "Apartment",
           "D00478.obj"
          ],
          [
           "Apartment",
           "D00496.obj"
          ],
          [
           "Apartment",
           "D00626.obj"
          ],
          [
           "Apartment",
           "D00639.obj"
          ],
          [
           "Apartment",
           "D00651.obj"
          ],
          [
           "Apartment",
           "D00681.obj"
          ],
          [
           "Apartment",
           "D00780.obj"
          ],
          [
           "Apartment",
           "D00792.obj"
          ],
          [
           "Apartment",
           "D00859.obj"
          ],
          [
           "Apartment",
           "D00860.obj"
          ],
          [
           "Apartment",
           "D00869.obj"
          ],
          [
           "Apartment",
           "D00921.obj"
          ],
          [
           "Apartment",
           "D00953.obj"
          ],
          [
           "Apartment",
           "m463.obj"
          ],
          [
           "Apartment",
           "m464.obj"
          ],
          [
           "Apartment",
           "m465.obj"
          ]
         ],
         "hovertemplate": "Class=%{customdata[0]}<br>Principal Component 1=%{x}<br>Principal Component 2=%{y}<br>Name=%{customdata[1]}<extra></extra>",
         "legendgroup": "Apartment",
         "marker": {
          "color": "#EF553B",
          "symbol": "circle"
         },
         "mode": "markers",
         "name": "Apartment",
         "showlegend": true,
         "type": "scattergl",
         "x": [
          16.352035522460938,
          -7.713266372680664,
          34.26972961425781,
          41.73257064819336,
          42.372676849365234,
          -30.009754180908203,
          -29.288949966430664,
          1.2518466711044312,
          -16.728652954101562,
          -0.2116103321313858,
          -11.934452056884766,
          41.98495101928711,
          34.97748565673828,
          -13.25774097442627,
          -31.50682830810547,
          -21.637964248657227,
          0.8737881183624268,
          -22.05953025817871,
          -26.68546485900879,
          42.27371597290039,
          27.12592124938965,
          38.43992233276367,
          13.312370300292969
         ],
         "xaxis": "x",
         "y": [
          27.17754364013672,
          22.93276023864746,
          8.076211929321289,
          -18.42997169494629,
          -23.010894775390625,
          -22.512235641479492,
          -20.100439071655273,
          26.8172607421875,
          16.307519912719727,
          26.111276626586914,
          21.777727127075195,
          -18.68733024597168,
          6.841573715209961,
          -13.13375473022461,
          -25.463050842285156,
          -10.503837585449219,
          26.783859252929688,
          7.439080715179443,
          -4.402731418609619,
          -23.315147399902344,
          18.735509872436523,
          -2.657935857772827,
          24.992807388305664
         ],
         "yaxis": "y"
        },
        {
         "customdata": [
          [
           "AquaticAnimal",
           "m53.obj"
          ],
          [
           "AquaticAnimal",
           "m54.obj"
          ],
          [
           "AquaticAnimal",
           "m55.obj"
          ],
          [
           "AquaticAnimal",
           "m56.obj"
          ],
          [
           "AquaticAnimal",
           "m57.obj"
          ],
          [
           "AquaticAnimal",
           "m58.obj"
          ],
          [
           "AquaticAnimal",
           "m59.obj"
          ],
          [
           "AquaticAnimal",
           "m60.obj"
          ],
          [
           "AquaticAnimal",
           "m61.obj"
          ],
          [
           "AquaticAnimal",
           "m62.obj"
          ],
          [
           "AquaticAnimal",
           "m63.obj"
          ],
          [
           "AquaticAnimal",
           "m64.obj"
          ],
          [
           "AquaticAnimal",
           "m65.obj"
          ],
          [
           "AquaticAnimal",
           "m66.obj"
          ],
          [
           "AquaticAnimal",
           "m67.obj"
          ],
          [
           "AquaticAnimal",
           "m68.obj"
          ],
          [
           "AquaticAnimal",
           "m69.obj"
          ],
          [
           "AquaticAnimal",
           "m70.obj"
          ],
          [
           "AquaticAnimal",
           "m71.obj"
          ],
          [
           "AquaticAnimal",
           "m72.obj"
          ],
          [
           "AquaticAnimal",
           "m73.obj"
          ],
          [
           "AquaticAnimal",
           "m74.obj"
          ],
          [
           "AquaticAnimal",
           "m75.obj"
          ],
          [
           "AquaticAnimal",
           "m76.obj"
          ],
          [
           "AquaticAnimal",
           "m77.obj"
          ],
          [
           "AquaticAnimal",
           "m78.obj"
          ],
          [
           "AquaticAnimal",
           "m79.obj"
          ],
          [
           "AquaticAnimal",
           "m80.obj"
          ],
          [
           "AquaticAnimal",
           "m81.obj"
          ]
         ],
         "hovertemplate": "Class=%{customdata[0]}<br>Principal Component 1=%{x}<br>Principal Component 2=%{y}<br>Name=%{customdata[1]}<extra></extra>",
         "legendgroup": "AquaticAnimal",
         "marker": {
          "color": "#00cc96",
          "symbol": "circle"
         },
         "mode": "markers",
         "name": "AquaticAnimal",
         "showlegend": true,
         "type": "scattergl",
         "x": [
          2.2539994716644287,
          -5.607071876525879,
          -0.8254927396774292,
          -0.4954136312007904,
          4.2400102615356445,
          -27.155311584472656,
          -3.5149545669555664,
          -9.873031616210938,
          -10.645931243896484,
          0.3129653334617615,
          -30.207923889160156,
          -5.373672008514404,
          -13.936653137207031,
          -22.252031326293945,
          2.593106508255005,
          -7.726529598236084,
          -10.494235038757324,
          -6.708980560302734,
          -13.948612213134766,
          -10.183082580566406,
          -14.598090171813965,
          -11.022834777832031,
          -16.276973724365234,
          -10.11142349243164,
          -12.998069763183594,
          -12.90712833404541,
          -5.12103796005249,
          -9.637935638427734,
          -11.360088348388672
         ],
         "xaxis": "x",
         "y": [
          -3.6265041828155518,
          -10.225763320922852,
          -6.431153774261475,
          -6.0558600425720215,
          -2.377037525177002,
          -28.069223403930664,
          20.108247756958008,
          -12.661358833312988,
          -16.41274070739746,
          -5.884376525878906,
          -26.22402572631836,
          -11.230002403259277,
          1.6457107067108154,
          0.9927263259887695,
          -5.605363368988037,
          -10.20689582824707,
          -15.039331436157227,
          -11.643081665039062,
          -21.051557540893555,
          -14.942846298217773,
          -21.55417251586914,
          -15.042274475097656,
          -16.501487731933594,
          -15.982891082763672,
          -12.091534614562988,
          -18.24136734008789,
          -10.921445846557617,
          -12.865766525268555,
          -15.995330810546875
         ],
         "yaxis": "y"
        },
        {
         "customdata": [
          [
           "Bed",
           "D00031.obj"
          ],
          [
           "Bed",
           "D00110.obj"
          ],
          [
           "Bed",
           "D00121.obj"
          ],
          [
           "Bed",
           "D00184.obj"
          ],
          [
           "Bed",
           "D00210.obj"
          ],
          [
           "Bed",
           "D00213.obj"
          ],
          [
           "Bed",
           "D00217.obj"
          ],
          [
           "Bed",
           "D00307.obj"
          ],
          [
           "Bed",
           "D00322.obj"
          ],
          [
           "Bed",
           "D00417.obj"
          ],
          [
           "Bed",
           "D00538.obj"
          ],
          [
           "Bed",
           "D00545.obj"
          ],
          [
           "Bed",
           "D00552.obj"
          ],
          [
           "Bed",
           "D00565.obj"
          ],
          [
           "Bed",
           "D00650.obj"
          ],
          [
           "Bed",
           "D00735.obj"
          ],
          [
           "Bed",
           "D00836.obj"
          ],
          [
           "Bed",
           "D00839.obj"
          ],
          [
           "Bed",
           "D00969.obj"
          ],
          [
           "Bed",
           "D00988.obj"
          ],
          [
           "Bed",
           "m945.obj"
          ],
          [
           "Bed",
           "m946.obj"
          ],
          [
           "Bed",
           "m947.obj"
          ],
          [
           "Bed",
           "m948.obj"
          ],
          [
           "Bed",
           "m949.obj"
          ],
          [
           "Bed",
           "m950.obj"
          ],
          [
           "Bed",
           "m951.obj"
          ]
         ],
         "hovertemplate": "Class=%{customdata[0]}<br>Principal Component 1=%{x}<br>Principal Component 2=%{y}<br>Name=%{customdata[1]}<extra></extra>",
         "legendgroup": "Bed",
         "marker": {
          "color": "#ab63fa",
          "symbol": "circle"
         },
         "mode": "markers",
         "name": "Bed",
         "showlegend": true,
         "type": "scattergl",
         "x": [
          -13.038900375366211,
          -11.121082305908203,
          -12.041302680969238,
          -17.39375114440918,
          7.7124505043029785,
          -10.515060424804688,
          -12.140310287475586,
          -8.663335800170898,
          -10.715070724487305,
          -8.460501670837402,
          -20.564197540283203,
          -11.316312789916992,
          -26.35584259033203,
          -6.141836166381836,
          -12.635428428649902,
          -14.599716186523438,
          -20.812185287475586,
          -9.425896644592285,
          -22.82489013671875,
          9.56312084197998,
          -23.84335708618164,
          -14.348907470703125,
          -14.860103607177734,
          -26.608566284179688,
          -23.20351219177246,
          37.771297454833984,
          15.266521453857422
         ],
         "xaxis": "x",
         "y": [
          6.881678104400635,
          -0.8020126223564148,
          18.26331901550293,
          13.489378929138184,
          26.84232521057129,
          5.341428279876709,
          9.660592079162598,
          19.008543014526367,
          4.26303768157959,
          10.970995903015137,
          -11.0354642868042,
          17.712135314941406,
          -15.66551399230957,
          5.7123870849609375,
          13.457114219665527,
          8.968647003173828,
          -13.324131965637207,
          7.282685279846191,
          -8.44560432434082,
          26.22638511657715,
          0.8209762573242188,
          9.824789047241211,
          10.085193634033203,
          -9.298625946044922,
          1.4952846765518188,
          -0.3147966265678406,
          25.39613914489746
         ],
         "yaxis": "y"
        },
        {
         "customdata": [
          [
           "Bicycle",
           "D00016.obj"
          ],
          [
           "Bicycle",
           "D00033.obj"
          ],
          [
           "Bicycle",
           "D00040.obj"
          ],
          [
           "Bicycle",
           "D00077.obj"
          ],
          [
           "Bicycle",
           "D00078.obj"
          ],
          [
           "Bicycle",
           "D00462.obj"
          ],
          [
           "Bicycle",
           "D00514.obj"
          ],
          [
           "Bicycle",
           "D00536.obj"
          ],
          [
           "Bicycle",
           "D00555.obj"
          ],
          [
           "Bicycle",
           "D00558.obj"
          ],
          [
           "Bicycle",
           "D00567.obj"
          ],
          [
           "Bicycle",
           "D00621.obj"
          ],
          [
           "Bicycle",
           "D00708.obj"
          ],
          [
           "Bicycle",
           "D00750.obj"
          ],
          [
           "Bicycle",
           "D00838.obj"
          ],
          [
           "Bicycle",
           "D00847.obj"
          ],
          [
           "Bicycle",
           "D00904.obj"
          ],
          [
           "Bicycle",
           "D00930.obj"
          ],
          [
           "Bicycle",
           "D00931.obj"
          ],
          [
           "Bicycle",
           "D00974.obj"
          ],
          [
           "Bicycle",
           "m1472.obj"
          ],
          [
           "Bicycle",
           "m1473.obj"
          ],
          [
           "Bicycle",
           "m1475.obj"
          ],
          [
           "Bicycle",
           "m1476.obj"
          ],
          [
           "Bicycle",
           "m1477.obj"
          ],
          [
           "Bicycle",
           "m1478.obj"
          ]
         ],
         "hovertemplate": "Class=%{customdata[0]}<br>Principal Component 1=%{x}<br>Principal Component 2=%{y}<br>Name=%{customdata[1]}<extra></extra>",
         "legendgroup": "Bicycle",
         "marker": {
          "color": "#FFA15A",
          "symbol": "circle"
         },
         "mode": "markers",
         "name": "Bicycle",
         "showlegend": true,
         "type": "scattergl",
         "x": [
          30.480173110961914,
          29.168994903564453,
          22.363216400146484,
          29.780681610107422,
          28.953493118286133,
          40.09880447387695,
          31.920522689819336,
          24.603059768676758,
          32.05366897583008,
          27.2434024810791,
          14.344560623168945,
          29.958541870117188,
          25.293916702270508,
          26.772363662719727,
          24.368650436401367,
          28.853118896484375,
          16.298755645751953,
          26.796140670776367,
          27.236557006835938,
          15.592266082763672,
          17.35882568359375,
          33.63158416748047,
          15.525705337524414,
          14.22956657409668,
          34.263118743896484,
          40.560054779052734
         ],
         "xaxis": "x",
         "y": [
          10.006810188293457,
          13.882133483886719,
          20.7036075592041,
          14.030786514282227,
          15.86422061920166,
          -12.681894302368164,
          10.972800254821777,
          20.608522415161133,
          11.526658058166504,
          16.526199340820312,
          20.64924430847168,
          10.491781234741211,
          17.838388442993164,
          17.421974182128906,
          18.434694290161133,
          15.945727348327637,
          20.88808822631836,
          18.060291290283203,
          16.733243942260742,
          23.952220916748047,
          24.009790420532227,
          7.114919185638428,
          23.966659545898438,
          20.36443519592285,
          6.612910270690918,
          -14.628495216369629
         ],
         "yaxis": "y"
        },
        {
         "customdata": [
          [
           "Biplane",
           "D00069.obj"
          ],
          [
           "Biplane",
           "D00132.obj"
          ],
          [
           "Biplane",
           "D00178.obj"
          ],
          [
           "Biplane",
           "D00199.obj"
          ],
          [
           "Biplane",
           "D00246.obj"
          ],
          [
           "Biplane",
           "D00276.obj"
          ],
          [
           "Biplane",
           "D00277.obj"
          ],
          [
           "Biplane",
           "D00320.obj"
          ],
          [
           "Biplane",
           "D00373.obj"
          ],
          [
           "Biplane",
           "D00410.obj"
          ],
          [
           "Biplane",
           "D00490.obj"
          ],
          [
           "Biplane",
           "D00515.obj"
          ],
          [
           "Biplane",
           "D00601.obj"
          ],
          [
           "Biplane",
           "D00616.obj"
          ],
          [
           "Biplane",
           "D00632.obj"
          ],
          [
           "Biplane",
           "D00634.obj"
          ],
          [
           "Biplane",
           "D00666.obj"
          ],
          [
           "Biplane",
           "D00854.obj"
          ],
          [
           "Biplane",
           "D00890.obj"
          ],
          [
           "Biplane",
           "D00900.obj"
          ],
          [
           "Biplane",
           "m1118.obj"
          ],
          [
           "Biplane",
           "m1119.obj"
          ],
          [
           "Biplane",
           "m1120.obj"
          ],
          [
           "Biplane",
           "m1121.obj"
          ],
          [
           "Biplane",
           "m1122.obj"
          ],
          [
           "Biplane",
           "m1123.obj"
          ],
          [
           "Biplane",
           "m1124.obj"
          ],
          [
           "Biplane",
           "m1126.obj"
          ],
          [
           "Biplane",
           "m1127.obj"
          ],
          [
           "Biplane",
           "m1128.obj"
          ],
          [
           "Biplane",
           "m1129.obj"
          ],
          [
           "Biplane",
           "m1131.obj"
          ],
          [
           "Biplane",
           "m1132.obj"
          ],
          [
           "Biplane",
           "m1133.obj"
          ],
          [
           "Biplane",
           "m1134.obj"
          ],
          [
           "Biplane",
           "m1135.obj"
          ],
          [
           "Biplane",
           "m1136.obj"
          ],
          [
           "Biplane",
           "m1137.obj"
          ],
          [
           "Biplane",
           "m1138.obj"
          ],
          [
           "Biplane",
           "m1139.obj"
          ],
          [
           "Biplane",
           "m1141.obj"
          ],
          [
           "Biplane",
           "m1143.obj"
          ],
          [
           "Biplane",
           "m1144.obj"
          ],
          [
           "Biplane",
           "m1146.obj"
          ]
         ],
         "hovertemplate": "Class=%{customdata[0]}<br>Principal Component 1=%{x}<br>Principal Component 2=%{y}<br>Name=%{customdata[1]}<extra></extra>",
         "legendgroup": "Biplane",
         "marker": {
          "color": "#19d3f3",
          "symbol": "circle"
         },
         "mode": "markers",
         "name": "Biplane",
         "showlegend": true,
         "type": "scattergl",
         "x": [
          41.711605072021484,
          10.338052749633789,
          14.176288604736328,
          18.30618667602539,
          39.71082305908203,
          -15.603657722473145,
          24.889204025268555,
          17.312448501586914,
          -10.927207946777344,
          -4.665928363800049,
          31.007722854614258,
          -4.195746421813965,
          -10.95064926147461,
          16.250017166137695,
          -14.778116226196289,
          21.376501083374023,
          -14.587011337280273,
          35.704811096191406,
          36.59789276123047,
          25.480077743530273,
          38.777889251708984,
          -0.20251598954200745,
          39.41987609863281,
          39.22180938720703,
          18.901355743408203,
          0.19809354841709137,
          36.80832290649414,
          -6.466501712799072,
          -14.612163543701172,
          0.6500416994094849,
          4.8589887619018555,
          -12.063323974609375,
          31.858869552612305,
          -9.088362693786621,
          9.638175010681152,
          20.26692771911621,
          9.303607940673828,
          36.43186950683594,
          12.178215980529785,
          33.339813232421875,
          16.0583553314209,
          40.6793098449707,
          25.864398956298828,
          -11.91795825958252
         ],
         "xaxis": "x",
         "y": [
          -24.742107391357422,
          25.948198318481445,
          27.116289138793945,
          25.685171127319336,
          -8.16840934753418,
          17.082172393798828,
          20.605932235717773,
          26.249807357788086,
          19.793710708618164,
          23.09325408935547,
          14.060333251953125,
          25.190467834472656,
          22.386018753051758,
          25.987619400024414,
          17.021230697631836,
          23.486106872558594,
          14.359898567199707,
          4.459981918334961,
          -22.822616577148438,
          19.90251922607422,
          -4.377241611480713,
          26.34293556213379,
          -9.457804679870605,
          -6.749658107757568,
          25.258285522460938,
          26.011960983276367,
          1.1031051874160767,
          23.999910354614258,
          15.08479118347168,
          25.785472869873047,
          26.90989112854004,
          18.58140754699707,
          12.671791076660156,
          22.692121505737305,
          24.597843170166016,
          23.518468856811523,
          27.734827041625977,
          1.458937406539917,
          27.83007049560547,
          9.937811851501465,
          27.100845336914062,
          -12.893980026245117,
          19.601667404174805,
          1.380807876586914
         ],
         "yaxis": "y"
        },
        {
         "customdata": [
          [
           "Bird",
           "D00089.obj"
          ],
          [
           "Bird",
           "D00113.obj"
          ],
          [
           "Bird",
           "D00164.obj"
          ],
          [
           "Bird",
           "D00234.obj"
          ],
          [
           "Bird",
           "D00271.obj"
          ],
          [
           "Bird",
           "D00284.obj"
          ],
          [
           "Bird",
           "D00323.obj"
          ],
          [
           "Bird",
           "D00386.obj"
          ],
          [
           "Bird",
           "D00438.obj"
          ],
          [
           "Bird",
           "D00442.obj"
          ],
          [
           "Bird",
           "D00546.obj"
          ],
          [
           "Bird",
           "D00599.obj"
          ],
          [
           "Bird",
           "D00625.obj"
          ],
          [
           "Bird",
           "D00689.obj"
          ],
          [
           "Bird",
           "D00736.obj"
          ],
          [
           "Bird",
           "D00762.obj"
          ],
          [
           "Bird",
           "D00862.obj"
          ],
          [
           "Bird",
           "D00922.obj"
          ],
          [
           "Bird",
           "D00961.obj"
          ],
          [
           "Bird",
           "D00999.obj"
          ],
          [
           "Bird",
           "m28.obj"
          ],
          [
           "Bird",
           "m29.obj"
          ],
          [
           "Bird",
           "m30.obj"
          ],
          [
           "Bird",
           "m31.obj"
          ],
          [
           "Bird",
           "m32.obj"
          ],
          [
           "Bird",
           "m33.obj"
          ],
          [
           "Bird",
           "m34.obj"
          ],
          [
           "Bird",
           "m35.obj"
          ],
          [
           "Bird",
           "m36.obj"
          ],
          [
           "Bird",
           "m37.obj"
          ],
          [
           "Bird",
           "m38.obj"
          ],
          [
           "Bird",
           "m39.obj"
          ],
          [
           "Bird",
           "m40.obj"
          ],
          [
           "Bird",
           "m41.obj"
          ],
          [
           "Bird",
           "m42.obj"
          ],
          [
           "Bird",
           "m43.obj"
          ],
          [
           "Bird",
           "m44.obj"
          ],
          [
           "Bird",
           "m45.obj"
          ],
          [
           "Bird",
           "m47.obj"
          ],
          [
           "Bird",
           "m48.obj"
          ],
          [
           "Bird",
           "m50.obj"
          ],
          [
           "Bird",
           "m51.obj"
          ],
          [
           "Bird",
           "m52.obj"
          ]
         ],
         "hovertemplate": "Class=%{customdata[0]}<br>Principal Component 1=%{x}<br>Principal Component 2=%{y}<br>Name=%{customdata[1]}<extra></extra>",
         "legendgroup": "Bird",
         "marker": {
          "color": "#FF6692",
          "symbol": "circle"
         },
         "mode": "markers",
         "name": "Bird",
         "showlegend": true,
         "type": "scattergl",
         "x": [
          -19.738174438476562,
          -22.66614532470703,
          30.69196319580078,
          -21.942527770996094,
          15.081679344177246,
          -17.330751419067383,
          20.193103790283203,
          12.337198257446289,
          -1.7574467658996582,
          7.295480251312256,
          -9.995755195617676,
          9.5311918258667,
          3.5736374855041504,
          23.27178192138672,
          -7.619077205657959,
          -25.964359283447266,
          -7.888164520263672,
          -21.564050674438477,
          -1.7739871740341187,
          7.153388977050781,
          -25.39282989501953,
          -14.18853759765625,
          -19.347196578979492,
          -24.50189208984375,
          -21.037677764892578,
          -26.566164016723633,
          -19.88967514038086,
          -29.60801887512207,
          -27.514163970947266,
          -21.217496871948242,
          6.468587398529053,
          -15.467704772949219,
          22.33492088317871,
          -1.786407709121704,
          34.23630142211914,
          -25.40199851989746,
          -5.7792792320251465,
          -17.167423248291016,
          -2.726393699645996,
          -26.018508911132812,
          -26.18598747253418,
          -27.615901947021484,
          -27.694652557373047
         ],
         "xaxis": "x",
         "y": [
          8.170551300048828,
          6.045984745025635,
          15.199268341064453,
          -13.081231117248535,
          26.812654495239258,
          14.930685997009277,
          -4.450437545776367,
          -0.23896528780460358,
          19.003341674804688,
          27.86989402770996,
          7.198063850402832,
          21.2091121673584,
          26.973020553588867,
          21.353883743286133,
          12.173165321350098,
          -15.744231224060059,
          11.568921089172363,
          7.069662570953369,
          18.932987213134766,
          1.3515366315841675,
          -15.753868103027344,
          -20.13265037536621,
          -12.835967063903809,
          -26.663360595703125,
          -25.443851470947266,
          -14.505471229553223,
          8.066248893737793,
          -22.586162567138672,
          -16.3265380859375,
          5.881810188293457,
          1.4879099130630493,
          6.429168701171875,
          22.21331024169922,
          18.974021911621094,
          7.330713272094727,
          -15.01243782043457,
          17.10020637512207,
          15.126724243164062,
          -3.1996021270751953,
          -27.783130645751953,
          -27.716821670532227,
          -28.39659881591797,
          -16.105722427368164
         ],
         "yaxis": "y"
        },
        {
         "customdata": [
          [
           "Bookset",
           "D01009.obj"
          ],
          [
           "Bookset",
           "D01013.obj"
          ],
          [
           "Bookset",
           "D01030.obj"
          ],
          [
           "Bookset",
           "D01038.obj"
          ],
          [
           "Bookset",
           "D01042.obj"
          ],
          [
           "Bookset",
           "D01050.obj"
          ],
          [
           "Bookset",
           "D01065.obj"
          ],
          [
           "Bookset",
           "D01096.obj"
          ],
          [
           "Bookset",
           "D01108.obj"
          ],
          [
           "Bookset",
           "D01110.obj"
          ],
          [
           "Bookset",
           "D01122.obj"
          ],
          [
           "Bookset",
           "D01135.obj"
          ],
          [
           "Bookset",
           "D01146.obj"
          ],
          [
           "Bookset",
           "D01182.obj"
          ],
          [
           "Bookset",
           "D01183.obj"
          ],
          [
           "Bookset",
           "D01184.obj"
          ],
          [
           "Bookset",
           "D01190.obj"
          ],
          [
           "Bookset",
           "D01199.obj"
          ]
         ],
         "hovertemplate": "Class=%{customdata[0]}<br>Principal Component 1=%{x}<br>Principal Component 2=%{y}<br>Name=%{customdata[1]}<extra></extra>",
         "legendgroup": "Bookset",
         "marker": {
          "color": "#B6E880",
          "symbol": "circle"
         },
         "mode": "markers",
         "name": "Bookset",
         "showlegend": true,
         "type": "scattergl",
         "x": [
          -18.487565994262695,
          41.03641891479492,
          -12.402116775512695,
          41.589134216308594,
          30.74061393737793,
          -27.096309661865234,
          40.83490753173828,
          33.15342330932617,
          20.924530029296875,
          -26.930946350097656,
          -27.408830642700195,
          -18.460554122924805,
          -27.25151252746582,
          30.931909561157227,
          -27.292869567871094,
          -5.257567882537842,
          40.48052215576172,
          28.950424194335938
         ],
         "xaxis": "x",
         "y": [
          11.615193367004395,
          -15.284930229187012,
          22.6650447845459,
          -18.291725158691406,
          15.210050582885742,
          -6.292747974395752,
          -13.611454010009766,
          10.523355484008789,
          24.082246780395508,
          -3.0256404876708984,
          -12.049065589904785,
          10.98276424407959,
          -8.229438781738281,
          15.183042526245117,
          -3.7419486045837402,
          26.345239639282227,
          -25.455949783325195,
          17.067752838134766
         ],
         "yaxis": "y"
        },
        {
         "customdata": [
          [
           "Bottle",
           "D00020.obj"
          ],
          [
           "Bottle",
           "D00123.obj"
          ],
          [
           "Bottle",
           "D00139.obj"
          ],
          [
           "Bottle",
           "D00166.obj"
          ],
          [
           "Bottle",
           "D00176.obj"
          ],
          [
           "Bottle",
           "D00208.obj"
          ],
          [
           "Bottle",
           "D00281.obj"
          ],
          [
           "Bottle",
           "D00311.obj"
          ],
          [
           "Bottle",
           "D00350.obj"
          ],
          [
           "Bottle",
           "D00390.obj"
          ],
          [
           "Bottle",
           "D00451.obj"
          ],
          [
           "Bottle",
           "D00679.obj"
          ],
          [
           "Bottle",
           "D00696.obj"
          ],
          [
           "Bottle",
           "D00711.obj"
          ],
          [
           "Bottle",
           "D00716.obj"
          ],
          [
           "Bottle",
           "D00726.obj"
          ],
          [
           "Bottle",
           "D00892.obj"
          ],
          [
           "Bottle",
           "D00940.obj"
          ],
          [
           "Bottle",
           "D00959.obj"
          ],
          [
           "Bottle",
           "m482.obj"
          ],
          [
           "Bottle",
           "m483.obj"
          ],
          [
           "Bottle",
           "m484.obj"
          ],
          [
           "Bottle",
           "m485.obj"
          ],
          [
           "Bottle",
           "m486.obj"
          ],
          [
           "Bottle",
           "m487.obj"
          ],
          [
           "Bottle",
           "m488.obj"
          ],
          [
           "Bottle",
           "m489.obj"
          ],
          [
           "Bottle",
           "m490.obj"
          ],
          [
           "Bottle",
           "m491.obj"
          ]
         ],
         "hovertemplate": "Class=%{customdata[0]}<br>Principal Component 1=%{x}<br>Principal Component 2=%{y}<br>Name=%{customdata[1]}<extra></extra>",
         "legendgroup": "Bottle",
         "marker": {
          "color": "#FF97FF",
          "symbol": "circle"
         },
         "mode": "markers",
         "name": "Bottle",
         "showlegend": true,
         "type": "scattergl",
         "x": [
          -19.42414093017578,
          -10.320494651794434,
          -13.865888595581055,
          -16.503089904785156,
          40.2478141784668,
          -0.4670340120792389,
          14.968096733093262,
          -26.210172653198242,
          -13.80406379699707,
          -17.850786209106445,
          -22.145835876464844,
          40.34733581542969,
          -13.210626602172852,
          -27.52404022216797,
          9.81425666809082,
          -21.83402442932129,
          -13.787670135498047,
          -26.99981689453125,
          -11.44343376159668,
          -20.469524383544922,
          -14.53715705871582,
          -20.95711898803711,
          -19.89458656311035,
          -11.702227592468262,
          -17.1107234954834,
          -26.53759765625,
          -24.92427635192871,
          -28.894668579101562,
          -25.191905975341797
         ],
         "xaxis": "x",
         "y": [
          -25.762802124023438,
          -17.052858352661133,
          12.86881160736084,
          -21.764535903930664,
          -25.498973846435547,
          25.429258346557617,
          26.961647033691406,
          -28.066099166870117,
          -21.340240478515625,
          14.355915069580078,
          -23.84754180908203,
          -11.699355125427246,
          -19.510961532592773,
          -28.661720275878906,
          26.52141571044922,
          -20.888477325439453,
          -20.7883358001709,
          -28.36636734008789,
          -18.51861000061035,
          -22.59281349182129,
          -21.055068969726562,
          -26.352663040161133,
          -25.254684448242188,
          -18.679466247558594,
          -20.14719581604004,
          -28.17787742614746,
          -5.276939868927002,
          -27.38222312927246,
          -27.021127700805664
         ],
         "yaxis": "y"
        },
        {
         "customdata": [
          [
           "BuildingNonResidential",
           "m382.obj"
          ],
          [
           "BuildingNonResidential",
           "m383.obj"
          ],
          [
           "BuildingNonResidential",
           "m384.obj"
          ],
          [
           "BuildingNonResidential",
           "m385.obj"
          ],
          [
           "BuildingNonResidential",
           "m386.obj"
          ],
          [
           "BuildingNonResidential",
           "m387.obj"
          ],
          [
           "BuildingNonResidential",
           "m390.obj"
          ],
          [
           "BuildingNonResidential",
           "m391.obj"
          ],
          [
           "BuildingNonResidential",
           "m392.obj"
          ],
          [
           "BuildingNonResidential",
           "m393.obj"
          ],
          [
           "BuildingNonResidential",
           "m394.obj"
          ],
          [
           "BuildingNonResidential",
           "m395.obj"
          ],
          [
           "BuildingNonResidential",
           "m396.obj"
          ],
          [
           "BuildingNonResidential",
           "m397.obj"
          ],
          [
           "BuildingNonResidential",
           "m398.obj"
          ],
          [
           "BuildingNonResidential",
           "m399.obj"
          ],
          [
           "BuildingNonResidential",
           "m400.obj"
          ],
          [
           "BuildingNonResidential",
           "m401.obj"
          ],
          [
           "BuildingNonResidential",
           "m402.obj"
          ],
          [
           "BuildingNonResidential",
           "m404.obj"
          ],
          [
           "BuildingNonResidential",
           "m405.obj"
          ],
          [
           "BuildingNonResidential",
           "m406.obj"
          ],
          [
           "BuildingNonResidential",
           "m407.obj"
          ],
          [
           "BuildingNonResidential",
           "m408.obj"
          ],
          [
           "BuildingNonResidential",
           "m409.obj"
          ],
          [
           "BuildingNonResidential",
           "m410.obj"
          ],
          [
           "BuildingNonResidential",
           "m412.obj"
          ],
          [
           "BuildingNonResidential",
           "m413.obj"
          ],
          [
           "BuildingNonResidential",
           "m414.obj"
          ],
          [
           "BuildingNonResidential",
           "m415.obj"
          ],
          [
           "BuildingNonResidential",
           "m416.obj"
          ],
          [
           "BuildingNonResidential",
           "m418.obj"
          ],
          [
           "BuildingNonResidential",
           "m420.obj"
          ],
          [
           "BuildingNonResidential",
           "m421.obj"
          ],
          [
           "BuildingNonResidential",
           "m470.obj"
          ],
          [
           "BuildingNonResidential",
           "m471.obj"
          ],
          [
           "BuildingNonResidential",
           "m472.obj"
          ],
          [
           "BuildingNonResidential",
           "m474.obj"
          ],
          [
           "BuildingNonResidential",
           "m475.obj"
          ],
          [
           "BuildingNonResidential",
           "m477.obj"
          ],
          [
           "BuildingNonResidential",
           "m478.obj"
          ],
          [
           "BuildingNonResidential",
           "m479.obj"
          ],
          [
           "BuildingNonResidential",
           "m481.obj"
          ]
         ],
         "hovertemplate": "Class=%{customdata[0]}<br>Principal Component 1=%{x}<br>Principal Component 2=%{y}<br>Name=%{customdata[1]}<extra></extra>",
         "legendgroup": "BuildingNonResidential",
         "marker": {
          "color": "#FECB52",
          "symbol": "circle"
         },
         "mode": "markers",
         "name": "BuildingNonResidential",
         "showlegend": true,
         "type": "scattergl",
         "x": [
          -22.53866195678711,
          -7.204150676727295,
          41.853389739990234,
          -21.113420486450195,
          -15.988030433654785,
          18.442211151123047,
          -30.738605499267578,
          -28.36924171447754,
          -26.54627799987793,
          42.243202209472656,
          41.000640869140625,
          -19.088685989379883,
          15.152958869934082,
          -13.195172309875488,
          8.635553359985352,
          16.47365379333496,
          37.32206726074219,
          42.26346969604492,
          39.60544967651367,
          19.747892379760742,
          41.312904357910156,
          33.984195709228516,
          -29.739177703857422,
          -10.307626724243164,
          8.669633865356445,
          42.05809020996094,
          39.38552474975586,
          36.706607818603516,
          0.7184969186782837,
          18.900554656982422,
          40.557525634765625,
          37.217411041259766,
          37.88932418823242,
          42.26642608642578,
          -6.049878120422363,
          -15.911848068237305,
          -19.112106323242188,
          -12.293679237365723,
          -27.584131240844727,
          -21.54988670349121,
          0.5193279385566711,
          -15.158671379089355,
          -20.126270294189453
         ],
         "xaxis": "x",
         "y": [
          5.608108043670654,
          25.034297943115234,
          -24.541250228881836,
          9.612835884094238,
          17.662771224975586,
          25.49262809753418,
          -28.32510757446289,
          -21.74207305908203,
          -20.000089645385742,
          -20.900657653808594,
          -24.70836639404297,
          13.34827995300293,
          27.73748016357422,
          20.94687843322754,
          27.966535568237305,
          27.030221939086914,
          1.3233500719070435,
          -21.21623992919922,
          -7.17773962020874,
          25.04776954650879,
          -16.971927642822266,
          8.74789047241211,
          -21.50839614868164,
          22.0216064453125,
          23.689062118530273,
          -20.334096908569336,
          -9.005837440490723,
          2.7140588760375977,
          26.95050621032715,
          25.9963436126709,
          -12.2726469039917,
          1.830438256263733,
          -25.807722091674805,
          -21.547119140625,
          -8.258986473083496,
          -21.75473403930664,
          -23.331161499023438,
          21.2452449798584,
          -20.137123107910156,
          -12.031712532043457,
          23.516374588012695,
          -13.871439933776855,
          -7.72638463973999
         ],
         "yaxis": "y"
        },
        {
         "customdata": [
          [
           "Bus",
           "D00084.obj"
          ],
          [
           "Bus",
           "D00114.obj"
          ],
          [
           "Bus",
           "D00151.obj"
          ],
          [
           "Bus",
           "D00179.obj"
          ],
          [
           "Bus",
           "D00182.obj"
          ],
          [
           "Bus",
           "D00264.obj"
          ],
          [
           "Bus",
           "D00436.obj"
          ],
          [
           "Bus",
           "D00448.obj"
          ],
          [
           "Bus",
           "D00483.obj"
          ],
          [
           "Bus",
           "D00677.obj"
          ],
          [
           "Bus",
           "D00754.obj"
          ],
          [
           "Bus",
           "D00769.obj"
          ],
          [
           "Bus",
           "D00775.obj"
          ],
          [
           "Bus",
           "D00815.obj"
          ],
          [
           "Bus",
           "D00823.obj"
          ],
          [
           "Bus",
           "D00832.obj"
          ],
          [
           "Bus",
           "D00857.obj"
          ]
         ],
         "hovertemplate": "Class=%{customdata[0]}<br>Principal Component 1=%{x}<br>Principal Component 2=%{y}<br>Name=%{customdata[1]}<extra></extra>",
         "legendgroup": "Bus",
         "marker": {
          "color": "#636efa",
          "symbol": "circle"
         },
         "mode": "markers",
         "name": "Bus",
         "showlegend": true,
         "type": "scattergl",
         "x": [
          36.09718322753906,
          38.21070861816406,
          -9.963871955871582,
          12.9652738571167,
          24.128780364990234,
          -0.7612209916114807,
          -20.795103073120117,
          15.91669750213623,
          8.810588836669922,
          40.71599578857422,
          40.16764450073242,
          40.29472732543945,
          41.426273345947266,
          -15.482704162597656,
          36.80550765991211,
          -25.98499870300293,
          -7.667015552520752
         ],
         "xaxis": "x",
         "y": [
          -7.212366580963135,
          -25.899799346923828,
          17.677339553833008,
          26.006160736083984,
          20.464736938476562,
          -5.723039150238037,
          -16.378572463989258,
          26.659744262695312,
          27.625566482543945,
          -12.774211883544922,
          -10.61132526397705,
          -13.502589225769043,
          -17.657766342163086,
          12.361903190612793,
          -21.444461822509766,
          -25.392728805541992,
          19.84029197692871
         ],
         "yaxis": "y"
        },
        {
         "customdata": [
          [
           "Car",
           "D00168.obj"
          ],
          [
           "Car",
           "D00236.obj"
          ],
          [
           "Car",
           "D00260.obj"
          ],
          [
           "Car",
           "D00265.obj"
          ],
          [
           "Car",
           "D00299.obj"
          ],
          [
           "Car",
           "D00377.obj"
          ],
          [
           "Car",
           "D00405.obj"
          ],
          [
           "Car",
           "D00452.obj"
          ],
          [
           "Car",
           "D00504.obj"
          ],
          [
           "Car",
           "D00541.obj"
          ],
          [
           "Car",
           "D00618.obj"
          ],
          [
           "Car",
           "D00670.obj"
          ],
          [
           "Car",
           "D00671.obj"
          ],
          [
           "Car",
           "D00724.obj"
          ],
          [
           "Car",
           "D00767.obj"
          ],
          [
           "Car",
           "D00785.obj"
          ],
          [
           "Car",
           "D00793.obj"
          ],
          [
           "Car",
           "D00803.obj"
          ],
          [
           "Car",
           "D00865.obj"
          ],
          [
           "Car",
           "D00976.obj"
          ],
          [
           "Car",
           "m1485.obj"
          ],
          [
           "Car",
           "m1486.obj"
          ],
          [
           "Car",
           "m1487.obj"
          ],
          [
           "Car",
           "m1488.obj"
          ],
          [
           "Car",
           "m1489.obj"
          ],
          [
           "Car",
           "m1490.obj"
          ],
          [
           "Car",
           "m1492.obj"
          ],
          [
           "Car",
           "m1495.obj"
          ],
          [
           "Car",
           "m1496.obj"
          ],
          [
           "Car",
           "m1497.obj"
          ],
          [
           "Car",
           "m1498.obj"
          ],
          [
           "Car",
           "m1499.obj"
          ],
          [
           "Car",
           "m1500.obj"
          ],
          [
           "Car",
           "m1502.obj"
          ],
          [
           "Car",
           "m1503.obj"
          ],
          [
           "Car",
           "m1504.obj"
          ],
          [
           "Car",
           "m1505.obj"
          ],
          [
           "Car",
           "m1506.obj"
          ],
          [
           "Car",
           "m1507.obj"
          ],
          [
           "Car",
           "m1508.obj"
          ],
          [
           "Car",
           "m1509.obj"
          ],
          [
           "Car",
           "m1510.obj"
          ],
          [
           "Car",
           "m1511.obj"
          ],
          [
           "Car",
           "m1512.obj"
          ],
          [
           "Car",
           "m1513.obj"
          ],
          [
           "Car",
           "m1514.obj"
          ],
          [
           "Car",
           "m1515.obj"
          ],
          [
           "Car",
           "m1516.obj"
          ],
          [
           "Car",
           "m1517.obj"
          ],
          [
           "Car",
           "m1518.obj"
          ],
          [
           "Car",
           "m1519.obj"
          ],
          [
           "Car",
           "m1521.obj"
          ],
          [
           "Car",
           "m1522.obj"
          ],
          [
           "Car",
           "m1523.obj"
          ],
          [
           "Car",
           "m1524.obj"
          ],
          [
           "Car",
           "m1525.obj"
          ],
          [
           "Car",
           "m1526.obj"
          ],
          [
           "Car",
           "m1527.obj"
          ],
          [
           "Car",
           "m1528.obj"
          ],
          [
           "Car",
           "m1529.obj"
          ],
          [
           "Car",
           "m1530.obj"
          ],
          [
           "Car",
           "m1531.obj"
          ],
          [
           "Car",
           "m1532.obj"
          ],
          [
           "Car",
           "m1533.obj"
          ],
          [
           "Car",
           "m1535.obj"
          ],
          [
           "Car",
           "m1536.obj"
          ],
          [
           "Car",
           "m1538.obj"
          ],
          [
           "Car",
           "m1539.obj"
          ],
          [
           "Car",
           "m1540.obj"
          ],
          [
           "Car",
           "m1542.obj"
          ],
          [
           "Car",
           "m1543.obj"
          ],
          [
           "Car",
           "m1544.obj"
          ],
          [
           "Car",
           "m1545.obj"
          ],
          [
           "Car",
           "m1546.obj"
          ],
          [
           "Car",
           "m1547.obj"
          ],
          [
           "Car",
           "m1548.obj"
          ],
          [
           "Car",
           "m1550.obj"
          ],
          [
           "Car",
           "m1551.obj"
          ],
          [
           "Car",
           "m1552.obj"
          ],
          [
           "Car",
           "m1553.obj"
          ],
          [
           "Car",
           "m1555.obj"
          ],
          [
           "Car",
           "m1556.obj"
          ],
          [
           "Car",
           "m1557.obj"
          ],
          [
           "Car",
           "m1558.obj"
          ],
          [
           "Car",
           "m1559.obj"
          ],
          [
           "Car",
           "m1560.obj"
          ],
          [
           "Car",
           "m1561.obj"
          ],
          [
           "Car",
           "m1562.obj"
          ],
          [
           "Car",
           "m1563.obj"
          ]
         ],
         "hovertemplate": "Class=%{customdata[0]}<br>Principal Component 1=%{x}<br>Principal Component 2=%{y}<br>Name=%{customdata[1]}<extra></extra>",
         "legendgroup": "Car",
         "marker": {
          "color": "#EF553B",
          "symbol": "circle"
         },
         "mode": "markers",
         "name": "Car",
         "showlegend": true,
         "type": "scattergl",
         "x": [
          -15.018277168273926,
          28.678565979003906,
          13.45341682434082,
          -12.679388999938965,
          -1.1402840614318848,
          -14.616353034973145,
          37.78639221191406,
          -7.41921329498291,
          -13.565103530883789,
          -21.053943634033203,
          -14.045105934143066,
          -12.576424598693848,
          -8.986021995544434,
          1.8939749002456665,
          -20.28521156311035,
          -20.67257308959961,
          -13.25125503540039,
          19.758344650268555,
          -19.426549911499023,
          -2.1720762252807617,
          -17.873817443847656,
          -20.57815170288086,
          40.22983169555664,
          11.858222961425781,
          -26.735868453979492,
          -8.500859260559082,
          31.260297775268555,
          -11.508225440979004,
          -15.675588607788086,
          -12.519710540771484,
          41.3288688659668,
          36.446285247802734,
          -19.450313568115234,
          -7.389726161956787,
          14.021533012390137,
          12.873931884765625,
          11.44599437713623,
          28.000680923461914,
          21.89840316772461,
          -4.185825347900391,
          30.17642593383789,
          -2.9240856170654297,
          25.780550003051758,
          31.43239974975586,
          9.709400177001953,
          -4.378666877746582,
          -6.590663433074951,
          -12.941566467285156,
          -19.978872299194336,
          -15.050312995910645,
          -12.670697212219238,
          -12.220653533935547,
          -18.14972496032715,
          -13.593688011169434,
          -18.638586044311523,
          -8.650044441223145,
          -13.575994491577148,
          -4.793910026550293,
          -12.427298545837402,
          -20.15114402770996,
          -16.10472869873047,
          -18.842117309570312,
          -22.21639060974121,
          -4.664942264556885,
          -12.926079750061035,
          -18.913719177246094,
          -13.959888458251953,
          -13.941313743591309,
          -4.285402774810791,
          -20.56317138671875,
          -17.408369064331055,
          34.48676300048828,
          -14.16907787322998,
          16.63660430908203,
          -10.857805252075195,
          -14.169090270996094,
          -14.395243644714355,
          -11.868335723876953,
          -13.62983226776123,
          -14.754273414611816,
          14.7907075881958,
          41.904693603515625,
          -15.77103328704834,
          35.162166595458984,
          35.935508728027344,
          42.34730529785156,
          -26.494131088256836,
          -11.817601203918457,
          -24.05681037902832
         ],
         "xaxis": "x",
         "y": [
          2.557147741317749,
          17.038312911987305,
          27.49051284790039,
          -18.4992618560791,
          26.256040573120117,
          -8.431866645812988,
          -25.768434524536133,
          23.706979751586914,
          7.330033779144287,
          6.3810858726501465,
          -13.02825927734375,
          12.136131286621094,
          18.833065032958984,
          26.54306411743164,
          -14.613516807556152,
          -21.363428115844727,
          -18.070575714111328,
          23.350086212158203,
          -13.207279205322266,
          24.647686004638672,
          -19.43282127380371,
          -23.73220443725586,
          -12.549208641052246,
          27.605056762695312,
          -20.64259910583496,
          23.23198127746582,
          14.397003173828125,
          13.907556533813477,
          -10.102875709533691,
          2.115971088409424,
          -16.11709213256836,
          3.1573333740234375,
          -14.380535125732422,
          7.096463203430176,
          22.024864196777344,
          24.48015594482422,
          22.95458221435547,
          16.62668228149414,
          19.303546905517578,
          7.885620594024658,
          14.823637962341309,
          19.407699584960938,
          17.88302230834961,
          12.421262741088867,
          25.930500030517578,
          19.017011642456055,
          -8.222487449645996,
          6.310993194580078,
          -15.86091136932373,
          -7.220808506011963,
          -18.016937255859375,
          -16.925277709960938,
          -8.492915153503418,
          -17.902400970458984,
          -24.106143951416016,
          14.067477226257324,
          -18.67824935913086,
          19.89913558959961,
          14.061319351196289,
          -15.26565170288086,
          -20.080556869506836,
          -24.98362159729004,
          -26.258684158325195,
          -10.30755615234375,
          6.650886058807373,
          -25.317176818847656,
          -18.2652645111084,
          0.6929025053977966,
          -6.988977432250977,
          -14.276658058166504,
          -13.782225608825684,
          6.122403621673584,
          7.8573760986328125,
          24.763402938842773,
          -15.483807563781738,
          7.8574042320251465,
          -7.734640598297119,
          2.8341763019561768,
          -17.926897048950195,
          -19.40006446838379,
          27.24544906616211,
          -22.696611404418945,
          -14.095108985900879,
          5.355991840362549,
          3.9410786628723145,
          -20.50052833557129,
          -15.143389701843262,
          21.531871795654297,
          -9.148652076721191
         ],
         "yaxis": "y"
        },
        {
         "customdata": [
          [
           "Cellphone",
           "D00018.obj"
          ],
          [
           "Cellphone",
           "D00032.obj"
          ],
          [
           "Cellphone",
           "D00079.obj"
          ],
          [
           "Cellphone",
           "D00152.obj"
          ],
          [
           "Cellphone",
           "D00192.obj"
          ],
          [
           "Cellphone",
           "D00248.obj"
          ],
          [
           "Cellphone",
           "D00312.obj"
          ],
          [
           "Cellphone",
           "D00327.obj"
          ],
          [
           "Cellphone",
           "D00362.obj"
          ],
          [
           "Cellphone",
           "D00369.obj"
          ],
          [
           "Cellphone",
           "D00440.obj"
          ],
          [
           "Cellphone",
           "D00527.obj"
          ],
          [
           "Cellphone",
           "D00542.obj"
          ],
          [
           "Cellphone",
           "D00554.obj"
          ],
          [
           "Cellphone",
           "D00559.obj"
          ],
          [
           "Cellphone",
           "D00817.obj"
          ],
          [
           "Cellphone",
           "D00848.obj"
          ],
          [
           "Cellphone",
           "D00902.obj"
          ],
          [
           "Cellphone",
           "D00979.obj"
          ],
          [
           "Cellphone",
           "D00997.obj"
          ]
         ],
         "hovertemplate": "Class=%{customdata[0]}<br>Principal Component 1=%{x}<br>Principal Component 2=%{y}<br>Name=%{customdata[1]}<extra></extra>",
         "legendgroup": "Cellphone",
         "marker": {
          "color": "#00cc96",
          "symbol": "circle"
         },
         "mode": "markers",
         "name": "Cellphone",
         "showlegend": true,
         "type": "scattergl",
         "x": [
          6.446880340576172,
          -10.274065971374512,
          -1.3248487710952759,
          7.12727689743042,
          -9.128703117370605,
          -5.058642387390137,
          4.534314155578613,
          -5.059247016906738,
          13.05872631072998,
          -13.58662223815918,
          -9.592962265014648,
          -4.539670944213867,
          -9.459378242492676,
          -5.492609977722168,
          -10.040760040283203,
          5.9938225746154785,
          0.6512759923934937,
          -17.14822006225586,
          -10.237277030944824,
          -11.493621826171875
         ],
         "xaxis": "x",
         "y": [
          -0.8796979784965515,
          -12.368178367614746,
          -8.550583839416504,
          0.16152973473072052,
          -13.345476150512695,
          -10.361649513244629,
          -3.4918105602264404,
          -10.346555709838867,
          -1.0112165212631226,
          -16.777284622192383,
          -16.070283889770508,
          -10.797316551208496,
          -15.557701110839844,
          -8.288329124450684,
          -2.534684181213379,
          -2.832432746887207,
          -3.99391508102417,
          -22.392303466796875,
          -0.5423436760902405,
          -13.975982666015625
         ],
         "yaxis": "y"
        },
        {
         "customdata": [
          [
           "Chess",
           "D01017.obj"
          ],
          [
           "Chess",
           "D01019.obj"
          ],
          [
           "Chess",
           "D01021.obj"
          ],
          [
           "Chess",
           "D01043.obj"
          ],
          [
           "Chess",
           "D01045.obj"
          ],
          [
           "Chess",
           "D01049.obj"
          ],
          [
           "Chess",
           "D01053.obj"
          ],
          [
           "Chess",
           "D01080.obj"
          ],
          [
           "Chess",
           "D01081.obj"
          ],
          [
           "Chess",
           "D01099.obj"
          ],
          [
           "Chess",
           "D01105.obj"
          ],
          [
           "Chess",
           "D01112.obj"
          ],
          [
           "Chess",
           "D01123.obj"
          ],
          [
           "Chess",
           "D01126.obj"
          ],
          [
           "Chess",
           "D01130.obj"
          ],
          [
           "Chess",
           "D01138.obj"
          ],
          [
           "Chess",
           "D01145.obj"
          ],
          [
           "Chess",
           "D01171.obj"
          ],
          [
           "Chess",
           "D01186.obj"
          ],
          [
           "Chess",
           "D01188.obj"
          ],
          [
           "Chess",
           "m1589.obj"
          ],
          [
           "Chess",
           "m1591.obj"
          ],
          [
           "Chess",
           "m1593.obj"
          ],
          [
           "Chess",
           "m1595.obj"
          ],
          [
           "Chess",
           "m1596.obj"
          ],
          [
           "Chess",
           "m1598.obj"
          ],
          [
           "Chess",
           "m1599.obj"
          ],
          [
           "Chess",
           "m1600.obj"
          ],
          [
           "Chess",
           "m1601.obj"
          ],
          [
           "Chess",
           "m1602.obj"
          ],
          [
           "Chess",
           "m1603.obj"
          ],
          [
           "Chess",
           "m1604.obj"
          ],
          [
           "Chess",
           "m1605.obj"
          ],
          [
           "Chess",
           "m1606.obj"
          ],
          [
           "Chess",
           "m1607.obj"
          ],
          [
           "Chess",
           "m1608.obj"
          ],
          [
           "Chess",
           "m1609.obj"
          ],
          [
           "Chess",
           "m1610.obj"
          ],
          [
           "Chess",
           "m1611.obj"
          ],
          [
           "Chess",
           "m1612.obj"
          ],
          [
           "Chess",
           "m1613.obj"
          ],
          [
           "Chess",
           "m1614.obj"
          ]
         ],
         "hovertemplate": "Class=%{customdata[0]}<br>Principal Component 1=%{x}<br>Principal Component 2=%{y}<br>Name=%{customdata[1]}<extra></extra>",
         "legendgroup": "Chess",
         "marker": {
          "color": "#ab63fa",
          "symbol": "circle"
         },
         "mode": "markers",
         "name": "Chess",
         "showlegend": true,
         "type": "scattergl",
         "x": [
          -26.451189041137695,
          -20.759233474731445,
          -21.16230583190918,
          -14.85987377166748,
          -19.388002395629883,
          -19.16706085205078,
          -29.840333938598633,
          -21.504785537719727,
          -25.565420150756836,
          -27.133214950561523,
          -21.55945587158203,
          -20.78544044494629,
          -18.35671043395996,
          -25.716981887817383,
          -20.50040054321289,
          -21.41143798828125,
          -18.44403648376465,
          -28.726919174194336,
          -26.058202743530273,
          -28.221052169799805,
          31.71318244934082,
          37.867881774902344,
          24.23996925354004,
          36.24919891357422,
          34.60078048706055,
          -20.78561019897461,
          -21.50508689880371,
          -20.976804733276367,
          -25.566076278686523,
          -19.46800422668457,
          -14.860021591186523,
          -19.03093719482422,
          -29.84137725830078,
          -27.21697998046875,
          -25.716510772705078,
          -28.261436462402344,
          -26.109210968017578,
          -29.33844566345215,
          -21.105913162231445,
          -20.729841232299805,
          -21.559444427490234,
          -17.963998794555664
         ],
         "xaxis": "x",
         "y": [
          -26.833921432495117,
          -24.822710037231445,
          -25.635208129882812,
          -21.7318058013916,
          -23.98459815979004,
          -24.464561462402344,
          -28.157882690429688,
          -24.3282413482666,
          -20.109289169311523,
          -24.559280395507812,
          -25.253822326660156,
          -23.360519409179688,
          -23.90335464477539,
          -25.741701126098633,
          -25.039216995239258,
          -24.975461959838867,
          -23.933490753173828,
          -22.074970245361328,
          -25.944364547729492,
          -20.24726104736328,
          12.617189407348633,
          -25.799732208251953,
          19.79887580871582,
          1.8844879865646362,
          5.152470111846924,
          -23.361305236816406,
          -24.32799530029297,
          -24.87533187866211,
          -20.1092472076416,
          -24.012910842895508,
          -21.731769561767578,
          -24.433984756469727,
          -28.156349182128906,
          -24.53415298461914,
          -25.74134635925293,
          -20.253738403320312,
          -25.941499710083008,
          -22.0955810546875,
          -25.62646484375,
          -25.11135482788086,
          -25.253948211669922,
          -23.726247787475586
         ],
         "yaxis": "y"
        },
        {
         "customdata": [
          [
           "City",
           "D01001.obj"
          ],
          [
           "City",
           "D01010.obj"
          ],
          [
           "City",
           "D01018.obj"
          ],
          [
           "City",
           "D01039.obj"
          ],
          [
           "City",
           "D01068.obj"
          ],
          [
           "City",
           "D01079.obj"
          ],
          [
           "City",
           "D01090.obj"
          ],
          [
           "City",
           "D01091.obj"
          ],
          [
           "City",
           "D01092.obj"
          ],
          [
           "City",
           "D01101.obj"
          ],
          [
           "City",
           "D01103.obj"
          ],
          [
           "City",
           "D01124.obj"
          ],
          [
           "City",
           "D01133.obj"
          ],
          [
           "City",
           "D01173.obj"
          ],
          [
           "City",
           "D01181.obj"
          ],
          [
           "City",
           "D01195.obj"
          ],
          [
           "City",
           "m1652.obj"
          ],
          [
           "City",
           "m1654.obj"
          ],
          [
           "City",
           "m1659.obj"
          ],
          [
           "City",
           "m1660.obj"
          ],
          [
           "City",
           "m1661.obj"
          ],
          [
           "City",
           "m1662.obj"
          ],
          [
           "City",
           "m1664.obj"
          ]
         ],
         "hovertemplate": "Class=%{customdata[0]}<br>Principal Component 1=%{x}<br>Principal Component 2=%{y}<br>Name=%{customdata[1]}<extra></extra>",
         "legendgroup": "City",
         "marker": {
          "color": "#FFA15A",
          "symbol": "circle"
         },
         "mode": "markers",
         "name": "City",
         "showlegend": true,
         "type": "scattergl",
         "x": [
          -11.210744857788086,
          40.18529510498047,
          35.28010177612305,
          42.004920959472656,
          32.9725456237793,
          42.068119049072266,
          42.03226089477539,
          39.1635856628418,
          41.000606536865234,
          42.17906188964844,
          22.208940505981445,
          32.27833557128906,
          37.85807800292969,
          39.7366828918457,
          -13.094578742980957,
          30.871553421020508,
          25.560256958007812,
          32.927913665771484,
          37.85813522338867,
          41.10494613647461,
          41.9510383605957,
          42.09440231323242,
          12.891644477844238
         ],
         "xaxis": "x",
         "y": [
          20.909902572631836,
          -11.211166381835938,
          5.548306465148926,
          -17.462783813476562,
          8.906652450561523,
          -24.097759246826172,
          -17.86357879638672,
          -7.321585178375244,
          -24.7085018157959,
          -23.67918586730957,
          18.44473648071289,
          11.649479866027832,
          -2.671600341796875,
          -25.6949462890625,
          19.320850372314453,
          9.93378734588623,
          16.51853370666504,
          8.978659629821777,
          -2.6718201637268066,
          -25.15572166442871,
          -17.33694839477539,
          -24.0567684173584,
          27.427465438842773
         ],
         "yaxis": "y"
        },
        {
         "customdata": [
          [
           "ClassicPiano",
           "D00005.obj"
          ],
          [
           "ClassicPiano",
           "D00009.obj"
          ],
          [
           "ClassicPiano",
           "D00034.obj"
          ],
          [
           "ClassicPiano",
           "D00092.obj"
          ],
          [
           "ClassicPiano",
           "D00120.obj"
          ],
          [
           "ClassicPiano",
           "D00233.obj"
          ],
          [
           "ClassicPiano",
           "D00254.obj"
          ],
          [
           "ClassicPiano",
           "D00279.obj"
          ],
          [
           "ClassicPiano",
           "D00314.obj"
          ],
          [
           "ClassicPiano",
           "D00561.obj"
          ],
          [
           "ClassicPiano",
           "D00579.obj"
          ],
          [
           "ClassicPiano",
           "D00605.obj"
          ],
          [
           "ClassicPiano",
           "D00784.obj"
          ],
          [
           "ClassicPiano",
           "D00811.obj"
          ],
          [
           "ClassicPiano",
           "D00845.obj"
          ],
          [
           "ClassicPiano",
           "D00983.obj"
          ]
         ],
         "hovertemplate": "Class=%{customdata[0]}<br>Principal Component 1=%{x}<br>Principal Component 2=%{y}<br>Name=%{customdata[1]}<extra></extra>",
         "legendgroup": "ClassicPiano",
         "marker": {
          "color": "#19d3f3",
          "symbol": "circle"
         },
         "mode": "markers",
         "name": "ClassicPiano",
         "showlegend": true,
         "type": "scattergl",
         "x": [
          -0.5011953115463257,
          -8.127043724060059,
          -23.739110946655273,
          41.9947509765625,
          -15.72944164276123,
          37.04457473754883,
          36.60984802246094,
          38.50397491455078,
          42.338069915771484,
          38.6179313659668,
          37.012351989746094,
          36.803375244140625,
          21.558542251586914,
          30.3308162689209,
          11.73862075805664,
          35.05983352661133
         ],
         "xaxis": "x",
         "y": [
          26.8475341796875,
          24.213970184326172,
          -14.565997123718262,
          -18.792545318603516,
          17.262731552124023,
          2.133099317550659,
          1.693485975265503,
          -2.8294763565063477,
          -20.416553497314453,
          -3.283363103866577,
          2.0748353004455566,
          -24.89374542236328,
          23.602371215820312,
          15.59008502960205,
          27.93722152709961,
          6.286675453186035
         ],
         "yaxis": "y"
        },
        {
         "customdata": [
          [
           "Computer",
           "D01002.obj"
          ],
          [
           "Computer",
           "D01023.obj"
          ],
          [
           "Computer",
           "D01026.obj"
          ],
          [
           "Computer",
           "D01028.obj"
          ],
          [
           "Computer",
           "D01033.obj"
          ],
          [
           "Computer",
           "D01037.obj"
          ],
          [
           "Computer",
           "D01067.obj"
          ],
          [
           "Computer",
           "D01070.obj"
          ],
          [
           "Computer",
           "D01071.obj"
          ],
          [
           "Computer",
           "D01072.obj"
          ],
          [
           "Computer",
           "D01073.obj"
          ],
          [
           "Computer",
           "D01082.obj"
          ],
          [
           "Computer",
           "D01085.obj"
          ],
          [
           "Computer",
           "D01098.obj"
          ],
          [
           "Computer",
           "D01100.obj"
          ],
          [
           "Computer",
           "D01102.obj"
          ],
          [
           "Computer",
           "D01128.obj"
          ],
          [
           "Computer",
           "D01164.obj"
          ],
          [
           "Computer",
           "D01185.obj"
          ],
          [
           "Computer",
           "m1764.obj"
          ],
          [
           "Computer",
           "m1765.obj"
          ],
          [
           "Computer",
           "m1766.obj"
          ],
          [
           "Computer",
           "m1767.obj"
          ],
          [
           "Computer",
           "m1769.obj"
          ],
          [
           "Computer",
           "m1770.obj"
          ],
          [
           "Computer",
           "m1772.obj"
          ],
          [
           "Computer",
           "m1773.obj"
          ],
          [
           "Computer",
           "m1774.obj"
          ],
          [
           "Computer",
           "m1775.obj"
          ],
          [
           "Computer",
           "m1776.obj"
          ],
          [
           "Computer",
           "m1777.obj"
          ],
          [
           "Computer",
           "m1778.obj"
          ]
         ],
         "hovertemplate": "Class=%{customdata[0]}<br>Principal Component 1=%{x}<br>Principal Component 2=%{y}<br>Name=%{customdata[1]}<extra></extra>",
         "legendgroup": "Computer",
         "marker": {
          "color": "#FF6692",
          "symbol": "circle"
         },
         "mode": "markers",
         "name": "Computer",
         "showlegend": true,
         "type": "scattergl",
         "x": [
          -15.680404663085938,
          -25.848745346069336,
          -27.054183959960938,
          -26.09107780456543,
          -25.764549255371094,
          -24.40103530883789,
          -25.951904296875,
          -24.843130111694336,
          -24.516155242919922,
          -28.447771072387695,
          -26.701866149902344,
          37.41374969482422,
          -30.022546768188477,
          -26.17045021057129,
          -25.52225112915039,
          -20.471235275268555,
          -18.092472076416016,
          -21.328935623168945,
          -23.638486862182617,
          -25.832576751708984,
          -22.356210708618164,
          -24.999853134155273,
          -15.690115928649902,
          -30.069477081298828,
          -25.566389083862305,
          -18.09316635131836,
          -26.055830001831055,
          -20.138565063476562,
          -27.026824951171875,
          -22.87612533569336,
          -28.457094192504883,
          -25.951889038085938
         ],
         "xaxis": "x",
         "y": [
          17.611732482910156,
          -14.649240493774414,
          -12.693388938903809,
          -7.208348751068115,
          -1.6292946338653564,
          3.7555606365203857,
          -7.152598857879639,
          -5.76921272277832,
          -1.1535111665725708,
          -17.331392288208008,
          -24.807214736938477,
          0.9928348064422607,
          -20.862571716308594,
          -5.617501258850098,
          -1.069654107093811,
          3.200597047805786,
          13.013382911682129,
          8.171488761901855,
          4.683537483215332,
          -5.308387756347656,
          -0.8935928344726562,
          -2.440821886062622,
          17.613494873046875,
          -20.890010833740234,
          -1.1231169700622559,
          13.013718605041504,
          -6.813610076904297,
          11.332550048828125,
          -12.716019630432129,
          6.561608791351318,
          -17.32684898376465,
          -7.152654647827148
         ],
         "yaxis": "y"
        },
        {
         "customdata": [
          [
           "ComputerKeyboard",
           "D00116.obj"
          ],
          [
           "ComputerKeyboard",
           "D00127.obj"
          ],
          [
           "ComputerKeyboard",
           "D00197.obj"
          ],
          [
           "ComputerKeyboard",
           "D00278.obj"
          ],
          [
           "ComputerKeyboard",
           "D00360.obj"
          ],
          [
           "ComputerKeyboard",
           "D00382.obj"
          ],
          [
           "ComputerKeyboard",
           "D00420.obj"
          ],
          [
           "ComputerKeyboard",
           "D00493.obj"
          ],
          [
           "ComputerKeyboard",
           "D00525.obj"
          ],
          [
           "ComputerKeyboard",
           "D00569.obj"
          ],
          [
           "ComputerKeyboard",
           "D00597.obj"
          ],
          [
           "ComputerKeyboard",
           "D00627.obj"
          ],
          [
           "ComputerKeyboard",
           "D00654.obj"
          ],
          [
           "ComputerKeyboard",
           "D00673.obj"
          ],
          [
           "ComputerKeyboard",
           "D00676.obj"
          ],
          [
           "ComputerKeyboard",
           "D00692.obj"
          ],
          [
           "ComputerKeyboard",
           "D00805.obj"
          ],
          [
           "ComputerKeyboard",
           "D00905.obj"
          ]
         ],
         "hovertemplate": "Class=%{customdata[0]}<br>Principal Component 1=%{x}<br>Principal Component 2=%{y}<br>Name=%{customdata[1]}<extra></extra>",
         "legendgroup": "ComputerKeyboard",
         "marker": {
          "color": "#B6E880",
          "symbol": "circle"
         },
         "mode": "markers",
         "name": "ComputerKeyboard",
         "showlegend": true,
         "type": "scattergl",
         "x": [
          29.01139259338379,
          16.396892547607422,
          18.239044189453125,
          37.771060943603516,
          24.82146644592285,
          20.870521545410156,
          35.174346923828125,
          25.603492736816406,
          23.57058334350586,
          38.56443786621094,
          36.71070098876953,
          34.780616760253906,
          -2.014498472213745,
          26.514814376831055,
          36.87968063354492,
          20.8588924407959,
          38.60548782348633,
          23.305862426757812
         ],
         "xaxis": "x",
         "y": [
          8.653887748718262,
          -0.22804027795791626,
          -2.4696035385131836,
          -5.680163860321045,
          -8.376238822937012,
          -5.263391971588135,
          -0.5359792709350586,
          11.37015438079834,
          -12.398935317993164,
          -12.460389137268066,
          -7.82774019241333,
          -0.33744895458221436,
          8.901700973510742,
          9.787297248840332,
          -25.04305076599121,
          -5.158191680908203,
          -6.427792549133301,
          -10.655685424804688
         ],
         "yaxis": "y"
        },
        {
         "customdata": [
          [
           "Cup",
           "D00035.obj"
          ],
          [
           "Cup",
           "D00067.obj"
          ],
          [
           "Cup",
           "D00174.obj"
          ],
          [
           "Cup",
           "D00206.obj"
          ],
          [
           "Cup",
           "D00214.obj"
          ],
          [
           "Cup",
           "D00355.obj"
          ],
          [
           "Cup",
           "D00363.obj"
          ],
          [
           "Cup",
           "D00457.obj"
          ],
          [
           "Cup",
           "D00463.obj"
          ],
          [
           "Cup",
           "D00519.obj"
          ],
          [
           "Cup",
           "D00550.obj"
          ],
          [
           "Cup",
           "D00587.obj"
          ],
          [
           "Cup",
           "D00638.obj"
          ],
          [
           "Cup",
           "D00642.obj"
          ],
          [
           "Cup",
           "D00738.obj"
          ],
          [
           "Cup",
           "D00843.obj"
          ],
          [
           "Cup",
           "D00874.obj"
          ],
          [
           "Cup",
           "D00882.obj"
          ],
          [
           "Cup",
           "m494.obj"
          ],
          [
           "Cup",
           "m495.obj"
          ],
          [
           "Cup",
           "m496.obj"
          ],
          [
           "Cup",
           "m497.obj"
          ],
          [
           "Cup",
           "m498.obj"
          ],
          [
           "Cup",
           "m499.obj"
          ],
          [
           "Cup",
           "m500.obj"
          ],
          [
           "Cup",
           "m501.obj"
          ],
          [
           "Cup",
           "m502.obj"
          ],
          [
           "Cup",
           "m526.obj"
          ]
         ],
         "hovertemplate": "Class=%{customdata[0]}<br>Principal Component 1=%{x}<br>Principal Component 2=%{y}<br>Name=%{customdata[1]}<extra></extra>",
         "legendgroup": "Cup",
         "marker": {
          "color": "#FF97FF",
          "symbol": "circle"
         },
         "mode": "markers",
         "name": "Cup",
         "showlegend": true,
         "type": "scattergl",
         "x": [
          -20.869783401489258,
          6.340970993041992,
          -6.451496124267578,
          -8.349764823913574,
          28.370731353759766,
          9.433517456054688,
          -12.555093765258789,
          15.357386589050293,
          29.756778717041016,
          -24.304109573364258,
          -22.873233795166016,
          4.985280513763428,
          -17.431194305419922,
          -14.995928764343262,
          -20.34151268005371,
          -18.97409439086914,
          -0.1335514634847641,
          -22.1625919342041,
          26.855472564697266,
          -9.898454666137695,
          -24.853574752807617,
          -26.91082191467285,
          -14.840850830078125,
          9.983941078186035,
          -31.50246810913086,
          5.23134183883667,
          -24.018836975097656,
          -29.836942672729492
         ],
         "xaxis": "x",
         "y": [
          10.469352722167969,
          27.19185447692871,
          24.793323516845703,
          24.51692008972168,
          17.532567977905273,
          26.234304428100586,
          20.608980178833008,
          26.32207679748535,
          16.070266723632812,
          -15.420854568481445,
          1.2976032495498657,
          27.05428123474121,
          14.445786476135254,
          10.38338565826416,
          10.277724266052246,
          10.724565505981445,
          26.944988250732422,
          6.395140171051025,
          18.476116180419922,
          23.025249481201172,
          0.9938928484916687,
          -20.812116622924805,
          18.872703552246094,
          28.084001541137695,
          -27.113296508789062,
          27.317306518554688,
          3.280529499053955,
          -28.370460510253906
         ],
         "yaxis": "y"
        },
        {
         "customdata": [
          [
           "DeskLamp",
           "D00048.obj"
          ],
          [
           "DeskLamp",
           "D00090.obj"
          ],
          [
           "DeskLamp",
           "D00147.obj"
          ],
          [
           "DeskLamp",
           "D00257.obj"
          ],
          [
           "DeskLamp",
           "D00268.obj"
          ],
          [
           "DeskLamp",
           "D00330.obj"
          ],
          [
           "DeskLamp",
           "D00378.obj"
          ],
          [
           "DeskLamp",
           "D00435.obj"
          ],
          [
           "DeskLamp",
           "D00455.obj"
          ],
          [
           "DeskLamp",
           "D00531.obj"
          ],
          [
           "DeskLamp",
           "D00547.obj"
          ],
          [
           "DeskLamp",
           "D00686.obj"
          ],
          [
           "DeskLamp",
           "D00693.obj"
          ],
          [
           "DeskLamp",
           "D00698.obj"
          ],
          [
           "DeskLamp",
           "D00715.obj"
          ],
          [
           "DeskLamp",
           "D00744.obj"
          ],
          [
           "DeskLamp",
           "D00759.obj"
          ],
          [
           "DeskLamp",
           "D00776.obj"
          ],
          [
           "DeskLamp",
           "D00797.obj"
          ],
          [
           "DeskLamp",
           "D00912.obj"
          ],
          [
           "DeskLamp",
           "m603.obj"
          ],
          [
           "DeskLamp",
           "m604.obj"
          ],
          [
           "DeskLamp",
           "m605.obj"
          ],
          [
           "DeskLamp",
           "m606.obj"
          ],
          [
           "DeskLamp",
           "m608.obj"
          ],
          [
           "DeskLamp",
           "m609.obj"
          ],
          [
           "DeskLamp",
           "m611.obj"
          ],
          [
           "DeskLamp",
           "m613.obj"
          ],
          [
           "DeskLamp",
           "m614.obj"
          ],
          [
           "DeskLamp",
           "m615.obj"
          ],
          [
           "DeskLamp",
           "m616.obj"
          ]
         ],
         "hovertemplate": "Class=%{customdata[0]}<br>Principal Component 1=%{x}<br>Principal Component 2=%{y}<br>Name=%{customdata[1]}<extra></extra>",
         "legendgroup": "DeskLamp",
         "marker": {
          "color": "#FECB52",
          "symbol": "circle"
         },
         "mode": "markers",
         "name": "DeskLamp",
         "showlegend": true,
         "type": "scattergl",
         "x": [
          -29.93007469177246,
          -3.960458517074585,
          9.98958969116211,
          -15.510970115661621,
          34.694007873535156,
          30.76393699645996,
          -15.636837005615234,
          -17.242753982543945,
          23.452655792236328,
          3.289950132369995,
          -7.713737964630127,
          -5.205143928527832,
          -3.4948554039001465,
          -15.078811645507812,
          3.2991888523101807,
          -0.04524368420243263,
          -14.408462524414062,
          23.001874923706055,
          12.167036056518555,
          -4.155170440673828,
          -19.427122116088867,
          -11.069572448730469,
          -14.235386848449707,
          -16.83666229248047,
          -22.966533660888672,
          14.721407890319824,
          -16.0852108001709,
          5.941928386688232,
          -23.308116912841797,
          -0.8833574652671814,
          13.792808532714844
         ],
         "xaxis": "x",
         "y": [
          -26.57537841796875,
          18.047447204589844,
          21.10627555847168,
          14.008291244506836,
          -0.23353180289268494,
          14.073661804199219,
          -16.216007232666016,
          -7.085692882537842,
          18.343645095825195,
          -2.985663414001465,
          23.18190574645996,
          -12.121597290039062,
          21.169666290283203,
          -21.771577835083008,
          26.186542510986328,
          -3.485299825668335,
          -16.734155654907227,
          19.892011642456055,
          23.138397216796875,
          -11.436553955078125,
          4.080496788024902,
          13.372697830200195,
          -21.883872985839844,
          -8.27738094329834,
          3.661689519882202,
          -1.7423787117004395,
          -12.640188217163086,
          -2.0035529136657715,
          -1.1741033792495728,
          22.25589942932129,
          23.860992431640625
         ],
         "yaxis": "y"
        },
        {
         "customdata": [
          [
           "DeskPhone",
           "D00118.obj"
          ],
          [
           "DeskPhone",
           "D00135.obj"
          ],
          [
           "DeskPhone",
           "D00154.obj"
          ],
          [
           "DeskPhone",
           "D00316.obj"
          ],
          [
           "DeskPhone",
           "D00318.obj"
          ],
          [
           "DeskPhone",
           "D00403.obj"
          ],
          [
           "DeskPhone",
           "D00486.obj"
          ],
          [
           "DeskPhone",
           "D00511.obj"
          ],
          [
           "DeskPhone",
           "D00556.obj"
          ],
          [
           "DeskPhone",
           "D00576.obj"
          ],
          [
           "DeskPhone",
           "D00680.obj"
          ],
          [
           "DeskPhone",
           "D00706.obj"
          ],
          [
           "DeskPhone",
           "D00773.obj"
          ],
          [
           "DeskPhone",
           "D00829.obj"
          ],
          [
           "DeskPhone",
           "D00894.obj"
          ],
          [
           "DeskPhone",
           "D00897.obj"
          ],
          [
           "DeskPhone",
           "D00899.obj"
          ],
          [
           "DeskPhone",
           "D00957.obj"
          ],
          [
           "DeskPhone",
           "D00958.obj"
          ]
         ],
         "hovertemplate": "Class=%{customdata[0]}<br>Principal Component 1=%{x}<br>Principal Component 2=%{y}<br>Name=%{customdata[1]}<extra></extra>",
         "legendgroup": "DeskPhone",
         "marker": {
          "color": "#636efa",
          "symbol": "circle"
         },
         "mode": "markers",
         "name": "DeskPhone",
         "showlegend": true,
         "type": "scattergl",
         "x": [
          1.0688310861587524,
          -8.032562255859375,
          7.066042900085449,
          -16.407339096069336,
          -25.828386306762695,
          -15.181614875793457,
          -15.82384204864502,
          38.32732009887695,
          -21.492156982421875,
          -5.2921576499938965,
          -19.872777938842773,
          -16.490453720092773,
          -2.296767234802246,
          -12.09632682800293,
          -21.21710205078125,
          -9.970380783081055,
          0.10606350749731064,
          8.257113456726074,
          -4.928531169891357
         ],
         "xaxis": "x",
         "y": [
          -5.732842922210693,
          -9.857017517089844,
          1.934173345565796,
          -7.209532260894775,
          -17.010915756225586,
          16.03048324584961,
          -12.009376525878906,
          -25.91158103942871,
          -11.07742691040039,
          18.26103973388672,
          -14.404364585876465,
          4.414413928985596,
          7.9544477462768555,
          12.49830436706543,
          -7.607407093048096,
          -1.0351234674453735,
          -2.5845725536346436,
          23.875810623168945,
          -7.559624195098877
         ],
         "yaxis": "y"
        },
        {
         "customdata": [
          [
           "Door",
           "D01005.obj"
          ],
          [
           "Door",
           "D01029.obj"
          ],
          [
           "Door",
           "D01052.obj"
          ],
          [
           "Door",
           "D01058.obj"
          ],
          [
           "Door",
           "D01062.obj"
          ],
          [
           "Door",
           "D01076.obj"
          ],
          [
           "Door",
           "D01104.obj"
          ],
          [
           "Door",
           "D01114.obj"
          ],
          [
           "Door",
           "D01121.obj"
          ],
          [
           "Door",
           "D01129.obj"
          ],
          [
           "Door",
           "D01136.obj"
          ],
          [
           "Door",
           "D01139.obj"
          ],
          [
           "Door",
           "D01141.obj"
          ],
          [
           "Door",
           "D01143.obj"
          ],
          [
           "Door",
           "D01144.obj"
          ],
          [
           "Door",
           "D01155.obj"
          ],
          [
           "Door",
           "D01158.obj"
          ],
          [
           "Door",
           "D01167.obj"
          ],
          [
           "Door",
           "D01177.obj"
          ],
          [
           "Door",
           "D01194.obj"
          ],
          [
           "Door",
           "m1707.obj"
          ],
          [
           "Door",
           "m1708.obj"
          ],
          [
           "Door",
           "m1710.obj"
          ],
          [
           "Door",
           "m1711.obj"
          ],
          [
           "Door",
           "m1712.obj"
          ],
          [
           "Door",
           "m1713.obj"
          ],
          [
           "Door",
           "m1714.obj"
          ],
          [
           "Door",
           "m1715.obj"
          ],
          [
           "Door",
           "m1716.obj"
          ],
          [
           "Door",
           "m1717.obj"
          ],
          [
           "Door",
           "m1718.obj"
          ],
          [
           "Door",
           "m1720.obj"
          ],
          [
           "Door",
           "m1721.obj"
          ],
          [
           "Door",
           "m1722.obj"
          ],
          [
           "Door",
           "m1723.obj"
          ],
          [
           "Door",
           "m1724.obj"
          ],
          [
           "Door",
           "m1725.obj"
          ],
          [
           "Door",
           "m1726.obj"
          ],
          [
           "Door",
           "m1727.obj"
          ],
          [
           "Door",
           "m1728.obj"
          ],
          [
           "Door",
           "m1729.obj"
          ],
          [
           "Door",
           "m1730.obj"
          ],
          [
           "Door",
           "m1731.obj"
          ],
          [
           "Door",
           "m1732.obj"
          ]
         ],
         "hovertemplate": "Class=%{customdata[0]}<br>Principal Component 1=%{x}<br>Principal Component 2=%{y}<br>Name=%{customdata[1]}<extra></extra>",
         "legendgroup": "Door",
         "marker": {
          "color": "#EF553B",
          "symbol": "circle"
         },
         "mode": "markers",
         "name": "Door",
         "showlegend": true,
         "type": "scattergl",
         "x": [
          29.85007095336914,
          -3.914473295211792,
          -14.009526252746582,
          26.20077896118164,
          25.137718200683594,
          25.545883178710938,
          24.380741119384766,
          -4.206306457519531,
          20.64975357055664,
          36.78609085083008,
          22.426755905151367,
          39.88798522949219,
          14.532183647155762,
          26.42760467529297,
          17.368328094482422,
          39.35834503173828,
          7.77752161026001,
          16.671571731567383,
          16.50543975830078,
          23.77646827697754,
          -3.9097187519073486,
          28.487003326416016,
          28.82205581665039,
          18.31143569946289,
          25.483989715576172,
          29.850093841552734,
          24.281448364257812,
          -12.904102325439453,
          14.509384155273438,
          26.58843231201172,
          36.59552764892578,
          22.738609313964844,
          7.778963088989258,
          -4.059905052185059,
          18.4783992767334,
          25.882896423339844,
          11.73071575164795,
          39.35293197631836,
          30.46712303161621,
          21.511362075805664,
          40.05155563354492,
          40.05155563354492,
          26.732229232788086,
          30.36459732055664
         ],
         "xaxis": "x",
         "y": [
          7.290410995483398,
          7.183309078216553,
          -11.119181632995605,
          12.158262252807617,
          10.871810913085938,
          11.990659713745117,
          -8.221428871154785,
          8.134682655334473,
          -1.88192880153656,
          -21.551414489746094,
          -8.626359939575195,
          -25.752656936645508,
          19.697118759155273,
          10.556668281555176,
          -1.2122077941894531,
          -8.702269554138184,
          1.2983107566833496,
          -0.9682077765464783,
          -0.456043004989624,
          -12.054760932922363,
          7.14832878112793,
          8.694483757019043,
          7.7640838623046875,
          -1.0719280242919922,
          12.366456985473633,
          7.2903733253479,
          -8.532886505126953,
          -10.87404727935791,
          19.777496337890625,
          12.308699607849121,
          -22.90990447998047,
          -9.138011932373047,
          1.2980040311813354,
          8.077451705932617,
          -0.7008101940155029,
          10.925819396972656,
          3.043576240539551,
          -8.69937515258789,
          11.227526664733887,
          -7.3198652267456055,
          -12.164584159851074,
          -12.164584159851074,
          12.301956176757812,
          9.482381820678711
         ],
         "yaxis": "y"
        },
        {
         "customdata": [
          [
           "Drum",
           "D00026.obj"
          ],
          [
           "Drum",
           "D00063.obj"
          ],
          [
           "Drum",
           "D00115.obj"
          ],
          [
           "Drum",
           "D00163.obj"
          ],
          [
           "Drum",
           "D00189.obj"
          ],
          [
           "Drum",
           "D00193.obj"
          ],
          [
           "Drum",
           "D00297.obj"
          ],
          [
           "Drum",
           "D00298.obj"
          ],
          [
           "Drum",
           "D00383.obj"
          ],
          [
           "Drum",
           "D00404.obj"
          ],
          [
           "Drum",
           "D00551.obj"
          ],
          [
           "Drum",
           "D00557.obj"
          ],
          [
           "Drum",
           "D00596.obj"
          ],
          [
           "Drum",
           "D00709.obj"
          ],
          [
           "Drum",
           "D00939.obj"
          ],
          [
           "Drum",
           "D00951.obj"
          ],
          [
           "Drum",
           "D00980.obj"
          ],
          [
           "Drum",
           "D00982.obj"
          ]
         ],
         "hovertemplate": "Class=%{customdata[0]}<br>Principal Component 1=%{x}<br>Principal Component 2=%{y}<br>Name=%{customdata[1]}<extra></extra>",
         "legendgroup": "Drum",
         "marker": {
          "color": "#00cc96",
          "symbol": "circle"
         },
         "mode": "markers",
         "name": "Drum",
         "showlegend": true,
         "type": "scattergl",
         "x": [
          42.32921600341797,
          19.874046325683594,
          -33.31291580200195,
          20.54475212097168,
          -9.110283851623535,
          -13.518418312072754,
          39.57204818725586,
          -26.806264877319336,
          -30.088577270507812,
          -29.814298629760742,
          -31.593847274780273,
          -1.392798662185669,
          -6.889759063720703,
          -29.846420288085938,
          33.2003059387207,
          40.16758728027344,
          37.07265090942383,
          1.2948205471038818
         ],
         "xaxis": "x",
         "y": [
          -22.16611671447754,
          25.14651107788086,
          -23.37029457092285,
          24.613916397094727,
          23.739160537719727,
          20.245880126953125,
          -6.830923080444336,
          -8.987137794494629,
          -20.904401779174805,
          -19.348224639892578,
          -20.916378021240234,
          26.919424057006836,
          25.345073699951172,
          -21.879117965698242,
          10.47091293334961,
          -10.1221284866333,
          -20.31188201904297,
          25.5601863861084
         ],
         "yaxis": "y"
        },
        {
         "customdata": [
          [
           "Fish",
           "D00012.obj"
          ],
          [
           "Fish",
           "D00022.obj"
          ],
          [
           "Fish",
           "D00024.obj"
          ],
          [
           "Fish",
           "D00030.obj"
          ],
          [
           "Fish",
           "D00142.obj"
          ],
          [
           "Fish",
           "D00165.obj"
          ],
          [
           "Fish",
           "D00251.obj"
          ],
          [
           "Fish",
           "D00293.obj"
          ],
          [
           "Fish",
           "D00351.obj"
          ],
          [
           "Fish",
           "D00398.obj"
          ],
          [
           "Fish",
           "D00450.obj"
          ],
          [
           "Fish",
           "D00535.obj"
          ],
          [
           "Fish",
           "D00633.obj"
          ],
          [
           "Fish",
           "D00636.obj"
          ],
          [
           "Fish",
           "D00643.obj"
          ],
          [
           "Fish",
           "D00682.obj"
          ],
          [
           "Fish",
           "D00748.obj"
          ],
          [
           "Fish",
           "D00763.obj"
          ],
          [
           "Fish",
           "D00850.obj"
          ],
          [
           "Fish",
           "D00950.obj"
          ]
         ],
         "hovertemplate": "Class=%{customdata[0]}<br>Principal Component 1=%{x}<br>Principal Component 2=%{y}<br>Name=%{customdata[1]}<extra></extra>",
         "legendgroup": "Fish",
         "marker": {
          "color": "#ab63fa",
          "symbol": "circle"
         },
         "mode": "markers",
         "name": "Fish",
         "showlegend": true,
         "type": "scattergl",
         "x": [
          -14.707883834838867,
          -13.434277534484863,
          -12.783766746520996,
          -14.505941390991211,
          -15.62706470489502,
          -17.42093849182129,
          -27.54595184326172,
          -19.910804748535156,
          -12.596121788024902,
          -21.84778594970703,
          -22.5904598236084,
          -18.40118980407715,
          -6.315553188323975,
          -16.880252838134766,
          -18.97970199584961,
          -7.546135425567627,
          -7.361546516418457,
          -25.376792907714844,
          -20.921239852905273,
          -16.386180877685547
         ],
         "xaxis": "x",
         "y": [
          -14.805914878845215,
          -10.544807434082031,
          -13.223395347595215,
          -9.737483024597168,
          -9.30230712890625,
          -12.936901092529297,
          -18.622629165649414,
          -14.269453048706055,
          -11.271286964416504,
          -12.411478042602539,
          -11.387218475341797,
          4.731637954711914,
          -10.581377029418945,
          -14.012334823608398,
          -13.266165733337402,
          -9.102471351623535,
          -9.620109558105469,
          -14.931790351867676,
          -13.927961349487305,
          -20.394149780273438
         ],
         "yaxis": "y"
        },
        {
         "customdata": [
          [
           "FloorLamp",
           "D00028.obj"
          ],
          [
           "FloorLamp",
           "D00093.obj"
          ],
          [
           "FloorLamp",
           "D00186.obj"
          ],
          [
           "FloorLamp",
           "D00211.obj"
          ],
          [
           "FloorLamp",
           "D00228.obj"
          ],
          [
           "FloorLamp",
           "D00388.obj"
          ],
          [
           "FloorLamp",
           "D00400.obj"
          ],
          [
           "FloorLamp",
           "D00495.obj"
          ],
          [
           "FloorLamp",
           "D00563.obj"
          ],
          [
           "FloorLamp",
           "D00580.obj"
          ],
          [
           "FloorLamp",
           "D00740.obj"
          ],
          [
           "FloorLamp",
           "D00856.obj"
          ],
          [
           "FloorLamp",
           "D00875.obj"
          ],
          [
           "FloorLamp",
           "D00876.obj"
          ],
          [
           "FloorLamp",
           "D00888.obj"
          ],
          [
           "FloorLamp",
           "D00924.obj"
          ],
          [
           "FloorLamp",
           "D00955.obj"
          ],
          [
           "FloorLamp",
           "D00981.obj"
          ],
          [
           "FloorLamp",
           "m617.obj"
          ],
          [
           "FloorLamp",
           "m618.obj"
          ],
          [
           "FloorLamp",
           "m619.obj"
          ],
          [
           "FloorLamp",
           "m620.obj"
          ],
          [
           "FloorLamp",
           "m621.obj"
          ],
          [
           "FloorLamp",
           "m622.obj"
          ],
          [
           "FloorLamp",
           "m623.obj"
          ],
          [
           "FloorLamp",
           "m624.obj"
          ]
         ],
         "hovertemplate": "Class=%{customdata[0]}<br>Principal Component 1=%{x}<br>Principal Component 2=%{y}<br>Name=%{customdata[1]}<extra></extra>",
         "legendgroup": "FloorLamp",
         "marker": {
          "color": "#FFA15A",
          "symbol": "circle"
         },
         "mode": "markers",
         "name": "FloorLamp",
         "showlegend": true,
         "type": "scattergl",
         "x": [
          22.428998947143555,
          37.6796760559082,
          31.197105407714844,
          -5.109054088592529,
          3.9981861114501953,
          6.28436279296875,
          37.462257385253906,
          -23.118741989135742,
          34.577415466308594,
          35.28566360473633,
          27.26852798461914,
          30.12009048461914,
          -23.7530517578125,
          -29.94522476196289,
          -22.899364471435547,
          -4.179736614227295,
          -2.4972646236419678,
          -24.063823699951172,
          -18.68134307861328,
          15.968181610107422,
          10.36406135559082,
          37.82678985595703,
          14.732369422912598,
          19.474361419677734,
          -1.7280114889144897,
          12.95201301574707
         ],
         "xaxis": "x",
         "y": [
          22.778865814208984,
          0.09286116063594818,
          14.562516212463379,
          20.913101196289062,
          27.180490493774414,
          27.664823532104492,
          0.6293259263038635,
          -3.1275811195373535,
          7.53441858291626,
          5.884599208831787,
          18.49409294128418,
          15.510027885437012,
          -3.8518712520599365,
          -22.822582244873047,
          3.2278056144714355,
          21.37592124938965,
          24.5422420501709,
          2.3010551929473877,
          -13.642349243164062,
          -2.1836626529693604,
          -0.7198352217674255,
          -3.584726095199585,
          -1.343575119972229,
          -4.911752700805664,
          -7.696125030517578,
          -0.8964210152626038
         ],
         "yaxis": "y"
        },
        {
         "customdata": [
          [
           "Glasses",
           "D00050.obj"
          ],
          [
           "Glasses",
           "D00201.obj"
          ],
          [
           "Glasses",
           "D00225.obj"
          ],
          [
           "Glasses",
           "D00432.obj"
          ],
          [
           "Glasses",
           "D00475.obj"
          ],
          [
           "Glasses",
           "D00507.obj"
          ],
          [
           "Glasses",
           "D00560.obj"
          ],
          [
           "Glasses",
           "D00575.obj"
          ],
          [
           "Glasses",
           "D00630.obj"
          ],
          [
           "Glasses",
           "D00640.obj"
          ],
          [
           "Glasses",
           "D00656.obj"
          ],
          [
           "Glasses",
           "D00660.obj"
          ],
          [
           "Glasses",
           "D00717.obj"
          ],
          [
           "Glasses",
           "D00730.obj"
          ],
          [
           "Glasses",
           "D00813.obj"
          ],
          [
           "Glasses",
           "D00816.obj"
          ],
          [
           "Glasses",
           "D00877.obj"
          ],
          [
           "Glasses",
           "D00883.obj"
          ],
          [
           "Glasses",
           "D00937.obj"
          ],
          [
           "Glasses",
           "D00994.obj"
          ]
         ],
         "hovertemplate": "Class=%{customdata[0]}<br>Principal Component 1=%{x}<br>Principal Component 2=%{y}<br>Name=%{customdata[1]}<extra></extra>",
         "legendgroup": "Glasses",
         "marker": {
          "color": "#19d3f3",
          "symbol": "circle"
         },
         "mode": "markers",
         "name": "Glasses",
         "showlegend": true,
         "type": "scattergl",
         "x": [
          -4.852686405181885,
          38.33360290527344,
          3.110103130340576,
          15.73549747467041,
          37.265647888183594,
          -4.852595806121826,
          23.822235107421875,
          27.28873062133789,
          -6.528855323791504,
          26.05472755432129,
          -9.862202644348145,
          16.846834182739258,
          32.34823226928711,
          11.859414100646973,
          -2.4406986236572266,
          26.98945426940918,
          -1.7746776342391968,
          4.1330695152282715,
          22.774709701538086,
          38.35029983520508
         ],
         "xaxis": "x",
         "y": [
          22.97062110900879,
          -2.1679441928863525,
          -5.054497241973877,
          0.2914336919784546,
          0.005601871758699417,
          22.970703125,
          19.73900032043457,
          16.824954986572266,
          23.972475051879883,
          17.16036033630371,
          5.670343399047852,
          21.279563903808594,
          11.505359649658203,
          21.689899444580078,
          22.76353645324707,
          16.19261932373047,
          -9.244901657104492,
          -4.666037559509277,
          17.97464370727539,
          -2.38370943069458
         ],
         "yaxis": "y"
        },
        {
         "customdata": [
          [
           "Guitar",
           "D00023.obj"
          ],
          [
           "Guitar",
           "D00041.obj"
          ],
          [
           "Guitar",
           "D00076.obj"
          ],
          [
           "Guitar",
           "D00097.obj"
          ],
          [
           "Guitar",
           "D00124.obj"
          ],
          [
           "Guitar",
           "D00222.obj"
          ],
          [
           "Guitar",
           "D00232.obj"
          ],
          [
           "Guitar",
           "D00335.obj"
          ],
          [
           "Guitar",
           "D00374.obj"
          ],
          [
           "Guitar",
           "D00414.obj"
          ],
          [
           "Guitar",
           "D00416.obj"
          ],
          [
           "Guitar",
           "D00461.obj"
          ],
          [
           "Guitar",
           "D00464.obj"
          ],
          [
           "Guitar",
           "D00494.obj"
          ],
          [
           "Guitar",
           "D00534.obj"
          ],
          [
           "Guitar",
           "D00549.obj"
          ],
          [
           "Guitar",
           "D00645.obj"
          ],
          [
           "Guitar",
           "D00655.obj"
          ],
          [
           "Guitar",
           "D00844.obj"
          ],
          [
           "Guitar",
           "D00849.obj"
          ]
         ],
         "hovertemplate": "Class=%{customdata[0]}<br>Principal Component 1=%{x}<br>Principal Component 2=%{y}<br>Name=%{customdata[1]}<extra></extra>",
         "legendgroup": "Guitar",
         "marker": {
          "color": "#FF6692",
          "symbol": "circle"
         },
         "mode": "markers",
         "name": "Guitar",
         "showlegend": true,
         "type": "scattergl",
         "x": [
          11.784167289733887,
          21.947526931762695,
          14.972455978393555,
          6.38469123840332,
          16.755220413208008,
          1.583942174911499,
          17.327741622924805,
          36.61610412597656,
          13.987845420837402,
          -5.786852836608887,
          10.318475723266602,
          21.97715187072754,
          3.0896148681640625,
          13.331230163574219,
          34.65804672241211,
          20.43705177307129,
          6.297208309173584,
          23.513427734375,
          -10.404528617858887,
          15.923737525939941
         ],
         "xaxis": "x",
         "y": [
          0.091861292719841,
          -7.730156898498535,
          -1.5203537940979004,
          -2.270256280899048,
          -2.8520452976226807,
          -6.28369665145874,
          -3.3020126819610596,
          -22.636383056640625,
          -0.6626049280166626,
          -5.758717060089111,
          0.052792880684137344,
          -7.921771049499512,
          -4.142182350158691,
          -0.7783343195915222,
          5.620932579040527,
          -5.7354021072387695,
          1.1052429676055908,
          -11.73540210723877,
          -0.47863221168518066,
          -0.06338419765233994
         ],
         "yaxis": "y"
        },
        {
         "customdata": [
          [
           "Gun",
           "D00103.obj"
          ],
          [
           "Gun",
           "D00137.obj"
          ],
          [
           "Gun",
           "D00140.obj"
          ],
          [
           "Gun",
           "D00153.obj"
          ],
          [
           "Gun",
           "D00161.obj"
          ],
          [
           "Gun",
           "D00204.obj"
          ],
          [
           "Gun",
           "D00207.obj"
          ],
          [
           "Gun",
           "D00209.obj"
          ],
          [
           "Gun",
           "D00239.obj"
          ],
          [
           "Gun",
           "D00244.obj"
          ],
          [
           "Gun",
           "D00282.obj"
          ],
          [
           "Gun",
           "D00368.obj"
          ],
          [
           "Gun",
           "D00425.obj"
          ],
          [
           "Gun",
           "D00477.obj"
          ],
          [
           "Gun",
           "D00606.obj"
          ],
          [
           "Gun",
           "D00802.obj"
          ],
          [
           "Gun",
           "D00819.obj"
          ],
          [
           "Gun",
           "D00826.obj"
          ],
          [
           "Gun",
           "D00929.obj"
          ],
          [
           "Gun",
           "D00972.obj"
          ],
          [
           "Gun",
           "m648.obj"
          ],
          [
           "Gun",
           "m649.obj"
          ],
          [
           "Gun",
           "m650.obj"
          ],
          [
           "Gun",
           "m651.obj"
          ],
          [
           "Gun",
           "m652.obj"
          ],
          [
           "Gun",
           "m653.obj"
          ],
          [
           "Gun",
           "m654.obj"
          ],
          [
           "Gun",
           "m655.obj"
          ],
          [
           "Gun",
           "m656.obj"
          ],
          [
           "Gun",
           "m657.obj"
          ],
          [
           "Gun",
           "m658.obj"
          ],
          [
           "Gun",
           "m659.obj"
          ],
          [
           "Gun",
           "m660.obj"
          ],
          [
           "Gun",
           "m661.obj"
          ],
          [
           "Gun",
           "m662.obj"
          ],
          [
           "Gun",
           "m663.obj"
          ],
          [
           "Gun",
           "m664.obj"
          ],
          [
           "Gun",
           "m665.obj"
          ],
          [
           "Gun",
           "m666.obj"
          ],
          [
           "Gun",
           "m667.obj"
          ],
          [
           "Gun",
           "m668.obj"
          ],
          [
           "Gun",
           "m669.obj"
          ],
          [
           "Gun",
           "m670.obj"
          ],
          [
           "Gun",
           "m671.obj"
          ],
          [
           "Gun",
           "m672.obj"
          ],
          [
           "Gun",
           "m674.obj"
          ],
          [
           "Gun",
           "m675.obj"
          ],
          [
           "Gun",
           "m676.obj"
          ],
          [
           "Gun",
           "m677.obj"
          ],
          [
           "Gun",
           "m678.obj"
          ],
          [
           "Gun",
           "m679.obj"
          ],
          [
           "Gun",
           "m680.obj"
          ],
          [
           "Gun",
           "m681.obj"
          ],
          [
           "Gun",
           "m682.obj"
          ],
          [
           "Gun",
           "m683.obj"
          ],
          [
           "Gun",
           "m684.obj"
          ],
          [
           "Gun",
           "m685.obj"
          ],
          [
           "Gun",
           "m686.obj"
          ]
         ],
         "hovertemplate": "Class=%{customdata[0]}<br>Principal Component 1=%{x}<br>Principal Component 2=%{y}<br>Name=%{customdata[1]}<extra></extra>",
         "legendgroup": "Gun",
         "marker": {
          "color": "#B6E880",
          "symbol": "circle"
         },
         "mode": "markers",
         "name": "Gun",
         "showlegend": true,
         "type": "scattergl",
         "x": [
          -6.4091267585754395,
          -3.5696465969085693,
          -3.374093532562256,
          3.4547932147979736,
          -0.8565179109573364,
          -6.622941970825195,
          33.36577224731445,
          24.09475326538086,
          17.555044174194336,
          -10.069304466247559,
          6.794650077819824,
          -8.132135391235352,
          12.372791290283203,
          18.61490249633789,
          -5.814980983734131,
          11.117231369018555,
          -8.943075180053711,
          13.769831657409668,
          4.973429203033447,
          -8.699189186096191,
          4.713881969451904,
          42.158267974853516,
          40.374420166015625,
          -6.075415134429932,
          -5.92711067199707,
          12.80692195892334,
          5.677027702331543,
          5.634125232696533,
          33.69633865356445,
          -6.80794095993042,
          -8.37479019165039,
          10.923748016357422,
          36.62607192993164,
          -1.5668832063674927,
          5.7528076171875,
          5.83894681930542,
          -10.237103462219238,
          1.7137234210968018,
          16.51371192932129,
          13.561623573303223,
          22.662015914916992,
          20.667179107666016,
          21.542280197143555,
          19.245956420898438,
          17.53738021850586,
          11.932849884033203,
          13.815091133117676,
          5.693686485290527,
          20.6409912109375,
          20.398822784423828,
          19.52751350402832,
          22.05274200439453,
          14.570240020751953,
          17.175111770629883,
          18.105388641357422,
          16.7071590423584,
          -11.564870834350586,
          27.309215545654297
         ],
         "xaxis": "x",
         "y": [
          1.5954935550689697,
          7.708254337310791,
          7.238068103790283,
          -4.327391147613525,
          -5.271000385284424,
          11.350448608398438,
          8.48533821105957,
          20.01669692993164,
          -1.3539915084838867,
          6.455821990966797,
          0.5126847624778748,
          1.0503305196762085,
          22.86578369140625,
          -4.038393974304199,
          9.5470609664917,
          -0.0474349781870842,
          15.619872093200684,
          -0.6715468168258667,
          -0.35538747906684875,
          18.960853576660156,
          -1.1824769973754883,
          -19.76483917236328,
          -14.037362098693848,
          -12.121800422668457,
          8.141341209411621,
          0.5452922582626343,
          -0.610382080078125,
          -2.4993624687194824,
          7.514183044433594,
          -11.335953712463379,
          6.408379554748535,
          -0.3658480644226074,
          -24.206501007080078,
          -1.012385606765747,
          -0.3385166525840759,
          0.7312712669372559,
          1.1961544752120972,
          -5.798942565917969,
          25.38850975036621,
          0.8387408256530762,
          18.112577438354492,
          -5.466516971588135,
          -7.433652400970459,
          -4.498326778411865,
          -3.475898265838623,
          -0.6747493743896484,
          -1.277779459953308,
          -1.641520380973816,
          -5.898950099945068,
          -6.203617572784424,
          -4.990388870239258,
          -7.717836856842041,
          -0.6656145453453064,
          -1.9760926961898804,
          -3.5954768657684326,
          21.101041793823242,
          -13.429535865783691,
          11.297173500061035
         ],
         "yaxis": "y"
        },
        {
         "customdata": [
          [
           "Hand",
           "D01006.obj"
          ],
          [
           "Hand",
           "D01020.obj"
          ],
          [
           "Hand",
           "D01022.obj"
          ],
          [
           "Hand",
           "D01024.obj"
          ],
          [
           "Hand",
           "D01041.obj"
          ],
          [
           "Hand",
           "D01060.obj"
          ],
          [
           "Hand",
           "D01074.obj"
          ],
          [
           "Hand",
           "D01093.obj"
          ],
          [
           "Hand",
           "D01097.obj"
          ],
          [
           "Hand",
           "D01106.obj"
          ],
          [
           "Hand",
           "D01117.obj"
          ],
          [
           "Hand",
           "D01118.obj"
          ],
          [
           "Hand",
           "D01153.obj"
          ],
          [
           "Hand",
           "D01162.obj"
          ],
          [
           "Hand",
           "D01170.obj"
          ],
          [
           "Hand",
           "D01172.obj"
          ],
          [
           "Hand",
           "D01193.obj"
          ],
          [
           "Hand",
           "D01197.obj"
          ],
          [
           "Hand",
           "D01198.obj"
          ],
          [
           "Hand",
           "D01200.obj"
          ],
          [
           "Hand",
           "m323.obj"
          ],
          [
           "Hand",
           "m324.obj"
          ],
          [
           "Hand",
           "m325.obj"
          ],
          [
           "Hand",
           "m326.obj"
          ],
          [
           "Hand",
           "m327.obj"
          ],
          [
           "Hand",
           "m328.obj"
          ],
          [
           "Hand",
           "m329.obj"
          ],
          [
           "Hand",
           "m330.obj"
          ],
          [
           "Hand",
           "m331.obj"
          ],
          [
           "Hand",
           "m332.obj"
          ],
          [
           "Hand",
           "m333.obj"
          ],
          [
           "Hand",
           "m334.obj"
          ],
          [
           "Hand",
           "m335.obj"
          ],
          [
           "Hand",
           "m336.obj"
          ],
          [
           "Hand",
           "m337.obj"
          ],
          [
           "Hand",
           "m338.obj"
          ],
          [
           "Hand",
           "m339.obj"
          ]
         ],
         "hovertemplate": "Class=%{customdata[0]}<br>Principal Component 1=%{x}<br>Principal Component 2=%{y}<br>Name=%{customdata[1]}<extra></extra>",
         "legendgroup": "Hand",
         "marker": {
          "color": "#FF97FF",
          "symbol": "circle"
         },
         "mode": "markers",
         "name": "Hand",
         "showlegend": true,
         "type": "scattergl",
         "x": [
          -27.37678337097168,
          -24.921836853027344,
          -20.10779571533203,
          -16.073551177978516,
          -20.85256004333496,
          -20.300142288208008,
          -21.32550811767578,
          -20.498350143432617,
          -17.57720947265625,
          6.836687088012695,
          -14.693686485290527,
          -18.02091407775879,
          -12.441343307495117,
          -31.64443588256836,
          -13.02937126159668,
          -12.65709400177002,
          -21.175922393798828,
          -25.754981994628906,
          0.5482592582702637,
          -25.87354850769043,
          -12.641908645629883,
          -12.435072898864746,
          -20.85247039794922,
          -20.300094604492188,
          -21.227903366088867,
          -14.693883895874023,
          -17.578001022338867,
          -19.953636169433594,
          -21.223718643188477,
          -31.644655227661133,
          -29.292329788208008,
          -16.248397827148438,
          -27.376842498779297,
          -18.165557861328125,
          0.548405647277832,
          -13.084251403808594,
          6.836673259735107
         ],
         "xaxis": "x",
         "y": [
          -24.190593719482422,
          -17.984582901000977,
          -21.8068904876709,
          -16.762107849121094,
          -15.47677993774414,
          -15.32137680053711,
          -22.51215934753418,
          -15.653339385986328,
          -21.629487991333008,
          -2.242208957672119,
          -20.640424728393555,
          -21.089967727661133,
          -18.268808364868164,
          -27.94312286376953,
          -16.801776885986328,
          -19.731082916259766,
          -23.379762649536133,
          -17.636533737182617,
          -7.17327356338501,
          -17.805740356445312,
          -19.709896087646484,
          -18.261781692504883,
          -15.476885795593262,
          -15.321211814880371,
          -23.39484405517578,
          -20.640392303466797,
          -21.62971305847168,
          -21.848392486572266,
          -22.496721267700195,
          -27.950828552246094,
          -28.17310905456543,
          -16.852474212646484,
          -24.19055938720703,
          -21.158306121826172,
          -7.173308849334717,
          -16.842477798461914,
          -2.2421891689300537
         ],
         "yaxis": "y"
        },
        {
         "customdata": [
          [
           "Hat",
           "m1627.obj"
          ],
          [
           "Hat",
           "m1628.obj"
          ],
          [
           "Hat",
           "m1629.obj"
          ],
          [
           "Hat",
           "m1630.obj"
          ],
          [
           "Hat",
           "m1632.obj"
          ],
          [
           "Hat",
           "m1633.obj"
          ],
          [
           "Hat",
           "m1634.obj"
          ],
          [
           "Hat",
           "m1635.obj"
          ],
          [
           "Hat",
           "m1636.obj"
          ],
          [
           "Hat",
           "m1637.obj"
          ],
          [
           "Hat",
           "m1638.obj"
          ],
          [
           "Hat",
           "m1639.obj"
          ],
          [
           "Hat",
           "m1640.obj"
          ],
          [
           "Hat",
           "m1641.obj"
          ]
         ],
         "hovertemplate": "Class=%{customdata[0]}<br>Principal Component 1=%{x}<br>Principal Component 2=%{y}<br>Name=%{customdata[1]}<extra></extra>",
         "legendgroup": "Hat",
         "marker": {
          "color": "#FECB52",
          "symbol": "circle"
         },
         "mode": "markers",
         "name": "Hat",
         "showlegend": true,
         "type": "scattergl",
         "x": [
          -25.808107376098633,
          35.65214920043945,
          40.97096633911133,
          -25.917274475097656,
          -23.050912857055664,
          -29.924745559692383,
          -27.136295318603516,
          -22.31190299987793,
          25.04186248779297,
          38.704158782958984,
          -21.660709381103516,
          9.240361213684082,
          40.58713150024414,
          34.00283432006836
         ],
         "xaxis": "x",
         "y": [
          -14.990338325500488,
          4.730412006378174,
          -13.977327346801758,
          -9.945375442504883,
          5.3488664627075195,
          -24.817686080932617,
          -14.669994354248047,
          8.058048248291016,
          20.538415908813477,
          -3.6753087043762207,
          8.98897933959961,
          28.21347999572754,
          -12.246203422546387,
          8.672249794006348
         ],
         "yaxis": "y"
        },
        {
         "customdata": [
          [
           "Helicopter",
           "D00038.obj"
          ],
          [
           "Helicopter",
           "D00191.obj"
          ],
          [
           "Helicopter",
           "D00361.obj"
          ],
          [
           "Helicopter",
           "D00397.obj"
          ],
          [
           "Helicopter",
           "D00423.obj"
          ],
          [
           "Helicopter",
           "D00470.obj"
          ],
          [
           "Helicopter",
           "D00471.obj"
          ],
          [
           "Helicopter",
           "D00473.obj"
          ],
          [
           "Helicopter",
           "D00498.obj"
          ],
          [
           "Helicopter",
           "D00500.obj"
          ],
          [
           "Helicopter",
           "D00502.obj"
          ],
          [
           "Helicopter",
           "D00644.obj"
          ],
          [
           "Helicopter",
           "D00658.obj"
          ],
          [
           "Helicopter",
           "D00751.obj"
          ],
          [
           "Helicopter",
           "D00796.obj"
          ],
          [
           "Helicopter",
           "D00820.obj"
          ],
          [
           "Helicopter",
           "D00868.obj"
          ],
          [
           "Helicopter",
           "D00977.obj"
          ],
          [
           "Helicopter",
           "D00986.obj"
          ],
          [
           "Helicopter",
           "D00991.obj"
          ],
          [
           "Helicopter",
           "m1302.obj"
          ],
          [
           "Helicopter",
           "m1304.obj"
          ],
          [
           "Helicopter",
           "m1305.obj"
          ],
          [
           "Helicopter",
           "m1306.obj"
          ],
          [
           "Helicopter",
           "m1307.obj"
          ],
          [
           "Helicopter",
           "m1308.obj"
          ],
          [
           "Helicopter",
           "m1309.obj"
          ],
          [
           "Helicopter",
           "m1310.obj"
          ],
          [
           "Helicopter",
           "m1311.obj"
          ],
          [
           "Helicopter",
           "m1312.obj"
          ],
          [
           "Helicopter",
           "m1313.obj"
          ],
          [
           "Helicopter",
           "m1314.obj"
          ],
          [
           "Helicopter",
           "m1315.obj"
          ],
          [
           "Helicopter",
           "m1316.obj"
          ],
          [
           "Helicopter",
           "m1317.obj"
          ],
          [
           "Helicopter",
           "m1318.obj"
          ],
          [
           "Helicopter",
           "m1319.obj"
          ],
          [
           "Helicopter",
           "m1320.obj"
          ],
          [
           "Helicopter",
           "m1321.obj"
          ],
          [
           "Helicopter",
           "m1322.obj"
          ],
          [
           "Helicopter",
           "m1323.obj"
          ],
          [
           "Helicopter",
           "m1325.obj"
          ],
          [
           "Helicopter",
           "m1326.obj"
          ],
          [
           "Helicopter",
           "m1327.obj"
          ],
          [
           "Helicopter",
           "m1328.obj"
          ],
          [
           "Helicopter",
           "m1329.obj"
          ],
          [
           "Helicopter",
           "m1330.obj"
          ],
          [
           "Helicopter",
           "m1332.obj"
          ],
          [
           "Helicopter",
           "m1333.obj"
          ],
          [
           "Helicopter",
           "m1334.obj"
          ],
          [
           "Helicopter",
           "m1336.obj"
          ]
         ],
         "hovertemplate": "Class=%{customdata[0]}<br>Principal Component 1=%{x}<br>Principal Component 2=%{y}<br>Name=%{customdata[1]}<extra></extra>",
         "legendgroup": "Helicopter",
         "marker": {
          "color": "#636efa",
          "symbol": "circle"
         },
         "mode": "markers",
         "name": "Helicopter",
         "showlegend": true,
         "type": "scattergl",
         "x": [
          41.45228958129883,
          -24.86004638671875,
          15.708527565002441,
          -14.391096115112305,
          -21.01413345336914,
          -17.84164047241211,
          35.76062774658203,
          39.47951126098633,
          32.70741271972656,
          -3.8204751014709473,
          -22.712366104125977,
          -7.5782880783081055,
          -23.145017623901367,
          -7.412530899047852,
          -27.898447036743164,
          -8.563197135925293,
          -11.85013198852539,
          19.74770164489746,
          -14.011796951293945,
          -15.040771484375,
          -1.7291052341461182,
          -10.50341796875,
          0.4798491299152374,
          39.36636734008789,
          -18.344318389892578,
          -7.776908874511719,
          -14.459136962890625,
          -21.02372932434082,
          -16.10464096069336,
          -27.88556480407715,
          -21.79035758972168,
          -23.5406551361084,
          -9.495559692382812,
          -12.548311233520508,
          -10.62474536895752,
          -9.198956489562988,
          -7.619585037231445,
          -9.192914962768555,
          -15.686066627502441,
          -24.19495391845703,
          -17.92913055419922,
          -21.537221908569336,
          -22.488201141357422,
          -9.200261116027832,
          -21.94650650024414,
          -24.769210815429688,
          -8.458717346191406,
          -18.45099449157715,
          36.60495376586914,
          23.253480911254883,
          -25.621570587158203
         ],
         "xaxis": "x",
         "y": [
          -17.635700225830078,
          -2.968888282775879,
          26.658023834228516,
          14.475628852844238,
          -8.442212104797363,
          -15.712489128112793,
          3.864112138748169,
          -6.632516860961914,
          10.944412231445312,
          23.65287971496582,
          0.9952025413513184,
          22.77324867248535,
          -17.598934173583984,
          -0.8191714286804199,
          -19.08380699157715,
          24.074132919311523,
          12.720706939697266,
          24.278268814086914,
          7.9528093338012695,
          16.759077072143555,
          -8.132469177246094,
          -16.441600799560547,
          -6.771043300628662,
          -9.17663288116455,
          12.3758544921875,
          22.694881439208984,
          17.834667205810547,
          -8.439311981201172,
          -8.992897987365723,
          -19.081571578979492,
          -3.849738359451294,
          -2.789216995239258,
          21.536169052124023,
          -10.744490623474121,
          14.586366653442383,
          14.526666641235352,
          -9.713464736938477,
          3.4555466175079346,
          -7.633379936218262,
          -5.440885543823242,
          -13.842127799987793,
          -12.000744819641113,
          -10.188982009887695,
          3.5939862728118896,
          1.7548516988754272,
          -2.156639575958252,
          -0.0829213336110115,
          4.842498779296875,
          -22.73470687866211,
          20.89519500732422,
          -20.391063690185547
         ],
         "yaxis": "y"
        },
        {
         "customdata": [
          [
           "House",
           "D00001.obj"
          ],
          [
           "House",
           "D00044.obj"
          ],
          [
           "House",
           "D00091.obj"
          ],
          [
           "House",
           "D00095.obj"
          ],
          [
           "House",
           "D00286.obj"
          ],
          [
           "House",
           "D00325.obj"
          ],
          [
           "House",
           "D00359.obj"
          ],
          [
           "House",
           "D00389.obj"
          ],
          [
           "House",
           "D00415.obj"
          ],
          [
           "House",
           "D00454.obj"
          ],
          [
           "House",
           "D00568.obj"
          ],
          [
           "House",
           "D00574.obj"
          ],
          [
           "House",
           "D00665.obj"
          ],
          [
           "House",
           "D00873.obj"
          ],
          [
           "House",
           "D00889.obj"
          ],
          [
           "House",
           "D00901.obj"
          ],
          [
           "House",
           "D00903.obj"
          ],
          [
           "House",
           "D00941.obj"
          ],
          [
           "House",
           "D00946.obj"
          ],
          [
           "House",
           "m423.obj"
          ],
          [
           "House",
           "m429.obj"
          ],
          [
           "House",
           "m430.obj"
          ],
          [
           "House",
           "m431.obj"
          ],
          [
           "House",
           "m432.obj"
          ],
          [
           "House",
           "m433.obj"
          ],
          [
           "House",
           "m434.obj"
          ],
          [
           "House",
           "m435.obj"
          ],
          [
           "House",
           "m436.obj"
          ],
          [
           "House",
           "m439.obj"
          ],
          [
           "House",
           "m440.obj"
          ],
          [
           "House",
           "m441.obj"
          ],
          [
           "House",
           "m443.obj"
          ],
          [
           "House",
           "m446.obj"
          ],
          [
           "House",
           "m447.obj"
          ],
          [
           "House",
           "m448.obj"
          ],
          [
           "House",
           "m449.obj"
          ],
          [
           "House",
           "m451.obj"
          ],
          [
           "House",
           "m453.obj"
          ],
          [
           "House",
           "m454.obj"
          ],
          [
           "House",
           "m456.obj"
          ],
          [
           "House",
           "m457.obj"
          ],
          [
           "House",
           "m460.obj"
          ],
          [
           "House",
           "m461.obj"
          ],
          [
           "House",
           "m462.obj"
          ]
         ],
         "hovertemplate": "Class=%{customdata[0]}<br>Principal Component 1=%{x}<br>Principal Component 2=%{y}<br>Name=%{customdata[1]}<extra></extra>",
         "legendgroup": "House",
         "marker": {
          "color": "#EF553B",
          "symbol": "circle"
         },
         "mode": "markers",
         "name": "House",
         "showlegend": true,
         "type": "scattergl",
         "x": [
          22.187549591064453,
          -4.042775630950928,
          -28.881208419799805,
          -20.48617935180664,
          40.89563751220703,
          -15.741765975952148,
          -16.559099197387695,
          26.93166732788086,
          -13.033380508422852,
          -16.407276153564453,
          30.931930541992188,
          21.962732315063477,
          -26.417848587036133,
          6.559065818786621,
          -26.63677978515625,
          41.25581359863281,
          41.33370590209961,
          -16.105365753173828,
          40.60996627807617,
          -11.318863868713379,
          36.22807693481445,
          41.13915252685547,
          -4.296696186065674,
          -12.627192497253418,
          36.98785400390625,
          -31.234615325927734,
          14.307723999023438,
          -16.73393440246582,
          37.860107421875,
          -4.2326788902282715,
          27.751667022705078,
          -26.59871482849121,
          9.228370666503906,
          32.480491638183594,
          28.404321670532227,
          -27.769590377807617,
          39.76324462890625,
          23.752304077148438,
          -24.335338592529297,
          -19.74715805053711,
          -26.59897232055664,
          37.782318115234375,
          -10.407807350158691,
          -30.201736450195312
         ],
         "xaxis": "x",
         "y": [
          23.11737632751465,
          19.119338989257812,
          -20.601852416992188,
          -16.970582962036133,
          -14.857545852661133,
          17.932661056518555,
          16.340070724487305,
          18.858137130737305,
          19.63610076904297,
          -21.001129150390625,
          15.05803394317627,
          23.36186981201172,
          -4.805668830871582,
          27.500141143798828,
          -15.634454727172852,
          -16.08948516845703,
          -16.12483787536621,
          -21.477752685546875,
          -25.436628341674805,
          -18.39756202697754,
          2.694570302963257,
          -15.676796913146973,
          17.807226181030273,
          21.243803024291992,
          -25.190906524658203,
          -28.021514892578125,
          27.58998680114746,
          -20.896467208862305,
          -2.575575590133667,
          25.61853790283203,
          17.996992111206055,
          -24.745595932006836,
          27.097570419311523,
          12.047054290771484,
          17.511241912841797,
          -23.195072174072266,
          -8.190903663635254,
          21.829580307006836,
          -20.698762893676758,
          3.914707660675049,
          -24.745681762695312,
          -0.4084418714046478,
          23.131023406982422,
          -29.240230560302734
         ],
         "yaxis": "y"
        },
        {
         "customdata": [
          [
           "HumanHead",
           "D00013.obj"
          ],
          [
           "HumanHead",
           "D00061.obj"
          ],
          [
           "HumanHead",
           "D00072.obj"
          ],
          [
           "HumanHead",
           "D00106.obj"
          ],
          [
           "HumanHead",
           "D00131.obj"
          ],
          [
           "HumanHead",
           "D00205.obj"
          ],
          [
           "HumanHead",
           "D00313.obj"
          ],
          [
           "HumanHead",
           "D00434.obj"
          ],
          [
           "HumanHead",
           "D00487.obj"
          ],
          [
           "HumanHead",
           "D00488.obj"
          ],
          [
           "HumanHead",
           "D00566.obj"
          ],
          [
           "HumanHead",
           "D00578.obj"
          ],
          [
           "HumanHead",
           "D00591.obj"
          ],
          [
           "HumanHead",
           "D00610.obj"
          ],
          [
           "HumanHead",
           "D00629.obj"
          ],
          [
           "HumanHead",
           "D00653.obj"
          ],
          [
           "HumanHead",
           "D00690.obj"
          ],
          [
           "HumanHead",
           "D00758.obj"
          ],
          [
           "HumanHead",
           "D00910.obj"
          ],
          [
           "HumanHead",
           "D00984.obj"
          ],
          [
           "HumanHead",
           "m340.obj"
          ],
          [
           "HumanHead",
           "m341.obj"
          ],
          [
           "HumanHead",
           "m342.obj"
          ],
          [
           "HumanHead",
           "m343.obj"
          ],
          [
           "HumanHead",
           "m344.obj"
          ],
          [
           "HumanHead",
           "m345.obj"
          ],
          [
           "HumanHead",
           "m346.obj"
          ],
          [
           "HumanHead",
           "m347.obj"
          ],
          [
           "HumanHead",
           "m348.obj"
          ],
          [
           "HumanHead",
           "m349.obj"
          ],
          [
           "HumanHead",
           "m350.obj"
          ],
          [
           "HumanHead",
           "m351.obj"
          ],
          [
           "HumanHead",
           "m352.obj"
          ],
          [
           "HumanHead",
           "m353.obj"
          ],
          [
           "HumanHead",
           "m354.obj"
          ],
          [
           "HumanHead",
           "m355.obj"
          ],
          [
           "HumanHead",
           "m356.obj"
          ],
          [
           "HumanHead",
           "m357.obj"
          ],
          [
           "HumanHead",
           "m358.obj"
          ],
          [
           "HumanHead",
           "m359.obj"
          ],
          [
           "HumanHead",
           "m360.obj"
          ],
          [
           "HumanHead",
           "m361.obj"
          ],
          [
           "HumanHead",
           "m362.obj"
          ],
          [
           "HumanHead",
           "m363.obj"
          ],
          [
           "HumanHead",
           "m364.obj"
          ],
          [
           "HumanHead",
           "m365.obj"
          ],
          [
           "HumanHead",
           "m367.obj"
          ],
          [
           "HumanHead",
           "m368.obj"
          ],
          [
           "HumanHead",
           "m369.obj"
          ],
          [
           "HumanHead",
           "m370.obj"
          ]
         ],
         "hovertemplate": "Class=%{customdata[0]}<br>Principal Component 1=%{x}<br>Principal Component 2=%{y}<br>Name=%{customdata[1]}<extra></extra>",
         "legendgroup": "HumanHead",
         "marker": {
          "color": "#00cc96",
          "symbol": "circle"
         },
         "mode": "markers",
         "name": "HumanHead",
         "showlegend": true,
         "type": "scattergl",
         "x": [
          -27.917024612426758,
          5.833502769470215,
          -32.68101501464844,
          -28.809223175048828,
          -33.00698471069336,
          -32.53544235229492,
          -33.2406005859375,
          -31.963523864746094,
          -32.79347229003906,
          -32.567806243896484,
          -31.949628829956055,
          -32.87429428100586,
          -32.866764068603516,
          -32.08537292480469,
          -32.618309020996094,
          -31.583059310913086,
          -30.834671020507812,
          -31.992368698120117,
          -32.47770690917969,
          -30.596614837646484,
          -32.17514419555664,
          -31.344743728637695,
          34.90165710449219,
          -31.13715171813965,
          -29.354799270629883,
          -24.855066299438477,
          -31.171720504760742,
          -30.489168167114258,
          -32.66837692260742,
          -32.75641632080078,
          -32.055335998535156,
          -31.784303665161133,
          -32.610050201416016,
          -32.37225341796875,
          -30.170076370239258,
          -30.725419998168945,
          -32.21242904663086,
          -32.060272216796875,
          -30.955564498901367,
          -31.591876983642578,
          -31.928354263305664,
          -31.761629104614258,
          -31.674842834472656,
          -31.386232376098633,
          -30.80294418334961,
          -31.54907989501953,
          -30.340286254882812,
          -31.597707748413086,
          -32.4597053527832,
          -32.485877990722656
         ],
         "xaxis": "x",
         "y": [
          -7.119053840637207,
          -2.0526609420776367,
          -23.05255699157715,
          -16.583389282226562,
          -23.694808959960938,
          -23.672380447387695,
          -23.755859375,
          -27.390106201171875,
          -26.96230697631836,
          -22.586185455322266,
          -29.007850646972656,
          -23.509620666503906,
          -23.507484436035156,
          -25.588966369628906,
          -26.784669876098633,
          -24.22976303100586,
          -24.300996780395508,
          -25.111873626708984,
          -22.614477157592773,
          -21.40432357788086,
          -28.206878662109375,
          -29.163841247558594,
          7.0991082191467285,
          -28.562610626220703,
          -24.251476287841797,
          1.7108280658721924,
          -29.028743743896484,
          -21.903440475463867,
          -28.77482795715332,
          -26.32748031616211,
          -28.10981559753418,
          -29.123746871948242,
          -28.127120971679688,
          -29.164690017700195,
          -28.45044708251953,
          -28.98653793334961,
          -29.29130744934082,
          -28.625944137573242,
          -27.756088256835938,
          -29.58094596862793,
          -29.310714721679688,
          -29.636781692504883,
          -25.24867057800293,
          -28.423870086669922,
          -28.81728744506836,
          -29.465410232543945,
          -28.732770919799805,
          -28.517288208007812,
          -29.027420043945312,
          -28.462257385253906
         ],
         "yaxis": "y"
        },
        {
         "customdata": [
          [
           "Humanoid",
           "m118.obj"
          ],
          [
           "Humanoid",
           "m119.obj"
          ],
          [
           "Humanoid",
           "m120.obj"
          ],
          [
           "Humanoid",
           "m121.obj"
          ],
          [
           "Humanoid",
           "m122.obj"
          ],
          [
           "Humanoid",
           "m123.obj"
          ],
          [
           "Humanoid",
           "m124.obj"
          ],
          [
           "Humanoid",
           "m125.obj"
          ],
          [
           "Humanoid",
           "m126.obj"
          ],
          [
           "Humanoid",
           "m128.obj"
          ],
          [
           "Humanoid",
           "m129.obj"
          ],
          [
           "Humanoid",
           "m130.obj"
          ],
          [
           "Humanoid",
           "m131.obj"
          ],
          [
           "Humanoid",
           "m132.obj"
          ],
          [
           "Humanoid",
           "m133.obj"
          ],
          [
           "Humanoid",
           "m134.obj"
          ],
          [
           "Humanoid",
           "m135.obj"
          ],
          [
           "Humanoid",
           "m136.obj"
          ],
          [
           "Humanoid",
           "m137.obj"
          ],
          [
           "Humanoid",
           "m138.obj"
          ],
          [
           "Humanoid",
           "m139.obj"
          ],
          [
           "Humanoid",
           "m140.obj"
          ],
          [
           "Humanoid",
           "m141.obj"
          ],
          [
           "Humanoid",
           "m143.obj"
          ],
          [
           "Humanoid",
           "m144.obj"
          ],
          [
           "Humanoid",
           "m145.obj"
          ],
          [
           "Humanoid",
           "m146.obj"
          ],
          [
           "Humanoid",
           "m147.obj"
          ],
          [
           "Humanoid",
           "m148.obj"
          ],
          [
           "Humanoid",
           "m149.obj"
          ],
          [
           "Humanoid",
           "m150.obj"
          ],
          [
           "Humanoid",
           "m151.obj"
          ],
          [
           "Humanoid",
           "m152.obj"
          ],
          [
           "Humanoid",
           "m153.obj"
          ],
          [
           "Humanoid",
           "m154.obj"
          ],
          [
           "Humanoid",
           "m155.obj"
          ],
          [
           "Humanoid",
           "m156.obj"
          ],
          [
           "Humanoid",
           "m157.obj"
          ],
          [
           "Humanoid",
           "m158.obj"
          ],
          [
           "Humanoid",
           "m159.obj"
          ],
          [
           "Humanoid",
           "m160.obj"
          ],
          [
           "Humanoid",
           "m161.obj"
          ],
          [
           "Humanoid",
           "m162.obj"
          ],
          [
           "Humanoid",
           "m163.obj"
          ],
          [
           "Humanoid",
           "m164.obj"
          ],
          [
           "Humanoid",
           "m165.obj"
          ],
          [
           "Humanoid",
           "m166.obj"
          ],
          [
           "Humanoid",
           "m167.obj"
          ],
          [
           "Humanoid",
           "m168.obj"
          ],
          [
           "Humanoid",
           "m169.obj"
          ],
          [
           "Humanoid",
           "m170.obj"
          ],
          [
           "Humanoid",
           "m171.obj"
          ],
          [
           "Humanoid",
           "m172.obj"
          ],
          [
           "Humanoid",
           "m173.obj"
          ],
          [
           "Humanoid",
           "m174.obj"
          ],
          [
           "Humanoid",
           "m175.obj"
          ],
          [
           "Humanoid",
           "m176.obj"
          ],
          [
           "Humanoid",
           "m177.obj"
          ],
          [
           "Humanoid",
           "m178.obj"
          ],
          [
           "Humanoid",
           "m179.obj"
          ],
          [
           "Humanoid",
           "m180.obj"
          ],
          [
           "Humanoid",
           "m181.obj"
          ],
          [
           "Humanoid",
           "m182.obj"
          ],
          [
           "Humanoid",
           "m183.obj"
          ],
          [
           "Humanoid",
           "m184.obj"
          ],
          [
           "Humanoid",
           "m185.obj"
          ],
          [
           "Humanoid",
           "m186.obj"
          ],
          [
           "Humanoid",
           "m187.obj"
          ],
          [
           "Humanoid",
           "m189.obj"
          ],
          [
           "Humanoid",
           "m190.obj"
          ],
          [
           "Humanoid",
           "m191.obj"
          ],
          [
           "Humanoid",
           "m192.obj"
          ],
          [
           "Humanoid",
           "m193.obj"
          ],
          [
           "Humanoid",
           "m194.obj"
          ],
          [
           "Humanoid",
           "m195.obj"
          ],
          [
           "Humanoid",
           "m196.obj"
          ],
          [
           "Humanoid",
           "m197.obj"
          ],
          [
           "Humanoid",
           "m198.obj"
          ],
          [
           "Humanoid",
           "m199.obj"
          ],
          [
           "Humanoid",
           "m202.obj"
          ],
          [
           "Humanoid",
           "m203.obj"
          ],
          [
           "Humanoid",
           "m204.obj"
          ],
          [
           "Humanoid",
           "m205.obj"
          ],
          [
           "Humanoid",
           "m206.obj"
          ],
          [
           "Humanoid",
           "m207.obj"
          ],
          [
           "Humanoid",
           "m208.obj"
          ],
          [
           "Humanoid",
           "m210.obj"
          ],
          [
           "Humanoid",
           "m211.obj"
          ],
          [
           "Humanoid",
           "m212.obj"
          ],
          [
           "Humanoid",
           "m213.obj"
          ],
          [
           "Humanoid",
           "m214.obj"
          ],
          [
           "Humanoid",
           "m215.obj"
          ],
          [
           "Humanoid",
           "m216.obj"
          ],
          [
           "Humanoid",
           "m217.obj"
          ],
          [
           "Humanoid",
           "m218.obj"
          ],
          [
           "Humanoid",
           "m219.obj"
          ],
          [
           "Humanoid",
           "m220.obj"
          ],
          [
           "Humanoid",
           "m221.obj"
          ],
          [
           "Humanoid",
           "m222.obj"
          ],
          [
           "Humanoid",
           "m223.obj"
          ],
          [
           "Humanoid",
           "m224.obj"
          ],
          [
           "Humanoid",
           "m226.obj"
          ],
          [
           "Humanoid",
           "m227.obj"
          ],
          [
           "Humanoid",
           "m228.obj"
          ],
          [
           "Humanoid",
           "m229.obj"
          ],
          [
           "Humanoid",
           "m230.obj"
          ],
          [
           "Humanoid",
           "m231.obj"
          ],
          [
           "Humanoid",
           "m232.obj"
          ],
          [
           "Humanoid",
           "m233.obj"
          ],
          [
           "Humanoid",
           "m234.obj"
          ],
          [
           "Humanoid",
           "m235.obj"
          ],
          [
           "Humanoid",
           "m236.obj"
          ],
          [
           "Humanoid",
           "m237.obj"
          ],
          [
           "Humanoid",
           "m238.obj"
          ],
          [
           "Humanoid",
           "m239.obj"
          ],
          [
           "Humanoid",
           "m240.obj"
          ],
          [
           "Humanoid",
           "m241.obj"
          ],
          [
           "Humanoid",
           "m242.obj"
          ],
          [
           "Humanoid",
           "m243.obj"
          ],
          [
           "Humanoid",
           "m244.obj"
          ],
          [
           "Humanoid",
           "m245.obj"
          ],
          [
           "Humanoid",
           "m246.obj"
          ],
          [
           "Humanoid",
           "m248.obj"
          ],
          [
           "Humanoid",
           "m249.obj"
          ],
          [
           "Humanoid",
           "m250.obj"
          ],
          [
           "Humanoid",
           "m251.obj"
          ],
          [
           "Humanoid",
           "m252.obj"
          ],
          [
           "Humanoid",
           "m253.obj"
          ],
          [
           "Humanoid",
           "m254.obj"
          ],
          [
           "Humanoid",
           "m255.obj"
          ],
          [
           "Humanoid",
           "m256.obj"
          ],
          [
           "Humanoid",
           "m257.obj"
          ],
          [
           "Humanoid",
           "m258.obj"
          ],
          [
           "Humanoid",
           "m259.obj"
          ],
          [
           "Humanoid",
           "m260.obj"
          ],
          [
           "Humanoid",
           "m261.obj"
          ],
          [
           "Humanoid",
           "m262.obj"
          ],
          [
           "Humanoid",
           "m263.obj"
          ],
          [
           "Humanoid",
           "m264.obj"
          ],
          [
           "Humanoid",
           "m265.obj"
          ],
          [
           "Humanoid",
           "m266.obj"
          ]
         ],
         "hovertemplate": "Class=%{customdata[0]}<br>Principal Component 1=%{x}<br>Principal Component 2=%{y}<br>Name=%{customdata[1]}<extra></extra>",
         "legendgroup": "Humanoid",
         "marker": {
          "color": "#ab63fa",
          "symbol": "circle"
         },
         "mode": "markers",
         "name": "Humanoid",
         "showlegend": true,
         "type": "scattergl",
         "x": [
          0.4226599633693695,
          -6.087116718292236,
          -2.992786169052124,
          1.5780876874923706,
          -9.866467475891113,
          -2.876605749130249,
          -7.321874141693115,
          -7.599922180175781,
          1.0933351516723633,
          -4.015186309814453,
          23.03709602355957,
          8.758702278137207,
          -1.3981363773345947,
          -9.221722602844238,
          -10.047223091125488,
          5.660888195037842,
          -6.801766872406006,
          -1.9696491956710815,
          -5.295211315155029,
          -6.379033088684082,
          -16.05819320678711,
          -4.74772310256958,
          -10.882184982299805,
          -1.9338610172271729,
          -10.52418041229248,
          -1.1002309322357178,
          -15.543609619140625,
          -10.471685409545898,
          -9.051535606384277,
          -2.39086651802063,
          -4.861916542053223,
          -6.906605243682861,
          -6.2234344482421875,
          -9.198349952697754,
          -9.779629707336426,
          -9.626294136047363,
          -2.049814462661743,
          -8.415083885192871,
          -16.183433532714844,
          -1.962446689605713,
          -15.516124725341797,
          -6.208410263061523,
          8.212480545043945,
          -5.165143013000488,
          -5.838691234588623,
          -2.2392208576202393,
          -9.665444374084473,
          -19.951892852783203,
          -3.036961317062378,
          -2.43135666847229,
          -0.7266275882720947,
          -1.9635404348373413,
          3.266245126724243,
          -0.7452382445335388,
          -0.6286964416503906,
          -14.374966621398926,
          -7.517300605773926,
          -16.124502182006836,
          -2.2568483352661133,
          -2.163670063018799,
          -2.945587396621704,
          -1.0152684450149536,
          -0.011005420237779617,
          -20.463762283325195,
          -1.6979740858078003,
          -7.273596286773682,
          -2.7129859924316406,
          -23.168331146240234,
          6.263016700744629,
          -22.157331466674805,
          41.629783630371094,
          -6.474124908447266,
          -14.477638244628906,
          -9.460272789001465,
          -3.361424446105957,
          -8.355768203735352,
          1.3024135828018188,
          -21.254358291625977,
          -1.3213858604431152,
          -6.385176181793213,
          -7.317687511444092,
          -15.398723602294922,
          -10.185093879699707,
          -9.845029830932617,
          -14.701559066772461,
          1.3259670734405518,
          -23.22881507873535,
          -2.458300828933716,
          -6.122709274291992,
          6.454456806182861,
          5.567761421203613,
          7.2454705238342285,
          9.964763641357422,
          -3.181378126144409,
          -20.339771270751953,
          12.035778045654297,
          -0.6467143893241882,
          -0.5992498397827148,
          -6.526982307434082,
          2.867968797683716,
          -6.238391876220703,
          -11.2792387008667,
          15.02379035949707,
          36.90967559814453,
          1.3835234642028809,
          4.839735507965088,
          29.816987991333008,
          -13.028905868530273,
          -3.6619033813476562,
          0.29407188296318054,
          -6.580408573150635,
          -7.939604759216309,
          4.984306335449219,
          -0.9135149717330933,
          -3.5010149478912354,
          -7.5941596031188965,
          -13.8317232131958,
          -21.295934677124023,
          1.5760921239852905,
          -5.83517599105835,
          -0.8354766368865967,
          6.105518341064453,
          3.646627902984619,
          10.016742706298828,
          -1.2975348234176636,
          1.2012889385223389,
          -9.899096488952637,
          -8.274625778198242,
          7.905983924865723,
          4.649438381195068,
          -25.9880428314209,
          13.015520095825195,
          7.927094459533691,
          -23.142253875732422,
          -14.746476173400879,
          -12.813702583312988,
          -10.171624183654785,
          -20.787206649780273,
          -14.70120906829834,
          -10.793476104736328,
          -24.776046752929688
         ],
         "xaxis": "x",
         "y": [
          -5.66104793548584,
          -10.508443832397461,
          -5.999603748321533,
          -4.735058784484863,
          -2.942363739013672,
          -7.8203959465026855,
          -11.500494956970215,
          -11.894911766052246,
          -2.4915032386779785,
          -9.575702667236328,
          18.17215919494629,
          22.036930084228516,
          -3.4781532287597656,
          -2.8909993171691895,
          -0.4897156357765198,
          -0.18347682058811188,
          -8.923622131347656,
          -6.990909576416016,
          -7.908801555633545,
          -10.037654876708984,
          2.3493924140930176,
          -9.766436576843262,
          -1.707361102104187,
          -2.3826091289520264,
          0.31178563833236694,
          -7.47452449798584,
          -7.484067916870117,
          -2.506815195083618,
          6.694855213165283,
          -8.467886924743652,
          -7.394441604614258,
          -9.77728271484375,
          11.514567375183105,
          2.3222310543060303,
          9.974237442016602,
          -14.276439666748047,
          -7.5283002853393555,
          -8.936651229858398,
          -7.667408466339111,
          -7.939664363861084,
          -11.09818172454834,
          -7.06783390045166,
          23.256200790405273,
          -11.838132858276367,
          -7.937180519104004,
          19.731443405151367,
          -1.5532209873199463,
          -23.029937744140625,
          -8.288153648376465,
          -3.9738574028015137,
          -4.048393249511719,
          -3.7500627040863037,
          -1.4123377799987793,
          -4.089156627655029,
          -3.3102939128875732,
          1.835230827331543,
          11.787280082702637,
          -13.647165298461914,
          -7.791080474853516,
          -4.909379959106445,
          17.223230361938477,
          -2.6780710220336914,
          -2.3611137866973877,
          -13.713539123535156,
          -7.918481826782227,
          -9.892263412475586,
          -8.058133125305176,
          3.5046632289886475,
          0.8017867207527161,
          -3.8303494453430176,
          -18.364816665649414,
          -10.79003620147705,
          1.1528724431991577,
          -2.449188232421875,
          -9.072509765625,
          -0.08395082503557205,
          -1.6653895378112793,
          -10.792447090148926,
          21.66041374206543,
          1.0199944972991943,
          5.755143165588379,
          4.990655422210693,
          -3.1275038719177246,
          0.12630407512187958,
          1.3633383512496948,
          -5.1934356689453125,
          -12.556876182556152,
          -8.226462364196777,
          -11.301721572875977,
          0.11976999789476395,
          -0.8923421502113342,
          0.9759455919265747,
          27.171035766601562,
          22.476709365844727,
          -11.245818138122559,
          23.203311920166016,
          -6.545132637023926,
          -7.291227340698242,
          -9.507445335388184,
          -4.363287448883057,
          -8.990478515625,
          -13.984382629394531,
          24.575260162353516,
          -20.967693328857422,
          -4.262054443359375,
          -1.298328161239624,
          14.943281173706055,
          -13.866591453552246,
          -6.464649200439453,
          -5.942528247833252,
          -11.143248558044434,
          8.725135803222656,
          -2.4402575492858887,
          -2.9840946197509766,
          -3.5503768920898438,
          11.220661163330078,
          -13.89024543762207,
          -14.309579849243164,
          -1.2293986082077026,
          -6.959048748016357,
          -2.293079137802124,
          0.0492035448551178,
          -2.321030855178833,
          27.152772903442383,
          -3.356705665588379,
          -5.5675129890441895,
          -13.85398006439209,
          7.245024681091309,
          -0.8070876598358154,
          -0.37044084072113037,
          -8.67755126953125,
          27.306867599487305,
          -1.1166574954986572,
          -4.919793128967285,
          0.8997096419334412,
          -11.721220016479492,
          -11.708815574645996,
          -13.788844108581543,
          -14.271845817565918,
          -15.24410629272461,
          -3.0522565841674805
         ],
         "yaxis": "y"
        },
        {
         "customdata": [
          [
           "Insect",
           "D00081.obj"
          ],
          [
           "Insect",
           "D00082.obj"
          ],
          [
           "Insect",
           "D00102.obj"
          ],
          [
           "Insect",
           "D00109.obj"
          ],
          [
           "Insect",
           "D00117.obj"
          ],
          [
           "Insect",
           "D00136.obj"
          ],
          [
           "Insect",
           "D00160.obj"
          ],
          [
           "Insect",
           "D00180.obj"
          ],
          [
           "Insect",
           "D00231.obj"
          ],
          [
           "Insect",
           "D00291.obj"
          ],
          [
           "Insect",
           "D00294.obj"
          ],
          [
           "Insect",
           "D00309.obj"
          ],
          [
           "Insect",
           "D00315.obj"
          ],
          [
           "Insect",
           "D00333.obj"
          ],
          [
           "Insect",
           "D00399.obj"
          ],
          [
           "Insect",
           "D00430.obj"
          ],
          [
           "Insect",
           "D00510.obj"
          ],
          [
           "Insect",
           "D00590.obj"
          ],
          [
           "Insect",
           "D00615.obj"
          ],
          [
           "Insect",
           "D00662.obj"
          ],
          [
           "Insect",
           "D00668.obj"
          ],
          [
           "Insect",
           "D00672.obj"
          ],
          [
           "Insect",
           "D00695.obj"
          ],
          [
           "Insect",
           "D00713.obj"
          ],
          [
           "Insect",
           "D00732.obj"
          ],
          [
           "Insect",
           "D00734.obj"
          ],
          [
           "Insect",
           "D00746.obj"
          ],
          [
           "Insect",
           "D00752.obj"
          ],
          [
           "Insect",
           "D00753.obj"
          ],
          [
           "Insect",
           "D00774.obj"
          ],
          [
           "Insect",
           "D00786.obj"
          ],
          [
           "Insect",
           "D00787.obj"
          ],
          [
           "Insect",
           "D00788.obj"
          ],
          [
           "Insect",
           "D00806.obj"
          ],
          [
           "Insect",
           "D00814.obj"
          ],
          [
           "Insect",
           "D00855.obj"
          ],
          [
           "Insect",
           "D00884.obj"
          ],
          [
           "Insect",
           "D00895.obj"
          ],
          [
           "Insect",
           "D00973.obj"
          ],
          [
           "Insect",
           "D00989.obj"
          ],
          [
           "Insect",
           "m0.obj"
          ],
          [
           "Insect",
           "m1.obj"
          ],
          [
           "Insect",
           "m10.obj"
          ],
          [
           "Insect",
           "m11.obj"
          ],
          [
           "Insect",
           "m12.obj"
          ],
          [
           "Insect",
           "m13.obj"
          ],
          [
           "Insect",
           "m14.obj"
          ],
          [
           "Insect",
           "m15.obj"
          ],
          [
           "Insect",
           "m16.obj"
          ],
          [
           "Insect",
           "m17.obj"
          ],
          [
           "Insect",
           "m18.obj"
          ],
          [
           "Insect",
           "m19.obj"
          ],
          [
           "Insect",
           "m2.obj"
          ],
          [
           "Insect",
           "m20.obj"
          ],
          [
           "Insect",
           "m21.obj"
          ],
          [
           "Insect",
           "m22.obj"
          ],
          [
           "Insect",
           "m23.obj"
          ],
          [
           "Insect",
           "m24.obj"
          ],
          [
           "Insect",
           "m25.obj"
          ],
          [
           "Insect",
           "m26.obj"
          ],
          [
           "Insect",
           "m3.obj"
          ],
          [
           "Insect",
           "m4.obj"
          ],
          [
           "Insect",
           "m6.obj"
          ],
          [
           "Insect",
           "m7.obj"
          ],
          [
           "Insect",
           "m8.obj"
          ],
          [
           "Insect",
           "m9.obj"
          ]
         ],
         "hovertemplate": "Class=%{customdata[0]}<br>Principal Component 1=%{x}<br>Principal Component 2=%{y}<br>Name=%{customdata[1]}<extra></extra>",
         "legendgroup": "Insect",
         "marker": {
          "color": "#FFA15A",
          "symbol": "circle"
         },
         "mode": "markers",
         "name": "Insect",
         "showlegend": true,
         "type": "scattergl",
         "x": [
          2.2794010639190674,
          -19.003768920898438,
          -30.5059814453125,
          37.258872985839844,
          -22.917142868041992,
          -23.38515853881836,
          -20.946670532226562,
          -30.501956939697266,
          39.80029296875,
          -13.19871997833252,
          38.825096130371094,
          -27.054889678955078,
          -19.076461791992188,
          -8.344155311584473,
          -13.161794662475586,
          -22.347814559936523,
          -22.860435485839844,
          -0.43103402853012085,
          -30.80158233642578,
          7.732021808624268,
          -24.80470848083496,
          -7.637335300445557,
          -16.062536239624023,
          -25.280887603759766,
          -7.658053874969482,
          -25.297210693359375,
          -24.79228401184082,
          -18.902196884155273,
          -13.705126762390137,
          -18.055402755737305,
          -23.789676666259766,
          39.51400375366211,
          -9.579699516296387,
          -21.56507682800293,
          33.52350616455078,
          -19.933074951171875,
          8.068314552307129,
          -24.127368927001953,
          -21.043834686279297,
          -18.17430305480957,
          -23.214868545532227,
          -16.374160766601562,
          39.56623458862305,
          28.60723304748535,
          -21.480266571044922,
          8.866240501403809,
          36.98983383178711,
          28.582021713256836,
          -24.343666076660156,
          21.531084060668945,
          -25.16786766052246,
          39.20604705810547,
          -23.585906982421875,
          -25.18661117553711,
          -25.170896530151367,
          -25.810930252075195,
          -17.462156295776367,
          -25.727767944335938,
          -25.857820510864258,
          -25.198030471801758,
          -25.33197021484375,
          -16.701656341552734,
          -24.372827529907227,
          -22.19233512878418,
          -25.766328811645508,
          -8.960821151733398
         ],
         "xaxis": "x",
         "y": [
          26.441696166992188,
          -13.348823547363281,
          -29.888145446777344,
          1.629050850868225,
          4.449673175811768,
          -21.14194107055664,
          -23.8920955657959,
          -29.886537551879883,
          -11.078754425048828,
          -13.181938171386719,
          -5.231889247894287,
          -24.008682250976562,
          -22.541460037231445,
          -12.418685913085938,
          13.858145713806152,
          0.4264158010482788,
          -0.27657008171081543,
          -3.127483606338501,
          -29.933734893798828,
          27.80014991760254,
          -9.097227096557617,
          22.627117156982422,
          -10.377242088317871,
          -19.637287139892578,
          23.9330997467041,
          -3.705627918243408,
          -18.955415725708008,
          4.419026851654053,
          19.75619888305664,
          4.445411682128906,
          -5.514145851135254,
          -26.35267448425293,
          23.35188865661621,
          7.251367092132568,
          8.286881446838379,
          -21.647878646850586,
          27.801057815551758,
          1.9613932371139526,
          -21.0773868560791,
          -20.268251419067383,
          -1.1127758026123047,
          -20.50878143310547,
          -25.730998992919922,
          7.165704727172852,
          1.5271565914154053,
          22.847030639648438,
          2.2627267837524414,
          7.119818687438965,
          -18.822725296020508,
          23.05115509033203,
          -18.94438934326172,
          -5.935723781585693,
          -5.583678722381592,
          -3.5344350337982178,
          -4.6785712242126465,
          -19.342973709106445,
          -20.340240478515625,
          -18.197715759277344,
          -20.338064193725586,
          -9.120124816894531,
          -4.627749443054199,
          -11.546112060546875,
          1.6610008478164673,
          -22.051198959350586,
          -10.997024536132812,
          24.147323608398438
         ],
         "yaxis": "y"
        },
        {
         "customdata": [
          [
           "Jet",
           "m1147.obj"
          ],
          [
           "Jet",
           "m1149.obj"
          ],
          [
           "Jet",
           "m1150.obj"
          ],
          [
           "Jet",
           "m1151.obj"
          ],
          [
           "Jet",
           "m1152.obj"
          ],
          [
           "Jet",
           "m1153.obj"
          ],
          [
           "Jet",
           "m1154.obj"
          ],
          [
           "Jet",
           "m1155.obj"
          ],
          [
           "Jet",
           "m1156.obj"
          ],
          [
           "Jet",
           "m1157.obj"
          ],
          [
           "Jet",
           "m1158.obj"
          ],
          [
           "Jet",
           "m1159.obj"
          ],
          [
           "Jet",
           "m1161.obj"
          ],
          [
           "Jet",
           "m1162.obj"
          ],
          [
           "Jet",
           "m1163.obj"
          ],
          [
           "Jet",
           "m1165.obj"
          ],
          [
           "Jet",
           "m1166.obj"
          ],
          [
           "Jet",
           "m1167.obj"
          ],
          [
           "Jet",
           "m1168.obj"
          ],
          [
           "Jet",
           "m1169.obj"
          ],
          [
           "Jet",
           "m1171.obj"
          ],
          [
           "Jet",
           "m1172.obj"
          ],
          [
           "Jet",
           "m1173.obj"
          ],
          [
           "Jet",
           "m1174.obj"
          ],
          [
           "Jet",
           "m1175.obj"
          ],
          [
           "Jet",
           "m1176.obj"
          ],
          [
           "Jet",
           "m1177.obj"
          ],
          [
           "Jet",
           "m1178.obj"
          ],
          [
           "Jet",
           "m1179.obj"
          ],
          [
           "Jet",
           "m1180.obj"
          ],
          [
           "Jet",
           "m1181.obj"
          ],
          [
           "Jet",
           "m1182.obj"
          ],
          [
           "Jet",
           "m1183.obj"
          ],
          [
           "Jet",
           "m1184.obj"
          ],
          [
           "Jet",
           "m1185.obj"
          ],
          [
           "Jet",
           "m1187.obj"
          ],
          [
           "Jet",
           "m1188.obj"
          ],
          [
           "Jet",
           "m1190.obj"
          ],
          [
           "Jet",
           "m1191.obj"
          ],
          [
           "Jet",
           "m1193.obj"
          ],
          [
           "Jet",
           "m1194.obj"
          ],
          [
           "Jet",
           "m1195.obj"
          ],
          [
           "Jet",
           "m1196.obj"
          ],
          [
           "Jet",
           "m1197.obj"
          ],
          [
           "Jet",
           "m1198.obj"
          ],
          [
           "Jet",
           "m1199.obj"
          ],
          [
           "Jet",
           "m1200.obj"
          ],
          [
           "Jet",
           "m1201.obj"
          ],
          [
           "Jet",
           "m1202.obj"
          ],
          [
           "Jet",
           "m1204.obj"
          ],
          [
           "Jet",
           "m1205.obj"
          ],
          [
           "Jet",
           "m1207.obj"
          ],
          [
           "Jet",
           "m1208.obj"
          ],
          [
           "Jet",
           "m1209.obj"
          ],
          [
           "Jet",
           "m1210.obj"
          ],
          [
           "Jet",
           "m1211.obj"
          ],
          [
           "Jet",
           "m1212.obj"
          ],
          [
           "Jet",
           "m1213.obj"
          ],
          [
           "Jet",
           "m1214.obj"
          ],
          [
           "Jet",
           "m1215.obj"
          ],
          [
           "Jet",
           "m1216.obj"
          ],
          [
           "Jet",
           "m1217.obj"
          ],
          [
           "Jet",
           "m1218.obj"
          ],
          [
           "Jet",
           "m1219.obj"
          ],
          [
           "Jet",
           "m1220.obj"
          ],
          [
           "Jet",
           "m1221.obj"
          ],
          [
           "Jet",
           "m1222.obj"
          ],
          [
           "Jet",
           "m1223.obj"
          ],
          [
           "Jet",
           "m1224.obj"
          ],
          [
           "Jet",
           "m1225.obj"
          ],
          [
           "Jet",
           "m1226.obj"
          ],
          [
           "Jet",
           "m1227.obj"
          ],
          [
           "Jet",
           "m1228.obj"
          ],
          [
           "Jet",
           "m1229.obj"
          ],
          [
           "Jet",
           "m1230.obj"
          ],
          [
           "Jet",
           "m1231.obj"
          ],
          [
           "Jet",
           "m1232.obj"
          ],
          [
           "Jet",
           "m1233.obj"
          ],
          [
           "Jet",
           "m1234.obj"
          ],
          [
           "Jet",
           "m1235.obj"
          ],
          [
           "Jet",
           "m1236.obj"
          ],
          [
           "Jet",
           "m1237.obj"
          ],
          [
           "Jet",
           "m1238.obj"
          ],
          [
           "Jet",
           "m1239.obj"
          ],
          [
           "Jet",
           "m1240.obj"
          ],
          [
           "Jet",
           "m1241.obj"
          ],
          [
           "Jet",
           "m1242.obj"
          ],
          [
           "Jet",
           "m1243.obj"
          ],
          [
           "Jet",
           "m1245.obj"
          ],
          [
           "Jet",
           "m1246.obj"
          ],
          [
           "Jet",
           "m1247.obj"
          ],
          [
           "Jet",
           "m1248.obj"
          ],
          [
           "Jet",
           "m1249.obj"
          ],
          [
           "Jet",
           "m1250.obj"
          ],
          [
           "Jet",
           "m1251.obj"
          ],
          [
           "Jet",
           "m1252.obj"
          ],
          [
           "Jet",
           "m1253.obj"
          ],
          [
           "Jet",
           "m1255.obj"
          ],
          [
           "Jet",
           "m1256.obj"
          ],
          [
           "Jet",
           "m1257.obj"
          ],
          [
           "Jet",
           "m1258.obj"
          ],
          [
           "Jet",
           "m1259.obj"
          ],
          [
           "Jet",
           "m1260.obj"
          ],
          [
           "Jet",
           "m1261.obj"
          ],
          [
           "Jet",
           "m1262.obj"
          ],
          [
           "Jet",
           "m1263.obj"
          ],
          [
           "Jet",
           "m1264.obj"
          ],
          [
           "Jet",
           "m1265.obj"
          ],
          [
           "Jet",
           "m1266.obj"
          ],
          [
           "Jet",
           "m1267.obj"
          ],
          [
           "Jet",
           "m1268.obj"
          ],
          [
           "Jet",
           "m1269.obj"
          ],
          [
           "Jet",
           "m1270.obj"
          ],
          [
           "Jet",
           "m1271.obj"
          ],
          [
           "Jet",
           "m1273.obj"
          ],
          [
           "Jet",
           "m1274.obj"
          ],
          [
           "Jet",
           "m1275.obj"
          ],
          [
           "Jet",
           "m1276.obj"
          ],
          [
           "Jet",
           "m1277.obj"
          ],
          [
           "Jet",
           "m1278.obj"
          ],
          [
           "Jet",
           "m1279.obj"
          ],
          [
           "Jet",
           "m1280.obj"
          ],
          [
           "Jet",
           "m1281.obj"
          ],
          [
           "Jet",
           "m1282.obj"
          ],
          [
           "Jet",
           "m1283.obj"
          ],
          [
           "Jet",
           "m1284.obj"
          ],
          [
           "Jet",
           "m1285.obj"
          ],
          [
           "Jet",
           "m1286.obj"
          ],
          [
           "Jet",
           "m1287.obj"
          ],
          [
           "Jet",
           "m1288.obj"
          ],
          [
           "Jet",
           "m1289.obj"
          ],
          [
           "Jet",
           "m1290.obj"
          ],
          [
           "Jet",
           "m1291.obj"
          ],
          [
           "Jet",
           "m1292.obj"
          ],
          [
           "Jet",
           "m1293.obj"
          ],
          [
           "Jet",
           "m1294.obj"
          ],
          [
           "Jet",
           "m1295.obj"
          ],
          [
           "Jet",
           "m1296.obj"
          ],
          [
           "Jet",
           "m1297.obj"
          ],
          [
           "Jet",
           "m1298.obj"
          ],
          [
           "Jet",
           "m1299.obj"
          ],
          [
           "Jet",
           "m1300.obj"
          ],
          [
           "Jet",
           "m1301.obj"
          ]
         ],
         "hovertemplate": "Class=%{customdata[0]}<br>Principal Component 1=%{x}<br>Principal Component 2=%{y}<br>Name=%{customdata[1]}<extra></extra>",
         "legendgroup": "Jet",
         "marker": {
          "color": "#19d3f3",
          "symbol": "circle"
         },
         "mode": "markers",
         "name": "Jet",
         "showlegend": true,
         "type": "scattergl",
         "x": [
          -12.522543907165527,
          -9.886762619018555,
          -10.837512016296387,
          -9.390275955200195,
          -14.7901029586792,
          -14.651888847351074,
          -12.914381980895996,
          -13.802934646606445,
          -9.083624839782715,
          -8.987496376037598,
          -3.177260637283325,
          -14.79016399383545,
          -11.476176261901855,
          -10.572014808654785,
          -7.872127056121826,
          -7.924893856048584,
          10.25768756866455,
          -3.048523426055908,
          -4.223363876342773,
          37.519447326660156,
          40.46258544921875,
          26.9113712310791,
          22.677188873291016,
          -15.018719673156738,
          -13.823641777038574,
          -9.460787773132324,
          -11.757678985595703,
          -7.221327781677246,
          16.73110008239746,
          -5.617649078369141,
          -8.07868480682373,
          -10.28515911102295,
          17.137779235839844,
          -11.94683837890625,
          -9.748899459838867,
          -12.486725807189941,
          -15.908426284790039,
          9.82466983795166,
          -8.29109001159668,
          -5.911264896392822,
          39.12613296508789,
          12.60391616821289,
          -2.565401554107666,
          -1.704426646232605,
          16.86248016357422,
          -8.059758186340332,
          14.013087272644043,
          37.258575439453125,
          -9.50060749053955,
          -9.29568099975586,
          16.889148712158203,
          -3.2895214557647705,
          -15.154281616210938,
          -14.497427940368652,
          -1.9802042245864868,
          0.9667802453041077,
          36.63381576538086,
          -3.392359733581543,
          -5.580411434173584,
          -9.94585132598877,
          -9.957695007324219,
          -8.850301742553711,
          -7.690078258514404,
          -9.875900268554688,
          -9.149897575378418,
          -18.062427520751953,
          -18.06376075744629,
          -7.87138032913208,
          12.634444236755371,
          8.696393013000488,
          -13.778643608093262,
          12.09409236907959,
          17.288415908813477,
          -8.124309539794922,
          -15.737696647644043,
          11.22574234008789,
          -7.988245487213135,
          -6.850042343139648,
          -8.942983627319336,
          -8.15036392211914,
          -7.1053853034973145,
          -8.80639934539795,
          -10.789671897888184,
          -11.157362937927246,
          -13.598418235778809,
          -13.199506759643555,
          -9.4569730758667,
          -8.265005111694336,
          -10.265071868896484,
          -17.024168014526367,
          -16.463441848754883,
          -22.010953903198242,
          -21.3830509185791,
          -8.70865535736084,
          37.519447326660156,
          26.667095184326172,
          9.02226448059082,
          -3.721522092819214,
          38.241859436035156,
          22.921871185302734,
          -11.366096496582031,
          37.258575439453125,
          -10.616211891174316,
          -13.499685287475586,
          14.485386848449707,
          28.319974899291992,
          18.703107833862305,
          -3.35795259475708,
          17.2183780670166,
          -2.838975191116333,
          21.256315231323242,
          42.142662048339844,
          28.988494873046875,
          28.772348403930664,
          11.716010093688965,
          1.3354780673980713,
          9.962713241577148,
          38.07140350341797,
          22.852964401245117,
          21.57701873779297,
          26.63263511657715,
          37.91328430175781,
          12.29538345336914,
          11.731229782104492,
          40.357826232910156,
          35.81703186035156,
          16.78502082824707,
          12.01741886138916,
          13.150487899780273,
          -4.78942346572876,
          8.528910636901855,
          27.42249870300293,
          -9.20988655090332,
          33.93584442138672,
          12.731059074401855,
          17.620487213134766,
          22.61001205444336,
          13.943532943725586,
          24.277942657470703,
          -15.403125762939453,
          -9.885090827941895,
          -6.1062798500061035,
          -0.4271823763847351
         ],
         "xaxis": "x",
         "y": [
          2.2059028148651123,
          3.1468660831451416,
          -2.1518445014953613,
          -0.1746799200773239,
          3.0060596466064453,
          1.8632385730743408,
          2.05118727684021,
          -7.234506130218506,
          -4.573653221130371,
          5.472541332244873,
          25.164880752563477,
          3.0061075687408447,
          2.1244723796844482,
          -1.183464765548706,
          13.849387168884277,
          6.05579137802124,
          26.28670310974121,
          22.141401290893555,
          18.92064094543457,
          -0.7173504829406738,
          -14.284111976623535,
          16.545339584350586,
          20.054885864257812,
          -7.157772064208984,
          8.477346420288086,
          -1.1212879419326782,
          8.508532524108887,
          -0.535001277923584,
          20.936552047729492,
          17.15106201171875,
          11.56800651550293,
          3.5425000190734863,
          24.867860794067383,
          0.6342129111289978,
          5.9228997230529785,
          1.1528160572052002,
          2.265854597091675,
          27.284168243408203,
          9.121861457824707,
          5.493010520935059,
          -6.992884635925293,
          26.527950286865234,
          22.874483108520508,
          21.280445098876953,
          24.29865264892578,
          7.20380163192749,
          26.145248413085938,
          -19.651674270629883,
          6.854794502258301,
          0.6986156702041626,
          24.59881019592285,
          8.508790969848633,
          5.362086296081543,
          -7.395866394042969,
          -3.228588342666626,
          25.125478744506836,
          -24.248170852661133,
          6.617394924163818,
          18.162866592407227,
          5.477646350860596,
          7.317279815673828,
          0.20044833421707153,
          12.413312911987305,
          3.0331904888153076,
          5.678884506225586,
          5.022972583770752,
          7.3649983406066895,
          13.261046409606934,
          22.10108184814453,
          22.488037109375,
          6.876896381378174,
          21.218889236450195,
          21.692283630371094,
          12.515209197998047,
          1.6318094730377197,
          23.138477325439453,
          11.210456848144531,
          -6.8526740074157715,
          11.340957641601562,
          8.132282257080078,
          12.516101837158203,
          17.058786392211914,
          4.248083591461182,
          9.333608627319336,
          1.1599830389022827,
          13.301593780517578,
          15.284577369689941,
          13.460882186889648,
          2.511683225631714,
          -7.088606357574463,
          1.36735999584198,
          0.5844980478286743,
          -13.533594131469727,
          20.091062545776367,
          -0.717350423336029,
          17.843006134033203,
          26.392366409301758,
          17.92896270751953,
          -3.5584452152252197,
          19.76145362854004,
          11.486700057983398,
          -19.651674270629883,
          20.26763343811035,
          12.110589981079102,
          24.160198211669922,
          16.9105281829834,
          24.57962989807129,
          8.16123104095459,
          21.290056228637695,
          18.672527313232422,
          -5.737701416015625,
          -19.804706573486328,
          8.704720497131348,
          10.388964653015137,
          2.5102357864379883,
          24.098342895507812,
          22.601545333862305,
          -25.86457633972168,
          18.65487289428711,
          17.84642219543457,
          12.260364532470703,
          -5.409367084503174,
          21.218576431274414,
          20.762216567993164,
          -14.074036598205566,
          3.941175937652588,
          -0.45801877975463867,
          2.9485433101654053,
          2.2741267681121826,
          18.5851993560791,
          25.934383392333984,
          10.992328643798828,
          7.343019962310791,
          6.434062480926514,
          21.9810791015625,
          -2.9555962085723877,
          -7.8507304191589355,
          -0.16039757430553436,
          -8.76218032836914,
          1.131352424621582,
          -1.2596012353897095,
          18.811695098876953,
          -1.4329884052276611
         ],
         "yaxis": "y"
        },
        {
         "customdata": [
          [
           "Knife",
           "D01015.obj"
          ],
          [
           "Knife",
           "D01025.obj"
          ],
          [
           "Knife",
           "D01032.obj"
          ],
          [
           "Knife",
           "D01054.obj"
          ],
          [
           "Knife",
           "D01057.obj"
          ],
          [
           "Knife",
           "D01063.obj"
          ],
          [
           "Knife",
           "D01075.obj"
          ],
          [
           "Knife",
           "D01077.obj"
          ],
          [
           "Knife",
           "D01107.obj"
          ],
          [
           "Knife",
           "D01119.obj"
          ],
          [
           "Knife",
           "D01120.obj"
          ],
          [
           "Knife",
           "D01132.obj"
          ],
          [
           "Knife",
           "D01160.obj"
          ],
          [
           "Knife",
           "D01168.obj"
          ],
          [
           "Knife",
           "D01174.obj"
          ],
          [
           "Knife",
           "D01175.obj"
          ],
          [
           "Knife",
           "D01189.obj"
          ],
          [
           "Knife",
           "m722.obj"
          ],
          [
           "Knife",
           "m723.obj"
          ],
          [
           "Knife",
           "m724.obj"
          ],
          [
           "Knife",
           "m725.obj"
          ],
          [
           "Knife",
           "m726.obj"
          ],
          [
           "Knife",
           "m727.obj"
          ],
          [
           "Knife",
           "m728.obj"
          ]
         ],
         "hovertemplate": "Class=%{customdata[0]}<br>Principal Component 1=%{x}<br>Principal Component 2=%{y}<br>Name=%{customdata[1]}<extra></extra>",
         "legendgroup": "Knife",
         "marker": {
          "color": "#FF6692",
          "symbol": "circle"
         },
         "mode": "markers",
         "name": "Knife",
         "showlegend": true,
         "type": "scattergl",
         "x": [
          41.91239547729492,
          -3.9143331050872803,
          42.32525634765625,
          23.359119415283203,
          29.046741485595703,
          24.9726619720459,
          42.22711944580078,
          12.094820976257324,
          11.94596004486084,
          19.610422134399414,
          8.029607772827148,
          21.007694244384766,
          17.31536865234375,
          17.68880844116211,
          23.323637008666992,
          12.94005298614502,
          28.832128524780273,
          21.24004554748535,
          -2.5259084701538086,
          15.187836647033691,
          18.20531463623047,
          19.901029586791992,
          20.226022720336914,
          -8.794824600219727
         ],
         "xaxis": "x",
         "y": [
          -24.51312255859375,
          8.039276123046875,
          -20.368242263793945,
          -10.908435821533203,
          7.955565452575684,
          -8.297304153442383,
          -22.132781982421875,
          0.3648686707019806,
          3.0300776958465576,
          -4.121335983276367,
          1.8964617252349854,
          -5.76522159576416,
          -2.694169759750366,
          -3.0591647624969482,
          -9.095911979675293,
          0.18892180919647217,
          8.377962112426758,
          -6.974729537963867,
          16.973403930664062,
          -1.835020899772644,
          -2.844290256500244,
          -5.464201927185059,
          -5.213883876800537,
          5.648122787475586
         ],
         "yaxis": "y"
        },
        {
         "customdata": [
          [
           "MilitaryVehicle",
           "D00017.obj"
          ],
          [
           "MilitaryVehicle",
           "D00051.obj"
          ],
          [
           "MilitaryVehicle",
           "D00100.obj"
          ],
          [
           "MilitaryVehicle",
           "D00173.obj"
          ],
          [
           "MilitaryVehicle",
           "D00272.obj"
          ],
          [
           "MilitaryVehicle",
           "D00334.obj"
          ],
          [
           "MilitaryVehicle",
           "D00458.obj"
          ],
          [
           "MilitaryVehicle",
           "D00529.obj"
          ],
          [
           "MilitaryVehicle",
           "D00577.obj"
          ],
          [
           "MilitaryVehicle",
           "D00611.obj"
          ],
          [
           "MilitaryVehicle",
           "D00723.obj"
          ],
          [
           "MilitaryVehicle",
           "D00761.obj"
          ],
          [
           "MilitaryVehicle",
           "D00778.obj"
          ],
          [
           "MilitaryVehicle",
           "D00799.obj"
          ],
          [
           "MilitaryVehicle",
           "D00801.obj"
          ],
          [
           "MilitaryVehicle",
           "D00918.obj"
          ],
          [
           "MilitaryVehicle",
           "D00932.obj"
          ],
          [
           "MilitaryVehicle",
           "D00933.obj"
          ],
          [
           "MilitaryVehicle",
           "D00952.obj"
          ],
          [
           "MilitaryVehicle",
           "D00971.obj"
          ]
         ],
         "hovertemplate": "Class=%{customdata[0]}<br>Principal Component 1=%{x}<br>Principal Component 2=%{y}<br>Name=%{customdata[1]}<extra></extra>",
         "legendgroup": "MilitaryVehicle",
         "marker": {
          "color": "#B6E880",
          "symbol": "circle"
         },
         "mode": "markers",
         "name": "MilitaryVehicle",
         "showlegend": true,
         "type": "scattergl",
         "x": [
          33.09178924560547,
          -25.425535202026367,
          -26.31746482849121,
          -4.3515400886535645,
          23.915773391723633,
          32.68506622314453,
          -7.017904281616211,
          0.2867818772792816,
          -11.875157356262207,
          -16.74602508544922,
          -13.443236351013184,
          -23.969470977783203,
          -15.238861083984375,
          -17.437788009643555,
          10.207419395446777,
          7.061733722686768,
          -11.469728469848633,
          18.624563217163086,
          25.89822769165039,
          6.271183013916016
         ],
         "xaxis": "x",
         "y": [
          10.299210548400879,
          -9.691079139709473,
          -2.625891923904419,
          25.563642501831055,
          21.103206634521484,
          11.084811210632324,
          23.663330078125,
          26.25203514099121,
          20.301809310913086,
          13.905226707458496,
          18.922067642211914,
          1.5755897760391235,
          16.229469299316406,
          8.848697662353516,
          27.644773483276367,
          27.599609375,
          21.59996795654297,
          25.311187744140625,
          19.22093963623047,
          27.230316162109375
         ],
         "yaxis": "y"
        },
        {
         "customdata": [
          [
           "Monitor",
           "D00007.obj"
          ],
          [
           "Monitor",
           "D00141.obj"
          ],
          [
           "Monitor",
           "D00229.obj"
          ],
          [
           "Monitor",
           "D00336.obj"
          ],
          [
           "Monitor",
           "D00339.obj"
          ],
          [
           "Monitor",
           "D00364.obj"
          ],
          [
           "Monitor",
           "D00387.obj"
          ],
          [
           "Monitor",
           "D00391.obj"
          ],
          [
           "Monitor",
           "D00412.obj"
          ],
          [
           "Monitor",
           "D00444.obj"
          ],
          [
           "Monitor",
           "D00469.obj"
          ],
          [
           "Monitor",
           "D00548.obj"
          ],
          [
           "Monitor",
           "D00659.obj"
          ],
          [
           "Monitor",
           "D00852.obj"
          ],
          [
           "Monitor",
           "D00863.obj"
          ],
          [
           "Monitor",
           "D00915.obj"
          ],
          [
           "Monitor",
           "D00919.obj"
          ],
          [
           "Monitor",
           "D00920.obj"
          ],
          [
           "Monitor",
           "D00978.obj"
          ],
          [
           "Monitor",
           "D01000.obj"
          ]
         ],
         "hovertemplate": "Class=%{customdata[0]}<br>Principal Component 1=%{x}<br>Principal Component 2=%{y}<br>Name=%{customdata[1]}<extra></extra>",
         "legendgroup": "Monitor",
         "marker": {
          "color": "#FF97FF",
          "symbol": "circle"
         },
         "mode": "markers",
         "name": "Monitor",
         "showlegend": true,
         "type": "scattergl",
         "x": [
          -11.84381103515625,
          -18.23548126220703,
          27.58847999572754,
          -27.67629623413086,
          -16.023527145385742,
          -27.445465087890625,
          -21.980358123779297,
          40.036827087402344,
          -22.40035057067871,
          -21.823945999145508,
          -31.3055477142334,
          -2.029808759689331,
          -31.53042984008789,
          -27.75733184814453,
          -15.119757652282715,
          30.09776496887207,
          -26.499526977539062,
          17.4625301361084,
          -30.439226150512695,
          39.251285552978516
         ],
         "xaxis": "x",
         "y": [
          20.550519943237305,
          7.32402229309082,
          17.935958862304688,
          -14.055482864379883,
          -6.325428009033203,
          -9.66474723815918,
          -3.9934396743774414,
          -11.780776023864746,
          0.33673998713493347,
          -4.130568981170654,
          -23.936511993408203,
          19.63170051574707,
          -25.16123390197754,
          -14.20751953125,
          -9.021553993225098,
          14.43967056274414,
          -4.3646368980407715,
          24.730911254882812,
          -23.131418228149414,
          -7.508070468902588
         ],
         "yaxis": "y"
        },
        {
         "customdata": [
          [
           "Monoplane",
           "D00011.obj"
          ],
          [
           "Monoplane",
           "D00019.obj"
          ],
          [
           "Monoplane",
           "D00043.obj"
          ],
          [
           "Monoplane",
           "D00098.obj"
          ],
          [
           "Monoplane",
           "D00167.obj"
          ],
          [
           "Monoplane",
           "D00169.obj"
          ],
          [
           "Monoplane",
           "D00262.obj"
          ],
          [
           "Monoplane",
           "D00301.obj"
          ],
          [
           "Monoplane",
           "D00304.obj"
          ],
          [
           "Monoplane",
           "D00319.obj"
          ],
          [
           "Monoplane",
           "D00402.obj"
          ],
          [
           "Monoplane",
           "D00482.obj"
          ],
          [
           "Monoplane",
           "D00617.obj"
          ],
          [
           "Monoplane",
           "D00688.obj"
          ],
          [
           "Monoplane",
           "D00798.obj"
          ],
          [
           "Monoplane",
           "D00840.obj"
          ],
          [
           "Monoplane",
           "D00864.obj"
          ],
          [
           "Monoplane",
           "D00925.obj"
          ],
          [
           "Monoplane",
           "D00963.obj"
          ],
          [
           "Monoplane",
           "D00995.obj"
          ]
         ],
         "hovertemplate": "Class=%{customdata[0]}<br>Principal Component 1=%{x}<br>Principal Component 2=%{y}<br>Name=%{customdata[1]}<extra></extra>",
         "legendgroup": "Monoplane",
         "marker": {
          "color": "#FECB52",
          "symbol": "circle"
         },
         "mode": "markers",
         "name": "Monoplane",
         "showlegend": true,
         "type": "scattergl",
         "x": [
          -13.203425407409668,
          -9.30574893951416,
          -15.487011909484863,
          -14.371296882629395,
          19.387496948242188,
          -6.433891773223877,
          -7.981269359588623,
          -9.668916702270508,
          -6.727536678314209,
          -13.873141288757324,
          -7.9896039962768555,
          -5.308664321899414,
          -10.388753890991211,
          -2.800872802734375,
          -8.029576301574707,
          -8.11202335357666,
          -16.84721565246582,
          -11.061853408813477,
          11.801356315612793,
          11.547500610351562
         ],
         "xaxis": "x",
         "y": [
          12.914535522460938,
          13.598519325256348,
          2.7930004596710205,
          2.8826091289520264,
          -3.7511491775512695,
          7.542574405670166,
          7.160477638244629,
          1.5760180950164795,
          6.956362724304199,
          3.0595133304595947,
          0.37322115898132324,
          18.471277236938477,
          0.5928817391395569,
          21.471473693847656,
          13.089435577392578,
          5.968688488006592,
          8.033958435058594,
          5.424132823944092,
          3.5547935962677,
          2.716233253479004
         ],
         "yaxis": "y"
        },
        {
         "customdata": [
          [
           "Motorcycle",
           "D00021.obj"
          ],
          [
           "Motorcycle",
           "D00039.obj"
          ],
          [
           "Motorcycle",
           "D00054.obj"
          ],
          [
           "Motorcycle",
           "D00224.obj"
          ],
          [
           "Motorcycle",
           "D00269.obj"
          ],
          [
           "Motorcycle",
           "D00288.obj"
          ],
          [
           "Motorcycle",
           "D00342.obj"
          ],
          [
           "Motorcycle",
           "D00345.obj"
          ],
          [
           "Motorcycle",
           "D00395.obj"
          ],
          [
           "Motorcycle",
           "D00396.obj"
          ],
          [
           "Motorcycle",
           "D00476.obj"
          ],
          [
           "Motorcycle",
           "D00521.obj"
          ],
          [
           "Motorcycle",
           "D00544.obj"
          ],
          [
           "Motorcycle",
           "D00594.obj"
          ],
          [
           "Motorcycle",
           "D00703.obj"
          ],
          [
           "Motorcycle",
           "D00768.obj"
          ],
          [
           "Motorcycle",
           "D00858.obj"
          ],
          [
           "Motorcycle",
           "D00880.obj"
          ],
          [
           "Motorcycle",
           "D00886.obj"
          ],
          [
           "Motorcycle",
           "D00945.obj"
          ],
          [
           "Motorcycle",
           "m1479.obj"
          ],
          [
           "Motorcycle",
           "m1480.obj"
          ],
          [
           "Motorcycle",
           "m1481.obj"
          ],
          [
           "Motorcycle",
           "m1482.obj"
          ],
          [
           "Motorcycle",
           "m1483.obj"
          ],
          [
           "Motorcycle",
           "m1484.obj"
          ]
         ],
         "hovertemplate": "Class=%{customdata[0]}<br>Principal Component 1=%{x}<br>Principal Component 2=%{y}<br>Name=%{customdata[1]}<extra></extra>",
         "legendgroup": "Motorcycle",
         "marker": {
          "color": "#636efa",
          "symbol": "circle"
         },
         "mode": "markers",
         "name": "Motorcycle",
         "showlegend": true,
         "type": "scattergl",
         "x": [
          -16.98094367980957,
          -16.229209899902344,
          17.49003028869629,
          -4.790197372436523,
          -4.640109062194824,
          -10.669575691223145,
          26.6800594329834,
          -15.07723617553711,
          16.308958053588867,
          -4.3012003898620605,
          29.662885665893555,
          -0.753882884979248,
          30.175416946411133,
          30.854951858520508,
          14.811888694763184,
          -5.062085151672363,
          28.62926483154297,
          -13.347383499145508,
          21.469608306884766,
          -14.760910034179688,
          30.30531883239746,
          -17.044950485229492,
          36.32295608520508,
          20.954273223876953,
          14.634815216064453,
          -16.28915786743164
         ],
         "xaxis": "x",
         "y": [
          2.598116874694824,
          9.330301284790039,
          24.83926773071289,
          19.085399627685547,
          19.740787506103516,
          18.20783233642578,
          18.44961166381836,
          4.866418838500977,
          26.21840476989746,
          19.445892333984375,
          15.252111434936523,
          24.953105926513672,
          14.771077156066895,
          13.780284881591797,
          24.998855590820312,
          24.311363220214844,
          16.369068145751953,
          14.18679428100586,
          22.38067054748535,
          8.635601997375488,
          14.658196449279785,
          2.721343755722046,
          1.9376152753829956,
          22.8018798828125,
          25.07890510559082,
          -13.631752967834473
         ],
         "yaxis": "y"
        },
        {
         "customdata": [
          [
           "Mug",
           "D00172.obj"
          ],
          [
           "Mug",
           "D00202.obj"
          ],
          [
           "Mug",
           "D00227.obj"
          ],
          [
           "Mug",
           "D00321.obj"
          ],
          [
           "Mug",
           "D00341.obj"
          ],
          [
           "Mug",
           "D00372.obj"
          ],
          [
           "Mug",
           "D00427.obj"
          ],
          [
           "Mug",
           "D00684.obj"
          ],
          [
           "Mug",
           "D00685.obj"
          ],
          [
           "Mug",
           "D00705.obj"
          ],
          [
           "Mug",
           "D00728.obj"
          ],
          [
           "Mug",
           "D00745.obj"
          ],
          [
           "Mug",
           "D00747.obj"
          ],
          [
           "Mug",
           "D00760.obj"
          ],
          [
           "Mug",
           "D00770.obj"
          ],
          [
           "Mug",
           "D00825.obj"
          ],
          [
           "Mug",
           "D00833.obj"
          ],
          [
           "Mug",
           "D00908.obj"
          ],
          [
           "Mug",
           "D00913.obj"
          ],
          [
           "Mug",
           "D00923.obj"
          ],
          [
           "Mug",
           "m503.obj"
          ],
          [
           "Mug",
           "m504.obj"
          ],
          [
           "Mug",
           "m506.obj"
          ],
          [
           "Mug",
           "m507.obj"
          ],
          [
           "Mug",
           "m508.obj"
          ],
          [
           "Mug",
           "m509.obj"
          ]
         ],
         "hovertemplate": "Class=%{customdata[0]}<br>Principal Component 1=%{x}<br>Principal Component 2=%{y}<br>Name=%{customdata[1]}<extra></extra>",
         "legendgroup": "Mug",
         "marker": {
          "color": "#EF553B",
          "symbol": "circle"
         },
         "mode": "markers",
         "name": "Mug",
         "showlegend": true,
         "type": "scattergl",
         "x": [
          -16.668540954589844,
          -0.4993252456188202,
          26.352127075195312,
          37.31001281738281,
          -4.752961158752441,
          -26.605510711669922,
          0.42863836884498596,
          -26.615144729614258,
          -28.520843505859375,
          -10.0894136428833,
          18.64603614807129,
          17.91071319580078,
          11.55329418182373,
          -23.02362823486328,
          -15.832950592041016,
          29.584938049316406,
          -31.81937599182129,
          -22.297340393066406,
          -7.505669116973877,
          4.391111850738525,
          5.602766990661621,
          -26.58155632019043,
          35.12088394165039,
          7.047288417816162,
          5.121342658996582,
          -12.510173797607422
         ],
         "xaxis": "x",
         "y": [
          16.649234771728516,
          26.809123992919922,
          19.166208267211914,
          1.3552778959274292,
          25.678701400756836,
          -2.9450185298919678,
          26.0960750579834,
          -5.76526403427124,
          -28.6660213470459,
          23.210344314575195,
          25.957874298095703,
          26.39568328857422,
          27.885330200195312,
          6.9070563316345215,
          17.99894142150879,
          16.295745849609375,
          -28.80963134765625,
          7.921432018280029,
          24.724302291870117,
          27.3365421295166,
          27.46234130859375,
          -5.784322738647461,
          6.6624650955200195,
          27.9008846282959,
          27.42108917236328,
          20.850732803344727
         ],
         "yaxis": "y"
        },
        {
         "customdata": [
          [
           "MultiSeat",
           "D00036.obj"
          ],
          [
           "MultiSeat",
           "D00046.obj"
          ],
          [
           "MultiSeat",
           "D00053.obj"
          ],
          [
           "MultiSeat",
           "D00145.obj"
          ],
          [
           "MultiSeat",
           "D00146.obj"
          ],
          [
           "MultiSeat",
           "D00237.obj"
          ],
          [
           "MultiSeat",
           "D00245.obj"
          ],
          [
           "MultiSeat",
           "D00263.obj"
          ],
          [
           "MultiSeat",
           "D00273.obj"
          ],
          [
           "MultiSeat",
           "D00285.obj"
          ],
          [
           "MultiSeat",
           "D00289.obj"
          ],
          [
           "MultiSeat",
           "D00329.obj"
          ],
          [
           "MultiSeat",
           "D00586.obj"
          ],
          [
           "MultiSeat",
           "D00588.obj"
          ],
          [
           "MultiSeat",
           "D00607.obj"
          ],
          [
           "MultiSeat",
           "D00637.obj"
          ],
          [
           "MultiSeat",
           "D00648.obj"
          ],
          [
           "MultiSeat",
           "D00652.obj"
          ],
          [
           "MultiSeat",
           "D00749.obj"
          ],
          [
           "MultiSeat",
           "D00985.obj"
          ],
          [
           "MultiSeat",
           "m774.obj"
          ],
          [
           "MultiSeat",
           "m775.obj"
          ],
          [
           "MultiSeat",
           "m776.obj"
          ],
          [
           "MultiSeat",
           "m777.obj"
          ],
          [
           "MultiSeat",
           "m778.obj"
          ],
          [
           "MultiSeat",
           "m779.obj"
          ],
          [
           "MultiSeat",
           "m780.obj"
          ],
          [
           "MultiSeat",
           "m781.obj"
          ],
          [
           "MultiSeat",
           "m782.obj"
          ],
          [
           "MultiSeat",
           "m783.obj"
          ],
          [
           "MultiSeat",
           "m784.obj"
          ],
          [
           "MultiSeat",
           "m829.obj"
          ],
          [
           "MultiSeat",
           "m830.obj"
          ],
          [
           "MultiSeat",
           "m831.obj"
          ],
          [
           "MultiSeat",
           "m832.obj"
          ],
          [
           "MultiSeat",
           "m833.obj"
          ],
          [
           "MultiSeat",
           "m834.obj"
          ],
          [
           "MultiSeat",
           "m835.obj"
          ],
          [
           "MultiSeat",
           "m836.obj"
          ],
          [
           "MultiSeat",
           "m837.obj"
          ],
          [
           "MultiSeat",
           "m838.obj"
          ],
          [
           "MultiSeat",
           "m839.obj"
          ],
          [
           "MultiSeat",
           "m840.obj"
          ],
          [
           "MultiSeat",
           "m841.obj"
          ],
          [
           "MultiSeat",
           "m843.obj"
          ]
         ],
         "hovertemplate": "Class=%{customdata[0]}<br>Principal Component 1=%{x}<br>Principal Component 2=%{y}<br>Name=%{customdata[1]}<extra></extra>",
         "legendgroup": "MultiSeat",
         "marker": {
          "color": "#00cc96",
          "symbol": "circle"
         },
         "mode": "markers",
         "name": "MultiSeat",
         "showlegend": true,
         "type": "scattergl",
         "x": [
          -24.406949996948242,
          -28.320615768432617,
          -21.350589752197266,
          -19.21257209777832,
          -18.51881217956543,
          -23.484760284423828,
          -17.42511558532715,
          -23.38494110107422,
          -11.61229419708252,
          -18.96525764465332,
          -11.953892707824707,
          -21.639436721801758,
          -15.08198356628418,
          -17.681106567382812,
          -18.97122573852539,
          -25.609275817871094,
          12.692357063293457,
          -22.22115707397461,
          -15.52757740020752,
          -24.57849884033203,
          32.55134963989258,
          28.122671127319336,
          35.29441833496094,
          39.963863372802734,
          -11.672327041625977,
          24.986038208007812,
          26.734848022460938,
          31.62767791748047,
          -5.201083183288574,
          41.41094207763672,
          -13.464764595031738,
          -7.342627048492432,
          -5.911315441131592,
          -4.839710712432861,
          23.12860679626465,
          -15.049883842468262,
          -22.461328506469727,
          -15.801128387451172,
          -19.384746551513672,
          -15.430052757263184,
          -21.961536407470703,
          -20.784374237060547,
          -29.460622787475586,
          23.500953674316406,
          -17.452306747436523
         ],
         "xaxis": "x",
         "y": [
          -0.3890102505683899,
          -17.07762908935547,
          -10.803622245788574,
          4.720342636108398,
          6.224071025848389,
          -9.329344749450684,
          2.666165828704834,
          -8.640145301818848,
          18.504436492919922,
          10.032569885253906,
          -14.210966110229492,
          4.494865417480469,
          11.33194637298584,
          7.019590377807617,
          8.0073823928833,
          -7.949078559875488,
          27.00335693359375,
          -6.17510461807251,
          14.479247093200684,
          -15.03711223602295,
          11.850458145141602,
          17.30415153503418,
          4.647683620452881,
          -8.843316078186035,
          21.537643432617188,
          19.583240509033203,
          18.946918487548828,
          13.442727088928223,
          23.12720489501953,
          -17.927845001220703,
          2.429514169692993,
          19.416725158691406,
          5.479998588562012,
          23.36568260192871,
          21.769227981567383,
          5.122959136962891,
          -3.9249277114868164,
          2.087400197982788,
          -22.57451057434082,
          -14.070521354675293,
          -9.915471076965332,
          4.3052520751953125,
          -24.089998245239258,
          21.186559677124023,
          -8.283164024353027
         ],
         "yaxis": "y"
        },
        {
         "customdata": [
          [
           "Musical_Instrument",
           "m625.obj"
          ],
          [
           "Musical_Instrument",
           "m626.obj"
          ],
          [
           "Musical_Instrument",
           "m627.obj"
          ],
          [
           "Musical_Instrument",
           "m628.obj"
          ],
          [
           "Musical_Instrument",
           "m629.obj"
          ],
          [
           "Musical_Instrument",
           "m630.obj"
          ],
          [
           "Musical_Instrument",
           "m631.obj"
          ],
          [
           "Musical_Instrument",
           "m632.obj"
          ],
          [
           "Musical_Instrument",
           "m633.obj"
          ],
          [
           "Musical_Instrument",
           "m634.obj"
          ],
          [
           "Musical_Instrument",
           "m635.obj"
          ],
          [
           "Musical_Instrument",
           "m637.obj"
          ],
          [
           "Musical_Instrument",
           "m638.obj"
          ],
          [
           "Musical_Instrument",
           "m639.obj"
          ],
          [
           "Musical_Instrument",
           "m640.obj"
          ],
          [
           "Musical_Instrument",
           "m641.obj"
          ],
          [
           "Musical_Instrument",
           "m643.obj"
          ],
          [
           "Musical_Instrument",
           "m644.obj"
          ],
          [
           "Musical_Instrument",
           "m645.obj"
          ],
          [
           "Musical_Instrument",
           "m646.obj"
          ],
          [
           "Musical_Instrument",
           "m647.obj"
          ]
         ],
         "hovertemplate": "Class=%{customdata[0]}<br>Principal Component 1=%{x}<br>Principal Component 2=%{y}<br>Name=%{customdata[1]}<extra></extra>",
         "legendgroup": "Musical_Instrument",
         "marker": {
          "color": "#ab63fa",
          "symbol": "circle"
         },
         "mode": "markers",
         "name": "Musical_Instrument",
         "showlegend": true,
         "type": "scattergl",
         "x": [
          13.802000999450684,
          21.336563110351562,
          8.079375267028809,
          20.445125579833984,
          22.79336166381836,
          9.941827774047852,
          13.35539436340332,
          12.434833526611328,
          12.899251937866211,
          19.875200271606445,
          12.770825386047363,
          21.974689483642578,
          38.338809967041016,
          37.46014404296875,
          2.7800486087799072,
          34.33475875854492,
          -21.676380157470703,
          -23.784366607666016,
          29.534711837768555,
          23.197288513183594,
          32.78886032104492
         ],
         "xaxis": "x",
         "y": [
          -0.4595624804496765,
          -6.9956865310668945,
          -0.330872118473053,
          -5.745632648468018,
          -9.008918762207031,
          0.43773984909057617,
          1.7879531383514404,
          -0.0201016366481781,
          20.57602882385254,
          -5.4709086418151855,
          0.03101622685790062,
          -7.917758941650391,
          -4.783092498779297,
          -1.453973412513733,
          -5.60626220703125,
          5.526683807373047,
          8.151959419250488,
          3.8876819610595703,
          16.18408966064453,
          22.09642791748047,
          11.667335510253906
         ],
         "yaxis": "y"
        },
        {
         "customdata": [
          [
           "NonWheelChair",
           "D00037.obj"
          ],
          [
           "NonWheelChair",
           "D00101.obj"
          ],
          [
           "NonWheelChair",
           "D00170.obj"
          ],
          [
           "NonWheelChair",
           "D00185.obj"
          ],
          [
           "NonWheelChair",
           "D00240.obj"
          ],
          [
           "NonWheelChair",
           "D00306.obj"
          ],
          [
           "NonWheelChair",
           "D00357.obj"
          ],
          [
           "NonWheelChair",
           "D00419.obj"
          ],
          [
           "NonWheelChair",
           "D00443.obj"
          ],
          [
           "NonWheelChair",
           "D00445.obj"
          ],
          [
           "NonWheelChair",
           "D00480.obj"
          ],
          [
           "NonWheelChair",
           "D00481.obj"
          ],
          [
           "NonWheelChair",
           "D00512.obj"
          ],
          [
           "NonWheelChair",
           "D00694.obj"
          ],
          [
           "NonWheelChair",
           "D00707.obj"
          ],
          [
           "NonWheelChair",
           "D00741.obj"
          ],
          [
           "NonWheelChair",
           "D00853.obj"
          ],
          [
           "NonWheelChair",
           "D00914.obj"
          ],
          [
           "NonWheelChair",
           "D00928.obj"
          ],
          [
           "NonWheelChair",
           "D00936.obj"
          ],
          [
           "NonWheelChair",
           "m785.obj"
          ],
          [
           "NonWheelChair",
           "m786.obj"
          ],
          [
           "NonWheelChair",
           "m787.obj"
          ],
          [
           "NonWheelChair",
           "m788.obj"
          ],
          [
           "NonWheelChair",
           "m789.obj"
          ],
          [
           "NonWheelChair",
           "m790.obj"
          ],
          [
           "NonWheelChair",
           "m791.obj"
          ],
          [
           "NonWheelChair",
           "m793.obj"
          ],
          [
           "NonWheelChair",
           "m794.obj"
          ],
          [
           "NonWheelChair",
           "m795.obj"
          ],
          [
           "NonWheelChair",
           "m796.obj"
          ],
          [
           "NonWheelChair",
           "m797.obj"
          ],
          [
           "NonWheelChair",
           "m798.obj"
          ],
          [
           "NonWheelChair",
           "m799.obj"
          ],
          [
           "NonWheelChair",
           "m800.obj"
          ],
          [
           "NonWheelChair",
           "m801.obj"
          ],
          [
           "NonWheelChair",
           "m804.obj"
          ],
          [
           "NonWheelChair",
           "m805.obj"
          ],
          [
           "NonWheelChair",
           "m806.obj"
          ],
          [
           "NonWheelChair",
           "m807.obj"
          ],
          [
           "NonWheelChair",
           "m808.obj"
          ],
          [
           "NonWheelChair",
           "m809.obj"
          ],
          [
           "NonWheelChair",
           "m810.obj"
          ],
          [
           "NonWheelChair",
           "m811.obj"
          ],
          [
           "NonWheelChair",
           "m812.obj"
          ],
          [
           "NonWheelChair",
           "m813.obj"
          ],
          [
           "NonWheelChair",
           "m814.obj"
          ],
          [
           "NonWheelChair",
           "m815.obj"
          ],
          [
           "NonWheelChair",
           "m816.obj"
          ],
          [
           "NonWheelChair",
           "m817.obj"
          ],
          [
           "NonWheelChair",
           "m818.obj"
          ],
          [
           "NonWheelChair",
           "m819.obj"
          ],
          [
           "NonWheelChair",
           "m820.obj"
          ],
          [
           "NonWheelChair",
           "m821.obj"
          ],
          [
           "NonWheelChair",
           "m822.obj"
          ],
          [
           "NonWheelChair",
           "m823.obj"
          ],
          [
           "NonWheelChair",
           "m824.obj"
          ],
          [
           "NonWheelChair",
           "m826.obj"
          ],
          [
           "NonWheelChair",
           "m827.obj"
          ],
          [
           "NonWheelChair",
           "m828.obj"
          ]
         ],
         "hovertemplate": "Class=%{customdata[0]}<br>Principal Component 1=%{x}<br>Principal Component 2=%{y}<br>Name=%{customdata[1]}<extra></extra>",
         "legendgroup": "NonWheelChair",
         "marker": {
          "color": "#FFA15A",
          "symbol": "circle"
         },
         "mode": "markers",
         "name": "NonWheelChair",
         "showlegend": true,
         "type": "scattergl",
         "x": [
          0.15848089754581451,
          -24.091604232788086,
          -26.629871368408203,
          -16.304203033447266,
          -18.897869110107422,
          -22.838499069213867,
          -26.41922950744629,
          -3.4027442932128906,
          -4.711145401000977,
          16.003135681152344,
          7.351838111877441,
          -3.7795357704162598,
          -16.275222778320312,
          -14.168636322021484,
          -25.82145118713379,
          -23.053190231323242,
          39.015716552734375,
          -9.631930351257324,
          -8.400411605834961,
          -6.885023593902588,
          -15.9447021484375,
          -26.449066162109375,
          -28.075088500976562,
          -21.021699905395508,
          -25.400596618652344,
          -27.459440231323242,
          -11.043684005737305,
          -26.93205451965332,
          18.52434539794922,
          -2.4466843605041504,
          -18.13624382019043,
          -5.545055389404297,
          -21.098896026611328,
          -8.90863037109375,
          -25.967260360717773,
          -5.783252716064453,
          -25.88998031616211,
          -25.032299041748047,
          -15.508184432983398,
          -24.44321060180664,
          -25.755008697509766,
          7.540999889373779,
          -14.748750686645508,
          -20.479713439941406,
          -18.958620071411133,
          -19.456872940063477,
          -22.1684627532959,
          -21.43616485595703,
          -20.638389587402344,
          -12.010852813720703,
          15.39416217803955,
          -22.1555233001709,
          -23.339988708496094,
          -12.52614974975586,
          -16.042781829833984,
          -23.124813079833984,
          -26.77455711364746,
          -13.970541000366211,
          -16.91273307800293,
          -24.355972290039062
         ],
         "xaxis": "x",
         "y": [
          26.995555877685547,
          0.44565802812576294,
          -13.465758323669434,
          17.195457458496094,
          13.073098182678223,
          5.993485927581787,
          -8.738151550292969,
          25.86905288696289,
          24.95938491821289,
          27.23194122314453,
          27.429805755615234,
          25.832651138305664,
          17.279085159301758,
          19.524290084838867,
          -3.1587414741516113,
          4.9800519943237305,
          -4.714005947113037,
          23.7997989654541,
          23.816814422607422,
          24.904626846313477,
          17.4088191986084,
          -16.405288696289062,
          -27.878311157226562,
          -14.327372550964355,
          -6.999725818634033,
          -18.865556716918945,
          22.509611129760742,
          -15.323198318481445,
          26.13932991027832,
          25.85189437866211,
          14.594855308532715,
          25.524415969848633,
          8.386279106140137,
          23.79920768737793,
          -8.24057674407959,
          24.954099655151367,
          -9.251787185668945,
          -3.8226234912872314,
          -8.227362632751465,
          1.0921971797943115,
          -3.9097583293914795,
          26.507408142089844,
          17.845462799072266,
          10.86815071105957,
          13.483084678649902,
          12.660900115966797,
          7.79330587387085,
          9.225090026855469,
          10.565743446350098,
          21.872943878173828,
          27.613332748413086,
          6.8793110847473145,
          4.367491245269775,
          21.337478637695312,
          16.78797149658203,
          4.428916931152344,
          -16.11571502685547,
          18.699880599975586,
          12.135103225708008,
          -1.2041726112365723
         ],
         "yaxis": "y"
        },
        {
         "customdata": [
          [
           "PianoBoard",
           "D00065.obj"
          ],
          [
           "PianoBoard",
           "D00075.obj"
          ],
          [
           "PianoBoard",
           "D00104.obj"
          ],
          [
           "PianoBoard",
           "D00181.obj"
          ],
          [
           "PianoBoard",
           "D00253.obj"
          ],
          [
           "PianoBoard",
           "D00332.obj"
          ],
          [
           "PianoBoard",
           "D00381.obj"
          ],
          [
           "PianoBoard",
           "D00441.obj"
          ],
          [
           "PianoBoard",
           "D00623.obj"
          ],
          [
           "PianoBoard",
           "D00718.obj"
          ],
          [
           "PianoBoard",
           "D00721.obj"
          ],
          [
           "PianoBoard",
           "D00755.obj"
          ],
          [
           "PianoBoard",
           "D00885.obj"
          ],
          [
           "PianoBoard",
           "D00962.obj"
          ],
          [
           "PianoBoard",
           "D00966.obj"
          ]
         ],
         "hovertemplate": "Class=%{customdata[0]}<br>Principal Component 1=%{x}<br>Principal Component 2=%{y}<br>Name=%{customdata[1]}<extra></extra>",
         "legendgroup": "PianoBoard",
         "marker": {
          "color": "#19d3f3",
          "symbol": "circle"
         },
         "mode": "markers",
         "name": "PianoBoard",
         "showlegend": true,
         "type": "scattergl",
         "x": [
          24.022621154785156,
          -16.93870735168457,
          -15.645596504211426,
          -15.248469352722168,
          -26.222827911376953,
          -7.617286205291748,
          -17.928491592407227,
          -27.733299255371094,
          34.94712448120117,
          -21.091585159301758,
          -22.673189163208008,
          -18.00090217590332,
          -1.8643361330032349,
          -26.30569839477539,
          -21.805456161499023
         ],
         "xaxis": "x",
         "y": [
          19.592309951782227,
          -21.73204231262207,
          1.4310280084609985,
          7.820191383361816,
          -14.718467712402344,
          5.1109466552734375,
          7.737483501434326,
          -6.15943717956543,
          6.844913959503174,
          4.042844295501709,
          -24.102375030517578,
          3.2120707035064697,
          25.38145637512207,
          -5.774333953857422,
          -8.214893341064453
         ],
         "yaxis": "y"
        },
        {
         "customdata": [
          [
           "PlantIndoors",
           "D00049.obj"
          ],
          [
           "PlantIndoors",
           "D00073.obj"
          ],
          [
           "PlantIndoors",
           "D00080.obj"
          ],
          [
           "PlantIndoors",
           "D00087.obj"
          ],
          [
           "PlantIndoors",
           "D00128.obj"
          ],
          [
           "PlantIndoors",
           "D00159.obj"
          ],
          [
           "PlantIndoors",
           "D00238.obj"
          ],
          [
           "PlantIndoors",
           "D00280.obj"
          ],
          [
           "PlantIndoors",
           "D00370.obj"
          ],
          [
           "PlantIndoors",
           "D00379.obj"
          ],
          [
           "PlantIndoors",
           "D00466.obj"
          ],
          [
           "PlantIndoors",
           "D00491.obj"
          ],
          [
           "PlantIndoors",
           "D00595.obj"
          ],
          [
           "PlantIndoors",
           "D00609.obj"
          ],
          [
           "PlantIndoors",
           "D00622.obj"
          ],
          [
           "PlantIndoors",
           "D00624.obj"
          ],
          [
           "PlantIndoors",
           "D00657.obj"
          ],
          [
           "PlantIndoors",
           "D00667.obj"
          ],
          [
           "PlantIndoors",
           "D00800.obj"
          ],
          [
           "PlantIndoors",
           "D00968.obj"
          ],
          [
           "PlantIndoors",
           "m1000.obj"
          ],
          [
           "PlantIndoors",
           "m1001.obj"
          ],
          [
           "PlantIndoors",
           "m1002.obj"
          ],
          [
           "PlantIndoors",
           "m1003.obj"
          ],
          [
           "PlantIndoors",
           "m1004.obj"
          ],
          [
           "PlantIndoors",
           "m1005.obj"
          ],
          [
           "PlantIndoors",
           "m1006.obj"
          ],
          [
           "PlantIndoors",
           "m1007.obj"
          ],
          [
           "PlantIndoors",
           "m1008.obj"
          ],
          [
           "PlantIndoors",
           "m1009.obj"
          ],
          [
           "PlantIndoors",
           "m1010.obj"
          ],
          [
           "PlantIndoors",
           "m1011.obj"
          ],
          [
           "PlantIndoors",
           "m1012.obj"
          ],
          [
           "PlantIndoors",
           "m1013.obj"
          ],
          [
           "PlantIndoors",
           "m1014.obj"
          ],
          [
           "PlantIndoors",
           "m1015.obj"
          ],
          [
           "PlantIndoors",
           "m1016.obj"
          ],
          [
           "PlantIndoors",
           "m1017.obj"
          ],
          [
           "PlantIndoors",
           "m1018.obj"
          ],
          [
           "PlantIndoors",
           "m1020.obj"
          ],
          [
           "PlantIndoors",
           "m1021.obj"
          ],
          [
           "PlantIndoors",
           "m1022.obj"
          ],
          [
           "PlantIndoors",
           "m1023.obj"
          ],
          [
           "PlantIndoors",
           "m1025.obj"
          ],
          [
           "PlantIndoors",
           "m1026.obj"
          ],
          [
           "PlantIndoors",
           "m1027.obj"
          ],
          [
           "PlantIndoors",
           "m1029.obj"
          ],
          [
           "PlantIndoors",
           "m1030.obj"
          ],
          [
           "PlantIndoors",
           "m1031.obj"
          ],
          [
           "PlantIndoors",
           "m1032.obj"
          ],
          [
           "PlantIndoors",
           "m1033.obj"
          ],
          [
           "PlantIndoors",
           "m1034.obj"
          ],
          [
           "PlantIndoors",
           "m1035.obj"
          ],
          [
           "PlantIndoors",
           "m1036.obj"
          ],
          [
           "PlantIndoors",
           "m989.obj"
          ],
          [
           "PlantIndoors",
           "m990.obj"
          ],
          [
           "PlantIndoors",
           "m991.obj"
          ],
          [
           "PlantIndoors",
           "m992.obj"
          ],
          [
           "PlantIndoors",
           "m993.obj"
          ],
          [
           "PlantIndoors",
           "m994.obj"
          ],
          [
           "PlantIndoors",
           "m995.obj"
          ],
          [
           "PlantIndoors",
           "m996.obj"
          ],
          [
           "PlantIndoors",
           "m997.obj"
          ],
          [
           "PlantIndoors",
           "m998.obj"
          ],
          [
           "PlantIndoors",
           "m999.obj"
          ]
         ],
         "hovertemplate": "Class=%{customdata[0]}<br>Principal Component 1=%{x}<br>Principal Component 2=%{y}<br>Name=%{customdata[1]}<extra></extra>",
         "legendgroup": "PlantIndoors",
         "marker": {
          "color": "#FF6692",
          "symbol": "circle"
         },
         "mode": "markers",
         "name": "PlantIndoors",
         "showlegend": true,
         "type": "scattergl",
         "x": [
          14.128864288330078,
          2.0281572341918945,
          -7.411630153656006,
          -26.008834838867188,
          15.08629035949707,
          13.688766479492188,
          -64.38111114501953,
          -54.252323150634766,
          70.86710357666016,
          6.996708393096924,
          63.05638122558594,
          25.145675659179688,
          -15.094087600708008,
          -59.29019546508789,
          61.98405838012695,
          -26.024934768676758,
          -22.392847061157227,
          -19.861339569091797,
          36.34812927246094,
          -47.854087829589844,
          -25.861448287963867,
          -22.69439697265625,
          39.09292984008789,
          26.394058227539062,
          -9.897414207458496,
          -19.29776954650879,
          1.5640150308609009,
          31.398792266845703,
          -3.6494011878967285,
          22.152442932128906,
          40.86177062988281,
          -12.223443984985352,
          19.00895881652832,
          33.00930404663086,
          38.589542388916016,
          42.448204040527344,
          -9.652904510498047,
          31.422883987426758,
          -18.307247161865234,
          29.288330078125,
          -12.795478820800781,
          15.340322494506836,
          -0.28683072328567505,
          8.360885620117188,
          -19.502580642700195,
          0.9579219818115234,
          34.5118293762207,
          -26.560922622680664,
          -21.820161819458008,
          -12.685202598571777,
          -17.303281784057617,
          -20.456443786621094,
          4.356760025024414,
          30.43454360961914,
          38.65436935424805,
          -22.29220962524414,
          -20.15156364440918,
          -18.794876098632812,
          -7.092528820037842,
          -29.12091636657715,
          -28.25676918029785,
          22.587278366088867,
          -13.071462631225586,
          -16.29817008972168,
          -28.297266006469727
         ],
         "xaxis": "x",
         "y": [
          62.686279296875,
          -55.87968826293945,
          24.827362060546875,
          -3.9391226768493652,
          -54.13003921508789,
          -46.625614166259766,
          -10.09128475189209,
          26.150957107543945,
          -5.4017157554626465,
          -51.11077117919922,
          25.13587188720703,
          20.409229278564453,
          -60.368675231933594,
          14.105647087097168,
          -38.54225540161133,
          55.3690185546875,
          1.1921632289886475,
          12.097966194152832,
          54.986778259277344,
          36.21086120605469,
          -1.7392858266830444,
          5.978591442108154,
          -4.857107639312744,
          19.366897583007812,
          23.640565872192383,
          11.188996315002441,
          27.137596130371094,
          14.222044944763184,
          26.166202545166016,
          22.673786163330078,
          -25.335176467895508,
          20.418869018554688,
          25.888540267944336,
          10.81601619720459,
          -2.8704776763916016,
          -22.460142135620117,
          14.777976036071777,
          13.39977741241455,
          14.054519653320312,
          16.557186126708984,
          0.9304500818252563,
          27.173402786254883,
          26.938474655151367,
          28.14007568359375,
          12.680880546569824,
          27.02582550048828,
          7.538989543914795,
          -7.994316577911377,
          7.357702255249023,
          21.209497451782227,
          -21.645381927490234,
          -7.468469619750977,
          27.286256790161133,
          14.949234008789062,
          -3.7606701850891113,
          8.027798652648926,
          11.722389221191406,
          13.954360961914062,
          -10.026900291442871,
          -21.938758850097656,
          -20.39220428466797,
          22.504091262817383,
          21.195478439331055,
          -18.756086349487305,
          -21.421045303344727
         ],
         "yaxis": "y"
        },
        {
         "customdata": [
          [
           "PlantWildNonTree",
           "m1052.obj"
          ],
          [
           "PlantWildNonTree",
           "m961.obj"
          ],
          [
           "PlantWildNonTree",
           "m962.obj"
          ],
          [
           "PlantWildNonTree",
           "m963.obj"
          ],
          [
           "PlantWildNonTree",
           "m964.obj"
          ],
          [
           "PlantWildNonTree",
           "m965.obj"
          ],
          [
           "PlantWildNonTree",
           "m966.obj"
          ],
          [
           "PlantWildNonTree",
           "m967.obj"
          ],
          [
           "PlantWildNonTree",
           "m968.obj"
          ],
          [
           "PlantWildNonTree",
           "m971.obj"
          ],
          [
           "PlantWildNonTree",
           "m972.obj"
          ],
          [
           "PlantWildNonTree",
           "m973.obj"
          ],
          [
           "PlantWildNonTree",
           "m974.obj"
          ],
          [
           "PlantWildNonTree",
           "m975.obj"
          ],
          [
           "PlantWildNonTree",
           "m976.obj"
          ],
          [
           "PlantWildNonTree",
           "m977.obj"
          ],
          [
           "PlantWildNonTree",
           "m978.obj"
          ],
          [
           "PlantWildNonTree",
           "m979.obj"
          ],
          [
           "PlantWildNonTree",
           "m980.obj"
          ],
          [
           "PlantWildNonTree",
           "m981.obj"
          ],
          [
           "PlantWildNonTree",
           "m982.obj"
          ],
          [
           "PlantWildNonTree",
           "m983.obj"
          ],
          [
           "PlantWildNonTree",
           "m984.obj"
          ],
          [
           "PlantWildNonTree",
           "m985.obj"
          ],
          [
           "PlantWildNonTree",
           "m986.obj"
          ],
          [
           "PlantWildNonTree",
           "m987.obj"
          ],
          [
           "PlantWildNonTree",
           "m988.obj"
          ]
         ],
         "hovertemplate": "Class=%{customdata[0]}<br>Principal Component 1=%{x}<br>Principal Component 2=%{y}<br>Name=%{customdata[1]}<extra></extra>",
         "legendgroup": "PlantWildNonTree",
         "marker": {
          "color": "#B6E880",
          "symbol": "circle"
         },
         "mode": "markers",
         "name": "PlantWildNonTree",
         "showlegend": true,
         "type": "scattergl",
         "x": [
          41.7664794921875,
          38.120723724365234,
          40.31468200683594,
          40.86957550048828,
          41.27815628051758,
          40.6079216003418,
          40.00676345825195,
          38.89863204956055,
          39.38945770263672,
          42.40055465698242,
          42.400455474853516,
          39.140560150146484,
          11.623847007751465,
          42.060516357421875,
          32.925697326660156,
          42.0455322265625,
          39.43949508666992,
          38.47898864746094,
          7.797524452209473,
          -10.665326118469238,
          15.916666030883789,
          -13.672926902770996,
          23.955142974853516,
          39.48052978515625,
          -23.86222267150879,
          37.30971145629883,
          37.92329025268555
         ],
         "xaxis": "x",
         "y": [
          -17.407817840576172,
          -1.719604253768921,
          -11.223974227905273,
          -13.692392349243164,
          -16.836013793945312,
          -12.343661308288574,
          -9.289746284484863,
          -5.515259742736816,
          -6.370956897735596,
          -22.61424446105957,
          -22.613309860229492,
          -5.224396228790283,
          0.9228512644767761,
          -20.330095291137695,
          11.351605415344238,
          -19.153806686401367,
          -8.13906192779541,
          -25.915475845336914,
          27.59579849243164,
          7.379839897155762,
          24.753921508789062,
          20.37416648864746,
          21.45914649963379,
          -9.722447395324707,
          -20.036378860473633,
          -19.49139976501465,
          -3.021078586578369
         ],
         "yaxis": "y"
        },
        {
         "customdata": [
          [
           "Quadruped",
           "D00111.obj"
          ],
          [
           "Quadruped",
           "D00150.obj"
          ],
          [
           "Quadruped",
           "D00218.obj"
          ],
          [
           "Quadruped",
           "D00226.obj"
          ],
          [
           "Quadruped",
           "D00261.obj"
          ],
          [
           "Quadruped",
           "D00326.obj"
          ],
          [
           "Quadruped",
           "D00380.obj"
          ],
          [
           "Quadruped",
           "D00409.obj"
          ],
          [
           "Quadruped",
           "D00508.obj"
          ],
          [
           "Quadruped",
           "D00509.obj"
          ],
          [
           "Quadruped",
           "D00583.obj"
          ],
          [
           "Quadruped",
           "D00663.obj"
          ],
          [
           "Quadruped",
           "D00700.obj"
          ],
          [
           "Quadruped",
           "D00757.obj"
          ],
          [
           "Quadruped",
           "D00794.obj"
          ],
          [
           "Quadruped",
           "D00795.obj"
          ],
          [
           "Quadruped",
           "D00831.obj"
          ],
          [
           "Quadruped",
           "D00841.obj"
          ],
          [
           "Quadruped",
           "D00867.obj"
          ],
          [
           "Quadruped",
           "D00934.obj"
          ],
          [
           "Quadruped",
           "m100.obj"
          ],
          [
           "Quadruped",
           "m101.obj"
          ],
          [
           "Quadruped",
           "m102.obj"
          ],
          [
           "Quadruped",
           "m103.obj"
          ],
          [
           "Quadruped",
           "m104.obj"
          ],
          [
           "Quadruped",
           "m105.obj"
          ],
          [
           "Quadruped",
           "m106.obj"
          ],
          [
           "Quadruped",
           "m107.obj"
          ],
          [
           "Quadruped",
           "m108.obj"
          ],
          [
           "Quadruped",
           "m109.obj"
          ],
          [
           "Quadruped",
           "m110.obj"
          ],
          [
           "Quadruped",
           "m111.obj"
          ],
          [
           "Quadruped",
           "m112.obj"
          ],
          [
           "Quadruped",
           "m273.obj"
          ],
          [
           "Quadruped",
           "m274.obj"
          ],
          [
           "Quadruped",
           "m275.obj"
          ],
          [
           "Quadruped",
           "m276.obj"
          ],
          [
           "Quadruped",
           "m277.obj"
          ],
          [
           "Quadruped",
           "m278.obj"
          ],
          [
           "Quadruped",
           "m279.obj"
          ],
          [
           "Quadruped",
           "m280.obj"
          ],
          [
           "Quadruped",
           "m281.obj"
          ],
          [
           "Quadruped",
           "m282.obj"
          ],
          [
           "Quadruped",
           "m86.obj"
          ],
          [
           "Quadruped",
           "m87.obj"
          ],
          [
           "Quadruped",
           "m88.obj"
          ],
          [
           "Quadruped",
           "m89.obj"
          ],
          [
           "Quadruped",
           "m90.obj"
          ],
          [
           "Quadruped",
           "m91.obj"
          ],
          [
           "Quadruped",
           "m92.obj"
          ],
          [
           "Quadruped",
           "m93.obj"
          ],
          [
           "Quadruped",
           "m95.obj"
          ],
          [
           "Quadruped",
           "m96.obj"
          ],
          [
           "Quadruped",
           "m97.obj"
          ],
          [
           "Quadruped",
           "m98.obj"
          ],
          [
           "Quadruped",
           "m99.obj"
          ]
         ],
         "hovertemplate": "Class=%{customdata[0]}<br>Principal Component 1=%{x}<br>Principal Component 2=%{y}<br>Name=%{customdata[1]}<extra></extra>",
         "legendgroup": "Quadruped",
         "marker": {
          "color": "#FF97FF",
          "symbol": "circle"
         },
         "mode": "markers",
         "name": "Quadruped",
         "showlegend": true,
         "type": "scattergl",
         "x": [
          -19.444393157958984,
          -19.277238845825195,
          -14.411724090576172,
          -18.295942306518555,
          -18.091842651367188,
          -11.051021575927734,
          -14.32418441772461,
          -9.299921035766602,
          -9.674713134765625,
          -3.669806480407715,
          -15.341096878051758,
          -8.295312881469727,
          -9.517818450927734,
          -21.171998977661133,
          -6.924118518829346,
          -17.215614318847656,
          -19.835773468017578,
          -11.353960990905762,
          -17.98841094970703,
          -19.235942840576172,
          -27.273292541503906,
          15.275627136230469,
          -27.1759090423584,
          -14.79150104522705,
          -13.49482250213623,
          -14.585243225097656,
          -12.126815795898438,
          -11.179771423339844,
          -9.764479637145996,
          -28.1728572845459,
          -27.099149703979492,
          -25.119182586669922,
          -29.577573776245117,
          -12.781244277954102,
          -17.321575164794922,
          -11.012688636779785,
          6.300491809844971,
          -17.448408126831055,
          -9.760473251342773,
          -2.9531664848327637,
          -7.915109157562256,
          -9.91092300415039,
          -25.69464874267578,
          -14.633390426635742,
          -18.81235122680664,
          -14.794755935668945,
          -19.921703338623047,
          -26.25790786743164,
          -19.489898681640625,
          -18.293514251708984,
          -20.415197372436523,
          -14.841065406799316,
          -10.44748306274414,
          -15.410276412963867,
          -15.536942481994629,
          -20.869279861450195
         ],
         "xaxis": "x",
         "y": [
          -24.731704711914062,
          11.747023582458496,
          -21.495445251464844,
          -24.500736236572266,
          -24.3160457611084,
          -15.92358684539795,
          -19.708555221557617,
          -14.913650512695312,
          -13.645539283752441,
          -8.587118148803711,
          -14.312055587768555,
          -10.722732543945312,
          -14.340123176574707,
          -23.616708755493164,
          -12.60244083404541,
          -8.769499778747559,
          -21.705778121948242,
          -14.795695304870605,
          -18.776609420776367,
          -20.802478790283203,
          -27.51900291442871,
          27.374631881713867,
          -27.76670265197754,
          -7.905745983123779,
          -18.4737548828125,
          -19.684717178344727,
          -16.119356155395508,
          -16.114625930786133,
          -15.08532428741455,
          -17.29804039001465,
          -26.079315185546875,
          -26.004003524780273,
          -27.781784057617188,
          -16.550092697143555,
          -20.985994338989258,
          -15.498397827148438,
          -2.426023244857788,
          -22.35967445373535,
          -1.2036172151565552,
          23.730480194091797,
          -11.030076026916504,
          -14.809690475463867,
          -24.41283416748047,
          1.2903891801834106,
          -19.4604434967041,
          -20.100841522216797,
          -10.448745727539062,
          -25.623207092285156,
          -21.609416961669922,
          -20.486494064331055,
          -6.3426337242126465,
          -19.37572479248047,
          -15.669707298278809,
          -19.535593032836914,
          -20.616140365600586,
          -24.716838836669922
         ],
         "yaxis": "y"
        },
        {
         "customdata": [
          [
           "RectangleTable",
           "D00134.obj"
          ],
          [
           "RectangleTable",
           "D00187.obj"
          ],
          [
           "RectangleTable",
           "D00188.obj"
          ],
          [
           "RectangleTable",
           "D00230.obj"
          ],
          [
           "RectangleTable",
           "D00243.obj"
          ],
          [
           "RectangleTable",
           "D00295.obj"
          ],
          [
           "RectangleTable",
           "D00302.obj"
          ],
          [
           "RectangleTable",
           "D00317.obj"
          ],
          [
           "RectangleTable",
           "D00418.obj"
          ],
          [
           "RectangleTable",
           "D00421.obj"
          ],
          [
           "RectangleTable",
           "D00505.obj"
          ],
          [
           "RectangleTable",
           "D00523.obj"
          ],
          [
           "RectangleTable",
           "D00530.obj"
          ],
          [
           "RectangleTable",
           "D00571.obj"
          ],
          [
           "RectangleTable",
           "D00603.obj"
          ],
          [
           "RectangleTable",
           "D00678.obj"
          ],
          [
           "RectangleTable",
           "D00714.obj"
          ],
          [
           "RectangleTable",
           "D00766.obj"
          ],
          [
           "RectangleTable",
           "D00944.obj"
          ],
          [
           "RectangleTable",
           "D00954.obj"
          ],
          [
           "RectangleTable",
           "m763.obj"
          ],
          [
           "RectangleTable",
           "m764.obj"
          ],
          [
           "RectangleTable",
           "m765.obj"
          ],
          [
           "RectangleTable",
           "m870.obj"
          ],
          [
           "RectangleTable",
           "m871.obj"
          ],
          [
           "RectangleTable",
           "m873.obj"
          ],
          [
           "RectangleTable",
           "m874.obj"
          ],
          [
           "RectangleTable",
           "m875.obj"
          ],
          [
           "RectangleTable",
           "m876.obj"
          ],
          [
           "RectangleTable",
           "m877.obj"
          ],
          [
           "RectangleTable",
           "m878.obj"
          ],
          [
           "RectangleTable",
           "m879.obj"
          ],
          [
           "RectangleTable",
           "m881.obj"
          ],
          [
           "RectangleTable",
           "m882.obj"
          ],
          [
           "RectangleTable",
           "m883.obj"
          ],
          [
           "RectangleTable",
           "m886.obj"
          ],
          [
           "RectangleTable",
           "m887.obj"
          ],
          [
           "RectangleTable",
           "m888.obj"
          ],
          [
           "RectangleTable",
           "m890.obj"
          ],
          [
           "RectangleTable",
           "m891.obj"
          ],
          [
           "RectangleTable",
           "m892.obj"
          ],
          [
           "RectangleTable",
           "m893.obj"
          ],
          [
           "RectangleTable",
           "m894.obj"
          ],
          [
           "RectangleTable",
           "m895.obj"
          ],
          [
           "RectangleTable",
           "m896.obj"
          ],
          [
           "RectangleTable",
           "m897.obj"
          ],
          [
           "RectangleTable",
           "m898.obj"
          ],
          [
           "RectangleTable",
           "m901.obj"
          ],
          [
           "RectangleTable",
           "m902.obj"
          ],
          [
           "RectangleTable",
           "m904.obj"
          ],
          [
           "RectangleTable",
           "m905.obj"
          ],
          [
           "RectangleTable",
           "m906.obj"
          ],
          [
           "RectangleTable",
           "m907.obj"
          ],
          [
           "RectangleTable",
           "m908.obj"
          ],
          [
           "RectangleTable",
           "m910.obj"
          ],
          [
           "RectangleTable",
           "m912.obj"
          ],
          [
           "RectangleTable",
           "m913.obj"
          ],
          [
           "RectangleTable",
           "m914.obj"
          ],
          [
           "RectangleTable",
           "m915.obj"
          ],
          [
           "RectangleTable",
           "m917.obj"
          ],
          [
           "RectangleTable",
           "m919.obj"
          ],
          [
           "RectangleTable",
           "m920.obj"
          ]
         ],
         "hovertemplate": "Class=%{customdata[0]}<br>Principal Component 1=%{x}<br>Principal Component 2=%{y}<br>Name=%{customdata[1]}<extra></extra>",
         "legendgroup": "RectangleTable",
         "marker": {
          "color": "#FECB52",
          "symbol": "circle"
         },
         "mode": "markers",
         "name": "RectangleTable",
         "showlegend": true,
         "type": "scattergl",
         "x": [
          29.63033103942871,
          -6.999542236328125,
          23.397287368774414,
          34.962249755859375,
          7.613598823547363,
          -26.0538330078125,
          5.693780422210693,
          34.66598129272461,
          8.636859893798828,
          -14.355988502502441,
          10.916407585144043,
          34.93458557128906,
          -18.48225212097168,
          30.46536636352539,
          -10.235819816589355,
          37.950355529785156,
          30.738449096679688,
          13.152469635009766,
          10.803645133972168,
          19.591230392456055,
          -26.692461013793945,
          -20.82912254333496,
          -12.974651336669922,
          -24.65311622619629,
          -0.8466931581497192,
          15.337054252624512,
          -7.273556232452393,
          18.241209030151367,
          -26.30775260925293,
          1.0302941799163818,
          -30.257598876953125,
          -3.6483728885650635,
          -22.34075927734375,
          12.934965133666992,
          -27.27474021911621,
          40.19318389892578,
          1.7134613990783691,
          -25.560657501220703,
          -20.113393783569336,
          -20.557266235351562,
          -27.16695785522461,
          -9.930691719055176,
          -10.942900657653809,
          -6.730042457580566,
          4.497743129730225,
          8.205195426940918,
          18.349842071533203,
          -26.210195541381836,
          -17.33218002319336,
          2.4709620475769043,
          8.280268669128418,
          3.9211878776550293,
          -27.05660629272461,
          18.349449157714844,
          34.58615493774414,
          -23.863910675048828,
          -26.19474220275879,
          8.432321548461914,
          -21.0938663482666,
          -3.682512044906616,
          17.06997299194336,
          -13.704510688781738
         ],
         "xaxis": "x",
         "y": [
          15.670584678649902,
          24.620759963989258,
          21.49152183532715,
          6.986026763916016,
          27.534549713134766,
          -2.5504214763641357,
          27.027328491210938,
          6.311079025268555,
          27.46827507019043,
          12.77309799194336,
          25.99029541015625,
          5.168203353881836,
          14.137414932250977,
          15.5652437210083,
          -14.791834831237793,
          -1.2877795696258545,
          14.447734832763672,
          27.610795974731445,
          28.095510482788086,
          25.295284271240234,
          -19.38509750366211,
          9.815401077270508,
          20.679222106933594,
          -10.328486442565918,
          26.7374267578125,
          27.40587615966797,
          23.627155303955078,
          25.481510162353516,
          -3.3076093196868896,
          25.82234764099121,
          -24.07151222229004,
          25.353830337524414,
          -4.27325439453125,
          27.75096893310547,
          -15.183725357055664,
          -9.97519302368164,
          26.880126953125,
          -9.340245246887207,
          11.146446228027344,
          -7.689848899841309,
          -23.986886978149414,
          23.07477378845215,
          18.462526321411133,
          18.10328483581543,
          27.286636352539062,
          26.2980899810791,
          25.82656478881836,
          -2.5796239376068115,
          14.426958084106445,
          26.92058563232422,
          27.831008911132812,
          26.364315032958984,
          -19.27364730834961,
          25.826108932495117,
          7.536259651184082,
          -4.554962635040283,
          -4.207363128662109,
          25.921220779418945,
          8.787610054016113,
          25.186450958251953,
          26.87350845336914,
          19.0945987701416
         ],
         "yaxis": "y"
        },
        {
         "customdata": [
          [
           "Rocket",
           "D00015.obj"
          ],
          [
           "Rocket",
           "D00343.obj"
          ],
          [
           "Rocket",
           "D00346.obj"
          ],
          [
           "Rocket",
           "D00354.obj"
          ],
          [
           "Rocket",
           "D00426.obj"
          ],
          [
           "Rocket",
           "D00428.obj"
          ],
          [
           "Rocket",
           "D00433.obj"
          ],
          [
           "Rocket",
           "D00437.obj"
          ],
          [
           "Rocket",
           "D00472.obj"
          ],
          [
           "Rocket",
           "D00485.obj"
          ],
          [
           "Rocket",
           "D00528.obj"
          ],
          [
           "Rocket",
           "D00564.obj"
          ],
          [
           "Rocket",
           "D00585.obj"
          ],
          [
           "Rocket",
           "D00614.obj"
          ],
          [
           "Rocket",
           "D00697.obj"
          ],
          [
           "Rocket",
           "D00719.obj"
          ],
          [
           "Rocket",
           "D00764.obj"
          ],
          [
           "Rocket",
           "D00851.obj"
          ],
          [
           "Rocket",
           "D00942.obj"
          ],
          [
           "Rocket",
           "D00975.obj"
          ]
         ],
         "hovertemplate": "Class=%{customdata[0]}<br>Principal Component 1=%{x}<br>Principal Component 2=%{y}<br>Name=%{customdata[1]}<extra></extra>",
         "legendgroup": "Rocket",
         "marker": {
          "color": "#636efa",
          "symbol": "circle"
         },
         "mode": "markers",
         "name": "Rocket",
         "showlegend": true,
         "type": "scattergl",
         "x": [
          -5.528875827789307,
          -8.640260696411133,
          -3.080653190612793,
          -20.286840438842773,
          -2.3951404094696045,
          -5.271512508392334,
          -21.201231002807617,
          2.0013816356658936,
          -6.044951915740967,
          38.10809326171875,
          -13.081475257873535,
          10.173835754394531,
          -19.736595153808594,
          3.837620496749878,
          -10.542312622070312,
          -6.873405456542969,
          -1.908064603805542,
          -5.27342414855957,
          -2.851628541946411,
          -5.473690986633301
         ],
         "xaxis": "x",
         "y": [
          -11.23934555053711,
          5.486840724945068,
          -7.431285381317139,
          -25.891355514526367,
          -9.196455955505371,
          -11.933937072753906,
          -8.276954650878906,
          -5.929454326629639,
          -12.66787052154541,
          -4.595170021057129,
          -20.913511276245117,
          22.963815689086914,
          -17.646961212158203,
          -1.297343373298645,
          -1.5974172353744507,
          19.78725242614746,
          -1.9062210321426392,
          -11.93073844909668,
          17.047632217407227,
          -58.1938591003418
         ],
         "yaxis": "y"
        },
        {
         "customdata": [
          [
           "RoundTable",
           "D00083.obj"
          ],
          [
           "RoundTable",
           "D00094.obj"
          ],
          [
           "RoundTable",
           "D00107.obj"
          ],
          [
           "RoundTable",
           "D00194.obj"
          ],
          [
           "RoundTable",
           "D00344.obj"
          ],
          [
           "RoundTable",
           "D00401.obj"
          ],
          [
           "RoundTable",
           "D00407.obj"
          ],
          [
           "RoundTable",
           "D00492.obj"
          ],
          [
           "RoundTable",
           "D00501.obj"
          ],
          [
           "RoundTable",
           "D00503.obj"
          ],
          [
           "RoundTable",
           "D00524.obj"
          ],
          [
           "RoundTable",
           "D00581.obj"
          ],
          [
           "RoundTable",
           "D00646.obj"
          ],
          [
           "RoundTable",
           "D00649.obj"
          ],
          [
           "RoundTable",
           "D00702.obj"
          ],
          [
           "RoundTable",
           "D00756.obj"
          ],
          [
           "RoundTable",
           "D00827.obj"
          ],
          [
           "RoundTable",
           "D00866.obj"
          ],
          [
           "RoundTable",
           "D00909.obj"
          ],
          [
           "RoundTable",
           "D00948.obj"
          ],
          [
           "RoundTable",
           "m921.obj"
          ],
          [
           "RoundTable",
           "m922.obj"
          ],
          [
           "RoundTable",
           "m923.obj"
          ],
          [
           "RoundTable",
           "m924.obj"
          ],
          [
           "RoundTable",
           "m925.obj"
          ],
          [
           "RoundTable",
           "m926.obj"
          ],
          [
           "RoundTable",
           "m927.obj"
          ],
          [
           "RoundTable",
           "m928.obj"
          ],
          [
           "RoundTable",
           "m929.obj"
          ],
          [
           "RoundTable",
           "m930.obj"
          ],
          [
           "RoundTable",
           "m931.obj"
          ],
          [
           "RoundTable",
           "m932.obj"
          ],
          [
           "RoundTable",
           "m933.obj"
          ],
          [
           "RoundTable",
           "m934.obj"
          ],
          [
           "RoundTable",
           "m935.obj"
          ],
          [
           "RoundTable",
           "m937.obj"
          ],
          [
           "RoundTable",
           "m938.obj"
          ]
         ],
         "hovertemplate": "Class=%{customdata[0]}<br>Principal Component 1=%{x}<br>Principal Component 2=%{y}<br>Name=%{customdata[1]}<extra></extra>",
         "legendgroup": "RoundTable",
         "marker": {
          "color": "#EF553B",
          "symbol": "circle"
         },
         "mode": "markers",
         "name": "RoundTable",
         "showlegend": true,
         "type": "scattergl",
         "x": [
          41.49309158325195,
          14.007630348205566,
          40.10958480834961,
          -30.72600555419922,
          -5.399545669555664,
          -28.802871704101562,
          -29.482337951660156,
          -18.888317108154297,
          -22.34926414489746,
          -24.202804565429688,
          6.0560078620910645,
          -13.24859619140625,
          -29.433635711669922,
          35.197200775146484,
          -6.452908992767334,
          -18.608718872070312,
          18.10308837890625,
          -1.1547025442123413,
          -24.4550838470459,
          -12.621438026428223,
          -29.872587203979492,
          -26.0772705078125,
          -5.3711256980896,
          -29.452791213989258,
          -30.91590118408203,
          -30.266401290893555,
          -11.428165435791016,
          39.61159133911133,
          -30.33667755126953,
          -19.027870178222656,
          -25.376371383666992,
          -6.48314094543457,
          -4.914276123046875,
          -21.627010345458984,
          -23.476001739501953,
          -29.63299560546875,
          30.051015853881836
         ],
         "xaxis": "x",
         "y": [
          -23.96868133544922,
          27.8082218170166,
          -9.420528411865234,
          -25.556936264038086,
          25.544668197631836,
          -17.596681594848633,
          -25.127811431884766,
          12.518532752990723,
          4.684358596801758,
          -4.745414733886719,
          27.641098022460938,
          20.620698928833008,
          -27.520313262939453,
          6.353857517242432,
          25.50403594970703,
          5.348259449005127,
          26.408428192138672,
          26.63803482055664,
          1.9203877449035645,
          20.92156410217285,
          -27.862154006958008,
          -6.178929805755615,
          25.361360549926758,
          -25.042375564575195,
          -26.387081146240234,
          -24.6289005279541,
          19.083553314208984,
          -7.215242385864258,
          -24.35280990600586,
          12.08452320098877,
          0.06545022875070572,
          25.490516662597656,
          25.900476455688477,
          8.61252212524414,
          3.8132479190826416,
          -20.917858123779297,
          15.793872833251953
         ],
         "yaxis": "y"
        },
        {
         "customdata": [
          [
           "Shelf",
           "D00057.obj"
          ],
          [
           "Shelf",
           "D00074.obj"
          ],
          [
           "Shelf",
           "D00129.obj"
          ],
          [
           "Shelf",
           "D00171.obj"
          ],
          [
           "Shelf",
           "D00198.obj"
          ],
          [
           "Shelf",
           "D00242.obj"
          ],
          [
           "Shelf",
           "D00337.obj"
          ],
          [
           "Shelf",
           "D00352.obj"
          ],
          [
           "Shelf",
           "D00468.obj"
          ],
          [
           "Shelf",
           "D00592.obj"
          ],
          [
           "Shelf",
           "D00631.obj"
          ],
          [
           "Shelf",
           "D00691.obj"
          ],
          [
           "Shelf",
           "D00725.obj"
          ],
          [
           "Shelf",
           "D00772.obj"
          ],
          [
           "Shelf",
           "D00781.obj"
          ],
          [
           "Shelf",
           "D00818.obj"
          ],
          [
           "Shelf",
           "D00881.obj"
          ],
          [
           "Shelf",
           "D00887.obj"
          ],
          [
           "Shelf",
           "D00917.obj"
          ],
          [
           "Shelf",
           "D00956.obj"
          ],
          [
           "Shelf",
           "m844.obj"
          ],
          [
           "Shelf",
           "m845.obj"
          ],
          [
           "Shelf",
           "m846.obj"
          ],
          [
           "Shelf",
           "m847.obj"
          ],
          [
           "Shelf",
           "m849.obj"
          ],
          [
           "Shelf",
           "m850.obj"
          ],
          [
           "Shelf",
           "m851.obj"
          ],
          [
           "Shelf",
           "m852.obj"
          ],
          [
           "Shelf",
           "m853.obj"
          ],
          [
           "Shelf",
           "m854.obj"
          ],
          [
           "Shelf",
           "m855.obj"
          ],
          [
           "Shelf",
           "m856.obj"
          ],
          [
           "Shelf",
           "m857.obj"
          ],
          [
           "Shelf",
           "m858.obj"
          ],
          [
           "Shelf",
           "m859.obj"
          ],
          [
           "Shelf",
           "m860.obj"
          ],
          [
           "Shelf",
           "m861.obj"
          ],
          [
           "Shelf",
           "m862.obj"
          ],
          [
           "Shelf",
           "m863.obj"
          ],
          [
           "Shelf",
           "m864.obj"
          ],
          [
           "Shelf",
           "m865.obj"
          ],
          [
           "Shelf",
           "m866.obj"
          ],
          [
           "Shelf",
           "m868.obj"
          ]
         ],
         "hovertemplate": "Class=%{customdata[0]}<br>Principal Component 1=%{x}<br>Principal Component 2=%{y}<br>Name=%{customdata[1]}<extra></extra>",
         "legendgroup": "Shelf",
         "marker": {
          "color": "#00cc96",
          "symbol": "circle"
         },
         "mode": "markers",
         "name": "Shelf",
         "showlegend": true,
         "type": "scattergl",
         "x": [
          38.35124969482422,
          40.284488677978516,
          40.07476806640625,
          41.05284118652344,
          40.12328338623047,
          -9.122547149658203,
          38.09578323364258,
          27.780073165893555,
          26.002403259277344,
          39.589595794677734,
          42.26200866699219,
          40.902130126953125,
          40.99513626098633,
          41.4267692565918,
          38.511043548583984,
          34.314353942871094,
          41.361663818359375,
          37.74324417114258,
          36.36600112915039,
          31.272563934326172,
          39.491058349609375,
          -18.107046127319336,
          2.394420623779297,
          6.988600730895996,
          32.91423034667969,
          41.10163497924805,
          9.394634246826172,
          41.570159912109375,
          5.242090702056885,
          35.406394958496094,
          -28.443052291870117,
          20.2176570892334,
          23.405080795288086,
          3.8800745010375977,
          39.52272415161133,
          0.0542738251388073,
          33.53291702270508,
          0.9816316962242126,
          14.587438583374023,
          19.37915802001953,
          18.026744842529297,
          10.185063362121582,
          41.187538146972656
         ],
         "xaxis": "x",
         "y": [
          -3.3482143878936768,
          -13.241494178771973,
          -9.397133827209473,
          -14.743173599243164,
          -9.98734188079834,
          23.385517120361328,
          -1.7534557580947876,
          17.533220291137695,
          19.56734848022461,
          -7.435882568359375,
          -19.96314239501953,
          -15.095423698425293,
          -14.161094665527344,
          -24.079442977905273,
          -2.5295040607452393,
          6.7772297859191895,
          -25.108840942382812,
          -1.8656796216964722,
          3.207684278488159,
          13.565043449401855,
          -9.979915618896484,
          8.123278617858887,
          26.415807723999023,
          26.910112380981445,
          10.154386520385742,
          -16.271738052368164,
          27.763347625732422,
          -24.928409576416016,
          26.176513671875,
          5.41851806640625,
          -24.763044357299805,
          24.66227912902832,
          21.910728454589844,
          -4.9737043380737305,
          -7.788592338562012,
          26.149032592773438,
          9.248246192932129,
          26.43014144897461,
          25.81516456604004,
          23.84252166748047,
          25.24348258972168,
          27.76272964477539,
          -16.489797592163086
         ],
         "yaxis": "y"
        },
        {
         "customdata": [
          [
           "Ship",
           "D00027.obj"
          ],
          [
           "Ship",
           "D00042.obj"
          ],
          [
           "Ship",
           "D00099.obj"
          ],
          [
           "Ship",
           "D00175.obj"
          ],
          [
           "Ship",
           "D00247.obj"
          ],
          [
           "Ship",
           "D00258.obj"
          ],
          [
           "Ship",
           "D00292.obj"
          ],
          [
           "Ship",
           "D00429.obj"
          ],
          [
           "Ship",
           "D00467.obj"
          ],
          [
           "Ship",
           "D00539.obj"
          ],
          [
           "Ship",
           "D00543.obj"
          ],
          [
           "Ship",
           "D00647.obj"
          ],
          [
           "Ship",
           "D00771.obj"
          ],
          [
           "Ship",
           "D00791.obj"
          ],
          [
           "Ship",
           "D00809.obj"
          ],
          [
           "Ship",
           "D00837.obj"
          ],
          [
           "Ship",
           "D00896.obj"
          ],
          [
           "Ship",
           "D00907.obj"
          ],
          [
           "Ship",
           "D00935.obj"
          ],
          [
           "Ship",
           "D00949.obj"
          ],
          [
           "Ship",
           "m1427.obj"
          ],
          [
           "Ship",
           "m1428.obj"
          ],
          [
           "Ship",
           "m1429.obj"
          ],
          [
           "Ship",
           "m1430.obj"
          ],
          [
           "Ship",
           "m1431.obj"
          ],
          [
           "Ship",
           "m1432.obj"
          ],
          [
           "Ship",
           "m1433.obj"
          ],
          [
           "Ship",
           "m1434.obj"
          ],
          [
           "Ship",
           "m1435.obj"
          ],
          [
           "Ship",
           "m1436.obj"
          ],
          [
           "Ship",
           "m1437.obj"
          ],
          [
           "Ship",
           "m1438.obj"
          ],
          [
           "Ship",
           "m1439.obj"
          ],
          [
           "Ship",
           "m1440.obj"
          ],
          [
           "Ship",
           "m1441.obj"
          ],
          [
           "Ship",
           "m1442.obj"
          ],
          [
           "Ship",
           "m1444.obj"
          ],
          [
           "Ship",
           "m1446.obj"
          ],
          [
           "Ship",
           "m1447.obj"
          ],
          [
           "Ship",
           "m1448.obj"
          ],
          [
           "Ship",
           "m1449.obj"
          ],
          [
           "Ship",
           "m1450.obj"
          ],
          [
           "Ship",
           "m1451.obj"
          ],
          [
           "Ship",
           "m1452.obj"
          ],
          [
           "Ship",
           "m1453.obj"
          ],
          [
           "Ship",
           "m1454.obj"
          ],
          [
           "Ship",
           "m1455.obj"
          ],
          [
           "Ship",
           "m1456.obj"
          ],
          [
           "Ship",
           "m1459.obj"
          ],
          [
           "Ship",
           "m1460.obj"
          ],
          [
           "Ship",
           "m1461.obj"
          ],
          [
           "Ship",
           "m1462.obj"
          ],
          [
           "Ship",
           "m1463.obj"
          ],
          [
           "Ship",
           "m1464.obj"
          ],
          [
           "Ship",
           "m1465.obj"
          ],
          [
           "Ship",
           "m1466.obj"
          ],
          [
           "Ship",
           "m1467.obj"
          ],
          [
           "Ship",
           "m1468.obj"
          ],
          [
           "Ship",
           "m1469.obj"
          ],
          [
           "Ship",
           "m1470.obj"
          ],
          [
           "Ship",
           "m1471.obj"
          ]
         ],
         "hovertemplate": "Class=%{customdata[0]}<br>Principal Component 1=%{x}<br>Principal Component 2=%{y}<br>Name=%{customdata[1]}<extra></extra>",
         "legendgroup": "Ship",
         "marker": {
          "color": "#ab63fa",
          "symbol": "circle"
         },
         "mode": "markers",
         "name": "Ship",
         "showlegend": true,
         "type": "scattergl",
         "x": [
          -17.634368896484375,
          -12.83513355255127,
          -17.013547897338867,
          -9.048852920532227,
          -3.123462438583374,
          38.73637771606445,
          -15.899445533752441,
          -21.78302764892578,
          14.117993354797363,
          23.091039657592773,
          -3.666053533554077,
          -3.753333568572998,
          -3.1190872192382812,
          -17.36206817626953,
          -7.581955432891846,
          -3.0658233165740967,
          -16.090402603149414,
          -18.53468894958496,
          4.829909324645996,
          -13.982044219970703,
          -8.676872253417969,
          -6.887579441070557,
          -8.85470199584961,
          -5.082949161529541,
          -8.814565658569336,
          5.0114970207214355,
          -10.725811004638672,
          -9.578001976013184,
          -0.060874633491039276,
          -3.580153703689575,
          -3.019829750061035,
          -8.544276237487793,
          -4.007065773010254,
          -2.9612114429473877,
          -21.261810302734375,
          2.714003324508667,
          -11.190438270568848,
          -3.133488893508911,
          5.555886745452881,
          8.22055435180664,
          -9.424402236938477,
          25.936325073242188,
          16.901369094848633,
          7.730781078338623,
          -23.852128982543945,
          -25.889219284057617,
          -17.69884490966797,
          -14.559459686279297,
          41.74913787841797,
          38.90925598144531,
          38.12528610229492,
          41.375701904296875,
          5.49164342880249,
          7.0201544761657715,
          10.472789764404297,
          -4.908263683319092,
          -0.04457037150859833,
          2.8158364295959473,
          9.723087310791016,
          2.7486824989318848,
          -11.926268577575684
         ],
         "xaxis": "x",
         "y": [
          10.271073341369629,
          11.984635353088379,
          -21.00333595275879,
          0.020214181393384933,
          6.8868207931518555,
          -5.086553573608398,
          13.512481689453125,
          -9.098383903503418,
          -1.4180158376693726,
          18.379032135009766,
          21.55872917175293,
          -7.017856597900391,
          17.50687599182129,
          10.814720153808594,
          -0.49993085861206055,
          6.7115797996521,
          -13.21215534210205,
          8.012415885925293,
          -1.8227931261062622,
          8.494884490966797,
          7.005685806274414,
          7.340095043182373,
          1.1126872301101685,
          8.083248138427734,
          0.19270287454128265,
          -0.675153374671936,
          -2.180924654006958,
          13.871810913085938,
          25.648195266723633,
          -7.511190891265869,
          6.033176898956299,
          5.821146488189697,
          -9.218170166015625,
          17.158538818359375,
          -9.448086738586426,
          -4.6340460777282715,
          -2.770214796066284,
          6.921597003936768,
          -1.9627372026443481,
          2.0417206287384033,
          15.06472110748291,
          19.141355514526367,
          -0.49435797333717346,
          -0.8045313954353333,
          0.2878681719303131,
          -8.43563461303711,
          5.431553363800049,
          13.968409538269043,
          -23.444774627685547,
          -4.505622386932373,
          -25.88283920288086,
          -17.832151412963867,
          -3.1862785816192627,
          -1.7741178274154663,
          -0.48894715309143066,
          7.252092361450195,
          -6.118480682373047,
          -1.974420428276062,
          -0.6911532878875732,
          -5.290785312652588,
          -14.28928279876709
         ],
         "yaxis": "y"
        },
        {
         "customdata": [
          [
           "Sign",
           "m1670.obj"
          ],
          [
           "Sign",
           "m1671.obj"
          ],
          [
           "Sign",
           "m1672.obj"
          ],
          [
           "Sign",
           "m1673.obj"
          ],
          [
           "Sign",
           "m1674.obj"
          ],
          [
           "Sign",
           "m1675.obj"
          ],
          [
           "Sign",
           "m1676.obj"
          ],
          [
           "Sign",
           "m1679.obj"
          ],
          [
           "Sign",
           "m1680.obj"
          ],
          [
           "Sign",
           "m1681.obj"
          ],
          [
           "Sign",
           "m1682.obj"
          ],
          [
           "Sign",
           "m1683.obj"
          ],
          [
           "Sign",
           "m1684.obj"
          ],
          [
           "Sign",
           "m1685.obj"
          ]
         ],
         "hovertemplate": "Class=%{customdata[0]}<br>Principal Component 1=%{x}<br>Principal Component 2=%{y}<br>Name=%{customdata[1]}<extra></extra>",
         "legendgroup": "Sign",
         "marker": {
          "color": "#FFA15A",
          "symbol": "circle"
         },
         "mode": "markers",
         "name": "Sign",
         "showlegend": true,
         "type": "scattergl",
         "x": [
          16.927200317382812,
          10.870219230651855,
          17.26433563232422,
          11.940597534179688,
          9.111625671386719,
          23.550844192504883,
          35.37009811401367,
          17.897653579711914,
          18.487661361694336,
          23.506574630737305,
          39.086299896240234,
          21.110078811645508,
          5.346273899078369,
          32.582244873046875
         ],
         "xaxis": "x",
         "y": [
          -0.44017544388771057,
          0.43140870332717896,
          -3.0898611545562744,
          0.5836868286132812,
          0.6176580190658569,
          -8.46020793914795,
          -5.782701015472412,
          -3.6505088806152344,
          -1.859449028968811,
          -11.690218925476074,
          -5.711988925933838,
          23.7618465423584,
          -0.518428385257721,
          11.24783992767334
         ],
         "yaxis": "y"
        },
        {
         "customdata": [
          [
           "Skyscraper",
           "D00006.obj"
          ],
          [
           "Skyscraper",
           "D00058.obj"
          ],
          [
           "Skyscraper",
           "D00059.obj"
          ],
          [
           "Skyscraper",
           "D00105.obj"
          ],
          [
           "Skyscraper",
           "D00125.obj"
          ],
          [
           "Skyscraper",
           "D00126.obj"
          ],
          [
           "Skyscraper",
           "D00130.obj"
          ],
          [
           "Skyscraper",
           "D00259.obj"
          ],
          [
           "Skyscraper",
           "D00300.obj"
          ],
          [
           "Skyscraper",
           "D00520.obj"
          ],
          [
           "Skyscraper",
           "D00532.obj"
          ],
          [
           "Skyscraper",
           "D00584.obj"
          ],
          [
           "Skyscraper",
           "D00589.obj"
          ],
          [
           "Skyscraper",
           "D00641.obj"
          ],
          [
           "Skyscraper",
           "D00664.obj"
          ],
          [
           "Skyscraper",
           "D00729.obj"
          ],
          [
           "Skyscraper",
           "D00822.obj"
          ],
          [
           "Skyscraper",
           "D00870.obj"
          ],
          [
           "Skyscraper",
           "D00872.obj"
          ],
          [
           "Skyscraper",
           "D00998.obj"
          ]
         ],
         "hovertemplate": "Class=%{customdata[0]}<br>Principal Component 1=%{x}<br>Principal Component 2=%{y}<br>Name=%{customdata[1]}<extra></extra>",
         "legendgroup": "Skyscraper",
         "marker": {
          "color": "#19d3f3",
          "symbol": "circle"
         },
         "mode": "markers",
         "name": "Skyscraper",
         "showlegend": true,
         "type": "scattergl",
         "x": [
          40.016082763671875,
          -3.6024739742279053,
          32.281898498535156,
          10.546958923339844,
          -3.425109386444092,
          36.513668060302734,
          11.056132316589355,
          37.08980178833008,
          -16.877954483032227,
          38.02061462402344,
          39.24319839477539,
          39.82520294189453,
          -19.681184768676758,
          9.07314682006836,
          40.19887924194336,
          41.62102127075195,
          -16.070283889770508,
          42.11980438232422,
          -21.3128662109375,
          7.361164569854736
         ],
         "xaxis": "x",
         "y": [
          -8.886713981628418,
          24.90626335144043,
          12.20736026763916,
          22.754430770874023,
          19.545257568359375,
          2.042825222015381,
          23.64735221862793,
          0.3480503261089325,
          2.4089348316192627,
          -25.845495223999023,
          -6.153759956359863,
          -11.144502639770508,
          3.2404706478118896,
          25.195898056030273,
          -12.84432315826416,
          -16.628875732421875,
          -7.013167381286621,
          -19.840606689453125,
          -11.889509201049805,
          25.98712730407715
         ],
         "yaxis": "y"
        },
        {
         "customdata": [
          [
           "Spoon",
           "D00014.obj"
          ],
          [
           "Spoon",
           "D00085.obj"
          ],
          [
           "Spoon",
           "D00144.obj"
          ],
          [
           "Spoon",
           "D00157.obj"
          ],
          [
           "Spoon",
           "D00196.obj"
          ],
          [
           "Spoon",
           "D00338.obj"
          ],
          [
           "Spoon",
           "D00422.obj"
          ],
          [
           "Spoon",
           "D00474.obj"
          ],
          [
           "Spoon",
           "D00497.obj"
          ],
          [
           "Spoon",
           "D00517.obj"
          ],
          [
           "Spoon",
           "D00562.obj"
          ],
          [
           "Spoon",
           "D00593.obj"
          ],
          [
           "Spoon",
           "D00661.obj"
          ],
          [
           "Spoon",
           "D00669.obj"
          ],
          [
           "Spoon",
           "D00674.obj"
          ],
          [
           "Spoon",
           "D00683.obj"
          ],
          [
           "Spoon",
           "D00790.obj"
          ],
          [
           "Spoon",
           "D00842.obj"
          ],
          [
           "Spoon",
           "D00927.obj"
          ],
          [
           "Spoon",
           "D00964.obj"
          ]
         ],
         "hovertemplate": "Class=%{customdata[0]}<br>Principal Component 1=%{x}<br>Principal Component 2=%{y}<br>Name=%{customdata[1]}<extra></extra>",
         "legendgroup": "Spoon",
         "marker": {
          "color": "#FF6692",
          "symbol": "circle"
         },
         "mode": "markers",
         "name": "Spoon",
         "showlegend": true,
         "type": "scattergl",
         "x": [
          18.387929916381836,
          28.00167465209961,
          41.47373580932617,
          17.946924209594727,
          23.520349502563477,
          17.320777893066406,
          13.970087051391602,
          26.883623123168945,
          25.611675262451172,
          30.634485244750977,
          20.576129913330078,
          22.119945526123047,
          40.57189178466797,
          -5.5927863121032715,
          12.444169044494629,
          -17.256826400756836,
          12.892374038696289,
          18.67594337463379,
          29.51874542236328,
          38.56238555908203
         ],
         "xaxis": "x",
         "y": [
          -0.5315380692481995,
          10.75139331817627,
          -24.019166946411133,
          -2.3423290252685547,
          -8.730181694030762,
          23.92743682861328,
          0.5629472732543945,
          11.265534400939941,
          11.600852012634277,
          9.986261367797852,
          24.16228675842285,
          -7.314990043640137,
          -14.804400444030762,
          23.02393341064453,
          3.0741665363311768,
          7.102789878845215,
          1.918484091758728,
          -2.6615207195281982,
          7.596492290496826,
          -8.397238731384277
         ],
         "yaxis": "y"
        },
        {
         "customdata": [
          [
           "Starship",
           "m1353.obj"
          ],
          [
           "Starship",
           "m1354.obj"
          ],
          [
           "Starship",
           "m1355.obj"
          ],
          [
           "Starship",
           "m1356.obj"
          ],
          [
           "Starship",
           "m1357.obj"
          ],
          [
           "Starship",
           "m1358.obj"
          ],
          [
           "Starship",
           "m1359.obj"
          ],
          [
           "Starship",
           "m1360.obj"
          ],
          [
           "Starship",
           "m1361.obj"
          ],
          [
           "Starship",
           "m1362.obj"
          ],
          [
           "Starship",
           "m1364.obj"
          ],
          [
           "Starship",
           "m1365.obj"
          ],
          [
           "Starship",
           "m1366.obj"
          ],
          [
           "Starship",
           "m1368.obj"
          ],
          [
           "Starship",
           "m1369.obj"
          ],
          [
           "Starship",
           "m1370.obj"
          ],
          [
           "Starship",
           "m1371.obj"
          ],
          [
           "Starship",
           "m1372.obj"
          ],
          [
           "Starship",
           "m1373.obj"
          ],
          [
           "Starship",
           "m1374.obj"
          ],
          [
           "Starship",
           "m1375.obj"
          ],
          [
           "Starship",
           "m1376.obj"
          ],
          [
           "Starship",
           "m1378.obj"
          ],
          [
           "Starship",
           "m1379.obj"
          ],
          [
           "Starship",
           "m1380.obj"
          ],
          [
           "Starship",
           "m1381.obj"
          ],
          [
           "Starship",
           "m1382.obj"
          ],
          [
           "Starship",
           "m1383.obj"
          ],
          [
           "Starship",
           "m1385.obj"
          ],
          [
           "Starship",
           "m1386.obj"
          ]
         ],
         "hovertemplate": "Class=%{customdata[0]}<br>Principal Component 1=%{x}<br>Principal Component 2=%{y}<br>Name=%{customdata[1]}<extra></extra>",
         "legendgroup": "Starship",
         "marker": {
          "color": "#B6E880",
          "symbol": "circle"
         },
         "mode": "markers",
         "name": "Starship",
         "showlegend": true,
         "type": "scattergl",
         "x": [
          1.2210283279418945,
          -16.898324966430664,
          -16.953615188598633,
          -1.9978952407836914,
          13.852453231811523,
          14.370121955871582,
          -23.061073303222656,
          20.136890411376953,
          -1.3803815841674805,
          -6.041464328765869,
          26.683198928833008,
          39.814613342285156,
          10.295496940612793,
          11.80197811126709,
          -12.163670539855957,
          -14.937564849853516,
          33.97294616699219,
          -2.2932252883911133,
          1.2902048826217651,
          11.557792663574219,
          -17.688512802124023,
          -1.181860327720642,
          41.62263488769531,
          24.067073822021484,
          -25.573043823242188,
          17.604047775268555,
          -25.544536590576172,
          -9.713370323181152,
          -29.1418399810791,
          -25.79239845275879
         ],
         "xaxis": "x",
         "y": [
          26.026975631713867,
          13.65939712524414,
          8.04047966003418,
          16.849136352539062,
          21.96630859375,
          26.63135528564453,
          3.5665671825408936,
          23.76687240600586,
          -1.0745207071304321,
          17.2048397064209,
          18.642475128173828,
          -8.789741516113281,
          26.81218910217285,
          20.87786102294922,
          14.282974243164062,
          2.1541149616241455,
          8.15659236907959,
          16.306264877319336,
          26.296823501586914,
          22.98154640197754,
          13.42691707611084,
          -7.271295070648193,
          -16.60761260986328,
          19.4970703125,
          -2.734623432159424,
          26.45706558227539,
          -26.64560890197754,
          23.629287719726562,
          -19.971736907958984,
          -9.546833038330078
         ],
         "yaxis": "y"
        },
        {
         "customdata": [
          [
           "SubmachineGun",
           "D00060.obj"
          ],
          [
           "SubmachineGun",
           "D00062.obj"
          ],
          [
           "SubmachineGun",
           "D00064.obj"
          ],
          [
           "SubmachineGun",
           "D00068.obj"
          ],
          [
           "SubmachineGun",
           "D00119.obj"
          ],
          [
           "SubmachineGun",
           "D00219.obj"
          ],
          [
           "SubmachineGun",
           "D00256.obj"
          ],
          [
           "SubmachineGun",
           "D00371.obj"
          ],
          [
           "SubmachineGun",
           "D00384.obj"
          ],
          [
           "SubmachineGun",
           "D00431.obj"
          ],
          [
           "SubmachineGun",
           "D00459.obj"
          ],
          [
           "SubmachineGun",
           "D00489.obj"
          ],
          [
           "SubmachineGun",
           "D00537.obj"
          ],
          [
           "SubmachineGun",
           "D00613.obj"
          ],
          [
           "SubmachineGun",
           "D00733.obj"
          ],
          [
           "SubmachineGun",
           "D00878.obj"
          ],
          [
           "SubmachineGun",
           "D00893.obj"
          ],
          [
           "SubmachineGun",
           "D00960.obj"
          ],
          [
           "SubmachineGun",
           "D00970.obj"
          ]
         ],
         "hovertemplate": "Class=%{customdata[0]}<br>Principal Component 1=%{x}<br>Principal Component 2=%{y}<br>Name=%{customdata[1]}<extra></extra>",
         "legendgroup": "SubmachineGun",
         "marker": {
          "color": "#FF97FF",
          "symbol": "circle"
         },
         "mode": "markers",
         "name": "SubmachineGun",
         "showlegend": true,
         "type": "scattergl",
         "x": [
          18.506900787353516,
          6.681083679199219,
          -5.627275466918945,
          16.76082420349121,
          12.20488166809082,
          12.844107627868652,
          -2.9309520721435547,
          9.610884666442871,
          20.54000473022461,
          15.977893829345703,
          17.28266716003418,
          7.510588645935059,
          18.53630256652832,
          11.25735092163086,
          13.468247413635254,
          14.748229026794434,
          10.724031448364258,
          11.019967079162598,
          18.04347801208496
         ],
         "xaxis": "x",
         "y": [
          -2.7282910346984863,
          1.8383374214172363,
          18.412078857421875,
          -2.712078809738159,
          1.6762419939041138,
          -0.4243016839027405,
          5.448347091674805,
          23.166549682617188,
          -6.288532733917236,
          -0.5640371441841125,
          -1.5496714115142822,
          -0.39995551109313965,
          -3.228097915649414,
          -0.2500419616699219,
          0.10198325663805008,
          -0.9505100250244141,
          -0.28921592235565186,
          -0.4306258261203766,
          -3.3358592987060547
         ],
         "yaxis": "y"
        },
        {
         "customdata": [
          [
           "Sword",
           "D00066.obj"
          ],
          [
           "Sword",
           "D00071.obj"
          ],
          [
           "Sword",
           "D00133.obj"
          ],
          [
           "Sword",
           "D00149.obj"
          ],
          [
           "Sword",
           "D00162.obj"
          ],
          [
           "Sword",
           "D00177.obj"
          ],
          [
           "Sword",
           "D00195.obj"
          ],
          [
           "Sword",
           "D00249.obj"
          ],
          [
           "Sword",
           "D00356.obj"
          ],
          [
           "Sword",
           "D00484.obj"
          ],
          [
           "Sword",
           "D00513.obj"
          ],
          [
           "Sword",
           "D00540.obj"
          ],
          [
           "Sword",
           "D00635.obj"
          ],
          [
           "Sword",
           "D00712.obj"
          ],
          [
           "Sword",
           "D00807.obj"
          ],
          [
           "Sword",
           "D00812.obj"
          ],
          [
           "Sword",
           "D00906.obj"
          ],
          [
           "Sword",
           "D00916.obj"
          ],
          [
           "Sword",
           "D00992.obj"
          ],
          [
           "Sword",
           "m687.obj"
          ],
          [
           "Sword",
           "m688.obj"
          ],
          [
           "Sword",
           "m689.obj"
          ],
          [
           "Sword",
           "m690.obj"
          ],
          [
           "Sword",
           "m691.obj"
          ],
          [
           "Sword",
           "m692.obj"
          ],
          [
           "Sword",
           "m693.obj"
          ],
          [
           "Sword",
           "m694.obj"
          ],
          [
           "Sword",
           "m695.obj"
          ],
          [
           "Sword",
           "m696.obj"
          ],
          [
           "Sword",
           "m697.obj"
          ],
          [
           "Sword",
           "m698.obj"
          ],
          [
           "Sword",
           "m699.obj"
          ],
          [
           "Sword",
           "m700.obj"
          ],
          [
           "Sword",
           "m701.obj"
          ],
          [
           "Sword",
           "m702.obj"
          ],
          [
           "Sword",
           "m703.obj"
          ],
          [
           "Sword",
           "m704.obj"
          ],
          [
           "Sword",
           "m705.obj"
          ],
          [
           "Sword",
           "m707.obj"
          ],
          [
           "Sword",
           "m709.obj"
          ],
          [
           "Sword",
           "m710.obj"
          ],
          [
           "Sword",
           "m711.obj"
          ],
          [
           "Sword",
           "m712.obj"
          ],
          [
           "Sword",
           "m713.obj"
          ],
          [
           "Sword",
           "m714.obj"
          ],
          [
           "Sword",
           "m715.obj"
          ],
          [
           "Sword",
           "m716.obj"
          ],
          [
           "Sword",
           "m717.obj"
          ],
          [
           "Sword",
           "m718.obj"
          ],
          [
           "Sword",
           "m719.obj"
          ],
          [
           "Sword",
           "m720.obj"
          ],
          [
           "Sword",
           "m721.obj"
          ]
         ],
         "hovertemplate": "Class=%{customdata[0]}<br>Principal Component 1=%{x}<br>Principal Component 2=%{y}<br>Name=%{customdata[1]}<extra></extra>",
         "legendgroup": "Sword",
         "marker": {
          "color": "#FECB52",
          "symbol": "circle"
         },
         "mode": "markers",
         "name": "Sword",
         "showlegend": true,
         "type": "scattergl",
         "x": [
          31.53403663635254,
          -3.064162254333496,
          13.571088790893555,
          19.799646377563477,
          23.237510681152344,
          -2.5259172916412354,
          42.096893310546875,
          13.508881568908691,
          6.682857513427734,
          21.826255798339844,
          18.75668716430664,
          22.739547729492188,
          17.913022994995117,
          22.308216094970703,
          23.29171371459961,
          23.036977767944336,
          8.73580265045166,
          23.377779006958008,
          14.516012191772461,
          20.05155372619629,
          -8.346881866455078,
          8.232674598693848,
          17.3969669342041,
          21.41425895690918,
          23.095741271972656,
          22.920108795166016,
          18.42978858947754,
          12.720015525817871,
          2.4988996982574463,
          23.5590763092041,
          19.127178192138672,
          18.8055477142334,
          21.09430694580078,
          23.410993576049805,
          22.92287826538086,
          23.287336349487305,
          23.057443618774414,
          12.845015525817871,
          21.521530151367188,
          21.782073974609375,
          21.232213973999023,
          20.24437713623047,
          23.24449920654297,
          22.57196807861328,
          23.5590763092041,
          2.4988887310028076,
          22.48573112487793,
          36.9337272644043,
          25.206619262695312,
          -5.233793258666992,
          20.625244140625,
          13.61825942993164
         ],
         "xaxis": "x",
         "y": [
          7.053109645843506,
          6.9346394538879395,
          22.416048049926758,
          -5.179401397705078,
          -9.524263381958008,
          16.97350311279297,
          -17.97812271118164,
          2.2716774940490723,
          26.387523651123047,
          -7.052112102508545,
          -0.5677258968353271,
          -8.979522705078125,
          -2.483351469039917,
          -7.852512359619141,
          -10.493274688720703,
          -9.451553344726562,
          23.477258682250977,
          -11.059072494506836,
          24.03742790222168,
          -5.693170547485352,
          7.726330280303955,
          0.8898693919181824,
          20.929502487182617,
          -6.388286590576172,
          -9.55152702331543,
          -9.327527046203613,
          -2.1419196128845215,
          24.01864242553711,
          26.702383041381836,
          -11.956888198852539,
          -3.0625874996185303,
          -3.8789303302764893,
          -6.855040550231934,
          -11.26005744934082,
          -8.406607627868652,
          -10.451215744018555,
          -9.542588233947754,
          2.516836404800415,
          -6.619105815887451,
          -6.98397159576416,
          18.18824577331543,
          -5.220613956451416,
          -9.91252326965332,
          -8.682754516601562,
          -11.956888198852539,
          26.702375411987305,
          -8.17125415802002,
          -20.866374969482422,
          -8.0362548828125,
          -9.577630043029785,
          -6.343788146972656,
          -1.2521438598632812
         ],
         "yaxis": "y"
        },
        {
         "customdata": [
          [
           "Tool",
           "D01003.obj"
          ],
          [
           "Tool",
           "D01012.obj"
          ],
          [
           "Tool",
           "D01040.obj"
          ],
          [
           "Tool",
           "D01044.obj"
          ],
          [
           "Tool",
           "D01069.obj"
          ],
          [
           "Tool",
           "D01084.obj"
          ],
          [
           "Tool",
           "D01086.obj"
          ],
          [
           "Tool",
           "D01111.obj"
          ],
          [
           "Tool",
           "D01113.obj"
          ],
          [
           "Tool",
           "D01127.obj"
          ],
          [
           "Tool",
           "D01131.obj"
          ],
          [
           "Tool",
           "D01140.obj"
          ],
          [
           "Tool",
           "D01142.obj"
          ],
          [
           "Tool",
           "D01148.obj"
          ],
          [
           "Tool",
           "D01152.obj"
          ],
          [
           "Tool",
           "D01154.obj"
          ],
          [
           "Tool",
           "D01156.obj"
          ],
          [
           "Tool",
           "D01159.obj"
          ],
          [
           "Tool",
           "D01165.obj"
          ],
          [
           "Tool",
           "D01176.obj"
          ],
          [
           "Tool",
           "m1099.obj"
          ],
          [
           "Tool",
           "m1100.obj"
          ],
          [
           "Tool",
           "m1101.obj"
          ],
          [
           "Tool",
           "m1102.obj"
          ],
          [
           "Tool",
           "m1103.obj"
          ],
          [
           "Tool",
           "m1104.obj"
          ],
          [
           "Tool",
           "m1105.obj"
          ],
          [
           "Tool",
           "m1106.obj"
          ],
          [
           "Tool",
           "m1107.obj"
          ],
          [
           "Tool",
           "m1108.obj"
          ],
          [
           "Tool",
           "m1109.obj"
          ],
          [
           "Tool",
           "m1110.obj"
          ],
          [
           "Tool",
           "m1111.obj"
          ],
          [
           "Tool",
           "m1112.obj"
          ],
          [
           "Tool",
           "m1113.obj"
          ],
          [
           "Tool",
           "m1114.obj"
          ],
          [
           "Tool",
           "m1115.obj"
          ],
          [
           "Tool",
           "m1116.obj"
          ],
          [
           "Tool",
           "m1117.obj"
          ],
          [
           "Tool",
           "m589.obj"
          ],
          [
           "Tool",
           "m590.obj"
          ],
          [
           "Tool",
           "m591.obj"
          ]
         ],
         "hovertemplate": "Class=%{customdata[0]}<br>Principal Component 1=%{x}<br>Principal Component 2=%{y}<br>Name=%{customdata[1]}<extra></extra>",
         "legendgroup": "Tool",
         "marker": {
          "color": "#636efa",
          "symbol": "circle"
         },
         "mode": "markers",
         "name": "Tool",
         "showlegend": true,
         "type": "scattergl",
         "x": [
          5.9805521965026855,
          3.7471296787261963,
          0.5220382213592529,
          0.9193352460861206,
          -0.9061045050621033,
          1.09666907787323,
          4.857855796813965,
          4.031950950622559,
          5.027701377868652,
          -0.6869996190071106,
          1.613547444343567,
          0.02844158373773098,
          1.9152696132659912,
          3.22770619392395,
          4.094715118408203,
          -0.2703569233417511,
          1.871894359588623,
          1.951357126235962,
          4.681316375732422,
          5.1207194328308105,
          18.167631149291992,
          12.027664184570312,
          19.74772071838379,
          23.428749084472656,
          15.544114112854004,
          16.585041046142578,
          15.681634902954102,
          38.220245361328125,
          16.128902435302734,
          19.664905548095703,
          1.3740252256393433,
          4.737716197967529,
          6.594917297363281,
          20.64920425415039,
          5.0035552978515625,
          15.002635955810547,
          9.97021198272705,
          16.006567001342773,
          13.984030723571777,
          -7.835131645202637,
          -16.266725540161133,
          -8.748208045959473
         ],
         "xaxis": "x",
         "y": [
          -2.5553903579711914,
          -4.002604961395264,
          -6.510989189147949,
          -6.1865081787109375,
          -7.2802276611328125,
          -6.270901203155518,
          -3.2080109119415283,
          -3.7685844898223877,
          -3.1035797595977783,
          -7.207794666290283,
          -5.8764801025390625,
          -6.85934591293335,
          -5.257636547088623,
          -4.448225498199463,
          -3.3279213905334473,
          -7.0247802734375,
          -5.440755367279053,
          -5.427230358123779,
          -2.8464505672454834,
          -3.1861863136291504,
          -0.8883351683616638,
          22.024391174316406,
          -5.261291027069092,
          -7.541592597961426,
          -1.2959703207015991,
          -1.9113614559173584,
          -1.7360649108886719,
          -7.196901321411133,
          -1.9447352886199951,
          -2.663274049758911,
          -6.104733943939209,
          -3.469460964202881,
          -1.919594168663025,
          17.920686721801758,
          -3.0568625926971436,
          -1.9195958375930786,
          -0.6706939339637756,
          -2.271338701248169,
          -1.2896121740341187,
          23.205039978027344,
          6.432638645172119,
          13.139151573181152
         ],
         "yaxis": "y"
        },
        {
         "customdata": [
          [
           "Train",
           "D01008.obj"
          ],
          [
           "Train",
           "D01014.obj"
          ],
          [
           "Train",
           "D01016.obj"
          ],
          [
           "Train",
           "D01031.obj"
          ],
          [
           "Train",
           "D01035.obj"
          ],
          [
           "Train",
           "D01047.obj"
          ],
          [
           "Train",
           "D01055.obj"
          ],
          [
           "Train",
           "D01059.obj"
          ],
          [
           "Train",
           "D01061.obj"
          ],
          [
           "Train",
           "D01064.obj"
          ],
          [
           "Train",
           "D01089.obj"
          ],
          [
           "Train",
           "D01094.obj"
          ],
          [
           "Train",
           "D01095.obj"
          ],
          [
           "Train",
           "D01134.obj"
          ],
          [
           "Train",
           "D01137.obj"
          ],
          [
           "Train",
           "D01149.obj"
          ],
          [
           "Train",
           "D01163.obj"
          ],
          [
           "Train",
           "D01180.obj"
          ],
          [
           "Train",
           "m1578.obj"
          ],
          [
           "Train",
           "m1580.obj"
          ],
          [
           "Train",
           "m1581.obj"
          ],
          [
           "Train",
           "m1582.obj"
          ],
          [
           "Train",
           "m1583.obj"
          ],
          [
           "Train",
           "m1584.obj"
          ],
          [
           "Train",
           "m1585.obj"
          ],
          [
           "Train",
           "m1586.obj"
          ],
          [
           "Train",
           "m1587.obj"
          ],
          [
           "Train",
           "m1588.obj"
          ]
         ],
         "hovertemplate": "Class=%{customdata[0]}<br>Principal Component 1=%{x}<br>Principal Component 2=%{y}<br>Name=%{customdata[1]}<extra></extra>",
         "legendgroup": "Train",
         "marker": {
          "color": "#EF553B",
          "symbol": "circle"
         },
         "mode": "markers",
         "name": "Train",
         "showlegend": true,
         "type": "scattergl",
         "x": [
          41.88642120361328,
          42.29681396484375,
          42.29387664794922,
          16.73850440979004,
          -9.295754432678223,
          42.064483642578125,
          42.02398681640625,
          34.41034698486328,
          39.03181076049805,
          37.62894821166992,
          -16.985803604125977,
          -12.339034080505371,
          -15.573539733886719,
          11.587632179260254,
          42.22053146362305,
          39.859580993652344,
          19.88473129272461,
          37.84382629394531,
          -15.642068862915039,
          21.789688110351562,
          -8.307196617126465,
          -6.703367710113525,
          -15.857526779174805,
          -26.89005470275879,
          37.49639892578125,
          35.551483154296875,
          11.121511459350586,
          -17.290185928344727
         ],
         "xaxis": "x",
         "y": [
          -22.728668212890625,
          -21.5902099609375,
          -21.08966064453125,
          23.833593368530273,
          -11.995867729187012,
          -24.0970458984375,
          -17.937885284423828,
          6.463987350463867,
          -25.856945037841797,
          -0.10690672695636749,
          -11.113784790039062,
          3.341651439666748,
          -8.626466751098633,
          22.84052276611328,
          -20.864734649658203,
          -25.65216064453125,
          24.634719848632812,
          -2.1561505794525146,
          -14.677892684936523,
          23.052156448364258,
          -10.152351379394531,
          -6.737830638885498,
          14.982076644897461,
          -19.678537368774414,
          0.5537407994270325,
          5.092599868774414,
          27.869922637939453,
          7.980151176452637
         ],
         "yaxis": "y"
        },
        {
         "customdata": [
          [
           "Tree",
           "D00096.obj"
          ],
          [
           "Tree",
           "D00200.obj"
          ],
          [
           "Tree",
           "D00221.obj"
          ],
          [
           "Tree",
           "D00223.obj"
          ],
          [
           "Tree",
           "D00367.obj"
          ],
          [
           "Tree",
           "D00385.obj"
          ],
          [
           "Tree",
           "D00393.obj"
          ],
          [
           "Tree",
           "D00439.obj"
          ],
          [
           "Tree",
           "D00456.obj"
          ],
          [
           "Tree",
           "D00479.obj"
          ],
          [
           "Tree",
           "D00533.obj"
          ],
          [
           "Tree",
           "D00573.obj"
          ],
          [
           "Tree",
           "D00612.obj"
          ],
          [
           "Tree",
           "D00727.obj"
          ],
          [
           "Tree",
           "D00765.obj"
          ],
          [
           "Tree",
           "D00777.obj"
          ],
          [
           "Tree",
           "D00810.obj"
          ],
          [
           "Tree",
           "D00834.obj"
          ],
          [
           "Tree",
           "D00911.obj"
          ],
          [
           "Tree",
           "D00996.obj"
          ],
          [
           "Tree",
           "m1050.obj"
          ],
          [
           "Tree",
           "m1062.obj"
          ],
          [
           "Tree",
           "m1063.obj"
          ],
          [
           "Tree",
           "m1064.obj"
          ],
          [
           "Tree",
           "m1065.obj"
          ],
          [
           "Tree",
           "m1066.obj"
          ],
          [
           "Tree",
           "m1067.obj"
          ],
          [
           "Tree",
           "m1068.obj"
          ],
          [
           "Tree",
           "m1069.obj"
          ],
          [
           "Tree",
           "m1070.obj"
          ],
          [
           "Tree",
           "m1071.obj"
          ],
          [
           "Tree",
           "m1072.obj"
          ],
          [
           "Tree",
           "m1075.obj"
          ],
          [
           "Tree",
           "m1077.obj"
          ],
          [
           "Tree",
           "m1078.obj"
          ],
          [
           "Tree",
           "m1079.obj"
          ],
          [
           "Tree",
           "m1082.obj"
          ],
          [
           "Tree",
           "m1086.obj"
          ],
          [
           "Tree",
           "m1089.obj"
          ],
          [
           "Tree",
           "m1090.obj"
          ],
          [
           "Tree",
           "m1091.obj"
          ],
          [
           "Tree",
           "m1092.obj"
          ],
          [
           "Tree",
           "m1093.obj"
          ],
          [
           "Tree",
           "m1095.obj"
          ],
          [
           "Tree",
           "m1096.obj"
          ],
          [
           "Tree",
           "m1097.obj"
          ],
          [
           "Tree",
           "m1098.obj"
          ]
         ],
         "hovertemplate": "Class=%{customdata[0]}<br>Principal Component 1=%{x}<br>Principal Component 2=%{y}<br>Name=%{customdata[1]}<extra></extra>",
         "legendgroup": "Tree",
         "marker": {
          "color": "#00cc96",
          "symbol": "circle"
         },
         "mode": "markers",
         "name": "Tree",
         "showlegend": true,
         "type": "scattergl",
         "x": [
          41.01040267944336,
          42.34966278076172,
          41.07498550415039,
          42.04145812988281,
          -28.410737991333008,
          -22.6431884765625,
          41.90835952758789,
          41.25077438354492,
          38.02627182006836,
          40.134891510009766,
          36.8133430480957,
          40.46888732910156,
          41.79302215576172,
          41.34925079345703,
          42.226261138916016,
          39.02943801879883,
          39.0760498046875,
          40.275856018066406,
          41.81978988647461,
          37.062339782714844,
          35.38901138305664,
          32.06838607788086,
          40.70513153076172,
          -28.02008056640625,
          -25.766918182373047,
          40.21969223022461,
          31.204492568969727,
          -20.04097557067871,
          36.70854187011719,
          -15.358997344970703,
          32.07951736450195,
          -22.472431182861328,
          -11.239297866821289,
          -15.359614372253418,
          -7.986509799957275,
          -13.97615909576416,
          -23.051279067993164,
          37.386043548583984,
          -5.088681221008301,
          37.980003356933594,
          -27.914785385131836,
          0.5809263586997986,
          -25.695667266845703,
          41.09148025512695,
          -18.28765296936035,
          37.46696090698242,
          -26.598682403564453
         ],
         "xaxis": "x",
         "y": [
          -14.299955368041992,
          -23.13382339477539,
          -24.608667373657227,
          -18.070968627929688,
          -19.455081939697266,
          6.825354099273682,
          -22.68340492248535,
          -25.157377243041992,
          -25.84804916381836,
          -9.911783218383789,
          -24.91678237915039,
          -25.44659996032715,
          -23.24126625061035,
          -25.110082626342773,
          -21.510940551757812,
          -4.788132190704346,
          -25.845478057861328,
          -10.9868803024292,
          -23.564449310302734,
          -25.271726608276367,
          5.869137287139893,
          12.69035530090332,
          -13.030264854431152,
          -27.50452423095703,
          -14.899800300598145,
          -13.110262870788574,
          14.23409366607666,
          11.849163055419922,
          2.6480913162231445,
          -14.657060623168945,
          12.885507583618164,
          -21.565515518188477,
          8.523818016052246,
          17.648523330688477,
          0.6514712572097778,
          -9.88296127319336,
          -21.82796287536621,
          -19.259380340576172,
          -9.463705062866211,
          -1.3151060342788696,
          -27.447404861450195,
          27.099363327026367,
          -2.1022398471832275,
          -14.647848129272461,
          -24.686460494995117,
          -26.215394973754883,
          -9.490267753601074
         ],
         "yaxis": "y"
        },
        {
         "customdata": [
          [
           "Truck",
           "D00002.obj"
          ],
          [
           "Truck",
           "D00003.obj"
          ],
          [
           "Truck",
           "D00010.obj"
          ],
          [
           "Truck",
           "D00029.obj"
          ],
          [
           "Truck",
           "D00047.obj"
          ],
          [
           "Truck",
           "D00112.obj"
          ],
          [
           "Truck",
           "D00158.obj"
          ],
          [
           "Truck",
           "D00241.obj"
          ],
          [
           "Truck",
           "D00287.obj"
          ],
          [
           "Truck",
           "D00303.obj"
          ],
          [
           "Truck",
           "D00331.obj"
          ],
          [
           "Truck",
           "D00406.obj"
          ],
          [
           "Truck",
           "D00424.obj"
          ],
          [
           "Truck",
           "D00518.obj"
          ],
          [
           "Truck",
           "D00804.obj"
          ],
          [
           "Truck",
           "D00835.obj"
          ],
          [
           "Truck",
           "D00926.obj"
          ],
          [
           "Truck",
           "D00947.obj"
          ],
          [
           "Truck",
           "D00987.obj"
          ],
          [
           "Truck",
           "m1570.obj"
          ],
          [
           "Truck",
           "m1571.obj"
          ],
          [
           "Truck",
           "m1572.obj"
          ],
          [
           "Truck",
           "m1573.obj"
          ],
          [
           "Truck",
           "m1574.obj"
          ],
          [
           "Truck",
           "m1575.obj"
          ]
         ],
         "hovertemplate": "Class=%{customdata[0]}<br>Principal Component 1=%{x}<br>Principal Component 2=%{y}<br>Name=%{customdata[1]}<extra></extra>",
         "legendgroup": "Truck",
         "marker": {
          "color": "#ab63fa",
          "symbol": "circle"
         },
         "mode": "markers",
         "name": "Truck",
         "showlegend": true,
         "type": "scattergl",
         "x": [
          -18.174062728881836,
          36.98784255981445,
          -13.781658172607422,
          39.76862716674805,
          -3.6973044872283936,
          36.61314392089844,
          34.54388427734375,
          -15.118073463439941,
          37.30911636352539,
          37.35786819458008,
          39.53010177612305,
          -23.596786499023438,
          -7.733762264251709,
          15.280105590820312,
          36.1767692565918,
          42.33163833618164,
          36.84543228149414,
          -12.875381469726562,
          22.379417419433594,
          -16.42121696472168,
          36.805076599121094,
          -0.026783818379044533,
          -20.378314971923828,
          -23.142398834228516,
          33.458656311035156
         ],
         "xaxis": "x",
         "y": [
          9.063592910766602,
          0.8071901798248291,
          9.120548248291016,
          -10.537531852722168,
          18.701566696166992,
          1.305129051208496,
          6.636289119720459,
          1.0357228517532349,
          -0.31434565782546997,
          -25.52654457092285,
          -12.68800163269043,
          -9.614545822143555,
          7.610536098480225,
          25.98198699951172,
          2.9497454166412354,
          -23.149005889892578,
          -21.245407104492188,
          20.216657638549805,
          22.36455535888672,
          -8.31892204284668,
          1.079561710357666,
          -4.940952301025391,
          -10.625344276428223,
          2.447758913040161,
          9.599252700805664
         ],
         "yaxis": "y"
        },
        {
         "customdata": [
          [
           "TruckNonContainer",
           "D00055.obj"
          ],
          [
           "TruckNonContainer",
           "D00143.obj"
          ],
          [
           "TruckNonContainer",
           "D00252.obj"
          ],
          [
           "TruckNonContainer",
           "D00266.obj"
          ],
          [
           "TruckNonContainer",
           "D00267.obj"
          ],
          [
           "TruckNonContainer",
           "D00275.obj"
          ],
          [
           "TruckNonContainer",
           "D00283.obj"
          ],
          [
           "TruckNonContainer",
           "D00353.obj"
          ],
          [
           "TruckNonContainer",
           "D00553.obj"
          ],
          [
           "TruckNonContainer",
           "D00572.obj"
          ],
          [
           "TruckNonContainer",
           "D00608.obj"
          ],
          [
           "TruckNonContainer",
           "D00619.obj"
          ],
          [
           "TruckNonContainer",
           "D00699.obj"
          ],
          [
           "TruckNonContainer",
           "D00731.obj"
          ],
          [
           "TruckNonContainer",
           "D00783.obj"
          ],
          [
           "TruckNonContainer",
           "D00943.obj"
          ]
         ],
         "hovertemplate": "Class=%{customdata[0]}<br>Principal Component 1=%{x}<br>Principal Component 2=%{y}<br>Name=%{customdata[1]}<extra></extra>",
         "legendgroup": "TruckNonContainer",
         "marker": {
          "color": "#FFA15A",
          "symbol": "circle"
         },
         "mode": "markers",
         "name": "TruckNonContainer",
         "showlegend": true,
         "type": "scattergl",
         "x": [
          36.04690170288086,
          38.670902252197266,
          -5.080961227416992,
          39.1430549621582,
          24.05327796936035,
          39.541664123535156,
          18.08987045288086,
          41.67745590209961,
          19.70041847229004,
          28.622983932495117,
          23.45964241027832,
          22.001251220703125,
          39.669952392578125,
          40.40556716918945,
          36.386417388916016,
          34.112056732177734
         ],
         "xaxis": "x",
         "y": [
          3.8023529052734375,
          -3.854008674621582,
          25.265565872192383,
          -6.571022033691406,
          21.195524215698242,
          -10.11308479309082,
          26.346649169921875,
          -16.783226013183594,
          24.757795333862305,
          16.72438621520996,
          21.67445182800293,
          22.814517974853516,
          -10.388375282287598,
          -14.016130447387695,
          1.8926693201065063,
          7.651647567749023
         ],
         "yaxis": "y"
        },
        {
         "customdata": [
          [
           "Vase",
           "m527.obj"
          ],
          [
           "Vase",
           "m528.obj"
          ],
          [
           "Vase",
           "m531.obj"
          ],
          [
           "Vase",
           "m532.obj"
          ],
          [
           "Vase",
           "m533.obj"
          ],
          [
           "Vase",
           "m534.obj"
          ],
          [
           "Vase",
           "m535.obj"
          ],
          [
           "Vase",
           "m536.obj"
          ],
          [
           "Vase",
           "m537.obj"
          ],
          [
           "Vase",
           "m538.obj"
          ],
          [
           "Vase",
           "m539.obj"
          ],
          [
           "Vase",
           "m540.obj"
          ],
          [
           "Vase",
           "m541.obj"
          ],
          [
           "Vase",
           "m542.obj"
          ],
          [
           "Vase",
           "m543.obj"
          ],
          [
           "Vase",
           "m544.obj"
          ],
          [
           "Vase",
           "m545.obj"
          ],
          [
           "Vase",
           "m546.obj"
          ],
          [
           "Vase",
           "m547.obj"
          ]
         ],
         "hovertemplate": "Class=%{customdata[0]}<br>Principal Component 1=%{x}<br>Principal Component 2=%{y}<br>Name=%{customdata[1]}<extra></extra>",
         "legendgroup": "Vase",
         "marker": {
          "color": "#19d3f3",
          "symbol": "circle"
         },
         "mode": "markers",
         "name": "Vase",
         "showlegend": true,
         "type": "scattergl",
         "x": [
          -32.82260513305664,
          32.828369140625,
          -8.998205184936523,
          -19.43834114074707,
          -25.989931106567383,
          15.006442070007324,
          -29.897382736206055,
          -26.70159912109375,
          -27.465675354003906,
          42.08047866821289,
          -31.124658584594727,
          -26.59745979309082,
          -33.32487869262695,
          -22.80293083190918,
          41.3707275390625,
          -18.273460388183594,
          -19.544898986816406,
          -17.94508934020996,
          -18.73490333557129
         ],
         "xaxis": "x",
         "y": [
          -28.09726333618164,
          11.326285362243652,
          21.96834945678711,
          -25.292705535888672,
          -4.508861541748047,
          27.670766830444336,
          -26.79522132873535,
          -27.9608154296875,
          -28.128074645996094,
          -18.4508056640625,
          -28.643037796020508,
          -2.55481219291687,
          -26.184772491455078,
          6.4166998863220215,
          -17.190397262573242,
          14.022705078125,
          11.299755096435547,
          14.697171211242676,
          13.755804061889648
         ],
         "yaxis": "y"
        },
        {
         "customdata": [
          [
           "Violin",
           "D00108.obj"
          ],
          [
           "Violin",
           "D00216.obj"
          ],
          [
           "Violin",
           "D00250.obj"
          ],
          [
           "Violin",
           "D00324.obj"
          ],
          [
           "Violin",
           "D00340.obj"
          ],
          [
           "Violin",
           "D00349.obj"
          ],
          [
           "Violin",
           "D00358.obj"
          ],
          [
           "Violin",
           "D00376.obj"
          ],
          [
           "Violin",
           "D00506.obj"
          ],
          [
           "Violin",
           "D00570.obj"
          ],
          [
           "Violin",
           "D00598.obj"
          ],
          [
           "Violin",
           "D00602.obj"
          ],
          [
           "Violin",
           "D00620.obj"
          ],
          [
           "Violin",
           "D00701.obj"
          ],
          [
           "Violin",
           "D00704.obj"
          ],
          [
           "Violin",
           "D00743.obj"
          ],
          [
           "Violin",
           "D00891.obj"
          ],
          [
           "Violin",
           "D00898.obj"
          ],
          [
           "Violin",
           "D00993.obj"
          ]
         ],
         "hovertemplate": "Class=%{customdata[0]}<br>Principal Component 1=%{x}<br>Principal Component 2=%{y}<br>Name=%{customdata[1]}<extra></extra>",
         "legendgroup": "Violin",
         "marker": {
          "color": "#FF6692",
          "symbol": "circle"
         },
         "mode": "markers",
         "name": "Violin",
         "showlegend": true,
         "type": "scattergl",
         "x": [
          14.438743591308594,
          -4.9905290603637695,
          4.380540370941162,
          36.02750015258789,
          10.421425819396973,
          1.2366929054260254,
          8.338212966918945,
          9.705211639404297,
          0.15125775337219238,
          5.184620380401611,
          17.289892196655273,
          -3.3652665615081787,
          36.74217987060547,
          29.888151168823242,
          -7.1446661949157715,
          -0.7159718871116638,
          11.50151538848877,
          10.750815391540527,
          30.20290184020996
         ],
         "xaxis": "x",
         "y": [
          -0.46224743127822876,
          5.396602153778076,
          -0.2099839150905609,
          2.948240041732788,
          -0.2011028677225113,
          -3.1994738578796387,
          1.629730224609375,
          -0.27003031969070435,
          -4.816895484924316,
          -0.06576870381832123,
          -1.35728919506073,
          6.097810745239258,
          0.15427802503108978,
          9.78023910522461,
          11.6311674118042,
          -2.784623861312866,
          0.5351808667182922,
          22.450960159301758,
          14.356639862060547
         ],
         "yaxis": "y"
        },
        {
         "customdata": [
          [
           "Wheel",
           "m733.obj"
          ],
          [
           "Wheel",
           "m734.obj"
          ],
          [
           "Wheel",
           "m735.obj"
          ],
          [
           "Wheel",
           "m736.obj"
          ],
          [
           "Wheel",
           "m738.obj"
          ],
          [
           "Wheel",
           "m739.obj"
          ],
          [
           "Wheel",
           "m740.obj"
          ],
          [
           "Wheel",
           "m741.obj"
          ],
          [
           "Wheel",
           "m742.obj"
          ],
          [
           "Wheel",
           "m743.obj"
          ],
          [
           "Wheel",
           "m744.obj"
          ],
          [
           "Wheel",
           "m745.obj"
          ],
          [
           "Wheel",
           "m746.obj"
          ],
          [
           "Wheel",
           "m747.obj"
          ],
          [
           "Wheel",
           "m748.obj"
          ],
          [
           "Wheel",
           "m749.obj"
          ]
         ],
         "hovertemplate": "Class=%{customdata[0]}<br>Principal Component 1=%{x}<br>Principal Component 2=%{y}<br>Name=%{customdata[1]}<extra></extra>",
         "legendgroup": "Wheel",
         "marker": {
          "color": "#B6E880",
          "symbol": "circle"
         },
         "mode": "markers",
         "name": "Wheel",
         "showlegend": true,
         "type": "scattergl",
         "x": [
          -20.963823318481445,
          -9.264328956604004,
          13.161127090454102,
          39.425018310546875,
          -26.46442985534668,
          -28.35970115661621,
          8.68896770477295,
          -32.33202362060547,
          -4.909433841705322,
          -7.356198310852051,
          -27.874582290649414,
          -28.035844802856445,
          42.08437728881836,
          -14.561051368713379,
          -25.13633918762207,
          -13.199674606323242
         ],
         "xaxis": "x",
         "y": [
          7.831358909606934,
          15.036636352539062,
          20.442432403564453,
          -9.640974998474121,
          -19.489978790283203,
          -18.35873031616211,
          28.003986358642578,
          -23.511789321899414,
          -11.549339294433594,
          -8.00318717956543,
          -17.16998863220215,
          -20.801441192626953,
          -22.219453811645508,
          -15.731313705444336,
          -17.08939552307129,
          -12.732664108276367
         ],
         "yaxis": "y"
        },
        {
         "customdata": [
          [
           "WheelChair",
           "D00004.obj"
          ],
          [
           "WheelChair",
           "D00070.obj"
          ],
          [
           "WheelChair",
           "D00088.obj"
          ],
          [
           "WheelChair",
           "D00183.obj"
          ],
          [
           "WheelChair",
           "D00203.obj"
          ],
          [
           "WheelChair",
           "D00274.obj"
          ],
          [
           "WheelChair",
           "D00290.obj"
          ],
          [
           "WheelChair",
           "D00365.obj"
          ],
          [
           "WheelChair",
           "D00394.obj"
          ],
          [
           "WheelChair",
           "D00449.obj"
          ],
          [
           "WheelChair",
           "D00453.obj"
          ],
          [
           "WheelChair",
           "D00499.obj"
          ],
          [
           "WheelChair",
           "D00526.obj"
          ],
          [
           "WheelChair",
           "D00604.obj"
          ],
          [
           "WheelChair",
           "D00628.obj"
          ],
          [
           "WheelChair",
           "D00687.obj"
          ],
          [
           "WheelChair",
           "D00720.obj"
          ],
          [
           "WheelChair",
           "D00782.obj"
          ],
          [
           "WheelChair",
           "D00821.obj"
          ],
          [
           "WheelChair",
           "D00846.obj"
          ]
         ],
         "hovertemplate": "Class=%{customdata[0]}<br>Principal Component 1=%{x}<br>Principal Component 2=%{y}<br>Name=%{customdata[1]}<extra></extra>",
         "legendgroup": "WheelChair",
         "marker": {
          "color": "#FF97FF",
          "symbol": "circle"
         },
         "mode": "markers",
         "name": "WheelChair",
         "showlegend": true,
         "type": "scattergl",
         "x": [
          -21.804149627685547,
          -25.907129287719727,
          -25.434751510620117,
          -15.504807472229004,
          -5.794459819793701,
          -15.055644989013672,
          -24.598779678344727,
          -25.190155029296875,
          -14.411240577697754,
          41.388057708740234,
          -23.779029846191406,
          -14.633655548095703,
          37.14653778076172,
          -23.333101272583008,
          28.98257827758789,
          -5.788248062133789,
          -25.037778854370117,
          -25.57573890686035,
          -5.789767265319824,
          -0.904289722442627
         ],
         "xaxis": "x",
         "y": [
          7.456048488616943,
          -3.2987515926361084,
          -0.5682839751243591,
          16.918867111206055,
          25.4917049407959,
          17.588714599609375,
          -1.1682771444320679,
          -5.409101486206055,
          19.011693954467773,
          -24.3270320892334,
          2.8400039672851562,
          18.48593521118164,
          1.9404023885726929,
          3.0946969985961914,
          16.891857147216797,
          24.966388702392578,
          -2.038728713989258,
          -2.424022674560547,
          24.967100143432617,
          26.4232177734375
         ],
         "yaxis": "y"
        }
       ],
       "layout": {
        "legend": {
         "title": {
          "text": "Class"
         },
         "tracegroupgap": 0
        },
        "template": {
         "data": {
          "bar": [
           {
            "error_x": {
             "color": "#2a3f5f"
            },
            "error_y": {
             "color": "#2a3f5f"
            },
            "marker": {
             "line": {
              "color": "#E5ECF6",
              "width": 0.5
             },
             "pattern": {
              "fillmode": "overlay",
              "size": 10,
              "solidity": 0.2
             }
            },
            "type": "bar"
           }
          ],
          "barpolar": [
           {
            "marker": {
             "line": {
              "color": "#E5ECF6",
              "width": 0.5
             },
             "pattern": {
              "fillmode": "overlay",
              "size": 10,
              "solidity": 0.2
             }
            },
            "type": "barpolar"
           }
          ],
          "carpet": [
           {
            "aaxis": {
             "endlinecolor": "#2a3f5f",
             "gridcolor": "white",
             "linecolor": "white",
             "minorgridcolor": "white",
             "startlinecolor": "#2a3f5f"
            },
            "baxis": {
             "endlinecolor": "#2a3f5f",
             "gridcolor": "white",
             "linecolor": "white",
             "minorgridcolor": "white",
             "startlinecolor": "#2a3f5f"
            },
            "type": "carpet"
           }
          ],
          "choropleth": [
           {
            "colorbar": {
             "outlinewidth": 0,
             "ticks": ""
            },
            "type": "choropleth"
           }
          ],
          "contour": [
           {
            "colorbar": {
             "outlinewidth": 0,
             "ticks": ""
            },
            "colorscale": [
             [
              0,
              "#0d0887"
             ],
             [
              0.1111111111111111,
              "#46039f"
             ],
             [
              0.2222222222222222,
              "#7201a8"
             ],
             [
              0.3333333333333333,
              "#9c179e"
             ],
             [
              0.4444444444444444,
              "#bd3786"
             ],
             [
              0.5555555555555556,
              "#d8576b"
             ],
             [
              0.6666666666666666,
              "#ed7953"
             ],
             [
              0.7777777777777778,
              "#fb9f3a"
             ],
             [
              0.8888888888888888,
              "#fdca26"
             ],
             [
              1,
              "#f0f921"
             ]
            ],
            "type": "contour"
           }
          ],
          "contourcarpet": [
           {
            "colorbar": {
             "outlinewidth": 0,
             "ticks": ""
            },
            "type": "contourcarpet"
           }
          ],
          "heatmap": [
           {
            "colorbar": {
             "outlinewidth": 0,
             "ticks": ""
            },
            "colorscale": [
             [
              0,
              "#0d0887"
             ],
             [
              0.1111111111111111,
              "#46039f"
             ],
             [
              0.2222222222222222,
              "#7201a8"
             ],
             [
              0.3333333333333333,
              "#9c179e"
             ],
             [
              0.4444444444444444,
              "#bd3786"
             ],
             [
              0.5555555555555556,
              "#d8576b"
             ],
             [
              0.6666666666666666,
              "#ed7953"
             ],
             [
              0.7777777777777778,
              "#fb9f3a"
             ],
             [
              0.8888888888888888,
              "#fdca26"
             ],
             [
              1,
              "#f0f921"
             ]
            ],
            "type": "heatmap"
           }
          ],
          "heatmapgl": [
           {
            "colorbar": {
             "outlinewidth": 0,
             "ticks": ""
            },
            "colorscale": [
             [
              0,
              "#0d0887"
             ],
             [
              0.1111111111111111,
              "#46039f"
             ],
             [
              0.2222222222222222,
              "#7201a8"
             ],
             [
              0.3333333333333333,
              "#9c179e"
             ],
             [
              0.4444444444444444,
              "#bd3786"
             ],
             [
              0.5555555555555556,
              "#d8576b"
             ],
             [
              0.6666666666666666,
              "#ed7953"
             ],
             [
              0.7777777777777778,
              "#fb9f3a"
             ],
             [
              0.8888888888888888,
              "#fdca26"
             ],
             [
              1,
              "#f0f921"
             ]
            ],
            "type": "heatmapgl"
           }
          ],
          "histogram": [
           {
            "marker": {
             "pattern": {
              "fillmode": "overlay",
              "size": 10,
              "solidity": 0.2
             }
            },
            "type": "histogram"
           }
          ],
          "histogram2d": [
           {
            "colorbar": {
             "outlinewidth": 0,
             "ticks": ""
            },
            "colorscale": [
             [
              0,
              "#0d0887"
             ],
             [
              0.1111111111111111,
              "#46039f"
             ],
             [
              0.2222222222222222,
              "#7201a8"
             ],
             [
              0.3333333333333333,
              "#9c179e"
             ],
             [
              0.4444444444444444,
              "#bd3786"
             ],
             [
              0.5555555555555556,
              "#d8576b"
             ],
             [
              0.6666666666666666,
              "#ed7953"
             ],
             [
              0.7777777777777778,
              "#fb9f3a"
             ],
             [
              0.8888888888888888,
              "#fdca26"
             ],
             [
              1,
              "#f0f921"
             ]
            ],
            "type": "histogram2d"
           }
          ],
          "histogram2dcontour": [
           {
            "colorbar": {
             "outlinewidth": 0,
             "ticks": ""
            },
            "colorscale": [
             [
              0,
              "#0d0887"
             ],
             [
              0.1111111111111111,
              "#46039f"
             ],
             [
              0.2222222222222222,
              "#7201a8"
             ],
             [
              0.3333333333333333,
              "#9c179e"
             ],
             [
              0.4444444444444444,
              "#bd3786"
             ],
             [
              0.5555555555555556,
              "#d8576b"
             ],
             [
              0.6666666666666666,
              "#ed7953"
             ],
             [
              0.7777777777777778,
              "#fb9f3a"
             ],
             [
              0.8888888888888888,
              "#fdca26"
             ],
             [
              1,
              "#f0f921"
             ]
            ],
            "type": "histogram2dcontour"
           }
          ],
          "mesh3d": [
           {
            "colorbar": {
             "outlinewidth": 0,
             "ticks": ""
            },
            "type": "mesh3d"
           }
          ],
          "parcoords": [
           {
            "line": {
             "colorbar": {
              "outlinewidth": 0,
              "ticks": ""
             }
            },
            "type": "parcoords"
           }
          ],
          "pie": [
           {
            "automargin": true,
            "type": "pie"
           }
          ],
          "scatter": [
           {
            "fillpattern": {
             "fillmode": "overlay",
             "size": 10,
             "solidity": 0.2
            },
            "type": "scatter"
           }
          ],
          "scatter3d": [
           {
            "line": {
             "colorbar": {
              "outlinewidth": 0,
              "ticks": ""
             }
            },
            "marker": {
             "colorbar": {
              "outlinewidth": 0,
              "ticks": ""
             }
            },
            "type": "scatter3d"
           }
          ],
          "scattercarpet": [
           {
            "marker": {
             "colorbar": {
              "outlinewidth": 0,
              "ticks": ""
             }
            },
            "type": "scattercarpet"
           }
          ],
          "scattergeo": [
           {
            "marker": {
             "colorbar": {
              "outlinewidth": 0,
              "ticks": ""
             }
            },
            "type": "scattergeo"
           }
          ],
          "scattergl": [
           {
            "marker": {
             "colorbar": {
              "outlinewidth": 0,
              "ticks": ""
             }
            },
            "type": "scattergl"
           }
          ],
          "scattermapbox": [
           {
            "marker": {
             "colorbar": {
              "outlinewidth": 0,
              "ticks": ""
             }
            },
            "type": "scattermapbox"
           }
          ],
          "scatterpolar": [
           {
            "marker": {
             "colorbar": {
              "outlinewidth": 0,
              "ticks": ""
             }
            },
            "type": "scatterpolar"
           }
          ],
          "scatterpolargl": [
           {
            "marker": {
             "colorbar": {
              "outlinewidth": 0,
              "ticks": ""
             }
            },
            "type": "scatterpolargl"
           }
          ],
          "scatterternary": [
           {
            "marker": {
             "colorbar": {
              "outlinewidth": 0,
              "ticks": ""
             }
            },
            "type": "scatterternary"
           }
          ],
          "surface": [
           {
            "colorbar": {
             "outlinewidth": 0,
             "ticks": ""
            },
            "colorscale": [
             [
              0,
              "#0d0887"
             ],
             [
              0.1111111111111111,
              "#46039f"
             ],
             [
              0.2222222222222222,
              "#7201a8"
             ],
             [
              0.3333333333333333,
              "#9c179e"
             ],
             [
              0.4444444444444444,
              "#bd3786"
             ],
             [
              0.5555555555555556,
              "#d8576b"
             ],
             [
              0.6666666666666666,
              "#ed7953"
             ],
             [
              0.7777777777777778,
              "#fb9f3a"
             ],
             [
              0.8888888888888888,
              "#fdca26"
             ],
             [
              1,
              "#f0f921"
             ]
            ],
            "type": "surface"
           }
          ],
          "table": [
           {
            "cells": {
             "fill": {
              "color": "#EBF0F8"
             },
             "line": {
              "color": "white"
             }
            },
            "header": {
             "fill": {
              "color": "#C8D4E3"
             },
             "line": {
              "color": "white"
             }
            },
            "type": "table"
           }
          ]
         },
         "layout": {
          "annotationdefaults": {
           "arrowcolor": "#2a3f5f",
           "arrowhead": 0,
           "arrowwidth": 1
          },
          "autotypenumbers": "strict",
          "coloraxis": {
           "colorbar": {
            "outlinewidth": 0,
            "ticks": ""
           }
          },
          "colorscale": {
           "diverging": [
            [
             0,
             "#8e0152"
            ],
            [
             0.1,
             "#c51b7d"
            ],
            [
             0.2,
             "#de77ae"
            ],
            [
             0.3,
             "#f1b6da"
            ],
            [
             0.4,
             "#fde0ef"
            ],
            [
             0.5,
             "#f7f7f7"
            ],
            [
             0.6,
             "#e6f5d0"
            ],
            [
             0.7,
             "#b8e186"
            ],
            [
             0.8,
             "#7fbc41"
            ],
            [
             0.9,
             "#4d9221"
            ],
            [
             1,
             "#276419"
            ]
           ],
           "sequential": [
            [
             0,
             "#0d0887"
            ],
            [
             0.1111111111111111,
             "#46039f"
            ],
            [
             0.2222222222222222,
             "#7201a8"
            ],
            [
             0.3333333333333333,
             "#9c179e"
            ],
            [
             0.4444444444444444,
             "#bd3786"
            ],
            [
             0.5555555555555556,
             "#d8576b"
            ],
            [
             0.6666666666666666,
             "#ed7953"
            ],
            [
             0.7777777777777778,
             "#fb9f3a"
            ],
            [
             0.8888888888888888,
             "#fdca26"
            ],
            [
             1,
             "#f0f921"
            ]
           ],
           "sequentialminus": [
            [
             0,
             "#0d0887"
            ],
            [
             0.1111111111111111,
             "#46039f"
            ],
            [
             0.2222222222222222,
             "#7201a8"
            ],
            [
             0.3333333333333333,
             "#9c179e"
            ],
            [
             0.4444444444444444,
             "#bd3786"
            ],
            [
             0.5555555555555556,
             "#d8576b"
            ],
            [
             0.6666666666666666,
             "#ed7953"
            ],
            [
             0.7777777777777778,
             "#fb9f3a"
            ],
            [
             0.8888888888888888,
             "#fdca26"
            ],
            [
             1,
             "#f0f921"
            ]
           ]
          },
          "colorway": [
           "#636efa",
           "#EF553B",
           "#00cc96",
           "#ab63fa",
           "#FFA15A",
           "#19d3f3",
           "#FF6692",
           "#B6E880",
           "#FF97FF",
           "#FECB52"
          ],
          "font": {
           "color": "#2a3f5f"
          },
          "geo": {
           "bgcolor": "white",
           "lakecolor": "white",
           "landcolor": "#E5ECF6",
           "showlakes": true,
           "showland": true,
           "subunitcolor": "white"
          },
          "hoverlabel": {
           "align": "left"
          },
          "hovermode": "closest",
          "mapbox": {
           "style": "light"
          },
          "paper_bgcolor": "white",
          "plot_bgcolor": "#E5ECF6",
          "polar": {
           "angularaxis": {
            "gridcolor": "white",
            "linecolor": "white",
            "ticks": ""
           },
           "bgcolor": "#E5ECF6",
           "radialaxis": {
            "gridcolor": "white",
            "linecolor": "white",
            "ticks": ""
           }
          },
          "scene": {
           "xaxis": {
            "backgroundcolor": "#E5ECF6",
            "gridcolor": "white",
            "gridwidth": 2,
            "linecolor": "white",
            "showbackground": true,
            "ticks": "",
            "zerolinecolor": "white"
           },
           "yaxis": {
            "backgroundcolor": "#E5ECF6",
            "gridcolor": "white",
            "gridwidth": 2,
            "linecolor": "white",
            "showbackground": true,
            "ticks": "",
            "zerolinecolor": "white"
           },
           "zaxis": {
            "backgroundcolor": "#E5ECF6",
            "gridcolor": "white",
            "gridwidth": 2,
            "linecolor": "white",
            "showbackground": true,
            "ticks": "",
            "zerolinecolor": "white"
           }
          },
          "shapedefaults": {
           "line": {
            "color": "#2a3f5f"
           }
          },
          "ternary": {
           "aaxis": {
            "gridcolor": "white",
            "linecolor": "white",
            "ticks": ""
           },
           "baxis": {
            "gridcolor": "white",
            "linecolor": "white",
            "ticks": ""
           },
           "bgcolor": "#E5ECF6",
           "caxis": {
            "gridcolor": "white",
            "linecolor": "white",
            "ticks": ""
           }
          },
          "title": {
           "x": 0.05
          },
          "xaxis": {
           "automargin": true,
           "gridcolor": "white",
           "linecolor": "white",
           "ticks": "",
           "title": {
            "standoff": 15
           },
           "zerolinecolor": "white",
           "zerolinewidth": 2
          },
          "yaxis": {
           "automargin": true,
           "gridcolor": "white",
           "linecolor": "white",
           "ticks": "",
           "title": {
            "standoff": 15
           },
           "zerolinecolor": "white",
           "zerolinewidth": 2
          }
         }
        },
        "title": {
         "text": "TSNE-P perplexity - 60"
        },
        "xaxis": {
         "anchor": "y",
         "domain": [
          0,
          1
         ],
         "title": {
          "text": "Principal Component 1"
         }
        },
        "yaxis": {
         "anchor": "x",
         "domain": [
          0,
          1
         ],
         "title": {
          "text": "Principal Component 2"
         }
        }
       }
      }
     },
     "metadata": {},
     "output_type": "display_data"
    }
   ],
   "source": [
    "X_embedded = TSNE(n_components=2, learning_rate='auto',init='random', perplexity=60).fit_transform(X)\n",
    "tsne_df = pd.DataFrame(data=X_embedded, columns=['PCA1', 'PCA2'])\n",
    "tsne_df['Class'] = Y['class']  # Add the class labels\n",
    "tsne_df['Name']=Y[\"mesh_name\"]\n",
    "\n",
    "plot_data2(tsne_df,\"PCA1\",\"PCA2\",subset=None,title=\"TSNE-P perplexity - 60\",html_filename=\"plot_tsne_perplexity_60_complete.html\")"
   ]
  },
  {
   "cell_type": "code",
   "execution_count": 39,
   "metadata": {},
   "outputs": [
    {
     "name": "stderr",
     "output_type": "stream",
     "text": [
      "d:\\Programms\\Anaconda\\envs\\infomr\\lib\\site-packages\\sklearn\\manifold\\_t_sne.py:106: RuntimeWarning:\n",
      "\n",
      "overflow encountered in cast\n",
      "\n"
     ]
    },
    {
     "name": "stdout",
     "output_type": "stream",
     "text": [
      "Plot saved as plot_tsne_selected_perplexity_60.html\n"
     ]
    },
    {
     "data": {
      "application/vnd.plotly.v1+json": {
       "config": {
        "plotlyServerURL": "https://plot.ly"
       },
       "data": [
        {
         "customdata": [
          [
           "Biplane",
           "D00069.obj"
          ],
          [
           "Biplane",
           "D00132.obj"
          ],
          [
           "Biplane",
           "D00178.obj"
          ],
          [
           "Biplane",
           "D00199.obj"
          ],
          [
           "Biplane",
           "D00246.obj"
          ],
          [
           "Biplane",
           "D00276.obj"
          ],
          [
           "Biplane",
           "D00277.obj"
          ],
          [
           "Biplane",
           "D00320.obj"
          ],
          [
           "Biplane",
           "D00373.obj"
          ],
          [
           "Biplane",
           "D00410.obj"
          ],
          [
           "Biplane",
           "D00490.obj"
          ],
          [
           "Biplane",
           "D00515.obj"
          ],
          [
           "Biplane",
           "D00601.obj"
          ],
          [
           "Biplane",
           "D00616.obj"
          ],
          [
           "Biplane",
           "D00632.obj"
          ],
          [
           "Biplane",
           "D00634.obj"
          ],
          [
           "Biplane",
           "D00666.obj"
          ],
          [
           "Biplane",
           "D00854.obj"
          ],
          [
           "Biplane",
           "D00890.obj"
          ],
          [
           "Biplane",
           "D00900.obj"
          ],
          [
           "Biplane",
           "m1118.obj"
          ],
          [
           "Biplane",
           "m1119.obj"
          ],
          [
           "Biplane",
           "m1120.obj"
          ],
          [
           "Biplane",
           "m1121.obj"
          ],
          [
           "Biplane",
           "m1122.obj"
          ],
          [
           "Biplane",
           "m1123.obj"
          ],
          [
           "Biplane",
           "m1124.obj"
          ],
          [
           "Biplane",
           "m1126.obj"
          ],
          [
           "Biplane",
           "m1127.obj"
          ],
          [
           "Biplane",
           "m1128.obj"
          ],
          [
           "Biplane",
           "m1129.obj"
          ],
          [
           "Biplane",
           "m1131.obj"
          ],
          [
           "Biplane",
           "m1132.obj"
          ],
          [
           "Biplane",
           "m1133.obj"
          ],
          [
           "Biplane",
           "m1134.obj"
          ],
          [
           "Biplane",
           "m1135.obj"
          ],
          [
           "Biplane",
           "m1136.obj"
          ],
          [
           "Biplane",
           "m1137.obj"
          ],
          [
           "Biplane",
           "m1138.obj"
          ],
          [
           "Biplane",
           "m1139.obj"
          ],
          [
           "Biplane",
           "m1141.obj"
          ],
          [
           "Biplane",
           "m1143.obj"
          ],
          [
           "Biplane",
           "m1144.obj"
          ],
          [
           "Biplane",
           "m1146.obj"
          ]
         ],
         "hovertemplate": "Class=%{customdata[0]}<br>Principal Component 1=%{x}<br>Principal Component 2=%{y}<br>Name=%{customdata[1]}<extra></extra>",
         "legendgroup": "Biplane",
         "marker": {
          "color": "#636efa",
          "symbol": "circle"
         },
         "mode": "markers",
         "name": "Biplane",
         "orientation": "v",
         "showlegend": true,
         "type": "scatter",
         "x": [
          -10.225902557373047,
          13.378019332885742,
          11.8147554397583,
          8.118637084960938,
          -21.95157814025879,
          20.60428810119629,
          0.4289936423301697,
          9.161267280578613,
          20.234508514404297,
          19.582454681396484,
          -7.674078464508057,
          21.08119773864746,
          22.442825317382812,
          9.6851224899292,
          20.084335327148438,
          4.6068830490112305,
          17.790935516357422,
          -17.13688087463379,
          -14.411175727844238,
          -0.33058109879493713,
          -21.71997833251953,
          19.93964385986328,
          -21.821767807006836,
          -22.125324249267578,
          7.44291353225708,
          19.438217163085938,
          -19.87049102783203,
          21.338499069213867,
          18.39447784423828,
          18.988889694213867,
          17.515640258789062,
          19.830041885375977,
          -9.124903678894043,
          21.69677734375,
          12.862398147583008,
          5.40055513381958,
          15.341392517089844,
          -19.69599151611328,
          13.618597984313965,
          -11.924503326416016,
          10.583470344543457,
          -19.822418212890625,
          -0.7792354226112366,
          5.986154079437256
         ],
         "xaxis": "x",
         "y": [
          48.560150146484375,
          22.596572875976562,
          26.0754337310791,
          27.96865463256836,
          37.86764907836914,
          -1.5902714729309082,
          28.007591247558594,
          27.677886962890625,
          3.49560284614563,
          10.09758186340332,
          27.179309844970703,
          11.64167308807373,
          4.793538570404053,
          26.74509620666504,
          -0.9663884043693542,
          28.293441772460938,
          -2.2611289024353027,
          27.1824893951416,
          51.98776626586914,
          27.7933349609375,
          34.139556884765625,
          15.340642929077148,
          39.08279800415039,
          36.419647216796875,
          28.087621688842773,
          15.451120376586914,
          28.997314453125,
          9.20374584197998,
          -1.8742091655731201,
          15.67866325378418,
          19.38915252685547,
          1.9397541284561157,
          26.83525276184082,
          6.40685510635376,
          21.133148193359375,
          27.615392684936523,
          23.099868774414062,
          28.553150177001953,
          25.142610549926758,
          26.43047523498535,
          27.387834548950195,
          42.045623779296875,
          27.790937423706055,
          -8.279684066772461
         ],
         "yaxis": "y"
        },
        {
         "customdata": [
          [
           "Chess",
           "D01017.obj"
          ],
          [
           "Chess",
           "D01019.obj"
          ],
          [
           "Chess",
           "D01021.obj"
          ],
          [
           "Chess",
           "D01043.obj"
          ],
          [
           "Chess",
           "D01045.obj"
          ],
          [
           "Chess",
           "D01049.obj"
          ],
          [
           "Chess",
           "D01053.obj"
          ],
          [
           "Chess",
           "D01080.obj"
          ],
          [
           "Chess",
           "D01081.obj"
          ],
          [
           "Chess",
           "D01099.obj"
          ],
          [
           "Chess",
           "D01105.obj"
          ],
          [
           "Chess",
           "D01112.obj"
          ],
          [
           "Chess",
           "D01123.obj"
          ],
          [
           "Chess",
           "D01126.obj"
          ],
          [
           "Chess",
           "D01130.obj"
          ],
          [
           "Chess",
           "D01138.obj"
          ],
          [
           "Chess",
           "D01145.obj"
          ],
          [
           "Chess",
           "D01171.obj"
          ],
          [
           "Chess",
           "D01186.obj"
          ],
          [
           "Chess",
           "D01188.obj"
          ],
          [
           "Chess",
           "m1589.obj"
          ],
          [
           "Chess",
           "m1591.obj"
          ],
          [
           "Chess",
           "m1593.obj"
          ],
          [
           "Chess",
           "m1595.obj"
          ],
          [
           "Chess",
           "m1596.obj"
          ],
          [
           "Chess",
           "m1598.obj"
          ],
          [
           "Chess",
           "m1599.obj"
          ],
          [
           "Chess",
           "m1600.obj"
          ],
          [
           "Chess",
           "m1601.obj"
          ],
          [
           "Chess",
           "m1602.obj"
          ],
          [
           "Chess",
           "m1603.obj"
          ],
          [
           "Chess",
           "m1604.obj"
          ],
          [
           "Chess",
           "m1605.obj"
          ],
          [
           "Chess",
           "m1606.obj"
          ],
          [
           "Chess",
           "m1607.obj"
          ],
          [
           "Chess",
           "m1608.obj"
          ],
          [
           "Chess",
           "m1609.obj"
          ],
          [
           "Chess",
           "m1610.obj"
          ],
          [
           "Chess",
           "m1611.obj"
          ],
          [
           "Chess",
           "m1612.obj"
          ],
          [
           "Chess",
           "m1613.obj"
          ],
          [
           "Chess",
           "m1614.obj"
          ]
         ],
         "hovertemplate": "Class=%{customdata[0]}<br>Principal Component 1=%{x}<br>Principal Component 2=%{y}<br>Name=%{customdata[1]}<extra></extra>",
         "legendgroup": "Chess",
         "marker": {
          "color": "#EF553B",
          "symbol": "circle"
         },
         "mode": "markers",
         "name": "Chess",
         "orientation": "v",
         "showlegend": true,
         "type": "scatter",
         "x": [
          0.10318568348884583,
          -3.8137965202331543,
          -3.995112419128418,
          -6.699094772338867,
          -4.42407751083374,
          -4.8727264404296875,
          2.3034560680389404,
          -2.9346442222595215,
          2.7077183723449707,
          1.766871452331543,
          -3.4541015625,
          -2.9457385540008545,
          -5.190500736236572,
          0.039213161915540695,
          -4.151357173919678,
          -3.404092311859131,
          -5.142999172210693,
          4.3437933921813965,
          0.21206673979759216,
          4.833831310272217,
          -9.078977584838867,
          -11.195775985717773,
          0.49776962399482727,
          -19.384838104248047,
          -16.473194122314453,
          -2.9455406665802,
          -2.9342663288116455,
          -3.674349069595337,
          2.708266019821167,
          -4.3767991065979,
          -6.6989641189575195,
          -4.951038837432861,
          2.3046457767486572,
          1.847550392150879,
          0.03898649662733078,
          4.863811492919922,
          0.25354474782943726,
          4.855759143829346,
          -4.036500453948975,
          -4.009868144989014,
          -3.45375919342041,
          -5.389693260192871
         ],
         "xaxis": "x",
         "y": [
          -40.15623092651367,
          -34.80500793457031,
          -35.64975357055664,
          -28.659404754638672,
          -33.31789779663086,
          -33.55710983276367,
          -43.087608337402344,
          -34.83348083496094,
          -34.00691604614258,
          -38.613101959228516,
          -35.590850830078125,
          -33.66870880126953,
          -32.64201736450195,
          -38.86347579956055,
          -34.810298919677734,
          -35.286537170410156,
          -32.72211456298828,
          -37.35133743286133,
          -39.19974899291992,
          -35.59052276611328,
          26.699663162231445,
          52.315547943115234,
          26.944507598876953,
          28.211162567138672,
          26.1132755279541,
          -33.668453216552734,
          -34.83348083496094,
          -34.97089385986328,
          -34.00725173950195,
          -33.38277053833008,
          -28.659467697143555,
          -33.45827102661133,
          -43.087711334228516,
          -38.63497543334961,
          -38.86261749267578,
          -35.61090850830078,
          -39.224971771240234,
          -37.6945915222168,
          -35.60841369628906,
          -35.00353240966797,
          -35.590946197509766,
          -32.27569580078125
         ],
         "yaxis": "y"
        },
        {
         "customdata": [
          [
           "Door",
           "D01005.obj"
          ],
          [
           "Door",
           "D01029.obj"
          ],
          [
           "Door",
           "D01052.obj"
          ],
          [
           "Door",
           "D01058.obj"
          ],
          [
           "Door",
           "D01062.obj"
          ],
          [
           "Door",
           "D01076.obj"
          ],
          [
           "Door",
           "D01104.obj"
          ],
          [
           "Door",
           "D01114.obj"
          ],
          [
           "Door",
           "D01121.obj"
          ],
          [
           "Door",
           "D01129.obj"
          ],
          [
           "Door",
           "D01136.obj"
          ],
          [
           "Door",
           "D01139.obj"
          ],
          [
           "Door",
           "D01141.obj"
          ],
          [
           "Door",
           "D01143.obj"
          ],
          [
           "Door",
           "D01144.obj"
          ],
          [
           "Door",
           "D01155.obj"
          ],
          [
           "Door",
           "D01158.obj"
          ],
          [
           "Door",
           "D01167.obj"
          ],
          [
           "Door",
           "D01177.obj"
          ],
          [
           "Door",
           "D01194.obj"
          ],
          [
           "Door",
           "m1707.obj"
          ],
          [
           "Door",
           "m1708.obj"
          ],
          [
           "Door",
           "m1710.obj"
          ],
          [
           "Door",
           "m1711.obj"
          ],
          [
           "Door",
           "m1712.obj"
          ],
          [
           "Door",
           "m1713.obj"
          ],
          [
           "Door",
           "m1714.obj"
          ],
          [
           "Door",
           "m1715.obj"
          ],
          [
           "Door",
           "m1716.obj"
          ],
          [
           "Door",
           "m1717.obj"
          ],
          [
           "Door",
           "m1718.obj"
          ],
          [
           "Door",
           "m1720.obj"
          ],
          [
           "Door",
           "m1721.obj"
          ],
          [
           "Door",
           "m1722.obj"
          ],
          [
           "Door",
           "m1723.obj"
          ],
          [
           "Door",
           "m1724.obj"
          ],
          [
           "Door",
           "m1725.obj"
          ],
          [
           "Door",
           "m1726.obj"
          ],
          [
           "Door",
           "m1727.obj"
          ],
          [
           "Door",
           "m1728.obj"
          ],
          [
           "Door",
           "m1729.obj"
          ],
          [
           "Door",
           "m1730.obj"
          ],
          [
           "Door",
           "m1731.obj"
          ],
          [
           "Door",
           "m1732.obj"
          ]
         ],
         "hovertemplate": "Class=%{customdata[0]}<br>Principal Component 1=%{x}<br>Principal Component 2=%{y}<br>Name=%{customdata[1]}<extra></extra>",
         "legendgroup": "Door",
         "marker": {
          "color": "#00cc96",
          "symbol": "circle"
         },
         "mode": "markers",
         "name": "Door",
         "orientation": "v",
         "showlegend": true,
         "type": "scatter",
         "x": [
          -12.136982917785645,
          5.710804462432861,
          -1.0400604009628296,
          -6.250158786773682,
          -6.558107852935791,
          -5.974640846252441,
          -34.38003921508789,
          6.588007926940918,
          -28.77914047241211,
          -15.448490142822266,
          -34.614620208740234,
          -10.188434600830078,
          5.867986679077148,
          -7.603957653045654,
          -26.252805709838867,
          -21.461078643798828,
          -16.740680694580078,
          -25.577123641967773,
          -25.150484085083008,
          -37.69666290283203,
          5.6830363273620605,
          -10.271270751953125,
          -11.21493148803711,
          -26.817646026611328,
          -5.666372776031494,
          -12.137018203735352,
          -34.65699768066406,
          -1.7067358493804932,
          5.940688610076904,
          -6.368910312652588,
          -14.336236953735352,
          -35.1512451171875,
          -16.74211311340332,
          6.462004661560059,
          -26.70199966430664,
          -6.982077121734619,
          -19.901195526123047,
          -21.462251663208008,
          -9.374480247497559,
          -33.19823455810547,
          -20.245159149169922,
          -20.245159149169922,
          -6.460747241973877,
          -10.669774055480957
         ],
         "xaxis": "x",
         "y": [
          22.319242477416992,
          1.2384549379348755,
          -19.6643123626709,
          22.453277587890625,
          20.97220802307129,
          21.886802673339844,
          5.541893005371094,
          1.6203676462173462,
          4.196783542633057,
          51.23948669433594,
          3.6095192432403564,
          50.577354431152344,
          21.35198402404785,
          21.620500564575195,
          2.4508681297302246,
          38.23394012451172,
          1.318859577178955,
          2.2175405025482178,
          2.5335123538970947,
          5.593128204345703,
          1.2161552906036377,
          21.960208892822266,
          21.716297149658203,
          3.1752047538757324,
          22.08648681640625,
          22.31924819946289,
          5.419734001159668,
          -18.767719268798828,
          21.38627052307129,
          22.832895278930664,
          52.030479431152344,
          3.8696324825286865,
          1.3187146186828613,
          1.6898308992385864,
          3.5523486137390137,
          21.474321365356445,
          3.5753540992736816,
          38.23339080810547,
          24.84528350830078,
          2.879453182220459,
          41.37574005126953,
          41.37574005126953,
          22.933155059814453,
          23.8011531829834
         ],
         "yaxis": "y"
        },
        {
         "customdata": [
          [
           "Hand",
           "D01006.obj"
          ],
          [
           "Hand",
           "D01020.obj"
          ],
          [
           "Hand",
           "D01022.obj"
          ],
          [
           "Hand",
           "D01024.obj"
          ],
          [
           "Hand",
           "D01041.obj"
          ],
          [
           "Hand",
           "D01060.obj"
          ],
          [
           "Hand",
           "D01074.obj"
          ],
          [
           "Hand",
           "D01093.obj"
          ],
          [
           "Hand",
           "D01097.obj"
          ],
          [
           "Hand",
           "D01106.obj"
          ],
          [
           "Hand",
           "D01117.obj"
          ],
          [
           "Hand",
           "D01118.obj"
          ],
          [
           "Hand",
           "D01153.obj"
          ],
          [
           "Hand",
           "D01162.obj"
          ],
          [
           "Hand",
           "D01170.obj"
          ],
          [
           "Hand",
           "D01172.obj"
          ],
          [
           "Hand",
           "D01193.obj"
          ],
          [
           "Hand",
           "D01197.obj"
          ],
          [
           "Hand",
           "D01198.obj"
          ],
          [
           "Hand",
           "D01200.obj"
          ],
          [
           "Hand",
           "m323.obj"
          ],
          [
           "Hand",
           "m324.obj"
          ],
          [
           "Hand",
           "m325.obj"
          ],
          [
           "Hand",
           "m326.obj"
          ],
          [
           "Hand",
           "m327.obj"
          ],
          [
           "Hand",
           "m328.obj"
          ],
          [
           "Hand",
           "m329.obj"
          ],
          [
           "Hand",
           "m330.obj"
          ],
          [
           "Hand",
           "m331.obj"
          ],
          [
           "Hand",
           "m332.obj"
          ],
          [
           "Hand",
           "m333.obj"
          ],
          [
           "Hand",
           "m334.obj"
          ],
          [
           "Hand",
           "m335.obj"
          ],
          [
           "Hand",
           "m336.obj"
          ],
          [
           "Hand",
           "m337.obj"
          ],
          [
           "Hand",
           "m338.obj"
          ],
          [
           "Hand",
           "m339.obj"
          ]
         ],
         "hovertemplate": "Class=%{customdata[0]}<br>Principal Component 1=%{x}<br>Principal Component 2=%{y}<br>Name=%{customdata[1]}<extra></extra>",
         "legendgroup": "Hand",
         "marker": {
          "color": "#ab63fa",
          "symbol": "circle"
         },
         "mode": "markers",
         "name": "Hand",
         "orientation": "v",
         "showlegend": true,
         "type": "scatter",
         "x": [
          2.1402504444122314,
          3.325629711151123,
          -2.626605749130249,
          -2.886589527130127,
          1.4243146181106567,
          1.0988435745239258,
          -2.039731502532959,
          1.0603057146072388,
          -4.530307769775391,
          -15.796625137329102,
          -6.180184364318848,
          -3.86790132522583,
          -6.538363933563232,
          3.9401121139526367,
          -5.232546806335449,
          -7.2028961181640625,
          -2.6526997089385986,
          4.199880599975586,
          -10.675304412841797,
          4.202027320861816,
          -7.204899787902832,
          -6.538047790527344,
          1.4241795539855957,
          1.0988954305648804,
          -2.619860887527466,
          -6.180122375488281,
          -4.528818130493164,
          -2.765831708908081,
          -2.1165621280670166,
          3.9363925457000732,
          1.8405927419662476,
          -2.79813814163208,
          2.1403112411499023,
          -3.7926297187805176,
          -10.675439834594727,
          -5.2140092849731445,
          -15.796610832214355
         ],
         "xaxis": "x",
         "y": [
          -38.44221878051758,
          -31.940065383911133,
          -32.00632095336914,
          -25.41580581665039,
          -27.427194595336914,
          -26.974328994750977,
          -33.32318115234375,
          -27.357669830322266,
          -30.30655288696289,
          -2.102937936782837,
          -27.714540481567383,
          -30.150522232055664,
          -24.398868560791016,
          -43.80316925048828,
          -23.572200775146484,
          -25.707860946655273,
          -33.90673065185547,
          -32.138484954833984,
          -7.750334739685059,
          -32.33940887451172,
          -25.680164337158203,
          -24.389619827270508,
          -27.42722511291504,
          -26.974159240722656,
          -33.952972412109375,
          -27.71533203125,
          -30.306842803955078,
          -31.954444885253906,
          -33.24774932861328,
          -43.80987548828125,
          -42.80280685424805,
          -25.594345092773438,
          -38.44221878051758,
          -30.290864944458008,
          -7.7503204345703125,
          -23.63811492919922,
          -2.1029200553894043
         ],
         "yaxis": "y"
        },
        {
         "customdata": [
          [
           "HumanHead",
           "D00013.obj"
          ],
          [
           "HumanHead",
           "D00061.obj"
          ],
          [
           "HumanHead",
           "D00072.obj"
          ],
          [
           "HumanHead",
           "D00106.obj"
          ],
          [
           "HumanHead",
           "D00131.obj"
          ],
          [
           "HumanHead",
           "D00205.obj"
          ],
          [
           "HumanHead",
           "D00313.obj"
          ],
          [
           "HumanHead",
           "D00434.obj"
          ],
          [
           "HumanHead",
           "D00487.obj"
          ],
          [
           "HumanHead",
           "D00488.obj"
          ],
          [
           "HumanHead",
           "D00566.obj"
          ],
          [
           "HumanHead",
           "D00578.obj"
          ],
          [
           "HumanHead",
           "D00591.obj"
          ],
          [
           "HumanHead",
           "D00610.obj"
          ],
          [
           "HumanHead",
           "D00629.obj"
          ],
          [
           "HumanHead",
           "D00653.obj"
          ],
          [
           "HumanHead",
           "D00690.obj"
          ],
          [
           "HumanHead",
           "D00758.obj"
          ],
          [
           "HumanHead",
           "D00910.obj"
          ],
          [
           "HumanHead",
           "D00984.obj"
          ],
          [
           "HumanHead",
           "m340.obj"
          ],
          [
           "HumanHead",
           "m341.obj"
          ],
          [
           "HumanHead",
           "m342.obj"
          ],
          [
           "HumanHead",
           "m343.obj"
          ],
          [
           "HumanHead",
           "m344.obj"
          ],
          [
           "HumanHead",
           "m345.obj"
          ],
          [
           "HumanHead",
           "m346.obj"
          ],
          [
           "HumanHead",
           "m347.obj"
          ],
          [
           "HumanHead",
           "m348.obj"
          ],
          [
           "HumanHead",
           "m349.obj"
          ],
          [
           "HumanHead",
           "m350.obj"
          ],
          [
           "HumanHead",
           "m351.obj"
          ],
          [
           "HumanHead",
           "m352.obj"
          ],
          [
           "HumanHead",
           "m353.obj"
          ],
          [
           "HumanHead",
           "m354.obj"
          ],
          [
           "HumanHead",
           "m355.obj"
          ],
          [
           "HumanHead",
           "m356.obj"
          ],
          [
           "HumanHead",
           "m357.obj"
          ],
          [
           "HumanHead",
           "m358.obj"
          ],
          [
           "HumanHead",
           "m359.obj"
          ],
          [
           "HumanHead",
           "m360.obj"
          ],
          [
           "HumanHead",
           "m361.obj"
          ],
          [
           "HumanHead",
           "m362.obj"
          ],
          [
           "HumanHead",
           "m363.obj"
          ],
          [
           "HumanHead",
           "m364.obj"
          ],
          [
           "HumanHead",
           "m365.obj"
          ],
          [
           "HumanHead",
           "m367.obj"
          ],
          [
           "HumanHead",
           "m368.obj"
          ],
          [
           "HumanHead",
           "m369.obj"
          ],
          [
           "HumanHead",
           "m370.obj"
          ]
         ],
         "hovertemplate": "Class=%{customdata[0]}<br>Principal Component 1=%{x}<br>Principal Component 2=%{y}<br>Name=%{customdata[1]}<extra></extra>",
         "legendgroup": "HumanHead",
         "marker": {
          "color": "#FFA15A",
          "symbol": "circle"
         },
         "mode": "markers",
         "name": "HumanHead",
         "orientation": "v",
         "showlegend": true,
         "type": "scatter",
         "x": [
          11.810033798217773,
          -14.787097930908203,
          7.2119011878967285,
          7.263962745666504,
          7.182984352111816,
          6.797341823577881,
          7.348105430603027,
          4.487950801849365,
          5.377647399902344,
          7.352849960327148,
          3.67873477935791,
          7.162494659423828,
          7.1580400466918945,
          5.466825008392334,
          5.321415424346924,
          5.726762294769287,
          5.054719924926758,
          5.616762161254883,
          7.257652282714844,
          6.24690055847168,
          4.257741928100586,
          3.1000142097473145,
          -14.701845169067383,
          3.199857711791992,
          3.8051912784576416,
          15.171358108520508,
          3.018756866455078,
          5.920655727386475,
          4.396141052246094,
          5.6554107666015625,
          4.2068023681640625,
          3.4882779121398926,
          4.671000957489014,
          3.9747331142425537,
          2.4428515434265137,
          2.6580982208251953,
          3.7877416610717773,
          3.9555249214172363,
          3.445566177368164,
          3.122743844985962,
          3.529836893081665,
          3.2287142276763916,
          5.290567874908447,
          3.4881246089935303,
          2.8124239444732666,
          3.1429781913757324,
          2.442152976989746,
          3.618560791015625,
          4.099102973937988,
          4.394294738769531
         ],
         "xaxis": "x",
         "y": [
          -25.705053329467773,
          -1.9434022903442383,
          -40.21009826660156,
          -33.01138687133789,
          -40.90077590942383,
          -40.65492248535156,
          -41.06765365600586,
          -43.48932647705078,
          -43.57138442993164,
          -39.743064880371094,
          -44.87727355957031,
          -40.68245315551758,
          -40.67608642578125,
          -42.059974670410156,
          -43.33172607421875,
          -40.64968490600586,
          -40.30581283569336,
          -41.60734176635742,
          -39.72501754760742,
          -37.751861572265625,
          -44.287696838378906,
          -44.704933166503906,
          26.68125343322754,
          -44.09452819824219,
          -39.513309478759766,
          -17.47502326965332,
          -44.50807189941406,
          -38.1246337890625,
          -45.01436996459961,
          -43.027099609375,
          -44.15341567993164,
          -44.903961181640625,
          -44.43886947631836,
          -45.17357635498047,
          -43.50168228149414,
          -44.22756576538086,
          -45.21074295043945,
          -44.578590393066406,
          -43.30595779418945,
          -45.16892623901367,
          -45.08964157104492,
          -45.298789978027344,
          -41.55605697631836,
          -44.089317321777344,
          -44.12793731689453,
          -45.05305480957031,
          -43.824302673339844,
          -44.266334533691406,
          -45.1161003112793,
          -44.64982604980469
         ],
         "yaxis": "y"
        },
        {
         "customdata": [
          [
           "Jet",
           "m1147.obj"
          ],
          [
           "Jet",
           "m1149.obj"
          ],
          [
           "Jet",
           "m1150.obj"
          ],
          [
           "Jet",
           "m1151.obj"
          ],
          [
           "Jet",
           "m1152.obj"
          ],
          [
           "Jet",
           "m1153.obj"
          ],
          [
           "Jet",
           "m1154.obj"
          ],
          [
           "Jet",
           "m1155.obj"
          ],
          [
           "Jet",
           "m1156.obj"
          ],
          [
           "Jet",
           "m1157.obj"
          ],
          [
           "Jet",
           "m1158.obj"
          ],
          [
           "Jet",
           "m1159.obj"
          ],
          [
           "Jet",
           "m1161.obj"
          ],
          [
           "Jet",
           "m1162.obj"
          ],
          [
           "Jet",
           "m1163.obj"
          ],
          [
           "Jet",
           "m1165.obj"
          ],
          [
           "Jet",
           "m1166.obj"
          ],
          [
           "Jet",
           "m1167.obj"
          ],
          [
           "Jet",
           "m1168.obj"
          ],
          [
           "Jet",
           "m1169.obj"
          ],
          [
           "Jet",
           "m1171.obj"
          ],
          [
           "Jet",
           "m1172.obj"
          ],
          [
           "Jet",
           "m1173.obj"
          ],
          [
           "Jet",
           "m1174.obj"
          ],
          [
           "Jet",
           "m1175.obj"
          ],
          [
           "Jet",
           "m1176.obj"
          ],
          [
           "Jet",
           "m1177.obj"
          ],
          [
           "Jet",
           "m1178.obj"
          ],
          [
           "Jet",
           "m1179.obj"
          ],
          [
           "Jet",
           "m1180.obj"
          ],
          [
           "Jet",
           "m1181.obj"
          ],
          [
           "Jet",
           "m1182.obj"
          ],
          [
           "Jet",
           "m1183.obj"
          ],
          [
           "Jet",
           "m1184.obj"
          ],
          [
           "Jet",
           "m1185.obj"
          ],
          [
           "Jet",
           "m1187.obj"
          ],
          [
           "Jet",
           "m1188.obj"
          ],
          [
           "Jet",
           "m1190.obj"
          ],
          [
           "Jet",
           "m1191.obj"
          ],
          [
           "Jet",
           "m1193.obj"
          ],
          [
           "Jet",
           "m1194.obj"
          ],
          [
           "Jet",
           "m1195.obj"
          ],
          [
           "Jet",
           "m1196.obj"
          ],
          [
           "Jet",
           "m1197.obj"
          ],
          [
           "Jet",
           "m1198.obj"
          ],
          [
           "Jet",
           "m1199.obj"
          ],
          [
           "Jet",
           "m1200.obj"
          ],
          [
           "Jet",
           "m1201.obj"
          ],
          [
           "Jet",
           "m1202.obj"
          ],
          [
           "Jet",
           "m1204.obj"
          ],
          [
           "Jet",
           "m1205.obj"
          ],
          [
           "Jet",
           "m1207.obj"
          ],
          [
           "Jet",
           "m1208.obj"
          ],
          [
           "Jet",
           "m1209.obj"
          ],
          [
           "Jet",
           "m1210.obj"
          ],
          [
           "Jet",
           "m1211.obj"
          ],
          [
           "Jet",
           "m1212.obj"
          ],
          [
           "Jet",
           "m1213.obj"
          ],
          [
           "Jet",
           "m1214.obj"
          ],
          [
           "Jet",
           "m1215.obj"
          ],
          [
           "Jet",
           "m1216.obj"
          ],
          [
           "Jet",
           "m1217.obj"
          ],
          [
           "Jet",
           "m1218.obj"
          ],
          [
           "Jet",
           "m1219.obj"
          ],
          [
           "Jet",
           "m1220.obj"
          ],
          [
           "Jet",
           "m1221.obj"
          ],
          [
           "Jet",
           "m1222.obj"
          ],
          [
           "Jet",
           "m1223.obj"
          ],
          [
           "Jet",
           "m1224.obj"
          ],
          [
           "Jet",
           "m1225.obj"
          ],
          [
           "Jet",
           "m1226.obj"
          ],
          [
           "Jet",
           "m1227.obj"
          ],
          [
           "Jet",
           "m1228.obj"
          ],
          [
           "Jet",
           "m1229.obj"
          ],
          [
           "Jet",
           "m1230.obj"
          ],
          [
           "Jet",
           "m1231.obj"
          ],
          [
           "Jet",
           "m1232.obj"
          ],
          [
           "Jet",
           "m1233.obj"
          ],
          [
           "Jet",
           "m1234.obj"
          ],
          [
           "Jet",
           "m1235.obj"
          ],
          [
           "Jet",
           "m1236.obj"
          ],
          [
           "Jet",
           "m1237.obj"
          ],
          [
           "Jet",
           "m1238.obj"
          ],
          [
           "Jet",
           "m1239.obj"
          ],
          [
           "Jet",
           "m1240.obj"
          ],
          [
           "Jet",
           "m1241.obj"
          ],
          [
           "Jet",
           "m1242.obj"
          ],
          [
           "Jet",
           "m1243.obj"
          ],
          [
           "Jet",
           "m1245.obj"
          ],
          [
           "Jet",
           "m1246.obj"
          ],
          [
           "Jet",
           "m1247.obj"
          ],
          [
           "Jet",
           "m1248.obj"
          ],
          [
           "Jet",
           "m1249.obj"
          ],
          [
           "Jet",
           "m1250.obj"
          ],
          [
           "Jet",
           "m1251.obj"
          ],
          [
           "Jet",
           "m1252.obj"
          ],
          [
           "Jet",
           "m1253.obj"
          ],
          [
           "Jet",
           "m1255.obj"
          ],
          [
           "Jet",
           "m1256.obj"
          ],
          [
           "Jet",
           "m1257.obj"
          ],
          [
           "Jet",
           "m1258.obj"
          ],
          [
           "Jet",
           "m1259.obj"
          ],
          [
           "Jet",
           "m1260.obj"
          ],
          [
           "Jet",
           "m1261.obj"
          ],
          [
           "Jet",
           "m1262.obj"
          ],
          [
           "Jet",
           "m1263.obj"
          ],
          [
           "Jet",
           "m1264.obj"
          ],
          [
           "Jet",
           "m1265.obj"
          ],
          [
           "Jet",
           "m1266.obj"
          ],
          [
           "Jet",
           "m1267.obj"
          ],
          [
           "Jet",
           "m1268.obj"
          ],
          [
           "Jet",
           "m1269.obj"
          ],
          [
           "Jet",
           "m1270.obj"
          ],
          [
           "Jet",
           "m1271.obj"
          ],
          [
           "Jet",
           "m1273.obj"
          ],
          [
           "Jet",
           "m1274.obj"
          ],
          [
           "Jet",
           "m1275.obj"
          ],
          [
           "Jet",
           "m1276.obj"
          ],
          [
           "Jet",
           "m1277.obj"
          ],
          [
           "Jet",
           "m1278.obj"
          ],
          [
           "Jet",
           "m1279.obj"
          ],
          [
           "Jet",
           "m1280.obj"
          ],
          [
           "Jet",
           "m1281.obj"
          ],
          [
           "Jet",
           "m1282.obj"
          ],
          [
           "Jet",
           "m1283.obj"
          ],
          [
           "Jet",
           "m1284.obj"
          ],
          [
           "Jet",
           "m1285.obj"
          ],
          [
           "Jet",
           "m1286.obj"
          ],
          [
           "Jet",
           "m1287.obj"
          ],
          [
           "Jet",
           "m1288.obj"
          ],
          [
           "Jet",
           "m1289.obj"
          ],
          [
           "Jet",
           "m1290.obj"
          ],
          [
           "Jet",
           "m1291.obj"
          ],
          [
           "Jet",
           "m1292.obj"
          ],
          [
           "Jet",
           "m1293.obj"
          ],
          [
           "Jet",
           "m1294.obj"
          ],
          [
           "Jet",
           "m1295.obj"
          ],
          [
           "Jet",
           "m1296.obj"
          ],
          [
           "Jet",
           "m1297.obj"
          ],
          [
           "Jet",
           "m1298.obj"
          ],
          [
           "Jet",
           "m1299.obj"
          ],
          [
           "Jet",
           "m1300.obj"
          ],
          [
           "Jet",
           "m1301.obj"
          ]
         ],
         "hovertemplate": "Class=%{customdata[0]}<br>Principal Component 1=%{x}<br>Principal Component 2=%{y}<br>Name=%{customdata[1]}<extra></extra>",
         "legendgroup": "Jet",
         "marker": {
          "color": "#19d3f3",
          "symbol": "circle"
         },
         "mode": "markers",
         "name": "Jet",
         "orientation": "v",
         "showlegend": true,
         "type": "scatter",
         "x": [
          6.99580717086792,
          6.00937032699585,
          2.830207109451294,
          3.2350075244903564,
          9.083121299743652,
          8.145317077636719,
          7.131039619445801,
          1.247560739517212,
          0.5390437245368958,
          7.270185947418213,
          20.512765884399414,
          9.0831937789917,
          6.264416217803955,
          3.3066723346710205,
          13.405346870422363,
          7.0691022872924805,
          13.673611640930176,
          17.872900009155273,
          15.81209659576416,
          -20.783864974975586,
          -18.90975570678711,
          -3.3053321838378906,
          1.8644627332687378,
          2.191135883331299,
          12.610611915588379,
          2.615199327468872,
          11.352245330810547,
          1.6529432535171509,
          5.508155345916748,
          15.085290908813477,
          11.670150756835938,
          6.563482761383057,
          8.293999671936035,
          5.480970859527588,
          8.081526756286621,
          6.197577953338623,
          9.281476020812988,
          14.686857223510742,
          9.696101188659668,
          5.496747016906738,
          -21.736745834350586,
          12.407831192016602,
          18.22750473022461,
          16.43535804748535,
          8.068835258483887,
          8.041152000427246,
          11.238882064819336,
          -16.88057518005371,
          8.657031059265137,
          3.795630931854248,
          8.260517120361328,
          6.355899333953857,
          11.108770370483398,
          1.6551580429077148,
          -7.013879299163818,
          18.266202926635742,
          -13.13695240020752,
          4.988104343414307,
          15.907118797302246,
          7.862622261047363,
          9.287821769714355,
          3.1479527950286865,
          12.119759559631348,
          5.917495250701904,
          7.525753974914551,
          12.785905838012695,
          14.504096984863281,
          12.92574405670166,
          9.09839153289795,
          12.005878448486328,
          11.351956367492676,
          8.828835487365723,
          5.775526523590088,
          12.461088180541992,
          8.714493751525879,
          10.771883010864258,
          11.330652236938477,
          -4.195061683654785,
          11.9864501953125,
          8.815290451049805,
          11.8619966506958,
          16.73668670654297,
          7.426526069641113,
          11.626849174499512,
          6.9436750411987305,
          16.08415412902832,
          15.491605758666992,
          13.30885124206543,
          5.770670413970947,
          3.723046064376831,
          9.003965377807617,
          12.36277961730957,
          3.0067834854125977,
          19.23941993713379,
          -20.784120559692383,
          -2.3408432006835938,
          14.558090209960938,
          14.711058616638184,
          -21.811704635620117,
          1.512454867362976,
          13.53864574432373,
          -16.88057518005371,
          20.465394973754883,
          15.318587303161621,
          9.48859691619873,
          -4.056446552276611,
          7.118643283843994,
          6.128262042999268,
          5.493680000305176,
          14.852571487426758,
          -31.665693283081055,
          -14.302826881408691,
          -10.54762077331543,
          -9.086128234863281,
          -20.04566764831543,
          17.140243530273438,
          11.230382919311523,
          -11.039275169372559,
          0.9789968729019165,
          1.7617812156677246,
          -6.433631420135498,
          -22.773054122924805,
          8.693734169006348,
          8.763660430908203,
          -19.028776168823242,
          -17.529104232788086,
          -25.35377311706543,
          -20.195758819580078,
          -21.468454360961914,
          15.83725357055664,
          14.550602912902832,
          -7.87536096572876,
          8.850199699401855,
          -15.085251808166504,
          8.947246551513672,
          -27.5661563873291,
          -33.88759994506836,
          -22.943016052246094,
          -34.86194610595703,
          8.126921653747559,
          2.781468152999878,
          16.73343276977539,
          -7.753707408905029
         ],
         "xaxis": "x",
         "y": [
          -8.201251029968262,
          -5.690898418426514,
          -9.854057312011719,
          -7.5355658531188965,
          -9.341574668884277,
          -9.98344612121582,
          -8.583373069763184,
          -16.688541412353516,
          -10.341619491577148,
          -3.531907796859741,
          12.422995567321777,
          -9.341588973999023,
          -7.483018398284912,
          -9.037050247192383,
          2.500877857208252,
          -2.3926968574523926,
          22.78129768371582,
          10.883203506469727,
          8.228227615356445,
          30.619855880737305,
          42.910980224609375,
          26.05866241455078,
          26.21795654296875,
          -17.34718894958496,
          -5.145298480987549,
          -8.23476505279541,
          -3.6559441089630127,
          -6.346404552459717,
          23.479578018188477,
          6.160656929016113,
          0.9887086153030396,
          -5.726223468780518,
          26.564199447631836,
          -8.821427345275879,
          -3.819383144378662,
          -8.866006851196289,
          -10.631080627441406,
          23.16248321533203,
          -0.7644975185394287,
          -1.2251555919647217,
          36.607906341552734,
          24.537492752075195,
          11.662420272827148,
          11.543411254882812,
          25.972938537597656,
          -1.7721467018127441,
          25.271650314331055,
          49.92306900024414,
          -3.0643458366394043,
          -6.894491195678711,
          26.205530166625977,
          2.51469349861145,
          -8.074113845825195,
          -17.213533401489258,
          -5.338327407836914,
          15.55090618133545,
          52.624263763427734,
          1.259212851524353,
          6.724867343902588,
          -4.242099761962891,
          -3.098050594329834,
          -6.915721893310547,
          1.7832225561141968,
          -5.7575788497924805,
          -3.5225670337677,
          -10.425530433654785,
          -8.952422142028809,
          2.146829605102539,
          21.53107261657715,
          18.93998908996582,
          -6.128365993499756,
          20.54106330871582,
          24.38874626159668,
          1.525238037109375,
          -10.930282592773438,
          21.23827362060547,
          0.8477023243904114,
          -11.399883270263672,
          0.18969005346298218,
          -1.2684428691864014,
          2.2811148166656494,
          3.7107748985290527,
          -5.637466907501221,
          -2.6920289993286133,
          -9.681571960449219,
          -1.7964674234390259,
          2.1178698539733887,
          1.9804308414459229,
          -6.382684707641602,
          -18.53429412841797,
          -11.625658988952637,
          -16.289281845092773,
          -26.247900009155273,
          5.33854866027832,
          30.619598388671875,
          26.895877838134766,
          21.984638214111328,
          8.102811813354492,
          33.203121185302734,
          26.11940574645996,
          -1.4820716381072998,
          49.92306900024414,
          3.9779586791992188,
          -2.715911626815796,
          24.21951675415039,
          27.289884567260742,
          27.447643280029297,
          2.253925323486328,
          24.065549850463867,
          9.215662002563477,
          3.0252840518951416,
          45.96607208251953,
          22.332754135131836,
          23.154407501220703,
          3.0901529788970947,
          15.243172645568848,
          19.954994201660156,
          52.184268951416016,
          25.18018913269043,
          23.78241539001465,
          22.835763931274414,
          34.657447814941406,
          20.683025360107422,
          19.978490829467773,
          42.757286071777344,
          27.387788772583008,
          2.6831510066986084,
          3.5719847679138184,
          3.3351638317108154,
          7.5876007080078125,
          21.316659927368164,
          22.578956604003906,
          -2.5433716773986816,
          25.60804557800293,
          21.51895523071289,
          1.3363325595855713,
          3.8485898971557617,
          1.400197148323059,
          5.406477451324463,
          -11.013248443603516,
          -8.612367630004883,
          6.661795616149902,
          -3.2051427364349365
         ],
         "yaxis": "y"
        },
        {
         "customdata": [
          [
           "PlantIndoors",
           "D00049.obj"
          ],
          [
           "PlantIndoors",
           "D00073.obj"
          ],
          [
           "PlantIndoors",
           "D00080.obj"
          ],
          [
           "PlantIndoors",
           "D00087.obj"
          ],
          [
           "PlantIndoors",
           "D00128.obj"
          ],
          [
           "PlantIndoors",
           "D00159.obj"
          ],
          [
           "PlantIndoors",
           "D00238.obj"
          ],
          [
           "PlantIndoors",
           "D00280.obj"
          ],
          [
           "PlantIndoors",
           "D00370.obj"
          ],
          [
           "PlantIndoors",
           "D00379.obj"
          ],
          [
           "PlantIndoors",
           "D00466.obj"
          ],
          [
           "PlantIndoors",
           "D00491.obj"
          ],
          [
           "PlantIndoors",
           "D00595.obj"
          ],
          [
           "PlantIndoors",
           "D00609.obj"
          ],
          [
           "PlantIndoors",
           "D00622.obj"
          ],
          [
           "PlantIndoors",
           "D00624.obj"
          ],
          [
           "PlantIndoors",
           "D00657.obj"
          ],
          [
           "PlantIndoors",
           "D00667.obj"
          ],
          [
           "PlantIndoors",
           "D00800.obj"
          ],
          [
           "PlantIndoors",
           "D00968.obj"
          ],
          [
           "PlantIndoors",
           "m1000.obj"
          ],
          [
           "PlantIndoors",
           "m1001.obj"
          ],
          [
           "PlantIndoors",
           "m1002.obj"
          ],
          [
           "PlantIndoors",
           "m1003.obj"
          ],
          [
           "PlantIndoors",
           "m1004.obj"
          ],
          [
           "PlantIndoors",
           "m1005.obj"
          ],
          [
           "PlantIndoors",
           "m1006.obj"
          ],
          [
           "PlantIndoors",
           "m1007.obj"
          ],
          [
           "PlantIndoors",
           "m1008.obj"
          ],
          [
           "PlantIndoors",
           "m1009.obj"
          ],
          [
           "PlantIndoors",
           "m1010.obj"
          ],
          [
           "PlantIndoors",
           "m1011.obj"
          ],
          [
           "PlantIndoors",
           "m1012.obj"
          ],
          [
           "PlantIndoors",
           "m1013.obj"
          ],
          [
           "PlantIndoors",
           "m1014.obj"
          ],
          [
           "PlantIndoors",
           "m1015.obj"
          ],
          [
           "PlantIndoors",
           "m1016.obj"
          ],
          [
           "PlantIndoors",
           "m1017.obj"
          ],
          [
           "PlantIndoors",
           "m1018.obj"
          ],
          [
           "PlantIndoors",
           "m1020.obj"
          ],
          [
           "PlantIndoors",
           "m1021.obj"
          ],
          [
           "PlantIndoors",
           "m1022.obj"
          ],
          [
           "PlantIndoors",
           "m1023.obj"
          ],
          [
           "PlantIndoors",
           "m1025.obj"
          ],
          [
           "PlantIndoors",
           "m1026.obj"
          ],
          [
           "PlantIndoors",
           "m1027.obj"
          ],
          [
           "PlantIndoors",
           "m1029.obj"
          ],
          [
           "PlantIndoors",
           "m1030.obj"
          ],
          [
           "PlantIndoors",
           "m1031.obj"
          ],
          [
           "PlantIndoors",
           "m1032.obj"
          ],
          [
           "PlantIndoors",
           "m1033.obj"
          ],
          [
           "PlantIndoors",
           "m1034.obj"
          ],
          [
           "PlantIndoors",
           "m1035.obj"
          ],
          [
           "PlantIndoors",
           "m1036.obj"
          ],
          [
           "PlantIndoors",
           "m989.obj"
          ],
          [
           "PlantIndoors",
           "m990.obj"
          ],
          [
           "PlantIndoors",
           "m991.obj"
          ],
          [
           "PlantIndoors",
           "m992.obj"
          ],
          [
           "PlantIndoors",
           "m993.obj"
          ],
          [
           "PlantIndoors",
           "m994.obj"
          ],
          [
           "PlantIndoors",
           "m995.obj"
          ],
          [
           "PlantIndoors",
           "m996.obj"
          ],
          [
           "PlantIndoors",
           "m997.obj"
          ],
          [
           "PlantIndoors",
           "m998.obj"
          ],
          [
           "PlantIndoors",
           "m999.obj"
          ]
         ],
         "hovertemplate": "Class=%{customdata[0]}<br>Principal Component 1=%{x}<br>Principal Component 2=%{y}<br>Name=%{customdata[1]}<extra></extra>",
         "legendgroup": "PlantIndoors",
         "marker": {
          "color": "#FF6692",
          "symbol": "circle"
         },
         "mode": "markers",
         "name": "PlantIndoors",
         "orientation": "v",
         "showlegend": true,
         "type": "scatter",
         "x": [
          -38.71296310424805,
          35.50035095214844,
          22.53584098815918,
          12.360628128051758,
          57.2503547668457,
          44.92953872680664,
          19.828744888305664,
          -46.40987777709961,
          28.46586036682129,
          49.94333267211914,
          -55.229454040527344,
          0.1725931465625763,
          -53.55083465576172,
          58.84598922729492,
          -55.76356506347656,
          -61.26375961303711,
          13.042622566223145,
          19.28139305114746,
          -61.360252380371094,
          -52.21470642089844,
          13.676511764526367,
          16.61384391784668,
          -21.601545333862305,
          -1.2584260702133179,
          22.913129806518555,
          18.23361587524414,
          19.57196617126465,
          -7.8225884437561035,
          21.592775344848633,
          3.585096597671509,
          -10.067950248718262,
          21.47711181640625,
          7.785988807678223,
          -11.097206115722656,
          -21.188419342041016,
          -12.10879135131836,
          15.195281982421875,
          -8.362066268920898,
          19.86524200439453,
          -4.92759895324707,
          6.241002082824707,
          11.114212036132812,
          20.447301864624023,
          16.23659324645996,
          19.508604049682617,
          19.825469970703125,
          -14.21615982055664,
          10.228022575378418,
          17.04491424560547,
          22.379810333251953,
          -4.7552690505981445,
          6.044910907745361,
          18.10974884033203,
          -6.699268817901611,
          -21.553455352783203,
          17.836977005004883,
          19.174375534057617,
          20.071897506713867,
          -5.590000629425049,
          4.747988700866699,
          4.787114143371582,
          3.167699098587036,
          22.56934356689453,
          -3.8562495708465576,
          4.304821491241455
         ],
         "xaxis": "x",
         "y": [
          -45.943424224853516,
          -56.25773239135742,
          8.911243438720703,
          -22.121740341186523,
          17.685922622680664,
          -41.32551193237305,
          61.018123626708984,
          -30.45383071899414,
          56.488990783691406,
          -31.86509895324707,
          23.121660232543945,
          28.024988174438477,
          38.3277702331543,
          1.4371861219406128,
          30.550697326660156,
          18.60182762145996,
          -16.129852294921875,
          -7.530515670776367,
          -8.338301658630371,
          -23.316259384155273,
          -20.425708770751953,
          -13.214351654052734,
          34.65542984008789,
          27.947280883789062,
          6.2676591873168945,
          -7.618246078491211,
          17.16263198852539,
          27.531166076660156,
          12.601624488830566,
          28.11331558227539,
          49.54532241821289,
          2.7896437644958496,
          28.591163635253906,
          26.62824249267578,
          32.793479919433594,
          47.25164794921875,
          1.6835997104644775,
          26.964418411254883,
          -5.205846786499023,
          27.69921875,
          -9.243751525878906,
          26.93636703491211,
          15.604515075683594,
          22.699703216552734,
          -6.915528297424316,
          16.615047454833984,
          26.35527992248535,
          -25.481306076049805,
          -11.709207534790039,
          2.808346748352051,
          -30.145654678344727,
          -21.07158088684082,
          19.273632049560547,
          27.326555252075195,
          33.550331115722656,
          -11.639610290527344,
          -7.95520544052124,
          -5.628536701202393,
          -14.096583366394043,
          -37.44035720825195,
          -35.722129821777344,
          28.237634658813477,
          2.4959285259246826,
          -27.20590591430664,
          -36.58466720581055
         ],
         "yaxis": "y"
        },
        {
         "customdata": [
          [
           "Quadruped",
           "D00111.obj"
          ],
          [
           "Quadruped",
           "D00150.obj"
          ],
          [
           "Quadruped",
           "D00218.obj"
          ],
          [
           "Quadruped",
           "D00226.obj"
          ],
          [
           "Quadruped",
           "D00261.obj"
          ],
          [
           "Quadruped",
           "D00326.obj"
          ],
          [
           "Quadruped",
           "D00380.obj"
          ],
          [
           "Quadruped",
           "D00409.obj"
          ],
          [
           "Quadruped",
           "D00508.obj"
          ],
          [
           "Quadruped",
           "D00509.obj"
          ],
          [
           "Quadruped",
           "D00583.obj"
          ],
          [
           "Quadruped",
           "D00663.obj"
          ],
          [
           "Quadruped",
           "D00700.obj"
          ],
          [
           "Quadruped",
           "D00757.obj"
          ],
          [
           "Quadruped",
           "D00794.obj"
          ],
          [
           "Quadruped",
           "D00795.obj"
          ],
          [
           "Quadruped",
           "D00831.obj"
          ],
          [
           "Quadruped",
           "D00841.obj"
          ],
          [
           "Quadruped",
           "D00867.obj"
          ],
          [
           "Quadruped",
           "D00934.obj"
          ],
          [
           "Quadruped",
           "m100.obj"
          ],
          [
           "Quadruped",
           "m101.obj"
          ],
          [
           "Quadruped",
           "m102.obj"
          ],
          [
           "Quadruped",
           "m103.obj"
          ],
          [
           "Quadruped",
           "m104.obj"
          ],
          [
           "Quadruped",
           "m105.obj"
          ],
          [
           "Quadruped",
           "m106.obj"
          ],
          [
           "Quadruped",
           "m107.obj"
          ],
          [
           "Quadruped",
           "m108.obj"
          ],
          [
           "Quadruped",
           "m109.obj"
          ],
          [
           "Quadruped",
           "m110.obj"
          ],
          [
           "Quadruped",
           "m111.obj"
          ],
          [
           "Quadruped",
           "m112.obj"
          ],
          [
           "Quadruped",
           "m273.obj"
          ],
          [
           "Quadruped",
           "m274.obj"
          ],
          [
           "Quadruped",
           "m275.obj"
          ],
          [
           "Quadruped",
           "m276.obj"
          ],
          [
           "Quadruped",
           "m277.obj"
          ],
          [
           "Quadruped",
           "m278.obj"
          ],
          [
           "Quadruped",
           "m279.obj"
          ],
          [
           "Quadruped",
           "m280.obj"
          ],
          [
           "Quadruped",
           "m281.obj"
          ],
          [
           "Quadruped",
           "m282.obj"
          ],
          [
           "Quadruped",
           "m86.obj"
          ],
          [
           "Quadruped",
           "m87.obj"
          ],
          [
           "Quadruped",
           "m88.obj"
          ],
          [
           "Quadruped",
           "m89.obj"
          ],
          [
           "Quadruped",
           "m90.obj"
          ],
          [
           "Quadruped",
           "m91.obj"
          ],
          [
           "Quadruped",
           "m92.obj"
          ],
          [
           "Quadruped",
           "m93.obj"
          ],
          [
           "Quadruped",
           "m95.obj"
          ],
          [
           "Quadruped",
           "m96.obj"
          ],
          [
           "Quadruped",
           "m97.obj"
          ],
          [
           "Quadruped",
           "m98.obj"
          ],
          [
           "Quadruped",
           "m99.obj"
          ]
         ],
         "hovertemplate": "Class=%{customdata[0]}<br>Principal Component 1=%{x}<br>Principal Component 2=%{y}<br>Name=%{customdata[1]}<extra></extra>",
         "legendgroup": "Quadruped",
         "marker": {
          "color": "#B6E880",
          "symbol": "circle"
         },
         "mode": "markers",
         "name": "Quadruped",
         "orientation": "v",
         "showlegend": true,
         "type": "scatter",
         "x": [
          -4.81592321395874,
          18.64958953857422,
          -6.894938945770264,
          -5.574929714202881,
          -5.628486156463623,
          -6.169064044952393,
          -5.926327705383301,
          -6.848038673400879,
          -5.806852340698242,
          -7.644035339355469,
          -2.0179049968719482,
          -5.065726280212402,
          -6.338844299316406,
          -2.790308713912964,
          -7.230960845947266,
          2.793466091156006,
          -2.7794089317321777,
          -5.266409397125244,
          -2.5365896224975586,
          -2.747891426086426,
          0.45150017738342285,
          11.28425407409668,
          0.2496074140071869,
          1.5429078340530396,
          -5.845083713531494,
          -5.712586879730225,
          -5.4951934814453125,
          -6.175253391265869,
          -6.611494064331055,
          6.367042541503906,
          1.0018171072006226,
          -0.5670090317726135,
          2.265650510787964,
          -5.273089408874512,
          -4.354393482208252,
          -5.951099872589111,
          -15.258813858032227,
          -5.0440192222595215,
          2.7428793907165527,
          19.160322189331055,
          -5.531466960906982,
          -6.335379600524902,
          0.6570271849632263,
          7.723012447357178,
          -2.277928590774536,
          -5.792904853820801,
          3.7747201919555664,
          0.5242453813552856,
          -2.989988088607788,
          -3.2964730262756348,
          6.7129902839660645,
          -5.340906143188477,
          -6.461950302124023,
          -4.980058670043945,
          -5.506582736968994,
          -3.661538600921631
         ],
         "xaxis": "x",
         "y": [
          -33.93887710571289,
          -7.2766218185424805,
          -28.2149715423584,
          -33.078346252441406,
          -32.81721496582031,
          -21.54000473022461,
          -26.74740219116211,
          -19.66503143310547,
          -18.88897705078125,
          -10.951754570007324,
          -23.027490615844727,
          -15.407695770263672,
          -19.35460662841797,
          -34.08608627319336,
          -16.104001998901367,
          -19.92435073852539,
          -31.773483276367188,
          -20.85820198059082,
          -28.313570022583008,
          -30.666460037231445,
          -41.18242645263672,
          27.024322509765625,
          -41.34062957763672,
          -17.761180877685547,
          -25.214813232421875,
          -26.89199447631836,
          -22.41323471069336,
          -21.783893585205078,
          -20.086267471313477,
          -33.23221206665039,
          -39.86293029785156,
          -38.77980041503906,
          -42.62797164916992,
          -23.203670501708984,
          -29.647266387939453,
          -21.189903259277344,
          -2.2912282943725586,
          -30.796730041503906,
          -8.485649108886719,
          11.813529014587402,
          -15.430971145629883,
          -19.96543312072754,
          -37.7242546081543,
          -10.348550796508789,
          -29.33308982849121,
          -27.35077476501465,
          -22.9722900390625,
          -39.045536041259766,
          -31.478376388549805,
          -29.85202980041504,
          -20.187265396118164,
          -26.806406021118164,
          -20.969409942626953,
          -27.30214500427246,
          -28.23352813720703,
          -34.77996826171875
         ],
         "yaxis": "y"
        },
        {
         "customdata": [
          [
           "Sword",
           "D00066.obj"
          ],
          [
           "Sword",
           "D00071.obj"
          ],
          [
           "Sword",
           "D00133.obj"
          ],
          [
           "Sword",
           "D00149.obj"
          ],
          [
           "Sword",
           "D00162.obj"
          ],
          [
           "Sword",
           "D00177.obj"
          ],
          [
           "Sword",
           "D00195.obj"
          ],
          [
           "Sword",
           "D00249.obj"
          ],
          [
           "Sword",
           "D00356.obj"
          ],
          [
           "Sword",
           "D00484.obj"
          ],
          [
           "Sword",
           "D00513.obj"
          ],
          [
           "Sword",
           "D00540.obj"
          ],
          [
           "Sword",
           "D00635.obj"
          ],
          [
           "Sword",
           "D00712.obj"
          ],
          [
           "Sword",
           "D00807.obj"
          ],
          [
           "Sword",
           "D00812.obj"
          ],
          [
           "Sword",
           "D00906.obj"
          ],
          [
           "Sword",
           "D00916.obj"
          ],
          [
           "Sword",
           "D00992.obj"
          ],
          [
           "Sword",
           "m687.obj"
          ],
          [
           "Sword",
           "m688.obj"
          ],
          [
           "Sword",
           "m689.obj"
          ],
          [
           "Sword",
           "m690.obj"
          ],
          [
           "Sword",
           "m691.obj"
          ],
          [
           "Sword",
           "m692.obj"
          ],
          [
           "Sword",
           "m693.obj"
          ],
          [
           "Sword",
           "m694.obj"
          ],
          [
           "Sword",
           "m695.obj"
          ],
          [
           "Sword",
           "m696.obj"
          ],
          [
           "Sword",
           "m697.obj"
          ],
          [
           "Sword",
           "m698.obj"
          ],
          [
           "Sword",
           "m699.obj"
          ],
          [
           "Sword",
           "m700.obj"
          ],
          [
           "Sword",
           "m701.obj"
          ],
          [
           "Sword",
           "m702.obj"
          ],
          [
           "Sword",
           "m703.obj"
          ],
          [
           "Sword",
           "m704.obj"
          ],
          [
           "Sword",
           "m705.obj"
          ],
          [
           "Sword",
           "m707.obj"
          ],
          [
           "Sword",
           "m709.obj"
          ],
          [
           "Sword",
           "m710.obj"
          ],
          [
           "Sword",
           "m711.obj"
          ],
          [
           "Sword",
           "m712.obj"
          ],
          [
           "Sword",
           "m713.obj"
          ],
          [
           "Sword",
           "m714.obj"
          ],
          [
           "Sword",
           "m715.obj"
          ],
          [
           "Sword",
           "m716.obj"
          ],
          [
           "Sword",
           "m717.obj"
          ],
          [
           "Sword",
           "m718.obj"
          ],
          [
           "Sword",
           "m719.obj"
          ],
          [
           "Sword",
           "m720.obj"
          ],
          [
           "Sword",
           "m721.obj"
          ]
         ],
         "hovertemplate": "Class=%{customdata[0]}<br>Principal Component 1=%{x}<br>Principal Component 2=%{y}<br>Name=%{customdata[1]}<extra></extra>",
         "legendgroup": "Sword",
         "marker": {
          "color": "#FF97FF",
          "symbol": "circle"
         },
         "mode": "markers",
         "name": "Sword",
         "orientation": "v",
         "showlegend": true,
         "type": "scatter",
         "x": [
          -13.186880111694336,
          5.0338335037231445,
          8.702079772949219,
          -30.671335220336914,
          -35.543434143066406,
          13.30000114440918,
          -15.793309211730957,
          -21.810157775878906,
          16.038911819458008,
          -33.01284408569336,
          -26.818939208984375,
          -35.002952575683594,
          -27.441904067993164,
          -33.851707458496094,
          -36.44038772583008,
          -35.47471618652344,
          12.678207397460938,
          -36.92704391479492,
          9.381513595581055,
          -31.223947525024414,
          8.623212814331055,
          -17.19965362548828,
          5.034886837005615,
          -32.30393981933594,
          -35.57229995727539,
          -35.349063873291016,
          -27.568073272705078,
          10.478363990783691,
          18.67534065246582,
          -37.614471435546875,
          -28.62474250793457,
          -29.02738380432129,
          -32.654823303222656,
          -37.08357238769531,
          -34.458106994628906,
          -36.40123748779297,
          -35.562255859375,
          -21.104928970336914,
          -32.54159927368164,
          -32.931251525878906,
          2.3457624912261963,
          -30.879682540893555,
          -35.90565490722656,
          -34.693824768066406,
          -37.614471435546875,
          18.67534065246582,
          -34.189144134521484,
          -15.97911548614502,
          -34.30760955810547,
          -6.850391864776611,
          -32.03475570678711,
          -23.14777183532715
         ],
         "xaxis": "x",
         "y": [
          23.552642822265625,
          1.680885672569275,
          22.39796257019043,
          1.8714686632156372,
          4.301076412200928,
          8.545842170715332,
          45.04383087158203,
          3.453784704208374,
          20.32029151916504,
          3.2171363830566406,
          3.828444480895996,
          3.86413836479187,
          1.8698480129241943,
          3.5563619136810303,
          4.569788932800293,
          4.120028018951416,
          19.698963165283203,
          4.871706008911133,
          24.15347671508789,
          1.9339910745620728,
          -1.6578662395477295,
          0.9776926040649414,
          23.94451332092285,
          2.980299472808838,
          4.169172763824463,
          4.019716739654541,
          2.4622507095336914,
          22.884485244750977,
          17.59395980834961,
          5.461923122406006,
          2.4153339862823486,
          1.6724963188171387,
          2.584223985671997,
          4.998418807983398,
          4.086183547973633,
          4.551714897155762,
          4.133612632751465,
          3.4478883743286133,
          3.0516960620880127,
          3.1979238986968994,
          23.786821365356445,
          2.256088972091675,
          4.35163688659668,
          3.7374789714813232,
          5.461923122406006,
          17.593948364257812,
          3.685811996459961,
          50.791839599609375,
          6.326902866363525,
          -12.688626289367676,
          2.240788698196411,
          0.32702943682670593
         ],
         "yaxis": "y"
        },
        {
         "customdata": [
          [
           "Tool",
           "D01003.obj"
          ],
          [
           "Tool",
           "D01012.obj"
          ],
          [
           "Tool",
           "D01040.obj"
          ],
          [
           "Tool",
           "D01044.obj"
          ],
          [
           "Tool",
           "D01069.obj"
          ],
          [
           "Tool",
           "D01084.obj"
          ],
          [
           "Tool",
           "D01086.obj"
          ],
          [
           "Tool",
           "D01111.obj"
          ],
          [
           "Tool",
           "D01113.obj"
          ],
          [
           "Tool",
           "D01127.obj"
          ],
          [
           "Tool",
           "D01131.obj"
          ],
          [
           "Tool",
           "D01140.obj"
          ],
          [
           "Tool",
           "D01142.obj"
          ],
          [
           "Tool",
           "D01148.obj"
          ],
          [
           "Tool",
           "D01152.obj"
          ],
          [
           "Tool",
           "D01154.obj"
          ],
          [
           "Tool",
           "D01156.obj"
          ],
          [
           "Tool",
           "D01159.obj"
          ],
          [
           "Tool",
           "D01165.obj"
          ],
          [
           "Tool",
           "D01176.obj"
          ],
          [
           "Tool",
           "m1099.obj"
          ],
          [
           "Tool",
           "m1100.obj"
          ],
          [
           "Tool",
           "m1101.obj"
          ],
          [
           "Tool",
           "m1102.obj"
          ],
          [
           "Tool",
           "m1103.obj"
          ],
          [
           "Tool",
           "m1104.obj"
          ],
          [
           "Tool",
           "m1105.obj"
          ],
          [
           "Tool",
           "m1106.obj"
          ],
          [
           "Tool",
           "m1107.obj"
          ],
          [
           "Tool",
           "m1108.obj"
          ],
          [
           "Tool",
           "m1109.obj"
          ],
          [
           "Tool",
           "m1110.obj"
          ],
          [
           "Tool",
           "m1111.obj"
          ],
          [
           "Tool",
           "m1112.obj"
          ],
          [
           "Tool",
           "m1113.obj"
          ],
          [
           "Tool",
           "m1114.obj"
          ],
          [
           "Tool",
           "m1115.obj"
          ],
          [
           "Tool",
           "m1116.obj"
          ],
          [
           "Tool",
           "m1117.obj"
          ],
          [
           "Tool",
           "m589.obj"
          ],
          [
           "Tool",
           "m590.obj"
          ],
          [
           "Tool",
           "m591.obj"
          ]
         ],
         "hovertemplate": "Class=%{customdata[0]}<br>Principal Component 1=%{x}<br>Principal Component 2=%{y}<br>Name=%{customdata[1]}<extra></extra>",
         "legendgroup": "Tool",
         "marker": {
          "color": "#FECB52",
          "symbol": "circle"
         },
         "mode": "markers",
         "name": "Tool",
         "orientation": "v",
         "showlegend": true,
         "type": "scatter",
         "x": [
          -14.93662166595459,
          -12.806374549865723,
          -10.414325714111328,
          -10.666601181030273,
          -9.42688274383545,
          -10.843587875366211,
          -13.81749153137207,
          -13.070672035217285,
          -13.983278274536133,
          -9.574896812438965,
          -11.184341430664062,
          -10.098197937011719,
          -11.301765441894531,
          -12.363396644592285,
          -13.09953784942627,
          -9.891866683959961,
          -11.316336631774902,
          -11.386470794677734,
          -13.634740829467773,
          -14.073819160461426,
          -26.600988388061523,
          9.442859649658203,
          -30.712400436401367,
          -33.67305374145508,
          -24.901063919067383,
          -26.10243034362793,
          -25.26148796081543,
          -20.99661636352539,
          -25.75434684753418,
          -28.668094635009766,
          -11.036980628967285,
          -13.725362777709961,
          -15.553044319152832,
          2.8347294330596924,
          -13.957469940185547,
          -24.8021240234375,
          -19.199033737182617,
          -25.859878540039062,
          -23.516767501831055,
          21.434309005737305,
          12.647819519042969,
          13.343964576721191
         ],
         "xaxis": "x",
         "y": [
          -2.4245288372039795,
          -3.9501585960388184,
          -7.166594505310059,
          -6.727223873138428,
          -8.437165260314941,
          -6.735581398010254,
          -3.0706284046173096,
          -3.690279006958008,
          -2.9766321182250977,
          -8.274986267089844,
          -6.185049057006836,
          -7.669666290283203,
          -5.5524396896362305,
          -4.450649738311768,
          -3.2711808681488037,
          -7.93807315826416,
          -5.734403610229492,
          -5.7008957862854,
          -2.7370829582214355,
          -3.0437917709350586,
          3.2181036472320557,
          21.045095443725586,
          1.8199106454849243,
          4.68806791305542,
          1.2782942056655884,
          1.4187119007110596,
          1.0226556062698364,
          36.649436950683594,
          1.115601658821106,
          3.0997631549835205,
          -6.482978343963623,
          -3.3292014598846436,
          -1.8104426860809326,
          23.144384384155273,
          -2.926154136657715,
          0.4927928149700165,
          -0.26009654998779297,
          0.8120330572128296,
          0.4538074731826782,
          7.680838584899902,
          -8.215975761413574,
          1.418664574623108
         ],
         "yaxis": "y"
        }
       ],
       "layout": {
        "legend": {
         "title": {
          "text": "Class"
         },
         "tracegroupgap": 0
        },
        "template": {
         "data": {
          "bar": [
           {
            "error_x": {
             "color": "#2a3f5f"
            },
            "error_y": {
             "color": "#2a3f5f"
            },
            "marker": {
             "line": {
              "color": "#E5ECF6",
              "width": 0.5
             },
             "pattern": {
              "fillmode": "overlay",
              "size": 10,
              "solidity": 0.2
             }
            },
            "type": "bar"
           }
          ],
          "barpolar": [
           {
            "marker": {
             "line": {
              "color": "#E5ECF6",
              "width": 0.5
             },
             "pattern": {
              "fillmode": "overlay",
              "size": 10,
              "solidity": 0.2
             }
            },
            "type": "barpolar"
           }
          ],
          "carpet": [
           {
            "aaxis": {
             "endlinecolor": "#2a3f5f",
             "gridcolor": "white",
             "linecolor": "white",
             "minorgridcolor": "white",
             "startlinecolor": "#2a3f5f"
            },
            "baxis": {
             "endlinecolor": "#2a3f5f",
             "gridcolor": "white",
             "linecolor": "white",
             "minorgridcolor": "white",
             "startlinecolor": "#2a3f5f"
            },
            "type": "carpet"
           }
          ],
          "choropleth": [
           {
            "colorbar": {
             "outlinewidth": 0,
             "ticks": ""
            },
            "type": "choropleth"
           }
          ],
          "contour": [
           {
            "colorbar": {
             "outlinewidth": 0,
             "ticks": ""
            },
            "colorscale": [
             [
              0,
              "#0d0887"
             ],
             [
              0.1111111111111111,
              "#46039f"
             ],
             [
              0.2222222222222222,
              "#7201a8"
             ],
             [
              0.3333333333333333,
              "#9c179e"
             ],
             [
              0.4444444444444444,
              "#bd3786"
             ],
             [
              0.5555555555555556,
              "#d8576b"
             ],
             [
              0.6666666666666666,
              "#ed7953"
             ],
             [
              0.7777777777777778,
              "#fb9f3a"
             ],
             [
              0.8888888888888888,
              "#fdca26"
             ],
             [
              1,
              "#f0f921"
             ]
            ],
            "type": "contour"
           }
          ],
          "contourcarpet": [
           {
            "colorbar": {
             "outlinewidth": 0,
             "ticks": ""
            },
            "type": "contourcarpet"
           }
          ],
          "heatmap": [
           {
            "colorbar": {
             "outlinewidth": 0,
             "ticks": ""
            },
            "colorscale": [
             [
              0,
              "#0d0887"
             ],
             [
              0.1111111111111111,
              "#46039f"
             ],
             [
              0.2222222222222222,
              "#7201a8"
             ],
             [
              0.3333333333333333,
              "#9c179e"
             ],
             [
              0.4444444444444444,
              "#bd3786"
             ],
             [
              0.5555555555555556,
              "#d8576b"
             ],
             [
              0.6666666666666666,
              "#ed7953"
             ],
             [
              0.7777777777777778,
              "#fb9f3a"
             ],
             [
              0.8888888888888888,
              "#fdca26"
             ],
             [
              1,
              "#f0f921"
             ]
            ],
            "type": "heatmap"
           }
          ],
          "heatmapgl": [
           {
            "colorbar": {
             "outlinewidth": 0,
             "ticks": ""
            },
            "colorscale": [
             [
              0,
              "#0d0887"
             ],
             [
              0.1111111111111111,
              "#46039f"
             ],
             [
              0.2222222222222222,
              "#7201a8"
             ],
             [
              0.3333333333333333,
              "#9c179e"
             ],
             [
              0.4444444444444444,
              "#bd3786"
             ],
             [
              0.5555555555555556,
              "#d8576b"
             ],
             [
              0.6666666666666666,
              "#ed7953"
             ],
             [
              0.7777777777777778,
              "#fb9f3a"
             ],
             [
              0.8888888888888888,
              "#fdca26"
             ],
             [
              1,
              "#f0f921"
             ]
            ],
            "type": "heatmapgl"
           }
          ],
          "histogram": [
           {
            "marker": {
             "pattern": {
              "fillmode": "overlay",
              "size": 10,
              "solidity": 0.2
             }
            },
            "type": "histogram"
           }
          ],
          "histogram2d": [
           {
            "colorbar": {
             "outlinewidth": 0,
             "ticks": ""
            },
            "colorscale": [
             [
              0,
              "#0d0887"
             ],
             [
              0.1111111111111111,
              "#46039f"
             ],
             [
              0.2222222222222222,
              "#7201a8"
             ],
             [
              0.3333333333333333,
              "#9c179e"
             ],
             [
              0.4444444444444444,
              "#bd3786"
             ],
             [
              0.5555555555555556,
              "#d8576b"
             ],
             [
              0.6666666666666666,
              "#ed7953"
             ],
             [
              0.7777777777777778,
              "#fb9f3a"
             ],
             [
              0.8888888888888888,
              "#fdca26"
             ],
             [
              1,
              "#f0f921"
             ]
            ],
            "type": "histogram2d"
           }
          ],
          "histogram2dcontour": [
           {
            "colorbar": {
             "outlinewidth": 0,
             "ticks": ""
            },
            "colorscale": [
             [
              0,
              "#0d0887"
             ],
             [
              0.1111111111111111,
              "#46039f"
             ],
             [
              0.2222222222222222,
              "#7201a8"
             ],
             [
              0.3333333333333333,
              "#9c179e"
             ],
             [
              0.4444444444444444,
              "#bd3786"
             ],
             [
              0.5555555555555556,
              "#d8576b"
             ],
             [
              0.6666666666666666,
              "#ed7953"
             ],
             [
              0.7777777777777778,
              "#fb9f3a"
             ],
             [
              0.8888888888888888,
              "#fdca26"
             ],
             [
              1,
              "#f0f921"
             ]
            ],
            "type": "histogram2dcontour"
           }
          ],
          "mesh3d": [
           {
            "colorbar": {
             "outlinewidth": 0,
             "ticks": ""
            },
            "type": "mesh3d"
           }
          ],
          "parcoords": [
           {
            "line": {
             "colorbar": {
              "outlinewidth": 0,
              "ticks": ""
             }
            },
            "type": "parcoords"
           }
          ],
          "pie": [
           {
            "automargin": true,
            "type": "pie"
           }
          ],
          "scatter": [
           {
            "fillpattern": {
             "fillmode": "overlay",
             "size": 10,
             "solidity": 0.2
            },
            "type": "scatter"
           }
          ],
          "scatter3d": [
           {
            "line": {
             "colorbar": {
              "outlinewidth": 0,
              "ticks": ""
             }
            },
            "marker": {
             "colorbar": {
              "outlinewidth": 0,
              "ticks": ""
             }
            },
            "type": "scatter3d"
           }
          ],
          "scattercarpet": [
           {
            "marker": {
             "colorbar": {
              "outlinewidth": 0,
              "ticks": ""
             }
            },
            "type": "scattercarpet"
           }
          ],
          "scattergeo": [
           {
            "marker": {
             "colorbar": {
              "outlinewidth": 0,
              "ticks": ""
             }
            },
            "type": "scattergeo"
           }
          ],
          "scattergl": [
           {
            "marker": {
             "colorbar": {
              "outlinewidth": 0,
              "ticks": ""
             }
            },
            "type": "scattergl"
           }
          ],
          "scattermapbox": [
           {
            "marker": {
             "colorbar": {
              "outlinewidth": 0,
              "ticks": ""
             }
            },
            "type": "scattermapbox"
           }
          ],
          "scatterpolar": [
           {
            "marker": {
             "colorbar": {
              "outlinewidth": 0,
              "ticks": ""
             }
            },
            "type": "scatterpolar"
           }
          ],
          "scatterpolargl": [
           {
            "marker": {
             "colorbar": {
              "outlinewidth": 0,
              "ticks": ""
             }
            },
            "type": "scatterpolargl"
           }
          ],
          "scatterternary": [
           {
            "marker": {
             "colorbar": {
              "outlinewidth": 0,
              "ticks": ""
             }
            },
            "type": "scatterternary"
           }
          ],
          "surface": [
           {
            "colorbar": {
             "outlinewidth": 0,
             "ticks": ""
            },
            "colorscale": [
             [
              0,
              "#0d0887"
             ],
             [
              0.1111111111111111,
              "#46039f"
             ],
             [
              0.2222222222222222,
              "#7201a8"
             ],
             [
              0.3333333333333333,
              "#9c179e"
             ],
             [
              0.4444444444444444,
              "#bd3786"
             ],
             [
              0.5555555555555556,
              "#d8576b"
             ],
             [
              0.6666666666666666,
              "#ed7953"
             ],
             [
              0.7777777777777778,
              "#fb9f3a"
             ],
             [
              0.8888888888888888,
              "#fdca26"
             ],
             [
              1,
              "#f0f921"
             ]
            ],
            "type": "surface"
           }
          ],
          "table": [
           {
            "cells": {
             "fill": {
              "color": "#EBF0F8"
             },
             "line": {
              "color": "white"
             }
            },
            "header": {
             "fill": {
              "color": "#C8D4E3"
             },
             "line": {
              "color": "white"
             }
            },
            "type": "table"
           }
          ]
         },
         "layout": {
          "annotationdefaults": {
           "arrowcolor": "#2a3f5f",
           "arrowhead": 0,
           "arrowwidth": 1
          },
          "autotypenumbers": "strict",
          "coloraxis": {
           "colorbar": {
            "outlinewidth": 0,
            "ticks": ""
           }
          },
          "colorscale": {
           "diverging": [
            [
             0,
             "#8e0152"
            ],
            [
             0.1,
             "#c51b7d"
            ],
            [
             0.2,
             "#de77ae"
            ],
            [
             0.3,
             "#f1b6da"
            ],
            [
             0.4,
             "#fde0ef"
            ],
            [
             0.5,
             "#f7f7f7"
            ],
            [
             0.6,
             "#e6f5d0"
            ],
            [
             0.7,
             "#b8e186"
            ],
            [
             0.8,
             "#7fbc41"
            ],
            [
             0.9,
             "#4d9221"
            ],
            [
             1,
             "#276419"
            ]
           ],
           "sequential": [
            [
             0,
             "#0d0887"
            ],
            [
             0.1111111111111111,
             "#46039f"
            ],
            [
             0.2222222222222222,
             "#7201a8"
            ],
            [
             0.3333333333333333,
             "#9c179e"
            ],
            [
             0.4444444444444444,
             "#bd3786"
            ],
            [
             0.5555555555555556,
             "#d8576b"
            ],
            [
             0.6666666666666666,
             "#ed7953"
            ],
            [
             0.7777777777777778,
             "#fb9f3a"
            ],
            [
             0.8888888888888888,
             "#fdca26"
            ],
            [
             1,
             "#f0f921"
            ]
           ],
           "sequentialminus": [
            [
             0,
             "#0d0887"
            ],
            [
             0.1111111111111111,
             "#46039f"
            ],
            [
             0.2222222222222222,
             "#7201a8"
            ],
            [
             0.3333333333333333,
             "#9c179e"
            ],
            [
             0.4444444444444444,
             "#bd3786"
            ],
            [
             0.5555555555555556,
             "#d8576b"
            ],
            [
             0.6666666666666666,
             "#ed7953"
            ],
            [
             0.7777777777777778,
             "#fb9f3a"
            ],
            [
             0.8888888888888888,
             "#fdca26"
            ],
            [
             1,
             "#f0f921"
            ]
           ]
          },
          "colorway": [
           "#636efa",
           "#EF553B",
           "#00cc96",
           "#ab63fa",
           "#FFA15A",
           "#19d3f3",
           "#FF6692",
           "#B6E880",
           "#FF97FF",
           "#FECB52"
          ],
          "font": {
           "color": "#2a3f5f"
          },
          "geo": {
           "bgcolor": "white",
           "lakecolor": "white",
           "landcolor": "#E5ECF6",
           "showlakes": true,
           "showland": true,
           "subunitcolor": "white"
          },
          "hoverlabel": {
           "align": "left"
          },
          "hovermode": "closest",
          "mapbox": {
           "style": "light"
          },
          "paper_bgcolor": "white",
          "plot_bgcolor": "#E5ECF6",
          "polar": {
           "angularaxis": {
            "gridcolor": "white",
            "linecolor": "white",
            "ticks": ""
           },
           "bgcolor": "#E5ECF6",
           "radialaxis": {
            "gridcolor": "white",
            "linecolor": "white",
            "ticks": ""
           }
          },
          "scene": {
           "xaxis": {
            "backgroundcolor": "#E5ECF6",
            "gridcolor": "white",
            "gridwidth": 2,
            "linecolor": "white",
            "showbackground": true,
            "ticks": "",
            "zerolinecolor": "white"
           },
           "yaxis": {
            "backgroundcolor": "#E5ECF6",
            "gridcolor": "white",
            "gridwidth": 2,
            "linecolor": "white",
            "showbackground": true,
            "ticks": "",
            "zerolinecolor": "white"
           },
           "zaxis": {
            "backgroundcolor": "#E5ECF6",
            "gridcolor": "white",
            "gridwidth": 2,
            "linecolor": "white",
            "showbackground": true,
            "ticks": "",
            "zerolinecolor": "white"
           }
          },
          "shapedefaults": {
           "line": {
            "color": "#2a3f5f"
           }
          },
          "ternary": {
           "aaxis": {
            "gridcolor": "white",
            "linecolor": "white",
            "ticks": ""
           },
           "baxis": {
            "gridcolor": "white",
            "linecolor": "white",
            "ticks": ""
           },
           "bgcolor": "#E5ECF6",
           "caxis": {
            "gridcolor": "white",
            "linecolor": "white",
            "ticks": ""
           }
          },
          "title": {
           "x": 0.05
          },
          "xaxis": {
           "automargin": true,
           "gridcolor": "white",
           "linecolor": "white",
           "ticks": "",
           "title": {
            "standoff": 15
           },
           "zerolinecolor": "white",
           "zerolinewidth": 2
          },
          "yaxis": {
           "automargin": true,
           "gridcolor": "white",
           "linecolor": "white",
           "ticks": "",
           "title": {
            "standoff": 15
           },
           "zerolinecolor": "white",
           "zerolinewidth": 2
          }
         }
        },
        "title": {
         "text": "TSNE - Perplexity=60"
        },
        "xaxis": {
         "anchor": "y",
         "domain": [
          0,
          1
         ],
         "title": {
          "text": "Principal Component 1"
         }
        },
        "yaxis": {
         "anchor": "x",
         "domain": [
          0,
          1
         ],
         "title": {
          "text": "Principal Component 2"
         }
        }
       }
      }
     },
     "metadata": {},
     "output_type": "display_data"
    }
   ],
   "source": [
    "perplexity = 60\n",
    "X_embedded = TSNE(n_components=2, learning_rate='auto',init='random', perplexity=perplexity).fit_transform(X)\n",
    "tsne_df = pd.DataFrame(data=X_embedded, columns=['PCA1', 'PCA2'])\n",
    "tsne_df['Class'] = Y['class']  # Add the class labels\n",
    "subs = [\"PlantIndoors\",\"HumanHead\",\"Chess\",\"Sword\",\"Biplane\",\"Hand\",\"Quadruped\",\"Tool\",\"Door\",\"Jet\"]\n",
    "tsne_df['Name']=Y[\"mesh_name\"]\n",
    "\n",
    "plot_data2(tsne_df,\"PCA1\",\"PCA2\",subset=subs, title=f\"TSNE - Perplexity={perplexity}\",html_filename=\"plot_tsne_selected_perplexity_60.html\")"
   ]
  },
  {
   "cell_type": "code",
   "execution_count": 40,
   "metadata": {},
   "outputs": [
    {
     "name": "stdout",
     "output_type": "stream",
     "text": [
      "Plot saved as plot_pca_selected.html\n"
     ]
    },
    {
     "data": {
      "application/vnd.plotly.v1+json": {
       "config": {
        "plotlyServerURL": "https://plot.ly"
       },
       "data": [
        {
         "customdata": [
          [
           "Biplane",
           "D00069.obj"
          ],
          [
           "Biplane",
           "D00132.obj"
          ],
          [
           "Biplane",
           "D00178.obj"
          ],
          [
           "Biplane",
           "D00199.obj"
          ],
          [
           "Biplane",
           "D00246.obj"
          ],
          [
           "Biplane",
           "D00276.obj"
          ],
          [
           "Biplane",
           "D00277.obj"
          ],
          [
           "Biplane",
           "D00320.obj"
          ],
          [
           "Biplane",
           "D00373.obj"
          ],
          [
           "Biplane",
           "D00410.obj"
          ],
          [
           "Biplane",
           "D00490.obj"
          ],
          [
           "Biplane",
           "D00515.obj"
          ],
          [
           "Biplane",
           "D00601.obj"
          ],
          [
           "Biplane",
           "D00616.obj"
          ],
          [
           "Biplane",
           "D00632.obj"
          ],
          [
           "Biplane",
           "D00634.obj"
          ],
          [
           "Biplane",
           "D00666.obj"
          ],
          [
           "Biplane",
           "D00854.obj"
          ],
          [
           "Biplane",
           "D00890.obj"
          ],
          [
           "Biplane",
           "D00900.obj"
          ],
          [
           "Biplane",
           "m1118.obj"
          ],
          [
           "Biplane",
           "m1119.obj"
          ],
          [
           "Biplane",
           "m1120.obj"
          ],
          [
           "Biplane",
           "m1121.obj"
          ],
          [
           "Biplane",
           "m1122.obj"
          ],
          [
           "Biplane",
           "m1123.obj"
          ],
          [
           "Biplane",
           "m1124.obj"
          ],
          [
           "Biplane",
           "m1126.obj"
          ],
          [
           "Biplane",
           "m1127.obj"
          ],
          [
           "Biplane",
           "m1128.obj"
          ],
          [
           "Biplane",
           "m1129.obj"
          ],
          [
           "Biplane",
           "m1131.obj"
          ],
          [
           "Biplane",
           "m1132.obj"
          ],
          [
           "Biplane",
           "m1133.obj"
          ],
          [
           "Biplane",
           "m1134.obj"
          ],
          [
           "Biplane",
           "m1135.obj"
          ],
          [
           "Biplane",
           "m1136.obj"
          ],
          [
           "Biplane",
           "m1137.obj"
          ],
          [
           "Biplane",
           "m1138.obj"
          ],
          [
           "Biplane",
           "m1139.obj"
          ],
          [
           "Biplane",
           "m1141.obj"
          ],
          [
           "Biplane",
           "m1143.obj"
          ],
          [
           "Biplane",
           "m1144.obj"
          ],
          [
           "Biplane",
           "m1146.obj"
          ]
         ],
         "hovertemplate": "Class=%{customdata[0]}<br>Principal Component 1=%{x}<br>Principal Component 2=%{y}<br>Name=%{customdata[1]}<extra></extra>",
         "legendgroup": "Biplane",
         "marker": {
          "color": "#636efa",
          "symbol": "circle"
         },
         "mode": "markers",
         "name": "Biplane",
         "orientation": "v",
         "showlegend": true,
         "type": "scatter",
         "x": [
          -1.2245098870368819e+31,
          -1.2245098870369292e+31,
          -1.2245098870369514e+31,
          -1.2245098870369082e+31,
          -1.224509887036974e+31,
          -1.2245098870369125e+31,
          -1.2245098870369805e+31,
          -1.2245098870369413e+31,
          -1.2245098870369064e+31,
          -1.224509887036921e+31,
          -1.2245098870369285e+31,
          -1.2245098870369339e+31,
          -1.224509887036911e+31,
          -1.224509887036919e+31,
          -1.2245098870369343e+31,
          -1.224509887036937e+31,
          -1.2245098870369147e+31,
          -1.2245098870369647e+31,
          -1.2245098870369247e+31,
          -1.224509887036956e+31,
          -1.2245098870369064e+31,
          -1.2245098870369192e+31,
          -1.224509887036921e+31,
          -1.2245098870369093e+31,
          -1.2245098870369303e+31,
          -1.2245098870368983e+31,
          -1.224509887036881e+31,
          -1.224509887036913e+31,
          -1.2245098870369183e+31,
          -1.22450988703692e+31,
          -1.2245098870369156e+31,
          -1.2245098870369233e+31,
          -1.2245098870369012e+31,
          -1.224509887036935e+31,
          -1.2245098870369138e+31,
          -1.2245098870368897e+31,
          -1.2245098870369136e+31,
          -1.2245098870369253e+31,
          -1.224509887036911e+31,
          -1.2245098870369053e+31,
          -1.2245098870369485e+31,
          -1.2245098870368564e+31,
          -1.2245098870369253e+31,
          -1.2245098870369084e+31
         ],
         "xaxis": "x",
         "y": [
          -152.6125743606563,
          -129.53483426520913,
          -148.0312662325944,
          -152.79997533630856,
          -144.1028816980658,
          -156.21541797533666,
          -155.30992539034384,
          -152.1353841483517,
          -147.91367518171765,
          -142.51047712461624,
          -149.4381593654516,
          -152.55237727470842,
          -157.48362903852336,
          -142.18212862165052,
          -152.21571195278165,
          -153.9691953633964,
          -147.16414378355447,
          -153.68857526026832,
          -145.3096540811342,
          -151.74630553344934,
          -147.81810965966127,
          -154.17288319413368,
          -144.35846900981608,
          -153.44781447643746,
          -151.92947309102703,
          -150.55654202687023,
          -145.89420440138508,
          -150.7898787167985,
          -148.22923629362714,
          -147.32181527835937,
          -152.2954893336255,
          -147.96247829716341,
          -140.3504391632094,
          -152.21570327208093,
          -117.91140677240493,
          -135.91997954845672,
          -152.50283075940948,
          -117.97581845698554,
          -155.6932827965624,
          -154.51703586235783,
          -154.60325046938442,
          -145.07719010997468,
          -153.52358586279442,
          -129.4189373206713
         ],
         "yaxis": "y"
        },
        {
         "customdata": [
          [
           "Chess",
           "D01017.obj"
          ],
          [
           "Chess",
           "D01019.obj"
          ],
          [
           "Chess",
           "D01021.obj"
          ],
          [
           "Chess",
           "D01043.obj"
          ],
          [
           "Chess",
           "D01045.obj"
          ],
          [
           "Chess",
           "D01049.obj"
          ],
          [
           "Chess",
           "D01053.obj"
          ],
          [
           "Chess",
           "D01080.obj"
          ],
          [
           "Chess",
           "D01081.obj"
          ],
          [
           "Chess",
           "D01099.obj"
          ],
          [
           "Chess",
           "D01105.obj"
          ],
          [
           "Chess",
           "D01112.obj"
          ],
          [
           "Chess",
           "D01123.obj"
          ],
          [
           "Chess",
           "D01126.obj"
          ],
          [
           "Chess",
           "D01130.obj"
          ],
          [
           "Chess",
           "D01138.obj"
          ],
          [
           "Chess",
           "D01145.obj"
          ],
          [
           "Chess",
           "D01171.obj"
          ],
          [
           "Chess",
           "D01186.obj"
          ],
          [
           "Chess",
           "D01188.obj"
          ],
          [
           "Chess",
           "m1589.obj"
          ],
          [
           "Chess",
           "m1591.obj"
          ],
          [
           "Chess",
           "m1593.obj"
          ],
          [
           "Chess",
           "m1595.obj"
          ],
          [
           "Chess",
           "m1596.obj"
          ],
          [
           "Chess",
           "m1598.obj"
          ],
          [
           "Chess",
           "m1599.obj"
          ],
          [
           "Chess",
           "m1600.obj"
          ],
          [
           "Chess",
           "m1601.obj"
          ],
          [
           "Chess",
           "m1602.obj"
          ],
          [
           "Chess",
           "m1603.obj"
          ],
          [
           "Chess",
           "m1604.obj"
          ],
          [
           "Chess",
           "m1605.obj"
          ],
          [
           "Chess",
           "m1606.obj"
          ],
          [
           "Chess",
           "m1607.obj"
          ],
          [
           "Chess",
           "m1608.obj"
          ],
          [
           "Chess",
           "m1609.obj"
          ],
          [
           "Chess",
           "m1610.obj"
          ],
          [
           "Chess",
           "m1611.obj"
          ],
          [
           "Chess",
           "m1612.obj"
          ],
          [
           "Chess",
           "m1613.obj"
          ],
          [
           "Chess",
           "m1614.obj"
          ]
         ],
         "hovertemplate": "Class=%{customdata[0]}<br>Principal Component 1=%{x}<br>Principal Component 2=%{y}<br>Name=%{customdata[1]}<extra></extra>",
         "legendgroup": "Chess",
         "marker": {
          "color": "#EF553B",
          "symbol": "circle"
         },
         "mode": "markers",
         "name": "Chess",
         "orientation": "v",
         "showlegend": true,
         "type": "scatter",
         "x": [
          -1.2245098870369778e+31,
          -1.2245098870369409e+31,
          -1.2245098870369578e+31,
          -1.2245098870369523e+31,
          -1.2245098870369168e+31,
          -1.2245098870369316e+31,
          -1.224509887036947e+31,
          -1.224509887036901e+31,
          -1.224509887036937e+31,
          -1.2245098870369782e+31,
          -1.224509887036927e+31,
          -1.224509887036912e+31,
          -1.2245098870369496e+31,
          -1.224509887036954e+31,
          -1.2245098870369307e+31,
          -1.224509887036941e+31,
          -1.2245098870369463e+31,
          -1.2245098870369445e+31,
          -1.2245098870369472e+31,
          -1.2245098870369807e+31,
          -1.224509887036893e+31,
          -1.224509887036922e+31,
          -1.2245098870369204e+31,
          -1.2245098870368553e+31,
          -1.224509887036859e+31,
          -1.2245098870369125e+31,
          -1.2245098870369e+31,
          -1.22450988703694e+31,
          -1.2245098870369377e+31,
          -1.2245098870369168e+31,
          -1.2245098870369512e+31,
          -1.224509887036932e+31,
          -1.2245098870369485e+31,
          -1.2245098870369812e+31,
          -1.2245098870369523e+31,
          -1.2245098870369848e+31,
          -1.2245098870369454e+31,
          -1.2245098870369679e+31,
          -1.2245098870369562e+31,
          -1.2245098870369258e+31,
          -1.2245098870369253e+31,
          -1.2245098870369487e+31
         ],
         "xaxis": "x",
         "y": [
          -155.10131474176652,
          -151.4037177953393,
          -151.8406810237403,
          -145.64054516918566,
          -149.76390320814153,
          -149.60462049301705,
          -157.71702825364332,
          -152.11848231470023,
          -154.1404252171878,
          -155.97417998895847,
          -152.21126031786537,
          -151.14916634357468,
          -148.71288187843842,
          -154.41432809510752,
          -151.17636165563698,
          -152.02695578999433,
          -148.80443443581208,
          -157.5424133357858,
          -154.77652061876827,
          -156.95691057681447,
          -132.6539784461917,
          -110.31909361665898,
          -120.69972844297043,
          -108.63100407612986,
          -60.06747540236856,
          -151.1492507726834,
          -152.11846998593657,
          -151.6027929396411,
          -154.14042957898295,
          -149.83534695150965,
          -145.64054705039328,
          -149.47693492572353,
          -157.71702740369966,
          -156.0628543993895,
          -154.41433233827127,
          -156.99055351850717,
          -154.8312808031292,
          -158.47003557835066,
          -151.7953389146253,
          -151.42940364307555,
          -152.21139473578117,
          -148.29339677917335
         ],
         "yaxis": "y"
        },
        {
         "customdata": [
          [
           "Door",
           "D01005.obj"
          ],
          [
           "Door",
           "D01029.obj"
          ],
          [
           "Door",
           "D01052.obj"
          ],
          [
           "Door",
           "D01058.obj"
          ],
          [
           "Door",
           "D01062.obj"
          ],
          [
           "Door",
           "D01076.obj"
          ],
          [
           "Door",
           "D01104.obj"
          ],
          [
           "Door",
           "D01114.obj"
          ],
          [
           "Door",
           "D01121.obj"
          ],
          [
           "Door",
           "D01129.obj"
          ],
          [
           "Door",
           "D01136.obj"
          ],
          [
           "Door",
           "D01139.obj"
          ],
          [
           "Door",
           "D01141.obj"
          ],
          [
           "Door",
           "D01143.obj"
          ],
          [
           "Door",
           "D01144.obj"
          ],
          [
           "Door",
           "D01155.obj"
          ],
          [
           "Door",
           "D01158.obj"
          ],
          [
           "Door",
           "D01167.obj"
          ],
          [
           "Door",
           "D01177.obj"
          ],
          [
           "Door",
           "D01194.obj"
          ],
          [
           "Door",
           "m1707.obj"
          ],
          [
           "Door",
           "m1708.obj"
          ],
          [
           "Door",
           "m1710.obj"
          ],
          [
           "Door",
           "m1711.obj"
          ],
          [
           "Door",
           "m1712.obj"
          ],
          [
           "Door",
           "m1713.obj"
          ],
          [
           "Door",
           "m1714.obj"
          ],
          [
           "Door",
           "m1715.obj"
          ],
          [
           "Door",
           "m1716.obj"
          ],
          [
           "Door",
           "m1717.obj"
          ],
          [
           "Door",
           "m1718.obj"
          ],
          [
           "Door",
           "m1720.obj"
          ],
          [
           "Door",
           "m1721.obj"
          ],
          [
           "Door",
           "m1722.obj"
          ],
          [
           "Door",
           "m1723.obj"
          ],
          [
           "Door",
           "m1724.obj"
          ],
          [
           "Door",
           "m1725.obj"
          ],
          [
           "Door",
           "m1726.obj"
          ],
          [
           "Door",
           "m1727.obj"
          ],
          [
           "Door",
           "m1728.obj"
          ],
          [
           "Door",
           "m1729.obj"
          ],
          [
           "Door",
           "m1730.obj"
          ],
          [
           "Door",
           "m1731.obj"
          ],
          [
           "Door",
           "m1732.obj"
          ]
         ],
         "hovertemplate": "Class=%{customdata[0]}<br>Principal Component 1=%{x}<br>Principal Component 2=%{y}<br>Name=%{customdata[1]}<extra></extra>",
         "legendgroup": "Door",
         "marker": {
          "color": "#00cc96",
          "symbol": "circle"
         },
         "mode": "markers",
         "name": "Door",
         "orientation": "v",
         "showlegend": true,
         "type": "scatter",
         "x": [
          -1.2245098870368866e+31,
          -1.2245098870369132e+31,
          -1.224509887036906e+31,
          -1.2245098870368756e+31,
          -1.2245098870369037e+31,
          -1.2245098870368702e+31,
          -1.224509887036897e+31,
          -1.2245098870369091e+31,
          -1.2245098870368846e+31,
          -1.224509887036883e+31,
          -1.2245098870368796e+31,
          -1.224509887036866e+31,
          -1.2245098870368877e+31,
          -1.224509887036898e+31,
          -1.224509887036916e+31,
          -1.2245098870369156e+31,
          -1.2245098870368823e+31,
          -1.2245098870369003e+31,
          -1.2245098870368902e+31,
          -1.224509887036865e+31,
          -1.2245098870369156e+31,
          -1.224509887036889e+31,
          -1.2245098870369319e+31,
          -1.224509887036917e+31,
          -1.2245098870368825e+31,
          -1.2245098870368857e+31,
          -1.224509887036885e+31,
          -1.2245098870369073e+31,
          -1.224509887036881e+31,
          -1.2245098870368744e+31,
          -1.2245098870368852e+31,
          -1.2245098870368846e+31,
          -1.2245098870368825e+31,
          -1.2245098870369078e+31,
          -1.224509887036908e+31,
          -1.2245098870368934e+31,
          -1.2245098870369154e+31,
          -1.2245098870369172e+31,
          -1.2245098870369021e+31,
          -1.2245098870369015e+31,
          -1.2245098870368888e+31,
          -1.2245098870368913e+31,
          -1.2245098870369046e+31,
          -1.2245098870368979e+31
         ],
         "xaxis": "x",
         "y": [
          261.64394030212287,
          -90.07587489828373,
          -137.24031221197725,
          40.976237757313136,
          182.52417227901012,
          68.05180766932591,
          1361.8855564219355,
          -92.58926497514479,
          363.97834711479936,
          77.17251597594114,
          1406.551197734036,
          7519.576732981332,
          60.30229981612191,
          224.88991715470485,
          179.4457410555269,
          -76.84839062696452,
          -39.8972640608363,
          149.54757896863995,
          128.58637128433452,
          5971.714837035425,
          -90.09816646923493,
          304.93158284516755,
          467.1767467815769,
          203.40064344897885,
          35.99260469158487,
          261.6445486765383,
          1622.9244915643665,
          -133.8003862136493,
          48.44699604282637,
          13.937952664642292,
          77.44850114363044,
          1671.1433219156047,
          -39.8746897971606,
          -91.04258017536313,
          191.3521226064245,
          191.31930244572388,
          -20.29633884612053,
          -76.84907860559188,
          -36.77290354250421,
          920.9719390923319,
          -87.93888443308794,
          -87.93888472193495,
          8.969847336320857,
          53.8436976540122
         ],
         "yaxis": "y"
        },
        {
         "customdata": [
          [
           "Hand",
           "D01006.obj"
          ],
          [
           "Hand",
           "D01020.obj"
          ],
          [
           "Hand",
           "D01022.obj"
          ],
          [
           "Hand",
           "D01024.obj"
          ],
          [
           "Hand",
           "D01041.obj"
          ],
          [
           "Hand",
           "D01060.obj"
          ],
          [
           "Hand",
           "D01074.obj"
          ],
          [
           "Hand",
           "D01093.obj"
          ],
          [
           "Hand",
           "D01097.obj"
          ],
          [
           "Hand",
           "D01106.obj"
          ],
          [
           "Hand",
           "D01117.obj"
          ],
          [
           "Hand",
           "D01118.obj"
          ],
          [
           "Hand",
           "D01153.obj"
          ],
          [
           "Hand",
           "D01162.obj"
          ],
          [
           "Hand",
           "D01170.obj"
          ],
          [
           "Hand",
           "D01172.obj"
          ],
          [
           "Hand",
           "D01193.obj"
          ],
          [
           "Hand",
           "D01197.obj"
          ],
          [
           "Hand",
           "D01198.obj"
          ],
          [
           "Hand",
           "D01200.obj"
          ],
          [
           "Hand",
           "m323.obj"
          ],
          [
           "Hand",
           "m324.obj"
          ],
          [
           "Hand",
           "m325.obj"
          ],
          [
           "Hand",
           "m326.obj"
          ],
          [
           "Hand",
           "m327.obj"
          ],
          [
           "Hand",
           "m328.obj"
          ],
          [
           "Hand",
           "m329.obj"
          ],
          [
           "Hand",
           "m330.obj"
          ],
          [
           "Hand",
           "m331.obj"
          ],
          [
           "Hand",
           "m332.obj"
          ],
          [
           "Hand",
           "m333.obj"
          ],
          [
           "Hand",
           "m334.obj"
          ],
          [
           "Hand",
           "m335.obj"
          ],
          [
           "Hand",
           "m336.obj"
          ],
          [
           "Hand",
           "m337.obj"
          ],
          [
           "Hand",
           "m338.obj"
          ],
          [
           "Hand",
           "m339.obj"
          ]
         ],
         "hovertemplate": "Class=%{customdata[0]}<br>Principal Component 1=%{x}<br>Principal Component 2=%{y}<br>Name=%{customdata[1]}<extra></extra>",
         "legendgroup": "Hand",
         "marker": {
          "color": "#ab63fa",
          "symbol": "circle"
         },
         "mode": "markers",
         "name": "Hand",
         "orientation": "v",
         "showlegend": true,
         "type": "scatter",
         "x": [
          -1.2245098870368715e+31,
          -1.2245098870369078e+31,
          -1.2245098870369026e+31,
          -1.2245098870369512e+31,
          -1.2245098870368922e+31,
          -1.224509887036894e+31,
          -1.2245098870369033e+31,
          -1.2245098870368938e+31,
          -1.2245098870369393e+31,
          -1.2245098870369177e+31,
          -1.2245098870369319e+31,
          -1.2245098870369114e+31,
          -1.224509887036914e+31,
          -1.2245098870370118e+31,
          -1.2245098870369111e+31,
          -1.2245098870369044e+31,
          -1.224509887036919e+31,
          -1.2245098870368886e+31,
          -1.2245098870369292e+31,
          -1.224509887036892e+31,
          -1.2245098870369046e+31,
          -1.2245098870369138e+31,
          -1.224509887036893e+31,
          -1.2245098870368956e+31,
          -1.2245098870369186e+31,
          -1.2245098870369339e+31,
          -1.2245098870369395e+31,
          -1.2245098870369057e+31,
          -1.2245098870369046e+31,
          -1.2245098870370111e+31,
          -1.224509887036936e+31,
          -1.2245098870369496e+31,
          -1.2245098870368713e+31,
          -1.2245098870369111e+31,
          -1.2245098870369298e+31,
          -1.224509887036912e+31,
          -1.2245098870369145e+31
         ],
         "xaxis": "x",
         "y": [
          -156.27654595378266,
          -152.9245487561982,
          -149.99091468841092,
          -144.3999090872882,
          -149.6115418570633,
          -148.40235835103815,
          -151.48275445219065,
          -148.93284030569802,
          -147.79739164585638,
          -52.47451647674754,
          -144.57467505271288,
          -148.05082127532106,
          -140.34689370969056,
          -158.9165165512561,
          -140.12231336272237,
          -141.66380626103913,
          -151.36448473545977,
          -154.3768624704426,
          -101.67843206067431,
          -154.5789865851662,
          -141.63811440201872,
          -140.33485685894127,
          -149.61154173502817,
          -148.40235556102218,
          -151.422355366894,
          -144.57468478993036,
          -147.7973918182572,
          -149.88215321497313,
          -151.38041811182217,
          -158.92910095857584,
          -157.20751436585397,
          -144.727102036237,
          -156.27654663289388,
          -148.1931082616871,
          -101.67839836779135,
          -140.22320140612024,
          -52.474429726772314
         ],
         "yaxis": "y"
        },
        {
         "customdata": [
          [
           "HumanHead",
           "D00013.obj"
          ],
          [
           "HumanHead",
           "D00061.obj"
          ],
          [
           "HumanHead",
           "D00072.obj"
          ],
          [
           "HumanHead",
           "D00106.obj"
          ],
          [
           "HumanHead",
           "D00131.obj"
          ],
          [
           "HumanHead",
           "D00205.obj"
          ],
          [
           "HumanHead",
           "D00313.obj"
          ],
          [
           "HumanHead",
           "D00434.obj"
          ],
          [
           "HumanHead",
           "D00487.obj"
          ],
          [
           "HumanHead",
           "D00488.obj"
          ],
          [
           "HumanHead",
           "D00566.obj"
          ],
          [
           "HumanHead",
           "D00578.obj"
          ],
          [
           "HumanHead",
           "D00591.obj"
          ],
          [
           "HumanHead",
           "D00610.obj"
          ],
          [
           "HumanHead",
           "D00629.obj"
          ],
          [
           "HumanHead",
           "D00653.obj"
          ],
          [
           "HumanHead",
           "D00690.obj"
          ],
          [
           "HumanHead",
           "D00758.obj"
          ],
          [
           "HumanHead",
           "D00910.obj"
          ],
          [
           "HumanHead",
           "D00984.obj"
          ],
          [
           "HumanHead",
           "m340.obj"
          ],
          [
           "HumanHead",
           "m341.obj"
          ],
          [
           "HumanHead",
           "m342.obj"
          ],
          [
           "HumanHead",
           "m343.obj"
          ],
          [
           "HumanHead",
           "m344.obj"
          ],
          [
           "HumanHead",
           "m345.obj"
          ],
          [
           "HumanHead",
           "m346.obj"
          ],
          [
           "HumanHead",
           "m347.obj"
          ],
          [
           "HumanHead",
           "m348.obj"
          ],
          [
           "HumanHead",
           "m349.obj"
          ],
          [
           "HumanHead",
           "m350.obj"
          ],
          [
           "HumanHead",
           "m351.obj"
          ],
          [
           "HumanHead",
           "m352.obj"
          ],
          [
           "HumanHead",
           "m353.obj"
          ],
          [
           "HumanHead",
           "m354.obj"
          ],
          [
           "HumanHead",
           "m355.obj"
          ],
          [
           "HumanHead",
           "m356.obj"
          ],
          [
           "HumanHead",
           "m357.obj"
          ],
          [
           "HumanHead",
           "m358.obj"
          ],
          [
           "HumanHead",
           "m359.obj"
          ],
          [
           "HumanHead",
           "m360.obj"
          ],
          [
           "HumanHead",
           "m361.obj"
          ],
          [
           "HumanHead",
           "m362.obj"
          ],
          [
           "HumanHead",
           "m363.obj"
          ],
          [
           "HumanHead",
           "m364.obj"
          ],
          [
           "HumanHead",
           "m365.obj"
          ],
          [
           "HumanHead",
           "m367.obj"
          ],
          [
           "HumanHead",
           "m368.obj"
          ],
          [
           "HumanHead",
           "m369.obj"
          ],
          [
           "HumanHead",
           "m370.obj"
          ]
         ],
         "hovertemplate": "Class=%{customdata[0]}<br>Principal Component 1=%{x}<br>Principal Component 2=%{y}<br>Name=%{customdata[1]}<extra></extra>",
         "legendgroup": "HumanHead",
         "marker": {
          "color": "#FFA15A",
          "symbol": "circle"
         },
         "mode": "markers",
         "name": "HumanHead",
         "orientation": "v",
         "showlegend": true,
         "type": "scatter",
         "x": [
          -1.224509887036978e+31,
          -1.2245098870368866e+31,
          -1.2245098870370352e+31,
          -1.2245098870369307e+31,
          -1.224509887037099e+31,
          -1.2245098870370113e+31,
          -1.224509887037164e+31,
          -1.2245098870369967e+31,
          -1.2245098870370791e+31,
          -1.2245098870369683e+31,
          -1.2245098870369825e+31,
          -1.224509887037015e+31,
          -1.22450988703695e+31,
          -1.2245098870369924e+31,
          -1.2245098870370694e+31,
          -1.2245098870369296e+31,
          -1.224509887036901e+31,
          -1.2245098870370458e+31,
          -1.224509887037035e+31,
          -1.2245098870369958e+31,
          -1.224509887037043e+31,
          -1.22450988703701e+31,
          -1.2245098870370003e+31,
          -1.2245098870369904e+31,
          -1.22450988703695e+31,
          -1.2245098870369958e+31,
          -1.224509887037005e+31,
          -1.224509887036964e+31,
          -1.2245098870368866e+31,
          -1.2245098870370208e+31,
          -1.2245098870370354e+31,
          -1.2245098870370213e+31,
          -1.2245098870370706e+31,
          -1.2245098870369258e+31,
          -1.2245098870369447e+31,
          -1.2245098870369843e+31,
          -1.2245098870370798e+31,
          -1.2245098870370712e+31,
          -1.2245098870370019e+31,
          -1.224509887037056e+31,
          -1.2245098870370494e+31,
          -1.2245098870369918e+31,
          -1.2245098870369679e+31,
          -1.2245098870369978e+31,
          -1.2245098870368886e+31,
          -1.2245098870370647e+31,
          -1.224509887036941e+31,
          -1.2245098870370255e+31,
          -1.2245098870369323e+31,
          -1.224509887036912e+31
         ],
         "xaxis": "x",
         "y": [
          -159.29521039075712,
          -62.4491730047274,
          -158.71385177800514,
          -157.98688227548575,
          -158.8088151678671,
          -158.60738509010233,
          -159.72060587263027,
          -158.82129299159092,
          -159.25527046603145,
          -158.999195384606,
          -159.14317799598535,
          -158.50006613533873,
          -157.86976202718577,
          -159.3156895882582,
          -159.5665751839646,
          -158.5118825943028,
          -159.64916234779528,
          -159.41375036592817,
          -159.39016002736287,
          -156.62503946522332,
          -159.4322600957679,
          -158.64112906256614,
          -159.38019681677656,
          -158.4577176899842,
          -157.68937292012137,
          -159.1947243413547,
          -158.41911191448403,
          -158.41545001098132,
          -159.8240607056492,
          -159.41955109663405,
          -159.10607552345655,
          -159.0139089923163,
          -159.2693471564905,
          -159.27588936987368,
          -157.77928804289743,
          -158.07761942051678,
          -159.12389789626454,
          -159.11965730951502,
          -158.188947926308,
          -158.79729906098441,
          -159.04753473444177,
          -159.0131845395965,
          -158.85119969157344,
          -158.6795734601427,
          -158.41330147625297,
          -158.70522543185146,
          -158.11065323376158,
          -158.7173239141211,
          -159.5288297137726,
          -159.65906869257432
         ],
         "yaxis": "y"
        },
        {
         "customdata": [
          [
           "Jet",
           "m1147.obj"
          ],
          [
           "Jet",
           "m1149.obj"
          ],
          [
           "Jet",
           "m1150.obj"
          ],
          [
           "Jet",
           "m1151.obj"
          ],
          [
           "Jet",
           "m1152.obj"
          ],
          [
           "Jet",
           "m1153.obj"
          ],
          [
           "Jet",
           "m1154.obj"
          ],
          [
           "Jet",
           "m1155.obj"
          ],
          [
           "Jet",
           "m1156.obj"
          ],
          [
           "Jet",
           "m1157.obj"
          ],
          [
           "Jet",
           "m1158.obj"
          ],
          [
           "Jet",
           "m1159.obj"
          ],
          [
           "Jet",
           "m1161.obj"
          ],
          [
           "Jet",
           "m1162.obj"
          ],
          [
           "Jet",
           "m1163.obj"
          ],
          [
           "Jet",
           "m1165.obj"
          ],
          [
           "Jet",
           "m1166.obj"
          ],
          [
           "Jet",
           "m1167.obj"
          ],
          [
           "Jet",
           "m1168.obj"
          ],
          [
           "Jet",
           "m1169.obj"
          ],
          [
           "Jet",
           "m1171.obj"
          ],
          [
           "Jet",
           "m1172.obj"
          ],
          [
           "Jet",
           "m1173.obj"
          ],
          [
           "Jet",
           "m1174.obj"
          ],
          [
           "Jet",
           "m1175.obj"
          ],
          [
           "Jet",
           "m1176.obj"
          ],
          [
           "Jet",
           "m1177.obj"
          ],
          [
           "Jet",
           "m1178.obj"
          ],
          [
           "Jet",
           "m1179.obj"
          ],
          [
           "Jet",
           "m1180.obj"
          ],
          [
           "Jet",
           "m1181.obj"
          ],
          [
           "Jet",
           "m1182.obj"
          ],
          [
           "Jet",
           "m1183.obj"
          ],
          [
           "Jet",
           "m1184.obj"
          ],
          [
           "Jet",
           "m1185.obj"
          ],
          [
           "Jet",
           "m1187.obj"
          ],
          [
           "Jet",
           "m1188.obj"
          ],
          [
           "Jet",
           "m1190.obj"
          ],
          [
           "Jet",
           "m1191.obj"
          ],
          [
           "Jet",
           "m1193.obj"
          ],
          [
           "Jet",
           "m1194.obj"
          ],
          [
           "Jet",
           "m1195.obj"
          ],
          [
           "Jet",
           "m1196.obj"
          ],
          [
           "Jet",
           "m1197.obj"
          ],
          [
           "Jet",
           "m1198.obj"
          ],
          [
           "Jet",
           "m1199.obj"
          ],
          [
           "Jet",
           "m1200.obj"
          ],
          [
           "Jet",
           "m1201.obj"
          ],
          [
           "Jet",
           "m1202.obj"
          ],
          [
           "Jet",
           "m1204.obj"
          ],
          [
           "Jet",
           "m1205.obj"
          ],
          [
           "Jet",
           "m1207.obj"
          ],
          [
           "Jet",
           "m1208.obj"
          ],
          [
           "Jet",
           "m1209.obj"
          ],
          [
           "Jet",
           "m1210.obj"
          ],
          [
           "Jet",
           "m1211.obj"
          ],
          [
           "Jet",
           "m1212.obj"
          ],
          [
           "Jet",
           "m1213.obj"
          ],
          [
           "Jet",
           "m1214.obj"
          ],
          [
           "Jet",
           "m1215.obj"
          ],
          [
           "Jet",
           "m1216.obj"
          ],
          [
           "Jet",
           "m1217.obj"
          ],
          [
           "Jet",
           "m1218.obj"
          ],
          [
           "Jet",
           "m1219.obj"
          ],
          [
           "Jet",
           "m1220.obj"
          ],
          [
           "Jet",
           "m1221.obj"
          ],
          [
           "Jet",
           "m1222.obj"
          ],
          [
           "Jet",
           "m1223.obj"
          ],
          [
           "Jet",
           "m1224.obj"
          ],
          [
           "Jet",
           "m1225.obj"
          ],
          [
           "Jet",
           "m1226.obj"
          ],
          [
           "Jet",
           "m1227.obj"
          ],
          [
           "Jet",
           "m1228.obj"
          ],
          [
           "Jet",
           "m1229.obj"
          ],
          [
           "Jet",
           "m1230.obj"
          ],
          [
           "Jet",
           "m1231.obj"
          ],
          [
           "Jet",
           "m1232.obj"
          ],
          [
           "Jet",
           "m1233.obj"
          ],
          [
           "Jet",
           "m1234.obj"
          ],
          [
           "Jet",
           "m1235.obj"
          ],
          [
           "Jet",
           "m1236.obj"
          ],
          [
           "Jet",
           "m1237.obj"
          ],
          [
           "Jet",
           "m1238.obj"
          ],
          [
           "Jet",
           "m1239.obj"
          ],
          [
           "Jet",
           "m1240.obj"
          ],
          [
           "Jet",
           "m1241.obj"
          ],
          [
           "Jet",
           "m1242.obj"
          ],
          [
           "Jet",
           "m1243.obj"
          ],
          [
           "Jet",
           "m1245.obj"
          ],
          [
           "Jet",
           "m1246.obj"
          ],
          [
           "Jet",
           "m1247.obj"
          ],
          [
           "Jet",
           "m1248.obj"
          ],
          [
           "Jet",
           "m1249.obj"
          ],
          [
           "Jet",
           "m1250.obj"
          ],
          [
           "Jet",
           "m1251.obj"
          ],
          [
           "Jet",
           "m1252.obj"
          ],
          [
           "Jet",
           "m1253.obj"
          ],
          [
           "Jet",
           "m1255.obj"
          ],
          [
           "Jet",
           "m1256.obj"
          ],
          [
           "Jet",
           "m1257.obj"
          ],
          [
           "Jet",
           "m1258.obj"
          ],
          [
           "Jet",
           "m1259.obj"
          ],
          [
           "Jet",
           "m1260.obj"
          ],
          [
           "Jet",
           "m1261.obj"
          ],
          [
           "Jet",
           "m1262.obj"
          ],
          [
           "Jet",
           "m1263.obj"
          ],
          [
           "Jet",
           "m1264.obj"
          ],
          [
           "Jet",
           "m1265.obj"
          ],
          [
           "Jet",
           "m1266.obj"
          ],
          [
           "Jet",
           "m1267.obj"
          ],
          [
           "Jet",
           "m1268.obj"
          ],
          [
           "Jet",
           "m1269.obj"
          ],
          [
           "Jet",
           "m1270.obj"
          ],
          [
           "Jet",
           "m1271.obj"
          ],
          [
           "Jet",
           "m1273.obj"
          ],
          [
           "Jet",
           "m1274.obj"
          ],
          [
           "Jet",
           "m1275.obj"
          ],
          [
           "Jet",
           "m1276.obj"
          ],
          [
           "Jet",
           "m1277.obj"
          ],
          [
           "Jet",
           "m1278.obj"
          ],
          [
           "Jet",
           "m1279.obj"
          ],
          [
           "Jet",
           "m1280.obj"
          ],
          [
           "Jet",
           "m1281.obj"
          ],
          [
           "Jet",
           "m1282.obj"
          ],
          [
           "Jet",
           "m1283.obj"
          ],
          [
           "Jet",
           "m1284.obj"
          ],
          [
           "Jet",
           "m1285.obj"
          ],
          [
           "Jet",
           "m1286.obj"
          ],
          [
           "Jet",
           "m1287.obj"
          ],
          [
           "Jet",
           "m1288.obj"
          ],
          [
           "Jet",
           "m1289.obj"
          ],
          [
           "Jet",
           "m1290.obj"
          ],
          [
           "Jet",
           "m1291.obj"
          ],
          [
           "Jet",
           "m1292.obj"
          ],
          [
           "Jet",
           "m1293.obj"
          ],
          [
           "Jet",
           "m1294.obj"
          ],
          [
           "Jet",
           "m1295.obj"
          ],
          [
           "Jet",
           "m1296.obj"
          ],
          [
           "Jet",
           "m1297.obj"
          ],
          [
           "Jet",
           "m1298.obj"
          ],
          [
           "Jet",
           "m1299.obj"
          ],
          [
           "Jet",
           "m1300.obj"
          ],
          [
           "Jet",
           "m1301.obj"
          ]
         ],
         "hovertemplate": "Class=%{customdata[0]}<br>Principal Component 1=%{x}<br>Principal Component 2=%{y}<br>Name=%{customdata[1]}<extra></extra>",
         "legendgroup": "Jet",
         "marker": {
          "color": "#19d3f3",
          "symbol": "circle"
         },
         "mode": "markers",
         "name": "Jet",
         "orientation": "v",
         "showlegend": true,
         "type": "scatter",
         "x": [
          -1.2245098870368965e+31,
          -1.2245098870368652e+31,
          -1.2245098870368992e+31,
          -1.2245098870369159e+31,
          -1.224509887036925e+31,
          -1.22450988703691e+31,
          -1.2245098870368972e+31,
          -1.2245098870368965e+31,
          -1.224509887036925e+31,
          -1.2245098870369242e+31,
          -1.2245098870368886e+31,
          -1.2245098870369253e+31,
          -1.2245098870369226e+31,
          -1.2245098870368992e+31,
          -1.2245098870369287e+31,
          -1.224509887036878e+31,
          -1.2245098870369226e+31,
          -1.2245098870368843e+31,
          -1.2245098870368902e+31,
          -1.2245098870369017e+31,
          -1.2245098870369093e+31,
          -1.2245098870369015e+31,
          -1.224509887036913e+31,
          -1.2245098870368963e+31,
          -1.2245098870368807e+31,
          -1.2245098870369226e+31,
          -1.2245098870368994e+31,
          -1.2245098870369235e+31,
          -1.2245098870368861e+31,
          -1.224509887036909e+31,
          -1.224509887036901e+31,
          -1.224509887036901e+31,
          -1.2245098870368909e+31,
          -1.2245098870369123e+31,
          -1.2245098870369274e+31,
          -1.2245098870368983e+31,
          -1.2245098870369e+31,
          -1.2245098870369156e+31,
          -1.224509887036914e+31,
          -1.2245098870368988e+31,
          -1.2245098870369064e+31,
          -1.2245098870368922e+31,
          -1.2245098870369066e+31,
          -1.2245098870369147e+31,
          -1.2245098870369003e+31,
          -1.2245098870368886e+31,
          -1.2245098870369107e+31,
          -1.2245098870368931e+31,
          -1.2245098870369274e+31,
          -1.2245098870369127e+31,
          -1.224509887036885e+31,
          -1.2245098870369233e+31,
          -1.224509887036917e+31,
          -1.224509887036911e+31,
          -1.2245098870369069e+31,
          -1.2245098870368852e+31,
          -1.2245098870369075e+31,
          -1.2245098870369298e+31,
          -1.2245098870368906e+31,
          -1.2245098870368868e+31,
          -1.2245098870369082e+31,
          -1.2245098870369107e+31,
          -1.2245098870368886e+31,
          -1.2245098870368873e+31,
          -1.22450988703691e+31,
          -1.2245098870369271e+31,
          -1.2245098870368954e+31,
          -1.2245098870368897e+31,
          -1.224509887036906e+31,
          -1.2245098870368934e+31,
          -1.2245098870369215e+31,
          -1.2245098870369098e+31,
          -1.2245098870369053e+31,
          -1.2245098870369319e+31,
          -1.2245098870368533e+31,
          -1.224509887036898e+31,
          -1.2245098870369186e+31,
          -1.2245098870369274e+31,
          -1.22450988703692e+31,
          -1.2245098870368972e+31,
          -1.2245098870369012e+31,
          -1.2245098870369127e+31,
          -1.2245098870369224e+31,
          -1.224509887036893e+31,
          -1.224509887036906e+31,
          -1.2245098870368893e+31,
          -1.2245098870368906e+31,
          -1.224509887036913e+31,
          -1.224509887036885e+31,
          -1.2245098870369201e+31,
          -1.2245098870368956e+31,
          -1.224509887036898e+31,
          -1.2245098870369035e+31,
          -1.2245098870369355e+31,
          -1.2245098870369008e+31,
          -1.2245098870369096e+31,
          -1.2245098870368904e+31,
          -1.2245098870369042e+31,
          -1.2245098870369138e+31,
          -1.2245098870369132e+31,
          -1.2245098870368846e+31,
          -1.2245098870368918e+31,
          -1.2245098870368979e+31,
          -1.2245098870368979e+31,
          -1.2245098870368922e+31,
          -1.2245098870368954e+31,
          -1.2245098870368807e+31,
          -1.2245098870369276e+31,
          -1.2245098870369125e+31,
          -1.2245098870368967e+31,
          -1.224509887036886e+31,
          -1.2245098870368967e+31,
          -1.2245098870368918e+31,
          -1.2245098870368999e+31,
          -1.2245098870368915e+31,
          -1.22450988703689e+31,
          -1.2245098870368855e+31,
          -1.2245098870368976e+31,
          -1.2245098870368888e+31,
          -1.2245098870369062e+31,
          -1.2245098870369188e+31,
          -1.2245098870368729e+31,
          -1.224509887036901e+31,
          -1.2245098870368965e+31,
          -1.2245098870368866e+31,
          -1.224509887036949e+31,
          -1.2245098870368988e+31,
          -1.2245098870368693e+31,
          -1.2245098870368972e+31,
          -1.224509887036856e+31,
          -1.2245098870368771e+31,
          -1.2245098870368616e+31,
          -1.2245098870368967e+31,
          -1.2245098870369159e+31,
          -1.2245098870369285e+31,
          -1.2245098870369233e+31,
          -1.2245098870369035e+31,
          -1.224509887036918e+31,
          -1.224509887036913e+31,
          -1.2245098870368837e+31,
          -1.2245098870368783e+31,
          -1.2245098870368807e+31,
          -1.2245098870368956e+31
         ],
         "xaxis": "x",
         "y": [
          -131.1767586496132,
          -123.00313865470162,
          -129.34435964738532,
          -121.25857722949506,
          -137.87921406767703,
          -137.41572597409743,
          -132.13181040308018,
          -131.28391352875417,
          -125.24619485748691,
          -119.76050508652611,
          -149.91020650077974,
          -137.87921393836925,
          -128.19563080494612,
          -127.0619417731164,
          -122.84986257956574,
          -114.3584161307259,
          -133.7591487223508,
          -133.24731804281512,
          -120.3991729776105,
          -134.42352434695943,
          -120.97467046948337,
          -91.26053562457773,
          -102.75810107727848,
          -135.06343620971606,
          -137.1506569038901,
          -122.34615493632732,
          -131.54881920973492,
          -112.18560890944846,
          -58.06772087224547,
          -119.69438628307172,
          -119.32903362685988,
          -124.92901047212935,
          -133.32182811469983,
          -130.05229198753472,
          -124.04628992499832,
          -131.00646585272446,
          -141.55706337124863,
          -146.1850108978249,
          -119.13994347309601,
          -103.2645438430575,
          -131.01845175358565,
          -136.88334539864638,
          -135.8421090937408,
          -120.97961952071033,
          -124.75316015670693,
          -115.85187623523274,
          -135.68047375206368,
          -137.38490599903483,
          -123.52060018400074,
          -120.40958988831909,
          -129.00287391808234,
          -81.16286834709696,
          -138.64151460566228,
          -133.44094707734402,
          -104.68218140445394,
          -139.66614464919763,
          -141.63061615886534,
          -85.19926513973162,
          -125.69996592856262,
          -124.7273790546998,
          -125.73169290086551,
          -118.66583919527979,
          -117.64413275703524,
          -122.94281630625441,
          -120.66608892098742,
          -145.61477957034987,
          -147.64746199341303,
          -121.51316419765325,
          -69.86813766343475,
          -98.2830526251233,
          -135.6710392037676,
          -43.82107716921735,
          -96.4723024253728,
          -121.34383458506856,
          -141.32766557205008,
          -98.56408755897989,
          -118.39351696266725,
          -121.29763544304946,
          -125.02628085296418,
          -117.243373970135,
          -113.08326840583088,
          -135.5541081129207,
          -127.64740261267404,
          -130.049421446873,
          -134.01342946529113,
          -141.3558421876466,
          -135.03133582887054,
          -124.13879600402187,
          -124.50894726915384,
          -142.17833919764527,
          -143.81669893741372,
          -149.53158867934187,
          -149.84439671585196,
          -143.6816240372023,
          -134.42352424878237,
          -125.78044382935965,
          -137.25554661461885,
          -109.17455562302762,
          -98.62810585637989,
          -99.93819234711818,
          -131.34273724196768,
          -137.38490542388695,
          -148.32257183110687,
          -140.1625374308215,
          -112.45410899148199,
          -143.62224120475162,
          -140.79605704500716,
          -81.35235825434064,
          -86.20033543937373,
          -106.76223538173744,
          636.703788087314,
          508.7298206352199,
          216.0572796149547,
          83.29055993154877,
          -7.255129527614366,
          -128.89798586634237,
          -89.05445003749607,
          109.23243405061847,
          -70.90993277820772,
          -0.4374276110903857,
          16.689660651753737,
          258.58344709353145,
          -42.426350061515954,
          -27.188853496577735,
          -59.80455417917509,
          -144.35275214110365,
          134.41108181064982,
          -9.172074604716027,
          36.44864667123031,
          -122.29784565180616,
          -133.8615942723722,
          109.38610558048019,
          -122.50346322102739,
          -82.74952500939226,
          -66.3047947286066,
          248.32561883320258,
          1185.7957541902824,
          74.04437604676338,
          1828.0609981771895,
          -140.226142133477,
          -123.98092432926836,
          -131.72867710923435,
          -91.64177177221522
         ],
         "yaxis": "y"
        },
        {
         "customdata": [
          [
           "PlantIndoors",
           "D00049.obj"
          ],
          [
           "PlantIndoors",
           "D00073.obj"
          ],
          [
           "PlantIndoors",
           "D00080.obj"
          ],
          [
           "PlantIndoors",
           "D00087.obj"
          ],
          [
           "PlantIndoors",
           "D00128.obj"
          ],
          [
           "PlantIndoors",
           "D00159.obj"
          ],
          [
           "PlantIndoors",
           "D00238.obj"
          ],
          [
           "PlantIndoors",
           "D00280.obj"
          ],
          [
           "PlantIndoors",
           "D00370.obj"
          ],
          [
           "PlantIndoors",
           "D00379.obj"
          ],
          [
           "PlantIndoors",
           "D00466.obj"
          ],
          [
           "PlantIndoors",
           "D00491.obj"
          ],
          [
           "PlantIndoors",
           "D00595.obj"
          ],
          [
           "PlantIndoors",
           "D00609.obj"
          ],
          [
           "PlantIndoors",
           "D00622.obj"
          ],
          [
           "PlantIndoors",
           "D00624.obj"
          ],
          [
           "PlantIndoors",
           "D00657.obj"
          ],
          [
           "PlantIndoors",
           "D00667.obj"
          ],
          [
           "PlantIndoors",
           "D00800.obj"
          ],
          [
           "PlantIndoors",
           "D00968.obj"
          ],
          [
           "PlantIndoors",
           "m1000.obj"
          ],
          [
           "PlantIndoors",
           "m1001.obj"
          ],
          [
           "PlantIndoors",
           "m1002.obj"
          ],
          [
           "PlantIndoors",
           "m1003.obj"
          ],
          [
           "PlantIndoors",
           "m1004.obj"
          ],
          [
           "PlantIndoors",
           "m1005.obj"
          ],
          [
           "PlantIndoors",
           "m1006.obj"
          ],
          [
           "PlantIndoors",
           "m1007.obj"
          ],
          [
           "PlantIndoors",
           "m1008.obj"
          ],
          [
           "PlantIndoors",
           "m1009.obj"
          ],
          [
           "PlantIndoors",
           "m1010.obj"
          ],
          [
           "PlantIndoors",
           "m1011.obj"
          ],
          [
           "PlantIndoors",
           "m1012.obj"
          ],
          [
           "PlantIndoors",
           "m1013.obj"
          ],
          [
           "PlantIndoors",
           "m1014.obj"
          ],
          [
           "PlantIndoors",
           "m1015.obj"
          ],
          [
           "PlantIndoors",
           "m1016.obj"
          ],
          [
           "PlantIndoors",
           "m1017.obj"
          ],
          [
           "PlantIndoors",
           "m1018.obj"
          ],
          [
           "PlantIndoors",
           "m1020.obj"
          ],
          [
           "PlantIndoors",
           "m1021.obj"
          ],
          [
           "PlantIndoors",
           "m1022.obj"
          ],
          [
           "PlantIndoors",
           "m1023.obj"
          ],
          [
           "PlantIndoors",
           "m1025.obj"
          ],
          [
           "PlantIndoors",
           "m1026.obj"
          ],
          [
           "PlantIndoors",
           "m1027.obj"
          ],
          [
           "PlantIndoors",
           "m1029.obj"
          ],
          [
           "PlantIndoors",
           "m1030.obj"
          ],
          [
           "PlantIndoors",
           "m1031.obj"
          ],
          [
           "PlantIndoors",
           "m1032.obj"
          ],
          [
           "PlantIndoors",
           "m1033.obj"
          ],
          [
           "PlantIndoors",
           "m1034.obj"
          ],
          [
           "PlantIndoors",
           "m1035.obj"
          ],
          [
           "PlantIndoors",
           "m1036.obj"
          ],
          [
           "PlantIndoors",
           "m989.obj"
          ],
          [
           "PlantIndoors",
           "m990.obj"
          ],
          [
           "PlantIndoors",
           "m991.obj"
          ],
          [
           "PlantIndoors",
           "m992.obj"
          ],
          [
           "PlantIndoors",
           "m993.obj"
          ],
          [
           "PlantIndoors",
           "m994.obj"
          ],
          [
           "PlantIndoors",
           "m995.obj"
          ],
          [
           "PlantIndoors",
           "m996.obj"
          ],
          [
           "PlantIndoors",
           "m997.obj"
          ],
          [
           "PlantIndoors",
           "m998.obj"
          ],
          [
           "PlantIndoors",
           "m999.obj"
          ]
         ],
         "hovertemplate": "Class=%{customdata[0]}<br>Principal Component 1=%{x}<br>Principal Component 2=%{y}<br>Name=%{customdata[1]}<extra></extra>",
         "legendgroup": "PlantIndoors",
         "marker": {
          "color": "#FF6692",
          "symbol": "circle"
         },
         "mode": "markers",
         "name": "PlantIndoors",
         "orientation": "v",
         "showlegend": true,
         "type": "scatter",
         "x": [
          5.859155117449731e+31,
          6.827250219745187e+31,
          -1.2245098870368812e+31,
          -1.2245098870369204e+31,
          7.085560494231889e+31,
          1.3853710895287808e+31,
          4.248927658953491e+32,
          8.246716942297703e+32,
          8.457603277435054e+32,
          6.055639524408911e+31,
          2.4019178828574494e+34,
          -1.2245098870368758e+31,
          7.901607622097171e+31,
          6.024863277361498e+31,
          1.905409943061469e+32,
          1.2071796372104997e+32,
          -1.2245098870369683e+31,
          -1.2245098870369132e+31,
          5.049244181676659e+31,
          2.531439693855259e+33,
          -1.2245098870369037e+31,
          -1.224509887036937e+31,
          -1.224509887036925e+31,
          -1.2245098870368967e+31,
          -1.2245098870369003e+31,
          -1.2245098870368967e+31,
          -1.2245098870369578e+31,
          -1.2245098870369125e+31,
          -1.2245098870369514e+31,
          -1.2245098870369406e+31,
          -1.2245098870369456e+31,
          -1.22450988703695e+31,
          -1.2245098870369292e+31,
          -1.2245098870368866e+31,
          -1.2245098870368416e+31,
          -1.224509887036913e+31,
          -1.224509887036941e+31,
          -1.2245098870369526e+31,
          -1.22450988703695e+31,
          -1.2245098870368738e+31,
          -1.2245098870369096e+31,
          -1.224509887036905e+31,
          -1.224509887036932e+31,
          -1.224509887036924e+31,
          -1.2245098870369127e+31,
          -1.224509887036911e+31,
          -1.2245098870368726e+31,
          -1.2245098870368855e+31,
          -1.2245098870368819e+31,
          -1.2245098870369906e+31,
          -1.2245098870369125e+31,
          -1.2245098870369114e+31,
          -1.2245098870369598e+31,
          -1.2245098870369111e+31,
          -1.224509887036886e+31,
          -1.2245098870369053e+31,
          -1.2245098870369393e+31,
          -1.224509887036906e+31,
          -1.22450988703693e+31,
          -1.224509887036917e+31,
          -1.2245098870369575e+31,
          -1.224509887036878e+31,
          -1.224509887036885e+31,
          -1.2245098870368915e+31,
          -1.2245098870368814e+31
         ],
         "xaxis": "x",
         "y": [
          -156.43036017524025,
          -153.7623981056604,
          -157.68558114775283,
          -157.94242694892702,
          -153.79720305640996,
          -158.94437321274992,
          -154.18078401410338,
          -150.9054907241355,
          -149.68330594025016,
          -157.83577994620288,
          32.89750504127061,
          -157.41529686167613,
          -157.69074722954048,
          -158.60726842936873,
          -156.34389493161734,
          -158.7322611539448,
          -151.60335199943853,
          -159.0157303821791,
          -158.23899287411834,
          -128.01567859892523,
          -158.87169422763387,
          -157.8437763730686,
          -159.37977347910748,
          -159.726394238289,
          -159.6541587525334,
          -154.0422126615485,
          -158.99030939924336,
          -157.4406565314762,
          -159.24871015418802,
          -150.063487964975,
          -158.91178842555502,
          -154.1890110524321,
          -159.7386672958589,
          -158.0887400116712,
          -159.6091770174277,
          -153.6380871894407,
          -134.52116602493814,
          -141.60767149525518,
          -158.2549721858107,
          -159.3966999660256,
          -131.82686742259986,
          -153.21209494448837,
          -159.27808350670787,
          -159.01778992575694,
          -159.0133127834468,
          -157.9875162759284,
          -154.51893059230045,
          -159.14555601404334,
          -156.54880885474907,
          -158.05615101256117,
          -147.59013206458417,
          -146.4342939336818,
          -159.48613532025396,
          -145.72180896638045,
          -154.896672669445,
          -159.58374261839813,
          -159.2053464610854,
          -159.44716048030904,
          -124.94093988262047,
          -158.97634709969043,
          -157.35540973446442,
          -152.37965868018526,
          -159.73235936541244,
          -145.20407816573876,
          -157.52675943595213
         ],
         "yaxis": "y"
        },
        {
         "customdata": [
          [
           "Quadruped",
           "D00111.obj"
          ],
          [
           "Quadruped",
           "D00150.obj"
          ],
          [
           "Quadruped",
           "D00218.obj"
          ],
          [
           "Quadruped",
           "D00226.obj"
          ],
          [
           "Quadruped",
           "D00261.obj"
          ],
          [
           "Quadruped",
           "D00326.obj"
          ],
          [
           "Quadruped",
           "D00380.obj"
          ],
          [
           "Quadruped",
           "D00409.obj"
          ],
          [
           "Quadruped",
           "D00508.obj"
          ],
          [
           "Quadruped",
           "D00509.obj"
          ],
          [
           "Quadruped",
           "D00583.obj"
          ],
          [
           "Quadruped",
           "D00663.obj"
          ],
          [
           "Quadruped",
           "D00700.obj"
          ],
          [
           "Quadruped",
           "D00757.obj"
          ],
          [
           "Quadruped",
           "D00794.obj"
          ],
          [
           "Quadruped",
           "D00795.obj"
          ],
          [
           "Quadruped",
           "D00831.obj"
          ],
          [
           "Quadruped",
           "D00841.obj"
          ],
          [
           "Quadruped",
           "D00867.obj"
          ],
          [
           "Quadruped",
           "D00934.obj"
          ],
          [
           "Quadruped",
           "m100.obj"
          ],
          [
           "Quadruped",
           "m101.obj"
          ],
          [
           "Quadruped",
           "m102.obj"
          ],
          [
           "Quadruped",
           "m103.obj"
          ],
          [
           "Quadruped",
           "m104.obj"
          ],
          [
           "Quadruped",
           "m105.obj"
          ],
          [
           "Quadruped",
           "m106.obj"
          ],
          [
           "Quadruped",
           "m107.obj"
          ],
          [
           "Quadruped",
           "m108.obj"
          ],
          [
           "Quadruped",
           "m109.obj"
          ],
          [
           "Quadruped",
           "m110.obj"
          ],
          [
           "Quadruped",
           "m111.obj"
          ],
          [
           "Quadruped",
           "m112.obj"
          ],
          [
           "Quadruped",
           "m273.obj"
          ],
          [
           "Quadruped",
           "m274.obj"
          ],
          [
           "Quadruped",
           "m275.obj"
          ],
          [
           "Quadruped",
           "m276.obj"
          ],
          [
           "Quadruped",
           "m277.obj"
          ],
          [
           "Quadruped",
           "m278.obj"
          ],
          [
           "Quadruped",
           "m279.obj"
          ],
          [
           "Quadruped",
           "m280.obj"
          ],
          [
           "Quadruped",
           "m281.obj"
          ],
          [
           "Quadruped",
           "m282.obj"
          ],
          [
           "Quadruped",
           "m86.obj"
          ],
          [
           "Quadruped",
           "m87.obj"
          ],
          [
           "Quadruped",
           "m88.obj"
          ],
          [
           "Quadruped",
           "m89.obj"
          ],
          [
           "Quadruped",
           "m90.obj"
          ],
          [
           "Quadruped",
           "m91.obj"
          ],
          [
           "Quadruped",
           "m92.obj"
          ],
          [
           "Quadruped",
           "m93.obj"
          ],
          [
           "Quadruped",
           "m95.obj"
          ],
          [
           "Quadruped",
           "m96.obj"
          ],
          [
           "Quadruped",
           "m97.obj"
          ],
          [
           "Quadruped",
           "m98.obj"
          ],
          [
           "Quadruped",
           "m99.obj"
          ]
         ],
         "hovertemplate": "Class=%{customdata[0]}<br>Principal Component 1=%{x}<br>Principal Component 2=%{y}<br>Name=%{customdata[1]}<extra></extra>",
         "legendgroup": "Quadruped",
         "marker": {
          "color": "#B6E880",
          "symbol": "circle"
         },
         "mode": "markers",
         "name": "Quadruped",
         "orientation": "v",
         "showlegend": true,
         "type": "scatter",
         "x": [
          -1.224509887036913e+31,
          -1.2245098870369188e+31,
          -1.2245098870369258e+31,
          -1.2245098870369123e+31,
          -1.2245098870369111e+31,
          -1.2245098870369145e+31,
          -1.2245098870369224e+31,
          -1.2245098870369256e+31,
          -1.2245098870369458e+31,
          -1.2245098870368654e+31,
          -1.2245098870368573e+31,
          -1.2245098870369654e+31,
          -1.2245098870368956e+31,
          -1.224509887036967e+31,
          -1.224509887036868e+31,
          -1.2245098870368897e+31,
          -1.224509887036927e+31,
          -1.2245098870369292e+31,
          -1.2245098870369015e+31,
          -1.224509887036914e+31,
          -1.224509887036902e+31,
          -1.2245098870368979e+31,
          -1.2245098870368841e+31,
          -1.2245098870369015e+31,
          -1.2245098870368886e+31,
          -1.2245098870368873e+31,
          -1.2245098870368997e+31,
          -1.2245098870369114e+31,
          -1.2245098870369222e+31,
          -1.2245098870369082e+31,
          -1.2245098870369557e+31,
          -1.22450988703691e+31,
          -1.224509887036935e+31,
          -1.224509887036979e+31,
          -1.2245098870368922e+31,
          -1.2245098870369348e+31,
          -1.2245098870369433e+31,
          -1.2245098870368924e+31,
          -1.224509887036886e+31,
          -1.2245098870369172e+31,
          -1.2245098870368834e+31,
          -1.2245098870369098e+31,
          -1.2245098870368852e+31,
          -1.2245098870368945e+31,
          -1.2245098870369123e+31,
          -1.224509887036902e+31,
          -1.2245098870369406e+31,
          -1.2245098870369562e+31,
          -1.2245098870369222e+31,
          -1.2245098870369247e+31,
          -1.2245098870369206e+31,
          -1.2245098870368882e+31,
          -1.2245098870368812e+31,
          -1.2245098870369136e+31,
          -1.224509887036913e+31,
          -1.2245098870369163e+31
         ],
         "xaxis": "x",
         "y": [
          -149.9002688200028,
          -155.25277005661744,
          -144.97476779610938,
          -148.63202808132195,
          -148.41862982274148,
          -136.67729992282406,
          -143.69358767346523,
          -131.75920836515988,
          -131.98969253498655,
          -115.08156765990125,
          -141.69129653804802,
          -128.62694099709887,
          -131.98553842881947,
          -151.46094821853114,
          -127.83432416509581,
          -142.65815379295967,
          -149.86716172754157,
          -136.2300642888735,
          -146.97837378442122,
          -149.18022841830143,
          -155.83330475750788,
          -155.18658475623243,
          -155.71698300690838,
          -134.84947209525654,
          -141.92946777652847,
          -143.9375109259418,
          -138.4986158822945,
          -137.04430824308548,
          -133.0905424826652,
          -157.79261660679973,
          -155.90538673860536,
          -153.90565474250124,
          -157.52566621772814,
          -139.67587596005302,
          -147.32197304651075,
          -136.1996475680192,
          -59.02688698442309,
          -147.8065428800467,
          -123.50711393422037,
          -141.56839709831544,
          -127.9971304449584,
          -133.2499947812467,
          -154.23759709725596,
          -137.36435179862377,
          -148.4436132418119,
          -144.3416966088506,
          -145.5311939262836,
          -154.97301156923808,
          -149.5673093845401,
          -148.11537791949922,
          -145.76155569868212,
          -144.03199463132,
          -135.38579389007074,
          -144.65975646864808,
          -145.48001740362213,
          -151.4814360883931
         ],
         "yaxis": "y"
        },
        {
         "customdata": [
          [
           "Sword",
           "D00066.obj"
          ],
          [
           "Sword",
           "D00071.obj"
          ],
          [
           "Sword",
           "D00133.obj"
          ],
          [
           "Sword",
           "D00149.obj"
          ],
          [
           "Sword",
           "D00162.obj"
          ],
          [
           "Sword",
           "D00177.obj"
          ],
          [
           "Sword",
           "D00195.obj"
          ],
          [
           "Sword",
           "D00249.obj"
          ],
          [
           "Sword",
           "D00356.obj"
          ],
          [
           "Sword",
           "D00484.obj"
          ],
          [
           "Sword",
           "D00513.obj"
          ],
          [
           "Sword",
           "D00540.obj"
          ],
          [
           "Sword",
           "D00635.obj"
          ],
          [
           "Sword",
           "D00712.obj"
          ],
          [
           "Sword",
           "D00807.obj"
          ],
          [
           "Sword",
           "D00812.obj"
          ],
          [
           "Sword",
           "D00906.obj"
          ],
          [
           "Sword",
           "D00916.obj"
          ],
          [
           "Sword",
           "D00992.obj"
          ],
          [
           "Sword",
           "m687.obj"
          ],
          [
           "Sword",
           "m688.obj"
          ],
          [
           "Sword",
           "m689.obj"
          ],
          [
           "Sword",
           "m690.obj"
          ],
          [
           "Sword",
           "m691.obj"
          ],
          [
           "Sword",
           "m692.obj"
          ],
          [
           "Sword",
           "m693.obj"
          ],
          [
           "Sword",
           "m694.obj"
          ],
          [
           "Sword",
           "m695.obj"
          ],
          [
           "Sword",
           "m696.obj"
          ],
          [
           "Sword",
           "m697.obj"
          ],
          [
           "Sword",
           "m698.obj"
          ],
          [
           "Sword",
           "m699.obj"
          ],
          [
           "Sword",
           "m700.obj"
          ],
          [
           "Sword",
           "m701.obj"
          ],
          [
           "Sword",
           "m702.obj"
          ],
          [
           "Sword",
           "m703.obj"
          ],
          [
           "Sword",
           "m704.obj"
          ],
          [
           "Sword",
           "m705.obj"
          ],
          [
           "Sword",
           "m707.obj"
          ],
          [
           "Sword",
           "m709.obj"
          ],
          [
           "Sword",
           "m710.obj"
          ],
          [
           "Sword",
           "m711.obj"
          ],
          [
           "Sword",
           "m712.obj"
          ],
          [
           "Sword",
           "m713.obj"
          ],
          [
           "Sword",
           "m714.obj"
          ],
          [
           "Sword",
           "m715.obj"
          ],
          [
           "Sword",
           "m716.obj"
          ],
          [
           "Sword",
           "m717.obj"
          ],
          [
           "Sword",
           "m718.obj"
          ],
          [
           "Sword",
           "m719.obj"
          ],
          [
           "Sword",
           "m720.obj"
          ],
          [
           "Sword",
           "m721.obj"
          ]
         ],
         "hovertemplate": "Class=%{customdata[0]}<br>Principal Component 1=%{x}<br>Principal Component 2=%{y}<br>Name=%{customdata[1]}<extra></extra>",
         "legendgroup": "Sword",
         "marker": {
          "color": "#FF97FF",
          "symbol": "circle"
         },
         "mode": "markers",
         "name": "Sword",
         "orientation": "v",
         "showlegend": true,
         "type": "scatter",
         "x": [
          -1.22450988703697e+31,
          -1.224509887036975e+31,
          -1.2245098870369735e+31,
          -1.22450988703689e+31,
          -1.2245098870368713e+31,
          -1.224509887036922e+31,
          -1.224509887036896e+31,
          -1.2245098870369607e+31,
          -1.224509887036984e+31,
          -1.2245098870369237e+31,
          -1.2245098870369105e+31,
          -1.2245098870368886e+31,
          -1.2245098870368922e+31,
          -1.2245098870368938e+31,
          -1.2245098870368634e+31,
          -1.2245098870369069e+31,
          -1.2245098870369965e+31,
          -1.2245098870368713e+31,
          -1.2245098870369807e+31,
          -1.2245098870368877e+31,
          -1.2245098870369758e+31,
          -1.2245098870369512e+31,
          -1.2245098870369695e+31,
          -1.2245098870368762e+31,
          -1.2245098870368947e+31,
          -1.224509887036855e+31,
          -1.2245098870368814e+31,
          -1.2245098870369724e+31,
          -1.2245098870369713e+31,
          -1.2245098870368794e+31,
          -1.2245098870368857e+31,
          -1.224509887036866e+31,
          -1.2245098870368729e+31,
          -1.2245098870368618e+31,
          -1.2245098870368602e+31,
          -1.2245098870368814e+31,
          -1.2245098870368952e+31,
          -1.2245098870369028e+31,
          -1.2245098870369262e+31,
          -1.2245098870369237e+31,
          -1.2245098870369728e+31,
          -1.224509887036905e+31,
          -1.224509887036879e+31,
          -1.2245098870368695e+31,
          -1.2245098870368787e+31,
          -1.2245098870369708e+31,
          -1.2245098870368614e+31,
          -1.2245098870369046e+31,
          -1.2245098870368825e+31,
          -1.224509887036981e+31,
          -1.2245098870368992e+31,
          -1.2245098870368979e+31
         ],
         "xaxis": "x",
         "y": [
          90.57090827084737,
          -78.86041780346773,
          -82.05278728770317,
          490.7406087739813,
          1981.2571851463074,
          -85.30677407466877,
          340.3734125379879,
          48.22923416487028,
          -141.73665249392658,
          907.0355359550867,
          200.0042267383927,
          1604.296660926769,
          244.41174905180893,
          1152.451348754961,
          2817.2170829099045,
          1895.7899319861738,
          -113.6358536395898,
          3720.7058799583283,
          -110.52446901494683,
          551.0346395336401,
          -117.85509568374596,
          -32.88406775175775,
          -74.17203985422138,
          755.5784625531313,
          1966.6111362194051,
          1804.2878067991217,
          251.0606988621678,
          -111.43468693295814,
          -151.29088363995973,
          6598.646037925381,
          319.289557407863,
          346.0604478335707,
          801.0465262466179,
          4116.166168213212,
          1410.2628518827396,
          2768.5940532483683,
          1952.303717023903,
          23.35400857520307,
          804.3948895409252,
          888.6529133097539,
          -21.63896751794421,
          523.5817678834918,
          2257.2970747753957,
          1454.1676838605188,
          6598.646038007878,
          -151.29088359052548,
          1268.7439053705002,
          1723.214307638824,
          1128.4989567508856,
          -119.59853542253744,
          672.5024020179932,
          77.47799967836241
         ],
         "yaxis": "y"
        },
        {
         "customdata": [
          [
           "Tool",
           "D01003.obj"
          ],
          [
           "Tool",
           "D01012.obj"
          ],
          [
           "Tool",
           "D01040.obj"
          ],
          [
           "Tool",
           "D01044.obj"
          ],
          [
           "Tool",
           "D01069.obj"
          ],
          [
           "Tool",
           "D01084.obj"
          ],
          [
           "Tool",
           "D01086.obj"
          ],
          [
           "Tool",
           "D01111.obj"
          ],
          [
           "Tool",
           "D01113.obj"
          ],
          [
           "Tool",
           "D01127.obj"
          ],
          [
           "Tool",
           "D01131.obj"
          ],
          [
           "Tool",
           "D01140.obj"
          ],
          [
           "Tool",
           "D01142.obj"
          ],
          [
           "Tool",
           "D01148.obj"
          ],
          [
           "Tool",
           "D01152.obj"
          ],
          [
           "Tool",
           "D01154.obj"
          ],
          [
           "Tool",
           "D01156.obj"
          ],
          [
           "Tool",
           "D01159.obj"
          ],
          [
           "Tool",
           "D01165.obj"
          ],
          [
           "Tool",
           "D01176.obj"
          ],
          [
           "Tool",
           "m1099.obj"
          ],
          [
           "Tool",
           "m1100.obj"
          ],
          [
           "Tool",
           "m1101.obj"
          ],
          [
           "Tool",
           "m1102.obj"
          ],
          [
           "Tool",
           "m1103.obj"
          ],
          [
           "Tool",
           "m1104.obj"
          ],
          [
           "Tool",
           "m1105.obj"
          ],
          [
           "Tool",
           "m1106.obj"
          ],
          [
           "Tool",
           "m1107.obj"
          ],
          [
           "Tool",
           "m1108.obj"
          ],
          [
           "Tool",
           "m1109.obj"
          ],
          [
           "Tool",
           "m1110.obj"
          ],
          [
           "Tool",
           "m1111.obj"
          ],
          [
           "Tool",
           "m1112.obj"
          ],
          [
           "Tool",
           "m1113.obj"
          ],
          [
           "Tool",
           "m1114.obj"
          ],
          [
           "Tool",
           "m1115.obj"
          ],
          [
           "Tool",
           "m1116.obj"
          ],
          [
           "Tool",
           "m1117.obj"
          ],
          [
           "Tool",
           "m589.obj"
          ],
          [
           "Tool",
           "m590.obj"
          ],
          [
           "Tool",
           "m591.obj"
          ]
         ],
         "hovertemplate": "Class=%{customdata[0]}<br>Principal Component 1=%{x}<br>Principal Component 2=%{y}<br>Name=%{customdata[1]}<extra></extra>",
         "legendgroup": "Tool",
         "marker": {
          "color": "#FECB52",
          "symbol": "circle"
         },
         "mode": "markers",
         "name": "Tool",
         "orientation": "v",
         "showlegend": true,
         "type": "scatter",
         "x": [
          -1.2245098870369237e+31,
          -1.2245098870369233e+31,
          -1.2245098870369235e+31,
          -1.2245098870369168e+31,
          -1.2245098870369143e+31,
          -1.2245098870369235e+31,
          -1.224509887036924e+31,
          -1.2245098870369258e+31,
          -1.2245098870369298e+31,
          -1.224509887036919e+31,
          -1.2245098870369233e+31,
          -1.2245098870369195e+31,
          -1.2245098870369154e+31,
          -1.2245098870369237e+31,
          -1.2245098870369064e+31,
          -1.224509887036922e+31,
          -1.2245098870369222e+31,
          -1.22450988703692e+31,
          -1.2245098870369082e+31,
          -1.2245098870369253e+31,
          -1.2245098870369091e+31,
          -1.2245098870369057e+31,
          -1.2245098870368873e+31,
          -1.2245098870368762e+31,
          -1.2245098870369274e+31,
          -1.2245098870369192e+31,
          -1.2245098870369242e+31,
          -1.2245098870369123e+31,
          -1.2245098870369168e+31,
          -1.2245098870368812e+31,
          -1.224509887036949e+31,
          -1.2245098870368918e+31,
          -1.2245098870369352e+31,
          -1.2245098870368913e+31,
          -1.224509887036921e+31,
          -1.2245098870368965e+31,
          -1.2245098870369222e+31,
          -1.2245098870369287e+31,
          -1.2245098870369332e+31,
          -1.224509887036901e+31,
          -1.2245098870369334e+31,
          -1.2245098870369093e+31
         ],
         "xaxis": "x",
         "y": [
          -62.342246027094724,
          -82.04276114191201,
          -100.28179236710794,
          -98.18949447307838,
          -105.76911452486634,
          -97.78014335784525,
          -73.39433704776789,
          -79.93228389969786,
          -72.2324469174389,
          -105.12415242418693,
          -95.22221829710764,
          -102.40905802192263,
          -92.88266611748138,
          -85.34343414735741,
          -78.41146432473208,
          -103.63254097088706,
          -93.48076777022598,
          -93.20674977299993,
          -73.63295793668624,
          -71.91863753157249,
          189.9965099273961,
          -68.32146959147522,
          493.1941520701932,
          1076.4016235140512,
          133.3477248456679,
          176.39769774309568,
          147.9941996379586,
          381.2665871604848,
          165.06078218468537,
          331.8487722964154,
          -96.49023221998249,
          -74.75384437367639,
          -54.738531240946386,
          22.292738484766208,
          -72.2685521677013,
          134.7111149113946,
          -9.589912533836905,
          170.36505080771252,
          88.46516749247876,
          -149.69145616714388,
          -142.0021933637827,
          -126.29235985159025
         ],
         "yaxis": "y"
        }
       ],
       "layout": {
        "legend": {
         "title": {
          "text": "Class"
         },
         "tracegroupgap": 0
        },
        "template": {
         "data": {
          "bar": [
           {
            "error_x": {
             "color": "#2a3f5f"
            },
            "error_y": {
             "color": "#2a3f5f"
            },
            "marker": {
             "line": {
              "color": "#E5ECF6",
              "width": 0.5
             },
             "pattern": {
              "fillmode": "overlay",
              "size": 10,
              "solidity": 0.2
             }
            },
            "type": "bar"
           }
          ],
          "barpolar": [
           {
            "marker": {
             "line": {
              "color": "#E5ECF6",
              "width": 0.5
             },
             "pattern": {
              "fillmode": "overlay",
              "size": 10,
              "solidity": 0.2
             }
            },
            "type": "barpolar"
           }
          ],
          "carpet": [
           {
            "aaxis": {
             "endlinecolor": "#2a3f5f",
             "gridcolor": "white",
             "linecolor": "white",
             "minorgridcolor": "white",
             "startlinecolor": "#2a3f5f"
            },
            "baxis": {
             "endlinecolor": "#2a3f5f",
             "gridcolor": "white",
             "linecolor": "white",
             "minorgridcolor": "white",
             "startlinecolor": "#2a3f5f"
            },
            "type": "carpet"
           }
          ],
          "choropleth": [
           {
            "colorbar": {
             "outlinewidth": 0,
             "ticks": ""
            },
            "type": "choropleth"
           }
          ],
          "contour": [
           {
            "colorbar": {
             "outlinewidth": 0,
             "ticks": ""
            },
            "colorscale": [
             [
              0,
              "#0d0887"
             ],
             [
              0.1111111111111111,
              "#46039f"
             ],
             [
              0.2222222222222222,
              "#7201a8"
             ],
             [
              0.3333333333333333,
              "#9c179e"
             ],
             [
              0.4444444444444444,
              "#bd3786"
             ],
             [
              0.5555555555555556,
              "#d8576b"
             ],
             [
              0.6666666666666666,
              "#ed7953"
             ],
             [
              0.7777777777777778,
              "#fb9f3a"
             ],
             [
              0.8888888888888888,
              "#fdca26"
             ],
             [
              1,
              "#f0f921"
             ]
            ],
            "type": "contour"
           }
          ],
          "contourcarpet": [
           {
            "colorbar": {
             "outlinewidth": 0,
             "ticks": ""
            },
            "type": "contourcarpet"
           }
          ],
          "heatmap": [
           {
            "colorbar": {
             "outlinewidth": 0,
             "ticks": ""
            },
            "colorscale": [
             [
              0,
              "#0d0887"
             ],
             [
              0.1111111111111111,
              "#46039f"
             ],
             [
              0.2222222222222222,
              "#7201a8"
             ],
             [
              0.3333333333333333,
              "#9c179e"
             ],
             [
              0.4444444444444444,
              "#bd3786"
             ],
             [
              0.5555555555555556,
              "#d8576b"
             ],
             [
              0.6666666666666666,
              "#ed7953"
             ],
             [
              0.7777777777777778,
              "#fb9f3a"
             ],
             [
              0.8888888888888888,
              "#fdca26"
             ],
             [
              1,
              "#f0f921"
             ]
            ],
            "type": "heatmap"
           }
          ],
          "heatmapgl": [
           {
            "colorbar": {
             "outlinewidth": 0,
             "ticks": ""
            },
            "colorscale": [
             [
              0,
              "#0d0887"
             ],
             [
              0.1111111111111111,
              "#46039f"
             ],
             [
              0.2222222222222222,
              "#7201a8"
             ],
             [
              0.3333333333333333,
              "#9c179e"
             ],
             [
              0.4444444444444444,
              "#bd3786"
             ],
             [
              0.5555555555555556,
              "#d8576b"
             ],
             [
              0.6666666666666666,
              "#ed7953"
             ],
             [
              0.7777777777777778,
              "#fb9f3a"
             ],
             [
              0.8888888888888888,
              "#fdca26"
             ],
             [
              1,
              "#f0f921"
             ]
            ],
            "type": "heatmapgl"
           }
          ],
          "histogram": [
           {
            "marker": {
             "pattern": {
              "fillmode": "overlay",
              "size": 10,
              "solidity": 0.2
             }
            },
            "type": "histogram"
           }
          ],
          "histogram2d": [
           {
            "colorbar": {
             "outlinewidth": 0,
             "ticks": ""
            },
            "colorscale": [
             [
              0,
              "#0d0887"
             ],
             [
              0.1111111111111111,
              "#46039f"
             ],
             [
              0.2222222222222222,
              "#7201a8"
             ],
             [
              0.3333333333333333,
              "#9c179e"
             ],
             [
              0.4444444444444444,
              "#bd3786"
             ],
             [
              0.5555555555555556,
              "#d8576b"
             ],
             [
              0.6666666666666666,
              "#ed7953"
             ],
             [
              0.7777777777777778,
              "#fb9f3a"
             ],
             [
              0.8888888888888888,
              "#fdca26"
             ],
             [
              1,
              "#f0f921"
             ]
            ],
            "type": "histogram2d"
           }
          ],
          "histogram2dcontour": [
           {
            "colorbar": {
             "outlinewidth": 0,
             "ticks": ""
            },
            "colorscale": [
             [
              0,
              "#0d0887"
             ],
             [
              0.1111111111111111,
              "#46039f"
             ],
             [
              0.2222222222222222,
              "#7201a8"
             ],
             [
              0.3333333333333333,
              "#9c179e"
             ],
             [
              0.4444444444444444,
              "#bd3786"
             ],
             [
              0.5555555555555556,
              "#d8576b"
             ],
             [
              0.6666666666666666,
              "#ed7953"
             ],
             [
              0.7777777777777778,
              "#fb9f3a"
             ],
             [
              0.8888888888888888,
              "#fdca26"
             ],
             [
              1,
              "#f0f921"
             ]
            ],
            "type": "histogram2dcontour"
           }
          ],
          "mesh3d": [
           {
            "colorbar": {
             "outlinewidth": 0,
             "ticks": ""
            },
            "type": "mesh3d"
           }
          ],
          "parcoords": [
           {
            "line": {
             "colorbar": {
              "outlinewidth": 0,
              "ticks": ""
             }
            },
            "type": "parcoords"
           }
          ],
          "pie": [
           {
            "automargin": true,
            "type": "pie"
           }
          ],
          "scatter": [
           {
            "fillpattern": {
             "fillmode": "overlay",
             "size": 10,
             "solidity": 0.2
            },
            "type": "scatter"
           }
          ],
          "scatter3d": [
           {
            "line": {
             "colorbar": {
              "outlinewidth": 0,
              "ticks": ""
             }
            },
            "marker": {
             "colorbar": {
              "outlinewidth": 0,
              "ticks": ""
             }
            },
            "type": "scatter3d"
           }
          ],
          "scattercarpet": [
           {
            "marker": {
             "colorbar": {
              "outlinewidth": 0,
              "ticks": ""
             }
            },
            "type": "scattercarpet"
           }
          ],
          "scattergeo": [
           {
            "marker": {
             "colorbar": {
              "outlinewidth": 0,
              "ticks": ""
             }
            },
            "type": "scattergeo"
           }
          ],
          "scattergl": [
           {
            "marker": {
             "colorbar": {
              "outlinewidth": 0,
              "ticks": ""
             }
            },
            "type": "scattergl"
           }
          ],
          "scattermapbox": [
           {
            "marker": {
             "colorbar": {
              "outlinewidth": 0,
              "ticks": ""
             }
            },
            "type": "scattermapbox"
           }
          ],
          "scatterpolar": [
           {
            "marker": {
             "colorbar": {
              "outlinewidth": 0,
              "ticks": ""
             }
            },
            "type": "scatterpolar"
           }
          ],
          "scatterpolargl": [
           {
            "marker": {
             "colorbar": {
              "outlinewidth": 0,
              "ticks": ""
             }
            },
            "type": "scatterpolargl"
           }
          ],
          "scatterternary": [
           {
            "marker": {
             "colorbar": {
              "outlinewidth": 0,
              "ticks": ""
             }
            },
            "type": "scatterternary"
           }
          ],
          "surface": [
           {
            "colorbar": {
             "outlinewidth": 0,
             "ticks": ""
            },
            "colorscale": [
             [
              0,
              "#0d0887"
             ],
             [
              0.1111111111111111,
              "#46039f"
             ],
             [
              0.2222222222222222,
              "#7201a8"
             ],
             [
              0.3333333333333333,
              "#9c179e"
             ],
             [
              0.4444444444444444,
              "#bd3786"
             ],
             [
              0.5555555555555556,
              "#d8576b"
             ],
             [
              0.6666666666666666,
              "#ed7953"
             ],
             [
              0.7777777777777778,
              "#fb9f3a"
             ],
             [
              0.8888888888888888,
              "#fdca26"
             ],
             [
              1,
              "#f0f921"
             ]
            ],
            "type": "surface"
           }
          ],
          "table": [
           {
            "cells": {
             "fill": {
              "color": "#EBF0F8"
             },
             "line": {
              "color": "white"
             }
            },
            "header": {
             "fill": {
              "color": "#C8D4E3"
             },
             "line": {
              "color": "white"
             }
            },
            "type": "table"
           }
          ]
         },
         "layout": {
          "annotationdefaults": {
           "arrowcolor": "#2a3f5f",
           "arrowhead": 0,
           "arrowwidth": 1
          },
          "autotypenumbers": "strict",
          "coloraxis": {
           "colorbar": {
            "outlinewidth": 0,
            "ticks": ""
           }
          },
          "colorscale": {
           "diverging": [
            [
             0,
             "#8e0152"
            ],
            [
             0.1,
             "#c51b7d"
            ],
            [
             0.2,
             "#de77ae"
            ],
            [
             0.3,
             "#f1b6da"
            ],
            [
             0.4,
             "#fde0ef"
            ],
            [
             0.5,
             "#f7f7f7"
            ],
            [
             0.6,
             "#e6f5d0"
            ],
            [
             0.7,
             "#b8e186"
            ],
            [
             0.8,
             "#7fbc41"
            ],
            [
             0.9,
             "#4d9221"
            ],
            [
             1,
             "#276419"
            ]
           ],
           "sequential": [
            [
             0,
             "#0d0887"
            ],
            [
             0.1111111111111111,
             "#46039f"
            ],
            [
             0.2222222222222222,
             "#7201a8"
            ],
            [
             0.3333333333333333,
             "#9c179e"
            ],
            [
             0.4444444444444444,
             "#bd3786"
            ],
            [
             0.5555555555555556,
             "#d8576b"
            ],
            [
             0.6666666666666666,
             "#ed7953"
            ],
            [
             0.7777777777777778,
             "#fb9f3a"
            ],
            [
             0.8888888888888888,
             "#fdca26"
            ],
            [
             1,
             "#f0f921"
            ]
           ],
           "sequentialminus": [
            [
             0,
             "#0d0887"
            ],
            [
             0.1111111111111111,
             "#46039f"
            ],
            [
             0.2222222222222222,
             "#7201a8"
            ],
            [
             0.3333333333333333,
             "#9c179e"
            ],
            [
             0.4444444444444444,
             "#bd3786"
            ],
            [
             0.5555555555555556,
             "#d8576b"
            ],
            [
             0.6666666666666666,
             "#ed7953"
            ],
            [
             0.7777777777777778,
             "#fb9f3a"
            ],
            [
             0.8888888888888888,
             "#fdca26"
            ],
            [
             1,
             "#f0f921"
            ]
           ]
          },
          "colorway": [
           "#636efa",
           "#EF553B",
           "#00cc96",
           "#ab63fa",
           "#FFA15A",
           "#19d3f3",
           "#FF6692",
           "#B6E880",
           "#FF97FF",
           "#FECB52"
          ],
          "font": {
           "color": "#2a3f5f"
          },
          "geo": {
           "bgcolor": "white",
           "lakecolor": "white",
           "landcolor": "#E5ECF6",
           "showlakes": true,
           "showland": true,
           "subunitcolor": "white"
          },
          "hoverlabel": {
           "align": "left"
          },
          "hovermode": "closest",
          "mapbox": {
           "style": "light"
          },
          "paper_bgcolor": "white",
          "plot_bgcolor": "#E5ECF6",
          "polar": {
           "angularaxis": {
            "gridcolor": "white",
            "linecolor": "white",
            "ticks": ""
           },
           "bgcolor": "#E5ECF6",
           "radialaxis": {
            "gridcolor": "white",
            "linecolor": "white",
            "ticks": ""
           }
          },
          "scene": {
           "xaxis": {
            "backgroundcolor": "#E5ECF6",
            "gridcolor": "white",
            "gridwidth": 2,
            "linecolor": "white",
            "showbackground": true,
            "ticks": "",
            "zerolinecolor": "white"
           },
           "yaxis": {
            "backgroundcolor": "#E5ECF6",
            "gridcolor": "white",
            "gridwidth": 2,
            "linecolor": "white",
            "showbackground": true,
            "ticks": "",
            "zerolinecolor": "white"
           },
           "zaxis": {
            "backgroundcolor": "#E5ECF6",
            "gridcolor": "white",
            "gridwidth": 2,
            "linecolor": "white",
            "showbackground": true,
            "ticks": "",
            "zerolinecolor": "white"
           }
          },
          "shapedefaults": {
           "line": {
            "color": "#2a3f5f"
           }
          },
          "ternary": {
           "aaxis": {
            "gridcolor": "white",
            "linecolor": "white",
            "ticks": ""
           },
           "baxis": {
            "gridcolor": "white",
            "linecolor": "white",
            "ticks": ""
           },
           "bgcolor": "#E5ECF6",
           "caxis": {
            "gridcolor": "white",
            "linecolor": "white",
            "ticks": ""
           }
          },
          "title": {
           "x": 0.05
          },
          "xaxis": {
           "automargin": true,
           "gridcolor": "white",
           "linecolor": "white",
           "ticks": "",
           "title": {
            "standoff": 15
           },
           "zerolinecolor": "white",
           "zerolinewidth": 2
          },
          "yaxis": {
           "automargin": true,
           "gridcolor": "white",
           "linecolor": "white",
           "ticks": "",
           "title": {
            "standoff": 15
           },
           "zerolinecolor": "white",
           "zerolinewidth": 2
          }
         }
        },
        "title": {
         "text": "PCA of High-Dimensional Data"
        },
        "xaxis": {
         "anchor": "y",
         "domain": [
          0,
          1
         ],
         "title": {
          "text": "Principal Component 1"
         }
        },
        "yaxis": {
         "anchor": "x",
         "domain": [
          0,
          1
         ],
         "title": {
          "text": "Principal Component 2"
         }
        }
       }
      }
     },
     "metadata": {},
     "output_type": "display_data"
    }
   ],
   "source": [
    "pca=PCA(n_components=2)\n",
    "x_trans=pca.fit_transform(X)\n",
    "# Step 2: Create a DataFrame for the PCA results\n",
    "pca_df = pd.DataFrame(data=x_trans, columns=['PCA1', 'PCA2'])\n",
    "pca_df['Class'] = Y['class']  # Add the class labels\n",
    "pca_df['Name']=Y[\"mesh_name\"]\n",
    "plot_data2(pca_df,\"PCA1\",\"PCA2\",subs,html_filename=\"plot_pca_selected.html\")\n"
   ]
  }
 ],
 "metadata": {
  "kernelspec": {
   "display_name": "infomr",
   "language": "python",
   "name": "python3"
  },
  "language_info": {
   "codemirror_mode": {
    "name": "ipython",
    "version": 3
   },
   "file_extension": ".py",
   "mimetype": "text/x-python",
   "name": "python",
   "nbconvert_exporter": "python",
   "pygments_lexer": "ipython3",
   "version": "3.8.19"
  }
 },
 "nbformat": 4,
 "nbformat_minor": 2
}
