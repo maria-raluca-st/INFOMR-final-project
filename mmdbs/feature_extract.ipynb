{
 "cells": [
  {
   "cell_type": "code",
   "execution_count": 1,
   "metadata": {},
   "outputs": [],
   "source": [
    "from vedo import Mesh, Box, Sphere, ConvexHull\n",
    "import numpy as np\n",
    "from normalize import get_eigenvectors, normalize_shape, get_center_of_mass"
   ]
  },
  {
   "cell_type": "code",
   "execution_count": null,
   "metadata": {},
   "outputs": [],
   "source": [
    "boxMesh = normalize_shape(Box(width=1,height=1,length=1).c(\"Black\").wireframe(True))\n",
    "sphereMesh = normalize_shape(Sphere(r=1, res=500, quads=False, c='red', alpha=1.0))\n",
    "train = normalize_shape(Mesh(\"..\\shapes\\Train\\D01014.obj\"))\n",
    "head = normalize_shape(Mesh(\"..\\shapes\\HumanHead\\D00131.obj\"))\n",
    "insect = normalize_shape(Mesh(\"..\\shapes\\Insect\\D00117.obj\"))"
   ]
  },
  {
   "cell_type": "code",
   "execution_count": 7,
   "metadata": {},
   "outputs": [
    {
     "name": "stdout",
     "output_type": "stream",
     "text": [
      "Box: {'area': 5.999999999999999, 'volume': 0.9999999999999998, 'rectangularity': 0.9999999999999998, 'compactness': 1.9098593171027443, 'convexity': 1.0, 'eccentricity': 1.0, 'diameter': 1.7320508, 'diameterPts': [array([ 0.5, -0.5, -0.5], dtype=float32), array([-0.5,  0.5,  0.5], dtype=float32)], 'distributions': {'D1': [0.7214622737884497, 0.6882098607982887, 0.6510208329999894, 0.6373774391990981, 0.5125381083392727]}}\n",
      "Sphere: {'area': 3.1409621960160763, 'volume': 0.5233652114635619, 'rectangularity': 0.5234419936153972, 'compactness': 1.000290287391841, 'convexity': 0.9999998860995919, 'eccentricity': 1.006338105363994, 'diameter': 1.0001802, 'diameterPts': [array([ 0.17156927, -0.28756544,  0.3711504 ], dtype=float32), array([-0.17064126,  0.28963393, -0.37053242], dtype=float32)], 'distributions': {'D1': [0.49963202524441885, 0.5001050294325559, 0.5000972641446765, 0.4995267386181736, 0.4999862809171987]}}\n",
      "Train: {'area': 1.642157399797742, 'volume': 0.0013122085996907806, 'rectangularity': 0.12674433107907032, 'compactness': 22739.77756565447, 'convexity': 0.1677986909333453, 'eccentricity': 177.76546109396125, 'diameter': 1.0072006, 'diameterPts': [array([-0.03858508, -0.06778716, -0.5011438 ], dtype=float32), array([0.01533298, 0.0408319 , 0.49873006], dtype=float32)], 'distributions': {'D1': [0.24740443100048407, 0.38120517132646514, 0.12070378938683479, 0.2766984532392198, 0.04621732459754083]}}\n",
      "Head: {'area': 6.334482295644533, 'volume': 0.7105883248987537, 'rectangularity': 1.2239161759023347, 'compactness': 4.45086960541631, 'convexity': 2.5131076843993085, 'eccentricity': 2.105081518984794, 'diameter': 1.0355136, 'diameterPts': [array([-0.0178884 ,  0.11366114, -0.4609855 ], dtype=float32), array([ 0.01572585, -0.21928029,  0.5189679 ], dtype=float32)], 'distributions': {'D1': [0.36282365902703523, 0.26645070888311256, 0.40415045634772584, 0.34255855595824514, 0.44775619470323896]}}\n",
      "Insect: {'area': 1.3444201743317734, 'volume': 0.021993617963780902, 'rectangularity': 0.05183689794262332, 'compactness': 44.41803430824336, 'convexity': 0.12373541220055198, 'eccentricity': 4.623813121636251, 'diameter': 1.0343701, 'diameterPts': [array([ 0.06992882, -0.09011889, -0.4902015 ], dtype=float32), array([0.0314231 , 0.18648906, 0.5057537 ], dtype=float32)], 'distributions': {'D1': [0.2655638314847566, 0.24992637170973783, 0.5149952274751297, 0.24323461884058326, 0.18664757393630238]}}\n"
     ]
    }
   ],
   "source": [
    "def extract_features(mesh:Mesh):\n",
    "    cvx = ConvexHull(mesh.vertices)\n",
    "    diameterRet = get_diameter(mesh,cvx)\n",
    "    mesh.fill_holes()\n",
    "    mesh.triangulate()\n",
    "    ret = {\n",
    "        \"area\":mesh.area(),\n",
    "        \"volume\":mesh.volume(),\n",
    "        \"rectangularity\":get_rectangularity(mesh),\n",
    "        \"compactness\":get_compactness(mesh),\n",
    "        \"convexity\": get_convexity(mesh,cvx),\n",
    "        \"eccentricity\":get_eccentricity(mesh),\n",
    "        \"diameter\":diameterRet[0],\n",
    "        \"diameterPts\":diameterRet[1],\n",
    "        \"distributions\":get_distributions(mesh)\n",
    "    }\n",
    "    return ret\n",
    "\n",
    "def get_surface_area(mesh:Mesh):\n",
    "    #area = sqrt(fabs(s * (s - a) * (s - b) * (s - c)));\n",
    "    return mesh.area()\n",
    "\n",
    "def get_rectangularity(mesh:Mesh):\n",
    "    #How close is the shape (post normalisation to its oriented bounding box)\n",
    "    # (shape volume divided by OBB volume)\n",
    "    bbox = mesh.bounds()\n",
    "    Dx = np.abs(bbox[0] - bbox[1])  \n",
    "    Dy = np.abs(bbox[2] - bbox[3])  \n",
    "    Dz = np.abs(bbox[4] - bbox[5])  \n",
    "    obbVol = Dx*Dy*Dz\n",
    "    rectangularity = mesh.volume()/obbVol\n",
    "    return rectangularity\n",
    "\n",
    "def get_compactness(mesh:Mesh):\n",
    "    #How close is the shape to a sphere\n",
    "    return mesh.area()**3/(36*np.pi*(mesh.volume()**2))\n",
    "    #return mesh.area()**1.5/(36*np.pi*(mesh.volume()**0.5))\n",
    "    #return mesh.area()**3/(mesh.volume()**2)\n",
    "\n",
    "def get_convexity(mesh:Mesh,cvx:ConvexHull):\n",
    "    #(shape volume divided by convex hull volume)\n",
    "    convexity = mesh.volume()/cvx.volume()\n",
    "    return convexity\n",
    "\n",
    "\n",
    "def get_diameter(mesh:Mesh,cvx:ConvexHull,k=500):\n",
    "    maxD = 0\n",
    "    maxP = [None,None]\n",
    "    if(len(cvx.vertices)<k):\n",
    "        subs=cvx.vertices\n",
    "    else:\n",
    "        subs = cvx.vertices[np.random.choice(cvx.vertices.shape[0], k, replace=False)]\n",
    "    for v1 in subs:\n",
    "        for v2 in cvx.vertices:\n",
    "            d = np.linalg.norm(v1-v2)\n",
    "            if d>maxD:\n",
    "                maxD=d\n",
    "                maxP = [v1,v2]\n",
    "    return maxD,maxP        \n",
    "        \n",
    "        \n",
    "\n",
    "def get_eccentricity(mesh:Mesh):\n",
    "    #ratio of largest to smallest eigenvalues of covariance matrix\n",
    "    _,eigval = get_eigenvectors(mesh)\n",
    "    mineig = min(eigval)\n",
    "    maxeig = max(eigval)\n",
    "    return np.abs(maxeig)/np.abs(mineig)\n",
    "\n",
    "\n",
    "def get_distributions(mesh:Mesh, show=True):\n",
    "    com = get_center_of_mass(mesh)\n",
    "    subsample1= mesh.vertices[np.random.choice(mesh.vertices.shape[0], 5, replace=False), :]\n",
    " \n",
    "    D1 = calc_D1(com,subsample1)\n",
    "\n",
    "    distributions = {\n",
    "        \"D1\":D1\n",
    "    }\n",
    "    return distributions\n",
    "\n",
    "\n",
    "#Calculate distance between the center and a random subset, returns list of euclidian distances\n",
    "def calc_D1(center, subs):\n",
    "    ret = []\n",
    "    for pt in subs:\n",
    "        ret.append(np.linalg.norm(pt - center))\n",
    "    return ret\n",
    "    \n",
    "print(\"Box:\",extract_features(boxMesh))\n",
    "print(\"Sphere:\",extract_features(sphereMesh))\n",
    "print(\"Train:\",extract_features(train))\n",
    "print(\"Head:\",extract_features(head))\n",
    "print(\"Insect:\",extract_features(insect))\n",
    "    "
   ]
  },
  {
   "cell_type": "markdown",
   "metadata": {},
   "source": [
    "Difficult Calculations\n",
    "Area - Positive vs Negative (RIght hand rule, counterclockwise orientation = positive, thumb away from screen)\n",
    "    Solution 1) Ignore sign -> Problem Concave Shapes have \"negative\" areas -> Areas are overstimated\n",
    "    Same applies for volume\n",
    "    Solution 2) Incooperate Sign -> Allow negative areas, concavities are incooperated. Problem: consistent orientation along boundary\n",
    "    FOr VOlumes check orientation of triangles. -> Get Consistently oriented triangles.\n",
    "\n",
    "HOle Filling:\n",
    "Every Edge is shared by two triangles. If an edge has a single edge -> it is a boundary. If you have a boundary loop -> fill. \n"
   ]
  },
  {
   "cell_type": "code",
   "execution_count": 25,
   "metadata": {},
   "outputs": [
    {
     "name": "stdout",
     "output_type": "stream",
     "text": [
      "5161\n",
      "1809\n"
     ]
    }
   ],
   "source": [
    "print(len(head.vertices))\n",
    "chull = ConvexHull(head.vertices)\n",
    "print(len(chull.vertices))"
   ]
  }
 ],
 "metadata": {
  "kernelspec": {
   "display_name": "infomr",
   "language": "python",
   "name": "python3"
  },
  "language_info": {
   "codemirror_mode": {
    "name": "ipython",
    "version": 3
   },
   "file_extension": ".py",
   "mimetype": "text/x-python",
   "name": "python",
   "nbconvert_exporter": "python",
   "pygments_lexer": "ipython3",
   "version": "3.8.19"
  }
 },
 "nbformat": 4,
 "nbformat_minor": 2
}
