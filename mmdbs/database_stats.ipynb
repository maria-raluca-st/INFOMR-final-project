{
 "cells": [
  {
   "cell_type": "code",
   "execution_count": 5,
   "metadata": {},
   "outputs": [],
   "source": [
    "df = pd.read_csv(\"metadata.csv\")\n",
    "df.describe()"
   ]
  },
  {
   "cell_type": "code",
   "execution_count": 4,
   "metadata": {},
   "outputs": [],
   "source": [
    "rdf = pd.DataFrame(df[\"Class\"].value_counts())\n",
    "print(rdf)"
   ]
  },
  {
   "cell_type": "code",
   "execution_count": 11,
   "metadata": {},
   "outputs": [],
   "source": [
    "\n",
    "\n",
    "# Calculate the order of classes based on the mean of 'Vertices'\n",
    "class_order = df.groupby('Class')['Vertices'].mean().sort_values().index\n",
    "\n",
    "# Create the side-by-side boxplots with ordered classes\n",
    "plt.figure(figsize=(15, 10))\n",
    "sns.boxplot(x='Class', y='Cells', data=df, palette=['#1f77b4', '#ff7f0e'], order=class_order)\n",
    "plt.title('Vertices by Class (Ordered by Average Vertices)')\n",
    "plt.xlabel('Class')\n",
    "plt.ylabel('Count of Vertices')\n",
    "plt.xticks(rotation=90)  # Rotate class labels for better readability\n",
    "plt.legend(title='Source')\n",
    "plt.show()"
   ]
  },
  {
   "cell_type": "code",
   "execution_count": 80,
   "metadata": {},
   "outputs": [],
   "source": [
    "data = pd.DataFrame(data={\"Vertices\":df[\"Vertices\"],\"Cells\":df[\"Cells\"]})\n",
    "\n",
    "\n",
    "plt.figure(figsize=(15, 10))\n",
    "sns.scatterplot(x='Vertices', y='Cells', data=data)\n",
    "plt.plot([1, 1], [120000, 120000],linewidth=2)\n",
    "\n",
    "plt.title('Vertex to Cell Relation')\n",
    "plt.xlabel('Vertices')\n",
    "plt.ylabel('Cells')\n",
    "plt.xticks(rotation=90)  # Rotate class labels for better readability\n",
    "plt.legend(title='Source')\n",
    "plt.plot([0, 60000], [0, 120000], linewidth=2, label=\"1:2\")\n",
    "plt.plot([0, 20000], [0, 120000], linewidth=2, label=\"1:6\")\n",
    "plt.plot([0, 120000], [0, 40000], linewidth=2, label=\"3:1\")\n",
    "\n",
    "plt.legend()\n",
    "plt.show()"
   ]
  },
  {
   "cell_type": "code",
   "execution_count": 36,
   "metadata": {},
   "outputs": [],
   "source": [
    "\n",
    "plt.figure(figsize=(8, 6))\n",
    "sns.scatterplot(x='ground_truth', y='sampling', data=rdf)\n",
    "plt.title('Diagonal Heuristic Evaluation')\n",
    "plt.xlabel('Brute Force')\n",
    "plt.ylabel('Heuristic')\n",
    "plt.plot([0, np.sqrt(3)], [0, np.sqrt(3)], linewidth=2, label=\"expected\",color=\"green\")\n"
   ]
  },
  {
   "cell_type": "code",
   "execution_count": 28,
   "metadata": {},
   "outputs": [],
   "source": [
    "dfmanifest = pd.read_csv(\"shape_manifest.csv\")\n",
    "dfmanifest[\"Path\"]=dfmanifest[\"Path\"].apply(func=(lambda x: x.replace(\"\\\\\",\"/\")))\n",
    "df[\"Path\"]=df[\"Path\"].apply(func=(lambda x: x.replace(\"\\\\\",\"/\")))\n",
    "df_sub = df[[\"Vertices\",\"Path\",\"Cells\"]]\n"
   ]
  },
  {
   "cell_type": "code",
   "execution_count": 48,
   "metadata": {},
   "outputs": [],
   "source": [
    "other_data = pd.DataFrame(data={\"Vertices\":df[\"Vertices\"],\"Cells\":df[\"Cells\"],\"Path\":df[\"Path\"]})\n",
    "other_data.set_index(\"Path\")\n",
    "joined_data = failed_meta.merge(other_data,on=[\"Path\",\"Cells\",\"Vertices\"],how=\"right\")\n",
    "\n",
    "joined_data.loc[pd.isna(joined_data['Color']),'Color'] = \"Blue\"\n",
    "print(joined_data.head())"
   ]
  },
  {
   "cell_type": "code",
   "execution_count": 73,
   "metadata": {},
   "outputs": [],
   "source": [
    "mesh_features = pd.read_csv(\"mesh_features.csv\")\n",
    "\n",
    "print(\"D00348.obj\" in mesh_features[\"mesh_name\"].values)\n",
    "print(mesh_features.loc[mesh_features[\"mesh_name\"]==\"D00348.obj\"])"
   ]
  }
 ],
 "metadata": {
  "kernelspec": {
   "display_name": "infomr",
   "language": "python",
   "name": "python3"
  },
  "language_info": {
   "codemirror_mode": {
    "name": "ipython",
    "version": 3
   },
   "file_extension": ".py",
   "mimetype": "text/x-python",
   "name": "python",
   "nbconvert_exporter": "python",
   "pygments_lexer": "ipython3",
   "version": "3.8.19"
  }
 },
 "nbformat": 4,
 "nbformat_minor": 2
}
