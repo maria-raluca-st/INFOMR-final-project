{
 "cells": [
  {
   "cell_type": "code",
   "execution_count": 6,
   "metadata": {},
   "outputs": [],
   "source": [
    "from vedo import dataurl, Mesh, Plotter, Volume, settings, LinearTransform, Box, Line\n",
    "import numpy as np\n",
    "import pandas as pd\n",
    "from normalize import normalize_shape,get_eigenvectors, get_center_of_mass,normalize_vertices\n",
    "import os\n",
    "from pathlib import Path\n",
    "import matplotlib.pyplot as plt\n",
    "settings.default_backend = 'k3d'\n",
    "np.set_printoptions(suppress=True)\n"
   ]
  },
  {
   "cell_type": "code",
   "execution_count": 7,
   "metadata": {},
   "outputs": [],
   "source": [
    "\n",
    "def normalize_position(mesh:Mesh,inplace=True):\n",
    "    \"\"\"\n",
    "    Shifts input mesh so that its center of mass coincides with the origin\n",
    "    ----------------------------\n",
    "    Args:\n",
    "        Vedo Mesh\n",
    "    Returns:\n",
    "        Vedo Mesh\n",
    "    \"\"\"\n",
    "    if(not inplace):\n",
    "        wMesh=mesh.copy()\n",
    "    else:\n",
    "        wMesh=mesh\n",
    "    LT = LinearTransform()\n",
    "    LT.translate(wMesh.transform.position-wMesh.center_of_mass())\n",
    "    LT.move(wMesh)\n",
    "    return wMesh\n",
    "\n",
    "def normalize_pose(mesh:Mesh,inplace=True):\n",
    "    \"\"\"\n",
    "    Rotates mesh so that its major axes are aligned with the unit axes. \n",
    "    ----------------------------\n",
    "    Input:\n",
    "        Vedo Mesh\n",
    "    Returns:\n",
    "        Vedo Mesh\n",
    "    \"\"\"\n",
    "    if(not inplace):\n",
    "        wMesh=mesh.copy()\n",
    "    else:\n",
    "        wMesh=mesh\n",
    "    eigenvectors,eigenvalues = get_eigenvectors(wMesh)\n",
    "    ranking = np.argpartition(eigenvalues, 2)\n",
    "    aligned_matrix = [eigenvectors[ranking[2]],\n",
    "                      eigenvectors[ranking[1]],\n",
    "                      np.cross(eigenvectors[ranking[2]],eigenvectors[ranking[1]])]\n",
    "    #wMesh.vertices = np.dot(wMesh.vertices-mesh.center_of_mass(),np.transpose(aligned_matrix))\n",
    "\n",
    "    wMesh.vertices = np.dot(aligned_matrix,wMesh.vertices.T).T\n",
    "    return wMesh\n",
    "    verts = []\n",
    "    c = get_center_of_mass(mesh)\n",
    "    for i in range(0, len(mesh.vertices)):\n",
    "        v = mesh.vertices[i]\n",
    "        p1 = np.dot(v-c, eigenvectors[ranking[2]])\n",
    "        p2 = np.dot(v-c, eigenvectors[ranking[1]])\n",
    "        p3 = np.cross(eigenvectors[ranking])\n",
    "        verts.append([p1, p2, p3])\n",
    "    wMesh.vertices = verts\n",
    "    return wMesh\n",
    "\n"
   ]
  },
  {
   "cell_type": "code",
   "execution_count": 23,
   "metadata": {},
   "outputs": [
    {
     "name": "stdout",
     "output_type": "stream",
     "text": [
      "\u001b[7m\u001b[1m\u001b[32mvedo.mesh.Mesh at (0x196a7122ea0)                                          \u001b[0m\n",
      "\u001b[0m\u001b[32;1mname          : Mesh\n",
      "file name     : ../shapes\\FloorLamp\\m619.obj\n",
      "elements      : vertices=361 polygons=696 lines=0\n",
      "position      : (0, 0, 0)\n",
      "scaling       : (1.00000, 1.00000, 1.00000)\n",
      "size          : average=0.133367, diagonal=0.973164\n",
      "center of mass: (0.0996223, 0.828652, 0.0996225)\n",
      "bounds        : x=(0.0250, 0.174), y=(0.0250, 0.975), z=(0.0250, 0.174)\n",
      "pointdata     : \"Normals\" (float32), dim=3\n",
      "celldata      : \"GroupIds\" (float32), dim=1, range=(0, 0)\u001b[0m\n",
      "[[ 0.00000427  0.7849132   0.61960574]\n",
      " [-1.         -0.00002415  0.00003749]\n",
      " [-0.00004439  0.61960574 -0.7849132 ]] [0.05163365 0.00032057 0.00032078]\n",
      "\u001b[7m\u001b[1m\u001b[32mvedo.mesh.Mesh at (0x196a71222a0)                                          \u001b[0m\n",
      "\u001b[0m\u001b[32;1mname          : Mesh\n",
      "file name     : ../shapes\\FloorLamp\\m619.obj\n",
      "color         : black, rgb=(0, 0, 0), alpha=1.0\n",
      "elements      : vertices=361 polygons=696 lines=0\n",
      "position      : (-0.0996223, -0.828652, -0.0996225)\n",
      "scaling       : (1.00000, 1.00000, 1.00000)\n",
      "size          : average=0.133367, diagonal=0.973164\n",
      "center of mass: (-4.01627e-10, -8.26194e-10, 4.26438e-10)\n",
      "bounds        : x=(-0.0746, 0.0746), y=(-0.804, 0.146), z=(-0.0746, 0.0746)\n",
      "pointdata     : \"Normals\" (float32), dim=3\n",
      "celldata      : \"GroupIds\" (float32), dim=1, range=(0, 0)\u001b[0m\n",
      "[[-0.00000002  1.          0.00000149]\n",
      " [ 1.          0.00000002  0.00000007]\n",
      " [-0.00000007 -0.00000149  1.        ]] [0.0487125  0.00138915 0.00138915]\n",
      "[[ 0.00000427  0.7849132   0.61960574]\n",
      " [-1.         -0.00002415  0.00003749]\n",
      " [-0.00004439  0.61960574 -0.7849132 ]] [0.05163365 0.00032057 0.00032078]\n",
      "\u001b[7m\u001b[1m\u001b[32mvedo.mesh.Mesh at (0x196a71230a0)                                          \u001b[0m\n",
      "\u001b[0m\u001b[32;1mname          : Mesh\n",
      "file name     : ../shapes\\FloorLamp\\m619.obj\n",
      "color         : red, rgb=(0.996, 0.118, 0.122), alpha=1.0\n",
      "elements      : vertices=18,025 polygons=36,024 lines=0\n",
      "position      : (0, 0, 0)\n",
      "scaling       : (1.00000, 1.00000, 1.00000)\n",
      "size          : average=0.198285, diagonal=1.01384\n",
      "center of mass: (-1.04345e-9, -1.02505e-9, 3.06857e-10)\n",
      "bounds        : x=(-0.341, 0.435), y=(-0.276, 0.359), z=(-0.0746, 0.0746)\n",
      "pointdata     : \"Normals\" (float32), dim=3\n",
      "celldata      : \"GroupIds\" (float32), dim=1, range=(0, 0)\u001b[0m\n",
      "EIGENVECTORS: [[ 0.00000427  0.7849132   0.61960574]\n",
      " [-1.         -0.00002415  0.00003749]\n",
      " [-0.00004439  0.61960574 -0.7849132 ]]\n"
     ]
    },
    {
     "data": {
      "application/vnd.jupyter.widget-view+json": {
       "model_id": "66a510da247443d1b88ce71908c8f858",
       "version_major": 2,
       "version_minor": 0
      },
      "text/plain": [
       "Plot(antialias=True, axes=['x', 'y', 'z'], axes_helper=1.0, axes_helper_colors=[16711680, 65280, 255], backgro…"
      ]
     },
     "execution_count": 23,
     "metadata": {},
     "output_type": "execute_result"
    }
   ],
   "source": [
    "#Rich Display\n",
    "\n",
    "z_axis = Line([0,0,0], [0,0,2], lw=3).c(\"Blue\")\n",
    "y_axis = Line([0,0,0], [0,2,0], lw=3).c(\"Green\")\n",
    "x_axis = Line([0,0,0], [2,0,0], lw=3).c(\"Red\")\n",
    "unit_box = Box(width=1,height=1,length=1).c(\"Black\").wireframe(True)\n",
    "\n",
    "filepath = \"../shapes\\FloorLamp\\m619.obj\"\n",
    "mesh = Mesh(filepath)\n",
    "\n",
    "print(mesh)\n",
    "# Set the backcolor of the mesh to violet\n",
    "# and show edges with a linewidth of 2\n",
    "mesh_v = mesh.copy(deep=True).c(\"Red\")\n",
    "mesh_v2 = normalize_vertices(mesh_v).c(\"Red\")\n",
    "mesh_v3 = normalize_position(mesh_v2,inplace=False).c(\"Red\")#.normalize_position()\n",
    "mesh_v4 = normalize_pose(mesh_v3,inplace=False).c(\"Red\")\n",
    "\n",
    "\n",
    "mesh2 = normalize_position(mesh,inplace=False).c(\"black\")\n",
    "\n",
    "print(mesh2)\n",
    "mesh3 = normalize_pose(mesh2,inplace=False).c(\"Green\")\n",
    "\n",
    "eigenvectors, eigenvals = get_eigenvectors(mesh_v3)\n",
    "\n",
    "z_axis = Line([0,0,0], [0,0,2], lw=3).c(\"Blue\")\n",
    "y_axis = Line([0,0,0], [0,2,0], lw=3).c(\"Green\")\n",
    "x_axis = Line([0,0,0], [2,0,0], lw=3).c(\"Red\")\n",
    "\n",
    "print(mesh_v4)\n",
    "print(\"EIGENVECTORS:\",eigenvectors)\n",
    "ranking = np.argpartition(eigenvals, 2)\n",
    "eig1 = Line([0,0,0], eigenvectors[ranking[2]], lw=3).c(\"Violet\")\n",
    "eig2 = Line([0,0,0], eigenvectors[ranking[1]], lw=3).c(\"Blue\")\n",
    "eig3 = Line([0,0,0], eigenvectors[ranking[0]], lw=3).c(\"black\")\n",
    "\n",
    "plot = Plotter(bg='white')\n",
    "plot.show(mesh_v3,mesh2,x_axis,y_axis,z_axis,unit_box,eig1,eig2,eig3)"
   ]
  },
  {
   "cell_type": "code",
   "execution_count": null,
   "metadata": {},
   "outputs": [],
   "source": []
  },
  {
   "cell_type": "code",
   "execution_count": 34,
   "metadata": {},
   "outputs": [
    {
     "name": "stdout",
     "output_type": "stream",
     "text": [
      "\u001b[7m\u001b[1m\u001b[32mvedo.mesh.Mesh at (0x196a7122ea0)                                          \u001b[0m\n",
      "\u001b[0m\u001b[32;1mname          : Mesh\n",
      "file name     : ../shapes\\FloorLamp\\m619.obj\n",
      "elements      : vertices=361 polygons=696 lines=0\n",
      "position      : (0, 0, 0)\n",
      "scaling       : (1.00000, 1.00000, 1.00000)\n",
      "size          : average=0.133367, diagonal=0.973164\n",
      "center of mass: (0.0996223, 0.828652, 0.0996225)\n",
      "bounds        : x=(0.0250, 0.174), y=(0.0250, 0.975), z=(0.0250, 0.174)\n",
      "pointdata     : \"Normals\" (float32), dim=3\n",
      "celldata      : \"GroupIds\" (float32), dim=1, range=(0, 0)\u001b[0m\n",
      "\u001b[7m\u001b[1m\u001b[32mvedo.mesh.Mesh at (0x196a7123ca0)                                          \u001b[0m\n",
      "\u001b[0m\u001b[32;1mname          : Mesh\n",
      "file name     : ../shapes\\FloorLamp\\m619.obj\n",
      "color         : red, rgb=(0.996, 0.118, 0.122), alpha=1.0\n",
      "elements      : vertices=18,025 polygons=36,024 lines=0\n",
      "position      : (0, 0, 0)\n",
      "scaling       : (1.00000, 1.00000, 1.00000)\n",
      "size          : average=0.198285, diagonal=0.973164\n",
      "center of mass: (0.0996227, 0.440077, 0.0996249)\n",
      "bounds        : x=(0.0250, 0.174), y=(0.0250, 0.975), z=(0.0250, 0.174)\n",
      "pointdata     : \"Normals\" (float32), dim=3\n",
      "celldata      : \"GroupIds\" (float32), dim=1, range=(0, 0)\u001b[0m\n"
     ]
    }
   ],
   "source": [
    "print(mesh)\n",
    "print(mesh_v2)"
   ]
  },
  {
   "cell_type": "code",
   "execution_count": 58,
   "metadata": {},
   "outputs": [
    {
     "name": "stdout",
     "output_type": "stream",
     "text": [
      "25.951030928079508\n"
     ]
    },
    {
     "data": {
      "text/plain": [
       "18.473870082480552"
      ]
     },
     "execution_count": 58,
     "metadata": {},
     "output_type": "execute_result"
    }
   ],
   "source": [
    "def get_vertex_dist(mesh:Mesh):\n",
    "    #As the ratio of the smallest cell against largest cell\n",
    "    minar = np.inf\n",
    "    maxar = 0\n",
    "    for idx in range(0,len(mesh.vertices)):\n",
    "        ar = 0\n",
    "        for cp in mesh.connected_vertices(idx):\n",
    "            ar+= np.abs(np.linalg.norm(mesh.vertices[idx] - mesh.vertices[cp]))\n",
    "        \n",
    "\n",
    "        if ar!=0 and ar<minar:\n",
    "            minar=ar\n",
    "        elif ar!=0 and ar>maxar:\n",
    "            maxar=ar\n",
    "        #print(ar,minar,maxar)\n",
    "\n",
    "    return maxar/minar\n",
    "\n",
    "print(get_vertex_dist(mesh))\n",
    "get_vertex_dist(mesh_v4)\n",
    "\n",
    "\n",
    "    "
   ]
  }
 ],
 "metadata": {
  "kernelspec": {
   "display_name": "infomr",
   "language": "python",
   "name": "python3"
  },
  "language_info": {
   "codemirror_mode": {
    "name": "ipython",
    "version": 3
   },
   "file_extension": ".py",
   "mimetype": "text/x-python",
   "name": "python",
   "nbconvert_exporter": "python",
   "pygments_lexer": "ipython3",
   "version": "3.8.19"
  }
 },
 "nbformat": 4,
 "nbformat_minor": 2
}
