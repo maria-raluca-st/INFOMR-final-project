{
 "cells": [
  {
   "cell_type": "code",
   "execution_count": 2,
   "metadata": {},
   "outputs": [],
   "source": [
    "from vedo import dataurl, Mesh, Plotter, Volume, settings, LinearTransform, Box, Line, Sphere\n",
    "import numpy as np\n",
    "import pandas as pd\n",
    "from normalize import normalize_shape, get_center_of_mass,normalize_vertices,normalize_scale\n",
    "import os\n",
    "from pathlib import Path\n",
    "import matplotlib.pyplot as plt\n",
    "settings.default_backend = 'k3d'\n",
    "np.set_printoptions(suppress=True)\n"
   ]
  },
  {
   "cell_type": "code",
   "execution_count": 3,
   "metadata": {},
   "outputs": [],
   "source": [
    "def get_eigenvectors(mesh: Mesh):\n",
    "    \"\"\"\n",
    "    Returns eigenvectors and eigenvalues of a mesh\n",
    "    ----------------------------\n",
    "    Args:\n",
    "        Vedo Mesh\n",
    "    Returns:\n",
    "        Tuple of (eigenvalues, eigenvectors)\n",
    "    \"\"\"\n",
    "    A = np.zeros((3, len(mesh.vertices)))\n",
    "    A[0] = mesh.vertices[:, 0]\n",
    "    A[1] = mesh.vertices[:, 1]\n",
    "    A[2] = mesh.vertices[:, 2]\n",
    "\n",
    "    # compute the covariance matrix for A \n",
    "    # see the documentation at \n",
    "    # https://docs.scipy.org/doc/numpy/reference/generated/numpy.cov.html\n",
    "    # this function expects that each row of A represents a variable, \n",
    "    # and each column a single observation of all those variables\n",
    "    A_cov = np.cov(A)  # 3x3 matrix\n",
    "\n",
    "    # computes the eigenvalues and eigenvectors for the \n",
    "    # covariance matrix. See documentation at  \n",
    "    # https://docs.scipy.org/doc/numpy/reference/generated/numpy.linalg.eig.html \n",
    "    eigenvalues, eigenvectors = np.linalg.eig(A_cov)\n",
    "\n",
    "    print(\"==> eigenvalues for (x, y, z)\")\n",
    "    print(eigenvalues)\n",
    "    print(\"\\n==> eigenvectors\")\n",
    "    print(eigenvectors)\n",
    "    A_cov = np.cov(np.transpose(mesh.vertices))  # 3x3 matrix\n",
    "    # computes the eigenvalues and eigenvectors for the\n",
    "    # covariance matrix. See documentation at\n",
    "    # https://docs.scipy.org/doc/numpy/reference/generated/numpy.linalg.eig.html\n",
    "    eigenvalues, eigenvectors = np.linalg.eig(A_cov)\n",
    "    # print(eigenvectors,eigenvalues) TODO: remove?\n",
    "    return eigenvectors, eigenvalues"
   ]
  },
  {
   "cell_type": "code",
   "execution_count": 4,
   "metadata": {},
   "outputs": [
    {
     "name": "stdout",
     "output_type": "stream",
     "text": [
      "==> eigenvalues for (x, y, z)\n",
      "[0.08303283 0.08348733 0.0835591 ]\n",
      "\n",
      "==> eigenvectors\n",
      "[[-1.         -0.000002    0.00000066]\n",
      " [-0.000002    1.          0.00003992]\n",
      " [ 0.00000066 -0.00003992  1.        ]]\n",
      "[0.11350152 0.12970169 0.13447422 ... 0.39957035 0.42497876 0.44312367]\n",
      "Eccentricity: 1.006338105363994\n"
     ]
    }
   ],
   "source": [
    "unorm = normalize_shape(Sphere(r=1, res=500, quads=False, c='red', alpha=1.0)).c(\"Black\")\n",
    "eigenvectors, eigenvals = get_eigenvectors(unorm)\n",
    "#print(mesh_v4)\n",
    "print(unorm.vertices[:, 2])\n",
    "print(f\"Eccentricity: {max(eigenvals)/min(eigenvals)}\")\n"
   ]
  },
  {
   "cell_type": "code",
   "execution_count": 7,
   "metadata": {},
   "outputs": [
    {
     "name": "stdout",
     "output_type": "stream",
     "text": [
      "==> eigenvalues for (x, y, z)\n",
      "[0.07464437 0.07464437 0.09340831]\n",
      "\n",
      "==> eigenvectors\n",
      "[[ 1.         -0.04456781 -0.        ]\n",
      " [ 0.          0.99900636 -0.        ]\n",
      " [ 0.         -0.         -1.        ]]\n",
      "[ 0.5        -0.5         0.4698463  ... -0.39387524 -0.39387524\n",
      " -0.40472823]\n",
      "Eccentricity: 1.2513779411707147\n"
     ]
    }
   ],
   "source": [
    "unorm2 = normalize_shape(Sphere(r=1, res=10, quads=False, c='red', alpha=1.0)).c(\"Black\")\n",
    "eigenvectors, eigenvals = get_eigenvectors(unorm2)\n",
    "#print(mesh_v4)\n",
    "print(unorm2.vertices[:, 2])\n",
    "print(f\"Eccentricity: {max(eigenvals)/min(eigenvals)}\")"
   ]
  },
  {
   "cell_type": "code",
   "execution_count": 9,
   "metadata": {},
   "outputs": [],
   "source": [
    "unorm2.wireframe(True)\n",
    "unorm.wireframe(True)\n",
    "unorm2.vertices+=[0,0,1]\n",
    "\n"
   ]
  },
  {
   "cell_type": "code",
   "execution_count": 22,
   "metadata": {},
   "outputs": [
    {
     "name": "stdout",
     "output_type": "stream",
     "text": [
      "0.31759736\n"
     ]
    }
   ],
   "source": [
    "print((unorm.vertices[:, 2].std()))\n"
   ]
  },
  {
   "cell_type": "code",
   "execution_count": 10,
   "metadata": {},
   "outputs": [
    {
     "data": {
      "application/vnd.jupyter.widget-view+json": {
       "model_id": "ff3a129a4735421fb3c5aea84117fb1b",
       "version_major": 2,
       "version_minor": 0
      },
      "text/plain": [
       "Plot(antialias=True, axes=['x', 'y', 'z'], axes_helper=1.0, axes_helper_colors=[16711680, 65280, 255], backgro…"
      ]
     },
     "execution_count": 10,
     "metadata": {},
     "output_type": "execute_result"
    }
   ],
   "source": [
    "#Rich Display\n",
    "\n",
    "z_axis = Line([0,0,0], [0,0,2], lw=3).c(\"Blue\")\n",
    "y_axis = Line([0,0,0], [0,2,0], lw=3).c(\"Green\")\n",
    "x_axis = Line([0,0,0], [2,0,0], lw=3).c(\"Red\")\n",
    "\n",
    "plot = Plotter(bg='white')\n",
    "#plot.show(mesh_v3,mesh2,x_axis,y_axis,z_axis,unit_box,eig1,eig2,eig3)\n",
    "plot.show(unorm,unorm2,x_axis,y_axis,z_axis,eig1,eig2,eig3)"
   ]
  },
  {
   "cell_type": "code",
   "execution_count": 5,
   "metadata": {},
   "outputs": [
    {
     "name": "stdout",
     "output_type": "stream",
     "text": [
      "../shapes/FloorLamp/m619.obj\n"
     ]
    }
   ],
   "source": [
    "print(mesh_v2.filename)"
   ]
  },
  {
   "cell_type": "code",
   "execution_count": 34,
   "metadata": {},
   "outputs": [
    {
     "name": "stdout",
     "output_type": "stream",
     "text": [
      "\u001b[7m\u001b[1m\u001b[32mvedo.mesh.Mesh at (0x196a7122ea0)                                          \u001b[0m\n",
      "\u001b[0m\u001b[32;1mname          : Mesh\n",
      "file name     : ../shapes\\FloorLamp\\m619.obj\n",
      "elements      : vertices=361 polygons=696 lines=0\n",
      "position      : (0, 0, 0)\n",
      "scaling       : (1.00000, 1.00000, 1.00000)\n",
      "size          : average=0.133367, diagonal=0.973164\n",
      "center of mass: (0.0996223, 0.828652, 0.0996225)\n",
      "bounds        : x=(0.0250, 0.174), y=(0.0250, 0.975), z=(0.0250, 0.174)\n",
      "pointdata     : \"Normals\" (float32), dim=3\n",
      "celldata      : \"GroupIds\" (float32), dim=1, range=(0, 0)\u001b[0m\n",
      "\u001b[7m\u001b[1m\u001b[32mvedo.mesh.Mesh at (0x196a7123ca0)                                          \u001b[0m\n",
      "\u001b[0m\u001b[32;1mname          : Mesh\n",
      "file name     : ../shapes\\FloorLamp\\m619.obj\n",
      "color         : red, rgb=(0.996, 0.118, 0.122), alpha=1.0\n",
      "elements      : vertices=18,025 polygons=36,024 lines=0\n",
      "position      : (0, 0, 0)\n",
      "scaling       : (1.00000, 1.00000, 1.00000)\n",
      "size          : average=0.198285, diagonal=0.973164\n",
      "center of mass: (0.0996227, 0.440077, 0.0996249)\n",
      "bounds        : x=(0.0250, 0.174), y=(0.0250, 0.975), z=(0.0250, 0.174)\n",
      "pointdata     : \"Normals\" (float32), dim=3\n",
      "celldata      : \"GroupIds\" (float32), dim=1, range=(0, 0)\u001b[0m\n"
     ]
    }
   ],
   "source": [
    "print(mesh)\n",
    "print(mesh_v2)"
   ]
  },
  {
   "cell_type": "code",
   "execution_count": 58,
   "metadata": {},
   "outputs": [
    {
     "name": "stdout",
     "output_type": "stream",
     "text": [
      "25.951030928079508\n"
     ]
    },
    {
     "data": {
      "text/plain": [
       "18.473870082480552"
      ]
     },
     "execution_count": 58,
     "metadata": {},
     "output_type": "execute_result"
    }
   ],
   "source": [
    "def get_vertex_dist(mesh:Mesh):\n",
    "    #As the ratio of the smallest cell against largest cell\n",
    "    minar = np.inf\n",
    "    maxar = 0\n",
    "    for idx in range(0,len(mesh.vertices)):\n",
    "        ar = 0\n",
    "        for cp in mesh.connected_vertices(idx):\n",
    "            ar+= np.abs(np.linalg.norm(mesh.vertices[idx] - mesh.vertices[cp]))\n",
    "        \n",
    "\n",
    "        if ar!=0 and ar<minar:\n",
    "            minar=ar\n",
    "        elif ar!=0 and ar>maxar:\n",
    "            maxar=ar\n",
    "        #print(ar,minar,maxar)\n",
    "\n",
    "    return maxar/minar\n",
    "\n",
    "print(get_vertex_dist(mesh))\n",
    "get_vertex_dist(mesh_v4)\n",
    "\n",
    "\n",
    "    "
   ]
  }
 ],
 "metadata": {
  "kernelspec": {
   "display_name": "infomr",
   "language": "python",
   "name": "python3"
  },
  "language_info": {
   "codemirror_mode": {
    "name": "ipython",
    "version": 3
   },
   "file_extension": ".py",
   "mimetype": "text/x-python",
   "name": "python",
   "nbconvert_exporter": "python",
   "pygments_lexer": "ipython3",
   "version": "3.8.19"
  }
 },
 "nbformat": 4,
 "nbformat_minor": 2
}
