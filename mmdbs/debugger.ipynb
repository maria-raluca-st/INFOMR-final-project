{
 "cells": [
  {
   "cell_type": "code",
   "execution_count": 9,
   "metadata": {},
   "outputs": [],
   "source": [
    "from vedo import dataurl, Mesh, Plotter, Volume, settings, LinearTransform, Box, Line\n",
    "import numpy as np\n",
    "import pandas as pd\n",
    "from normalize import normalize_shape,get_eigenvectors\n",
    "import os\n",
    "from pathlib import Path\n",
    "import matplotlib.pyplot as plt\n",
    "settings.default_backend = 'k3d'\n",
    "np.set_printoptions(suppress=True)\n"
   ]
  },
  {
   "cell_type": "code",
   "execution_count": 18,
   "metadata": {},
   "outputs": [],
   "source": [
    "\n",
    "def normalize_position(mesh:Mesh,inplace=True):\n",
    "    \"\"\"\n",
    "    Shifts input mesh so that its center of mass coincides with the origin\n",
    "    ----------------------------\n",
    "    Args:\n",
    "        Vedo Mesh\n",
    "    Returns:\n",
    "        Vedo Mesh\n",
    "    \"\"\"\n",
    "    if(not inplace):\n",
    "        wMesh=mesh.copy()\n",
    "    else:\n",
    "        wMesh=mesh\n",
    "    LT = LinearTransform()\n",
    "    LT.translate(wMesh.transform.position-wMesh.center_of_mass())\n",
    "    LT.move(wMesh)\n",
    "    return wMesh\n",
    "\n",
    "def normalize_pose(mesh:Mesh,inplace=True):\n",
    "    \"\"\"\n",
    "    Rotates mesh so that its major axes are aligned with the unit axes. \n",
    "    ----------------------------\n",
    "    Input:\n",
    "        Vedo Mesh\n",
    "    Returns:\n",
    "        Vedo Mesh\n",
    "    \"\"\"\n",
    "    if(not inplace):\n",
    "        wMesh=mesh.copy()\n",
    "    else:\n",
    "        wMesh=mesh\n",
    "    eigenvectors,eigenvalues = get_eigenvectors(wMesh)\n",
    "    ranking = np.argpartition(eigenvalues, 2)\n",
    "    aligned_matrix = [eigenvectors[ranking[2]],\n",
    "                      eigenvectors[ranking[1]],\n",
    "                      eigenvectors[ranking[0]]]\n",
    "    wMesh.vertices = np.dot(wMesh.vertices-mesh.center_of_mass(),np.transpose(aligned_matrix))\n",
    "    return wMesh\n",
    "    verts = []\n",
    "    c = mesh.center_of_mass()\n",
    "    for i in range(0, len(mesh.vertices)):\n",
    "        v = mesh.vertices[i]\n",
    "        p1 = np.dot(v-c, eigenvectors[ranking[2]])\n",
    "        p2 = np.dot(v-c, eigenvectors[ranking[1]])\n",
    "        p3 = np.dot(v-c, eigenvectors[ranking[0]])\n",
    "        verts.append([p1, p2, p3])\n",
    "    wMesh.vertices = verts\n",
    "    return wMesh\n",
    "\n"
   ]
  },
  {
   "cell_type": "code",
   "execution_count": 19,
   "metadata": {},
   "outputs": [
    {
     "name": "stdout",
     "output_type": "stream",
     "text": [
      "\u001b[7m\u001b[1m\u001b[32mvedo.mesh.Mesh at (0x21ef8f432d0)                                          \u001b[0m\n",
      "\u001b[0m\u001b[32;1mname          : Mesh\n",
      "file name     : ../shapes\\Door\\D01104.obj\n",
      "color         : violet, rgb=(0.933, 0.510, 0.933), alpha=1.0\n",
      "elements      : vertices=871 polygons=1,772 lines=0\n",
      "position      : (0, 0, 0)\n",
      "scaling       : (1.00000, 1.00000, 1.00000)\n",
      "size          : average=0.276694, diagonal=1.05662\n",
      "center of mass: (0.331757, 0.647215, 0.0456782)\n",
      "bounds        : x=(0.0250, 0.486), y=(0.0250, 0.975), z=(0.0250, 0.0670)\n",
      "celldata      : \"GroupIds\" (float32), dim=1, range=(0, 0)\u001b[0m\n",
      "\u001b[7m\u001b[1m\u001b[32mvedo.mesh.Mesh at (0x21ef8f40ad0)                                          \u001b[0m\n",
      "\u001b[0m\u001b[32;1mname          : Mesh\n",
      "file name     : ../shapes\\Door\\D01104.obj\n",
      "color         : black, rgb=(0, 0, 0), alpha=1.0\n",
      "elements      : vertices=871 polygons=1,772 lines=0\n",
      "position      : (-0.331757, -0.647215, -0.0456782)\n",
      "scaling       : (1.00000, 1.00000, 1.00000)\n",
      "size          : average=0.276694, diagonal=1.05662\n",
      "center of mass: (-2.14921e-9, 1.19757e-9, 8.75162e-11)\n",
      "bounds        : x=(-0.307, 0.154), y=(-0.622, 0.328), z=(-0.0207, 0.0213)\n",
      "celldata      : \"GroupIds\" (float32), dim=1, range=(0, 0)\u001b[0m\n",
      "\u001b[7m\u001b[1m\u001b[32mvedo.mesh.Mesh at (0x21ef8f408d0)                                          \u001b[0m\n",
      "\u001b[0m\u001b[32;1mname          : Mesh\n",
      "file name     : ../shapes\\Door\\D01104.obj\n",
      "color         : green, rgb=(0.0157, 0.498, 0.0627), alpha=1.0\n",
      "elements      : vertices=871 polygons=1,772 lines=0\n",
      "position      : (0, 0, 0)\n",
      "scaling       : (1.00000, 1.00000, 1.00000)\n",
      "size          : average=0.276694, diagonal=1.13479\n",
      "center of mass: (5.34628e-11, 5.20678e-11, -1.22254e-11)\n",
      "bounds        : x=(-0.356, 0.634), y=(-0.185, 0.366), z=(-0.0307, 0.0247)\n",
      "celldata      : \"GroupIds\" (float32), dim=1, range=(0, 0)\u001b[0m\n",
      "EIGENVECTORS: [[ 0.99946121  0.03281677 -0.00058289]\n",
      " [ 0.00039393 -0.02975144 -0.99955725]\n",
      " [ 0.03281958 -0.99901847  0.02974834]]\n"
     ]
    },
    {
     "data": {
      "application/vnd.jupyter.widget-view+json": {
       "model_id": "4f75687a49604c1fa76630cea54cc40e",
       "version_major": 2,
       "version_minor": 0
      },
      "text/plain": [
       "Plot(antialias=True, axes=['x', 'y', 'z'], axes_helper=1.0, axes_helper_colors=[16711680, 65280, 255], backgro…"
      ]
     },
     "execution_count": 19,
     "metadata": {},
     "output_type": "execute_result"
    }
   ],
   "source": [
    "#Rich Display\n",
    "\n",
    "z_axis = Line([0,0,0], [0,0,2], lw=3).c(\"Blue\")\n",
    "y_axis = Line([0,0,0], [0,2,0], lw=3).c(\"Green\")\n",
    "x_axis = Line([0,0,0], [2,0,0], lw=3).c(\"Red\")\n",
    "unit_box = Box(width=1,height=1,length=1).c(\"Black\").wireframe(True)\n",
    "\n",
    "filepath = \"../shapes\\Door\\D01104.obj\"\n",
    "mesh = Mesh(filepath).c(\"violet\").flat()\n",
    "\n",
    "print(mesh)\n",
    "# Set the backcolor of the mesh to violet\n",
    "# and show edges with a linewidth of 2\n",
    "\n",
    "mesh2 = normalize_position(mesh,inplace=False).c(\"black\")\n",
    "\n",
    "print(mesh2)\n",
    "mesh3 = normalize_pose(mesh2,inplace=False).c(\"Green\")\n",
    "\n",
    "eigenvectors, eigenvals = get_eigenvectors(mesh3)\n",
    "\n",
    "print(mesh3)\n",
    "print(\"EIGENVECTORS:\",eigenvectors)\n",
    "\n",
    "plot = Plotter(bg='white')\n",
    "plot.show(mesh,mesh2,mesh3,x_axis,y_axis,z_axis,unit_box)"
   ]
  }
 ],
 "metadata": {
  "kernelspec": {
   "display_name": "infomr",
   "language": "python",
   "name": "python3"
  },
  "language_info": {
   "codemirror_mode": {
    "name": "ipython",
    "version": 3
   },
   "file_extension": ".py",
   "mimetype": "text/x-python",
   "name": "python",
   "nbconvert_exporter": "python",
   "pygments_lexer": "ipython3",
   "version": "3.8.19"
  }
 },
 "nbformat": 4,
 "nbformat_minor": 2
}
