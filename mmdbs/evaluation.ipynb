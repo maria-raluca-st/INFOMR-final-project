{
 "cells": [
  {
   "cell_type": "markdown",
   "metadata": {},
   "source": [
    "<h1>Evaluation</h1>\n",
    "<h2>Notes</h2>\n",
    "\n",
    "Evaluate Queries based on Class/Distances\n",
    "\n",
    "Different metrics\n",
    "1) Truth Table -> How many of class c are returned given query size s. Incooperate distance measure as confidence metric. \n",
    "2) Mean Average Precision\n",
    "3) Last Rank -> Last True Positive\n",
    "4) ROC-Curve ANN system vs custom system (compare different distance metrics) - AUROC - invariant to query size\n",
    "5) Confusion Matrix of Class Search -> weighed by inverse distance\n",
    "\n",
    "Ideas: Measure inter-class distance according to our metric\n",
    "\n"
   ]
  },
  {
   "cell_type": "code",
   "execution_count": null,
   "metadata": {
    "vscode": {
     "languageId": "plaintext"
    }
   },
   "outputs": [],
   "source": []
  }
 ],
 "metadata": {
  "language_info": {
   "name": "python"
  }
 },
 "nbformat": 4,
 "nbformat_minor": 2
}
