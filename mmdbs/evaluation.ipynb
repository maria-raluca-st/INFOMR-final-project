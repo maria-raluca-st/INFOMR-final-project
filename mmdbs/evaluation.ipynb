{
 "cells": [
  {
   "cell_type": "markdown",
   "metadata": {},
   "source": [
    "<h1>Evaluation</h1>\n",
    "<h2>Notes</h2>\n",
    "\n",
    "Evaluate Queries based on Class/Distances\n",
    "\n",
    "Different metrics\n",
    "1) Truth Table -> How many of class c are returned given query size s. Incooperate distance measure as confidence metric. \n",
    "2) Mean Average Precision\n",
    "3) Last Rank -> Last True Positive\n",
    "4) ROC-Curve ANN system vs custom system (compare different distance metrics) - AUROC - invariant to query size\n",
    "5) Confusion Matrix of Class Search -> weighed by inverse distance\n",
    "\n",
    "Ideas: Measure inter-class distance according to our metric\n",
    "\n"
   ]
  },
  {
   "cell_type": "code",
   "execution_count": 48,
   "metadata": {},
   "outputs": [],
   "source": [
    "import pandas as pd\n",
    "from matplotlib import figure\n",
    "import matplotlib.pyplot as plt\n",
    "import numpy as np\n",
    "import seaborn as sns\n",
    "import sklearn\n",
    "from tqdm import tqdm"
   ]
  },
  {
   "cell_type": "code",
   "execution_count": 45,
   "metadata": {},
   "outputs": [
    {
     "name": "stdout",
     "output_type": "stream",
     "text": [
      "dist\n",
      "(2419, 2419)\n",
      "idx\n",
      "dist\n",
      "(2419, 2419)\n"
     ]
    }
   ],
   "source": [
    "distances = np.load(\"custom_distances.npz\")\n",
    "for key in distances.keys():\n",
    "    print(key)\n",
    "\n",
    "print(distances[\"dist\"].shape)\n",
    "\n",
    "distances_ann = np.load(\"ann_distances.npz\")\n",
    "for key in distances_ann.keys():\n",
    "    print(key)\n",
    "\n",
    "print(distances_ann[\"dist\"].shape)\n"
   ]
  },
  {
   "cell_type": "code",
   "execution_count": 19,
   "metadata": {},
   "outputs": [
    {
     "name": "stdout",
     "output_type": "stream",
     "text": [
      "(2419, 20)\n"
     ]
    }
   ],
   "source": [
    "df = pd.read_csv(\"normCorrMetadata.csv\")\n",
    "print(df.shape)"
   ]
  },
  {
   "cell_type": "code",
   "execution_count": 52,
   "metadata": {},
   "outputs": [
    {
     "name": "stderr",
     "output_type": "stream",
     "text": [
      "Processing Class Pairs:   0%|          | 0/69 [00:00<?, ?it/s]"
     ]
    },
    {
     "name": "stdout",
     "output_type": "stream",
     "text": [
      "AircraftBuoyant\n"
     ]
    },
    {
     "name": "stderr",
     "output_type": "stream",
     "text": [
      "Processing Class Pairs:   1%|▏         | 1/69 [00:22<25:20, 22.36s/it]"
     ]
    },
    {
     "name": "stdout",
     "output_type": "stream",
     "text": [
      "Apartment\n"
     ]
    },
    {
     "name": "stderr",
     "output_type": "stream",
     "text": [
      "Processing Class Pairs:   3%|▎         | 2/69 [00:44<25:07, 22.50s/it]"
     ]
    },
    {
     "name": "stdout",
     "output_type": "stream",
     "text": [
      "AquaticAnimal\n"
     ]
    },
    {
     "name": "stderr",
     "output_type": "stream",
     "text": [
      "Processing Class Pairs:   4%|▍         | 3/69 [01:08<25:19, 23.03s/it]"
     ]
    },
    {
     "name": "stdout",
     "output_type": "stream",
     "text": [
      "Bed\n"
     ]
    },
    {
     "name": "stderr",
     "output_type": "stream",
     "text": [
      "Processing Class Pairs:   6%|▌         | 4/69 [01:29<24:12, 22.35s/it]"
     ]
    },
    {
     "name": "stdout",
     "output_type": "stream",
     "text": [
      "Bicycle\n"
     ]
    },
    {
     "name": "stderr",
     "output_type": "stream",
     "text": [
      "Processing Class Pairs:   7%|▋         | 5/69 [01:51<23:22, 21.91s/it]"
     ]
    },
    {
     "name": "stdout",
     "output_type": "stream",
     "text": [
      "Biplane\n"
     ]
    },
    {
     "name": "stderr",
     "output_type": "stream",
     "text": [
      "Processing Class Pairs:   9%|▊         | 6/69 [02:12<22:46, 21.69s/it]"
     ]
    },
    {
     "name": "stdout",
     "output_type": "stream",
     "text": [
      "Bird\n"
     ]
    },
    {
     "name": "stderr",
     "output_type": "stream",
     "text": [
      "Processing Class Pairs:  10%|█         | 7/69 [02:33<22:22, 21.66s/it]"
     ]
    },
    {
     "name": "stdout",
     "output_type": "stream",
     "text": [
      "Bookset\n"
     ]
    },
    {
     "name": "stderr",
     "output_type": "stream",
     "text": [
      "Processing Class Pairs:  12%|█▏        | 8/69 [02:55<22:04, 21.72s/it]"
     ]
    },
    {
     "name": "stdout",
     "output_type": "stream",
     "text": [
      "Bottle\n"
     ]
    },
    {
     "name": "stderr",
     "output_type": "stream",
     "text": [
      "Processing Class Pairs:  13%|█▎        | 9/69 [03:17<21:47, 21.80s/it]"
     ]
    },
    {
     "name": "stdout",
     "output_type": "stream",
     "text": [
      "BuildingNonResidential\n"
     ]
    },
    {
     "name": "stderr",
     "output_type": "stream",
     "text": [
      "Processing Class Pairs:  14%|█▍        | 10/69 [03:39<21:26, 21.80s/it]"
     ]
    },
    {
     "name": "stdout",
     "output_type": "stream",
     "text": [
      "Bus\n"
     ]
    },
    {
     "name": "stderr",
     "output_type": "stream",
     "text": [
      "Processing Class Pairs:  16%|█▌        | 11/69 [04:01<21:04, 21.81s/it]"
     ]
    },
    {
     "name": "stdout",
     "output_type": "stream",
     "text": [
      "Car\n"
     ]
    },
    {
     "name": "stderr",
     "output_type": "stream",
     "text": [
      "Processing Class Pairs:  17%|█▋        | 12/69 [04:24<21:02, 22.16s/it]"
     ]
    },
    {
     "name": "stdout",
     "output_type": "stream",
     "text": [
      "Cellphone\n"
     ]
    },
    {
     "name": "stderr",
     "output_type": "stream",
     "text": [
      "Processing Class Pairs:  19%|█▉        | 13/69 [04:47<21:04, 22.58s/it]"
     ]
    },
    {
     "name": "stdout",
     "output_type": "stream",
     "text": [
      "Chess\n"
     ]
    },
    {
     "name": "stderr",
     "output_type": "stream",
     "text": [
      "Processing Class Pairs:  20%|██        | 14/69 [05:10<20:42, 22.59s/it]"
     ]
    },
    {
     "name": "stdout",
     "output_type": "stream",
     "text": [
      "City\n"
     ]
    },
    {
     "name": "stderr",
     "output_type": "stream",
     "text": [
      "Processing Class Pairs:  22%|██▏       | 15/69 [05:33<20:22, 22.64s/it]"
     ]
    },
    {
     "name": "stdout",
     "output_type": "stream",
     "text": [
      "ClassicPiano\n"
     ]
    },
    {
     "name": "stderr",
     "output_type": "stream",
     "text": [
      "Processing Class Pairs:  23%|██▎       | 16/69 [05:55<19:51, 22.49s/it]"
     ]
    },
    {
     "name": "stdout",
     "output_type": "stream",
     "text": [
      "Computer\n"
     ]
    },
    {
     "name": "stderr",
     "output_type": "stream",
     "text": [
      "Processing Class Pairs:  25%|██▍       | 17/69 [06:17<19:29, 22.48s/it]"
     ]
    },
    {
     "name": "stdout",
     "output_type": "stream",
     "text": [
      "ComputerKeyboard\n"
     ]
    },
    {
     "name": "stderr",
     "output_type": "stream",
     "text": [
      "Processing Class Pairs:  26%|██▌       | 18/69 [06:39<19:01, 22.38s/it]"
     ]
    },
    {
     "name": "stdout",
     "output_type": "stream",
     "text": [
      "Cup\n"
     ]
    },
    {
     "name": "stderr",
     "output_type": "stream",
     "text": [
      "Processing Class Pairs:  28%|██▊       | 19/69 [07:03<18:49, 22.59s/it]"
     ]
    },
    {
     "name": "stdout",
     "output_type": "stream",
     "text": [
      "DeskLamp\n"
     ]
    },
    {
     "name": "stderr",
     "output_type": "stream",
     "text": [
      "Processing Class Pairs:  29%|██▉       | 20/69 [07:25<18:31, 22.68s/it]"
     ]
    },
    {
     "name": "stdout",
     "output_type": "stream",
     "text": [
      "DeskPhone\n"
     ]
    },
    {
     "name": "stderr",
     "output_type": "stream",
     "text": [
      "Processing Class Pairs:  30%|███       | 21/69 [07:48<18:11, 22.74s/it]"
     ]
    },
    {
     "name": "stdout",
     "output_type": "stream",
     "text": [
      "Door\n"
     ]
    },
    {
     "name": "stderr",
     "output_type": "stream",
     "text": [
      "Processing Class Pairs:  32%|███▏      | 22/69 [08:12<17:56, 22.91s/it]"
     ]
    },
    {
     "name": "stdout",
     "output_type": "stream",
     "text": [
      "Drum\n"
     ]
    },
    {
     "name": "stderr",
     "output_type": "stream",
     "text": [
      "Processing Class Pairs:  33%|███▎      | 23/69 [08:35<17:45, 23.17s/it]"
     ]
    },
    {
     "name": "stdout",
     "output_type": "stream",
     "text": [
      "Fish\n"
     ]
    },
    {
     "name": "stderr",
     "output_type": "stream",
     "text": [
      "Processing Class Pairs:  35%|███▍      | 24/69 [08:59<17:28, 23.30s/it]"
     ]
    },
    {
     "name": "stdout",
     "output_type": "stream",
     "text": [
      "FloorLamp\n"
     ]
    },
    {
     "name": "stderr",
     "output_type": "stream",
     "text": [
      "Processing Class Pairs:  36%|███▌      | 25/69 [09:23<17:13, 23.48s/it]"
     ]
    },
    {
     "name": "stdout",
     "output_type": "stream",
     "text": [
      "Glasses\n"
     ]
    },
    {
     "name": "stderr",
     "output_type": "stream",
     "text": [
      "Processing Class Pairs:  38%|███▊      | 26/69 [09:47<16:56, 23.64s/it]"
     ]
    },
    {
     "name": "stdout",
     "output_type": "stream",
     "text": [
      "Guitar\n"
     ]
    },
    {
     "name": "stderr",
     "output_type": "stream",
     "text": [
      "Processing Class Pairs:  39%|███▉      | 27/69 [10:10<16:30, 23.59s/it]"
     ]
    },
    {
     "name": "stdout",
     "output_type": "stream",
     "text": [
      "Gun\n"
     ]
    },
    {
     "name": "stderr",
     "output_type": "stream",
     "text": [
      "Processing Class Pairs:  41%|████      | 28/69 [10:56<20:43, 30.32s/it]"
     ]
    },
    {
     "name": "stdout",
     "output_type": "stream",
     "text": [
      "Hand\n"
     ]
    },
    {
     "name": "stderr",
     "output_type": "stream",
     "text": [
      "Processing Class Pairs:  42%|████▏     | 29/69 [11:29<20:35, 30.88s/it]"
     ]
    },
    {
     "name": "stdout",
     "output_type": "stream",
     "text": [
      "Hat\n"
     ]
    },
    {
     "name": "stderr",
     "output_type": "stream",
     "text": [
      "Processing Class Pairs:  43%|████▎     | 30/69 [11:55<19:06, 29.39s/it]"
     ]
    },
    {
     "name": "stdout",
     "output_type": "stream",
     "text": [
      "Helicopter\n"
     ]
    },
    {
     "name": "stderr",
     "output_type": "stream",
     "text": [
      "Processing Class Pairs:  45%|████▍     | 31/69 [12:20<17:54, 28.27s/it]"
     ]
    },
    {
     "name": "stdout",
     "output_type": "stream",
     "text": [
      "House\n"
     ]
    },
    {
     "name": "stderr",
     "output_type": "stream",
     "text": [
      "Processing Class Pairs:  46%|████▋     | 32/69 [12:46<16:59, 27.55s/it]"
     ]
    },
    {
     "name": "stdout",
     "output_type": "stream",
     "text": [
      "HumanHead\n"
     ]
    },
    {
     "name": "stderr",
     "output_type": "stream",
     "text": [
      "Processing Class Pairs:  48%|████▊     | 33/69 [13:12<16:11, 26.97s/it]"
     ]
    },
    {
     "name": "stdout",
     "output_type": "stream",
     "text": [
      "Humanoid\n"
     ]
    },
    {
     "name": "stderr",
     "output_type": "stream",
     "text": [
      "Processing Class Pairs:  49%|████▉     | 34/69 [13:37<15:28, 26.53s/it]"
     ]
    },
    {
     "name": "stdout",
     "output_type": "stream",
     "text": [
      "Insect\n"
     ]
    },
    {
     "name": "stderr",
     "output_type": "stream",
     "text": [
      "Processing Class Pairs:  51%|█████     | 35/69 [14:03<14:54, 26.30s/it]"
     ]
    },
    {
     "name": "stdout",
     "output_type": "stream",
     "text": [
      "Jet\n"
     ]
    },
    {
     "name": "stderr",
     "output_type": "stream",
     "text": [
      "Processing Class Pairs:  52%|█████▏    | 36/69 [14:28<14:20, 26.07s/it]"
     ]
    },
    {
     "name": "stdout",
     "output_type": "stream",
     "text": [
      "Knife\n"
     ]
    },
    {
     "name": "stderr",
     "output_type": "stream",
     "text": [
      "Processing Class Pairs:  54%|█████▎    | 37/69 [14:55<13:58, 26.21s/it]"
     ]
    },
    {
     "name": "stdout",
     "output_type": "stream",
     "text": [
      "MilitaryVehicle\n"
     ]
    },
    {
     "name": "stderr",
     "output_type": "stream",
     "text": [
      "Processing Class Pairs:  55%|█████▌    | 38/69 [15:22<13:37, 26.38s/it]"
     ]
    },
    {
     "name": "stdout",
     "output_type": "stream",
     "text": [
      "Monitor\n"
     ]
    },
    {
     "name": "stderr",
     "output_type": "stream",
     "text": [
      "Processing Class Pairs:  57%|█████▋    | 39/69 [15:47<13:01, 26.06s/it]"
     ]
    },
    {
     "name": "stdout",
     "output_type": "stream",
     "text": [
      "Monoplane\n"
     ]
    },
    {
     "name": "stderr",
     "output_type": "stream",
     "text": [
      "Processing Class Pairs:  58%|█████▊    | 40/69 [16:12<12:29, 25.84s/it]"
     ]
    },
    {
     "name": "stdout",
     "output_type": "stream",
     "text": [
      "Motorcycle\n"
     ]
    },
    {
     "name": "stderr",
     "output_type": "stream",
     "text": [
      "Processing Class Pairs:  59%|█████▉    | 41/69 [16:50<13:41, 29.36s/it]"
     ]
    },
    {
     "name": "stdout",
     "output_type": "stream",
     "text": [
      "Mug\n"
     ]
    },
    {
     "name": "stderr",
     "output_type": "stream",
     "text": [
      "Processing Class Pairs:  61%|██████    | 42/69 [17:17<12:55, 28.73s/it]"
     ]
    },
    {
     "name": "stdout",
     "output_type": "stream",
     "text": [
      "MultiSeat\n"
     ]
    },
    {
     "name": "stderr",
     "output_type": "stream",
     "text": [
      "Processing Class Pairs:  62%|██████▏   | 43/69 [17:42<11:58, 27.65s/it]"
     ]
    },
    {
     "name": "stdout",
     "output_type": "stream",
     "text": [
      "Musical_Instrument\n"
     ]
    },
    {
     "name": "stderr",
     "output_type": "stream",
     "text": [
      "Processing Class Pairs:  64%|██████▍   | 44/69 [18:07<11:07, 26.72s/it]"
     ]
    },
    {
     "name": "stdout",
     "output_type": "stream",
     "text": [
      "NonWheelChair\n"
     ]
    },
    {
     "name": "stderr",
     "output_type": "stream",
     "text": [
      "Processing Class Pairs:  65%|██████▌   | 45/69 [18:32<10:29, 26.25s/it]"
     ]
    },
    {
     "name": "stdout",
     "output_type": "stream",
     "text": [
      "PianoBoard\n"
     ]
    },
    {
     "name": "stderr",
     "output_type": "stream",
     "text": [
      "Processing Class Pairs:  67%|██████▋   | 46/69 [18:59<10:10, 26.53s/it]"
     ]
    },
    {
     "name": "stdout",
     "output_type": "stream",
     "text": [
      "PlantIndoors\n"
     ]
    },
    {
     "name": "stderr",
     "output_type": "stream",
     "text": [
      "Processing Class Pairs:  68%|██████▊   | 47/69 [19:25<09:38, 26.31s/it]"
     ]
    },
    {
     "name": "stdout",
     "output_type": "stream",
     "text": [
      "PlantWildNonTree\n"
     ]
    },
    {
     "name": "stderr",
     "output_type": "stream",
     "text": [
      "Processing Class Pairs:  70%|██████▉   | 48/69 [19:51<09:08, 26.10s/it]"
     ]
    },
    {
     "name": "stdout",
     "output_type": "stream",
     "text": [
      "Quadruped\n"
     ]
    },
    {
     "name": "stderr",
     "output_type": "stream",
     "text": [
      "Processing Class Pairs:  71%|███████   | 49/69 [20:19<08:55, 26.78s/it]"
     ]
    },
    {
     "name": "stdout",
     "output_type": "stream",
     "text": [
      "RectangleTable\n"
     ]
    },
    {
     "name": "stderr",
     "output_type": "stream",
     "text": [
      "Processing Class Pairs:  72%|███████▏  | 50/69 [20:43<08:10, 25.81s/it]"
     ]
    },
    {
     "name": "stdout",
     "output_type": "stream",
     "text": [
      "Rocket\n"
     ]
    },
    {
     "name": "stderr",
     "output_type": "stream",
     "text": [
      "Processing Class Pairs:  74%|███████▍  | 51/69 [21:06<07:33, 25.18s/it]"
     ]
    },
    {
     "name": "stdout",
     "output_type": "stream",
     "text": [
      "RoundTable\n"
     ]
    },
    {
     "name": "stderr",
     "output_type": "stream",
     "text": [
      "Processing Class Pairs:  75%|███████▌  | 52/69 [21:31<07:07, 25.14s/it]"
     ]
    },
    {
     "name": "stdout",
     "output_type": "stream",
     "text": [
      "Shelf\n"
     ]
    },
    {
     "name": "stderr",
     "output_type": "stream",
     "text": [
      "Processing Class Pairs:  77%|███████▋  | 53/69 [21:54<06:30, 24.40s/it]"
     ]
    },
    {
     "name": "stdout",
     "output_type": "stream",
     "text": [
      "Ship\n"
     ]
    },
    {
     "name": "stderr",
     "output_type": "stream",
     "text": [
      "Processing Class Pairs:  78%|███████▊  | 54/69 [22:18<06:03, 24.22s/it]"
     ]
    },
    {
     "name": "stdout",
     "output_type": "stream",
     "text": [
      "Sign\n"
     ]
    },
    {
     "name": "stderr",
     "output_type": "stream",
     "text": [
      "Processing Class Pairs:  80%|███████▉  | 55/69 [22:42<05:39, 24.22s/it]"
     ]
    },
    {
     "name": "stdout",
     "output_type": "stream",
     "text": [
      "Skyscraper\n"
     ]
    },
    {
     "name": "stderr",
     "output_type": "stream",
     "text": [
      "Processing Class Pairs:  81%|████████  | 56/69 [23:04<05:07, 23.68s/it]"
     ]
    },
    {
     "name": "stdout",
     "output_type": "stream",
     "text": [
      "Spoon\n"
     ]
    },
    {
     "name": "stderr",
     "output_type": "stream",
     "text": [
      "Processing Class Pairs:  83%|████████▎ | 57/69 [23:28<04:43, 23.65s/it]"
     ]
    },
    {
     "name": "stdout",
     "output_type": "stream",
     "text": [
      "Starship\n"
     ]
    },
    {
     "name": "stderr",
     "output_type": "stream",
     "text": [
      "Processing Class Pairs:  84%|████████▍ | 58/69 [23:52<04:22, 23.83s/it]"
     ]
    },
    {
     "name": "stdout",
     "output_type": "stream",
     "text": [
      "SubmachineGun\n"
     ]
    },
    {
     "name": "stderr",
     "output_type": "stream",
     "text": [
      "Processing Class Pairs:  86%|████████▌ | 59/69 [24:16<03:57, 23.71s/it]"
     ]
    },
    {
     "name": "stdout",
     "output_type": "stream",
     "text": [
      "Sword\n"
     ]
    },
    {
     "name": "stderr",
     "output_type": "stream",
     "text": [
      "Processing Class Pairs:  87%|████████▋ | 60/69 [24:38<03:30, 23.38s/it]"
     ]
    },
    {
     "name": "stdout",
     "output_type": "stream",
     "text": [
      "Tool\n"
     ]
    },
    {
     "name": "stderr",
     "output_type": "stream",
     "text": [
      "Processing Class Pairs:  88%|████████▊ | 61/69 [25:03<03:09, 23.70s/it]"
     ]
    },
    {
     "name": "stdout",
     "output_type": "stream",
     "text": [
      "Train\n"
     ]
    },
    {
     "name": "stderr",
     "output_type": "stream",
     "text": [
      "Processing Class Pairs:  90%|████████▉ | 62/69 [25:30<02:52, 24.63s/it]"
     ]
    },
    {
     "name": "stdout",
     "output_type": "stream",
     "text": [
      "Tree\n"
     ]
    },
    {
     "name": "stderr",
     "output_type": "stream",
     "text": [
      "Processing Class Pairs:  91%|█████████▏| 63/69 [25:52<02:23, 23.92s/it]"
     ]
    },
    {
     "name": "stdout",
     "output_type": "stream",
     "text": [
      "Truck\n"
     ]
    },
    {
     "name": "stderr",
     "output_type": "stream",
     "text": [
      "Processing Class Pairs:  93%|█████████▎| 64/69 [26:20<02:06, 25.29s/it]"
     ]
    },
    {
     "name": "stdout",
     "output_type": "stream",
     "text": [
      "TruckNonContainer\n"
     ]
    },
    {
     "name": "stderr",
     "output_type": "stream",
     "text": [
      "Processing Class Pairs:  94%|█████████▍| 65/69 [26:48<01:43, 25.86s/it]"
     ]
    },
    {
     "name": "stdout",
     "output_type": "stream",
     "text": [
      "Vase\n"
     ]
    },
    {
     "name": "stderr",
     "output_type": "stream",
     "text": [
      "Processing Class Pairs:  96%|█████████▌| 66/69 [27:16<01:19, 26.61s/it]"
     ]
    },
    {
     "name": "stdout",
     "output_type": "stream",
     "text": [
      "Violin\n"
     ]
    },
    {
     "name": "stderr",
     "output_type": "stream",
     "text": [
      "Processing Class Pairs:  97%|█████████▋| 67/69 [27:43<00:53, 26.90s/it]"
     ]
    },
    {
     "name": "stdout",
     "output_type": "stream",
     "text": [
      "Wheel\n"
     ]
    },
    {
     "name": "stderr",
     "output_type": "stream",
     "text": [
      "Processing Class Pairs:  99%|█████████▊| 68/69 [28:09<00:26, 26.37s/it]"
     ]
    },
    {
     "name": "stdout",
     "output_type": "stream",
     "text": [
      "WheelChair\n"
     ]
    },
    {
     "name": "stderr",
     "output_type": "stream",
     "text": [
      "Processing Class Pairs: 100%|██████████| 69/69 [28:34<00:00, 24.85s/it]\n",
      "Processing Class Pairs:   0%|          | 0/69 [00:00<?, ?it/s]"
     ]
    },
    {
     "name": "stdout",
     "output_type": "stream",
     "text": [
      "AircraftBuoyant\n"
     ]
    },
    {
     "name": "stderr",
     "output_type": "stream",
     "text": [
      "Processing Class Pairs:   1%|▏         | 1/69 [00:14<16:28, 14.53s/it]"
     ]
    },
    {
     "name": "stdout",
     "output_type": "stream",
     "text": [
      "Apartment\n"
     ]
    },
    {
     "name": "stderr",
     "output_type": "stream",
     "text": [
      "Processing Class Pairs:   3%|▎         | 2/69 [00:28<15:33, 13.93s/it]"
     ]
    },
    {
     "name": "stdout",
     "output_type": "stream",
     "text": [
      "AquaticAnimal\n"
     ]
    },
    {
     "name": "stderr",
     "output_type": "stream",
     "text": [
      "Processing Class Pairs:   4%|▍         | 3/69 [00:40<14:41, 13.36s/it]"
     ]
    },
    {
     "name": "stdout",
     "output_type": "stream",
     "text": [
      "Bed\n"
     ]
    },
    {
     "name": "stderr",
     "output_type": "stream",
     "text": [
      "Processing Class Pairs:   6%|▌         | 4/69 [00:54<14:44, 13.61s/it]"
     ]
    },
    {
     "name": "stdout",
     "output_type": "stream",
     "text": [
      "Bicycle\n"
     ]
    },
    {
     "name": "stderr",
     "output_type": "stream",
     "text": [
      "Processing Class Pairs:   7%|▋         | 5/69 [01:07<14:12, 13.33s/it]"
     ]
    },
    {
     "name": "stdout",
     "output_type": "stream",
     "text": [
      "Biplane\n"
     ]
    },
    {
     "name": "stderr",
     "output_type": "stream",
     "text": [
      "Processing Class Pairs:   9%|▊         | 6/69 [01:20<13:44, 13.09s/it]"
     ]
    },
    {
     "name": "stdout",
     "output_type": "stream",
     "text": [
      "Bird\n"
     ]
    },
    {
     "name": "stderr",
     "output_type": "stream",
     "text": [
      "Processing Class Pairs:  10%|█         | 7/69 [01:34<14:01, 13.58s/it]"
     ]
    },
    {
     "name": "stdout",
     "output_type": "stream",
     "text": [
      "Bookset\n"
     ]
    },
    {
     "name": "stderr",
     "output_type": "stream",
     "text": [
      "Processing Class Pairs:  12%|█▏        | 8/69 [01:47<13:29, 13.26s/it]"
     ]
    },
    {
     "name": "stdout",
     "output_type": "stream",
     "text": [
      "Bottle\n"
     ]
    },
    {
     "name": "stderr",
     "output_type": "stream",
     "text": [
      "Processing Class Pairs:  13%|█▎        | 9/69 [02:01<13:29, 13.49s/it]"
     ]
    },
    {
     "name": "stdout",
     "output_type": "stream",
     "text": [
      "BuildingNonResidential\n"
     ]
    },
    {
     "name": "stderr",
     "output_type": "stream",
     "text": [
      "Processing Class Pairs:  14%|█▍        | 10/69 [02:14<13:12, 13.42s/it]"
     ]
    },
    {
     "name": "stdout",
     "output_type": "stream",
     "text": [
      "Bus\n"
     ]
    },
    {
     "name": "stderr",
     "output_type": "stream",
     "text": [
      "Processing Class Pairs:  16%|█▌        | 11/69 [02:27<12:52, 13.32s/it]"
     ]
    },
    {
     "name": "stdout",
     "output_type": "stream",
     "text": [
      "Car\n"
     ]
    },
    {
     "name": "stderr",
     "output_type": "stream",
     "text": [
      "Processing Class Pairs:  17%|█▋        | 12/69 [44:08<12:11:25, 769.91s/it]"
     ]
    },
    {
     "name": "stdout",
     "output_type": "stream",
     "text": [
      "Cellphone\n"
     ]
    },
    {
     "name": "stderr",
     "output_type": "stream",
     "text": [
      "Processing Class Pairs:  19%|█▉        | 13/69 [44:23<8:25:07, 541.20s/it] "
     ]
    },
    {
     "name": "stdout",
     "output_type": "stream",
     "text": [
      "Chess\n"
     ]
    },
    {
     "name": "stderr",
     "output_type": "stream",
     "text": [
      "Processing Class Pairs:  20%|██        | 14/69 [44:34<5:49:24, 381.16s/it]"
     ]
    },
    {
     "name": "stdout",
     "output_type": "stream",
     "text": [
      "City\n"
     ]
    },
    {
     "name": "stderr",
     "output_type": "stream",
     "text": [
      "Processing Class Pairs:  22%|██▏       | 15/69 [44:45<4:02:43, 269.69s/it]"
     ]
    },
    {
     "name": "stdout",
     "output_type": "stream",
     "text": [
      "ClassicPiano\n"
     ]
    },
    {
     "name": "stderr",
     "output_type": "stream",
     "text": [
      "Processing Class Pairs:  23%|██▎       | 16/69 [44:56<2:49:30, 191.90s/it]"
     ]
    },
    {
     "name": "stdout",
     "output_type": "stream",
     "text": [
      "Computer\n"
     ]
    },
    {
     "name": "stderr",
     "output_type": "stream",
     "text": [
      "Processing Class Pairs:  25%|██▍       | 17/69 [45:08<1:59:18, 137.66s/it]"
     ]
    },
    {
     "name": "stdout",
     "output_type": "stream",
     "text": [
      "ComputerKeyboard\n"
     ]
    },
    {
     "name": "stderr",
     "output_type": "stream",
     "text": [
      "Processing Class Pairs:  26%|██▌       | 18/69 [45:19<1:24:43, 99.68s/it] "
     ]
    },
    {
     "name": "stdout",
     "output_type": "stream",
     "text": [
      "Cup\n"
     ]
    },
    {
     "name": "stderr",
     "output_type": "stream",
     "text": [
      "Processing Class Pairs:  28%|██▊       | 19/69 [45:30<1:00:49, 72.98s/it]"
     ]
    },
    {
     "name": "stdout",
     "output_type": "stream",
     "text": [
      "DeskLamp\n"
     ]
    },
    {
     "name": "stderr",
     "output_type": "stream",
     "text": [
      "Processing Class Pairs:  29%|██▉       | 20/69 [45:41<44:16, 54.22s/it]  "
     ]
    },
    {
     "name": "stdout",
     "output_type": "stream",
     "text": [
      "DeskPhone\n"
     ]
    },
    {
     "name": "stderr",
     "output_type": "stream",
     "text": [
      "Processing Class Pairs:  30%|███       | 21/69 [45:51<32:57, 41.20s/it]"
     ]
    },
    {
     "name": "stdout",
     "output_type": "stream",
     "text": [
      "Door\n"
     ]
    },
    {
     "name": "stderr",
     "output_type": "stream",
     "text": [
      "Processing Class Pairs:  32%|███▏      | 22/69 [46:02<25:02, 31.96s/it]"
     ]
    },
    {
     "name": "stdout",
     "output_type": "stream",
     "text": [
      "Drum\n"
     ]
    },
    {
     "name": "stderr",
     "output_type": "stream",
     "text": [
      "Processing Class Pairs:  33%|███▎      | 23/69 [46:12<19:34, 25.52s/it]"
     ]
    },
    {
     "name": "stdout",
     "output_type": "stream",
     "text": [
      "Fish\n"
     ]
    },
    {
     "name": "stderr",
     "output_type": "stream",
     "text": [
      "Processing Class Pairs:  35%|███▍      | 24/69 [46:24<15:59, 21.32s/it]"
     ]
    },
    {
     "name": "stdout",
     "output_type": "stream",
     "text": [
      "FloorLamp\n"
     ]
    },
    {
     "name": "stderr",
     "output_type": "stream",
     "text": [
      "Processing Class Pairs:  36%|███▌      | 25/69 [46:35<13:23, 18.25s/it]"
     ]
    },
    {
     "name": "stdout",
     "output_type": "stream",
     "text": [
      "Glasses\n"
     ]
    },
    {
     "name": "stderr",
     "output_type": "stream",
     "text": [
      "Processing Class Pairs:  38%|███▊      | 26/69 [46:46<11:27, 15.98s/it]"
     ]
    },
    {
     "name": "stdout",
     "output_type": "stream",
     "text": [
      "Guitar\n"
     ]
    },
    {
     "name": "stderr",
     "output_type": "stream",
     "text": [
      "Processing Class Pairs:  39%|███▉      | 27/69 [46:56<10:04, 14.39s/it]"
     ]
    },
    {
     "name": "stdout",
     "output_type": "stream",
     "text": [
      "Gun\n"
     ]
    },
    {
     "name": "stderr",
     "output_type": "stream",
     "text": [
      "Processing Class Pairs:  41%|████      | 28/69 [47:08<09:12, 13.47s/it]"
     ]
    },
    {
     "name": "stdout",
     "output_type": "stream",
     "text": [
      "Hand\n"
     ]
    },
    {
     "name": "stderr",
     "output_type": "stream",
     "text": [
      "Processing Class Pairs:  42%|████▏     | 29/69 [47:19<08:27, 12.70s/it]"
     ]
    },
    {
     "name": "stdout",
     "output_type": "stream",
     "text": [
      "Hat\n"
     ]
    },
    {
     "name": "stderr",
     "output_type": "stream",
     "text": [
      "Processing Class Pairs:  43%|████▎     | 30/69 [47:30<07:56, 12.21s/it]"
     ]
    },
    {
     "name": "stdout",
     "output_type": "stream",
     "text": [
      "Helicopter\n"
     ]
    },
    {
     "name": "stderr",
     "output_type": "stream",
     "text": [
      "Processing Class Pairs:  45%|████▍     | 31/69 [47:41<07:34, 11.96s/it]"
     ]
    },
    {
     "name": "stdout",
     "output_type": "stream",
     "text": [
      "House\n"
     ]
    },
    {
     "name": "stderr",
     "output_type": "stream",
     "text": [
      "Processing Class Pairs:  46%|████▋     | 32/69 [47:52<07:13, 11.71s/it]"
     ]
    },
    {
     "name": "stdout",
     "output_type": "stream",
     "text": [
      "HumanHead\n"
     ]
    },
    {
     "name": "stderr",
     "output_type": "stream",
     "text": [
      "Processing Class Pairs:  48%|████▊     | 33/69 [48:03<06:52, 11.46s/it]"
     ]
    },
    {
     "name": "stdout",
     "output_type": "stream",
     "text": [
      "Humanoid\n"
     ]
    },
    {
     "name": "stderr",
     "output_type": "stream",
     "text": [
      "Processing Class Pairs:  49%|████▉     | 34/69 [48:14<06:41, 11.47s/it]"
     ]
    },
    {
     "name": "stdout",
     "output_type": "stream",
     "text": [
      "Insect\n"
     ]
    },
    {
     "name": "stderr",
     "output_type": "stream",
     "text": [
      "Processing Class Pairs:  51%|█████     | 35/69 [48:26<06:27, 11.39s/it]"
     ]
    },
    {
     "name": "stdout",
     "output_type": "stream",
     "text": [
      "Jet\n"
     ]
    },
    {
     "name": "stderr",
     "output_type": "stream",
     "text": [
      "Processing Class Pairs:  52%|█████▏    | 36/69 [48:37<06:11, 11.25s/it]"
     ]
    },
    {
     "name": "stdout",
     "output_type": "stream",
     "text": [
      "Knife\n"
     ]
    },
    {
     "name": "stderr",
     "output_type": "stream",
     "text": [
      "Processing Class Pairs:  54%|█████▎    | 37/69 [48:48<06:03, 11.37s/it]"
     ]
    },
    {
     "name": "stdout",
     "output_type": "stream",
     "text": [
      "MilitaryVehicle\n"
     ]
    },
    {
     "name": "stderr",
     "output_type": "stream",
     "text": [
      "Processing Class Pairs:  55%|█████▌    | 38/69 [48:59<05:51, 11.33s/it]"
     ]
    },
    {
     "name": "stdout",
     "output_type": "stream",
     "text": [
      "Monitor\n"
     ]
    },
    {
     "name": "stderr",
     "output_type": "stream",
     "text": [
      "Processing Class Pairs:  57%|█████▋    | 39/69 [49:11<05:41, 11.37s/it]"
     ]
    },
    {
     "name": "stdout",
     "output_type": "stream",
     "text": [
      "Monoplane\n"
     ]
    },
    {
     "name": "stderr",
     "output_type": "stream",
     "text": [
      "Processing Class Pairs:  58%|█████▊    | 40/69 [49:24<05:41, 11.79s/it]"
     ]
    },
    {
     "name": "stdout",
     "output_type": "stream",
     "text": [
      "Motorcycle\n"
     ]
    },
    {
     "name": "stderr",
     "output_type": "stream",
     "text": [
      "Processing Class Pairs:  59%|█████▉    | 41/69 [49:36<05:35, 11.98s/it]"
     ]
    },
    {
     "name": "stdout",
     "output_type": "stream",
     "text": [
      "Mug\n"
     ]
    },
    {
     "name": "stderr",
     "output_type": "stream",
     "text": [
      "Processing Class Pairs:  61%|██████    | 42/69 [49:47<05:16, 11.72s/it]"
     ]
    },
    {
     "name": "stdout",
     "output_type": "stream",
     "text": [
      "MultiSeat\n"
     ]
    },
    {
     "name": "stderr",
     "output_type": "stream",
     "text": [
      "Processing Class Pairs:  62%|██████▏   | 43/69 [50:00<05:09, 11.92s/it]"
     ]
    },
    {
     "name": "stdout",
     "output_type": "stream",
     "text": [
      "Musical_Instrument\n"
     ]
    },
    {
     "name": "stderr",
     "output_type": "stream",
     "text": [
      "Processing Class Pairs:  64%|██████▍   | 44/69 [50:12<05:01, 12.07s/it]"
     ]
    },
    {
     "name": "stdout",
     "output_type": "stream",
     "text": [
      "NonWheelChair\n"
     ]
    },
    {
     "name": "stderr",
     "output_type": "stream",
     "text": [
      "Processing Class Pairs:  65%|██████▌   | 45/69 [50:24<04:50, 12.11s/it]"
     ]
    },
    {
     "name": "stdout",
     "output_type": "stream",
     "text": [
      "PianoBoard\n"
     ]
    },
    {
     "name": "stderr",
     "output_type": "stream",
     "text": [
      "Processing Class Pairs:  67%|██████▋   | 46/69 [50:37<04:40, 12.21s/it]"
     ]
    },
    {
     "name": "stdout",
     "output_type": "stream",
     "text": [
      "PlantIndoors\n"
     ]
    },
    {
     "name": "stderr",
     "output_type": "stream",
     "text": [
      "Processing Class Pairs:  68%|██████▊   | 47/69 [50:48<04:24, 12.04s/it]"
     ]
    },
    {
     "name": "stdout",
     "output_type": "stream",
     "text": [
      "PlantWildNonTree\n"
     ]
    },
    {
     "name": "stderr",
     "output_type": "stream",
     "text": [
      "Processing Class Pairs:  70%|██████▉   | 48/69 [51:02<04:24, 12.60s/it]"
     ]
    },
    {
     "name": "stdout",
     "output_type": "stream",
     "text": [
      "Quadruped\n"
     ]
    },
    {
     "name": "stderr",
     "output_type": "stream",
     "text": [
      "Processing Class Pairs:  71%|███████   | 49/69 [51:15<04:11, 12.58s/it]"
     ]
    },
    {
     "name": "stdout",
     "output_type": "stream",
     "text": [
      "RectangleTable\n"
     ]
    },
    {
     "name": "stderr",
     "output_type": "stream",
     "text": [
      "Processing Class Pairs:  72%|███████▏  | 50/69 [51:27<03:54, 12.35s/it]"
     ]
    },
    {
     "name": "stdout",
     "output_type": "stream",
     "text": [
      "Rocket\n"
     ]
    },
    {
     "name": "stderr",
     "output_type": "stream",
     "text": [
      "Processing Class Pairs:  74%|███████▍  | 51/69 [51:39<03:43, 12.44s/it]"
     ]
    },
    {
     "name": "stdout",
     "output_type": "stream",
     "text": [
      "RoundTable\n"
     ]
    },
    {
     "name": "stderr",
     "output_type": "stream",
     "text": [
      "Processing Class Pairs:  75%|███████▌  | 52/69 [51:51<03:30, 12.36s/it]"
     ]
    },
    {
     "name": "stdout",
     "output_type": "stream",
     "text": [
      "Shelf\n"
     ]
    },
    {
     "name": "stderr",
     "output_type": "stream",
     "text": [
      "Processing Class Pairs:  77%|███████▋  | 53/69 [52:04<03:20, 12.54s/it]"
     ]
    },
    {
     "name": "stdout",
     "output_type": "stream",
     "text": [
      "Ship\n"
     ]
    },
    {
     "name": "stderr",
     "output_type": "stream",
     "text": [
      "Processing Class Pairs:  78%|███████▊  | 54/69 [52:16<03:04, 12.30s/it]"
     ]
    },
    {
     "name": "stdout",
     "output_type": "stream",
     "text": [
      "Sign\n"
     ]
    },
    {
     "name": "stderr",
     "output_type": "stream",
     "text": [
      "Processing Class Pairs:  80%|███████▉  | 55/69 [52:28<02:49, 12.08s/it]"
     ]
    },
    {
     "name": "stdout",
     "output_type": "stream",
     "text": [
      "Skyscraper\n"
     ]
    },
    {
     "name": "stderr",
     "output_type": "stream",
     "text": [
      "Processing Class Pairs:  81%|████████  | 56/69 [52:40<02:39, 12.25s/it]"
     ]
    },
    {
     "name": "stdout",
     "output_type": "stream",
     "text": [
      "Spoon\n"
     ]
    },
    {
     "name": "stderr",
     "output_type": "stream",
     "text": [
      "Processing Class Pairs:  83%|████████▎ | 57/69 [52:53<02:27, 12.26s/it]"
     ]
    },
    {
     "name": "stdout",
     "output_type": "stream",
     "text": [
      "Starship\n"
     ]
    },
    {
     "name": "stderr",
     "output_type": "stream",
     "text": [
      "Processing Class Pairs:  84%|████████▍ | 58/69 [53:05<02:13, 12.18s/it]"
     ]
    },
    {
     "name": "stdout",
     "output_type": "stream",
     "text": [
      "SubmachineGun\n"
     ]
    },
    {
     "name": "stderr",
     "output_type": "stream",
     "text": [
      "Processing Class Pairs:  86%|████████▌ | 59/69 [53:18<02:04, 12.50s/it]"
     ]
    },
    {
     "name": "stdout",
     "output_type": "stream",
     "text": [
      "Sword\n"
     ]
    },
    {
     "name": "stderr",
     "output_type": "stream",
     "text": [
      "Processing Class Pairs:  87%|████████▋ | 60/69 [53:31<01:53, 12.58s/it]"
     ]
    },
    {
     "name": "stdout",
     "output_type": "stream",
     "text": [
      "Tool\n"
     ]
    },
    {
     "name": "stderr",
     "output_type": "stream",
     "text": [
      "Processing Class Pairs:  88%|████████▊ | 61/69 [53:43<01:40, 12.51s/it]"
     ]
    },
    {
     "name": "stdout",
     "output_type": "stream",
     "text": [
      "Train\n"
     ]
    },
    {
     "name": "stderr",
     "output_type": "stream",
     "text": [
      "Processing Class Pairs:  90%|████████▉ | 62/69 [53:55<01:26, 12.32s/it]"
     ]
    },
    {
     "name": "stdout",
     "output_type": "stream",
     "text": [
      "Tree\n"
     ]
    },
    {
     "name": "stderr",
     "output_type": "stream",
     "text": [
      "Processing Class Pairs:  91%|█████████▏| 63/69 [54:07<01:13, 12.24s/it]"
     ]
    },
    {
     "name": "stdout",
     "output_type": "stream",
     "text": [
      "Truck\n"
     ]
    },
    {
     "name": "stderr",
     "output_type": "stream",
     "text": [
      "Processing Class Pairs:  93%|█████████▎| 64/69 [54:19<01:00, 12.16s/it]"
     ]
    },
    {
     "name": "stdout",
     "output_type": "stream",
     "text": [
      "TruckNonContainer\n"
     ]
    },
    {
     "name": "stderr",
     "output_type": "stream",
     "text": [
      "Processing Class Pairs:  94%|█████████▍| 65/69 [54:31<00:48, 12.22s/it]"
     ]
    },
    {
     "name": "stdout",
     "output_type": "stream",
     "text": [
      "Vase\n"
     ]
    },
    {
     "name": "stderr",
     "output_type": "stream",
     "text": [
      "Processing Class Pairs:  96%|█████████▌| 66/69 [54:43<00:36, 12.12s/it]"
     ]
    },
    {
     "name": "stdout",
     "output_type": "stream",
     "text": [
      "Violin\n"
     ]
    },
    {
     "name": "stderr",
     "output_type": "stream",
     "text": [
      "Processing Class Pairs:  97%|█████████▋| 67/69 [54:55<00:24, 12.08s/it]"
     ]
    },
    {
     "name": "stdout",
     "output_type": "stream",
     "text": [
      "Wheel\n"
     ]
    },
    {
     "name": "stderr",
     "output_type": "stream",
     "text": [
      "Processing Class Pairs:  99%|█████████▊| 68/69 [55:07<00:12, 12.11s/it]"
     ]
    },
    {
     "name": "stdout",
     "output_type": "stream",
     "text": [
      "WheelChair\n"
     ]
    },
    {
     "name": "stderr",
     "output_type": "stream",
     "text": [
      "Processing Class Pairs: 100%|██████████| 69/69 [55:20<00:00, 48.12s/it]"
     ]
    },
    {
     "name": "stdout",
     "output_type": "stream",
     "text": [
      "<bound method NDFrame.head of                    AircraftBuoyant  Apartment  AquaticAnimal        Bed  \\\n",
      "AircraftBuoyant           7.794111  11.213063      11.561963  15.063545   \n",
      "Apartment                11.213063   8.281840      14.771581  10.917488   \n",
      "AquaticAnimal            11.561963  14.771581       5.483063  19.355979   \n",
      "Bed                      15.063545  10.917488      19.355979   6.395035   \n",
      "Bicycle                   9.473267  10.717883       7.285025  13.519353   \n",
      "...                            ...        ...            ...        ...   \n",
      "TruckNonContainer         9.824815   8.291582      12.597998  11.506554   \n",
      "Vase                     10.120806   8.936402      14.285610  11.104505   \n",
      "Violin                   12.854780  16.712522       7.055217  21.293788   \n",
      "Wheel                     9.708364   9.432001      14.691267  10.966097   \n",
      "WheelChair                8.494251   8.558955       9.114453  11.406267   \n",
      "\n",
      "                     Bicycle    Biplane       Bird    Bookset     Bottle  \\\n",
      "AircraftBuoyant     9.473267   9.458107  10.325726  14.795388   8.337859   \n",
      "Apartment          10.717883  11.216662  12.784789  11.541870  11.491189   \n",
      "AquaticAnimal       7.285025   7.163944   6.742195  20.405176   9.241311   \n",
      "Bed                13.519353  15.253725  17.242618  15.317663  15.386828   \n",
      "Bicycle            -0.118838   3.046345   5.165153  16.035365   7.995078   \n",
      "...                      ...        ...        ...        ...        ...   \n",
      "TruckNonContainer   7.515443   8.953555  10.862117  11.335069   9.081323   \n",
      "Vase                9.895172  10.758735  12.182643  12.599653  11.063727   \n",
      "Violin              9.374812   9.674724   8.766385  21.930267  10.165923   \n",
      "Wheel               9.408059  10.498592  12.306422  12.705517  10.271423   \n",
      "WheelChair          4.255508   3.720646   5.879129  13.698071   7.847275   \n",
      "\n",
      "                   BuildingNonResidential  ...      Sword       Tool  \\\n",
      "AircraftBuoyant                 11.978750  ...  27.665473  14.705113   \n",
      "Apartment                       10.024201  ...  30.891729  16.479686   \n",
      "AquaticAnimal                   13.951396  ...  20.175831   9.507087   \n",
      "Bed                             11.629500  ...  34.202194  19.349138   \n",
      "Bicycle                          9.700022  ...  22.524971   8.206372   \n",
      "...                                   ...  ...        ...        ...   \n",
      "TruckNonContainer                9.725333  ...  29.390967  14.241034   \n",
      "Vase                             9.593730  ...  30.240164  16.402083   \n",
      "Violin                          16.938298  ...  18.340928   8.371056   \n",
      "Wheel                           10.449344  ...  30.779107  16.361225   \n",
      "WheelChair                       7.763777  ...  24.806447  11.747498   \n",
      "\n",
      "                       Train       Tree      Truck  TruckNonContainer  \\\n",
      "AircraftBuoyant    14.161978  12.141061  11.985912           9.824815   \n",
      "Apartment          16.034930  13.454826  12.026217           8.291582   \n",
      "AquaticAnimal      12.326059   9.941544  12.313215          12.597998   \n",
      "Bed                19.852330  17.320969  15.571807          11.506554   \n",
      "Bicycle            11.047088   6.837449   9.572134           7.515443   \n",
      "...                      ...        ...        ...                ...   \n",
      "TruckNonContainer  13.572493  11.942975   9.063265           4.836242   \n",
      "Vase               15.870736  12.650665  12.557680           8.971846   \n",
      "Violin             12.779375  12.451179  12.794282          14.389499   \n",
      "Wheel              15.730256  13.175208  12.052478           8.212788   \n",
      "WheelChair         11.844159   6.582098  10.361314           7.051562   \n",
      "\n",
      "                        Vase     Violin      Wheel  WheelChair  \n",
      "AircraftBuoyant    10.120806  12.854780   9.708364    8.494251  \n",
      "Apartment           8.936402  16.712522   9.432001    8.558955  \n",
      "AquaticAnimal      14.285610   7.055217  14.691267    9.114453  \n",
      "Bed                11.104505  21.293788  10.966097   11.406267  \n",
      "Bicycle             9.895172   9.374812   9.408059    4.255508  \n",
      "...                      ...        ...        ...         ...  \n",
      "TruckNonContainer   8.971846  14.389499   8.212788    7.051562  \n",
      "Vase                7.095662  16.644383   8.520379    7.551890  \n",
      "Violin             16.644383   4.330343  16.561307   12.279611  \n",
      "Wheel               8.520379  16.561307   6.983127    7.832391  \n",
      "WheelChair          7.551890  12.279611   7.832391    0.764085  \n",
      "\n",
      "[69 rows x 69 columns]>\n",
      "<bound method NDFrame.head of                    AircraftBuoyant  Apartment  AquaticAnimal       Bed  \\\n",
      "AircraftBuoyant           2.110659   3.583177       3.283950  3.734892   \n",
      "Apartment                 3.583177   2.967979       4.570866  2.949336   \n",
      "AquaticAnimal             3.283950   4.570866       2.823628  4.433812   \n",
      "Bed                       3.734892   2.949336       4.433812  1.719440   \n",
      "Bicycle                   2.869464   3.713247       2.235071  3.379790   \n",
      "...                            ...        ...            ...       ...   \n",
      "TruckNonContainer         3.373811   2.993519       4.149697  3.463647   \n",
      "Vase                      3.087584   3.326932       3.845449  3.139548   \n",
      "Violin                    2.184557   3.580057       2.468739  3.614154   \n",
      "Wheel                     2.628213   3.262314       3.669078  3.453033   \n",
      "WheelChair                2.581047   3.302660       2.224360  3.040085   \n",
      "\n",
      "                    Bicycle   Biplane      Bird   Bookset    Bottle  \\\n",
      "AircraftBuoyant    2.869464  2.738782  2.552759  5.833437  2.271399   \n",
      "Apartment          3.713248  3.592699  3.613968  5.051514  3.516418   \n",
      "AquaticAnimal      2.235071  2.156267  2.097358  7.372269  3.267483   \n",
      "Bed                3.379790  3.363760  3.403461  5.486448  3.636265   \n",
      "Bicycle            0.401291  0.543676  0.838808  6.732854  2.842499   \n",
      "...                     ...       ...       ...       ...       ...   \n",
      "TruckNonContainer  3.263134  3.083344  3.182123  4.924934  3.283235   \n",
      "Vase               2.910395  2.799589  2.832190  5.656747  3.172027   \n",
      "Violin             2.010096  1.912279  1.762251  6.335639  1.967314   \n",
      "Wheel              2.920478  2.763530  2.735301  5.460799  2.615458   \n",
      "WheelChair         0.772960  0.688085  0.983976  6.299639  2.546629   \n",
      "\n",
      "                   BuildingNonResidential  ...     Sword      Tool     Train  \\\n",
      "AircraftBuoyant                  3.536649  ...  3.085290  2.523721  2.899593   \n",
      "Apartment                        3.188880  ...  4.191226  3.520473  3.643006   \n",
      "AquaticAnimal                    3.909263  ...  2.757471  2.242582  3.236970   \n",
      "Bed                              2.807464  ...  3.982758  3.106175  3.804742   \n",
      "Bicycle                          2.768219  ...  1.590333  1.304462  2.405601   \n",
      "...                                   ...  ...       ...       ...       ...   \n",
      "TruckNonContainer                3.125285  ...  3.780049  3.241166  3.092687   \n",
      "Vase                             3.140290  ...  3.480964  2.869172  3.269479   \n",
      "Violin                           3.235780  ...  2.136041  1.669473  2.328985   \n",
      "Wheel                            3.293125  ...  3.350569  2.794329  2.952947   \n",
      "WheelChair                       2.481178  ...  1.804695  1.313736  2.186821   \n",
      "\n",
      "                       Tree     Truck  TruckNonContainer      Vase    Violin  \\\n",
      "AircraftBuoyant    3.643612  3.475205           3.373811  3.087584  2.184557   \n",
      "Apartment          4.375596  3.599161           2.993519  3.326932  3.580057   \n",
      "AquaticAnimal      3.214861  4.350957           4.149697  3.845449  2.468739   \n",
      "Bed                4.045495  3.872441           3.463647  3.139548  3.614154   \n",
      "Bicycle            1.632658  3.671863           3.263134  2.910395  2.010096   \n",
      "...                     ...       ...                ...       ...       ...   \n",
      "TruckNonContainer  3.968601  3.155035           2.246078  3.228557  3.182292   \n",
      "Vase               3.651509  3.704530           3.228557  2.907620  3.068738   \n",
      "Violin             2.892579  3.244730           3.182292  3.068738  1.274762   \n",
      "Wheel              3.674518  3.368610           3.003998  2.938411  2.687840   \n",
      "WheelChair         1.751198  3.346519           2.853914  2.529727  1.919180   \n",
      "\n",
      "                      Wheel  WheelChair  \n",
      "AircraftBuoyant    2.628213    2.581047  \n",
      "Apartment          3.262314    3.302660  \n",
      "AquaticAnimal      3.669077    2.224360  \n",
      "Bed                3.453033    3.040085  \n",
      "Bicycle            2.920478    0.772960  \n",
      "...                     ...         ...  \n",
      "TruckNonContainer  3.003998    2.853914  \n",
      "Vase               2.938411    2.529727  \n",
      "Violin             2.687840    1.919180  \n",
      "Wheel              2.478892    2.544301  \n",
      "WheelChair         2.544301    0.518019  \n",
      "\n",
      "[69 rows x 69 columns]>\n"
     ]
    },
    {
     "name": "stderr",
     "output_type": "stream",
     "text": [
      "\n"
     ]
    }
   ],
   "source": [
    "\n",
    "# Step 1: Get the unique classes\n",
    "unique_classes = df['Class'].unique()\n",
    "\n",
    "# Step 2: Create a DataFrame to store the average distances between each class pair\n",
    "\n",
    "def get_average_classwise_distances(distances,limit):\n",
    "    average_distances = pd.DataFrame(index=unique_classes, columns=unique_classes)\n",
    "\n",
    "    i=0\n",
    "    # Step 3: Calculate the average distance for each class pair\n",
    "\n",
    "    for class1 in tqdm(unique_classes, desc=f\"Processing Class Pairs\"):\n",
    "        print(class1)\n",
    "        for class2 in unique_classes:\n",
    "            \n",
    "            # Get the indices of objects in each class\n",
    "            indices_class1 = np.array(df[df['Class'] == class1].index)\n",
    "            indices_class2 = np.array(df[df['Class'] == class2].index)\n",
    "            \n",
    "            # Extract distances between objects in class1 and class2\n",
    "            ixgrid = np.ix_(indices_class1, indices_class2)\n",
    "            mean_distance = np.mean(distances[\"dist\"][ixgrid])\n",
    "            # Store the mean distance in the matrix\n",
    "            average_distances.loc[class1, class2] = mean_distance\n",
    "            i+=1\n",
    "            if(limit!=None and i>limit):\n",
    "                return average_distances.astype(float)\n",
    "\n",
    "    # Step 4: Convert the DataFrame to float (in case of NaNs) for plotting\n",
    "    average_distances = average_distances.astype(float)\n",
    "    return average_distances\n",
    "\n",
    "average_distances_custom = get_average_classwise_distances(distances,limit=None)\n",
    "average_distances_custom.to_csv(\"average_distances_custom.csv\")\n",
    "\n",
    "\n",
    "average_distances_ann = get_average_classwise_distances(distances_ann,limit=None)\n",
    "average_distances_ann.to_csv(\"average_distances_ann.csv\")\n",
    "\n",
    "print(average_distances_custom.head)\n",
    "print(average_distances_ann.head)"
   ]
  },
  {
   "cell_type": "code",
   "execution_count": null,
   "metadata": {},
   "outputs": [],
   "source": []
  },
  {
   "cell_type": "code",
   "execution_count": 56,
   "metadata": {},
   "outputs": [
    {
     "data": {
      "text/plain": [
       "(69, 69)"
      ]
     },
     "execution_count": 56,
     "metadata": {},
     "output_type": "execute_result"
    }
   ],
   "source": [
    "average_distances_custom.shape"
   ]
  },
  {
   "cell_type": "code",
   "execution_count": 59,
   "metadata": {},
   "outputs": [
    {
     "data": {
      "image/png": "[encoded data removed]",
      "text/plain": [
       "<Figure size 2000x1600 with 2 Axes>"
      ]
     },
     "metadata": {},
     "output_type": "display_data"
    }
   ],
   "source": [
    "\n",
    "# Step 5: Plot the confusion matrix for average distances\n",
    "plt.figure(figsize=(20, 16))\n",
    "sns.heatmap(average_distances_custom, square=True,annot=False, cmap=\"YlGnBu\", fmt=\".2f\",cbar_kws={'format': '%.0f'})\n",
    "plt.title(\"Average Distance Between Classes\")\n",
    "plt.xlabel(\"Class\")\n",
    "plt.ylabel(\"Class\")\n",
    "plt.show()"
   ]
  },
  {
   "cell_type": "code",
   "execution_count": 77,
   "metadata": {},
   "outputs": [
    {
     "name": "stdout",
     "output_type": "stream",
     "text": [
      "['AquaticAnimal', 'Humanoid', 'Fish', 'Sword', 'Bus', 'Train', 'Car', 'Biplane', 'Insect']\n"
     ]
    },
    {
     "data": {
      "image/png": "[encoded data removed]",
      "text/plain": [
       "<Figure size 1000x800 with 2 Axes>"
      ]
     },
     "metadata": {},
     "output_type": "display_data"
    }
   ],
   "source": [
    "# Step 5: Plot the confusion matrix for average distances\n",
    "plt.figure(figsize=(10, 8))\n",
    "\n",
    "selected_classes = [\"AquaticAnimal\",\"Humanoid\",\"Fish\",\"Sword\",\"Bus\",\"Train\",\"Car\",\"Biplane\",\"Insect\"]  # replace with the actual class names you want to include\n",
    "\n",
    "print(selected_classes)\n",
    "# Step 2: Create a DataFrame to store the average distances between each selected class pair\n",
    "subset_df = average_distances_custom.loc[selected_classes, selected_classes]\n",
    "sns.heatmap(subset_df, square=True,annot=False, cmap=\"YlGnBu\", fmt=\".2f\",cbar_kws={'format': '%.0f'})\n",
    "plt.title(\"Average Distance Between Classes\")\n",
    "plt.xlabel(\"Class\")\n",
    "plt.ylabel(\"Class\")\n",
    "plt.show()"
   ]
  }
 ],
 "metadata": {
  "kernelspec": {
   "display_name": "infomr",
   "language": "python",
   "name": "python3"
  },
  "language_info": {
   "codemirror_mode": {
    "name": "ipython",
    "version": 3
   },
   "file_extension": ".py",
   "mimetype": "text/x-python",
   "name": "python",
   "nbconvert_exporter": "python",
   "pygments_lexer": "ipython3",
   "version": "3.8.19"
  }
 },
 "nbformat": 4,
 "nbformat_minor": 2
}
