{
 "cells": [
  {
   "cell_type": "markdown",
   "metadata": {},
   "source": [
    "<h1>Evaluation</h1>\n",
    "<h2>Notes</h2>\n",
    "\n",
    "Evaluate Queries based on Class/Distances\n",
    "\n",
    "Different metrics\n",
    "1) Truth Table -> How many of class c are returned given query size s. Incooperate distance measure as confidence metric. \n",
    "2) Mean Average Precision\n",
    "3) Last Rank -> Last True Positive\n",
    "4) ROC-Curve ANN system vs custom system (compare different distance metrics) - AUROC - invariant to query size\n",
    "5) Confusion Matrix of Class Search -> weighed by inverse distance\n",
    "\n",
    "Ideas: Measure inter-class distance according to our metric\n",
    "\n"
   ]
  },
  {
   "cell_type": "code",
   "execution_count": 2,
   "metadata": {},
   "outputs": [],
   "source": [
    "import pandas as pd\n",
    "from retrieval import RetrievalEngine\n",
    "import numpy as np\n",
    "\n",
    "ret = RetrievalEngine()\n",
    "df_meta = ret.metadata\n",
    "\n",
    "custom_dist = np.load(\"custom_distances.npz\")['dist']\n",
    "ann_dist = np.load(\"ann_distances.npz\")['dist']"
   ]
  },
  {
   "cell_type": "code",
   "execution_count": 3,
   "metadata": {},
   "outputs": [
    {
     "data": {
      "text/plain": [
       "((2419, 2419), (2419, 2419))"
      ]
     },
     "execution_count": 3,
     "metadata": {},
     "output_type": "execute_result"
    }
   ],
   "source": [
    "custom_dist.shape, ann_dist.shape"
   ]
  },
  {
   "cell_type": "code",
   "execution_count": 4,
   "metadata": {},
   "outputs": [],
   "source": [
    "# argsort by dist for each x\n",
    "# take top s (or all for auc roc)\n",
    "# argsort to label (binary for metrics, multilabel for aucroc)\n",
    "# Group by class (calculate per class)\n",
    "# Calculate metrics\n"
   ]
  },
  {
   "cell_type": "code",
   "execution_count": 127,
   "metadata": {},
   "outputs": [
    {
     "data": {
      "text/plain": [
       "(np.int64(2402), np.int64(2), np.int64(13), np.int64(2))"
      ]
     },
     "execution_count": 127,
     "metadata": {},
     "output_type": "execute_result"
    }
   ],
   "source": [
    "from sklearn.metrics import confusion_matrix\n",
    "from sklearn.preprocessing import LabelEncoder\n",
    "\n",
    "D = custom_dist.shape[0]\n",
    "\n",
    "def conf_matrix(query, label, k, c):\n",
    "    s = k\n",
    "    y_pred = (query[:s] == label).to_numpy(dtype=int)\n",
    "    tp = sum(y_pred)\n",
    "    fp = s - tp\n",
    "    fn = c - tp\n",
    "    tn = D - s - fn\n",
    "    return tn, fp, fn, tp\n",
    "\n",
    "class_counts = ret.metadata['class'].value_counts()\n",
    "c_dict = class_counts.to_dict()\n",
    "conf_matrix(ret.metadata['class'].iloc[custom_dist.argsort()[0]], ret.metadata['class'].iloc[0], k=4, c=c_dict[ret.metadata['class'].iloc[0]])\n",
    "# .iloc[custom_dist.argsort()[0]]\n",
    "\n"
   ]
  },
  {
   "cell_type": "code",
   "execution_count": 128,
   "metadata": {},
   "outputs": [],
   "source": [
    "# FN + TN = d - s\n",
    "# tn = d - s - fn"
   ]
  },
  {
   "cell_type": "code",
   "execution_count": 178,
   "metadata": {},
   "outputs": [],
   "source": [
    "df_dist = pd.DataFrame(custom_dist)\n",
    "df_dist['class'] = df_meta['class']\n",
    "df_grouped_dist = df_dist.groupby('class')"
   ]
  },
  {
   "cell_type": "code",
   "execution_count": 212,
   "metadata": {},
   "outputs": [
    {
     "name": "stderr",
     "output_type": "stream",
     "text": [
      "/tmp/ipykernel_4148/1426962747.py:15: DeprecationWarning: DataFrameGroupBy.apply operated on the grouping columns. This behavior is deprecated, and in a future version of pandas the grouping columns will be excluded from the operation. Either pass `include_groups=False` to exclude the groupings or explicitly select the grouping columns after groupby to silence this warning.\n",
      "  df_conf_matrix_per_class = df_grouped_dist.apply(apply_conf_matrix, k=k)\n"
     ]
    },
    {
     "data": {
      "text/html": [
       "<div>\n",
       "<style scoped>\n",
       "    .dataframe tbody tr th:only-of-type {\n",
       "        vertical-align: middle;\n",
       "    }\n",
       "\n",
       "    .dataframe tbody tr th {\n",
       "        vertical-align: top;\n",
       "    }\n",
       "\n",
       "    .dataframe thead th {\n",
       "        text-align: right;\n",
       "    }\n",
       "</style>\n",
       "<table border=\"1\" class=\"dataframe\">\n",
       "  <thead>\n",
       "    <tr style=\"text-align: right;\">\n",
       "      <th></th>\n",
       "      <th>tn</th>\n",
       "      <th>fp</th>\n",
       "      <th>fn</th>\n",
       "      <th>tp</th>\n",
       "    </tr>\n",
       "    <tr>\n",
       "      <th>class</th>\n",
       "      <th></th>\n",
       "      <th></th>\n",
       "      <th></th>\n",
       "      <th></th>\n",
       "    </tr>\n",
       "  </thead>\n",
       "  <tbody>\n",
       "    <tr>\n",
       "      <th>AircraftBuoyant</th>\n",
       "      <td>35934</td>\n",
       "      <td>126</td>\n",
       "      <td>201</td>\n",
       "      <td>24</td>\n",
       "    </tr>\n",
       "    <tr>\n",
       "      <th>Apartment</th>\n",
       "      <td>54918</td>\n",
       "      <td>190</td>\n",
       "      <td>489</td>\n",
       "      <td>40</td>\n",
       "    </tr>\n",
       "    <tr>\n",
       "      <th>AquaticAnimal</th>\n",
       "      <td>69084</td>\n",
       "      <td>226</td>\n",
       "      <td>777</td>\n",
       "      <td>64</td>\n",
       "    </tr>\n",
       "    <tr>\n",
       "      <th>Bed</th>\n",
       "      <td>64408</td>\n",
       "      <td>176</td>\n",
       "      <td>635</td>\n",
       "      <td>94</td>\n",
       "    </tr>\n",
       "    <tr>\n",
       "      <th>Bicycle</th>\n",
       "      <td>62143</td>\n",
       "      <td>75</td>\n",
       "      <td>491</td>\n",
       "      <td>185</td>\n",
       "    </tr>\n",
       "    <tr>\n",
       "      <th>...</th>\n",
       "      <td>...</td>\n",
       "      <td>...</td>\n",
       "      <td>...</td>\n",
       "      <td>...</td>\n",
       "    </tr>\n",
       "    <tr>\n",
       "      <th>TruckNonContainer</th>\n",
       "      <td>38320</td>\n",
       "      <td>128</td>\n",
       "      <td>224</td>\n",
       "      <td>32</td>\n",
       "    </tr>\n",
       "    <tr>\n",
       "      <th>Vase</th>\n",
       "      <td>45446</td>\n",
       "      <td>154</td>\n",
       "      <td>325</td>\n",
       "      <td>36</td>\n",
       "    </tr>\n",
       "    <tr>\n",
       "      <th>Violin</th>\n",
       "      <td>45451</td>\n",
       "      <td>149</td>\n",
       "      <td>320</td>\n",
       "      <td>41</td>\n",
       "    </tr>\n",
       "    <tr>\n",
       "      <th>Wheel</th>\n",
       "      <td>38317</td>\n",
       "      <td>131</td>\n",
       "      <td>227</td>\n",
       "      <td>29</td>\n",
       "    </tr>\n",
       "    <tr>\n",
       "      <th>WheelChair</th>\n",
       "      <td>47843</td>\n",
       "      <td>137</td>\n",
       "      <td>337</td>\n",
       "      <td>63</td>\n",
       "    </tr>\n",
       "  </tbody>\n",
       "</table>\n",
       "<p>69 rows × 4 columns</p>\n",
       "</div>"
      ],
      "text/plain": [
       "                      tn   fp   fn   tp\n",
       "class                                  \n",
       "AircraftBuoyant    35934  126  201   24\n",
       "Apartment          54918  190  489   40\n",
       "AquaticAnimal      69084  226  777   64\n",
       "Bed                64408  176  635   94\n",
       "Bicycle            62143   75  491  185\n",
       "...                  ...  ...  ...  ...\n",
       "TruckNonContainer  38320  128  224   32\n",
       "Vase               45446  154  325   36\n",
       "Violin             45451  149  320   41\n",
       "Wheel              38317  131  227   29\n",
       "WheelChair         47843  137  337   63\n",
       "\n",
       "[69 rows x 4 columns]"
      ]
     },
     "execution_count": 212,
     "metadata": {},
     "output_type": "execute_result"
    }
   ],
   "source": [
    "def apply_conf_matrix(group, k=8):\n",
    "\n",
    "    label = group['class'].iloc[0]\n",
    "\n",
    "    conf_matrices = np.zeros(4, dtype=int)\n",
    "\n",
    "    for idx_query in group.drop('class', axis=1).to_numpy().argsort():\n",
    "        query = df_meta.loc[idx_query, 'class']\n",
    "\n",
    "        conf_matrices += conf_matrix(query, label, k, c_dict[label])\n",
    "\n",
    "    tn, fp, fn, tp = conf_matrices\n",
    "    return pd.Series({\"tn\":tn, \"fp\":fp, \"fn\":fn, \"tp\":tp})\n",
    "k=10\n",
    "df_conf_matrix_per_class = df_grouped_dist.apply(apply_conf_matrix, k=k)\n",
    "df_conf_matrix_per_class"
   ]
  },
  {
   "cell_type": "code",
   "execution_count": 221,
   "metadata": {},
   "outputs": [],
   "source": [
    "df_conf_matrix_per_class.loc['All Classes'] = df_conf_matrix_per_class.sum(axis=0)\n",
    "\n"
   ]
  },
  {
   "cell_type": "code",
   "execution_count": 222,
   "metadata": {},
   "outputs": [],
   "source": [
    "tn = df_conf_matrix_per_class['tn']\n",
    "fp = df_conf_matrix_per_class['fp']\n",
    "fn = df_conf_matrix_per_class['fn']\n",
    "tp = df_conf_matrix_per_class['tp']\n",
    "df_conf_matrix_per_class[f'precision@{k}'] = tp / (tp + fp)\n",
    "df_conf_matrix_per_class[f'recall@{k}'] = tp / (tp + fn)\n",
    "df_conf_matrix_per_class[f'accuracy@{k}'] = (tp + tn) / (tp + tn + fp + fn)\n"
   ]
  },
  {
   "cell_type": "code",
   "execution_count": 224,
   "metadata": {},
   "outputs": [
    {
     "data": {
      "text/plain": [
       "tn              5.710264e+06\n",
       "fp              1.542800e+04\n",
       "fn              1.171070e+05\n",
       "tp              8.762000e+03\n",
       "precision@10    3.622158e-01\n",
       "recall@10       6.961206e-02\n",
       "accuracy@10     9.773505e-01\n",
       "Name: All Classes, dtype: float64"
      ]
     },
     "execution_count": 224,
     "metadata": {},
     "output_type": "execute_result"
    }
   ],
   "source": [
    "df_conf_matrix_per_class.loc['All Classes']"
   ]
  },
  {
   "cell_type": "code",
   "execution_count": 223,
   "metadata": {},
   "outputs": [
    {
     "data": {
      "text/plain": [
       "<Axes: ylabel='Count'>"
      ]
     },
     "execution_count": 223,
     "metadata": {},
     "output_type": "execute_result"
    },
    {
     "data": {
      "image/png": "[encoded data removed]",
      "text/plain": [
       "<Figure size 640x480 with 1 Axes>"
      ]
     },
     "metadata": {},
     "output_type": "display_data"
    }
   ],
   "source": [
    "import seaborn as sns\n",
    "sns.histplot(df_conf_matrix_per_class[[f'precision@{k}', f'recall@{k}']],)\n",
    "# df_conf_matrix_per_class.plot(y=[f'precision@{k}', f'recall@{k}'], kind='hist')\n"
   ]
  },
  {
   "cell_type": "code",
   "execution_count": 141,
   "metadata": {},
   "outputs": [],
   "source": [
    "conf_matrices = np.zeros((D, 4), dtype=int)\n",
    "k = 8\n",
    "for i, idx_query in enumerate(ann_dist.argsort()):\n",
    "    label = ret.metadata.loc[i, 'class']\n",
    "    query = ret.metadata.loc[idx_query, 'class']\n",
    "    conf_matrices[i] = conf_matrix(query, label, k, c_dict[label])\n"
   ]
  },
  {
   "cell_type": "code",
   "execution_count": 142,
   "metadata": {},
   "outputs": [
    {
     "name": "stdout",
     "output_type": "stream",
     "text": [
      "tn=np.int64(5713532)fp=np.int64(12160)fn=np.int64(118677)tp=np.int64(7192)\n"
     ]
    },
    {
     "data": {
      "text/plain": [
       "{'precision': np.float64(0.37164117403885905),\n",
       " 'recall': np.float64(0.057138771262185285),\n",
       " 'accuracy': np.float64(0.9776406671655649)}"
      ]
     },
     "execution_count": 142,
     "metadata": {},
     "output_type": "execute_result"
    }
   ],
   "source": [
    "tn, fp, fn, tp = conf_matrices.sum(axis=0)\n",
    "print(f\"{tn=}{fp=}{fn=}{tp=}\")\n",
    "{'precision': tp / (tp + fp), 'recall': tp / (tp + fn), 'accuracy': (tp + tn) / (tp + tn + fp + fn), }"
   ]
  },
  {
   "cell_type": "code",
   "execution_count": 140,
   "metadata": {},
   "outputs": [
    {
     "data": {
      "text/plain": [
       "{'Jet': 143,\n",
       " 'Humanoid': 141,\n",
       " 'Car': 89,\n",
       " 'Insect': 66,\n",
       " 'PlantIndoors': 65,\n",
       " 'RectangleTable': 62,\n",
       " 'Ship': 61,\n",
       " 'NonWheelChair': 60,\n",
       " 'Gun': 58,\n",
       " 'Quadruped': 56,\n",
       " 'Sword': 52,\n",
       " 'Helicopter': 51,\n",
       " 'HumanHead': 50,\n",
       " 'Tree': 47,\n",
       " 'MultiSeat': 45,\n",
       " 'Door': 44,\n",
       " 'Biplane': 44,\n",
       " 'House': 44,\n",
       " 'Shelf': 43,\n",
       " 'BuildingNonResidential': 43,\n",
       " 'Bird': 43,\n",
       " 'Tool': 42,\n",
       " 'Chess': 42,\n",
       " 'Hand': 37,\n",
       " 'RoundTable': 37,\n",
       " 'Computer': 32,\n",
       " 'DeskLamp': 31,\n",
       " 'Starship': 30,\n",
       " 'AquaticAnimal': 29,\n",
       " 'Bottle': 29,\n",
       " 'Cup': 28,\n",
       " 'Train': 28,\n",
       " 'Bed': 27,\n",
       " 'PlantWildNonTree': 27,\n",
       " 'Mug': 26,\n",
       " 'Bicycle': 26,\n",
       " 'FloorLamp': 26,\n",
       " 'Motorcycle': 26,\n",
       " 'Truck': 25,\n",
       " 'Knife': 24,\n",
       " 'Apartment': 23,\n",
       " 'City': 23,\n",
       " 'Musical_Instrument': 21,\n",
       " 'WheelChair': 20,\n",
       " 'Spoon': 20,\n",
       " 'Guitar': 20,\n",
       " 'Fish': 20,\n",
       " 'Cellphone': 20,\n",
       " 'Monitor': 20,\n",
       " 'Monoplane': 20,\n",
       " 'Rocket': 20,\n",
       " 'MilitaryVehicle': 20,\n",
       " 'Glasses': 20,\n",
       " 'Skyscraper': 20,\n",
       " 'DeskPhone': 19,\n",
       " 'Violin': 19,\n",
       " 'Vase': 19,\n",
       " 'SubmachineGun': 19,\n",
       " 'Drum': 18,\n",
       " 'ComputerKeyboard': 18,\n",
       " 'Bookset': 18,\n",
       " 'Bus': 17,\n",
       " 'TruckNonContainer': 16,\n",
       " 'Wheel': 16,\n",
       " 'ClassicPiano': 16,\n",
       " 'AircraftBuoyant': 15,\n",
       " 'PianoBoard': 15,\n",
       " 'Hat': 14,\n",
       " 'Sign': 14}"
      ]
     },
     "execution_count": 140,
     "metadata": {},
     "output_type": "execute_result"
    }
   ],
   "source": [
    "c_dict"
   ]
  }
 ],
 "metadata": {
  "kernelspec": {
   "display_name": "MMR2",
   "language": "python",
   "name": "python3"
  },
  "language_info": {
   "codemirror_mode": {
    "name": "ipython",
    "version": 3
   },
   "file_extension": ".py",
   "mimetype": "text/x-python",
   "name": "python",
   "nbconvert_exporter": "python",
   "pygments_lexer": "ipython3",
   "version": "3.12.6"
  }
 },
 "nbformat": 4,
 "nbformat_minor": 2
}
