{
 "cells": [
  {
   "cell_type": "code",
   "execution_count": 5,
   "metadata": {},
   "outputs": [],
   "source": [
    "from vedo import Mesh, Box, Sphere, ConvexHull\n",
    "import numpy as np\n",
    "from normalize import get_eigenvectors, normalize_shape, get_center_of_mass"
   ]
  },
  {
   "cell_type": "code",
   "execution_count": 2,
   "metadata": {},
   "outputs": [],
   "source": [
    "boxMesh = normalize_shape(Box(width=1,height=1,length=1).c(\"Black\").wireframe(True))\n",
    "sphereMesh = normalize_shape(Sphere(r=1, res=24, quads=False, c='red', alpha=1.0))\n",
    "train = normalize_shape(Mesh(\"..\\shapes\\Train\\D01014.obj\"))\n",
    "head = normalize_shape(Mesh(\"..\\shapes\\HumanHead\\D00131.obj\"))\n",
    "insect = normalize_shape(Mesh(\"..\\shapes\\Insect\\D00117.obj\"))"
   ]
  },
  {
   "cell_type": "code",
   "execution_count": 35,
   "metadata": {},
   "outputs": [
    {
     "name": "stdout",
     "output_type": "stream",
     "text": [
      "Box: {'area': 5.999999999999999, 'volume': 0.9999999999999998, 'rectangularity': 0.9999999999999998, 'compactness': 1.9098593171027443, 'convexity': 0.9999999999999999, 'eccentricity': 1.0, 'diameter': 1.7141985, 'diameterPts': [array([-0.5    , -0.5    ,  0.46875], dtype=float32), array([ 0.5,  0.5, -0.5], dtype=float32)], 'distributions': {'D1': [0.6472598492877494, 0.5238454566950066, 0.6651186454310238, 0.5804429881564597, 0.7967217989988726]}}\n",
      "Sphere: {'area': 3.129927031288924, 'volume': 0.5197064952684004, 'rectangularity': 0.5220186312322498, 'compactness': 1.003769454935396, 'convexity': 1.0000005774020442, 'eccentricity': 1.3790304044682122, 'diameter': 1.0000213, 'diameterPts': [array([-0.33692843, -0.17435771,  0.32250434], dtype=float32), array([ 0.34121367,  0.18079716, -0.32094803], dtype=float32)], 'distributions': {'D1': [0.5008254146487465, 0.5024030272266699, 0.5020949107671122, 0.4990960615008485, 0.4955016217063941]}}\n",
      "Train: {'area': 1.6415112709170454, 'volume': 0.0018958465076216041, 'rectangularity': 0.17491942844758854, 'compactness': 10881.102160954546, 'convexity': 0.2429049507448904, 'eccentricity': 177.84985703399357, 'diameter': 1.0065458, 'diameterPts': [array([0.4989126 , 0.03831008, 0.01787698], dtype=float32), array([-0.5005618 , -0.06512953, -0.04116119], dtype=float32)], 'distributions': {'D1': [0.1206854909008334, 0.3400845978252334, 0.13919645806678496, 0.3562709108705532, 0.35868163815448023]}}\n",
      "Head: {'area': 6.3066272063383755, 'volume': 0.709182088067722, 'rectangularity': 1.1993297876739817, 'compactness': 4.409847696841724, 'convexity': 2.524600715466747, 'eccentricity': 2.1050816045042606, 'diameter': 1.0336375, 'diameterPts': [array([ 0.32907018, -0.3418837 ,  0.00103895], dtype=float32), array([-0.4482839 ,  0.33925033,  0.01458542], dtype=float32)], 'distributions': {'D1': [0.45986003688830884, 0.48336749763986375, 0.4190775554416884, 0.5364183614627807, 0.4423381719817373]}}\n",
      "Insect: {'area': 1.3553148228807401, 'volume': 0.02223723097246043, 'rectangularity': 0.05437405149050833, 'compactness': 44.515040931619495, 'convexity': 0.1236014247301785, 'eccentricity': 4.623813104306394, 'diameter': 1.0385526, 'diameterPts': [array([-0.4882605 ,  0.09039912,  0.09376214], dtype=float32), array([ 0.50885266, -0.186895  ,  0.00736286], dtype=float32)], 'distributions': {'D1': [0.17267198468243555, 0.18141582969351652, 0.19461191386133317, 0.16666410659966277, 0.2940889039533044]}}\n"
     ]
    }
   ],
   "source": [
    "def extract_features(mesh:Mesh):\n",
    "    cvx = ConvexHull(mesh.vertices)\n",
    "    diameterRet = get_diameter(mesh,cvx)\n",
    "    mesh.fill_holes()\n",
    "    mesh.triangulate()\n",
    "    ret = {\n",
    "        \"area\":mesh.area(),\n",
    "        \"volume\":mesh.volume(),\n",
    "        \"rectangularity\":get_rectangularity(mesh),\n",
    "        \"compactness\":get_compactness(mesh),\n",
    "        \"convexity\": get_convexity(mesh,cvx),\n",
    "        \"eccentricity\":get_eccentricity(mesh),\n",
    "        \"diameter\":diameterRet[0],\n",
    "        \"diameterPts\":diameterRet[1],\n",
    "        \"distributions\":get_distributions(mesh)\n",
    "    }\n",
    "    return ret\n",
    "\n",
    "def get_surface_area(mesh:Mesh):\n",
    "    #area = sqrt(fabs(s * (s - a) * (s - b) * (s - c)));\n",
    "    return mesh.area()\n",
    "\n",
    "def get_rectangularity(mesh:Mesh):\n",
    "    #How close is the shape (post normalisation to its oriented bounding box)\n",
    "    # (shape volume divided by OBB volume)\n",
    "    bbox = mesh.bounds()\n",
    "    Dx = np.abs(bbox[0] - bbox[1])  \n",
    "    Dy = np.abs(bbox[2] - bbox[3])  \n",
    "    Dz = np.abs(bbox[4] - bbox[5])  \n",
    "    obbVol = Dx*Dy*Dz\n",
    "    rectangularity = mesh.volume()/obbVol\n",
    "    return rectangularity\n",
    "\n",
    "def get_compactness(mesh:Mesh):\n",
    "    #How close is the shape to a sphere\n",
    "    return mesh.area()**3/(36*np.pi*(mesh.volume()**2))\n",
    "\n",
    "def get_convexity(mesh:Mesh,cvx:ConvexHull):\n",
    "    #(shape volume divided by convex hull volume)\n",
    "    convexity = mesh.volume()/cvx.volume()\n",
    "    return convexity\n",
    "\n",
    "\n",
    "def get_diameter(mesh:Mesh,cvx:ConvexHull,k=500):\n",
    "    maxD = 0\n",
    "    maxP = [None,None]\n",
    "    if(len(cvx.vertices)<k):\n",
    "        subs=cvx.vertices\n",
    "    else:\n",
    "        subs = cvx.vertices[np.random.choice(cvx.vertices.shape[0], k, replace=False)]\n",
    "    for v1 in subs:\n",
    "        for v2 in cvx.vertices:\n",
    "            d = np.linalg.norm(v1-v2)\n",
    "            if d>maxD:\n",
    "                maxD=d\n",
    "                maxP = [v1,v2]\n",
    "    return maxD,maxP        \n",
    "        \n",
    "        \n",
    "\n",
    "def get_eccentricity(mesh:Mesh):\n",
    "    #ratio of largest to smallest eigenvalues of covariance matrix\n",
    "    _,eigval = get_eigenvectors(mesh)\n",
    "    mineig = min(eigval)\n",
    "    maxeig = max(eigval)\n",
    "    return np.abs(maxeig)/np.abs(mineig)\n",
    "\n",
    "\n",
    "def get_distributions(mesh:Mesh, show=True):\n",
    "    com = get_center_of_mass(mesh)\n",
    "    subsample1= mesh.vertices[np.random.choice(mesh.vertices.shape[0], 5, replace=False), :]\n",
    " \n",
    "    D1 = calc_D1(com,subsample1)\n",
    "\n",
    "    distributions = {\n",
    "        \"D1\":D1\n",
    "    }\n",
    "    return distributions\n",
    "\n",
    "\n",
    "#Calculate distance between the center and a random subset, returns list of euclidian distances\n",
    "def calc_D1(center, subs):\n",
    "    ret = []\n",
    "    for pt in subs:\n",
    "        ret.append(np.linalg.norm(pt - center))\n",
    "    return ret\n",
    "    \n",
    "print(\"Box:\",extract_features(boxMesh))\n",
    "print(\"Sphere:\",extract_features(sphereMesh))\n",
    "print(\"Train:\",extract_features(train))\n",
    "print(\"Head:\",extract_features(head))\n",
    "print(\"Insect:\",extract_features(insect))\n",
    "    "
   ]
  },
  {
   "cell_type": "markdown",
   "metadata": {},
   "source": [
    "Difficult Calculations\n",
    "Area - Positive vs Negative (RIght hand rule, counterclockwise orientation = positive, thumb away from screen)\n",
    "    Solution 1) Ignore sign -> Problem Concave Shapes have \"negative\" areas -> Areas are overstimated\n",
    "    Same applies for volume\n",
    "    Solution 2) Incooperate Sign -> Allow negative areas, concavities are incooperated. Problem: consistent orientation along boundary\n",
    "    FOr VOlumes check orientation of triangles. -> Get Consistently oriented triangles.\n",
    "\n",
    "HOle Filling:\n",
    "Every Edge is shared by two triangles. If an edge has a single edge -> it is a boundary. If you have a boundary loop -> fill. \n"
   ]
  },
  {
   "cell_type": "code",
   "execution_count": 25,
   "metadata": {},
   "outputs": [
    {
     "name": "stdout",
     "output_type": "stream",
     "text": [
      "5161\n",
      "1809\n"
     ]
    }
   ],
   "source": [
    "print(len(head.vertices))\n",
    "chull = ConvexHull(head.vertices)\n",
    "print(len(chull.vertices))"
   ]
  }
 ],
 "metadata": {
  "kernelspec": {
   "display_name": "infomr",
   "language": "python",
   "name": "python3"
  },
  "language_info": {
   "codemirror_mode": {
    "name": "ipython",
    "version": 3
   },
   "file_extension": ".py",
   "mimetype": "text/x-python",
   "name": "python",
   "nbconvert_exporter": "python",
   "pygments_lexer": "ipython3",
   "version": "3.8.19"
  }
 },
 "nbformat": 4,
 "nbformat_minor": 2
}
